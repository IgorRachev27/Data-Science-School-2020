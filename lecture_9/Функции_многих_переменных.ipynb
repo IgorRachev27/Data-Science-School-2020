{
  "nbformat": 4,
  "nbformat_minor": 0,
  "metadata": {
    "colab": {
      "name": "Функции многих переменных.ipynb",
      "provenance": [],
      "collapsed_sections": []
    },
    "kernelspec": {
      "name": "python3",
      "display_name": "Python 3"
    }
  },
  "cells": [
    {
      "cell_type": "markdown",
      "metadata": {
        "id": "2CyYtt7kWBye"
      },
      "source": [
        "Ноутбук в колаб: https://colab.research.google.com/drive/1DPkaLTq_NeVSsT8WQAVitzkwL1jg7T6S?usp=sharing"
      ]
    },
    {
      "cell_type": "markdown",
      "metadata": {
        "id": "jlGrcMhHhA-y"
      },
      "source": [
        "В программных реализациях можно думать о векторе как о наборе (списке) скалярных значений. Мы называем эти значения элементами (сущности или компонентами) вектора. Вектор обозначается $\\bf{x}$ или $\\vec{x}$\n",
        "\n",
        "$$\\begin{align}\n",
        "    \\vec{x} &= \\begin{bmatrix}\n",
        "           x_{1} \\\\\n",
        "           x_{2} \\\\\n",
        "           \\vdots \\\\\n",
        "           x_{n}\n",
        "         \\end{bmatrix}\n",
        "  \\end{align}$$\n",
        "\n",
        "Вектор можно представить как точку в пространстве. В двух или трех измерениях мы можем визуализировать эти точки, по сравнению с фиксированной ссылкой, называемой началом координат.\n",
        "\n",
        "Мы можем не только думать о векторе $\\mathbf{v} = [2,3]^\\top$ как о местоположении 2 единицы вправо и на 3 единицы вверх от начала координат, мы также можем думать о нем как о направлении, по которому нужно сделать 2 шага вправо и 3 шага вверх. Таким образом, мы рассматриваем все векторы на рисунке:\n"
      ]
    },
    {
      "cell_type": "code",
      "metadata": {
        "id": "-soxKEPwTSxP",
        "colab": {
          "base_uri": "https://localhost:8080/",
          "height": 351
        },
        "outputId": "5016671b-35e0-4ed0-9fea-3aa72b3e999b"
      },
      "source": [
        "import matplotlib.pyplot as plt\n",
        "import numpy as np\n",
        "import math\n",
        "\n",
        "# размер графика\n",
        "plt.figure(figsize=(5, 5))\n",
        "# координата начала\n",
        "a = [0, 0]\n",
        "# координата конца\n",
        "b = [2.0, 3.0]\n",
        "\n",
        "# смещение по х и по y\n",
        "dx = b[0] - a[0]\n",
        "dy = b[1] - a[1]\n",
        "\n",
        "# вектор\n",
        "vec = [dx,dy]\n",
        "print(vec)\n",
        "# длина вектора\n",
        "length = math.sqrt(dx**2+dy**2)\n",
        "\n",
        "# разделим на длину\n",
        "dx = dx / length\n",
        "dy = dy / length\n",
        "# создадим оси\n",
        "ax = plt.axes()\n",
        "# вычитаем из длины длину головки стрелки\n",
        "length -= 0.7\n",
        "# отобразим саму стрелку\n",
        "ax.arrow(a[0], a[1], length*dx, length*dy, head_width=0.5, head_length=0.7, fc='lightblue', ec='black')\n",
        "# создадим точки\n",
        "plt.scatter(a[0],a[1], color='black')\n",
        "plt.scatter(b[0],b[1], color='black')\n",
        "# аннотации точки А, B\n",
        "ax.annotate('A', (a[0]-0.4,a[1]),fontsize=14)\n",
        "ax.annotate('B', (b[0]+0.3,b[1]),fontsize=14)\n",
        "# создадим сетку\n",
        "plt.grid()\n",
        "# ограничим границы отображения по х у на -5.5 - 5.5\n",
        "plt.xlim(-5.5,5.5)\n",
        "plt.ylim(-5.5,5.5)\n",
        "# добавим подпись\n",
        "plt.title('Вектор',fontsize=10)\n",
        "plt.show()"
      ],
      "execution_count": null,
      "outputs": [
        {
          "output_type": "stream",
          "text": [
            "[2.0, 3.0]\n"
          ],
          "name": "stdout"
        },
        {
          "output_type": "display_data",
          "data": {
            "image/png": "[encoded data removed]",
            "text/plain": [
              "<Figure size 360x360 with 1 Axes>"
            ]
          },
          "metadata": {
            "tags": [],
            "needs_background": "light"
          }
        }
      ]
    },
    {
      "cell_type": "code",
      "metadata": {
        "id": "Z5CAfv6BV0fK",
        "colab": {
          "base_uri": "https://localhost:8080/",
          "height": 334
        },
        "outputId": "43010777-9d9b-4001-de5f-b8b2fc2b2b27"
      },
      "source": [
        "import matplotlib.pyplot as plt\n",
        "import numpy as np\n",
        "\n",
        "# задаем точки начала координат\n",
        "X = np.array((0))\n",
        "Y= np.array((0))\n",
        "# и направление векторов\n",
        "U = np.array((2))\n",
        "V = np.array((3))\n",
        "# размер графика\n",
        "fig, ax = plt.subplots(figsize=(5, 5))\n",
        "# создаем ветор\n",
        "ax.quiver(X, Y, U, V,units='xy' ,scale=1)\n",
        "# сетка\n",
        "plt.grid()\n",
        "# настраиваем отображение\n",
        "ax.set_aspect('equal')\n",
        "plt.xlim(-5,5)\n",
        "plt.ylim(-5,5)\n",
        "plt.title('Отображение по нормальному',fontsize=10)\n",
        "plt.show()"
      ],
      "execution_count": null,
      "outputs": [
        {
          "output_type": "display_data",
          "data": {
            "image/png": "[encoded data removed]",
            "text/plain": [
              "<Figure size 360x360 with 1 Axes>"
            ]
          },
          "metadata": {
            "tags": [],
            "needs_background": "light"
          }
        }
      ]
    },
    {
      "cell_type": "code",
      "metadata": {
        "id": "m3n_tDmfaEqv",
        "colab": {
          "base_uri": "https://localhost:8080/",
          "height": 334
        },
        "outputId": "b0c4abe3-2296-4f7e-d839-e659292bd2af"
      },
      "source": [
        "import matplotlib.pyplot as plt\n",
        "import numpy as np\n",
        "\n",
        "# задаем точки начала координат\n",
        "X = np.array((0, 2))\n",
        "Y= np.array((0, 4))\n",
        "# и направление векторов\n",
        "U = np.array((2, -2))\n",
        "V = np.array((3, 0))\n",
        "# размер графика\n",
        "fig, ax = plt.subplots(figsize=(5, 5))\n",
        "# создаем ветор\n",
        "ax.quiver(X, Y, U, V,units='xy' ,scale=1)\n",
        "# сетка\n",
        "plt.grid()\n",
        "# настраиваем отображение\n",
        "ax.set_aspect('equal')\n",
        "plt.xlim(-5,5)\n",
        "plt.ylim(-5,5)\n",
        "plt.title('Отображение по нормальному',fontsize=10)\n",
        "plt.show()"
      ],
      "execution_count": null,
      "outputs": [
        {
          "output_type": "display_data",
          "data": {
            "image/png": "[encoded data removed]",
            "text/plain": [
              "<Figure size 360x360 with 1 Axes>"
            ]
          },
          "metadata": {
            "tags": [],
            "needs_background": "light"
          }
        }
      ]
    },
    {
      "cell_type": "markdown",
      "metadata": {
        "id": "3bZYhfJExP-y"
      },
      "source": [
        "### Линейная комбинация\n",
        "\n",
        "Если вектора (заданные в некотором поле, например, $\\mathbb{R}^{2}$) могут быть представлены в виде $a\\vec{v} + b\\vec{w}$, где $a, b$ - некоторые скаляры, то их называют линейной комбинацией."
      ]
    },
    {
      "cell_type": "code",
      "metadata": {
        "id": "Kf5Cp_NdtiVO",
        "colab": {
          "base_uri": "https://localhost:8080/",
          "height": 334
        },
        "outputId": "a16b67a2-2122-4a42-8909-148a8573f1a4"
      },
      "source": [
        "import matplotlib.pyplot as plt\n",
        "import numpy as np\n",
        "\n",
        "# задаем точки начала координат\n",
        "X = np.array((0, 0, 1, 2, 2, 2))\n",
        "Y= np.array((0, 0, 0, 0, 1, 2))\n",
        "# и направление векторов\n",
        "U = np.array((2, 1, 1, 0, 0, 0))\n",
        "V = np.array((3, 0, 0, 1, 1, 1))\n",
        "# размер графика\n",
        "fig, ax = plt.subplots(figsize=(5, 5))\n",
        "# создаем ветор\n",
        "ax.quiver(X, Y, U, V,units='xy' ,scale=1)\n",
        "# сетка\n",
        "plt.grid()\n",
        "# настраиваем отображение\n",
        "ax.set_aspect('equal')\n",
        "plt.xlim(-5,5)\n",
        "plt.ylim(-5,5)\n",
        "plt.title('[2, 3] = 2i + 3j',fontsize=10)\n",
        "plt.show()"
      ],
      "execution_count": null,
      "outputs": [
        {
          "output_type": "display_data",
          "data": {
            "image/png": "[encoded data removed]",
            "text/plain": [
              "<Figure size 360x360 with 1 Axes>"
            ]
          },
          "metadata": {
            "tags": [],
            "needs_background": "light"
          }
        }
      ]
    },
    {
      "cell_type": "markdown",
      "metadata": {
        "id": "ANbqqfIKy4-D"
      },
      "source": [
        "где $i, j$ - единичные базисные векторы"
      ]
    },
    {
      "cell_type": "markdown",
      "metadata": {
        "id": "gpLGyDq5zT3E"
      },
      "source": [
        "### Линейная оболочка\n",
        "\n",
        "Линейная оболочка - множество всех векторов, которые можно получить данной линейной комбинацией\n",
        "\n",
        "Пусть заданы векторы [1, 1], [2, 2], тогда их линейная оболочка будет линией:"
      ]
    },
    {
      "cell_type": "code",
      "metadata": {
        "id": "LwC0x3npyjqd",
        "colab": {
          "base_uri": "https://localhost:8080/",
          "height": 281
        },
        "outputId": "0c93aac0-3670-46f6-e9e1-db1ad8857da5"
      },
      "source": [
        "import matplotlib.pyplot as plt\n",
        "plt.plot([0, 1, 2, 3, 4])\n",
        "plt.title('линейная оболочка')\n",
        "plt.show()"
      ],
      "execution_count": null,
      "outputs": [
        {
          "output_type": "display_data",
          "data": {
            "image/png": "[encoded data removed]",
            "text/plain": [
              "<Figure size 432x288 with 1 Axes>"
            ]
          },
          "metadata": {
            "tags": [],
            "needs_background": "light"
          }
        }
      ]
    },
    {
      "cell_type": "markdown",
      "metadata": {
        "id": "dNmsRTlVCnVJ"
      },
      "source": [
        "\n",
        "### Базис\n",
        "\n",
        "Базис - множество линейно независимых веткоров, которые покрывают все пространство"
      ]
    },
    {
      "cell_type": "markdown",
      "metadata": {
        "id": "WcrPe2YIG7uX"
      },
      "source": [
        "### Скалярное произвдеение и угол между векторами:\n",
        "\n",
        "Углом $\\varphi$  между двумя ненулевыми векторами евклидова пространства (в частности, евклидовой плоскости) называется число, косинус которого равен отношению скалярного произведения этих векторов к произведению их длин (норм):\n",
        "\n",
        "$$\\cos\\varphi = \\frac{(a, b)}{|a||b|}$$"
      ]
    },
    {
      "cell_type": "code",
      "metadata": {
        "id": "7Y9S8aNNHayf",
        "colab": {
          "base_uri": "https://localhost:8080/",
          "height": 324
        },
        "outputId": "705c3ce6-6edc-4743-8a6a-5fa1a0c7043c"
      },
      "source": [
        "import matplotlib.pyplot as plt\n",
        "import numpy as np\n",
        "\n",
        "# задаем точки начала координат\n",
        "X = np.array((0, 0))\n",
        "Y= np.array((0, 0))\n",
        "# и направление векторов\n",
        "U = np.array((2, 2))\n",
        "V = np.array((2, 0))\n",
        "# размер графика\n",
        "fig, ax = plt.subplots(figsize=(5, 5))\n",
        "# создаем ветор\n",
        "ax.quiver(X, Y, U, V,units='xy' ,scale=1)\n",
        "# сетка\n",
        "plt.grid()\n",
        "# настраиваем отображение\n",
        "ax.set_aspect('equal')\n",
        "plt.xlim(-2,5)\n",
        "plt.ylim(-2,5)\n",
        "plt.show()"
      ],
      "execution_count": null,
      "outputs": [
        {
          "output_type": "display_data",
          "data": {
            "image/png": "[encoded data removed]",
            "text/plain": [
              "<Figure size 360x360 with 1 Axes>"
            ]
          },
          "metadata": {
            "tags": [],
            "needs_background": "light"
          }
        }
      ]
    },
    {
      "cell_type": "code",
      "metadata": {
        "id": "-B6A5xHXH8E3",
        "colab": {
          "base_uri": "https://localhost:8080/"
        },
        "outputId": "c00bada3-37f8-49ad-ab76-c43683d9cf3d"
      },
      "source": [
        "np.dot([2, 2], [2, 0])"
      ],
      "execution_count": null,
      "outputs": [
        {
          "output_type": "execute_result",
          "data": {
            "text/plain": [
              "4"
            ]
          },
          "metadata": {
            "tags": []
          },
          "execution_count": 5
        }
      ]
    },
    {
      "cell_type": "code",
      "metadata": {
        "id": "XbimQjn6IF0L",
        "colab": {
          "base_uri": "https://localhost:8080/"
        },
        "outputId": "149ff391-ccd4-4586-bb38-e438ed72505a"
      },
      "source": [
        "np.linalg.norm([2, 2])"
      ],
      "execution_count": null,
      "outputs": [
        {
          "output_type": "execute_result",
          "data": {
            "text/plain": [
              "2.8284271247461903"
            ]
          },
          "metadata": {
            "tags": []
          },
          "execution_count": 6
        }
      ]
    },
    {
      "cell_type": "code",
      "metadata": {
        "id": "9RrladdKITwq",
        "colab": {
          "base_uri": "https://localhost:8080/"
        },
        "outputId": "e2ae8482-bfaa-4423-ab37-c1bc0a535340"
      },
      "source": [
        "np.linalg.norm([2, 0])"
      ],
      "execution_count": null,
      "outputs": [
        {
          "output_type": "execute_result",
          "data": {
            "text/plain": [
              "2.0"
            ]
          },
          "metadata": {
            "tags": []
          },
          "execution_count": 7
        }
      ]
    },
    {
      "cell_type": "code",
      "metadata": {
        "id": "GCWyOuZBIXtF",
        "colab": {
          "base_uri": "https://localhost:8080/"
        },
        "outputId": "b63bada1-d36b-45b0-c9a7-012db9c12bf4"
      },
      "source": [
        "np.arccos(np.dot([2, 2], [2, 0]) / (np.linalg.norm([2, 2]) * np.linalg.norm([2, 0])))"
      ],
      "execution_count": null,
      "outputs": [
        {
          "output_type": "execute_result",
          "data": {
            "text/plain": [
              "0.7853981633974484"
            ]
          },
          "metadata": {
            "tags": []
          },
          "execution_count": 8
        }
      ]
    },
    {
      "cell_type": "code",
      "metadata": {
        "id": "4le0qFnkJxpV",
        "colab": {
          "base_uri": "https://localhost:8080/"
        },
        "outputId": "21576a5f-a3c0-46e2-b36f-bc8b154df1aa"
      },
      "source": [
        "np.degrees(np.arccos(np.dot([2, 2], [2, 0]) / (np.linalg.norm([2, 2]) * np.linalg.norm([2, 0]))))"
      ],
      "execution_count": null,
      "outputs": [
        {
          "output_type": "execute_result",
          "data": {
            "text/plain": [
              "45.00000000000001"
            ]
          },
          "metadata": {
            "tags": []
          },
          "execution_count": 9
        }
      ]
    },
    {
      "cell_type": "markdown",
      "metadata": {
        "id": "KjWjnTXZKNMk"
      },
      "source": [
        "### Нормаль\n",
        "\n",
        "Вектор нормали прямой перпендикулярен данной прямой. Очевидно, что у любой прямой их бесконечно много (так же, как и направляющих векторов).\n",
        "\n",
        "Если прямая задана общим уравнением $Ax + By +c = 0$ в прямоугольной системе координат, то вектор $(A, B)$ является вектором нормали данной прямой."
      ]
    },
    {
      "cell_type": "code",
      "metadata": {
        "id": "PnYH6BiIM4y5",
        "colab": {
          "base_uri": "https://localhost:8080/",
          "height": 324
        },
        "outputId": "5c545205-67f8-4331-f5a9-0f0441fa4635"
      },
      "source": [
        "import matplotlib.pyplot as plt\n",
        "import numpy as np\n",
        "\n",
        "# задаем точки начала координат\n",
        "X = np.array((0))\n",
        "Y= np.array((0))\n",
        "# и направление векторов\n",
        "U = np.array((-2))\n",
        "V = np.array((1))\n",
        "# размер графика\n",
        "fig, ax = plt.subplots(figsize=(5, 5))\n",
        "# создаем ветор\n",
        "ax.quiver(X, Y, U, V,units='xy' ,scale=1)\n",
        "# сетка\n",
        "plt.grid()\n",
        "# настраиваем отображение\n",
        "ax.set_aspect('equal')\n",
        "plt.xlim(-3,5)\n",
        "plt.ylim(-3,5)\n",
        "plt.show()"
      ],
      "execution_count": null,
      "outputs": [
        {
          "output_type": "display_data",
          "data": {
            "image/png": "[encoded data removed]",
            "text/plain": [
              "<Figure size 360x360 with 1 Axes>"
            ]
          },
          "metadata": {
            "tags": [],
            "needs_background": "light"
          }
        }
      ]
    },
    {
      "cell_type": "code",
      "metadata": {
        "id": "7fPMR9d-NEUG",
        "colab": {
          "base_uri": "https://localhost:8080/"
        },
        "outputId": "75873fe7-18d8-403d-b673-d1d395043b27"
      },
      "source": [
        "np.array([[-1, 2], [3, -1]])"
      ],
      "execution_count": null,
      "outputs": [
        {
          "output_type": "execute_result",
          "data": {
            "text/plain": [
              "array([[-1,  2],\n",
              "       [ 3, -1]])"
            ]
          },
          "metadata": {
            "tags": []
          },
          "execution_count": 11
        }
      ]
    },
    {
      "cell_type": "code",
      "metadata": {
        "id": "RksfvSqKNXiD",
        "colab": {
          "base_uri": "https://localhost:8080/"
        },
        "outputId": "c5fca9f3-d4d7-4304-e471-7a2564e9f20b"
      },
      "source": [
        "np.array([[-1, 2], [3, -1]]) @ np.array([-2, 1])"
      ],
      "execution_count": null,
      "outputs": [
        {
          "output_type": "execute_result",
          "data": {
            "text/plain": [
              "array([ 4, -7])"
            ]
          },
          "metadata": {
            "tags": []
          },
          "execution_count": 12
        }
      ]
    },
    {
      "cell_type": "code",
      "metadata": {
        "id": "FExo06WZOWgL",
        "colab": {
          "base_uri": "https://localhost:8080/",
          "height": 324
        },
        "outputId": "0a68e129-864b-409d-91da-7d57d6b4eca8"
      },
      "source": [
        "import matplotlib.pyplot as plt\n",
        "import numpy as np\n",
        "\n",
        "# задаем точки начала координат\n",
        "X = np.array((0, 0, 0))\n",
        "Y= np.array((0, 0, 0))\n",
        "# и направление векторов\n",
        "U = np.array((-2, 1, 0))\n",
        "V = np.array((1, 0, 1))*-0.5\n",
        "# размер графика\n",
        "fig, ax = plt.subplots(figsize=(5, 5))\n",
        "# создаем ветор\n",
        "ax.quiver(X, Y, U, V,units='xy' ,scale=1)\n",
        "# сетка\n",
        "plt.grid()\n",
        "# настраиваем отображение\n",
        "ax.set_aspect('equal')\n",
        "plt.xlim(-3,5)\n",
        "plt.ylim(-3,5)\n",
        "plt.show()"
      ],
      "execution_count": null,
      "outputs": [
        {
          "output_type": "display_data",
          "data": {
            "image/png": "[encoded data removed]",
            "text/plain": [
              "<Figure size 360x360 with 1 Axes>"
            ]
          },
          "metadata": {
            "tags": [],
            "needs_background": "light"
          }
        }
      ]
    },
    {
      "cell_type": "code",
      "metadata": {
        "id": "qCWKUEwZOnJM",
        "colab": {
          "base_uri": "https://localhost:8080/",
          "height": 320
        },
        "outputId": "98ccd3ea-ba24-44f8-8388-601bd8460a2b"
      },
      "source": [
        "import matplotlib.pyplot as plt\n",
        "import numpy as np\n",
        "\n",
        "# задаем точки начала координат\n",
        "X = np.array((0, 0, 0))\n",
        "Y= np.array((0, 0, 0))\n",
        "# и направление векторов\n",
        "U = np.array((4, -1, 2)) # Умножить\n",
        "V = np.array((-7, 3, -1))\n",
        "# размер графика\n",
        "fig, ax = plt.subplots(figsize=(5, 5))\n",
        "# создаем ветор\n",
        "ax.quiver(X, Y, U, V,units='xy' ,scale=1)\n",
        "# сетка\n",
        "plt.grid()\n",
        "# настраиваем отображение\n",
        "ax.set_aspect('equal')\n",
        "plt.xlim(-7,5)\n",
        "plt.ylim(-7,5)\n",
        "plt.show()"
      ],
      "execution_count": null,
      "outputs": [
        {
          "output_type": "display_data",
          "data": {
            "image/png": "[encoded data removed]",
            "text/plain": [
              "<Figure size 360x360 with 1 Axes>"
            ]
          },
          "metadata": {
            "tags": [],
            "needs_background": "light"
          }
        }
      ]
    },
    {
      "cell_type": "code",
      "metadata": {
        "id": "nI7_kT4tPLXh"
      },
      "source": [
        "# умножте и отобразите результат перемножения \n",
        "# [[0, -1] \n",
        "#  [1, 0]] на [3, -2]"
      ],
      "execution_count": null,
      "outputs": []
    },
    {
      "cell_type": "code",
      "metadata": {
        "id": "vophv-l8PKvf",
        "colab": {
          "base_uri": "https://localhost:8080/"
        },
        "outputId": "120e47aa-2cfd-4492-fae2-927375c05844"
      },
      "source": [
        "np.array([[0, -1], [1, 0]]) @ np.array([3, -2])"
      ],
      "execution_count": null,
      "outputs": [
        {
          "output_type": "execute_result",
          "data": {
            "text/plain": [
              "array([2, 3])"
            ]
          },
          "metadata": {
            "tags": []
          },
          "execution_count": 16
        }
      ]
    },
    {
      "cell_type": "markdown",
      "metadata": {
        "id": "QBgXOzjlgu9e"
      },
      "source": [
        "### Градиент"
      ]
    },
    {
      "cell_type": "markdown",
      "metadata": {
        "id": "RWH0RmUIcbMn"
      },
      "source": [
        "Из занятия по мат. анализу вспомним:\n",
        "\n",
        "$$\\lim_{\\Delta x \\to 0} \\frac{\\Delta y}{\\Delta x}$$\n",
        "\n",
        "производная функции в данной точке равна тангенсу угла между касательной к исходной кривой в данной точке и горизонтальной осью координат.\n",
        "\n",
        "Т.е. мы имеем универсальный вычислимый индикатор, который показывает как крутизну (или пологость) спуска, так и его направление в каждой из точек."
      ]
    },
    {
      "cell_type": "code",
      "metadata": {
        "id": "aJgIPraAhgsd",
        "colab": {
          "base_uri": "https://localhost:8080/",
          "height": 516
        },
        "outputId": "36dc28ca-d1f5-479a-c467-bc10ff2663a5"
      },
      "source": [
        "def f(x):\n",
        "    return 3 * x ** 2 - 4 * x\n",
        "    \n",
        "plt.figure(figsize = (10, 8))\n",
        "plt.title('f(x) = 3x^2−4x')\n",
        "\n",
        "x = np.arange(-2, 3, 0.1)\n",
        "\n",
        "plt.plot(f(x))"
      ],
      "execution_count": null,
      "outputs": [
        {
          "output_type": "execute_result",
          "data": {
            "text/plain": [
              "[<matplotlib.lines.Line2D at 0x7f8fddb52080>]"
            ]
          },
          "metadata": {
            "tags": []
          },
          "execution_count": 57
        },
        {
          "output_type": "display_data",
          "data": {
            "image/png": "[encoded data removed]",
            "text/plain": [
              "<Figure size 720x576 with 1 Axes>"
            ]
          },
          "metadata": {
            "tags": [],
            "needs_background": "light"
          }
        }
      ]
    },
    {
      "cell_type": "markdown",
      "metadata": {
        "id": "tFuwLIb2iTh8"
      },
      "source": [
        "Найдем касательную к нашей функции $f(x) = 3x^2 - 4x$\n",
        "\n",
        "На прошлом занятии мы определили, что уравнение касательной задано в виде:\n",
        "\n",
        "$y_k = y_0 + y'(x_0)(x-x_0)$\n",
        "\n",
        "Подставим его в точку $x_0 = 1$, тогда $y_0 = 3x^2 - 4x = 3(1)^2 - 4*1 = -1$\n",
        "\n",
        "Найдем производную $y'$\n",
        "\n",
        "$y' = 3*x^2 - 4x = 6x - 4$\n",
        "\n",
        "$f'(1) = 6*1 - 4 = 2$\n",
        "\n",
        "$y_k = y_0 + y'(x)(x-x_0)$\n",
        "\n",
        "$y_k = -1 + 2(x-1)$\n",
        "\n",
        "$y_k = 2x - 3$\n",
        "\n",
        "Теперь можно отобразить это на графике"
      ]
    },
    {
      "cell_type": "code",
      "metadata": {
        "id": "qXz8lC0YiUzq",
        "colab": {
          "base_uri": "https://localhost:8080/",
          "height": 497
        },
        "outputId": "942ec16b-8b17-4872-8580-1194c43e2938"
      },
      "source": [
        "from matplotlib.pyplot import figure\n",
        "\n",
        "def set_axes(axes, xlabel, ylabel, xlim, ylim, xscale, yscale, legend):\n",
        "    axes.set_xlabel(xlabel)\n",
        "    axes.set_ylabel(ylabel)\n",
        "    axes.set_xscale(xscale)\n",
        "    axes.set_yscale(yscale)\n",
        "    axes.set_xlim(xlim)\n",
        "    axes.set_ylim(ylim)\n",
        "    if legend:\n",
        "        axes.legend(legend)\n",
        "    axes.grid()\n",
        "\n",
        "def plot(X, Y=None, xlabel=None, ylabel=None, legend=None, xlim=None,\n",
        "         ylim=None, xscale='linear', yscale='linear',\n",
        "         fmts=('-', 'm--', 'g-.', 'r:'), figsize=(10, 8), axes=None):\n",
        "    \n",
        "    if legend is None:\n",
        "        legend = []\n",
        "    \n",
        "    figure(figsize = figsize)\n",
        "    axes = axes if axes else plt.gca()\n",
        "\n",
        "    def has_one_axis(X):\n",
        "        return (hasattr(X, \"ndim\") and X.ndim == 1 or isinstance(X, list)\n",
        "                and not hasattr(X[0], \"__len__\"))\n",
        "\n",
        "    if has_one_axis(X):\n",
        "        X = [X]\n",
        "    if Y is None:\n",
        "        X, Y = [[]] * len(X), X\n",
        "    elif has_one_axis(Y):\n",
        "        Y = [Y]\n",
        "    if len(X) != len(Y):\n",
        "        X = X * len(Y)\n",
        "    axes.cla()\n",
        "    for x, y, fmt in zip(X, Y, fmts):\n",
        "        if len(x):\n",
        "            axes.plot(x, y, fmt)\n",
        "        else:\n",
        "            axes.plot(y, fmt)\n",
        "    set_axes(axes, xlabel, ylabel, xlim, ylim, xscale, yscale, legend)\n",
        "\n",
        "x = np.arange(0, 3, 0.1)\n",
        "# 2 - тут тангенс угла наклона!\n",
        "# отправляем исходное множество точек и список из [результата функции в точках x и уравнение касательной] найденное выше\n",
        "plot(x, [f(x), 2 * x - 3], 'x', 'f(x)', legend=['f(x)', 'Касательная (x=1)'])"
      ],
      "execution_count": null,
      "outputs": [
        {
          "output_type": "display_data",
          "data": {
            "image/png": "[encoded data removed]",
            "text/plain": [
              "<Figure size 720x576 with 1 Axes>"
            ]
          },
          "metadata": {
            "tags": [],
            "needs_background": "light"
          }
        }
      ]
    },
    {
      "cell_type": "markdown",
      "metadata": {
        "id": "DhouydPgil3X"
      },
      "source": [
        "![wow](https://habrastorage.org/webt/hw/ff/po/hwffpoc-kjt3hujagqw2k2xw3xc.gif)"
      ]
    },
    {
      "cell_type": "markdown",
      "metadata": {
        "id": "jjNQHHZHZniI"
      },
      "source": [
        "Из занятия по матанализу:\n",
        "\n",
        "Таким образом, нам необходимо распространить идеи дифференцирования на эти многомерные функции. Пусть $y = f(x_1, x_2, \\ldots, x_n)$ - функция с $n$ переменными. Частная производная $y$ по параметру $i^\\mathrm{th}$ имеет вид\n",
        "\n",
        "$$ \\frac{\\partial y}{\\partial x_i} = \\lim_{h \\rightarrow 0} \\frac{f(x_1, \\ldots, x_{i-1}, x_i+h, x_{i+1}, \\ldots, x_n) - f(x_1, \\ldots, x_i, \\ldots, x_n)}{h}.$$\n",
        "\n",
        "\n",
        "Чтобы вычислить $\\frac{\\partial y}{\\partial x_i}$, мы можем просто рассматривать $x_1, \\ldots, x_{i-1}, x_{i+1}, \\ldots, x_n$ как константы и вычислять производную из $y$ по $x_i$. Для обозначения частных производных следующие условия эквивалентны:\n",
        "\n",
        "$$\\frac{\\partial y}{\\partial x_i} = \\frac{\\partial f}{\\partial x_i} = f_{x_i} = f_i = D_i f = D_{x_i} f.$$"
      ]
    },
    {
      "cell_type": "markdown",
      "metadata": {
        "id": "ghPAsfYfkEhV"
      },
      "source": [
        "Вспомним, дифференцируемая функция одной переменной в точке $x_0$ запишется ведёт себя практически линейно: \n",
        "\n",
        "$$\n",
        "    f(x) \\approx f(x_0) + f'(x_0)(x - x_0)\n",
        "$$\n",
        "\n",
        "при $x$ близких к $x_0$\n",
        "\n",
        "Доказательство:\n",
        "\n",
        "$$\n",
        "\\lim_{x -> x_{0}} \\frac{f(x) - f(x_0)}{x - x_0} = f'(x_0)\n",
        "$$"
      ]
    },
    {
      "cell_type": "markdown",
      "metadata": {
        "id": "4Iat6wFfZ87t"
      },
      "source": [
        "Давайте распишем:\n",
        "\n",
        "Пусть есть некоторая функция $L$ от параметров $w_1, \\ldots, w_n$, изменим немного первую переменную, и давайте распишем по правилам дифференцирования:\n",
        "\n",
        "$$L(w_1+\\epsilon_1, w_2, \\ldots, w_N) \\approx L(w_1, w_2, \\ldots, w_N) + \\epsilon_1 \\frac{d}{dw_1} L(w_1, w_2, \\ldots, w_N).$$\n",
        "\n",
        "Мы будем рассчитывать производную по одной переменной при фиксировании другой частной производной, и будем использовать обозначение $\\frac{\\partial}{\\partial w_1}$ для производной.\n",
        "\n",
        "Теперь давайте возьмем это и немного изменим $w_2$ на $w_2 + \\epsilon_2$:\n",
        "\n",
        "$$\n",
        "\\begin{aligned}\n",
        "L(w_1+\\epsilon_1, w_2+\\epsilon_2, \\ldots, w_N) & \\approx L(w_1, w_2+\\epsilon_2, \\ldots, w_N) + \\epsilon_1 \\frac{\\partial}{\\partial w_1} L(w_1, w_2+\\epsilon_2, \\ldots, w_N) \\\\\n",
        "& \\approx L(w_1, w_2, \\ldots, w_N) \\\\\n",
        "& \\quad + \\epsilon_2\\frac{\\partial}{\\partial w_2} L(w_1, w_2, \\ldots, w_N) \\\\\n",
        "& \\quad + \\epsilon_1 \\frac{\\partial}{\\partial w_1} L(w_1, w_2, \\ldots, w_N) \\\\\n",
        "& \\quad + \\epsilon_1\\epsilon_2\\frac{\\partial}{\\partial w_2}\\frac{\\partial}{\\partial w_1} L(w_1, w_2, \\ldots, w_N) \\\\\n",
        "& \\approx L(w_1, w_2, \\ldots, w_N) \\\\\n",
        "& \\quad + \\epsilon_2\\frac{\\partial}{\\partial w_2} L(w_1, w_2, \\ldots, w_N) \\\\\n",
        "& \\quad + \\epsilon_1 \\frac{\\partial}{\\partial w_1} L(w_1, w_2, \\ldots, w_N).\n",
        "\\end{aligned}\n",
        "$$\n",
        "\n",
        "Продолжая таким образом, мы можем написать, что\n",
        "\n",
        "$$\n",
        "L(w_1+\\epsilon_1, w_2+\\epsilon_2, \\ldots, w_N+\\epsilon_N) \\approx L(w_1, w_2, \\ldots, w_N) + \\sum_i \\epsilon_i \\frac{\\partial}{\\partial w_i} L(w_1, w_2, \\ldots, w_N).\n",
        "$$\n",
        "\n",
        "Это не очень, но мы можем сделать это более знакомым, отметив, что сумма справа выглядит точно как скалярное произведение ->\n",
        "\n",
        "$$L(\\mathbf{w} + \\boldsymbol{\\epsilon}) \\approx L(\\mathbf{w}) + \\boldsymbol{\\epsilon}\\cdot \\nabla_{\\mathbf{w}} L(\\mathbf{w}).$$\n",
        "\n",
        "Назовем вектор $\\nabla_{\\mathbf{w}} L$ градентом L. Мы преобразовали все в векторы и скалярные произведения. Это позволяет нам приблизительно сказать, как изменится функция L при любом возмущении на входе. Как мы увидим далее, это даст нам важный инструмент для геометрического понимания того, как мы можем учиться, используя информацию, содержащуюся в градиенте.\n"
      ]
    },
    {
      "cell_type": "markdown",
      "metadata": {
        "id": "_OAO3okv88JM"
      },
      "source": [
        "### Пример"
      ]
    },
    {
      "cell_type": "markdown",
      "metadata": {
        "id": "QTWsRjhAeS5z"
      },
      "source": [
        "Но сначала давайте посмотрим на это приближение на примере. Предположим, что мы работаем с функцией\n",
        "\n",
        "$$\n",
        "f(x, y) = \\log(e^x + e^y) \\text{ c градиентом } \\nabla f (x, y) = \\left[\\frac{e^x}{e^x+e^y}, \\frac{e^y}{e^x+e^y}\\right].\n",
        "$$\n",
        "\n",
        "Если мы посмотрим на точку $(0, \\log(2))$, мы увидим, что\n",
        "$$\n",
        "f(x, y) = \\log(3) \\text{ c градиентом } \\nabla f (x, y) = \\left[\\frac{1}{3}, \\frac{2}{3}\\right].\n",
        "$$\n",
        "\n",
        "Таким образом, если мы хотим приблизить $f$ в $(\\epsilon_1, \\log(2) + \\epsilon_2)$, мы увидим, что у нас должен быть конкретный пример:\n",
        "\n",
        "$$\n",
        "f(\\epsilon_1, \\log(2) + \\epsilon_2) \\approx \\log(3) + \\frac{1}{3}\\epsilon_1 + \\frac{2}{3}\\epsilon_2.\n",
        "$$\n"
      ]
    },
    {
      "cell_type": "code",
      "metadata": {
        "id": "eFCFxmWcWeIZ"
      },
      "source": [
        "def f(x, y):\n",
        "    return np.log(np.exp(x) + np.exp(y))"
      ],
      "execution_count": null,
      "outputs": []
    },
    {
      "cell_type": "code",
      "metadata": {
        "id": "QsIfEnLifJfU"
      },
      "source": [
        "def grad_f(x, y):\n",
        "    return np.array([np.exp(x) / (np.exp(x) + np.exp(y)),\n",
        "                     np.exp(y) / (np.exp(x) + np.exp(y))])"
      ],
      "execution_count": null,
      "outputs": []
    },
    {
      "cell_type": "code",
      "metadata": {
        "id": "po2cy0r9fKsi"
      },
      "source": [
        "epsilon = np.array([0.01, -0.03])"
      ],
      "execution_count": null,
      "outputs": []
    },
    {
      "cell_type": "code",
      "metadata": {
        "id": "vihSZxJHfMea",
        "colab": {
          "base_uri": "https://localhost:8080/"
        },
        "outputId": "473bb2a3-5320-4333-d2dc-621332d343a0"
      },
      "source": [
        "# истинное значение в 0.01, log2 -0.03\n",
        "f(0 + epsilon[0], np.log(2) + epsilon[1])"
      ],
      "execution_count": null,
      "outputs": [
        {
          "output_type": "execute_result",
          "data": {
            "text/plain": [
              "1.082124181896434"
            ]
          },
          "metadata": {
            "tags": []
          },
          "execution_count": 62
        }
      ]
    },
    {
      "cell_type": "code",
      "metadata": {
        "id": "ArEXCwt9flIg",
        "colab": {
          "base_uri": "https://localhost:8080/"
        },
        "outputId": "6de8cffe-48c1-4a33-ae11-ed66fcce3d2a"
      },
      "source": [
        "# приближаемое значение\n",
        "f(0, np.log(2)) + np.dot(epsilon, grad_f(0, np.log(2)))"
      ],
      "execution_count": null,
      "outputs": [
        {
          "output_type": "execute_result",
          "data": {
            "text/plain": [
              "1.0819456220014432"
            ]
          },
          "metadata": {
            "tags": []
          },
          "execution_count": 63
        }
      ]
    },
    {
      "cell_type": "markdown",
      "metadata": {
        "id": "d6wE1NZc7Smv"
      },
      "source": [
        "## Градиент"
      ]
    },
    {
      "cell_type": "markdown",
      "metadata": {
        "id": "GX9Mk2107UvO"
      },
      "source": [
        "Градиент - это вектор, касающийся функции и своим направлением указывающий направление наибольшего возрастания этой функции. \n",
        "\n",
        "Градиент — это вектор вида \n",
        "$$\n",
        "\\nabla f=\\frac{\\partial f}{\\partial x_{1}} e_{1}+\\cdots+\\frac{\\partial f}{\\partial x_{n}} e_{n}\n",
        "$$\n",
        " где $\n",
        "\\frac{\\partial f}{\\partial x_{n}}\n",
        "$ - частная производная.\n",
        "\n",
        "Другими словами, градиент — это производная по пространству, но в отличие от производной по одномерному времени, градиент является не скаляром, а векторной величиной.\n",
        "\n",
        " Градиент равен нулю при локальном максимуме или минимуме, потому что нет единого направления увеличения. В математике градиент определяется как частная производная для каждой входной переменной функции. Например, у нас есть функция:\n",
        "$$\n",
        "f(x, y)=\\frac{1}{2}\\left(x^{2}+y^{2}\\right)\n",
        "$$\n",
        "\n",
        "<center><img src=\"https://github.com/ddvika/Data-Science-School-2020/blob/main/lecture_9/img/parabola.png?raw=true\" width=350 /><center>\n",
        "\n",
        "\n",
        "В этом случае x-компонент градиента является частной производной по x, а y-компонент градиента является частной производной по y. Градиент функции выше:\n",
        "$$\n",
        "\\nabla f(x, y)=\\left(\\frac{\\partial f}{\\partial x}, \\frac{\\partial f}{\\partial y}\\right)=(x, y)\n",
        "$$\n"
      ]
    },
    {
      "cell_type": "markdown",
      "metadata": {
        "id": "x5UV_coI3Th5"
      },
      "source": [
        "**Задание**\n",
        "\n",
        "Найти градиент функции $u=x+\\ln \\left(z^{2}+y^{2}\\right)$ в точке $M(2,1,1)$\n"
      ]
    },
    {
      "cell_type": "code",
      "metadata": {
        "id": "xiWssk9m3fD0"
      },
      "source": [
        "#TODO"
      ],
      "execution_count": null,
      "outputs": []
    },
    {
      "cell_type": "markdown",
      "metadata": {
        "id": "4hMHc2o43rrY"
      },
      "source": [
        "**Задание**\n",
        "\n",
        "Найти градиент функции $u=\\sin (x+2 y)+2 \\sqrt{x y z}$ в точке $M\\left(\\frac{\\pi}{2}, \\frac{3 \\pi}{2}, 3\\right)$"
      ]
    },
    {
      "cell_type": "code",
      "metadata": {
        "id": "jqXUQDIB3v1c"
      },
      "source": [
        "#TODO"
      ],
      "execution_count": null,
      "outputs": []
    },
    {
      "cell_type": "markdown",
      "metadata": {
        "id": "3TtPCA729E3b"
      },
      "source": [
        "## Градиентный спуск"
      ]
    },
    {
      "cell_type": "markdown",
      "metadata": {
        "id": "2xmuOrAF9OCN"
      },
      "source": [
        "Поскольку градиент - это вектор, указывающий на наибольшее увеличение функции, отрицательный градиент - это вектор, указывающий на наибольшее уменьшение функции. Следовательно, мы можем минимизировать функцию, итеративно немного двигаясь в направлении отрицательного градиента. Это логика градиентного спуска."
      ]
    },
    {
      "cell_type": "markdown",
      "metadata": {
        "id": "vmWKYnxo-Q__"
      },
      "source": [
        "Градиент — это вектор вида \n",
        "$$\n",
        "\\nabla f=\\frac{\\partial f}{\\partial x_{1}} e_{1}+\\cdots+\\frac{\\partial f}{\\partial x_{n}} e_{n}\n",
        "$$\n",
        " где $\n",
        "\\frac{\\partial f}{\\partial x_{n}}\n",
        "$ - частная производная.\n",
        "\n",
        "Одним из свойств градиента является то, что он указывает направление, в котором некоторая функция f возрастает больше всего. \n"
      ]
    },
    {
      "cell_type": "markdown",
      "metadata": {
        "id": "hV5IgJHjgpmA"
      },
      "source": [
        "### Геометрия градиентного спуска"
      ]
    },
    {
      "cell_type": "markdown",
      "metadata": {
        "id": "4B-zSO-Tmq3h"
      },
      "source": [
        "Предположим, что мы хотим найти значение $x_0$, которое минимизирует некоторую функцию $L (x)$. Давайте предположим, что, кроме того, кто-то дает нам значение и говорит нам, что это значение минимизирует $L$. Есть ли что-нибудь, что поможет нам проверить правдив ли их ответ\n",
        "\n",
        "$$\n",
        "L(\\mathbf{w} + \\boldsymbol{\\epsilon}) \\approx L(\\mathbf{w}) + \\boldsymbol{\\epsilon}\\cdot \\nabla_{\\mathbf{w}} L(\\mathbf{w}).\n",
        "$$\n",
        "\n",
        "Давайте предположим, что мы хотим использовать это, чтобы помочь минимизировать наши потери L. Давайте разберемся геометрически в алгоритме градиентного спуска. Что мы будем делать, это следующее:\n",
        "\n",
        "1.\tНачнем со случайного выбора начальных параметров w.\n",
        "2.\tНайдите направление v, при котором L быстрее всего уменьшается в точке w.\n",
        "3.\tСделайте небольшой шаг в этом направлении: w → w + ϵv.\n",
        "4.\tПовторим\n",
        "\n",
        "Единственное, что мы не знаем точно, - это как вычислить вектор v на втором шаге. Мы будем называть такое направление - направлением наискорейшего спуска. Используя геометрическое понимание скалярных произведений \n",
        "\n",
        "$$\n",
        "    \\frac{(x, y)}{\\| x \\| \\| y \\|} = \\cos \\angle (x, y)\\\\\n",
        "    \\implies (x, y) = \\|  x \\| \\| y \\| \\cos \\angle (x, y)\n",
        "$$\n",
        "\n",
        "мы видим, что мы можем переписать как\n",
        "\n",
        "$$\n",
        "L(\\mathbf{w} + \\mathbf{v}) \\approx L(\\mathbf{w}) + \\mathbf{v}\\cdot \\nabla_{\\mathbf{w}} L(\\mathbf{w}) = L(\\mathbf{w}) + \\|\\nabla_{\\mathbf{w}} L(\\mathbf{w})\\|\\cos(\\theta).\n",
        "$$\n",
        "\n",
        "Обратите внимание, что мы взяли наше направление, чтобы иметь одинаковую длину  для удобства, и использовали $\\theta$ для угла между $\\mathbf{v}$ и $\\nabla_{\\mathbf{w}} L(\\mathbf{w})$. Если мы хотим найти направление, которое уменьшает L как можно быстрее, мы хотим сделать это выражение как можно более отрицательным. Единственный способ, которым направление, которое мы выбираем, входит в это уравнение, через $\\cos(\\theta)$, и поэтому мы хотим сделать этот косинус как можно более отрицательным. Теперь, вспоминая форму косинуса, мы можем сделать это сделав $\\cos(\\theta) = -1$ или эквивалентно сделав угол между градиентом и выбранным нами направлением равным $\\pi$ радиан, или эквивалентно 180 градусам. Единственный способ добиться этого - двигаться в противоположном направлении: выбрать v в совершенно противоположном направлении к $\\nabla_{\\mathbf{w}} L(\\mathbf{w})$!"
      ]
    },
    {
      "cell_type": "code",
      "metadata": {
        "id": "OphdlsSSf3FP",
        "colab": {
          "base_uri": "https://localhost:8080/",
          "height": 514
        },
        "outputId": "8d4de0a3-599f-4ead-aa8d-32f740e1b02d"
      },
      "source": [
        "def f(x):\n",
        "    return 3 * x ** 2 - 4 * x\n",
        "    \n",
        "plt.figure(figsize = (10, 8))\n",
        "# plt.title('f(x) = 3x^2−4x')\n",
        "\n",
        "x = np.arange(-2, 3, 0.1)\n",
        "\n",
        "# plt.plot(f(x))\n",
        "\n",
        "x = np.arange(0, 3, 0.1)\n",
        "# 2 - тут тангенс угла наклона!\n",
        "# отправляем исходное множество точек и список из [результата функции в точках x и уравнение касательной] найденное выше\n",
        "plot(x, [f(x), 2 * x - 3], 'x', 'f(x)', legend=['f(x)', 'Касательная (x=1)'])"
      ],
      "execution_count": null,
      "outputs": [
        {
          "output_type": "display_data",
          "data": {
            "text/plain": [
              "<Figure size 720x576 with 0 Axes>"
            ]
          },
          "metadata": {
            "tags": []
          }
        },
        {
          "output_type": "display_data",
          "data": {
            "image/png": "[encoded data removed]",
            "text/plain": [
              "<Figure size 720x576 with 1 Axes>"
            ]
          },
          "metadata": {
            "tags": [],
            "needs_background": "light"
          }
        }
      ]
    },
    {
      "cell_type": "markdown",
      "metadata": {
        "id": "Ds4HjGYAFiZ9"
      },
      "source": [
        "## Формула градиентного спуска (для минимизации)\n",
        "\n",
        "$$\n",
        "x^{(i+1)} = x^{(i)} - \\alpha_i \\nabla f(x^{(i)})\n",
        "$$\n",
        "\n",
        "$\\alpha$ — это шаг метода. В задачах машинного обучения его называют скоростью обучения."
      ]
    },
    {
      "cell_type": "markdown",
      "metadata": {
        "id": "p5_soiJRB-Of"
      },
      "source": [
        "### Алгоритм выполнения спуска\n",
        "0. Определяемся с функцией\n",
        "1. Найти производную функции\n",
        "2. Установить некоторое начальное значение для $x_i$\n",
        "3. Установить размер шага $\\alpha$\n",
        "4. Повторить N раз указанную формулу: $x_{n}^{(i+1)}=x_{n}^{(i)}-a \\cdot \\frac{\\partial f}{\\partial x_{n}}\\left(x^{(i)}\\right)$"
      ]
    },
    {
      "cell_type": "markdown",
      "metadata": {
        "id": "u7dy8gAiMhoU"
      },
      "source": [
        "### Скорость обучения\n",
        "\n",
        "Важным параметром в градиентном спуске является скорость обучения, которая определяет размер каждого шага. Когда скорость обучения слишком велика, градиентный спуск может перепрыгнуть через экстремум и оказаться на другой стороне. Это приведет к расхождению функции стоимости (минимизируемого функционала). С другой стороны, когда скорость обучения слишком мала, алгоритм будет сходиться долго. Следовательно, перед началом градиентного спуска необходима правильная скорость обучения."
      ]
    },
    {
      "cell_type": "markdown",
      "metadata": {
        "id": "CFQHhc47Mo_B"
      },
      "source": [
        "<center><img src=\"https://github.com/ddvika/Data-Science-School-2020/blob/main/lecture_9/img/lr_diff.png?raw=true\" width=\"500\"/><center>"
      ]
    },
    {
      "cell_type": "markdown",
      "metadata": {
        "id": "JR8QwevANH8K"
      },
      "source": [
        "### Нормализация\n",
        "\n",
        "Нормализация играет важную роль для градиентного спуска. Если функции не нормализованы, в обновлении будут преобладать объекты с большим масштабом, поэтому алгоритм будет генерировать зигзагообразный путь обучения. Требуется много ненужных шагов и больше времени, чтобы достичь минимума. После нормализации всех функций функция стоимости приобретает более сферическую форму. Алгоритм градиентного спуска идет прямо к минимуму. Один из способов нормализации - это минус среднее и деление на стандартное отклонение. Вы также можете напрямую применить функцию StandardScaler в Scikit-Learn.\n",
        "\n",
        "<center><img src=\"https://github.com/ddvika/Data-Science-School-2020/blob/main/lecture_9/img/normalize.png?raw=true\" width=\"500\"/><center>"
      ]
    },
    {
      "cell_type": "markdown",
      "metadata": {
        "id": "QmG-qakqNXVI"
      },
      "source": [
        "Вернемся к нашему примеру"
      ]
    },
    {
      "cell_type": "code",
      "metadata": {
        "id": "omUC19jdpR35"
      },
      "source": [
        "from scipy.misc import derivative\n",
        "\n",
        "xi = -1\n",
        "step = 0.05\n",
        "\n",
        "der = []\n",
        "points = []\n",
        "\n",
        "for i in range(500):\n",
        "    xi = xi - step * derivative(f, xi)\n",
        "    in_point = f(xi)\n",
        "\n",
        "    der.append(xi)\n",
        "    points.append(in_point)"
      ],
      "execution_count": null,
      "outputs": []
    },
    {
      "cell_type": "markdown",
      "metadata": {
        "id": "tzg82T66Njvm"
      },
      "source": [
        "Визуализируем: "
      ]
    },
    {
      "cell_type": "code",
      "metadata": {
        "id": "LMN57Es1Pjuk",
        "colab": {
          "base_uri": "https://localhost:8080/",
          "height": 282
        },
        "outputId": "5fea5cd8-bec4-4281-bc1d-af632bb434da"
      },
      "source": [
        "plt.plot(der, points, 'r*')\n",
        "# plt.plot(points, 'b')"
      ],
      "execution_count": null,
      "outputs": [
        {
          "output_type": "execute_result",
          "data": {
            "text/plain": [
              "[<matplotlib.lines.Line2D at 0x7f8fdcf0ffd0>]"
            ]
          },
          "metadata": {
            "tags": []
          },
          "execution_count": 66
        },
        {
          "output_type": "display_data",
          "data": {
            "image/png": "[encoded data removed]",
            "text/plain": [
              "<Figure size 432x288 with 1 Axes>"
            ]
          },
          "metadata": {
            "tags": [],
            "needs_background": "light"
          }
        }
      ]
    },
    {
      "cell_type": "markdown",
      "metadata": {
        "id": "jvEqDbOVC5-y"
      },
      "source": [
        "## Влияние шага на поиск экстремума функции"
      ]
    },
    {
      "cell_type": "markdown",
      "metadata": {
        "id": "iVCnG4scEctJ"
      },
      "source": [
        "1. Имеем функцию: $y=(\\theta-5)^{2}$\n",
        "\n",
        "Реализуем процесс градиентного спуска."
      ]
    },
    {
      "cell_type": "code",
      "metadata": {
        "colab": {
          "base_uri": "https://localhost:8080/"
        },
        "id": "cYmJYTMxEjbx",
        "outputId": "2f4fc2e5-1576-471f-a707-6390a782546b"
      },
      "source": [
        "STEP_COUNT = 50\n",
        "STEP_SIZE = 0.9  # Скорость обучения\n",
        "\n",
        "\n",
        "def func(x):\n",
        "    return (x - 5) ** 2\n",
        "\n",
        "\n",
        "def func_derivative(x):\n",
        "    return 2 * (x - 5)\n",
        "\n",
        "previous_x, current_x = 0, 0\n",
        "\n",
        "for i in range(STEP_COUNT):\n",
        "    current_x = previous_x - STEP_SIZE * func_derivative(previous_x)\n",
        "    previous_x = current_x\n",
        "\n",
        "print(\"After\", STEP_COUNT, \"steps theta=\", format(current_x, \".6f\"), \"function value=\", format(func(current_x), \".6f\"))"
      ],
      "execution_count": null,
      "outputs": [
        {
          "output_type": "stream",
          "text": [
            "After 50 steps theta= 4.999929 function value= 0.000000\n"
          ],
          "name": "stdout"
        }
      ]
    },
    {
      "cell_type": "markdown",
      "metadata": {
        "id": "UXTFAdK6DFY9"
      },
      "source": [
        "### Визуализация\n",
        "(синяя точка — значение на предыдущем шаге, красная — текущее)\n",
        "\n",
        "Шаг = 0.1"
      ]
    },
    {
      "cell_type": "markdown",
      "metadata": {
        "id": "Oh9J_CN8E0Zk"
      },
      "source": [
        "<center><img src=\"https://github.com/ddvika/Data-Science-School-2020/blob/main/lecture_9/img/simple_lerning.gif?raw=true\" width=\"500\"/>\n"
      ]
    },
    {
      "cell_type": "markdown",
      "metadata": {
        "id": "ELi0bSIRE2F2"
      },
      "source": [
        "Шаг = 0.9\n",
        "<center><img src=\"https://github.com/ddvika/Data-Science-School-2020/blob/main/lecture_9/img/simple_learning_2gif.gif?raw=true\" width=\"500\"/><center>"
      ]
    },
    {
      "cell_type": "markdown",
      "metadata": {
        "id": "cP7xmnhbE6m9"
      },
      "source": [
        "Еще пример :\n",
        "\n",
        "2. Имеем функцию: $y=(x-5)^{2}+50 \\sin (x)+50$"
      ]
    },
    {
      "cell_type": "markdown",
      "metadata": {
        "id": "dOMHqPG8FCwM"
      },
      "source": [
        "Шаг = 0.1\n",
        "\n",
        "<center><img src=\"https://github.com/ddvika/Data-Science-School-2020/blob/main/lecture_9/img/bad_func.gif?raw=true\" width=\"500\"/><center>"
      ]
    },
    {
      "cell_type": "markdown",
      "metadata": {
        "id": "cAipUCrQE9BX"
      },
      "source": [
        "Шаг = 0.01\n",
        "\n",
        "<center><img src=\"https://github.com/ddvika/Data-Science-School-2020/blob/main/lecture_9/img/bad_func_stop.gif?raw=true\" width=\"500\"/><center>"
      ]
    },
    {
      "cell_type": "markdown",
      "metadata": {
        "id": "jeeMtiH4aAuZ"
      },
      "source": [
        "## Формула градиентного спуска (для минимизации)\n",
        "\n",
        "$$\n",
        "x^{(i+1)} = x^{(i)} - \\alpha_i \\frac{\\nabla f(x^{(i)})}{\\|\\nabla f(x^{(i)})\\|}\n",
        "$$\n",
        "\n",
        "## Как выбрать шаг $\\alpha_k$? (J. Nocedal, S. Wright Numerical Optimization, $\\S$ 3.1.)\n",
        "\n",
        "\n",
        "$\\alpha$ — это шаг метода. В задачах машинного обучения его называют скоростью обучения.\n",
        "\n",
        "Список подходов:\n",
        "- Постоянный шаг \n",
        "\n",
        "$$\n",
        "\\alpha_k = \\overline{\\alpha}\n",
        "$$\n",
        "\n",
        "- Априорно заданная последовательность, например\n",
        "\n",
        "$$\n",
        "\\alpha_k = \\dfrac{\\overline{\\alpha}}{\\sqrt{k+1}}\n",
        "$$\n",
        "\n",
        "- Наискорейший спуск\n",
        "\n",
        "$$\n",
        "\\alpha_k = \\arg\\min_{\\alpha \\geq 0} f(x_k - \\alpha f'(x_k))\n",
        "$$\n",
        "\n",
        "- Требование **достаточного** убывания, требование **существенного** убывания и условие кривизны: для некоторых $\\beta_1, \\beta_2$, таких что $0 < \\beta_1 < \\beta_2 < 1$ найти $x_{k+1}$ такую что\n",
        "\n",
        "    - Достаточное убывание: $f(x_{k+1}) \\leq f(x_k) + \\beta_1 \\alpha_k \\langle f'(x_k), h_k \\rangle$ или\n",
        "    $ f(x_k) - f(x_{k+1}) \\geq \\beta_1 \\alpha_k \\langle f'(x_k), h_k \\rangle\n",
        "    $\n",
        "    - Существенное убывание: $f(x_{k+1}) \\geq f(x_k) + \\beta_2 \\alpha_k \\langle f'(x_k), h_k \\rangle$ или\n",
        "    $\n",
        "    f(x_k) - f(x_{k+1}) \\leq \\beta_2 \\alpha_k \\langle f'(x_k), h_k \\rangle\n",
        "    $\n",
        "    - Условие кривизны: $\\langle f'(x_{k+1}), h_k \\rangle \\geq \\beta_2 \\langle f'(x_k), h_k \\rangle$\n",
        "\n",
        "Обычно коэффициенты выбирают так: $\\beta_1 \\in (0, 0.3)$, а $\\beta_2 \\in (0.9, 1)$"
      ]
    },
    {
      "cell_type": "markdown",
      "metadata": {
        "id": "T8HJD0o9_ELE"
      },
      "source": [
        "Подробнее с разбором:\n",
        "\n",
        "https://github.com/amkatrutsa/MIPT-Opt/blob/master/Spring2020/intro_gd.ipynb"
      ]
    },
    {
      "cell_type": "markdown",
      "metadata": {
        "id": "Iz_m8zYC-LTl"
      },
      "source": [
        "### Анализ и мотивация подходов к выбору шага $\\alpha_k$\n",
        "- Постоянный шаг: самое простое и неэффективное решение\n",
        "- Априорно заданная последовательность: немногим лучше постоянного шага\n",
        "- Наискорейший спуск: самое лучшее решение, но применимо только если вспомогательная задача решается аналитически или ооооооочень быстро. <br></br>\n",
        "То есть почти всегда неприменимо :)\n",
        "- Требование достаточного убывания, требование существенного убывания и условие кривизны:\n",
        "    - требование достаточного убывания гарантирует, что функция в точке $x_{k+1}$ не превосходит линейной аппроксимации с коэффициентом наклона $\\beta_1$\n",
        "    - требование существенного убывания гарантирует, что функция в точке $x_{k+1}$ убывает не меньше, чем линейная аппроксимация c коэффициентом наклона $\\beta_2$\n",
        "    - условие кривизны гарантирует, что угол наклона касательной в точке $x_{k+1}$ не меньше, чем угол наклона касательной в точке $x_k$, <br></br>\n",
        "умноженный на $\\beta_2$ \n",
        "\n",
        "Требование существенного убывания и условие кривизны обеспечивают убывание функции по выбранному направлению $h_k$. Обычно выбирают одно из них."
      ]
    },
    {
      "cell_type": "markdown",
      "metadata": {
        "id": "uoeuXLzmHYp_"
      },
      "source": [
        "#### Альтернативные названия\n",
        "- Требование достаточного убывания $\\equiv$ правило Армихо\n",
        "- Требование достаточного убывания + условие кривизны $\\equiv$ правило Вольфа\n",
        "- Требование достаточного убывания + требование существенного убывания $\\equiv$ правило Гольдштейна"
      ]
    },
    {
      "cell_type": "markdown",
      "metadata": {
        "id": "O93kMKekW2ab"
      },
      "source": [
        "Примеры реализации см. по ссылке\n",
        "\n",
        "https://colab.research.google.com/drive/1jd1JvARtw6g-NGM_hW6TeUifLEmUrB_Q?usp=sharing"
      ]
    },
    {
      "cell_type": "markdown",
      "metadata": {
        "id": "utrNe4moPIlu"
      },
      "source": [
        "## Вариации градиентного спуска"
      ]
    },
    {
      "cell_type": "markdown",
      "metadata": {
        "id": "HVlG3BsjPQO2"
      },
      "source": [
        "В машинном обучении чаще всего используются следующие вариации ГС:\n",
        "- пакетный(bacth) градиентный спуск\n",
        "- мини-пакетный(mini-batch) градиентный спуск\n",
        "- стохастический градиентный спуск."
      ]
    },
    {
      "cell_type": "markdown",
      "metadata": {
        "id": "HZ5x-WTCP0DD"
      },
      "source": [
        "\n",
        "<center><img src=\"https://github.com/ddvika/Data-Science-School-2020/blob/main/lecture_9/img/gd_types.png?raw=true\" width=\"500\"/><center>"
      ]
    },
    {
      "cell_type": "markdown",
      "metadata": {
        "id": "pgKCpBESPisQ"
      },
      "source": [
        "**Пакетный градиентный спуск**\n",
        "\n",
        "Пакетный градиентный спуск использует всю партию обучающих данных на каждом шаге. Он рассчитывает ошибку для каждой записи и принимает среднее значение для определения градиента Преимущество Batch Gradient Descent заключается в том, что алгоритм более эффективен в вычислительном отношении и обеспечивает стабильный путь обучения, что облегчает сходимость. Тем не менее, пакетный градиентный спуск занимает больше времени, когда тренировочный набор большой.\n",
        "\n",
        "**Мини-пакетный градиентный спуск**\n",
        "\n",
        "Мини-пакетный градиентный спуск сочетает в себе концепцию пакетного и стохастического градиентного спуска. На каждом этапе алгоритм вычисляет градиент на основе подмножества обучающего набора вместо полного набора данных или только одной записи. Преимущество мини-пакетного градиентного спуска в том, что алгоритм может использовать преимущества матричной операции во время расчета, а функция стоимости может уменьшаться более плавно и стабильно, чем стохастический градиентный спуск.\n",
        "\n",
        "**Стохастический градиентный спуск**\n",
        "\n",
        "В другом крайнем случае Stochastic Gradient Descent просто выбирает один экземпляр из обучающего набора на каждом шаге и обновляет градиент только на основе этой отдельной записи. Преимущество Stochastic Gradient Descent заключается в том, что алгоритм намного быстрее на каждой итерации, что устраняет ограничение в Batch Gradient Descent. Однако алгоритм дает менее регулярный и стабильный путь обучения по сравнению с пакетным градиентным спуском. Вместо плавного уменьшения функция стоимости будет подпрыгивать вверх и вниз. После раундов итераций алгоритм может найти хороший параметр, но конечный результат не обязательно является глобальным оптимальным.\n"
      ]
    },
    {
      "cell_type": "markdown",
      "metadata": {
        "id": "l4M_qzXhVYcJ"
      },
      "source": [
        "## Рекомендуемая литература\n",
        "- Азы дифференцирования: http://mathprofi.ru/kak_naiti_proizvodnuju.html\n",
        "- Вычисление частных производных: http://mathprofi.ru/chastnye_proizvodnye_primery.html\n",
        "- Вычисление производных по направлению и градиента: http://mathprofi.ru/proizvodnaja_po_napravleniju_i_gradient.html\n",
        "- Дифференциальное исчисление функций многих переменных: https://drive.google.com/file/d/1YxwRJSbwyF-1RVjOAtueYOjpUv00nRRp/view\n",
        "- Методы оптимизации (кроме градиентного спуска):\n",
        "https://drive.google.com/file/d/182ES3Yw-XJauEo33OjVMzDJQiThGh-fh/view\n",
        "- Градиентный спуск в подробностях: https://github.com/amkatrutsa/MIPT-Opt/blob/master/Spring2020/intro_gd.ipynb\n",
        "\n",
        "\n"
      ]
    },
    {
      "cell_type": "code",
      "metadata": {
        "id": "Sd0PYVZDHVSU"
      },
      "source": [
        ""
      ],
      "execution_count": null,
      "outputs": []
    }
  ]
}