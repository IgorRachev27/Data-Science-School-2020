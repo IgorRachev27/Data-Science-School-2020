{
  "nbformat": 4,
  "nbformat_minor": 0,
  "metadata": {
    "colab": {
      "name": "Теория вероятностей.ipynb",
      "provenance": [],
      "collapsed_sections": []
    },
    "kernelspec": {
      "name": "python3",
      "display_name": "Python 3"
    }
  },
  "cells": [
    {
      "cell_type": "markdown",
      "metadata": {
        "id": "4cFodoPGWSYL"
      },
      "source": [
        "Ноутбук в колаб: https://colab.research.google.com/drive/1WXc7QEAl753HzDnLeqvEu6WIyTxkaNPe?usp=sharing"
      ]
    },
    {
      "cell_type": "code",
      "metadata": {
        "id": "T9NKZ8-ocp1Q"
      },
      "source": [
        "# библиотека для генерации случаных чисел\n",
        "import random\n",
        "# тут лежат некоторые математические функции\n",
        "import math\n",
        "\n",
        "# для работы с таблицами: DataFrame, Series\n",
        "import pandas as pd\n",
        "# для работы с массивами и матрицами чисел, некоторые статистические функции\n",
        "import numpy as np\n",
        "# тут лежат функции распределения случайных величин\n",
        "from scipy import stats\n",
        "\n",
        "# БЛОК ДЛИ РИСОВАНИЯ ГРАФИКОВ\n",
        "# основная библиотека для рисования\n",
        "import matplotlib.pyplot as plt\n",
        "# дизайн картинок\n",
        "plt.style.use('seaborn')\n",
        "# позволяем отрисовавать картинки сразу в ноутбуке\n",
        "%matplotlib inline"
      ],
      "execution_count": 49,
      "outputs": []
    },
    {
      "cell_type": "markdown",
      "metadata": {
        "id": "pyE_SzKCq-iY"
      },
      "source": [
        "# Теория Вероятностей"
      ]
    },
    {
      "cell_type": "markdown",
      "metadata": {
        "id": "QpsfI0lirJ07"
      },
      "source": [
        "В той или иной форме машинное обучение сводится к прогнозированию. Возможно, мы захотим предсказать вероятность того, что у пациента случится сердечный приступ в следующем году, учитывая его историю болезни. \n",
        "\n",
        "При обнаружении аномалий мы могли бы захотеть оценить, насколько вероятным будет набор показаний реактивного двигателя самолета, если бы он работал нормально. \n",
        "\n",
        "Когда мы создаем рекомендательные системы, мы также должны думать о вероятности. Например, предположим гипотетически, что мы работали на крупного онлайн-продавца книг. Возможно, мы захотим оценить вероятность того, что конкретный пользователь купит конкретную книгу. Для этого нам нужно использовать язык вероятностей. Целые курсы, специальности, дипломные работы, карьеры и даже отделы посвящены вероятности. В этом занятии мы ознакомимся с основными понятиями теории вероятностей."
      ]
    },
    {
      "cell_type": "markdown",
      "metadata": {
        "id": "UdwIz9F9u_52"
      },
      "source": [
        "## Случайная величина\n",
        "\n",
        "Центральным понятием является случайная величина:   \n",
        "**Случайная величина** это переменная, значения которой представляет собой исходы какого-нибудь случайного феномена или эксперимента.\n"
      ]
    },
    {
      "cell_type": "markdown",
      "metadata": {
        "id": "CljOqEHPce4J"
      },
      "source": [
        "Например:\n",
        " - эксперимент: подбрасывание монетки (орел = 1, решка = 0)\n",
        " - результат эксперимента: исход\n",
        " - все возможные варианты исхода: значения случайной величины (1 или 0)\n",
        " \n",
        "То есть, случайная величина $\\eta$, которая может принимать значения из множества {0 , 1}"
      ]
    },
    {
      "cell_type": "markdown",
      "metadata": {
        "id": "QBZ7eaprcllL"
      },
      "source": [
        "На самом деле, нам интересна не сколько сама случайная величина, а частота появления тех или иных значений - вероятность. Давайте с помощью питона подбросим монетку 100000 раз. И посчитаем частоту (вероятность) каждого исхода."
      ]
    },
    {
      "cell_type": "code",
      "metadata": {
        "colab": {
          "base_uri": "https://localhost:8080/"
        },
        "id": "qiyNtG4MchcZ",
        "outputId": "83cc934c-2e15-4a41-fcfd-c45dd3b168cc"
      },
      "source": [
        "random.seed(0) # используем этот метод для воспроизводимости результатов\n",
        "\n",
        "# 100000 раз подкинем монетку и посмотрим, какие были исходы\n",
        "# для этого используем randint, который возвращает целое число, из отрезка [0, 1]\n",
        "lst = []\n",
        "for i in range(100000):\n",
        "    lst.append(random.randint(0, 1))\n",
        "pd.DataFrame({'sv': lst}).sv.value_counts()"
      ],
      "execution_count": null,
      "outputs": [
        {
          "output_type": "execute_result",
          "data": {
            "text/plain": [
              "0    50192\n",
              "1    49808\n",
              "Name: sv, dtype: int64"
            ]
          },
          "metadata": {
            "tags": []
          },
          "execution_count": 99
        }
      ]
    },
    {
      "cell_type": "markdown",
      "metadata": {
        "id": "wvbQA12PcwPI"
      },
      "source": [
        "Говорят, что 100000 исходов случайной величины, составляют **выборку** случайной величины объемом 100000.\n",
        "\n",
        "Сумма вероятностей всех исходов равна **1**"
      ]
    },
    {
      "cell_type": "markdown",
      "metadata": {
        "id": "SjYfS_sU2Ize"
      },
      "source": [
        "Еще пример:\n",
        "\n",
        "Скажем, что мы бросили кубик и хотим знать, какова вероятность увидеть цифру 1, а не другую цифру. \n",
        "\n",
        "Если центр масс кубика не смещен, все 6 результатов ${1,…, 6}$ с равной вероятностью произойдут, и, таким образом, мы увидим 1 в одном из шести случаев. Формально мы утверждаем, что 1 происходит с вероятностью $\\frac{1}{6}$. Для реального кубика, который мы получаем от фабрики, мы можем не знать эти пропорции, и нам нужно проверить, не испорчен ли он. Единственный способ исследовать кубик - бросить его много раз и записать результаты. \n",
        "\n",
        "Для каждого броска  мы будем наблюдать значение из ${1,…, 6}$. Учитывая эти результаты, мы хотим исследовать вероятность наблюдения каждого результата. Один естественный подход к каждому значению состоит в том, чтобы взять индивидуальный счет для этого значения и разделить его на общее количество бросков. Это дает нам оценку вероятности данного события. \n",
        "\n",
        "Закон больших чисел говорит нам, что с ростом количества бросков эта оценка будет приближаться к истинной вероятности. Прежде чем вдаваться в детали того, что здесь происходит, давайте попробуем."
      ]
    },
    {
      "cell_type": "markdown",
      "metadata": {
        "id": "oVL0lOlv72mB"
      },
      "source": [
        "Для этого мы хотим иметь возможность бросить кубик. В статистике мы называем этот \n",
        "процесс семплированием - выбора примеров из выборки распределения вероятностей. Распределение, которое присваивает вероятности ряду дискретных выборов, называется мультиномиальным распределением. Позже мы дадим более формальное определение распределения, но на высоком уровне будем рассматривать его как просто присвоение вероятностей событиям."
      ]
    },
    {
      "cell_type": "markdown",
      "metadata": {
        "id": "VxN4RcdD865g"
      },
      "source": [
        "Мы можем получить выборку из полиномиального распределения через np.random.multinomial. Функцию можно вызывать разными способами, но мы остановимся на самом простом. Чтобы нарисовать одну выборку, мы просто передаем вектор вероятностей. Выходные данные функции np.random.multinomial представляют собой еще один вектор такой же длины: его значение по индексу i является числом раз, когда результат выборки соответствует значению i."
      ]
    },
    {
      "cell_type": "code",
      "metadata": {
        "id": "YnukWse2q-ph",
        "colab": {
          "base_uri": "https://localhost:8080/"
        },
        "outputId": "ae2c4e53-4dd5-458c-a034-1517a7f7f8e5"
      },
      "source": [
        "fair_probs = [1.0 / 6] * 6\n",
        "print(fair_probs)"
      ],
      "execution_count": null,
      "outputs": [
        {
          "output_type": "stream",
          "text": [
            "[0.16666666666666666, 0.16666666666666666, 0.16666666666666666, 0.16666666666666666, 0.16666666666666666, 0.16666666666666666]\n"
          ],
          "name": "stdout"
        }
      ]
    },
    {
      "cell_type": "code",
      "metadata": {
        "colab": {
          "base_uri": "https://localhost:8080/"
        },
        "id": "hqneVC92oSvl",
        "outputId": "ed606d8f-0499-42ed-91ef-52f487cd02ed"
      },
      "source": [
        "np.random.multinomial(2, fair_probs)"
      ],
      "execution_count": null,
      "outputs": [
        {
          "output_type": "execute_result",
          "data": {
            "text/plain": [
              "array([1, 0, 0, 0, 1, 0])"
            ]
          },
          "metadata": {
            "tags": []
          },
          "execution_count": 146
        }
      ]
    },
    {
      "cell_type": "markdown",
      "metadata": {
        "id": "kzPL0sH09VfQ"
      },
      "source": [
        "Если вы запускаете сэмплер несколько раз, вы обнаружите, что вы получаете случайные значения каждый раз. Как и при оценке справедливости матрицы, мы часто хотим получить много образцов из одного и того же распределения. Было бы невыносимо медленно делать это с циклом Python for, поэтому random.multinomial поддерживает рисование нескольких выборок одновременно, возвращая массив независимых выборок в любой форме, которую мы могли бы пожелать."
      ]
    },
    {
      "cell_type": "code",
      "metadata": {
        "id": "WV1inNav9N1r",
        "colab": {
          "base_uri": "https://localhost:8080/"
        },
        "outputId": "c26b699d-bb5f-49a1-d013-4531cf44a55f"
      },
      "source": [
        "np.random.multinomial(1000000, fair_probs)/1000000"
      ],
      "execution_count": null,
      "outputs": [
        {
          "output_type": "execute_result",
          "data": {
            "text/plain": [
              "array([0.165554, 0.166915, 0.167383, 0.166602, 0.166968, 0.166578])"
            ]
          },
          "metadata": {
            "tags": []
          },
          "execution_count": 151
        }
      ]
    },
    {
      "cell_type": "markdown",
      "metadata": {
        "id": "zGumJ9aH9iUf"
      },
      "source": [
        "Мы также можем провести, скажем, 3 группы экспериментов, где каждая группа отбирает 10 образцов одновременно."
      ]
    },
    {
      "cell_type": "code",
      "metadata": {
        "id": "-DiSh-XE9c64",
        "colab": {
          "base_uri": "https://localhost:8080/"
        },
        "outputId": "e65d2afa-3825-431f-84bf-1154ba0a8ab6"
      },
      "source": [
        "counts = np.random.multinomial(10, fair_probs, size=3)\n",
        "counts"
      ],
      "execution_count": null,
      "outputs": [
        {
          "output_type": "execute_result",
          "data": {
            "text/plain": [
              "array([[3, 1, 3, 1, 2, 0],\n",
              "       [3, 3, 1, 1, 2, 0],\n",
              "       [1, 2, 2, 0, 3, 2]])"
            ]
          },
          "metadata": {
            "tags": []
          },
          "execution_count": 152
        }
      ]
    },
    {
      "cell_type": "markdown",
      "metadata": {
        "id": "MPzuc_DM9wtP"
      },
      "source": [
        "Мы можем посчитать, после каждого из 1000 бросков, сколько раз было брошено каждое число. В частности, мы рассчитываем относительную частоту как оценку истинной вероятности."
      ]
    },
    {
      "cell_type": "code",
      "metadata": {
        "id": "EGelHjCo9pI3",
        "colab": {
          "base_uri": "https://localhost:8080/"
        },
        "outputId": "f1868c01-6927-42ae-de1e-45a0c44322e8"
      },
      "source": [
        "1/6"
      ],
      "execution_count": null,
      "outputs": [
        {
          "output_type": "execute_result",
          "data": {
            "text/plain": [
              "0.16666666666666666"
            ]
          },
          "metadata": {
            "tags": []
          },
          "execution_count": 104
        }
      ]
    },
    {
      "cell_type": "code",
      "metadata": {
        "id": "GJ2mXPUv97N9",
        "colab": {
          "base_uri": "https://localhost:8080/"
        },
        "outputId": "0a654d89-a958-4f68-b344-20452415bc77"
      },
      "source": [
        "counts = np.random.multinomial(1000, fair_probs).astype(np.float32)\n",
        "counts / 1000"
      ],
      "execution_count": null,
      "outputs": [
        {
          "output_type": "execute_result",
          "data": {
            "text/plain": [
              "array([0.194, 0.186, 0.152, 0.163, 0.158, 0.147], dtype=float32)"
            ]
          },
          "metadata": {
            "tags": []
          },
          "execution_count": 105
        }
      ]
    },
    {
      "cell_type": "markdown",
      "metadata": {
        "id": "--Vi8QLn-FL2"
      },
      "source": [
        "Мы знаем, что каждый результат имеет истинную вероятность $\\frac{1}{6}$, примерно 0.167, поэтому вышеприведенные оценки выходных данных выглядят хорошо.\n",
        "\n",
        "Мы также можем визуализировать, как эти вероятности со временем сходятся к истинной вероятности. Давайте проведем 500 групп экспериментов, где каждая группа использует 10 сэмплов."
      ]
    },
    {
      "cell_type": "code",
      "metadata": {
        "id": "BO3hHLfF97ot",
        "colab": {
          "base_uri": "https://localhost:8080/",
          "height": 528
        },
        "outputId": "9cf30af8-5ab7-40dc-8839-59118006acac"
      },
      "source": [
        "counts = np.random.multinomial(10, fair_probs, size=1000)\n",
        "print(counts[:5])\n",
        "cum_counts = counts.astype(np.float32).cumsum(axis=0)\n",
        "print(cum_counts)\n",
        "estimates = cum_counts / cum_counts.sum(axis=1, keepdims=True)\n",
        "\n",
        "plt.figure(figsize=(6, 4.5))\n",
        "for i in range(6):\n",
        "    plt.plot(estimates[:, i],\n",
        "                 label=(\"P(значение=\" + str(i + 1) + \")\"))\n",
        "plt.axhline(y=0.167, color='black', linestyle='dashed')\n",
        "plt.gca().set_xlabel('Группы экспериментов')\n",
        "plt.gca().set_ylabel('Ожидаемая вероятность')\n",
        "plt.legend()"
      ],
      "execution_count": null,
      "outputs": [
        {
          "output_type": "stream",
          "text": [
            "[[1 0 5 0 4 0]\n",
            " [3 2 2 1 1 1]\n",
            " [1 4 2 1 2 0]\n",
            " [4 1 1 1 2 1]\n",
            " [0 3 0 4 3 0]]\n",
            "[[1.000e+00 0.000e+00 5.000e+00 0.000e+00 4.000e+00 0.000e+00]\n",
            " [4.000e+00 2.000e+00 7.000e+00 1.000e+00 5.000e+00 1.000e+00]\n",
            " [5.000e+00 6.000e+00 9.000e+00 2.000e+00 7.000e+00 1.000e+00]\n",
            " ...\n",
            " [1.625e+03 1.701e+03 1.683e+03 1.597e+03 1.677e+03 1.697e+03]\n",
            " [1.625e+03 1.704e+03 1.684e+03 1.601e+03 1.678e+03 1.698e+03]\n",
            " [1.627e+03 1.705e+03 1.686e+03 1.604e+03 1.680e+03 1.698e+03]]\n"
          ],
          "name": "stdout"
        },
        {
          "output_type": "execute_result",
          "data": {
            "text/plain": [
              "<matplotlib.legend.Legend at 0x7f10370cf198>"
            ]
          },
          "metadata": {
            "tags": []
          },
          "execution_count": 155
        },
        {
          "output_type": "display_data",
          "data": {
            "image/png": "[encoded data removed]",
            "text/plain": [
              "<Figure size 432x324 with 1 Axes>"
            ]
          },
          "metadata": {
            "tags": [],
            "needs_background": "light"
          }
        }
      ]
    },
    {
      "cell_type": "markdown",
      "metadata": {
        "id": "a0YcnFQu_8nh"
      },
      "source": [
        "### Аксиомы теории вероятностей"
      ]
    },
    {
      "cell_type": "markdown",
      "metadata": {
        "id": "ZvkgcGPgAId7"
      },
      "source": [
        "Имея дело с бросками кубика, мы называем набор $S = {1,2,3,4,5,6}$ пространством выходов (событий, пространство сэмплов), где каждый элемент является результатом. Событие - это набор результатов из данного выборочного пространства. Например, наблюдение 5 и «видение нечетного числа» ({1,3,5}) являются результатом события броска кубика. Обратите внимание, что если результатом случайного эксперимента является событие A (говорят, что произошло событие A). \n",
        "\n",
        "Формально вероятность можно представить как функцию, которая отображает множество в реальное значение. Вероятность события $A$ в данном выборочном пространстве $S$, обозначаемом как $P(A)$, удовлетворяет следующим свойствам: \n",
        "\n",
        "* Для любого события $A$ его вероятность никогда не бывает отрицательной, то есть $P (A) ≥ 0$\n",
        "* Вероятность всего выборочного пространства равна 1, т.е. $P(S) = 1$\n",
        "* Для любой исчисляемой последовательности событий $A1, A2, \\dots$, которые являются взаимоисключающими $Ai∩Aj = ∅$ для всех $i ≠ j$, вероятность того, что произойдет, равна сумме их индивидуальных вероятностей, т. е. $P (⋃^∞ _{i=1} = Ai) = ∑^∞_{i=1} P (Ai)$. (для наших приложений достаточно рассмотреть конечный случай, т.е. $\\inf$ заменить на $m \\le 2^{n}$, где $n$ это количество различных индивидуальных исходов).\n",
        "\n",
        "Это также аксиомы теории вероятностей, предложенные Колмогоровым в 1933 году. Благодаря этой системе аксиом мы можем избежать любого философского спора о случайности. Вместо этого мы можем строго рассуждать с математическим языком. Например, если событие $A_1$ будет всем пространством выходов и $Ai = ∅$ для всех $i> 1$, мы можем доказать, что $P(∅) = 0$ т.е. вероятность невозможного события 0."
      ]
    },
    {
      "cell_type": "markdown",
      "metadata": {
        "id": "Js2t_TmUDDcc"
      },
      "source": [
        "### Типы случайных величин\n",
        "\n",
        "В нашем случайном эксперименте по бросанию кубика мы ввели понятие случайной величины. Случайная величина может быть практически любой величиной и не является детерминированной. Она может принять одно значение среди множества возможностей в случайном эксперименте.\n",
        "\n",
        " Рассмотрим случайную величину X, значение которой находится в вероятностном пространстве $S = {1,2,3,4,5,6}$ подбрасывания кубика. Мы можем обозначить событие «выпадения 5» как ${X = 5}$ или $X = 5$, а его вероятность - как $P({X = 5})$ или $P(X = 5)$. Посредством $P (X = a)$ мы делаем различие между случайной величиной $X$ и значениями (например, a), которые может принимать $X$.\n",
        "\n",
        "Для компактных обозначений, с одной стороны, мы можем просто обозначить $P (X)$ как распределение по случайной переменной $X$: распределение говорит нам о вероятности того, что $X$ принимает любое значение. С другой стороны, мы можем просто написать $P_{X} (a)$, чтобы обозначить вероятность того, что случайная величина принимает значение $a$. Поскольку событие в теории вероятностей представляет собой набор результатов из пространства выходов, мы можем указать диапазон значений для случайной величины, которую нужно принять. Например, $P(1≤X≤3)$ обозначает вероятность события ${1≤X≤3}$, что означает ${X = 1,2 или 3}$. Эквивалентно, $P(1≤X≤3)$ представляет вероятность того, что случайная величина $X$ может принять значение от ${1,2,3}$."
      ]
    },
    {
      "cell_type": "markdown",
      "metadata": {
        "id": "iIFdbUS0E62d"
      },
      "source": [
        "Обратите внимание, что существует тонкая разница между дискретными случайными событиями (такими как стороны кубика) и непрерывными (такими как, например, вес и рост человека). Нет смысла спрашивать, имеют ли два человека одинаковую высоту. Если мы проведем достаточно точные измерения, вы обнаружите, что нет двух людей на планете, имеющих одинаковую высоту. На самом деле, если мы проведем достаточно точное измерение, у вас не будет такой же высоты, когда вы просыпаетесь и когда ложитесь спать. Поэтому нет смысла спрашивать о вероятности того, что кто-то имеет рост 1,80139278291028719210196740527486202 метра. \n",
        "\n",
        "Учитывая мировое население людей, вероятность практически равна 0 (говорят вероятность-ноль). В этом случае имеет смысл спросить, попадает ли чей-то рост в определенный интервал, скажем, между 1,79 и 1,81 метра. В этих случаях мы количественно оцениваем вероятность того, что мы видим значение как плотность. Высота ровно 1,80 метра не имеет вероятности, кроме ненулевой плотности. В интервале между любыми двумя разными высотами мы имеем ненулевую вероятность. Далее мы рассмотрим вероятность в дискретном пространстве, к непрерывным перейдем позднее."
      ]
    },
    {
      "cell_type": "markdown",
      "metadata": {
        "id": "H8czWP-zI0QS"
      },
      "source": [
        "## Несколько случайных величин"
      ]
    },
    {
      "cell_type": "markdown",
      "metadata": {
        "id": "6RpAtS5mK9s4"
      },
      "source": [
        "Очень часто мы хотим рассматривать более одной случайной величины одновременно. Например, мы можем захотеть смоделировать связь между болезнями и симптомами. Учитывая заболевание и симптом, скажем, «грипп» и «кашель», они могут возникать или не возникать у пациента с некоторой вероятностью. Хотя мы надеемся, что вероятность того и другого будет близка к нулю, мы, возможно, захотим оценить эти вероятности и их взаимосвязь друг с другом, чтобы мы могли применить наши выводы для улучшения медицинской помощи.\n",
        "\n",
        "В качестве более сложного примера изображения содержат миллионы пикселей, то есть миллионы случайных величин. И во многих случаях изображения будут сопровождаться меткой, идентифицирующей объекты на изображении. Мы также можем думать о метке как о случайной переменной. Мы можем даже рассматривать все метаданные как случайные переменные, такие как местоположение, время, апертура, фокусное расстояние, ISO, расстояние фокусировки и тип камеры. Все это случайные величины, встречаются совместно, т.е. реализуются совместно."
      ]
    },
    {
      "cell_type": "markdown",
      "metadata": {
        "id": "uvgmMRq5MN58"
      },
      "source": [
        "### Cовместная вероятность"
      ]
    },
    {
      "cell_type": "markdown",
      "metadata": {
        "id": "4ZwCc-wzMZLP"
      },
      "source": [
        "Обозначим совместной вероятностью P (A = a, B = b). При любых значениях a и b совместная вероятность позволяет нам ответить, какова вероятность того, что A = a и B = b одновременно? Обратите внимание, что для любых значений a и b  $P (A = a, B = b) ≤P (A = a)$. Это должно быть так, поскольку для того, чтобы произошли $A = a$ и $B = b$, должно произойти $A = a$ и также должно произойти $B = b$ (и наоборот). Таким образом, $A = a$ и $B = b$ не могут быть более вероятными, чем $A = a$ или $B = b$ в отдельности."
      ]
    },
    {
      "cell_type": "markdown",
      "metadata": {
        "id": "_JEuZ12bM2NS"
      },
      "source": [
        "### Условная вероятность"
      ]
    },
    {
      "cell_type": "markdown",
      "metadata": {
        "id": "m8z0veZCM4fU"
      },
      "source": [
        "Это приводит нас к интересному соотношению: $0≤\\frac{P(A=a,B=b)}{P(A=a)}≤1$ . Мы называем это отношение условной вероятностью и обозначаем его через $P (B=b∣A=a)$ : это вероятность $B=b$ , при условии, что $A=a$ произошло."
      ]
    },
    {
      "cell_type": "markdown",
      "metadata": {
        "id": "9PXHDw6OOhR-"
      },
      "source": [
        "Вероятность совместного появления двух зависимых событий равна произведению вероятности одного из них на условную вероятность второго, вычисленную при условии, что первое событие произошло, т.е.\n",
        "\n",
        "$P(AB) = P(B)P(A|B) = P(A)P(B|A)$\n",
        "\n",
        "Откуда формула для условной вероятности:\n",
        "\n",
        "$P(A|B) = \\frac{P(AB)}{P(B)}$"
      ]
    },
    {
      "cell_type": "markdown",
      "metadata": {
        "id": "b650nO8TRKlj"
      },
      "source": [
        "Пример:\n",
        "\n",
        "Бросают 2 игральные кости. Какова вероятность, что на первой кости выпало не более 2 очков, при условии, что сумма очков нечетная?\n",
        "\n",
        "Обозначим\n",
        "* А - сумма очнов нечетная\n",
        "* B - на первой кости выпало не более 2 очков\n",
        "* AB - сумма числа очков нечетная и на первой кости не выпало более 2 очков\n",
        "\n",
        "Тогда по формуле искомая вероятность будет\n",
        "\n",
        "$P(B|A) = \\frac{P(AB)}{P(A)}$\n",
        "\n",
        "Из 36 исходов 18 - нечетные, т.е. $P(A) = \\frac{18}{36} = \\frac{1}{2}$\n",
        "Из 36 исходов не более и на первой не более 2 благоприятно 6 исходов. (это суммы 3, 5, 7 - комбинации (1, 2), (1, 4), (1, 6), (2, 1), (2, 3), (2, 5)). Тогда $P(AB) = \\frac{6}{36} = \\frac{1}{6}$\n",
        "\n",
        "Тогда\n",
        "\n",
        "$P(B|A) = \\frac{P(AB)}{P(A)} = \\frac{1/6}{1/2} = \\frac{1}{3}$\n"
      ]
    },
    {
      "cell_type": "markdown",
      "metadata": {
        "id": "r4Tj_Jieb0tq"
      },
      "source": [
        "### Полная вероятность\n",
        "\n",
        "Если события $B_1, B_2, \\dots, B_n$ попарно несовместимы* (т.е. $B_iB_j = ∅$ - невозможное событие при любых i, j), их сумма является достоверным событием, то:\n",
        "\n",
        "$$P(A) = \\sum_{k=1}^{n} P(A, B_k) = \\sum_{k=1}^{n} P(B_k)P(A|B_k)$$\n",
        "\n",
        "$P(A)$ называют формулой полной вероятности, при условии, что среди событий $B_1, B_2, \\dots, B_n$ может наступить ровно одно и какое-нибудь из них обязательно наступит.\n",
        "\n",
        "*В теории вероятностей несколько событий называются несовместными или несовместимыми, если никакие из них не могут появиться одновременно в результате однократного проведения эксперимента (опыта).\n",
        "\n",
        "Формула полной вероятности позволяет вычислить вероятность интересующего события через условные вероятности этого события в предположении неких гипотез, а также вероятностей этих гипотез."
      ]
    },
    {
      "cell_type": "markdown",
      "metadata": {
        "id": "JWEN3u-ZbCtA"
      },
      "source": [
        "Еще пример:\n",
        " \n",
        "В пирамиде 5 винтовок, три из которых снабжены оптическим прицелом. Вероятность того, что стрелок поразит мишень при выстреле из винтовки с оптическим прицелом, равна 0,95. Для винтовки без оптического прицела эта вероятность равна 0,7. Найти вероятность того, что мишень будет поражена, если стрелок производит один выстрел из наудачу взятой винтовки.\n",
        "\n",
        "A - берем винтовку с оптическим прицелом\n",
        "B - берем винтовку без оптического прицела\n",
        "\n",
        "Тогда вероятности их взять будут $P(A) = \\frac{3}{5}$, $P(B) = \\frac{2}{5}$\n",
        "\n",
        "C - стрелок поразил цель\n",
        "\n",
        "Событие попадения по мишени со оптическим и без, по условию, $P(С|A) = 0.95$, $P(С|B) = 0.7$\n",
        "\n",
        "Полная вероятность будет выражена как\n",
        "\n",
        "$$P(C) = P(A)P(C|A) + P(B)P(C|B) = 0.6*0.95 + 0.4*0.7 = 0.57 + 0.28 = 0.85$$"
      ]
    },
    {
      "cell_type": "markdown",
      "metadata": {
        "id": "cpZ828R5eAjQ"
      },
      "source": [
        "### Теорма Байеса\n",
        "\n",
        "**Теорема Байеса** - одна из основных теорем элементарной теории вероятностей, которая позволяет определить вероятность какого-либо события при условии, что произошло другое статистически взаимозависимое с ним событие. Другими словами, по формуле Байеса можно более точно пересчитать вероятность, взяв в расчёт как ранее известную информацию, так и данные новых наблюдений. \n",
        "\n",
        "Используя определение условных вероятностей, мы можем вывести одно из самых полезных и знаменитых уравнений в статистике: теорему Байеса.\n",
        "\n",
        " Это происходит следующим образом. По конструкции мы имеем правило умножения, что $P(A,B)=P(B∣ A)P(A)$. По симметрии это также справедливо для $P(A,B)=P(A∣B)P(B)$. Предположим, что $P(B)>0$ . Решая для одной из условных переменных мы получаем\n",
        "\n",
        "$$P(A|B) = \\frac{P(B|A)P(A)}{P(B)}$$\n",
        "\n"
      ]
    },
    {
      "cell_type": "markdown",
      "metadata": {
        "id": "OzU6O7SDsSi8"
      },
      "source": [
        "- P(A) - априорная вероятность гипотезы А\n",
        "- P(B|A) - вероятность наступления гипотезы B при истинности гипотезы А\n",
        "- P(B) - полная вероятность наступления события B"
      ]
    },
    {
      "cell_type": "markdown",
      "metadata": {
        "id": "9tt1ZTD5fBUb"
      },
      "source": [
        "Хорошее объяснение из википедии:\n",
        "\n",
        "\n",
        "\n",
        "> Формула Байеса позволяет «переставить причину и следствие»: по известному факту события вычислить вероятность того, что оно было вызвано данной причиной.\n",
        "События, отражающие действие «причин», в данном случае называют гипотезами, так как они — предполагаемые события, повлёкшие данное. Безусловную вероятность справедливости гипотезы называют априорной (насколько вероятна причина вообще), а условную — с учётом факта произошедшего события — апостериорной (насколько вероятна причина оказалась с учётом данных о событии).\n",
        "\n"
      ]
    },
    {
      "cell_type": "markdown",
      "metadata": {
        "id": "wNOtJDlFeyE3"
      },
      "source": [
        "Пример:\n",
        "\n",
        "Электролампы изготавливаются на трех заводах. 1-й завод производит 30% общего количества ламп, 2-й – 55%, а 3-й – остальную часть. Продукция 1-го завода содержит 1% бракованных ламп, 2-го – 1,5%, 3-го – 2%. В магазин поступает продукция всех трех заводов. Купленная лампа оказалась с браком. Какова вероятность того, что она произведена 2-м заводом?\n",
        "\n"
      ]
    },
    {
      "cell_type": "code",
      "metadata": {
        "id": "HCs_8VDBuBXC"
      },
      "source": [
        "#TODO"
      ],
      "execution_count": null,
      "outputs": []
    },
    {
      "cell_type": "markdown",
      "metadata": {
        "id": "j0s_GDf8b_lI"
      },
      "source": [
        "#### Рассмотрим наиболее часто встречающиеся семейства дискретных распределений:    \n",
        "#### Распределение Бернулли.\n",
        " - Случайная величина имеет распределение Бернулли с параметром p, если она принимает значение 1 с вероятностью p и принимает значение 0 с вероятностью 1-p. В нашем случае, подбрасывание монетки имеет распределение Бернули с p = ?.\n",
        " \n",
        "#### Биномиальное распределение.\n",
        "\n",
        "Биномиальное распределение - распределение количества «успехов» в последовательности из \n",
        "n независимых случайных экспериментов, таких, что вероятность «успеха» в каждом из них постоянна и равна \n",
        "p.\n",
        "\n",
        " - Случайная величина имеет биномиальное распределение с параметрами **n** и **p**, если оно принимает **n** значений и вероятность того, что случайная величина принимает значение **k** равно $C^k_n p^k (1 - p)^{n-k}$, где $C^k_n $ - это число сочетаний из **n** по **k**, т.н. биноминальный коэффициент $\\frac{n!}{k!(n-k)!}$, где $n!$ - факториал, произведение всех целых чисел от 1 до **n**.\n"
      ]
    },
    {
      "cell_type": "markdown",
      "metadata": {
        "id": "sRwWF3G8dGED"
      },
      "source": [
        "### Бернули\n",
        "\n",
        "Это самая простая случайная величина, которая обычно встречается. Эта случайная величина кодирует подбрасывание монеты, которое дает 1 с вероятностью p и 0 с вероятностью 1-p . Если у нас есть случайная величина X с таким распределением, то мы напишем\n",
        "\n",
        "$X∼Bernoulli(p)$\n",
        "\n",
        "\\begin{split}F(x) = \\begin{cases} 0 & x < 0, \\\\ 1-p & 0 \\le x < 1, \\\\ 1 & x >= 1 . \\end{cases}\\end{split}"
      ]
    },
    {
      "cell_type": "code",
      "metadata": {
        "colab": {
          "base_uri": "https://localhost:8080/",
          "height": 279
        },
        "id": "c2BUDaZfdLVN",
        "outputId": "14c35767-12d5-4f4e-d8ae-791d5e9554ba"
      },
      "source": [
        "p = 0.3\n",
        "\n",
        "plt.stem([0, 1], [1 - p, p], use_line_collection=True)\n",
        "plt.xlabel('x')\n",
        "plt.ylabel('p.m.f.')\n",
        "plt.show()"
      ],
      "execution_count": null,
      "outputs": [
        {
          "output_type": "display_data",
          "data": {
            "image/png": "[encoded data removed]",
            "text/plain": [
              "<Figure size 432x288 with 1 Axes>"
            ]
          },
          "metadata": {
            "tags": [],
            "needs_background": "light"
          }
        }
      ]
    },
    {
      "cell_type": "code",
      "metadata": {
        "colab": {
          "base_uri": "https://localhost:8080/",
          "height": 282
        },
        "id": "l9T1yWmydLep",
        "outputId": "39ae7ac6-cefa-427f-e001-5ffffdd04482"
      },
      "source": [
        "x = np.arange(-1, 2, 0.01)\n",
        "\n",
        "def F(x):\n",
        "    return 0 if x < 0 else 1 if x > 1 else 1 - p\n",
        "\n",
        "plt.plot(x, np.array([F(y) for y in x]))"
      ],
      "execution_count": null,
      "outputs": [
        {
          "output_type": "execute_result",
          "data": {
            "text/plain": [
              "[<matplotlib.lines.Line2D at 0x7f102f791f60>]"
            ]
          },
          "metadata": {
            "tags": []
          },
          "execution_count": 109
        },
        {
          "output_type": "display_data",
          "data": {
            "image/png": "[encoded data removed]",
            "text/plain": [
              "<Figure size 432x288 with 1 Axes>"
            ]
          },
          "metadata": {
            "tags": [],
            "needs_background": "light"
          }
        }
      ]
    },
    {
      "cell_type": "code",
      "metadata": {
        "colab": {
          "base_uri": "https://localhost:8080/",
          "height": 265
        },
        "id": "tJmIpaBCdQLU",
        "outputId": "c984afce-f71d-4d45-d5be-9b5ae254f897"
      },
      "source": [
        "x = 0.5\n",
        "\n",
        "arr = [sum(np.array([(0 if np.random.uniform(0, 1)>x else 1) for i in range(100)])) for j in range(100000)]\n",
        "\n",
        "# оцениваем вероятность получить тот или иной набор реализаций с помощью формы биномиального распределения\n",
        "plt.hist(arr, bins=100, density=True)\n",
        "plt.show()"
      ],
      "execution_count": null,
      "outputs": [
        {
          "output_type": "display_data",
          "data": {
            "image/png": "[encoded data removed]",
            "text/plain": [
              "<Figure size 432x288 with 1 Axes>"
            ]
          },
          "metadata": {
            "tags": [],
            "needs_background": "light"
          }
        }
      ]
    },
    {
      "cell_type": "code",
      "metadata": {
        "colab": {
          "base_uri": "https://localhost:8080/",
          "height": 279
        },
        "id": "fAEEg-QZc-Gi",
        "outputId": "80ad88b5-9420-4434-938e-f686c021b9c4"
      },
      "source": [
        "n = 20\n",
        "p = 0.8\n",
        "\n",
        "def binomial(n, k):\n",
        "    comb =1\n",
        "    for i in range(min(k, n-k)):\n",
        "        comb = comb*(n-i) // (i+1)\n",
        "    return comb\n",
        "\n",
        "pmf = np.array([p**i * (1-p)**(n-i) * binomial(n, i) for i in range(n+1)]  )\n",
        "\n",
        "plt.stem([i for i in range(n + 1)], pmf, use_line_collection=True)\n",
        "plt.xlabel('x')\n",
        "plt.ylabel('p.m.f.')\n",
        "plt.show()"
      ],
      "execution_count": null,
      "outputs": [
        {
          "output_type": "display_data",
          "data": {
            "image/png": "[encoded data removed]",
            "text/plain": [
              "<Figure size 432x288 with 1 Axes>"
            ]
          },
          "metadata": {
            "tags": [],
            "needs_background": "light"
          }
        }
      ]
    },
    {
      "cell_type": "code",
      "metadata": {
        "colab": {
          "base_uri": "https://localhost:8080/",
          "height": 282
        },
        "id": "Xs01vL-1dUB9",
        "outputId": "b5871889-6d29-4ada-a406-68e7fce6319f"
      },
      "source": [
        "pmf = np.cumsum(pmf)\n",
        "\n",
        "x = np.arange(-1, 11, 0.01)\n",
        "\n",
        "def F(x):\n",
        "    return 0 if x < 0 else 1 if x>n else pmf[int(x)]\n",
        "\n",
        "plt.plot(x, np.array([F(y) for y in x.tolist()]))"
      ],
      "execution_count": null,
      "outputs": [
        {
          "output_type": "execute_result",
          "data": {
            "text/plain": [
              "[<matplotlib.lines.Line2D at 0x7f10374765c0>]"
            ]
          },
          "metadata": {
            "tags": []
          },
          "execution_count": 112
        },
        {
          "output_type": "display_data",
          "data": {
            "image/png": "[encoded data removed]",
            "text/plain": [
              "<Figure size 432x288 with 1 Axes>"
            ]
          },
          "metadata": {
            "tags": [],
            "needs_background": "light"
          }
        }
      ]
    },
    {
      "cell_type": "markdown",
      "metadata": {
        "id": "i3jZ5nOCdp0m"
      },
      "source": [
        "#### Распределение Пуассона.\n",
        "- Получается из биномиального распределения, когда **n** делаем очень большим, а **p** очень маленьким.\n",
        "- Распределение Пуассона моделирует случайную величину, представляющую собой число событий, произошедших за фиксированное время, при условии, что данные события происходят с некоторой фиксированной средней интенсивностью и независимо друг от друга., например количество звонков, поступивших на телефонную станцию за один астрономический час.\n",
        "- Случайная величина имеет распределение Пуассона с параметрами $\\lambda > 0$, она принимает счетное множество значений, и вероятность того что случайна величина примет значение $k$ будет равно $\\frac{\\lambda^k}{k!}e^{-\\lambda}$.  "
      ]
    },
    {
      "cell_type": "markdown",
      "metadata": {
        "id": "yDmphtEmeZ1C"
      },
      "source": [
        "Распределние Пуассона:\n",
        "\n",
        "$$f(k ; \\lambda)=\\frac{\\lambda^{k} e^{-\\lambda}}{k !}$$\n",
        "\n",
        "где:\n",
        "- $\\lambda$ - математическое ожидание случайной величины (среднее количество событий за фиксированный промежуток времени),\n",
        "- $k!$ - обозначает факториал числа k\n",
        "- $e = 2,7182...$ - основание натурального логарифма"
      ]
    },
    {
      "cell_type": "code",
      "metadata": {
        "id": "JjONmp6Lu_VQ"
      },
      "source": [
        ""
      ],
      "execution_count": null,
      "outputs": []
    },
    {
      "cell_type": "code",
      "metadata": {
        "id": "ZEzJs9YYfGkk"
      },
      "source": [
        "### Функция, на вход массив, на выход тоже массив\n",
        "### ВАШ КОД ЗДЕСЬ\n",
        "import math\n",
        "def my_poisson(x, mu):\n",
        "    pass"
      ],
      "execution_count": null,
      "outputs": []
    },
    {
      "cell_type": "code",
      "metadata": {
        "id": "i-eCrhT-wHap"
      },
      "source": [
        "# Так выглядит функция вероятности распределения Пуассона с параметром 2\n",
        "mu = 2\n",
        "plt.figure(figsize=(10, 6))\n",
        "x = np.arange(10)\n",
        "plt.vlines(x, #координтаты\n",
        "           0, my_poisson(x, mu), # столбики идут от 0 до my_poisson(x, mu)\n",
        "           colors='b', lw=5, alpha=0.5)"
      ],
      "execution_count": null,
      "outputs": []
    },
    {
      "cell_type": "code",
      "metadata": {
        "id": "mAAX-cf6fK_7"
      },
      "source": [
        ""
      ],
      "execution_count": null,
      "outputs": []
    },
    {
      "cell_type": "code",
      "metadata": {
        "colab": {
          "base_uri": "https://localhost:8080/"
        },
        "id": "1wGzCoQbfLd9",
        "outputId": "887ceb3d-d979-4e21-dce6-380bc7c8ff46"
      },
      "source": [
        "from numpy import random\n",
        "\n",
        "x = random.poisson(lam=2, size=10)\n",
        "\n",
        "print(x)"
      ],
      "execution_count": null,
      "outputs": [
        {
          "output_type": "stream",
          "text": [
            "[3 1 3 1 0 4 4 6 1 3]\n"
          ],
          "name": "stdout"
        }
      ]
    },
    {
      "cell_type": "code",
      "metadata": {
        "colab": {
          "base_uri": "https://localhost:8080/",
          "height": 322
        },
        "id": "0SJZtQ8kgN69",
        "outputId": "554c69eb-2ab6-4be4-db8e-61bea370854d"
      },
      "source": [
        "from numpy import random\n",
        "import matplotlib.pyplot as plt\n",
        "import seaborn as sns\n",
        "\n",
        "sns.distplot(random.poisson(lam=2, size=1000), kde=False)\n",
        "\n",
        "plt.show()"
      ],
      "execution_count": null,
      "outputs": [
        {
          "output_type": "stream",
          "text": [
            "/usr/local/lib/python3.6/dist-packages/seaborn/distributions.py:2551: FutureWarning: `distplot` is a deprecated function and will be removed in a future version. Please adapt your code to use either `displot` (a figure-level function with similar flexibility) or `histplot` (an axes-level function for histograms).\n",
            "  warnings.warn(msg, FutureWarning)\n"
          ],
          "name": "stderr"
        },
        {
          "output_type": "display_data",
          "data": {
            "image/png": "[encoded data removed]",
            "text/plain": [
              "<Figure size 432x288 with 1 Axes>"
            ]
          },
          "metadata": {
            "tags": [],
            "needs_background": "light"
          }
        }
      ]
    },
    {
      "cell_type": "code",
      "metadata": {
        "id": "GZEZHugfeO3-"
      },
      "source": [
        "#сгенерируем набор значений из распределения пуассона\n",
        "s = np.random.poisson(5, 10000)"
      ],
      "execution_count": null,
      "outputs": []
    },
    {
      "cell_type": "code",
      "metadata": {
        "colab": {
          "base_uri": "https://localhost:8080/",
          "height": 265
        },
        "id": "Uk57lqyUeQYy",
        "outputId": "e9843f75-0fe0-4aa4-c3e2-c14123c03150"
      },
      "source": [
        "#построим распределение\n",
        "count, bins, ignored = plt.hist(s, 14, density=True)\n",
        "plt.show()"
      ],
      "execution_count": null,
      "outputs": [
        {
          "output_type": "display_data",
          "data": {
            "image/png": "[encoded data removed]",
            "text/plain": [
              "<Figure size 432x288 with 1 Axes>"
            ]
          },
          "metadata": {
            "tags": [],
            "needs_background": "light"
          }
        }
      ]
    },
    {
      "cell_type": "markdown",
      "metadata": {
        "id": "dEJig4O9gTwh"
      },
      "source": [
        "## Разница между Нормальным распределением и распределением Пуассона"
      ]
    },
    {
      "cell_type": "code",
      "metadata": {
        "colab": {
          "base_uri": "https://localhost:8080/",
          "height": 353
        },
        "id": "wuMGdUkJgSUK",
        "outputId": "c7ea28d1-60f0-4de4-a078-d09c0da43deb"
      },
      "source": [
        "from numpy import random\n",
        "import matplotlib.pyplot as plt\n",
        "import seaborn as sns\n",
        "\n",
        "sns.distplot(random.normal(loc=50, scale=7, size=1000), hist=False, label='normal')\n",
        "sns.distplot(random.poisson(lam=50, size=1000), hist=False, label='poisson')\n",
        "plt.legend()\n",
        "\n",
        "plt.show()"
      ],
      "execution_count": null,
      "outputs": [
        {
          "output_type": "stream",
          "text": [
            "/usr/local/lib/python3.6/dist-packages/seaborn/distributions.py:2551: FutureWarning: `distplot` is a deprecated function and will be removed in a future version. Please adapt your code to use either `displot` (a figure-level function with similar flexibility) or `kdeplot` (an axes-level function for kernel density plots).\n",
            "  warnings.warn(msg, FutureWarning)\n",
            "/usr/local/lib/python3.6/dist-packages/seaborn/distributions.py:2551: FutureWarning: `distplot` is a deprecated function and will be removed in a future version. Please adapt your code to use either `displot` (a figure-level function with similar flexibility) or `kdeplot` (an axes-level function for kernel density plots).\n",
            "  warnings.warn(msg, FutureWarning)\n"
          ],
          "name": "stderr"
        },
        {
          "output_type": "display_data",
          "data": {
            "image/png": "[encoded data removed]",
            "text/plain": [
              "<Figure size 432x288 with 1 Axes>"
            ]
          },
          "metadata": {
            "tags": [],
            "needs_background": "light"
          }
        }
      ]
    },
    {
      "cell_type": "markdown",
      "metadata": {
        "id": "fTynJJBch2RY"
      },
      "source": [
        "## Разница между Биномиальным распределением и распределением Пуассона"
      ]
    },
    {
      "cell_type": "code",
      "metadata": {
        "colab": {
          "base_uri": "https://localhost:8080/",
          "height": 353
        },
        "id": "S1S_MD1xh6iP",
        "outputId": "aeca95fd-b251-4da7-c7db-31e7e6c1288b"
      },
      "source": [
        "sns.distplot(random.binomial(n=1000, p=0.01, size=1000), hist=False, label='binomial')\n",
        "sns.distplot(random.poisson(lam=10, size=1000), hist=False, label='poisson')\n",
        "plt.legend()\n",
        "\n",
        "plt.show()"
      ],
      "execution_count": null,
      "outputs": [
        {
          "output_type": "stream",
          "text": [
            "/usr/local/lib/python3.6/dist-packages/seaborn/distributions.py:2551: FutureWarning: `distplot` is a deprecated function and will be removed in a future version. Please adapt your code to use either `displot` (a figure-level function with similar flexibility) or `kdeplot` (an axes-level function for kernel density plots).\n",
            "  warnings.warn(msg, FutureWarning)\n",
            "/usr/local/lib/python3.6/dist-packages/seaborn/distributions.py:2551: FutureWarning: `distplot` is a deprecated function and will be removed in a future version. Please adapt your code to use either `displot` (a figure-level function with similar flexibility) or `kdeplot` (an axes-level function for kernel density plots).\n",
            "  warnings.warn(msg, FutureWarning)\n"
          ],
          "name": "stderr"
        },
        {
          "output_type": "display_data",
          "data": {
            "image/png": "[encoded data removed]",
            "text/plain": [
              "<Figure size 432x288 with 1 Axes>"
            ]
          },
          "metadata": {
            "tags": [],
            "needs_background": "light"
          }
        }
      ]
    },
    {
      "cell_type": "markdown",
      "metadata": {
        "id": "n-eX7LSAbX29"
      },
      "source": [
        "\n",
        "### Основных характеристиках, которые описывают распределения\n",
        "\n",
        "Теперь поговорим об основных характеристиках, которые описывают распределения: мат.ожидание, медиана, дисперсия, перцентиль.\n",
        "- Мат. ожидание - это число, характеризующее случайную величину, интерпретировать его можно по-разному, самый простой подход - среднее арифметическое элементов выборки.\n",
        "- Медиа́на — это число, характеризующее случайную величину. Если все элементы выборки различны, то медиана — это такое число выборки, что ровно половина из элементов выборки больше него, а другая половина меньше него. В более общем случае медиану можно найти, упорядочив элементы выборки по возрастанию или убыванию и взяв средний элемент. Например, выборка {11, 9, 3, 5, 5} после упорядочивания превращается в {3, 5, 5, 9, 11} и её медианой является число 5. Если в выборке чётное число элементов, медиана может быть не определена однозначно: для числовых данных чаще всего используют полусумму двух соседних значений (то есть медиану набора {1, 3, 5, 7} принимают равной 4). Если имеем распределение, то медиана - это такая точка, которая разделяет распределение на две равные части. Грубо говоря, медианой случайной величины является такое число, что вероятность получить значение случайной величины справа от него равна вероятности получить значение слева от него (и они обе равны 1/2).\n",
        "\n",
        "\n",
        "В чем разница между медианой и средним значением?\n",
        "\n",
        "Предположим, что в одной комнате оказалось 19 бедняков и один миллионер. У каждого бедняка есть 5, а у миллионера — 1 млн. В сумме получается 1 000 095. Если мы разделим деньги равными долями на 20 человек, то получим 50 004,75. Это будет среднее арифметическое значение суммы денег, которая была у всех 20 человек в этой комнате. Медиана в этом случае будет равна 5 (полусумма десятого и одиннадцатого, срединных значений ранжированного ряда). Можно интерпретировать это следующим образом. Разделив нашу компанию на две равные группы по 10 человек (предварительно отсортировав), мы можем утверждать, что в первой группе у каждого не больше 5, во второй же не меньше 5. В общем случае можно сказать, что медиана это то, сколько принёс с собой «средний» человек. Видно, среднее арифметическое — неподходящая характеристика, так как оно значительно превышает сумму наличных, имеющуюся у среднего человека.\n",
        "Вопрос: о чем нам скажет разность мат.ожидания и медианы?\n",
        "\n",
        "-Дисперсия - это мера разброса случайно величины относительно мат.ожидания, иными словами насколько чем дисперсия меньше чем случайная величина менее случайна, и наоборот.\n",
        "\n",
        "**Задание:**\n",
        "У какой случайной величины дисперсия будет равна нулю?\n"
      ]
    },
    {
      "cell_type": "markdown",
      "metadata": {
        "id": "VzGzrNigintU"
      },
      "source": [
        "### Математическое ожидание\n",
        "Пусть X — случайная величина, определённая на некотором вероятностном пространстве.\n",
        "\n",
        "Чтобы суммировать ключевые характеристики вероятностных распределений, нам нужны некоторые меры. Математическое ожидание (или среднее значение) случайной величины X обозначается как\n",
        "\n",
        "$$M[X] = E[X] = \\sum_x xP(X=x)$$\n",
        "\n",
        "\n",
        "\n",
        "Когда вход функции $f(x)$ является случайной величиной, полученной из распределения $P$ с различными значениями $x$, математическое ожидание $f(x)$ вычисляется как\n",
        "\n",
        "$$E_{x~P}[f(x)] = \\sum_xf(x)P(x)$$\n",
        "\n",
        "означает среднее (взвешенное по вероятностям возможных значений) значение случайной величины. \n",
        "\n",
        "Во многих случаях мы хотим измерить, насколько случайная величина X отклоняется от своего математического ожидания. Это может быть количественно выражено дисперсией:\n",
        "\n",
        "$$Var[X] = E[(X - E[X])^2] = E[X^2] - E[X]^2$$\n",
        "\n",
        "**Доказательство:**\n",
        "$$\n",
        "\\begin{aligned}\n",
        "    E[(X - E[X])^2] &= E[X^2 - 2 X E[X] + (E[X])^2] =\\\\\n",
        "    &= E[X^2] - 2 E[X] E[X]  + (E[X])^2 =\\\\\n",
        "    &= E[X^2] - (E[X])^2\n",
        "\\end{aligned}\n",
        "$$\n",
        "\n",
        "Квадратный корень диспресии называется стандартным отклонением. Дисперсия функции случайной величины измеряется тем, насколько функция отклоняется от математического ожидания функции, поскольку из ее распределения выбираются различные значения x случайной величины:\n",
        "\n",
        "$$Var[f(x)] = E[(f(x) - E[f(x)])^2$$\n",
        "\n",
        "другое определение: \n",
        "\n",
        "- Дисперсией случайной величины называют математическое ожидание квадрата отклонения случайной величины от её математического ожидания.\n",
        "\n",
        "- Среднеквадратическое отклонение - наиболее распространённый показатель рассеивания значений случайной величины относительно её математического ожидания. \n"
      ]
    },
    {
      "cell_type": "markdown",
      "metadata": {
        "id": "Aa4lmNtDOEBF"
      },
      "source": [
        "![image.png](data:image/png;base64,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)"
      ]
    },
    {
      "cell_type": "markdown",
      "metadata": {
        "id": "kOkb2sMwlM4-"
      },
      "source": [
        "## Корреляция случайных величин"
      ]
    },
    {
      "cell_type": "markdown",
      "metadata": {
        "id": "qlu0W1p0lQMR"
      },
      "source": [
        "Корреля́ция (от лат. correlatio «соотношение, взаимосвязь») или корреляционная зависимость — статистическая взаимосвязь двух или более случайных величин (либо величин, которые можно с некоторой допустимой степенью точности считать таковыми). При этом изменения значений одной или нескольких из этих величин сопутствуют систематическому изменению значений другой или других величин"
      ]
    },
    {
      "cell_type": "markdown",
      "metadata": {
        "id": "Wi3ukFgClTkj"
      },
      "source": [
        "### Коэффициент корреляции"
      ]
    },
    {
      "cell_type": "markdown",
      "metadata": {
        "id": "Om-WFyoiUOn_"
      },
      "source": [
        "Переменные в наборе данных могут быть связаны по многим причинам.\n",
        "\n",
        "Например:\n",
        "\n",
        "- Одна переменная может вызывать или зависеть от значений другой переменной.\n",
        "- Одна переменная может быть легко связана с другой переменной.\n",
        "- Две переменные могут зависеть от третьей неизвестной переменной.\n",
        "\n",
        "Виды корреляции:\n",
        "\n",
        "- **Положительное соотношение:** обе переменные изменяются в одном направлении.\n",
        "- **Нейтральная корреляция:** Нет связи в изменении переменных.\n",
        "- **Отрицательная корреляция:** переменные меняются в противоположных направлениях."
      ]
    },
    {
      "cell_type": "code",
      "metadata": {
        "colab": {
          "base_uri": "https://localhost:8080/"
        },
        "id": "8EsKx5FSlRVv",
        "outputId": "371c1f60-b466-4739-fd3c-1c6b24f46c74"
      },
      "source": [
        "val1 = np.linspace(1, 100, 100)\n",
        "val2 = 70*val1 - 22.5\n",
        "data = pd.DataFrame({'val2': val2, 'val1':val1})\n",
        "data.val1.corr(data.val2)"
      ],
      "execution_count": 51,
      "outputs": [
        {
          "output_type": "execute_result",
          "data": {
            "text/plain": [
              "1.0"
            ]
          },
          "metadata": {
            "tags": []
          },
          "execution_count": 51
        }
      ]
    },
    {
      "cell_type": "code",
      "metadata": {
        "colab": {
          "base_uri": "https://localhost:8080/",
          "height": 419
        },
        "id": "o6tgGMTOaAyc",
        "outputId": "d11567e7-faf2-46a3-c8ed-247d4fc3456c"
      },
      "source": [
        "data"
      ],
      "execution_count": 52,
      "outputs": [
        {
          "output_type": "execute_result",
          "data": {
            "text/html": [
              "<div>\n",
              "<style scoped>\n",
              "    .dataframe tbody tr th:only-of-type {\n",
              "        vertical-align: middle;\n",
              "    }\n",
              "\n",
              "    .dataframe tbody tr th {\n",
              "        vertical-align: top;\n",
              "    }\n",
              "\n",
              "    .dataframe thead th {\n",
              "        text-align: right;\n",
              "    }\n",
              "</style>\n",
              "<table border=\"1\" class=\"dataframe\">\n",
              "  <thead>\n",
              "    <tr style=\"text-align: right;\">\n",
              "      <th></th>\n",
              "      <th>val2</th>\n",
              "      <th>val1</th>\n",
              "    </tr>\n",
              "  </thead>\n",
              "  <tbody>\n",
              "    <tr>\n",
              "      <th>0</th>\n",
              "      <td>47.5</td>\n",
              "      <td>1.0</td>\n",
              "    </tr>\n",
              "    <tr>\n",
              "      <th>1</th>\n",
              "      <td>117.5</td>\n",
              "      <td>2.0</td>\n",
              "    </tr>\n",
              "    <tr>\n",
              "      <th>2</th>\n",
              "      <td>187.5</td>\n",
              "      <td>3.0</td>\n",
              "    </tr>\n",
              "    <tr>\n",
              "      <th>3</th>\n",
              "      <td>257.5</td>\n",
              "      <td>4.0</td>\n",
              "    </tr>\n",
              "    <tr>\n",
              "      <th>4</th>\n",
              "      <td>327.5</td>\n",
              "      <td>5.0</td>\n",
              "    </tr>\n",
              "    <tr>\n",
              "      <th>...</th>\n",
              "      <td>...</td>\n",
              "      <td>...</td>\n",
              "    </tr>\n",
              "    <tr>\n",
              "      <th>95</th>\n",
              "      <td>6697.5</td>\n",
              "      <td>96.0</td>\n",
              "    </tr>\n",
              "    <tr>\n",
              "      <th>96</th>\n",
              "      <td>6767.5</td>\n",
              "      <td>97.0</td>\n",
              "    </tr>\n",
              "    <tr>\n",
              "      <th>97</th>\n",
              "      <td>6837.5</td>\n",
              "      <td>98.0</td>\n",
              "    </tr>\n",
              "    <tr>\n",
              "      <th>98</th>\n",
              "      <td>6907.5</td>\n",
              "      <td>99.0</td>\n",
              "    </tr>\n",
              "    <tr>\n",
              "      <th>99</th>\n",
              "      <td>6977.5</td>\n",
              "      <td>100.0</td>\n",
              "    </tr>\n",
              "  </tbody>\n",
              "</table>\n",
              "<p>100 rows × 2 columns</p>\n",
              "</div>"
            ],
            "text/plain": [
              "      val2   val1\n",
              "0     47.5    1.0\n",
              "1    117.5    2.0\n",
              "2    187.5    3.0\n",
              "3    257.5    4.0\n",
              "4    327.5    5.0\n",
              "..     ...    ...\n",
              "95  6697.5   96.0\n",
              "96  6767.5   97.0\n",
              "97  6837.5   98.0\n",
              "98  6907.5   99.0\n",
              "99  6977.5  100.0\n",
              "\n",
              "[100 rows x 2 columns]"
            ]
          },
          "metadata": {
            "tags": []
          },
          "execution_count": 52
        }
      ]
    },
    {
      "cell_type": "markdown",
      "metadata": {
        "id": "tmIUFyGyTh9L"
      },
      "source": [
        "По дефолту, pandas использует коэффициент корреляции пирсона при вызове df.corr(), коэффициент корреляции Пирсона между двумя переменными x, y находится по следующей формуле:\n",
        "\n",
        "$$\n",
        "r_{x y}=\\frac{n \\sum x_{i} y_{i}-\\sum x_{i} \\sum y_{i}}{\\sqrt{n \\sum x_{i}^{2}-\\left(\\sum x_{i}\\right)^{2}} \\sqrt{n \\sum y_{i}^{2}-\\left(\\sum y_{i}\\right)^{2}}}\n",
        "$$"
      ]
    },
    {
      "cell_type": "markdown",
      "metadata": {
        "id": "3APB9HelUkw5"
      },
      "source": [
        "**Производительность** некоторых алгоритмов **может ухудшиться**, если **две или более переменных тесно связаны между собой**, что называется мультиколлинеарностью. Примером является линейная регрессия, где одна из нарушенных коррелированных переменных должна быть удалена, чтобы улучшить навыки модели.\n",
        "\n",
        "Мы также можем быть заинтересованы в корреляции между входными переменными и выходной переменной, чтобы дать представление о том, какие переменные могут или не могут иметь значение в качестве входных данных для разработки модели."
      ]
    },
    {
      "cell_type": "code",
      "metadata": {
        "colab": {
          "base_uri": "https://localhost:8080/",
          "height": 419
        },
        "id": "yENDV_YalcIS",
        "outputId": "c7fa457d-ee25-40a9-e73c-1cdcbb4ef026"
      },
      "source": [
        "data"
      ],
      "execution_count": 36,
      "outputs": [
        {
          "output_type": "execute_result",
          "data": {
            "text/html": [
              "<div>\n",
              "<style scoped>\n",
              "    .dataframe tbody tr th:only-of-type {\n",
              "        vertical-align: middle;\n",
              "    }\n",
              "\n",
              "    .dataframe tbody tr th {\n",
              "        vertical-align: top;\n",
              "    }\n",
              "\n",
              "    .dataframe thead th {\n",
              "        text-align: right;\n",
              "    }\n",
              "</style>\n",
              "<table border=\"1\" class=\"dataframe\">\n",
              "  <thead>\n",
              "    <tr style=\"text-align: right;\">\n",
              "      <th></th>\n",
              "      <th>val2</th>\n",
              "      <th>val1</th>\n",
              "    </tr>\n",
              "  </thead>\n",
              "  <tbody>\n",
              "    <tr>\n",
              "      <th>0</th>\n",
              "      <td>47.5</td>\n",
              "      <td>1.0</td>\n",
              "    </tr>\n",
              "    <tr>\n",
              "      <th>1</th>\n",
              "      <td>117.5</td>\n",
              "      <td>2.0</td>\n",
              "    </tr>\n",
              "    <tr>\n",
              "      <th>2</th>\n",
              "      <td>187.5</td>\n",
              "      <td>3.0</td>\n",
              "    </tr>\n",
              "    <tr>\n",
              "      <th>3</th>\n",
              "      <td>257.5</td>\n",
              "      <td>4.0</td>\n",
              "    </tr>\n",
              "    <tr>\n",
              "      <th>4</th>\n",
              "      <td>327.5</td>\n",
              "      <td>5.0</td>\n",
              "    </tr>\n",
              "    <tr>\n",
              "      <th>...</th>\n",
              "      <td>...</td>\n",
              "      <td>...</td>\n",
              "    </tr>\n",
              "    <tr>\n",
              "      <th>95</th>\n",
              "      <td>6697.5</td>\n",
              "      <td>96.0</td>\n",
              "    </tr>\n",
              "    <tr>\n",
              "      <th>96</th>\n",
              "      <td>6767.5</td>\n",
              "      <td>97.0</td>\n",
              "    </tr>\n",
              "    <tr>\n",
              "      <th>97</th>\n",
              "      <td>6837.5</td>\n",
              "      <td>98.0</td>\n",
              "    </tr>\n",
              "    <tr>\n",
              "      <th>98</th>\n",
              "      <td>6907.5</td>\n",
              "      <td>99.0</td>\n",
              "    </tr>\n",
              "    <tr>\n",
              "      <th>99</th>\n",
              "      <td>6977.5</td>\n",
              "      <td>100.0</td>\n",
              "    </tr>\n",
              "  </tbody>\n",
              "</table>\n",
              "<p>100 rows × 2 columns</p>\n",
              "</div>"
            ],
            "text/plain": [
              "      val2   val1\n",
              "0     47.5    1.0\n",
              "1    117.5    2.0\n",
              "2    187.5    3.0\n",
              "3    257.5    4.0\n",
              "4    327.5    5.0\n",
              "..     ...    ...\n",
              "95  6697.5   96.0\n",
              "96  6767.5   97.0\n",
              "97  6837.5   98.0\n",
              "98  6907.5   99.0\n",
              "99  6977.5  100.0\n",
              "\n",
              "[100 rows x 2 columns]"
            ]
          },
          "metadata": {
            "tags": []
          },
          "execution_count": 36
        }
      ]
    },
    {
      "cell_type": "code",
      "metadata": {
        "colab": {
          "base_uri": "https://localhost:8080/",
          "height": 374
        },
        "id": "D8utwG5flX4r",
        "outputId": "92017d42-d972-4bc9-9a44-934df7bf653f"
      },
      "source": [
        "plt.figure(figsize = (10, 6))\n",
        "plt.scatter(data.val1, data.val2)\n",
        "plt.show()"
      ],
      "execution_count": 37,
      "outputs": [
        {
          "output_type": "display_data",
          "data": {
            "image/png": "[encoded data removed]",
            "text/plain": [
              "<Figure size 720x432 with 1 Axes>"
            ]
          },
          "metadata": {
            "tags": [],
            "needs_background": "light"
          }
        }
      ]
    },
    {
      "cell_type": "markdown",
      "metadata": {
        "id": "00Zu70yLR1_i"
      },
      "source": [
        "Еще пример"
      ]
    },
    {
      "cell_type": "code",
      "metadata": {
        "colab": {
          "base_uri": "https://localhost:8080/"
        },
        "id": "Ol0AcXWFR3yx",
        "outputId": "c23a7f78-28f5-490c-f45d-b32a7e9ea986"
      },
      "source": [
        "x = pd.Series(range(10, 20))\n",
        "y = pd.Series([2, 1, 4, 5, 8, 12, 18, 25, 96, 48])\n",
        "xy = pd.DataFrame({'x-values': x, 'y-values': y})\n",
        "x.corr(y)"
      ],
      "execution_count": 53,
      "outputs": [
        {
          "output_type": "execute_result",
          "data": {
            "text/plain": [
              "0.7586402890911867"
            ]
          },
          "metadata": {
            "tags": []
          },
          "execution_count": 53
        }
      ]
    },
    {
      "cell_type": "markdown",
      "metadata": {
        "id": "WAaV30RUSIAh"
      },
      "source": [
        "Построим матрицу корреляций"
      ]
    },
    {
      "cell_type": "code",
      "metadata": {
        "colab": {
          "base_uri": "https://localhost:8080/",
          "height": 111
        },
        "id": "P6RItLunSElM",
        "outputId": "d0419a76-a22d-4ed1-8d8a-6e8939aef45c"
      },
      "source": [
        "corr_matrix = xy.corr()\n",
        "corr_matrix"
      ],
      "execution_count": 54,
      "outputs": [
        {
          "output_type": "execute_result",
          "data": {
            "text/html": [
              "<div>\n",
              "<style scoped>\n",
              "    .dataframe tbody tr th:only-of-type {\n",
              "        vertical-align: middle;\n",
              "    }\n",
              "\n",
              "    .dataframe tbody tr th {\n",
              "        vertical-align: top;\n",
              "    }\n",
              "\n",
              "    .dataframe thead th {\n",
              "        text-align: right;\n",
              "    }\n",
              "</style>\n",
              "<table border=\"1\" class=\"dataframe\">\n",
              "  <thead>\n",
              "    <tr style=\"text-align: right;\">\n",
              "      <th></th>\n",
              "      <th>x-values</th>\n",
              "      <th>y-values</th>\n",
              "    </tr>\n",
              "  </thead>\n",
              "  <tbody>\n",
              "    <tr>\n",
              "      <th>x-values</th>\n",
              "      <td>1.00000</td>\n",
              "      <td>0.75864</td>\n",
              "    </tr>\n",
              "    <tr>\n",
              "      <th>y-values</th>\n",
              "      <td>0.75864</td>\n",
              "      <td>1.00000</td>\n",
              "    </tr>\n",
              "  </tbody>\n",
              "</table>\n",
              "</div>"
            ],
            "text/plain": [
              "          x-values  y-values\n",
              "x-values   1.00000   0.75864\n",
              "y-values   0.75864   1.00000"
            ]
          },
          "metadata": {
            "tags": []
          },
          "execution_count": 54
        }
      ]
    },
    {
      "cell_type": "markdown",
      "metadata": {
        "id": "vxlXpLQuSrnB"
      },
      "source": [
        "Визуализируем при помощи библиотеки Seaborn"
      ]
    },
    {
      "cell_type": "code",
      "metadata": {
        "colab": {
          "base_uri": "https://localhost:8080/",
          "height": 269
        },
        "id": "8SadeAmGSLG9",
        "outputId": "0b950279-e286-484b-f617-3bb012ad95b2"
      },
      "source": [
        "import seaborn as sns\n",
        "sns.heatmap(corr_matrix, cmap= 'coolwarm', annot = True)\n",
        "plt.show()"
      ],
      "execution_count": 48,
      "outputs": [
        {
          "output_type": "display_data",
          "data": {
            "image/png": "[encoded data removed]",
            "text/plain": [
              "<Figure size 432x288 with 2 Axes>"
            ]
          },
          "metadata": {
            "tags": [],
            "needs_background": "light"
          }
        }
      ]
    },
    {
      "cell_type": "markdown",
      "metadata": {
        "id": "cuYa5tQDpp0Y"
      },
      "source": [
        "# Непрерывные случаные величины\n",
        "\n",
        "Непрерывными они называются потому что могут принимать значения из пространства действительных чисел. Такие случайные величины определяются с помощью:\n",
        "\n",
        "- функция распределения вероятности $F(x)$\n",
        "- функций плотности распределения вероятности $p(x)$\n",
        "\n",
        "\n",
        "Выше мы увидели основы работы с дискретными случайными переменными, которые в нашем случае относятся к тем случайным переменным, которые принимают либо конечный набор возможных значений, либо целые числа. Далее мы развиваем теорию непрерывных случайных величин. Справедливая аналогия заключается в том, что технический переход сопоставим с переходом между суммами и интегрированием функций."
      ]
    },
    {
      "cell_type": "markdown",
      "metadata": {
        "id": "LoPXRjWMZtkM"
      },
      "source": [
        "Первый способ определения непрерывных величин — с помощью функции распределения:\n",
        "\n",
        "$$\n",
        "F(x)=P(X \\leqslant x)\n",
        "$$\n",
        "\n",
        "\n",
        "<center><img src=\"https://github.com/ddvika/Data-Science-School-2020/blob/main/lecture_9/img/nepr_raspred.png?raw=true\" width=350 /><center>\n"
      ]
    },
    {
      "cell_type": "markdown",
      "metadata": {
        "id": "HSlwIemAa5WJ"
      },
      "source": [
        "Функция распределения всегда принимает значение от 0 до 1 и не убывает по аргументу x.\n",
        "\n",
        "Второй способ определения непрерывных случайных величин — с помощью плотности распределения:\n"
      ]
    },
    {
      "cell_type": "markdown",
      "metadata": {
        "id": "ONku2EVAUtqp"
      },
      "source": [
        "Плотность распределения — это производная от функции распределения непрерывной случайной величины:\n",
        "$$f(x)=F^{\\prime}(x)$$"
      ]
    },
    {
      "cell_type": "markdown",
      "metadata": {
        "id": "EUYlC5FVa2lI"
      },
      "source": [
        "Вероятность того, что непрерывная случайная величина примет значение от a до b равна интегралу от a до b плотности распределения случайной величины:\n",
        "\n",
        "$$\n",
        "f(x): \\int_{a}^{b} f(x) d x=P(a \\leqslant X \\leqslant b)\n",
        "$$"
      ]
    },
    {
      "cell_type": "markdown",
      "metadata": {
        "id": "NSOHL5Dfaz0F"
      },
      "source": [
        "Плотность связана с функцией распределения следующим образом:"
      ]
    },
    {
      "cell_type": "markdown",
      "metadata": {
        "id": "apC8DGSZatn6"
      },
      "source": [
        "$$\n",
        "F(x)=\\int_{-\\infty}^{x} f(u) d u\n",
        "$$\n"
      ]
    },
    {
      "cell_type": "markdown",
      "metadata": {
        "id": "JUSxfqOJavOs"
      },
      "source": [
        "Для непрерывной случайной величины верно равенство:\n"
      ]
    },
    {
      "cell_type": "markdown",
      "metadata": {
        "id": "Vn42JhInaxcZ"
      },
      "source": [
        "$$\n",
        "\\int_{-\\infty}^{+\\infty} f(u) d u=P(-\\infty \\leqslant X \\leqslant+\\infty)=1\n",
        "$$"
      ]
    },
    {
      "cell_type": "markdown",
      "metadata": {
        "id": "wg1VqDqma-x0"
      },
      "source": [
        "Примером непрерывной случайной величины является **равномерная случайная\n",
        "величина**. Пусть X — это время ожидания на светофоре до того, как можно будет\n",
        "перейти дорогу. Если на светофоре нет счетчика, то нельзя угадать, сколько именно\n",
        "придется ждать зеленого сигнала. Время ожидания может быть любым числом от 0\n",
        "\n",
        "до, например, 30 секунд. Именно так устроено равномерное распределение — случайная величина на отрезке $[a, b]$ принимает любое значение с одинаковой вероятностью:"
      ]
    },
    {
      "cell_type": "markdown",
      "metadata": {
        "id": "PZ1zn5IPbQRD"
      },
      "source": [
        "$$\n",
        "X \\sim U(a, b)\n",
        "$$"
      ]
    },
    {
      "cell_type": "markdown",
      "metadata": {
        "id": "t2bh1dXPbTdm"
      },
      "source": [
        "<center><img src=\"https://github.com/ddvika/Data-Science-School-2020/blob/main/lecture_9/img/ravnom_raspred.png?raw=true\" width=300 /><center>"
      ]
    },
    {
      "cell_type": "markdown",
      "metadata": {
        "id": "wmIyJX3Lbp_t"
      },
      "source": [
        "Плотность вероятности для равномерной случайной величины имеет вид:\n",
        "$$\n",
        "f(x)=\\left\\{\\begin{array}{ll}\n",
        "\\frac{1}{b-a}, & x \\in[a, b] \\\\\n",
        "0, & x \\notin[a, b]\n",
        "\\end{array}\\right.\n",
        "$$\n",
        "\n",
        "<center><img src=\"https://github.com/ddvika/Data-Science-School-2020/blob/main/lecture_9/img/ravnom_plotn.png?raw=true\" width=450 /><center>"
      ]
    },
    {
      "cell_type": "markdown",
      "metadata": {
        "id": "q0WQ1BBhukHZ"
      },
      "source": [
        "### Подробнее о функции плотности вероятностей"
      ]
    },
    {
      "cell_type": "markdown",
      "metadata": {
        "id": "yO_iPN6gzMaj"
      },
      "source": [
        "Плотность распределения вероятностей непрерывной случайной величины нужна для того, чтобы показать изменение вероятности на каком-то конкретном элементе множества. Плотность распределения — это производная от функции распределения непрерывной случайной величины:\n",
        "$$f(x)=F^{\\prime}(x)$$\n",
        "\n",
        "У дискретных (принимающих конечное или счетное число значений) величин плотности нет.\n",
        "\n",
        "Вероятность того, что непрерывная случайная величина примет значение от a до b равна интегралу от a до b плотности распределения случайной величины:\n",
        "\n",
        "$$P(a \\leq X \\leq b)=\\int_{a}^{b} f(x) d x$$"
      ]
    },
    {
      "cell_type": "markdown",
      "metadata": {
        "id": "wJ8ITNUfz87B"
      },
      "source": [
        "А вот так это можно показать геометрически. Допустим, есть некая плотность распределения случайной величины:"
      ]
    },
    {
      "cell_type": "markdown",
      "metadata": {
        "id": "k8O68Y580PEb"
      },
      "source": [
        "\n",
        "<center><img src=\"https://github.com/ddvika/Data-Science-School-2020/blob/main/lecture_9/img/density.png?raw=true\" width=700 /><center>"
      ]
    },
    {
      "cell_type": "markdown",
      "metadata": {
        "id": "yfU_3ca40lHA"
      },
      "source": [
        "Вероятность того, что X примет значение от a до b, равна площади фигуры под кривой в диапазоне как раз от a до b (на графике эта площадь показана серым).\n"
      ]
    },
    {
      "cell_type": "markdown",
      "metadata": {
        "id": "hqHK73jV08oh"
      },
      "source": [
        "Для примера, можно поглядеть на плотность вероятности функции экспоненциального распределения. Формула самой функции выглядит так:\n",
        "\n",
        "$$F(x)=\\left\\{\\begin{array}{ll}1-e^{-\\lambda x} & , x \\geq 0 \\\\ 0 & , x<0\\end{array}\\right.$$\n",
        "\n",
        "график функции распределения при 𝛌=0.5:"
      ]
    },
    {
      "cell_type": "markdown",
      "metadata": {
        "id": "PmAaG-gp1SWN"
      },
      "source": [
        "<center><img src=\"https://github.com/ddvika/Data-Science-School-2020/blob/main/lecture_9/img/rapred.png?raw=true\" width=650 /><center>"
      ]
    },
    {
      "cell_type": "markdown",
      "metadata": {
        "id": "BvL2axCt1VR8"
      },
      "source": [
        "А вот так выглядит формула плотности распределения:\n",
        "\n",
        "$$f(x)=\\left\\{\\begin{array}{ll}\\lambda e^{-\\lambda x} & , x \\geq 0 \\\\ 0 & , x<0\\end{array}\\right.$$\n",
        "\n",
        "и ее график при 𝛌=0.5:"
      ]
    },
    {
      "cell_type": "markdown",
      "metadata": {
        "id": "zInbwvgb1Vo-"
      },
      "source": [
        "<center><img src=\"https://github.com/ddvika/Data-Science-School-2020/blob/main/lecture_9/img/rapred_2.png?raw=true\" width=750 /><center>"
      ]
    },
    {
      "cell_type": "markdown",
      "metadata": {
        "id": "sI2tzKsb1hvm"
      },
      "source": [
        "серым цветом на графике для примера показана вероятность того, что при 𝛌=0.5 X примет значение от 1 до 2, которую можно посчитать как:\n",
        "\n",
        "$$\n",
        "P(1 \\leq X \\leq 2)=\\int_{1}^{2} \\lambda e^{-\\lambda x} d x \\approx 0.239\n",
        "$$"
      ]
    },
    {
      "cell_type": "markdown",
      "metadata": {
        "id": "iPaOhN-5vJka"
      },
      "source": [
        "Пример: \n",
        "\n",
        "Найти вероятность падения в синюю область."
      ]
    },
    {
      "cell_type": "code",
      "metadata": {
        "id": "0AmXmUvluFAX",
        "colab": {
          "base_uri": "https://localhost:8080/",
          "height": 282
        },
        "outputId": "c713de4c-7cbf-4a7e-d73d-f8d39b74022d"
      },
      "source": [
        "epsilon = 0.01\n",
        "x = np.arange(-5, 5, 0.01)\n",
        "p = 0.2*np.exp(-(x - 3)**2 / 2) / np.sqrt(2 * np.pi) + \\\n",
        "    0.8*np.exp(-(x + 1)**2 / 2) / np.sqrt(2 * np.pi)\n",
        "\n",
        "plt.plot(x, p, color='black')\n",
        "plt.fill_between(x.tolist()[300:800], p.tolist()[300:800])\n",
        "plt.show()\n",
        "\n",
        "'Вероятность:', np.sum(epsilon*p[300:800])"
      ],
      "execution_count": 50,
      "outputs": [
        {
          "output_type": "display_data",
          "data": {
            "image/png": "[encoded data removed]",
            "text/plain": [
              "<Figure size 432x288 with 1 Axes>"
            ]
          },
          "metadata": {
            "tags": [],
            "needs_background": "light"
          }
        },
        {
          "output_type": "execute_result",
          "data": {
            "text/plain": [
              "('Вероятность:', 0.7736171925899021)"
            ]
          },
          "metadata": {
            "tags": []
          },
          "execution_count": 50
        }
      ]
    },
    {
      "cell_type": "markdown",
      "metadata": {
        "id": "vQ3kfU_4icV7"
      },
      "source": [
        "### Рассмотрим наиболее часто встречающиеся семейства непрерывных распределений"
      ]
    },
    {
      "cell_type": "markdown",
      "metadata": {
        "id": "onWrmohYijQc"
      },
      "source": [
        "Непрерывными они называются потому что могут принимать значения из пространства действительных чисел. Такие случайные величины определяются с помощью:\n",
        "- функций плотности распределения вероятности $p(x)$\n",
        "- функция распределения вероятности $F(x)$\n",
        "\n",
        "#### Равномерное распределение.\n",
        "Непрерывная величина распределена равномерно на интервале (a, b), если все ее возможные значения находятся на этом интервале и плотность распределения вероятностей постоянна. Пример: мы пришли на остановку автобуса, который ходит с 10-минутными интервалами, тогда какова вероятность того, что автобус придет в течении первой минуты, второй минуты и т.д. Очевидно что 1/10.\n",
        "\n",
        "#### Показательное распределение. \n",
        "Непрерывная случайная величина  Х  имеет показательное распределение, если плотность распределения ее вероятностей выражается формулой: $p(x) = \\lambda e^{-\\lambda x}$ для $x > 0$. Показательное распределение может описывать вероятность отказа какого-то прибора с течением времени.\n",
        "\n",
        "#### Нормальное (гауссово) распределение.\n",
        "- Непрерывная случайная величина  Х  имеет нормальное распределение с параметрами $\\mu$ и $\\sigma$, если плотность распределения ее вероятностей выражается формулой: $p(x) = \\frac{1}{\\sigma\\sqrt{2\\pi}}e^{-\\frac{(x-\\mu)^2}{2\\sigma^2}}$. \n",
        "- в сигма 68%, в 2 сигма 95%, в 3 сигма 99%\n",
        "- ПШПВ (полная ширина пика на половине его высоты) = 2,35 сигма\n",
        "- Примеров этого распределения просто тьма: рост, вес людей, время жизни описывается нормальным распределением. \n",
        "- нормальному распределению подчиняются большое количество случайный величин, среди них: вес полуфабриката, длина изделия, время производственного цикла, время обработки, количество дефектов по дням и т.д. Случаи когда перечисленные величины не распределены по нормальному закону могут возникать, но довольно редко."
      ]
    },
    {
      "cell_type": "code",
      "metadata": {
        "colab": {
          "base_uri": "https://localhost:8080/",
          "height": 374
        },
        "id": "XBQWg5AXihIU",
        "outputId": "e3420c33-d840-48ba-e7e9-f58933f60115"
      },
      "source": [
        "# это функция плотности распределения вероятности для экспоненциального распределения с параметрами lambda = 0.2\n",
        "x = np.linspace(-10, 10, 5000)\n",
        "lam = 0.2\n",
        "\n",
        "\n",
        "y = stats.expon.pdf(x, lam)\n",
        "\n",
        "plt.figure(figsize = (10, 6))\n",
        "plt.plot(x, y)\n",
        "plt.show()"
      ],
      "execution_count": null,
      "outputs": [
        {
          "output_type": "display_data",
          "data": {
            "image/png": "[encoded data removed]",
            "text/plain": [
              "<Figure size 720x432 with 1 Axes>"
            ]
          },
          "metadata": {
            "tags": [],
            "needs_background": "light"
          }
        }
      ]
    },
    {
      "cell_type": "code",
      "metadata": {
        "colab": {
          "base_uri": "https://localhost:8080/",
          "height": 374
        },
        "id": "7VtVfYmmil5p",
        "outputId": "4880b9fe-3846-430c-dc21-992e9cbefd81"
      },
      "source": [
        "# это функция плотности распределения вероятности для нормального распределения с параметрами mu = 0 и sigma = 1\n",
        "x = np.linspace(-5, 5, 5000)\n",
        "mu = 0\n",
        "sigma = 1\n",
        "\n",
        "y = stats.norm.pdf(x, mu, sigma)\n",
        "\n",
        "plt.figure(figsize = (10, 6))\n",
        "plt.plot(x, y)\n",
        "plt.show()"
      ],
      "execution_count": null,
      "outputs": [
        {
          "output_type": "display_data",
          "data": {
            "image/png": "[encoded data removed]",
            "text/plain": [
              "<Figure size 720x432 with 1 Axes>"
            ]
          },
          "metadata": {
            "tags": [],
            "needs_background": "light"
          }
        }
      ]
    },
    {
      "cell_type": "markdown",
      "metadata": {
        "id": "Z-QgXYQAirhP"
      },
      "source": [
        "Отобразим плотность распределения вероятности и функция распределения вероятности на одном графике"
      ]
    },
    {
      "cell_type": "code",
      "metadata": {
        "colab": {
          "base_uri": "https://localhost:8080/",
          "height": 374
        },
        "id": "adJiR8RcimsG",
        "outputId": "4f92bf1a-efc1-46d7-d19f-ee02f7dd2bb0"
      },
      "source": [
        "x = np.linspace(-5, 5, 5000)\n",
        "mu = 0\n",
        "sigma = 1\n",
        "y_pdf = stats.norm.pdf(x, mu, sigma) # the normal pdf\n",
        "y_cdf = stats.norm.cdf(x, mu, sigma) # the normal cdf\n",
        "\n",
        "plt.figure(figsize = (10, 6))\n",
        "plt.plot(x, y_pdf, label='плотность распределения вероятности')\n",
        "plt.plot(x, y_cdf, label='функция распределения вероятности')\n",
        "plt.legend()\n",
        "plt.show()"
      ],
      "execution_count": null,
      "outputs": [
        {
          "output_type": "display_data",
          "data": {
            "image/png": "[encoded data removed]",
            "text/plain": [
              "<Figure size 720x432 with 1 Axes>"
            ]
          },
          "metadata": {
            "tags": [],
            "needs_background": "light"
          }
        }
      ]
    },
    {
      "cell_type": "code",
      "metadata": {
        "colab": {
          "base_uri": "https://localhost:8080/",
          "height": 374
        },
        "id": "pOU90hoKisXR",
        "outputId": "e40c584d-cc9a-4872-851c-e211000e31c3"
      },
      "source": [
        "x = np.linspace(0, 5, 5000)\n",
        "mu = 0.2\n",
        "\n",
        "y_pdf = stats.expon.pdf(x, mu)\n",
        "y_cdf = stats.expon.cdf(x, mu)\n",
        "\n",
        "plt.figure(figsize = (10, 6))\n",
        "plt.plot(x, y_pdf, label='плотность распределения вероятности')\n",
        "plt.plot(x, y_cdf, label='функция распределения вероятности')\n",
        "plt.legend()\n",
        "plt.show()"
      ],
      "execution_count": null,
      "outputs": [
        {
          "output_type": "display_data",
          "data": {
            "image/png": "[encoded data removed]",
            "text/plain": [
              "<Figure size 720x432 with 1 Axes>"
            ]
          },
          "metadata": {
            "tags": [],
            "needs_background": "light"
          }
        }
      ]
    },
    {
      "cell_type": "markdown",
      "metadata": {
        "id": "P0zXou12iwa8"
      },
      "source": [
        "Функция распределения вероятности является монотонной и принимает значения из отрезка $(0, 1)$. Можем условно считать что значения функции распределения имеют следующие значения на бесконечности: $F(-\\infty) = 0$, $F(+\\infty) = 1$.    \n",
        "Напрашивается вопрос: как же искать вероятность для таких распределений ответ достаточно простой: вероятность того что случайная величина примет значение внутри интервала равно разности значений функции распределения на концах выбранного интервала. Поясним на примере."
      ]
    },
    {
      "cell_type": "code",
      "metadata": {
        "colab": {
          "base_uri": "https://localhost:8080/"
        },
        "id": "nC36FoadiuW3",
        "outputId": "b1d52dfe-7df3-4f02-8edf-5f98308c42aa"
      },
      "source": [
        "mu = 170\n",
        "sigma = 10\n",
        "print('пусть рост мужчины имеет нормальное распределение с параметрами mu = 170 и sigma = 10')\n",
        "print('тогда найдем вероятность того, что случайно выбранный мужчина окажется ниже 150: {0:.3f}'.format( \n",
        "      stats.norm.cdf(150, mu, sigma)))\n",
        "print('тогда найдем вероятность того, что рост случайно выбранного мужчины окажется выше 150 и ниже 180: {0:.3f}'.format(\n",
        "    stats.norm.cdf(180, mu, sigma) - stats.norm.cdf(150, mu, sigma)))"
      ],
      "execution_count": null,
      "outputs": [
        {
          "output_type": "stream",
          "text": [
            "пусть рост мужчины имеет нормальное распределение с параметрами mu = 170 и sigma = 10\n",
            "тогда найдем вероятность того, что случайно выбранный мужчина окажется ниже 150: 0.023\n",
            "тогда найдем вероятность того, что рост случайно выбранного мужчины окажется выше 150 и ниже 180: 0.819\n"
          ],
          "name": "stdout"
        }
      ]
    },
    {
      "cell_type": "code",
      "metadata": {
        "id": "flOJeB05iz59"
      },
      "source": [
        "### найдите вероятность того, мужчина выше 180\n",
        "### ВАШ КОД ЗДЕСЬ"
      ],
      "execution_count": null,
      "outputs": []
    },
    {
      "cell_type": "code",
      "metadata": {
        "id": "Qow80oPTiyYZ"
      },
      "source": [
        "### еще задачка: срок работы лампочки имеет экспоненциальное распределение с параметром лямбда 0.001\n",
        "### какова вероятность того что проработает не меньше 2 лет?\n",
        "### ВАШ КОД ЗДЕСЬ"
      ],
      "execution_count": null,
      "outputs": []
    },
    {
      "cell_type": "markdown",
      "metadata": {
        "id": "noNtA1Bfi-ip"
      },
      "source": [
        "## Гистограммы\n",
        "- Оказывается, что мы не всегда знаем, закон распределения какой-то случайно величины, чаще всего в жизни мы имеем дело с выборками (то есть случайными подмножествами элементов) из распределения. \n",
        "- И если выборка достаточно большая то она будет достаточно описывать закон распределения, а значит параметры распределения можно довольно точно оценить по выборке.\n",
        "- Один из способов исследования распределений по выборкам это гистограммы. Строить гистограммы довольно просто, вся область значений случайной величины разделяется на отрезки и для каждого отрезка рассчитывается количество точек, попавших в этот отрезок."
      ]
    },
    {
      "cell_type": "code",
      "metadata": {
        "colab": {
          "base_uri": "https://localhost:8080/",
          "height": 490
        },
        "id": "-g0L3JZ4i2eh",
        "outputId": "f04cbdaf-f466-4c91-b3e9-d4129058e4f8"
      },
      "source": [
        "np.random.seed(1)       # если мы хотим воспроизводимости результатов, то фиксируем этот параметр\n",
        "rv = stats.norm(2, 0.5) # создаем объект - распределение\n",
        "viborka = rv.rvs(100)   # генерируем 100 элементов из этого распределения\n",
        " \n",
        "x = np.linspace(0, 5, 1000)\n",
        "pdf = rv.pdf(x)         # плотность распределения\n",
        "\n",
        "plt.figure(figsize = (10, 6))\n",
        "# рисуем теоретическую плотность распределения\n",
        "plt.plot(x, pdf, label='теоретическая плотность распределения')\n",
        "plt.ylabel('$F(x)$')\n",
        "plt.xlabel('$x$')\n",
        " \n",
        "# рисуем гистограмму\n",
        "plt.hist(viborka, bins=20, label='гистограмма, построенная на случайной выборке', density = True)\n",
        "plt.ylabel('$F(x)$')\n",
        "plt.xlabel('$x$')\n",
        "\n",
        "plt.legend()\n",
        "plt.show()\n",
        "print('Теоретическое мат.ожидание ',rv.mean())\n",
        "print('Оценка мат.ожидания по выборке ',viborka.mean())\n",
        "print('Теоретическая медиана ',rv.median())\n",
        "print('Оценка медианы по выборке ',np.median(viborka))\n",
        "print('Теоретическая дисперсия ',rv.std() ** 2)\n",
        "print('Оценка мат.ожидания по выборке ',viborka.std() ** 2)"
      ],
      "execution_count": null,
      "outputs": [
        {
          "output_type": "display_data",
          "data": {
            "image/png": "[encoded data removed]",
            "text/plain": [
              "<Figure size 720x432 with 1 Axes>"
            ]
          },
          "metadata": {
            "tags": [],
            "needs_background": "light"
          }
        },
        {
          "output_type": "stream",
          "text": [
            "Теоретическое мат.ожидание  2.0\n",
            "Оценка мат.ожидания по выборке  2.03029142603785\n",
            "Теоретическая медиана  2.0\n",
            "Оценка медианы по выборке  2.0320369557811473\n",
            "Теоретическая дисперсия  0.25\n",
            "Оценка мат.ожидания по выборке  0.19587538072116667\n"
          ],
          "name": "stdout"
        }
      ]
    },
    {
      "cell_type": "code",
      "metadata": {
        "id": "Uuz6NDb1jATz"
      },
      "source": [
        "a = sorted(viborka)\n",
        "step = (a[-1] - a[0])/19"
      ],
      "execution_count": null,
      "outputs": []
    },
    {
      "cell_type": "code",
      "metadata": {
        "id": "WJlPJyorjjXb"
      },
      "source": [
        "data = pd.DataFrame(a, columns=['value'])\n",
        "data['bin'] = np.nan\n",
        "for idx in range(len(a)):\n",
        "    data['bin'] = np.where((a[0] + idx*step <= data.value)&(data.value < a[0]+(idx+1)*step), idx, data['bin'])"
      ],
      "execution_count": null,
      "outputs": []
    },
    {
      "cell_type": "code",
      "metadata": {
        "colab": {
          "base_uri": "https://localhost:8080/",
          "height": 391
        },
        "id": "4Ucfq9wJjlNb",
        "outputId": "6d3b1f5d-21e3-4305-fc48-ccb896a71a75"
      },
      "source": [
        "plt.figure(figsize = (10, 6))\n",
        "plt.vlines(data.groupby('bin')['value'].median().values, #координтаты\n",
        "           0, data['bin'].value_counts().sort_index().values, # столбики идут от 0 до stats.poisson.pmf(x, mu)\n",
        "           colors='b', lw=10, alpha=0.5)\n",
        "plt.xlim([0,5])"
      ],
      "execution_count": null,
      "outputs": [
        {
          "output_type": "execute_result",
          "data": {
            "text/plain": [
              "(0.0, 5.0)"
            ]
          },
          "metadata": {
            "tags": []
          },
          "execution_count": 137
        },
        {
          "output_type": "display_data",
          "data": {
            "image/png": "[encoded data removed]",
            "text/plain": [
              "<Figure size 720x432 with 1 Axes>"
            ]
          },
          "metadata": {
            "tags": [],
            "needs_background": "light"
          }
        }
      ]
    },
    {
      "cell_type": "markdown",
      "metadata": {
        "id": "uCYt5bGJWygH"
      },
      "source": [
        "## Рекомендуемая литература\n",
        "\n",
        "- Начала теорвера: https://drive.google.com/file/d/1bc1g50uDFTYX7ExSlHs75blMbEwwmGEI/view\n"
      ]
    },
    {
      "cell_type": "code",
      "metadata": {
        "id": "0jf6frVMjmwm"
      },
      "source": [
        ""
      ],
      "execution_count": null,
      "outputs": []
    }
  ]
}