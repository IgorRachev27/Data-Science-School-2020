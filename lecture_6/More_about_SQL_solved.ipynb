{
  "nbformat": 4,
  "nbformat_minor": 0,
  "metadata": {
    "colab": {
      "name": "More_about_SQL_solved.ipynb",
      "provenance": [],
      "collapsed_sections": []
    },
    "kernelspec": {
      "name": "python3",
      "display_name": "Python 3"
    }
  },
  "cells": [
    {
      "cell_type": "markdown",
      "metadata": {
        "id": "1spV9-2ZkXB7"
      },
      "source": [
        "https://colab.research.google.com/drive/19e_jJVbRqbD6eaCr31zn7xY6fSP2NYIG?usp=sharing"
      ]
    },
    {
      "cell_type": "markdown",
      "metadata": {
        "id": "fPu_17Y2qo8X"
      },
      "source": [
        "## План занятия\n",
        "\n",
        "- Повторим как создавать БД при помощи SQLalchemy\n",
        "- Разберем новые операторы в SQL\n",
        "- Разберем подробнее ORM (объектно-реляционное отображение) в SQLalchemy"
      ]
    },
    {
      "cell_type": "markdown",
      "metadata": {
        "id": "eug_b6nh7G83"
      },
      "source": [
        "(задание из презентации)"
      ]
    },
    {
      "cell_type": "code",
      "metadata": {
        "id": "BS7R-wFwTkiF"
      },
      "source": [
        "import matplotlib.pyplot as plt\n",
        "import pandas as pd\n",
        "import numpy as np"
      ],
      "execution_count": null,
      "outputs": []
    },
    {
      "cell_type": "code",
      "metadata": {
        "colab": {
          "base_uri": "https://localhost:8080/"
        },
        "id": "98olMNYWJS4y",
        "outputId": "a4e34f7b-d1a1-4c62-db1f-c313b96650d0"
      },
      "source": [
        "prices = np.random.permutation(np.arange(10))\n",
        "prices"
      ],
      "execution_count": null,
      "outputs": [
        {
          "output_type": "execute_result",
          "data": {
            "text/plain": [
              "array([9, 3, 4, 2, 6, 5, 0, 8, 7, 1])"
            ]
          },
          "metadata": {
            "tags": []
          },
          "execution_count": 2
        }
      ]
    },
    {
      "cell_type": "code",
      "metadata": {
        "colab": {
          "base_uri": "https://localhost:8080/"
        },
        "id": "EH4RpcYeJS7v",
        "outputId": "89c2df85-6978-435d-f479-71b426f15e09"
      },
      "source": [
        "k = 3\n",
        "for i in range(len(prices)):\n",
        "    n_leq = 0\n",
        "    for j in range(len(prices)):\n",
        "        if prices[j] >= prices[i]:\n",
        "            n_leq += 1\n",
        "    if n_leq == k:\n",
        "        print(prices[i])\n",
        "        break"
      ],
      "execution_count": null,
      "outputs": [
        {
          "output_type": "stream",
          "text": [
            "7\n"
          ],
          "name": "stdout"
        }
      ]
    },
    {
      "cell_type": "markdown",
      "metadata": {
        "id": "BoZKQ5V3piYh"
      },
      "source": [
        "# SQLAlchemy. Recap"
      ]
    },
    {
      "cell_type": "code",
      "metadata": {
        "id": "0_PUKeLFHoXG"
      },
      "source": [
        "import sys\n",
        "from sqlalchemy import Column, ForeignKey, Integer, String\n",
        "from sqlalchemy.ext.declarative import declarative_base\n",
        "from sqlalchemy.orm import relationship\n",
        "from sqlalchemy import create_engine"
      ],
      "execution_count": null,
      "outputs": []
    },
    {
      "cell_type": "code",
      "metadata": {
        "id": "XcyrGKGQNakJ"
      },
      "source": [
        "from IPython.display import display\n",
        "import pandas as pd\n",
        "import sqlalchemy\n",
        "\n",
        "def sql(query):\n",
        "    print()\n",
        "    print(query)\n",
        "    print()\n",
        "\n",
        "def get_results(query):\n",
        "    global engine\n",
        "    q = query.statement if isinstance(query, sqlalchemy.orm.query.Query) else query\n",
        "    return pd.read_sql(q, engine)\n",
        "\n",
        "def display_results(query):\n",
        "    df = get_results(query)\n",
        "    display(df)\n",
        "    #sql(query)\n"
      ],
      "execution_count": null,
      "outputs": []
    },
    {
      "cell_type": "code",
      "metadata": {
        "id": "U9unHD1rHoZ-"
      },
      "source": [
        "Base = declarative_base()\n",
        "\n",
        "class Person(Base):\n",
        "    __tablename__= 'person'\n",
        "    id = Column(Integer, primary_key=True)\n",
        "    name = Column(String(250), nullable=False)\n",
        "    \n",
        "class Address(Base):\n",
        "    __tablename__ = 'address'\n",
        "    id = Column(Integer, primary_key=True)\n",
        "    country = Column(String(250))\n",
        "    state = Column(String(250))\n",
        "    street_name = Column(String(250))\n",
        "    street_number = Column(String(250))\n",
        "    post_code = Column(String(250))\n",
        "    person_id = Column(Integer, ForeignKey('person.id'))\n",
        "    person = relationship(Person)\n",
        "\n",
        "engine = create_engine('sqlite:///sqlalchemy_example.db')\n",
        "\n",
        "connection = engine.connect()\n",
        "\n",
        "Base.metadata.create_all(engine)"
      ],
      "execution_count": null,
      "outputs": []
    },
    {
      "cell_type": "code",
      "metadata": {
        "id": "LkspRLHqHodh"
      },
      "source": [
        "from sqlalchemy import create_engine\n",
        "from sqlalchemy.orm import sessionmaker"
      ],
      "execution_count": null,
      "outputs": []
    },
    {
      "cell_type": "code",
      "metadata": {
        "id": "85QKyqHBH92d"
      },
      "source": [
        "DBSession = sessionmaker(bind=engine)\n",
        "session = DBSession()\n",
        "\n",
        "new_person = Person(name='Nawin')\n",
        "session.add(new_person)\n",
        "session.commit()\n",
        "\n",
        "new_address = Address(post_code='48103',country = 'USA', state = 'WA', street_name ='West Huron Street',street_number ='1', person=new_person)\n",
        "session.add(new_address)\n",
        "session.commit()"
      ],
      "execution_count": null,
      "outputs": []
    },
    {
      "cell_type": "code",
      "metadata": {
        "colab": {
          "base_uri": "https://localhost:8080/"
        },
        "id": "i2ZumUw_H-Ex",
        "outputId": "dd3748e9-2921-46ab-8bd0-27ad8da5ef74"
      },
      "source": [
        "engine.table_names()"
      ],
      "execution_count": null,
      "outputs": [
        {
          "output_type": "execute_result",
          "data": {
            "text/plain": [
              "['address', 'person']"
            ]
          },
          "metadata": {
            "tags": []
          },
          "execution_count": 9
        }
      ]
    },
    {
      "cell_type": "code",
      "metadata": {
        "colab": {
          "base_uri": "https://localhost:8080/",
          "height": 80
        },
        "id": "v3N1k0QRNcwj",
        "outputId": "a63846a6-72fe-4f94-e31a-27b74184e53e"
      },
      "source": [
        "from sqlalchemy import select \n",
        "\n",
        "query = select([Person])\n",
        "display_results(query)"
      ],
      "execution_count": null,
      "outputs": [
        {
          "output_type": "display_data",
          "data": {
            "text/html": [
              "<div>\n",
              "<style scoped>\n",
              "    .dataframe tbody tr th:only-of-type {\n",
              "        vertical-align: middle;\n",
              "    }\n",
              "\n",
              "    .dataframe tbody tr th {\n",
              "        vertical-align: top;\n",
              "    }\n",
              "\n",
              "    .dataframe thead th {\n",
              "        text-align: right;\n",
              "    }\n",
              "</style>\n",
              "<table border=\"1\" class=\"dataframe\">\n",
              "  <thead>\n",
              "    <tr style=\"text-align: right;\">\n",
              "      <th></th>\n",
              "      <th>id</th>\n",
              "      <th>name</th>\n",
              "    </tr>\n",
              "  </thead>\n",
              "  <tbody>\n",
              "    <tr>\n",
              "      <th>0</th>\n",
              "      <td>1</td>\n",
              "      <td>Nawin</td>\n",
              "    </tr>\n",
              "  </tbody>\n",
              "</table>\n",
              "</div>"
            ],
            "text/plain": [
              "   id   name\n",
              "0   1  Nawin"
            ]
          },
          "metadata": {
            "tags": []
          }
        }
      ]
    },
    {
      "cell_type": "code",
      "metadata": {
        "colab": {
          "base_uri": "https://localhost:8080/",
          "height": 80
        },
        "id": "JIojZxdwacFy",
        "outputId": "68b6667a-40b4-49f3-b780-6952c9f18ab8"
      },
      "source": [
        "query = select([Address])\n",
        "display_results(query)"
      ],
      "execution_count": null,
      "outputs": [
        {
          "output_type": "display_data",
          "data": {
            "text/html": [
              "<div>\n",
              "<style scoped>\n",
              "    .dataframe tbody tr th:only-of-type {\n",
              "        vertical-align: middle;\n",
              "    }\n",
              "\n",
              "    .dataframe tbody tr th {\n",
              "        vertical-align: top;\n",
              "    }\n",
              "\n",
              "    .dataframe thead th {\n",
              "        text-align: right;\n",
              "    }\n",
              "</style>\n",
              "<table border=\"1\" class=\"dataframe\">\n",
              "  <thead>\n",
              "    <tr style=\"text-align: right;\">\n",
              "      <th></th>\n",
              "      <th>id</th>\n",
              "      <th>country</th>\n",
              "      <th>state</th>\n",
              "      <th>street_name</th>\n",
              "      <th>street_number</th>\n",
              "      <th>post_code</th>\n",
              "      <th>person_id</th>\n",
              "    </tr>\n",
              "  </thead>\n",
              "  <tbody>\n",
              "    <tr>\n",
              "      <th>0</th>\n",
              "      <td>1</td>\n",
              "      <td>USA</td>\n",
              "      <td>WA</td>\n",
              "      <td>West Huron Street</td>\n",
              "      <td>1</td>\n",
              "      <td>48103</td>\n",
              "      <td>1</td>\n",
              "    </tr>\n",
              "  </tbody>\n",
              "</table>\n",
              "</div>"
            ],
            "text/plain": [
              "   id country state        street_name street_number post_code  person_id\n",
              "0   1     USA    WA  West Huron Street             1     48103          1"
            ]
          },
          "metadata": {
            "tags": []
          }
        }
      ]
    },
    {
      "cell_type": "markdown",
      "metadata": {
        "id": "Q9tgst13N3z7"
      },
      "source": [
        "Добавим несколько людей с разными адресами"
      ]
    },
    {
      "cell_type": "code",
      "metadata": {
        "id": "e6hvE5fqO4mI"
      },
      "source": [
        "from sqlalchemy import exists\n",
        "def record_exists(session, name):\n",
        "    return session.query(exists().where(Person.name == name)).scalar()"
      ],
      "execution_count": null,
      "outputs": []
    },
    {
      "cell_type": "code",
      "metadata": {
        "colab": {
          "base_uri": "https://localhost:8080/"
        },
        "id": "_IEuM9rAO4ud",
        "outputId": "f5e19201-623b-43a3-e708-290ab5778b5f"
      },
      "source": [
        "record_exists(session, 'Nawin')"
      ],
      "execution_count": null,
      "outputs": [
        {
          "output_type": "execute_result",
          "data": {
            "text/plain": [
              "True"
            ]
          },
          "metadata": {
            "tags": []
          },
          "execution_count": 13
        }
      ]
    },
    {
      "cell_type": "code",
      "metadata": {
        "colab": {
          "base_uri": "https://localhost:8080/"
        },
        "id": "EQ1xe2CNPsHN",
        "outputId": "5e6b61f1-b123-40d0-cfd1-d37417b6abb7"
      },
      "source": [
        "record_exists(session, 'Lisa')"
      ],
      "execution_count": null,
      "outputs": [
        {
          "output_type": "execute_result",
          "data": {
            "text/plain": [
              "False"
            ]
          },
          "metadata": {
            "tags": []
          },
          "execution_count": 14
        }
      ]
    },
    {
      "cell_type": "code",
      "metadata": {
        "id": "9f9xwmVfU7x9"
      },
      "source": [
        "names = ['Moshe', 'Lisa', 'Nika']\n",
        "adress_info = [('141700', 'Russia', 'Moscow', 'Pervomay Street', '42'), #Moshe adress\n",
        "               ('141700', 'Russia', 'Moscow', 'Pervomay Street', '42'), #Lisa adress\n",
        "               ('655689', 'USA', 'CA', 'Green Street', '104')] #Nika adress"
      ],
      "execution_count": null,
      "outputs": []
    },
    {
      "cell_type": "code",
      "metadata": {
        "id": "ryWBclC4PZco"
      },
      "source": [
        "for i, name, adress in zip(range(len(names)), names, adress_info):\n",
        "    if not record_exists(session, name):\n",
        "        new_person = Person(name=name)\n",
        "        new_address = Address(country=adress[1],state=adress[2], street_number=adress[4], post_code=adress[0],street_name =adress[3], person=new_person)\n",
        "        session.add(new_person)\n",
        "        session.add(new_address)\n",
        "    else:\n",
        "        print(\"Already exists, skipping...\")\n",
        "\n",
        "session.commit()"
      ],
      "execution_count": null,
      "outputs": []
    },
    {
      "cell_type": "markdown",
      "metadata": {
        "id": "VpBJwAU8QJ92"
      },
      "source": [
        "Проверим теперь таблицу"
      ]
    },
    {
      "cell_type": "code",
      "metadata": {
        "colab": {
          "base_uri": "https://localhost:8080/",
          "height": 173
        },
        "id": "OmotKm8-PZgu",
        "outputId": "f91a5f83-c9d1-4147-eafe-d177e91ef5d1"
      },
      "source": [
        "query = select([Person.id, Person.name])\n",
        "display_results(query)"
      ],
      "execution_count": null,
      "outputs": [
        {
          "output_type": "display_data",
          "data": {
            "text/html": [
              "<div>\n",
              "<style scoped>\n",
              "    .dataframe tbody tr th:only-of-type {\n",
              "        vertical-align: middle;\n",
              "    }\n",
              "\n",
              "    .dataframe tbody tr th {\n",
              "        vertical-align: top;\n",
              "    }\n",
              "\n",
              "    .dataframe thead th {\n",
              "        text-align: right;\n",
              "    }\n",
              "</style>\n",
              "<table border=\"1\" class=\"dataframe\">\n",
              "  <thead>\n",
              "    <tr style=\"text-align: right;\">\n",
              "      <th></th>\n",
              "      <th>id</th>\n",
              "      <th>name</th>\n",
              "    </tr>\n",
              "  </thead>\n",
              "  <tbody>\n",
              "    <tr>\n",
              "      <th>0</th>\n",
              "      <td>1</td>\n",
              "      <td>Nawin</td>\n",
              "    </tr>\n",
              "    <tr>\n",
              "      <th>1</th>\n",
              "      <td>2</td>\n",
              "      <td>Moshe</td>\n",
              "    </tr>\n",
              "    <tr>\n",
              "      <th>2</th>\n",
              "      <td>3</td>\n",
              "      <td>Lisa</td>\n",
              "    </tr>\n",
              "    <tr>\n",
              "      <th>3</th>\n",
              "      <td>4</td>\n",
              "      <td>Nika</td>\n",
              "    </tr>\n",
              "  </tbody>\n",
              "</table>\n",
              "</div>"
            ],
            "text/plain": [
              "   id   name\n",
              "0   1  Nawin\n",
              "1   2  Moshe\n",
              "2   3   Lisa\n",
              "3   4   Nika"
            ]
          },
          "metadata": {
            "tags": []
          }
        }
      ]
    },
    {
      "cell_type": "code",
      "metadata": {
        "colab": {
          "base_uri": "https://localhost:8080/",
          "height": 173
        },
        "id": "tReT7S1HVxNL",
        "outputId": "37337ddb-efe2-4902-e0cb-00bc20674a97"
      },
      "source": [
        "query = select([Address])\n",
        "display_results(query)"
      ],
      "execution_count": null,
      "outputs": [
        {
          "output_type": "display_data",
          "data": {
            "text/html": [
              "<div>\n",
              "<style scoped>\n",
              "    .dataframe tbody tr th:only-of-type {\n",
              "        vertical-align: middle;\n",
              "    }\n",
              "\n",
              "    .dataframe tbody tr th {\n",
              "        vertical-align: top;\n",
              "    }\n",
              "\n",
              "    .dataframe thead th {\n",
              "        text-align: right;\n",
              "    }\n",
              "</style>\n",
              "<table border=\"1\" class=\"dataframe\">\n",
              "  <thead>\n",
              "    <tr style=\"text-align: right;\">\n",
              "      <th></th>\n",
              "      <th>id</th>\n",
              "      <th>country</th>\n",
              "      <th>state</th>\n",
              "      <th>street_name</th>\n",
              "      <th>street_number</th>\n",
              "      <th>post_code</th>\n",
              "      <th>person_id</th>\n",
              "    </tr>\n",
              "  </thead>\n",
              "  <tbody>\n",
              "    <tr>\n",
              "      <th>0</th>\n",
              "      <td>1</td>\n",
              "      <td>USA</td>\n",
              "      <td>WA</td>\n",
              "      <td>West Huron Street</td>\n",
              "      <td>1</td>\n",
              "      <td>48103</td>\n",
              "      <td>1</td>\n",
              "    </tr>\n",
              "    <tr>\n",
              "      <th>1</th>\n",
              "      <td>2</td>\n",
              "      <td>Russia</td>\n",
              "      <td>Moscow</td>\n",
              "      <td>Pervomay Street</td>\n",
              "      <td>42</td>\n",
              "      <td>141700</td>\n",
              "      <td>2</td>\n",
              "    </tr>\n",
              "    <tr>\n",
              "      <th>2</th>\n",
              "      <td>3</td>\n",
              "      <td>Russia</td>\n",
              "      <td>Moscow</td>\n",
              "      <td>Pervomay Street</td>\n",
              "      <td>42</td>\n",
              "      <td>141700</td>\n",
              "      <td>3</td>\n",
              "    </tr>\n",
              "    <tr>\n",
              "      <th>3</th>\n",
              "      <td>4</td>\n",
              "      <td>USA</td>\n",
              "      <td>CA</td>\n",
              "      <td>Green Street</td>\n",
              "      <td>104</td>\n",
              "      <td>655689</td>\n",
              "      <td>4</td>\n",
              "    </tr>\n",
              "  </tbody>\n",
              "</table>\n",
              "</div>"
            ],
            "text/plain": [
              "   id country   state        street_name street_number post_code  person_id\n",
              "0   1     USA      WA  West Huron Street             1     48103          1\n",
              "1   2  Russia  Moscow    Pervomay Street            42    141700          2\n",
              "2   3  Russia  Moscow    Pervomay Street            42    141700          3\n",
              "3   4     USA      CA       Green Street           104    655689          4"
            ]
          },
          "metadata": {
            "tags": []
          }
        }
      ]
    },
    {
      "cell_type": "markdown",
      "metadata": {
        "id": "G1TjwzfiSnSi"
      },
      "source": [
        "Другой способ добавления с использованием **add_all()**"
      ]
    },
    {
      "cell_type": "code",
      "metadata": {
        "id": "ux3E1H-_QOEY"
      },
      "source": [
        "session.add_all([Person(name='Max'),\n",
        "                 Person(name='Dan'),\n",
        "                 Person(name='Alex')])\n",
        "session.commit()"
      ],
      "execution_count": null,
      "outputs": []
    },
    {
      "cell_type": "code",
      "metadata": {
        "colab": {
          "base_uri": "https://localhost:8080/",
          "height": 266
        },
        "id": "KQ0xg_YwQOIi",
        "outputId": "2e0364d5-59e5-483d-bac1-0f4a0b215fcc"
      },
      "source": [
        "query = select([Person.id, Person.name])\n",
        "display_results(query)"
      ],
      "execution_count": null,
      "outputs": [
        {
          "output_type": "display_data",
          "data": {
            "text/html": [
              "<div>\n",
              "<style scoped>\n",
              "    .dataframe tbody tr th:only-of-type {\n",
              "        vertical-align: middle;\n",
              "    }\n",
              "\n",
              "    .dataframe tbody tr th {\n",
              "        vertical-align: top;\n",
              "    }\n",
              "\n",
              "    .dataframe thead th {\n",
              "        text-align: right;\n",
              "    }\n",
              "</style>\n",
              "<table border=\"1\" class=\"dataframe\">\n",
              "  <thead>\n",
              "    <tr style=\"text-align: right;\">\n",
              "      <th></th>\n",
              "      <th>id</th>\n",
              "      <th>name</th>\n",
              "    </tr>\n",
              "  </thead>\n",
              "  <tbody>\n",
              "    <tr>\n",
              "      <th>0</th>\n",
              "      <td>1</td>\n",
              "      <td>Nawin</td>\n",
              "    </tr>\n",
              "    <tr>\n",
              "      <th>1</th>\n",
              "      <td>2</td>\n",
              "      <td>Moshe</td>\n",
              "    </tr>\n",
              "    <tr>\n",
              "      <th>2</th>\n",
              "      <td>3</td>\n",
              "      <td>Lisa</td>\n",
              "    </tr>\n",
              "    <tr>\n",
              "      <th>3</th>\n",
              "      <td>4</td>\n",
              "      <td>Nika</td>\n",
              "    </tr>\n",
              "    <tr>\n",
              "      <th>4</th>\n",
              "      <td>5</td>\n",
              "      <td>Max</td>\n",
              "    </tr>\n",
              "    <tr>\n",
              "      <th>5</th>\n",
              "      <td>6</td>\n",
              "      <td>Dan</td>\n",
              "    </tr>\n",
              "    <tr>\n",
              "      <th>6</th>\n",
              "      <td>7</td>\n",
              "      <td>Alex</td>\n",
              "    </tr>\n",
              "  </tbody>\n",
              "</table>\n",
              "</div>"
            ],
            "text/plain": [
              "   id   name\n",
              "0   1  Nawin\n",
              "1   2  Moshe\n",
              "2   3   Lisa\n",
              "3   4   Nika\n",
              "4   5    Max\n",
              "5   6    Dan\n",
              "6   7   Alex"
            ]
          },
          "metadata": {
            "tags": []
          }
        }
      ]
    },
    {
      "cell_type": "code",
      "metadata": {
        "colab": {
          "base_uri": "https://localhost:8080/",
          "height": 173
        },
        "id": "agOyki3aUGv5",
        "outputId": "690bf595-aa9a-4814-c4c3-b70b16ae91a8"
      },
      "source": [
        "query = select([Address])\n",
        "display_results(query)"
      ],
      "execution_count": null,
      "outputs": [
        {
          "output_type": "display_data",
          "data": {
            "text/html": [
              "<div>\n",
              "<style scoped>\n",
              "    .dataframe tbody tr th:only-of-type {\n",
              "        vertical-align: middle;\n",
              "    }\n",
              "\n",
              "    .dataframe tbody tr th {\n",
              "        vertical-align: top;\n",
              "    }\n",
              "\n",
              "    .dataframe thead th {\n",
              "        text-align: right;\n",
              "    }\n",
              "</style>\n",
              "<table border=\"1\" class=\"dataframe\">\n",
              "  <thead>\n",
              "    <tr style=\"text-align: right;\">\n",
              "      <th></th>\n",
              "      <th>id</th>\n",
              "      <th>country</th>\n",
              "      <th>state</th>\n",
              "      <th>street_name</th>\n",
              "      <th>street_number</th>\n",
              "      <th>post_code</th>\n",
              "      <th>person_id</th>\n",
              "    </tr>\n",
              "  </thead>\n",
              "  <tbody>\n",
              "    <tr>\n",
              "      <th>0</th>\n",
              "      <td>1</td>\n",
              "      <td>USA</td>\n",
              "      <td>WA</td>\n",
              "      <td>West Huron Street</td>\n",
              "      <td>1</td>\n",
              "      <td>48103</td>\n",
              "      <td>1</td>\n",
              "    </tr>\n",
              "    <tr>\n",
              "      <th>1</th>\n",
              "      <td>2</td>\n",
              "      <td>Russia</td>\n",
              "      <td>Moscow</td>\n",
              "      <td>Pervomay Street</td>\n",
              "      <td>42</td>\n",
              "      <td>141700</td>\n",
              "      <td>2</td>\n",
              "    </tr>\n",
              "    <tr>\n",
              "      <th>2</th>\n",
              "      <td>3</td>\n",
              "      <td>Russia</td>\n",
              "      <td>Moscow</td>\n",
              "      <td>Pervomay Street</td>\n",
              "      <td>42</td>\n",
              "      <td>141700</td>\n",
              "      <td>3</td>\n",
              "    </tr>\n",
              "    <tr>\n",
              "      <th>3</th>\n",
              "      <td>4</td>\n",
              "      <td>USA</td>\n",
              "      <td>CA</td>\n",
              "      <td>Green Street</td>\n",
              "      <td>104</td>\n",
              "      <td>655689</td>\n",
              "      <td>4</td>\n",
              "    </tr>\n",
              "  </tbody>\n",
              "</table>\n",
              "</div>"
            ],
            "text/plain": [
              "   id country   state        street_name street_number post_code  person_id\n",
              "0   1     USA      WA  West Huron Street             1     48103          1\n",
              "1   2  Russia  Moscow    Pervomay Street            42    141700          2\n",
              "2   3  Russia  Moscow    Pervomay Street            42    141700          3\n",
              "3   4     USA      CA       Green Street           104    655689          4"
            ]
          },
          "metadata": {
            "tags": []
          }
        }
      ]
    },
    {
      "cell_type": "markdown",
      "metadata": {
        "id": "Tk8GSFPQJUq1"
      },
      "source": [
        "# Синтаксис 'чистых' SQL запросов. Повторение + новый материал"
      ]
    },
    {
      "cell_type": "markdown",
      "metadata": {
        "id": "1TVvVSm-KR27"
      },
      "source": [
        "## Create"
      ]
    },
    {
      "cell_type": "code",
      "metadata": {
        "colab": {
          "base_uri": "https://localhost:8080/"
        },
        "id": "UvXnXjd2gSwV",
        "outputId": "26c43be6-5226-42cb-f81b-8c613eb731aa"
      },
      "source": [
        "engine.table_names()"
      ],
      "execution_count": null,
      "outputs": [
        {
          "output_type": "execute_result",
          "data": {
            "text/plain": [
              "['address', 'person']"
            ]
          },
          "metadata": {
            "tags": []
          },
          "execution_count": 22
        }
      ]
    },
    {
      "cell_type": "code",
      "metadata": {
        "colab": {
          "base_uri": "https://localhost:8080/"
        },
        "id": "BBwCJxdhJJKq",
        "outputId": "5e24ad00-690b-4d0c-9c6e-4f123cd841f3"
      },
      "source": [
        "connection.execute('''\n",
        "CREATE TABLE friends (\n",
        "    id_ INT UNSIGNED AUTO_INCREMENT,\n",
        "    friendName VARCHAR(50),\n",
        "    phone VARCHAR(50),\n",
        "    addressLine1 VARCHAR(50),\n",
        "    addressLine2 VARCHAR(50),\n",
        "    city VARCHAR(50),\n",
        "    state VARCHAR(50),\n",
        "    postalCode VARCHAR(50),\n",
        "    country VARCHAR(50),\n",
        "    PRIMARY KEY(id_)\n",
        ");\n",
        "''')"
      ],
      "execution_count": null,
      "outputs": [
        {
          "output_type": "execute_result",
          "data": {
            "text/plain": [
              "<sqlalchemy.engine.result.ResultProxy at 0x7f05e547fc50>"
            ]
          },
          "metadata": {
            "tags": []
          },
          "execution_count": 23
        }
      ]
    },
    {
      "cell_type": "code",
      "metadata": {
        "colab": {
          "base_uri": "https://localhost:8080/"
        },
        "id": "rQjWWZT7JJNm",
        "outputId": "97927c46-8236-4357-8ed8-ae265fb9d540"
      },
      "source": [
        "engine.table_names()"
      ],
      "execution_count": null,
      "outputs": [
        {
          "output_type": "execute_result",
          "data": {
            "text/plain": [
              "['address', 'friends', 'person']"
            ]
          },
          "metadata": {
            "tags": []
          },
          "execution_count": 24
        }
      ]
    },
    {
      "cell_type": "code",
      "metadata": {
        "id": "JLldzWvUTgma"
      },
      "source": [
        "result = connection.execute(\"select * from friends\")\n",
        "for row in result:\n",
        "    print(\"Friend info\", row)"
      ],
      "execution_count": null,
      "outputs": []
    },
    {
      "cell_type": "code",
      "metadata": {
        "colab": {
          "base_uri": "https://localhost:8080/",
          "height": 49
        },
        "id": "kPLBrNtccwR6",
        "outputId": "08fd66e8-d317-4451-af0b-f229b873b1cf"
      },
      "source": [
        "pd.read_sql('SELECT * from friends;', connection)"
      ],
      "execution_count": null,
      "outputs": [
        {
          "output_type": "execute_result",
          "data": {
            "text/html": [
              "<div>\n",
              "<style scoped>\n",
              "    .dataframe tbody tr th:only-of-type {\n",
              "        vertical-align: middle;\n",
              "    }\n",
              "\n",
              "    .dataframe tbody tr th {\n",
              "        vertical-align: top;\n",
              "    }\n",
              "\n",
              "    .dataframe thead th {\n",
              "        text-align: right;\n",
              "    }\n",
              "</style>\n",
              "<table border=\"1\" class=\"dataframe\">\n",
              "  <thead>\n",
              "    <tr style=\"text-align: right;\">\n",
              "      <th></th>\n",
              "      <th>id_</th>\n",
              "      <th>friendName</th>\n",
              "      <th>phone</th>\n",
              "      <th>addressLine1</th>\n",
              "      <th>addressLine2</th>\n",
              "      <th>city</th>\n",
              "      <th>state</th>\n",
              "      <th>postalCode</th>\n",
              "      <th>country</th>\n",
              "    </tr>\n",
              "  </thead>\n",
              "  <tbody>\n",
              "  </tbody>\n",
              "</table>\n",
              "</div>"
            ],
            "text/plain": [
              "Empty DataFrame\n",
              "Columns: [id_, friendName, phone, addressLine1, addressLine2, city, state, postalCode, country]\n",
              "Index: []"
            ]
          },
          "metadata": {
            "tags": []
          },
          "execution_count": 26
        }
      ]
    },
    {
      "cell_type": "code",
      "metadata": {
        "colab": {
          "base_uri": "https://localhost:8080/",
          "height": 266
        },
        "id": "pGEHbMkXdCVm",
        "outputId": "a2653028-ba17-4bd5-f79a-67a27dd2cb09"
      },
      "source": [
        "pd.read_sql('SELECT * from person;', connection)"
      ],
      "execution_count": null,
      "outputs": [
        {
          "output_type": "execute_result",
          "data": {
            "text/html": [
              "<div>\n",
              "<style scoped>\n",
              "    .dataframe tbody tr th:only-of-type {\n",
              "        vertical-align: middle;\n",
              "    }\n",
              "\n",
              "    .dataframe tbody tr th {\n",
              "        vertical-align: top;\n",
              "    }\n",
              "\n",
              "    .dataframe thead th {\n",
              "        text-align: right;\n",
              "    }\n",
              "</style>\n",
              "<table border=\"1\" class=\"dataframe\">\n",
              "  <thead>\n",
              "    <tr style=\"text-align: right;\">\n",
              "      <th></th>\n",
              "      <th>id</th>\n",
              "      <th>name</th>\n",
              "    </tr>\n",
              "  </thead>\n",
              "  <tbody>\n",
              "    <tr>\n",
              "      <th>0</th>\n",
              "      <td>1</td>\n",
              "      <td>Nawin</td>\n",
              "    </tr>\n",
              "    <tr>\n",
              "      <th>1</th>\n",
              "      <td>2</td>\n",
              "      <td>Moshe</td>\n",
              "    </tr>\n",
              "    <tr>\n",
              "      <th>2</th>\n",
              "      <td>3</td>\n",
              "      <td>Lisa</td>\n",
              "    </tr>\n",
              "    <tr>\n",
              "      <th>3</th>\n",
              "      <td>4</td>\n",
              "      <td>Nika</td>\n",
              "    </tr>\n",
              "    <tr>\n",
              "      <th>4</th>\n",
              "      <td>5</td>\n",
              "      <td>Max</td>\n",
              "    </tr>\n",
              "    <tr>\n",
              "      <th>5</th>\n",
              "      <td>6</td>\n",
              "      <td>Dan</td>\n",
              "    </tr>\n",
              "    <tr>\n",
              "      <th>6</th>\n",
              "      <td>7</td>\n",
              "      <td>Alex</td>\n",
              "    </tr>\n",
              "  </tbody>\n",
              "</table>\n",
              "</div>"
            ],
            "text/plain": [
              "   id   name\n",
              "0   1  Nawin\n",
              "1   2  Moshe\n",
              "2   3   Lisa\n",
              "3   4   Nika\n",
              "4   5    Max\n",
              "5   6    Dan\n",
              "6   7   Alex"
            ]
          },
          "metadata": {
            "tags": []
          },
          "execution_count": 27
        }
      ]
    },
    {
      "cell_type": "code",
      "metadata": {
        "colab": {
          "base_uri": "https://localhost:8080/"
        },
        "id": "aliIYD8hdRol",
        "outputId": "8ac112fd-bf4d-4e9d-ca78-6cccd5a58427"
      },
      "source": [
        "result = connection.execute(\n",
        "'''SELECT\n",
        "    country,\n",
        "    state,\n",
        "    post_code\n",
        "FROM \n",
        "    address\n",
        "WHERE \n",
        "    country = 'USA' AND \n",
        "    state = 'CA';\n",
        "''')\n",
        "\n",
        "for row in result:\n",
        "    print(\"adress info\", row)"
      ],
      "execution_count": null,
      "outputs": [
        {
          "output_type": "stream",
          "text": [
            "adress info ('USA', 'CA', '655689')\n"
          ],
          "name": "stdout"
        }
      ]
    },
    {
      "cell_type": "markdown",
      "metadata": {
        "id": "buDcmd75lGfi"
      },
      "source": [
        "## Insert into"
      ]
    },
    {
      "cell_type": "code",
      "metadata": {
        "colab": {
          "base_uri": "https://localhost:8080/"
        },
        "id": "eypcVnH4kGOI",
        "outputId": "4967e788-e685-4c99-986e-f496e3e502e6"
      },
      "source": [
        "connection.execute(\n",
        "\"\"\"\n",
        "INSERT INTO friends (\n",
        "    id_,\n",
        "    country,\n",
        "    state,\n",
        "    postalCode\n",
        ")\n",
        "VALUES (1, \"UK\", \"London\", 5678)\n",
        "\"\"\"\n",
        ")"
      ],
      "execution_count": null,
      "outputs": [
        {
          "output_type": "execute_result",
          "data": {
            "text/plain": [
              "<sqlalchemy.engine.result.ResultProxy at 0x7f05e5474f28>"
            ]
          },
          "metadata": {
            "tags": []
          },
          "execution_count": 29
        }
      ]
    },
    {
      "cell_type": "code",
      "metadata": {
        "colab": {
          "base_uri": "https://localhost:8080/",
          "height": 80
        },
        "id": "YGOVUsVUlJyW",
        "outputId": "37b2d7a3-5ffb-40f1-8fe4-88f9e037b0a3"
      },
      "source": [
        "pd.read_sql('SELECT * from friends;', connection)"
      ],
      "execution_count": null,
      "outputs": [
        {
          "output_type": "execute_result",
          "data": {
            "text/html": [
              "<div>\n",
              "<style scoped>\n",
              "    .dataframe tbody tr th:only-of-type {\n",
              "        vertical-align: middle;\n",
              "    }\n",
              "\n",
              "    .dataframe tbody tr th {\n",
              "        vertical-align: top;\n",
              "    }\n",
              "\n",
              "    .dataframe thead th {\n",
              "        text-align: right;\n",
              "    }\n",
              "</style>\n",
              "<table border=\"1\" class=\"dataframe\">\n",
              "  <thead>\n",
              "    <tr style=\"text-align: right;\">\n",
              "      <th></th>\n",
              "      <th>id_</th>\n",
              "      <th>friendName</th>\n",
              "      <th>phone</th>\n",
              "      <th>addressLine1</th>\n",
              "      <th>addressLine2</th>\n",
              "      <th>city</th>\n",
              "      <th>state</th>\n",
              "      <th>postalCode</th>\n",
              "      <th>country</th>\n",
              "    </tr>\n",
              "  </thead>\n",
              "  <tbody>\n",
              "    <tr>\n",
              "      <th>0</th>\n",
              "      <td>1</td>\n",
              "      <td>None</td>\n",
              "      <td>None</td>\n",
              "      <td>None</td>\n",
              "      <td>None</td>\n",
              "      <td>None</td>\n",
              "      <td>London</td>\n",
              "      <td>5678</td>\n",
              "      <td>UK</td>\n",
              "    </tr>\n",
              "  </tbody>\n",
              "</table>\n",
              "</div>"
            ],
            "text/plain": [
              "   id_ friendName phone addressLine1  ...  city   state postalCode country\n",
              "0    1       None  None         None  ...  None  London       5678      UK\n",
              "\n",
              "[1 rows x 9 columns]"
            ]
          },
          "metadata": {
            "tags": []
          },
          "execution_count": 30
        }
      ]
    },
    {
      "cell_type": "markdown",
      "metadata": {
        "id": "OgcTKIWalDc6"
      },
      "source": [
        "## Update"
      ]
    },
    {
      "cell_type": "code",
      "metadata": {
        "colab": {
          "base_uri": "https://localhost:8080/"
        },
        "id": "I3LAmOy2k0ti",
        "outputId": "acd12133-e83e-4579-9219-410ad7bf7675"
      },
      "source": [
        "connection.execute(\n",
        "'''\n",
        "UPDATE friends \n",
        "\n",
        "SET\n",
        "    friendName = \"Mike\"\n",
        "WHERE \n",
        "    country = \"UK\"\n",
        "''')"
      ],
      "execution_count": null,
      "outputs": [
        {
          "output_type": "execute_result",
          "data": {
            "text/plain": [
              "<sqlalchemy.engine.result.ResultProxy at 0x7f05e547f278>"
            ]
          },
          "metadata": {
            "tags": []
          },
          "execution_count": 31
        }
      ]
    },
    {
      "cell_type": "code",
      "metadata": {
        "colab": {
          "base_uri": "https://localhost:8080/",
          "height": 80
        },
        "id": "8F8nAH2YkW53",
        "outputId": "5e42641a-ed36-4e63-88ff-5c0c9eb38705"
      },
      "source": [
        "pd.read_sql('SELECT * from friends;', connection)"
      ],
      "execution_count": null,
      "outputs": [
        {
          "output_type": "execute_result",
          "data": {
            "text/html": [
              "<div>\n",
              "<style scoped>\n",
              "    .dataframe tbody tr th:only-of-type {\n",
              "        vertical-align: middle;\n",
              "    }\n",
              "\n",
              "    .dataframe tbody tr th {\n",
              "        vertical-align: top;\n",
              "    }\n",
              "\n",
              "    .dataframe thead th {\n",
              "        text-align: right;\n",
              "    }\n",
              "</style>\n",
              "<table border=\"1\" class=\"dataframe\">\n",
              "  <thead>\n",
              "    <tr style=\"text-align: right;\">\n",
              "      <th></th>\n",
              "      <th>id_</th>\n",
              "      <th>friendName</th>\n",
              "      <th>phone</th>\n",
              "      <th>addressLine1</th>\n",
              "      <th>addressLine2</th>\n",
              "      <th>city</th>\n",
              "      <th>state</th>\n",
              "      <th>postalCode</th>\n",
              "      <th>country</th>\n",
              "    </tr>\n",
              "  </thead>\n",
              "  <tbody>\n",
              "    <tr>\n",
              "      <th>0</th>\n",
              "      <td>1</td>\n",
              "      <td>Mike</td>\n",
              "      <td>None</td>\n",
              "      <td>None</td>\n",
              "      <td>None</td>\n",
              "      <td>None</td>\n",
              "      <td>London</td>\n",
              "      <td>5678</td>\n",
              "      <td>UK</td>\n",
              "    </tr>\n",
              "  </tbody>\n",
              "</table>\n",
              "</div>"
            ],
            "text/plain": [
              "   id_ friendName phone addressLine1  ...  city   state postalCode country\n",
              "0    1       Mike  None         None  ...  None  London       5678      UK\n",
              "\n",
              "[1 rows x 9 columns]"
            ]
          },
          "metadata": {
            "tags": []
          },
          "execution_count": 32
        }
      ]
    },
    {
      "cell_type": "markdown",
      "metadata": {
        "id": "migpKc_tX5rq"
      },
      "source": [
        "## Insert into select"
      ]
    },
    {
      "cell_type": "code",
      "metadata": {
        "colab": {
          "base_uri": "https://localhost:8080/"
        },
        "id": "4IWsR3znTgrZ",
        "outputId": "700a36f6-2bb5-413f-d1a3-6fb1b2670567"
      },
      "source": [
        "connection.execute(\n",
        "'''\n",
        "INSERT INTO friends (\n",
        "    country,\n",
        "    state,\n",
        "    postalCode\n",
        ")\n",
        "SELECT\n",
        "    country,\n",
        "    state,\n",
        "    post_code\n",
        "FROM \n",
        "    address\n",
        "WHERE \n",
        "    country = 'USA' AND \n",
        "    state = 'CA';\n",
        "''')"
      ],
      "execution_count": null,
      "outputs": [
        {
          "output_type": "execute_result",
          "data": {
            "text/plain": [
              "<sqlalchemy.engine.result.ResultProxy at 0x7f05e547fdd8>"
            ]
          },
          "metadata": {
            "tags": []
          },
          "execution_count": 33
        }
      ]
    },
    {
      "cell_type": "code",
      "metadata": {
        "colab": {
          "base_uri": "https://localhost:8080/",
          "height": 111
        },
        "id": "1yV3A2AsTgwr",
        "outputId": "cd37c256-4e1a-46c3-f6d0-705791f31919"
      },
      "source": [
        "pd.read_sql('SELECT * from friends;', connection)"
      ],
      "execution_count": null,
      "outputs": [
        {
          "output_type": "execute_result",
          "data": {
            "text/html": [
              "<div>\n",
              "<style scoped>\n",
              "    .dataframe tbody tr th:only-of-type {\n",
              "        vertical-align: middle;\n",
              "    }\n",
              "\n",
              "    .dataframe tbody tr th {\n",
              "        vertical-align: top;\n",
              "    }\n",
              "\n",
              "    .dataframe thead th {\n",
              "        text-align: right;\n",
              "    }\n",
              "</style>\n",
              "<table border=\"1\" class=\"dataframe\">\n",
              "  <thead>\n",
              "    <tr style=\"text-align: right;\">\n",
              "      <th></th>\n",
              "      <th>id_</th>\n",
              "      <th>friendName</th>\n",
              "      <th>phone</th>\n",
              "      <th>addressLine1</th>\n",
              "      <th>addressLine2</th>\n",
              "      <th>city</th>\n",
              "      <th>state</th>\n",
              "      <th>postalCode</th>\n",
              "      <th>country</th>\n",
              "    </tr>\n",
              "  </thead>\n",
              "  <tbody>\n",
              "    <tr>\n",
              "      <th>0</th>\n",
              "      <td>1.0</td>\n",
              "      <td>Mike</td>\n",
              "      <td>None</td>\n",
              "      <td>None</td>\n",
              "      <td>None</td>\n",
              "      <td>None</td>\n",
              "      <td>London</td>\n",
              "      <td>5678</td>\n",
              "      <td>UK</td>\n",
              "    </tr>\n",
              "    <tr>\n",
              "      <th>1</th>\n",
              "      <td>NaN</td>\n",
              "      <td>None</td>\n",
              "      <td>None</td>\n",
              "      <td>None</td>\n",
              "      <td>None</td>\n",
              "      <td>None</td>\n",
              "      <td>CA</td>\n",
              "      <td>655689</td>\n",
              "      <td>USA</td>\n",
              "    </tr>\n",
              "  </tbody>\n",
              "</table>\n",
              "</div>"
            ],
            "text/plain": [
              "   id_ friendName phone addressLine1  ...  city   state postalCode country\n",
              "0  1.0       Mike  None         None  ...  None  London       5678      UK\n",
              "1  NaN       None  None         None  ...  None      CA     655689     USA\n",
              "\n",
              "[2 rows x 9 columns]"
            ]
          },
          "metadata": {
            "tags": []
          },
          "execution_count": 34
        }
      ]
    },
    {
      "cell_type": "markdown",
      "metadata": {
        "id": "Skkm-u8_nVIX"
      },
      "source": [
        "## Drop"
      ]
    },
    {
      "cell_type": "code",
      "metadata": {
        "colab": {
          "base_uri": "https://localhost:8080/"
        },
        "id": "hrlHc-kknTG5",
        "outputId": "23b499a3-02e0-4db9-f63d-a21b81f5b350"
      },
      "source": [
        "connection.execute('DROP TABLE friends;')"
      ],
      "execution_count": null,
      "outputs": [
        {
          "output_type": "execute_result",
          "data": {
            "text/plain": [
              "<sqlalchemy.engine.result.ResultProxy at 0x7f05e5465710>"
            ]
          },
          "metadata": {
            "tags": []
          },
          "execution_count": 35
        }
      ]
    },
    {
      "cell_type": "code",
      "metadata": {
        "colab": {
          "base_uri": "https://localhost:8080/"
        },
        "id": "dodI0YRrnLST",
        "outputId": "9c826c1a-4fed-4f47-855e-8d4ba1b54f51"
      },
      "source": [
        "engine.table_names()"
      ],
      "execution_count": null,
      "outputs": [
        {
          "output_type": "execute_result",
          "data": {
            "text/plain": [
              "['address', 'person']"
            ]
          },
          "metadata": {
            "tags": []
          },
          "execution_count": 36
        }
      ]
    },
    {
      "cell_type": "markdown",
      "metadata": {
        "id": "JomhfuPXnlTM"
      },
      "source": [
        "## Create view\n",
        "\n",
        "CREATE VIEW создаст представление по заданному вами условию"
      ]
    },
    {
      "cell_type": "code",
      "metadata": {
        "colab": {
          "base_uri": "https://localhost:8080/"
        },
        "id": "ubXisimnninm",
        "outputId": "08ef4aae-1d5a-4de0-e5d7-80d47ad00fa5"
      },
      "source": [
        "connection.execute('''\n",
        "CREATE VIEW test_view AS\n",
        "    SELECT \n",
        "        street_name, \n",
        "        street_number\n",
        "    FROM\n",
        "        address\n",
        "    ORDER BY street_number;\n",
        "''')"
      ],
      "execution_count": null,
      "outputs": [
        {
          "output_type": "execute_result",
          "data": {
            "text/plain": [
              "<sqlalchemy.engine.result.ResultProxy at 0x7f05e5487e48>"
            ]
          },
          "metadata": {
            "tags": []
          },
          "execution_count": 37
        }
      ]
    },
    {
      "cell_type": "code",
      "metadata": {
        "colab": {
          "base_uri": "https://localhost:8080/"
        },
        "id": "0lVQhhwcnive",
        "outputId": "34e5df3a-58ec-464a-8db1-74de9a4db3c6"
      },
      "source": [
        "engine.table_names()"
      ],
      "execution_count": null,
      "outputs": [
        {
          "output_type": "execute_result",
          "data": {
            "text/plain": [
              "['address', 'person']"
            ]
          },
          "metadata": {
            "tags": []
          },
          "execution_count": 38
        }
      ]
    },
    {
      "cell_type": "markdown",
      "metadata": {
        "id": "YdTxSpTSpGe3"
      },
      "source": [
        "Но в pandas таблицы и представления разделяют одно пространство имен "
      ]
    },
    {
      "cell_type": "code",
      "metadata": {
        "colab": {
          "base_uri": "https://localhost:8080/",
          "height": 173
        },
        "id": "Zn_-IxDAhaXF",
        "outputId": "726ecf6a-7a1a-4e29-a12a-ce1fb5517fec"
      },
      "source": [
        "pd.read_sql('SELECT * from test_view;', connection)"
      ],
      "execution_count": null,
      "outputs": [
        {
          "output_type": "execute_result",
          "data": {
            "text/html": [
              "<div>\n",
              "<style scoped>\n",
              "    .dataframe tbody tr th:only-of-type {\n",
              "        vertical-align: middle;\n",
              "    }\n",
              "\n",
              "    .dataframe tbody tr th {\n",
              "        vertical-align: top;\n",
              "    }\n",
              "\n",
              "    .dataframe thead th {\n",
              "        text-align: right;\n",
              "    }\n",
              "</style>\n",
              "<table border=\"1\" class=\"dataframe\">\n",
              "  <thead>\n",
              "    <tr style=\"text-align: right;\">\n",
              "      <th></th>\n",
              "      <th>street_name</th>\n",
              "      <th>street_number</th>\n",
              "    </tr>\n",
              "  </thead>\n",
              "  <tbody>\n",
              "    <tr>\n",
              "      <th>0</th>\n",
              "      <td>West Huron Street</td>\n",
              "      <td>1</td>\n",
              "    </tr>\n",
              "    <tr>\n",
              "      <th>1</th>\n",
              "      <td>Green Street</td>\n",
              "      <td>104</td>\n",
              "    </tr>\n",
              "    <tr>\n",
              "      <th>2</th>\n",
              "      <td>Pervomay Street</td>\n",
              "      <td>42</td>\n",
              "    </tr>\n",
              "    <tr>\n",
              "      <th>3</th>\n",
              "      <td>Pervomay Street</td>\n",
              "      <td>42</td>\n",
              "    </tr>\n",
              "  </tbody>\n",
              "</table>\n",
              "</div>"
            ],
            "text/plain": [
              "         street_name street_number\n",
              "0  West Huron Street             1\n",
              "1       Green Street           104\n",
              "2    Pervomay Street            42\n",
              "3    Pervomay Street            42"
            ]
          },
          "metadata": {
            "tags": []
          },
          "execution_count": 39
        }
      ]
    },
    {
      "cell_type": "code",
      "metadata": {
        "colab": {
          "base_uri": "https://localhost:8080/"
        },
        "id": "vGZvvVcKpv8S",
        "outputId": "17d81213-0f5d-4ad6-a7dd-d4efa25fe574"
      },
      "source": [
        "connection.execute('''\n",
        "drop view test_view;\n",
        "''')"
      ],
      "execution_count": null,
      "outputs": [
        {
          "output_type": "execute_result",
          "data": {
            "text/plain": [
              "<sqlalchemy.engine.result.ResultProxy at 0x7f05e5487ef0>"
            ]
          },
          "metadata": {
            "tags": []
          },
          "execution_count": 40
        }
      ]
    },
    {
      "cell_type": "markdown",
      "metadata": {
        "id": "wovwv7tisQMD"
      },
      "source": [
        "## Case\n",
        "\n",
        "Выражение MySQL CASE - это структура потока управления, которая позволяет добавлять логику if-else к запросу. Вообще говоря, вы можете использовать выражение CASE в любом месте, которое допускает допустимое выражение, например, предложения SELECT, WHERE и ORDER BY."
      ]
    },
    {
      "cell_type": "code",
      "metadata": {
        "colab": {
          "base_uri": "https://localhost:8080/",
          "height": 173
        },
        "id": "bRf5I9ZmsbP6",
        "outputId": "e24936d7-a6c1-4937-95e9-a7f046659037"
      },
      "source": [
        "pd.read_sql('SELECT * from address;', connection)"
      ],
      "execution_count": null,
      "outputs": [
        {
          "output_type": "execute_result",
          "data": {
            "text/html": [
              "<div>\n",
              "<style scoped>\n",
              "    .dataframe tbody tr th:only-of-type {\n",
              "        vertical-align: middle;\n",
              "    }\n",
              "\n",
              "    .dataframe tbody tr th {\n",
              "        vertical-align: top;\n",
              "    }\n",
              "\n",
              "    .dataframe thead th {\n",
              "        text-align: right;\n",
              "    }\n",
              "</style>\n",
              "<table border=\"1\" class=\"dataframe\">\n",
              "  <thead>\n",
              "    <tr style=\"text-align: right;\">\n",
              "      <th></th>\n",
              "      <th>id</th>\n",
              "      <th>country</th>\n",
              "      <th>state</th>\n",
              "      <th>street_name</th>\n",
              "      <th>street_number</th>\n",
              "      <th>post_code</th>\n",
              "      <th>person_id</th>\n",
              "    </tr>\n",
              "  </thead>\n",
              "  <tbody>\n",
              "    <tr>\n",
              "      <th>0</th>\n",
              "      <td>1</td>\n",
              "      <td>USA</td>\n",
              "      <td>WA</td>\n",
              "      <td>West Huron Street</td>\n",
              "      <td>1</td>\n",
              "      <td>48103</td>\n",
              "      <td>1</td>\n",
              "    </tr>\n",
              "    <tr>\n",
              "      <th>1</th>\n",
              "      <td>2</td>\n",
              "      <td>Russia</td>\n",
              "      <td>Moscow</td>\n",
              "      <td>Pervomay Street</td>\n",
              "      <td>42</td>\n",
              "      <td>141700</td>\n",
              "      <td>2</td>\n",
              "    </tr>\n",
              "    <tr>\n",
              "      <th>2</th>\n",
              "      <td>3</td>\n",
              "      <td>Russia</td>\n",
              "      <td>Moscow</td>\n",
              "      <td>Pervomay Street</td>\n",
              "      <td>42</td>\n",
              "      <td>141700</td>\n",
              "      <td>3</td>\n",
              "    </tr>\n",
              "    <tr>\n",
              "      <th>3</th>\n",
              "      <td>4</td>\n",
              "      <td>USA</td>\n",
              "      <td>CA</td>\n",
              "      <td>Green Street</td>\n",
              "      <td>104</td>\n",
              "      <td>655689</td>\n",
              "      <td>4</td>\n",
              "    </tr>\n",
              "  </tbody>\n",
              "</table>\n",
              "</div>"
            ],
            "text/plain": [
              "   id country   state        street_name street_number post_code  person_id\n",
              "0   1     USA      WA  West Huron Street             1     48103          1\n",
              "1   2  Russia  Moscow    Pervomay Street            42    141700          2\n",
              "2   3  Russia  Moscow    Pervomay Street            42    141700          3\n",
              "3   4     USA      CA       Green Street           104    655689          4"
            ]
          },
          "metadata": {
            "tags": []
          },
          "execution_count": 41
        }
      ]
    },
    {
      "cell_type": "code",
      "metadata": {
        "colab": {
          "base_uri": "https://localhost:8080/",
          "height": 173
        },
        "id": "We_1tKRysPRT",
        "outputId": "28e14087-2a31-44d7-b22e-1ed030f2a5fb"
      },
      "source": [
        "pd.read_sql('''\n",
        "SELECT \n",
        "    \n",
        "    country `Страна`,\n",
        "    CASE country\n",
        "\t\tWHEN \"Russia\" THEN 'Живет в России'\n",
        "        WHEN \"USA\" THEN 'Живет в США'\n",
        "        ELSE 'Живет в другой стране'\n",
        "\tend `Страна проживания`\n",
        "FROM\n",
        "    (SELECT \n",
        "\t\tcountry\n",
        "\tFROM\n",
        "\t\taddress\n",
        "\tINNER JOIN person\n",
        "\t\tON  address.person_id = person.id) as cte\n",
        "ORDER BY country;\n",
        "''', connection)"
      ],
      "execution_count": null,
      "outputs": [
        {
          "output_type": "execute_result",
          "data": {
            "text/html": [
              "<div>\n",
              "<style scoped>\n",
              "    .dataframe tbody tr th:only-of-type {\n",
              "        vertical-align: middle;\n",
              "    }\n",
              "\n",
              "    .dataframe tbody tr th {\n",
              "        vertical-align: top;\n",
              "    }\n",
              "\n",
              "    .dataframe thead th {\n",
              "        text-align: right;\n",
              "    }\n",
              "</style>\n",
              "<table border=\"1\" class=\"dataframe\">\n",
              "  <thead>\n",
              "    <tr style=\"text-align: right;\">\n",
              "      <th></th>\n",
              "      <th>Страна</th>\n",
              "      <th>Страна проживания</th>\n",
              "    </tr>\n",
              "  </thead>\n",
              "  <tbody>\n",
              "    <tr>\n",
              "      <th>0</th>\n",
              "      <td>Russia</td>\n",
              "      <td>Живет в России</td>\n",
              "    </tr>\n",
              "    <tr>\n",
              "      <th>1</th>\n",
              "      <td>Russia</td>\n",
              "      <td>Живет в России</td>\n",
              "    </tr>\n",
              "    <tr>\n",
              "      <th>2</th>\n",
              "      <td>USA</td>\n",
              "      <td>Живет в США</td>\n",
              "    </tr>\n",
              "    <tr>\n",
              "      <th>3</th>\n",
              "      <td>USA</td>\n",
              "      <td>Живет в США</td>\n",
              "    </tr>\n",
              "  </tbody>\n",
              "</table>\n",
              "</div>"
            ],
            "text/plain": [
              "   Страна Страна проживания\n",
              "0  Russia    Живет в России\n",
              "1  Russia    Живет в России\n",
              "2     USA       Живет в США\n",
              "3     USA       Живет в США"
            ]
          },
          "metadata": {
            "tags": []
          },
          "execution_count": 42
        }
      ]
    },
    {
      "cell_type": "markdown",
      "metadata": {
        "id": "4m8LUONLwBjo"
      },
      "source": [
        "ЗАДАНИЕ\n",
        "\n",
        "Добавить еще один столбец - Имя человека"
      ]
    },
    {
      "cell_type": "code",
      "metadata": {
        "id": "XIpyB4h5wKoK"
      },
      "source": [
        "# TODO"
      ],
      "execution_count": null,
      "outputs": []
    },
    {
      "cell_type": "code",
      "metadata": {
        "colab": {
          "base_uri": "https://localhost:8080/",
          "height": 173
        },
        "id": "JcaV31ysxd7f",
        "outputId": "b7108af0-0219-48b9-fa7d-4b6118a924a3"
      },
      "source": [
        "pd.read_sql('''\n",
        "SELECT \n",
        "    name 'Имя',\n",
        "    country 'Страна',\n",
        "    CASE country\n",
        "\t\tWHEN \"Russia\" THEN 'Живет в России'\n",
        "        WHEN \"USA\" THEN 'Живет в США'\n",
        "        ELSE 'Живет в другой стране'\n",
        "\tend 'Страна проживания'\n",
        "FROM\n",
        "    (SELECT \n",
        "\t\tcountry,\n",
        "        name\n",
        "\tFROM\n",
        "\t\taddress\n",
        "\tINNER JOIN person\n",
        "\t\tUSING (id))\n",
        "ORDER BY country;\n",
        "''', connection)"
      ],
      "execution_count": null,
      "outputs": [
        {
          "output_type": "execute_result",
          "data": {
            "text/html": [
              "<div>\n",
              "<style scoped>\n",
              "    .dataframe tbody tr th:only-of-type {\n",
              "        vertical-align: middle;\n",
              "    }\n",
              "\n",
              "    .dataframe tbody tr th {\n",
              "        vertical-align: top;\n",
              "    }\n",
              "\n",
              "    .dataframe thead th {\n",
              "        text-align: right;\n",
              "    }\n",
              "</style>\n",
              "<table border=\"1\" class=\"dataframe\">\n",
              "  <thead>\n",
              "    <tr style=\"text-align: right;\">\n",
              "      <th></th>\n",
              "      <th>Имя</th>\n",
              "      <th>Страна</th>\n",
              "      <th>Страна проживания</th>\n",
              "    </tr>\n",
              "  </thead>\n",
              "  <tbody>\n",
              "    <tr>\n",
              "      <th>0</th>\n",
              "      <td>Moshe</td>\n",
              "      <td>Russia</td>\n",
              "      <td>Живет в России</td>\n",
              "    </tr>\n",
              "    <tr>\n",
              "      <th>1</th>\n",
              "      <td>Lisa</td>\n",
              "      <td>Russia</td>\n",
              "      <td>Живет в России</td>\n",
              "    </tr>\n",
              "    <tr>\n",
              "      <th>2</th>\n",
              "      <td>Nawin</td>\n",
              "      <td>USA</td>\n",
              "      <td>Живет в США</td>\n",
              "    </tr>\n",
              "    <tr>\n",
              "      <th>3</th>\n",
              "      <td>Nika</td>\n",
              "      <td>USA</td>\n",
              "      <td>Живет в США</td>\n",
              "    </tr>\n",
              "  </tbody>\n",
              "</table>\n",
              "</div>"
            ],
            "text/plain": [
              "     Имя  Страна Страна проживания\n",
              "0  Moshe  Russia    Живет в России\n",
              "1   Lisa  Russia    Живет в России\n",
              "2  Nawin     USA       Живет в США\n",
              "3   Nika     USA       Живет в США"
            ]
          },
          "metadata": {
            "tags": []
          },
          "execution_count": 44
        }
      ]
    },
    {
      "cell_type": "markdown",
      "metadata": {
        "id": "dDbCLqIwxk-y"
      },
      "source": [
        "Вопрос: Почему в данном случае плохо использовать следующий синтаксис \"JOIN ... USING (id)\" ?\n",
        "\n",
        "Как это исправить?"
      ]
    },
    {
      "cell_type": "code",
      "metadata": {
        "id": "ZCkDQdavx0ro"
      },
      "source": [
        "#TODO"
      ],
      "execution_count": null,
      "outputs": []
    },
    {
      "cell_type": "code",
      "metadata": {
        "colab": {
          "base_uri": "https://localhost:8080/",
          "height": 173
        },
        "id": "CI8f-gSPsPZe",
        "outputId": "d202dae1-6a93-41e9-ab1a-89b25ef8c548"
      },
      "source": [
        "pd.read_sql('''\n",
        "SELECT \n",
        "    name 'Имя',\n",
        "    country 'Страна',\n",
        "    CASE country\n",
        "\t\tWHEN \"Russia\" THEN 'Живет в России'\n",
        "        WHEN \"USA\" THEN 'Живет в США'\n",
        "        ELSE 'Живет в другой стране'\n",
        "\tend 'Страна проживания'\n",
        "FROM\n",
        "    (SELECT \n",
        "\t\tcountry,\n",
        "        name\n",
        "\tFROM\n",
        "\t\taddress\n",
        "\tINNER JOIN person\n",
        "\t\tON  address.person_id = person.id)\n",
        "ORDER BY country;\n",
        "''', connection)"
      ],
      "execution_count": null,
      "outputs": [
        {
          "output_type": "execute_result",
          "data": {
            "text/html": [
              "<div>\n",
              "<style scoped>\n",
              "    .dataframe tbody tr th:only-of-type {\n",
              "        vertical-align: middle;\n",
              "    }\n",
              "\n",
              "    .dataframe tbody tr th {\n",
              "        vertical-align: top;\n",
              "    }\n",
              "\n",
              "    .dataframe thead th {\n",
              "        text-align: right;\n",
              "    }\n",
              "</style>\n",
              "<table border=\"1\" class=\"dataframe\">\n",
              "  <thead>\n",
              "    <tr style=\"text-align: right;\">\n",
              "      <th></th>\n",
              "      <th>Имя</th>\n",
              "      <th>Страна</th>\n",
              "      <th>Страна проживания</th>\n",
              "    </tr>\n",
              "  </thead>\n",
              "  <tbody>\n",
              "    <tr>\n",
              "      <th>0</th>\n",
              "      <td>Moshe</td>\n",
              "      <td>Russia</td>\n",
              "      <td>Живет в России</td>\n",
              "    </tr>\n",
              "    <tr>\n",
              "      <th>1</th>\n",
              "      <td>Lisa</td>\n",
              "      <td>Russia</td>\n",
              "      <td>Живет в России</td>\n",
              "    </tr>\n",
              "    <tr>\n",
              "      <th>2</th>\n",
              "      <td>Nawin</td>\n",
              "      <td>USA</td>\n",
              "      <td>Живет в США</td>\n",
              "    </tr>\n",
              "    <tr>\n",
              "      <th>3</th>\n",
              "      <td>Nika</td>\n",
              "      <td>USA</td>\n",
              "      <td>Живет в США</td>\n",
              "    </tr>\n",
              "  </tbody>\n",
              "</table>\n",
              "</div>"
            ],
            "text/plain": [
              "     Имя  Страна Страна проживания\n",
              "0  Moshe  Russia    Живет в России\n",
              "1   Lisa  Russia    Живет в России\n",
              "2  Nawin     USA       Живет в США\n",
              "3   Nika     USA       Живет в США"
            ]
          },
          "metadata": {
            "tags": []
          },
          "execution_count": 46
        }
      ]
    },
    {
      "cell_type": "code",
      "metadata": {
        "id": "UApCLBYExNmq"
      },
      "source": [
        "# TODO"
      ],
      "execution_count": null,
      "outputs": []
    },
    {
      "cell_type": "markdown",
      "metadata": {
        "id": "vhK_7BXMxCEP"
      },
      "source": [
        "ДОП ЗАДАНИЕ**\n",
        "\n",
        "Если человек живет в Москве, то вывести его имя, улицу и почтовый код"
      ]
    },
    {
      "cell_type": "code",
      "metadata": {
        "id": "NYh6M4KvsPh_"
      },
      "source": [
        ""
      ],
      "execution_count": null,
      "outputs": []
    },
    {
      "cell_type": "code",
      "metadata": {
        "id": "64gyLGI5qHGi"
      },
      "source": [
        ""
      ],
      "execution_count": null,
      "outputs": []
    },
    {
      "cell_type": "markdown",
      "metadata": {
        "id": "JKrp-BOtxVz7"
      },
      "source": [
        "# Работа с датами"
      ]
    },
    {
      "cell_type": "markdown",
      "metadata": {
        "id": "dEEI2CaFyHH1"
      },
      "source": [
        "## Date\n",
        "\n",
        "MySQL DATE - один из пяти временных типов данных, используемых для управления значениями даты. MySQL использует формат гггг-мм-дд для хранения значения даты. Этот формат является фиксированным, и его невозможно изменить. (Для собственных форматов дат используйте DATE_FORMAT)\n",
        "\n",
        "MySQL использует 3 байта для хранения значения DATE. Значения ДАТЫ варьируются от 1000-01-01 до 9999-12-31."
      ]
    },
    {
      "cell_type": "code",
      "metadata": {
        "colab": {
          "base_uri": "https://localhost:8080/"
        },
        "id": "mfCSKHubqHOq",
        "outputId": "5eeb43c6-6851-4a1c-8330-259e6e9bad67"
      },
      "source": [
        "connection.execute('''\n",
        "CREATE TABLE people (\n",
        "    id INT AUTO_INCREMENT PRIMARY KEY,\n",
        "    first_name VARCHAR(50) NOT NULL,\n",
        "    last_name VARCHAR(50) NOT NULL,\n",
        "    birth_date DATE NOT NULL\n",
        ");\n",
        "''')"
      ],
      "execution_count": null,
      "outputs": [
        {
          "output_type": "execute_result",
          "data": {
            "text/plain": [
              "<sqlalchemy.engine.result.ResultProxy at 0x7f05e542c940>"
            ]
          },
          "metadata": {
            "tags": []
          },
          "execution_count": 48
        }
      ]
    },
    {
      "cell_type": "code",
      "metadata": {
        "colab": {
          "base_uri": "https://localhost:8080/"
        },
        "id": "d00r9x71xYgO",
        "outputId": "9bf5af13-d158-44ec-ae6f-d32413567f5f"
      },
      "source": [
        "engine.table_names()"
      ],
      "execution_count": null,
      "outputs": [
        {
          "output_type": "execute_result",
          "data": {
            "text/plain": [
              "['address', 'people', 'person']"
            ]
          },
          "metadata": {
            "tags": []
          },
          "execution_count": 49
        }
      ]
    },
    {
      "cell_type": "code",
      "metadata": {
        "colab": {
          "base_uri": "https://localhost:8080/",
          "height": 49
        },
        "id": "1tld4rn9xYpM",
        "outputId": "33eb6e83-4fd1-48a7-aa46-38a53dff4006"
      },
      "source": [
        "pd.read_sql('''SELECT * from people''', connection)"
      ],
      "execution_count": null,
      "outputs": [
        {
          "output_type": "execute_result",
          "data": {
            "text/html": [
              "<div>\n",
              "<style scoped>\n",
              "    .dataframe tbody tr th:only-of-type {\n",
              "        vertical-align: middle;\n",
              "    }\n",
              "\n",
              "    .dataframe tbody tr th {\n",
              "        vertical-align: top;\n",
              "    }\n",
              "\n",
              "    .dataframe thead th {\n",
              "        text-align: right;\n",
              "    }\n",
              "</style>\n",
              "<table border=\"1\" class=\"dataframe\">\n",
              "  <thead>\n",
              "    <tr style=\"text-align: right;\">\n",
              "      <th></th>\n",
              "      <th>id</th>\n",
              "      <th>first_name</th>\n",
              "      <th>last_name</th>\n",
              "      <th>birth_date</th>\n",
              "    </tr>\n",
              "  </thead>\n",
              "  <tbody>\n",
              "  </tbody>\n",
              "</table>\n",
              "</div>"
            ],
            "text/plain": [
              "Empty DataFrame\n",
              "Columns: [id, first_name, last_name, birth_date]\n",
              "Index: []"
            ]
          },
          "metadata": {
            "tags": []
          },
          "execution_count": 50
        }
      ]
    },
    {
      "cell_type": "markdown",
      "metadata": {
        "id": "HK4I_i6Pyk8q"
      },
      "source": [
        "Добавим элемент"
      ]
    },
    {
      "cell_type": "code",
      "metadata": {
        "colab": {
          "base_uri": "https://localhost:8080/"
        },
        "id": "HwU9Vu4VqHQj",
        "outputId": "a7661ce8-1a43-4cef-8872-8e46b2dc156b"
      },
      "source": [
        "connection.execute('''\n",
        "INSERT INTO people(first_name, last_name, birth_date)\n",
        "VALUES('John','Doe','1990-09-01');\n",
        "''')"
      ],
      "execution_count": null,
      "outputs": [
        {
          "output_type": "execute_result",
          "data": {
            "text/plain": [
              "<sqlalchemy.engine.result.ResultProxy at 0x7f05e542c9e8>"
            ]
          },
          "metadata": {
            "tags": []
          },
          "execution_count": 51
        }
      ]
    },
    {
      "cell_type": "markdown",
      "metadata": {
        "id": "ujZcNsq7yjPV"
      },
      "source": [
        "Посмотрим на результат"
      ]
    },
    {
      "cell_type": "code",
      "metadata": {
        "colab": {
          "base_uri": "https://localhost:8080/",
          "height": 80
        },
        "id": "UlTPeilgyfFF",
        "outputId": "f5deb1ea-e3f2-47b0-f6c8-4b1eb3173cf5"
      },
      "source": [
        "pd.read_sql('''\n",
        "SELECT \n",
        "    first_name, \n",
        "    last_name, \n",
        "    birth_date\n",
        "FROM\n",
        "    people;\n",
        "''', connection)"
      ],
      "execution_count": null,
      "outputs": [
        {
          "output_type": "execute_result",
          "data": {
            "text/html": [
              "<div>\n",
              "<style scoped>\n",
              "    .dataframe tbody tr th:only-of-type {\n",
              "        vertical-align: middle;\n",
              "    }\n",
              "\n",
              "    .dataframe tbody tr th {\n",
              "        vertical-align: top;\n",
              "    }\n",
              "\n",
              "    .dataframe thead th {\n",
              "        text-align: right;\n",
              "    }\n",
              "</style>\n",
              "<table border=\"1\" class=\"dataframe\">\n",
              "  <thead>\n",
              "    <tr style=\"text-align: right;\">\n",
              "      <th></th>\n",
              "      <th>first_name</th>\n",
              "      <th>last_name</th>\n",
              "      <th>birth_date</th>\n",
              "    </tr>\n",
              "  </thead>\n",
              "  <tbody>\n",
              "    <tr>\n",
              "      <th>0</th>\n",
              "      <td>John</td>\n",
              "      <td>Doe</td>\n",
              "      <td>1990-09-01</td>\n",
              "    </tr>\n",
              "  </tbody>\n",
              "</table>\n",
              "</div>"
            ],
            "text/plain": [
              "  first_name last_name  birth_date\n",
              "0       John       Doe  1990-09-01"
            ]
          },
          "metadata": {
            "tags": []
          },
          "execution_count": 52
        }
      ]
    },
    {
      "cell_type": "markdown",
      "metadata": {
        "id": "_qtkJ766yuL3"
      },
      "source": [
        "## Функции от дат"
      ]
    },
    {
      "cell_type": "code",
      "metadata": {
        "colab": {
          "base_uri": "https://localhost:8080/"
        },
        "id": "XJSZqubizNTu",
        "outputId": "8df74a0e-4db2-40b9-b5c0-162e5b4fb860"
      },
      "source": [
        "!pip install mysql-connector-python"
      ],
      "execution_count": null,
      "outputs": [
        {
          "output_type": "stream",
          "text": [
            "Collecting mysql-connector-python\n",
            "\u001b[?25l  Downloading https://files.pythonhosted.org/packages/6c/1d/e666f7d43496a2315d3963a2fb7f8df84e7293b4ddbf05e46d6bdb4a8892/mysql_connector_python-8.0.22-cp36-cp36m-manylinux1_x86_64.whl (18.0MB)\n",
            "\u001b[K     |████████████████████████████████| 18.0MB 180kB/s \n",
            "\u001b[?25hRequirement already satisfied: protobuf>=3.0.0 in /usr/local/lib/python3.6/dist-packages (from mysql-connector-python) (3.12.4)\n",
            "Requirement already satisfied: six>=1.9 in /usr/local/lib/python3.6/dist-packages (from protobuf>=3.0.0->mysql-connector-python) (1.15.0)\n",
            "Requirement already satisfied: setuptools in /usr/local/lib/python3.6/dist-packages (from protobuf>=3.0.0->mysql-connector-python) (50.3.2)\n",
            "Installing collected packages: mysql-connector-python\n",
            "Successfully installed mysql-connector-python-8.0.22\n"
          ],
          "name": "stdout"
        }
      ]
    },
    {
      "cell_type": "code",
      "metadata": {
        "colab": {
          "base_uri": "https://localhost:8080/"
        },
        "id": "RZRazmmpyfPK",
        "outputId": "03ec331b-9f18-4c61-82a2-63c3ce87c483"
      },
      "source": [
        "import datetime\n",
        "datetime.datetime.now() #текущее время"
      ],
      "execution_count": null,
      "outputs": [
        {
          "output_type": "execute_result",
          "data": {
            "text/plain": [
              "datetime.datetime(2020, 12, 10, 13, 54, 6, 500812)"
            ]
          },
          "metadata": {
            "tags": []
          },
          "execution_count": 54
        }
      ]
    },
    {
      "cell_type": "code",
      "metadata": {
        "colab": {
          "base_uri": "https://localhost:8080/",
          "height": 80
        },
        "id": "OpmjMO4Gywo-",
        "outputId": "c2ab4e06-d85c-437c-aacb-93c07d0c8972"
      },
      "source": [
        "pd.read_sql('''\n",
        "SELECT CURRENT_TIMESTAMP\n",
        "''', connection)"
      ],
      "execution_count": null,
      "outputs": [
        {
          "output_type": "execute_result",
          "data": {
            "text/html": [
              "<div>\n",
              "<style scoped>\n",
              "    .dataframe tbody tr th:only-of-type {\n",
              "        vertical-align: middle;\n",
              "    }\n",
              "\n",
              "    .dataframe tbody tr th {\n",
              "        vertical-align: top;\n",
              "    }\n",
              "\n",
              "    .dataframe thead th {\n",
              "        text-align: right;\n",
              "    }\n",
              "</style>\n",
              "<table border=\"1\" class=\"dataframe\">\n",
              "  <thead>\n",
              "    <tr style=\"text-align: right;\">\n",
              "      <th></th>\n",
              "      <th>CURRENT_TIMESTAMP</th>\n",
              "    </tr>\n",
              "  </thead>\n",
              "  <tbody>\n",
              "    <tr>\n",
              "      <th>0</th>\n",
              "      <td>2020-12-10 13:54:06</td>\n",
              "    </tr>\n",
              "  </tbody>\n",
              "</table>\n",
              "</div>"
            ],
            "text/plain": [
              "     CURRENT_TIMESTAMP\n",
              "0  2020-12-10 13:54:06"
            ]
          },
          "metadata": {
            "tags": []
          },
          "execution_count": 55
        }
      ]
    },
    {
      "cell_type": "code",
      "metadata": {
        "colab": {
          "base_uri": "https://localhost:8080/",
          "height": 80
        },
        "id": "GAL3TJ-P19LU",
        "outputId": "22f8198c-433a-4a6d-fa66-b7e9376b4e3c"
      },
      "source": [
        "pd.read_sql('''\n",
        "SELECT DATE(CURRENT_TIMESTAMP) as `текущее время`;\n",
        "''', connection)"
      ],
      "execution_count": null,
      "outputs": [
        {
          "output_type": "execute_result",
          "data": {
            "text/html": [
              "<div>\n",
              "<style scoped>\n",
              "    .dataframe tbody tr th:only-of-type {\n",
              "        vertical-align: middle;\n",
              "    }\n",
              "\n",
              "    .dataframe tbody tr th {\n",
              "        vertical-align: top;\n",
              "    }\n",
              "\n",
              "    .dataframe thead th {\n",
              "        text-align: right;\n",
              "    }\n",
              "</style>\n",
              "<table border=\"1\" class=\"dataframe\">\n",
              "  <thead>\n",
              "    <tr style=\"text-align: right;\">\n",
              "      <th></th>\n",
              "      <th>текущее время</th>\n",
              "    </tr>\n",
              "  </thead>\n",
              "  <tbody>\n",
              "    <tr>\n",
              "      <th>0</th>\n",
              "      <td>2020-12-10</td>\n",
              "    </tr>\n",
              "  </tbody>\n",
              "</table>\n",
              "</div>"
            ],
            "text/plain": [
              "  текущее время\n",
              "0    2020-12-10"
            ]
          },
          "metadata": {
            "tags": []
          },
          "execution_count": 56
        }
      ]
    },
    {
      "cell_type": "code",
      "metadata": {
        "colab": {
          "base_uri": "https://localhost:8080/",
          "height": 80
        },
        "id": "zkjNwB8Bywey",
        "outputId": "2b996d8d-642f-40a9-e375-3b0e03e8db8d"
      },
      "source": [
        "pd.read_sql('''\n",
        "SELECT CURRENT_TIME\n",
        "''', connection)"
      ],
      "execution_count": null,
      "outputs": [
        {
          "output_type": "execute_result",
          "data": {
            "text/html": [
              "<div>\n",
              "<style scoped>\n",
              "    .dataframe tbody tr th:only-of-type {\n",
              "        vertical-align: middle;\n",
              "    }\n",
              "\n",
              "    .dataframe tbody tr th {\n",
              "        vertical-align: top;\n",
              "    }\n",
              "\n",
              "    .dataframe thead th {\n",
              "        text-align: right;\n",
              "    }\n",
              "</style>\n",
              "<table border=\"1\" class=\"dataframe\">\n",
              "  <thead>\n",
              "    <tr style=\"text-align: right;\">\n",
              "      <th></th>\n",
              "      <th>CURRENT_TIME</th>\n",
              "    </tr>\n",
              "  </thead>\n",
              "  <tbody>\n",
              "    <tr>\n",
              "      <th>0</th>\n",
              "      <td>13:54:06</td>\n",
              "    </tr>\n",
              "  </tbody>\n",
              "</table>\n",
              "</div>"
            ],
            "text/plain": [
              "  CURRENT_TIME\n",
              "0     13:54:06"
            ]
          },
          "metadata": {
            "tags": []
          },
          "execution_count": 57
        }
      ]
    },
    {
      "cell_type": "markdown",
      "metadata": {
        "id": "G1L0QsEr9Z_q"
      },
      "source": [
        "## Работа с триггером\n",
        "\n",
        "Триггеры по своей сути представляют обработчики событий. Они выполняются при наступлении какого-либо простого действия в SQL. Такими действиями обычно являются: удаление, вставка и обновление данных.\n",
        "\n",
        "То есть, триггер — это по сути ловушка, которая срабатывает при определенном действии. Триггер позволяет автоматизировать некоторые расчетные рутинные действия. Примеры мы разберем дальше.\n",
        "\n",
        "Оператор для создания следующий:\n",
        "\n",
        "`CREATE TRIGGER name_trigger`\n",
        "\n",
        "После оператора и имени триггера необходимо указать в каком случае будет срабатывать триггер. Возможно 6 вариантов:\n",
        "\n",
        "* BEFORE INSERT\n",
        "* BEFORE UPDATE\n",
        "* BEFORE DELETE\n",
        "* AFTER INSERT\n",
        "* AFTER UPDATE\n",
        "* AFTER DELETE"
      ]
    },
    {
      "cell_type": "code",
      "metadata": {
        "colab": {
          "base_uri": "https://localhost:8080/"
        },
        "id": "Qn2B8hiZ9eha",
        "outputId": "b97c23e7-3b79-4802-f7c1-964ca4fd61df"
      },
      "source": [
        "connection.execute(\n",
        "'''\n",
        "CREATE TABLE IF NOT EXISTS test_table(\n",
        "    id int INTEGER AUTO_INCREMENT PRIMARY KEY NOT NULL,\n",
        "    text TEXT NOT NULL\n",
        ");\n",
        "''')"
      ],
      "execution_count": null,
      "outputs": [
        {
          "output_type": "execute_result",
          "data": {
            "text/plain": [
              "<sqlalchemy.engine.result.ResultProxy at 0x7f05e54472b0>"
            ]
          },
          "metadata": {
            "tags": []
          },
          "execution_count": 58
        }
      ]
    },
    {
      "cell_type": "code",
      "metadata": {
        "colab": {
          "base_uri": "https://localhost:8080/"
        },
        "id": "RXjeOmK59m6E",
        "outputId": "ad312b00-2a4c-4247-a43a-d5919cd0b067"
      },
      "source": [
        "connection.execute('''\n",
        "    CREATE TABLE IF NOT EXISTS log_data(\n",
        "        id int AUTO_INCREMENT PRIMARY KEY,\n",
        "        action text not null,\n",
        "        table_name text not null\n",
        "    );\n",
        "''')"
      ],
      "execution_count": null,
      "outputs": [
        {
          "output_type": "execute_result",
          "data": {
            "text/plain": [
              "<sqlalchemy.engine.result.ResultProxy at 0x7f05e54474a8>"
            ]
          },
          "metadata": {
            "tags": []
          },
          "execution_count": 59
        }
      ]
    },
    {
      "cell_type": "code",
      "metadata": {
        "colab": {
          "base_uri": "https://localhost:8080/"
        },
        "id": "lYFVO6GR_Zj_",
        "outputId": "eae7a5ff-1a8f-451f-e925-cc04d33d4e3a"
      },
      "source": [
        "connection.execute('''\n",
        "    CREATE TRIGGER log_changes AFTER INSERT ON test_table\n",
        "    FOR EACH ROW BEGIN\n",
        "        INSERT INTO log_data (table_name, action) \n",
        "        VALUES ('test_table', 'add row');\n",
        "    END;\n",
        "''')"
      ],
      "execution_count": null,
      "outputs": [
        {
          "output_type": "execute_result",
          "data": {
            "text/plain": [
              "<sqlalchemy.engine.result.ResultProxy at 0x7f05e5447710>"
            ]
          },
          "metadata": {
            "tags": []
          },
          "execution_count": 60
        }
      ]
    },
    {
      "cell_type": "code",
      "metadata": {
        "colab": {
          "base_uri": "https://localhost:8080/"
        },
        "id": "fP41iFDh9esN",
        "outputId": "337e4421-f4d6-4fcb-dc54-a42b28225ae8"
      },
      "source": [
        "connection.execute('''\n",
        "insert into test_table(id, text) values (1, 'tt')\n",
        "''')"
      ],
      "execution_count": null,
      "outputs": [
        {
          "output_type": "execute_result",
          "data": {
            "text/plain": [
              "<sqlalchemy.engine.result.ResultProxy at 0x7f05e5447898>"
            ]
          },
          "metadata": {
            "tags": []
          },
          "execution_count": 61
        }
      ]
    },
    {
      "cell_type": "code",
      "metadata": {
        "colab": {
          "base_uri": "https://localhost:8080/",
          "height": 80
        },
        "id": "t8EB0mPG-Ec-",
        "outputId": "fca9379e-ba9e-423f-f2f7-0a9c73ec9e18"
      },
      "source": [
        "pd.read_sql('Select * from test_table', connection)"
      ],
      "execution_count": null,
      "outputs": [
        {
          "output_type": "execute_result",
          "data": {
            "text/html": [
              "<div>\n",
              "<style scoped>\n",
              "    .dataframe tbody tr th:only-of-type {\n",
              "        vertical-align: middle;\n",
              "    }\n",
              "\n",
              "    .dataframe tbody tr th {\n",
              "        vertical-align: top;\n",
              "    }\n",
              "\n",
              "    .dataframe thead th {\n",
              "        text-align: right;\n",
              "    }\n",
              "</style>\n",
              "<table border=\"1\" class=\"dataframe\">\n",
              "  <thead>\n",
              "    <tr style=\"text-align: right;\">\n",
              "      <th></th>\n",
              "      <th>id</th>\n",
              "      <th>text</th>\n",
              "    </tr>\n",
              "  </thead>\n",
              "  <tbody>\n",
              "    <tr>\n",
              "      <th>0</th>\n",
              "      <td>1</td>\n",
              "      <td>tt</td>\n",
              "    </tr>\n",
              "  </tbody>\n",
              "</table>\n",
              "</div>"
            ],
            "text/plain": [
              "   id text\n",
              "0   1   tt"
            ]
          },
          "metadata": {
            "tags": []
          },
          "execution_count": 62
        }
      ]
    },
    {
      "cell_type": "code",
      "metadata": {
        "colab": {
          "base_uri": "https://localhost:8080/",
          "height": 80
        },
        "id": "lZoi0DRj9euw",
        "outputId": "1a0fb0d1-e874-4a36-bb36-b183bc0cb928"
      },
      "source": [
        "pd.read_sql('Select * from log_data', connection)"
      ],
      "execution_count": null,
      "outputs": [
        {
          "output_type": "execute_result",
          "data": {
            "text/html": [
              "<div>\n",
              "<style scoped>\n",
              "    .dataframe tbody tr th:only-of-type {\n",
              "        vertical-align: middle;\n",
              "    }\n",
              "\n",
              "    .dataframe tbody tr th {\n",
              "        vertical-align: top;\n",
              "    }\n",
              "\n",
              "    .dataframe thead th {\n",
              "        text-align: right;\n",
              "    }\n",
              "</style>\n",
              "<table border=\"1\" class=\"dataframe\">\n",
              "  <thead>\n",
              "    <tr style=\"text-align: right;\">\n",
              "      <th></th>\n",
              "      <th>id</th>\n",
              "      <th>action</th>\n",
              "      <th>table_name</th>\n",
              "    </tr>\n",
              "  </thead>\n",
              "  <tbody>\n",
              "    <tr>\n",
              "      <th>0</th>\n",
              "      <td>None</td>\n",
              "      <td>add row</td>\n",
              "      <td>test_table</td>\n",
              "    </tr>\n",
              "  </tbody>\n",
              "</table>\n",
              "</div>"
            ],
            "text/plain": [
              "     id   action  table_name\n",
              "0  None  add row  test_table"
            ]
          },
          "metadata": {
            "tags": []
          },
          "execution_count": 63
        }
      ]
    },
    {
      "cell_type": "code",
      "metadata": {
        "colab": {
          "base_uri": "https://localhost:8080/"
        },
        "id": "wKBZUDNP_y67",
        "outputId": "53d836b1-7d97-477e-f984-da50f2d5323d"
      },
      "source": [
        "connection.execute('''\n",
        "insert into test_table(id, text) values (2, 'tt')\n",
        "''')"
      ],
      "execution_count": null,
      "outputs": [
        {
          "output_type": "execute_result",
          "data": {
            "text/plain": [
              "<sqlalchemy.engine.result.ResultProxy at 0x7f05e5447f98>"
            ]
          },
          "metadata": {
            "tags": []
          },
          "execution_count": 64
        }
      ]
    },
    {
      "cell_type": "code",
      "metadata": {
        "colab": {
          "base_uri": "https://localhost:8080/",
          "height": 111
        },
        "id": "bw81iNJg_zG_",
        "outputId": "36b1316e-e810-45e5-9789-48429ef7252a"
      },
      "source": [
        "pd.read_sql('Select * from log_data', connection)"
      ],
      "execution_count": null,
      "outputs": [
        {
          "output_type": "execute_result",
          "data": {
            "text/html": [
              "<div>\n",
              "<style scoped>\n",
              "    .dataframe tbody tr th:only-of-type {\n",
              "        vertical-align: middle;\n",
              "    }\n",
              "\n",
              "    .dataframe tbody tr th {\n",
              "        vertical-align: top;\n",
              "    }\n",
              "\n",
              "    .dataframe thead th {\n",
              "        text-align: right;\n",
              "    }\n",
              "</style>\n",
              "<table border=\"1\" class=\"dataframe\">\n",
              "  <thead>\n",
              "    <tr style=\"text-align: right;\">\n",
              "      <th></th>\n",
              "      <th>id</th>\n",
              "      <th>action</th>\n",
              "      <th>table_name</th>\n",
              "    </tr>\n",
              "  </thead>\n",
              "  <tbody>\n",
              "    <tr>\n",
              "      <th>0</th>\n",
              "      <td>None</td>\n",
              "      <td>add row</td>\n",
              "      <td>test_table</td>\n",
              "    </tr>\n",
              "    <tr>\n",
              "      <th>1</th>\n",
              "      <td>None</td>\n",
              "      <td>add row</td>\n",
              "      <td>test_table</td>\n",
              "    </tr>\n",
              "  </tbody>\n",
              "</table>\n",
              "</div>"
            ],
            "text/plain": [
              "     id   action  table_name\n",
              "0  None  add row  test_table\n",
              "1  None  add row  test_table"
            ]
          },
          "metadata": {
            "tags": []
          },
          "execution_count": 65
        }
      ]
    },
    {
      "cell_type": "markdown",
      "metadata": {
        "id": "QCZ58eH2AE0M"
      },
      "source": [
        "Создание базы данных подписок по id"
      ]
    },
    {
      "cell_type": "code",
      "metadata": {
        "colab": {
          "base_uri": "https://localhost:8080/"
        },
        "id": "FddD76GpADex",
        "outputId": "3b494710-2548-45d9-c1a7-0a5ba70609f9"
      },
      "source": [
        "connection.execute('''\n",
        "CREATE TABLE IF NOT EXISTS subscriptions(\n",
        "    subscriptionId INT AUTO_INCREMENT,\n",
        "    userId INT,\n",
        "    dailyEmail BOOLEAN NOT NULL DEFAULT FALSE,\n",
        "    weeklyEmail BOOLEAN NOT NULL DEFAULT FALSE,\n",
        "    specialOffer BOOLEAN NOT NULL DEFAULT FALSE,\n",
        "    phone BOOLEAN NOT NULL DEFAULT FALSE,\n",
        "    PRIMARY KEY (subscriptionId)\n",
        "    );\n",
        "''')"
      ],
      "execution_count": null,
      "outputs": [
        {
          "output_type": "execute_result",
          "data": {
            "text/plain": [
              "<sqlalchemy.engine.result.ResultProxy at 0x7f05e5443a90>"
            ]
          },
          "metadata": {
            "tags": []
          },
          "execution_count": 66
        }
      ]
    },
    {
      "cell_type": "markdown",
      "metadata": {
        "id": "5n35eu7LAJHP"
      },
      "source": [
        "Создание базы данных пользователей с внешним ключем на список подписок"
      ]
    },
    {
      "cell_type": "code",
      "metadata": {
        "colab": {
          "base_uri": "https://localhost:8080/"
        },
        "id": "vw1SpcrcADq5",
        "outputId": "60832820-0c38-4294-de92-16a713fe9c8d"
      },
      "source": [
        "connection.execute('''\n",
        "CREATE TABLE IF NOT EXISTS users(\n",
        "    userId INT AUTO_INCREMENT,\n",
        "    subscription_id INT,\n",
        "    firstName VARCHAR(255) NOT NULL,\n",
        "    secondName VARCHAR(255) NOT NULL,\n",
        "    email VARCHAR(255) NOT NULL,\n",
        "    emailConfimed BOOLEAN NOT NULL DEFAULT FALSE,\n",
        "    PRIMARY KEY (userId),\n",
        "    FOREIGN KEY (subscription_id)\n",
        "        REFERENCES subscriptions(subscriptionId)\n",
        "        ON UPDATE RESTRICT ON DELETE CASCADE\n",
        "    );\n",
        "''')"
      ],
      "execution_count": null,
      "outputs": [
        {
          "output_type": "execute_result",
          "data": {
            "text/plain": [
              "<sqlalchemy.engine.result.ResultProxy at 0x7f05e5443d68>"
            ]
          },
          "metadata": {
            "tags": []
          },
          "execution_count": 67
        }
      ]
    },
    {
      "cell_type": "markdown",
      "metadata": {
        "id": "JsN2ORwZAOOT"
      },
      "source": [
        "Загрузим пустую бд и удалим id (чтоб не получить ошибки автоинкремента)"
      ]
    },
    {
      "cell_type": "code",
      "metadata": {
        "colab": {
          "base_uri": "https://localhost:8080/",
          "height": 49
        },
        "id": "YfWVewCzAD4O",
        "outputId": "8856caf3-68c9-4521-e1bd-93bfee52dbf4"
      },
      "source": [
        "subscriptions = pd.read_sql('Select * from subscriptions', connection)\n",
        "# дропаем столбец, который автоинкрементируется\n",
        "del subscriptions['subscriptionId']\n",
        "subscriptions.head()"
      ],
      "execution_count": null,
      "outputs": [
        {
          "output_type": "execute_result",
          "data": {
            "text/html": [
              "<div>\n",
              "<style scoped>\n",
              "    .dataframe tbody tr th:only-of-type {\n",
              "        vertical-align: middle;\n",
              "    }\n",
              "\n",
              "    .dataframe tbody tr th {\n",
              "        vertical-align: top;\n",
              "    }\n",
              "\n",
              "    .dataframe thead th {\n",
              "        text-align: right;\n",
              "    }\n",
              "</style>\n",
              "<table border=\"1\" class=\"dataframe\">\n",
              "  <thead>\n",
              "    <tr style=\"text-align: right;\">\n",
              "      <th></th>\n",
              "      <th>userId</th>\n",
              "      <th>dailyEmail</th>\n",
              "      <th>weeklyEmail</th>\n",
              "      <th>specialOffer</th>\n",
              "      <th>phone</th>\n",
              "    </tr>\n",
              "  </thead>\n",
              "  <tbody>\n",
              "  </tbody>\n",
              "</table>\n",
              "</div>"
            ],
            "text/plain": [
              "Empty DataFrame\n",
              "Columns: [userId, dailyEmail, weeklyEmail, specialOffer, phone]\n",
              "Index: []"
            ]
          },
          "metadata": {
            "tags": []
          },
          "execution_count": 68
        }
      ]
    },
    {
      "cell_type": "markdown",
      "metadata": {
        "id": "Pd5TWDImAQtd"
      },
      "source": [
        "добавим строку в конец датафрейма"
      ]
    },
    {
      "cell_type": "code",
      "metadata": {
        "colab": {
          "base_uri": "https://localhost:8080/",
          "height": 80
        },
        "id": "843IXEF3AD61",
        "outputId": "239ddb64-3934-4126-f683-9a700ff4ac75"
      },
      "source": [
        "subscriptions.loc[len(subscriptions)] = [0, False, False, False, False]\n",
        "subscriptions.head()"
      ],
      "execution_count": null,
      "outputs": [
        {
          "output_type": "execute_result",
          "data": {
            "text/html": [
              "<div>\n",
              "<style scoped>\n",
              "    .dataframe tbody tr th:only-of-type {\n",
              "        vertical-align: middle;\n",
              "    }\n",
              "\n",
              "    .dataframe tbody tr th {\n",
              "        vertical-align: top;\n",
              "    }\n",
              "\n",
              "    .dataframe thead th {\n",
              "        text-align: right;\n",
              "    }\n",
              "</style>\n",
              "<table border=\"1\" class=\"dataframe\">\n",
              "  <thead>\n",
              "    <tr style=\"text-align: right;\">\n",
              "      <th></th>\n",
              "      <th>userId</th>\n",
              "      <th>dailyEmail</th>\n",
              "      <th>weeklyEmail</th>\n",
              "      <th>specialOffer</th>\n",
              "      <th>phone</th>\n",
              "    </tr>\n",
              "  </thead>\n",
              "  <tbody>\n",
              "    <tr>\n",
              "      <th>0</th>\n",
              "      <td>0</td>\n",
              "      <td>False</td>\n",
              "      <td>False</td>\n",
              "      <td>False</td>\n",
              "      <td>False</td>\n",
              "    </tr>\n",
              "  </tbody>\n",
              "</table>\n",
              "</div>"
            ],
            "text/plain": [
              "  userId dailyEmail weeklyEmail specialOffer  phone\n",
              "0      0      False       False        False  False"
            ]
          },
          "metadata": {
            "tags": []
          },
          "execution_count": 69
        }
      ]
    },
    {
      "cell_type": "markdown",
      "metadata": {
        "id": "_pLNxwlkAV6W"
      },
      "source": [
        "Добавим датафрейм в таблицу"
      ]
    },
    {
      "cell_type": "code",
      "metadata": {
        "id": "azOHj7C1ARqO"
      },
      "source": [
        "# добавляем в конец\n",
        "subscriptions.to_sql('subscriptions', connection, if_exists='append', index=False)"
      ],
      "execution_count": null,
      "outputs": []
    },
    {
      "cell_type": "code",
      "metadata": {
        "colab": {
          "base_uri": "https://localhost:8080/",
          "height": 80
        },
        "id": "fuVJkyqeAXgy",
        "outputId": "db083a07-1729-46b6-a15d-c925cce01f4b"
      },
      "source": [
        "pd.read_sql('Select * from subscriptions', connection)"
      ],
      "execution_count": null,
      "outputs": [
        {
          "output_type": "execute_result",
          "data": {
            "text/html": [
              "<div>\n",
              "<style scoped>\n",
              "    .dataframe tbody tr th:only-of-type {\n",
              "        vertical-align: middle;\n",
              "    }\n",
              "\n",
              "    .dataframe tbody tr th {\n",
              "        vertical-align: top;\n",
              "    }\n",
              "\n",
              "    .dataframe thead th {\n",
              "        text-align: right;\n",
              "    }\n",
              "</style>\n",
              "<table border=\"1\" class=\"dataframe\">\n",
              "  <thead>\n",
              "    <tr style=\"text-align: right;\">\n",
              "      <th></th>\n",
              "      <th>subscriptionId</th>\n",
              "      <th>userId</th>\n",
              "      <th>dailyEmail</th>\n",
              "      <th>weeklyEmail</th>\n",
              "      <th>specialOffer</th>\n",
              "      <th>phone</th>\n",
              "    </tr>\n",
              "  </thead>\n",
              "  <tbody>\n",
              "    <tr>\n",
              "      <th>0</th>\n",
              "      <td>None</td>\n",
              "      <td>0</td>\n",
              "      <td>0</td>\n",
              "      <td>0</td>\n",
              "      <td>0</td>\n",
              "      <td>0</td>\n",
              "    </tr>\n",
              "  </tbody>\n",
              "</table>\n",
              "</div>"
            ],
            "text/plain": [
              "  subscriptionId  userId  dailyEmail  weeklyEmail  specialOffer  phone\n",
              "0           None       0           0            0             0      0"
            ]
          },
          "metadata": {
            "tags": []
          },
          "execution_count": 71
        }
      ]
    },
    {
      "cell_type": "markdown",
      "metadata": {
        "id": "ZyQFsIVgAeJq"
      },
      "source": [
        "\n",
        "Создадим пользователя и удалим userId (чтоб не было ошибок автоинкремента)"
      ]
    },
    {
      "cell_type": "code",
      "metadata": {
        "colab": {
          "base_uri": "https://localhost:8080/",
          "height": 49
        },
        "id": "NOJg_X2iAXtW",
        "outputId": "ae9719e3-3017-46b2-da7b-6ce52c122589"
      },
      "source": [
        "# создаем пользователя\n",
        "users = pd.read_sql('Select * from users', connection)\n",
        "# дропаем столбец, который автоинкрементируется\n",
        "del users['userId']\n",
        "users.head()"
      ],
      "execution_count": null,
      "outputs": [
        {
          "output_type": "execute_result",
          "data": {
            "text/html": [
              "<div>\n",
              "<style scoped>\n",
              "    .dataframe tbody tr th:only-of-type {\n",
              "        vertical-align: middle;\n",
              "    }\n",
              "\n",
              "    .dataframe tbody tr th {\n",
              "        vertical-align: top;\n",
              "    }\n",
              "\n",
              "    .dataframe thead th {\n",
              "        text-align: right;\n",
              "    }\n",
              "</style>\n",
              "<table border=\"1\" class=\"dataframe\">\n",
              "  <thead>\n",
              "    <tr style=\"text-align: right;\">\n",
              "      <th></th>\n",
              "      <th>subscription_id</th>\n",
              "      <th>firstName</th>\n",
              "      <th>secondName</th>\n",
              "      <th>email</th>\n",
              "      <th>emailConfimed</th>\n",
              "    </tr>\n",
              "  </thead>\n",
              "  <tbody>\n",
              "  </tbody>\n",
              "</table>\n",
              "</div>"
            ],
            "text/plain": [
              "Empty DataFrame\n",
              "Columns: [subscription_id, firstName, secondName, email, emailConfimed]\n",
              "Index: []"
            ]
          },
          "metadata": {
            "tags": []
          },
          "execution_count": 72
        }
      ]
    },
    {
      "cell_type": "code",
      "metadata": {
        "colab": {
          "base_uri": "https://localhost:8080/",
          "height": 80
        },
        "id": "uvXQ9gZ-ARsx",
        "outputId": "938dd342-87d4-47bc-9205-c8dc55b677ab"
      },
      "source": [
        "users.loc[len(users)] = [1, 'Illya', 'Tykhov', 'tixons.work@gmail.com', True]\n",
        "users.head()"
      ],
      "execution_count": null,
      "outputs": [
        {
          "output_type": "execute_result",
          "data": {
            "text/html": [
              "<div>\n",
              "<style scoped>\n",
              "    .dataframe tbody tr th:only-of-type {\n",
              "        vertical-align: middle;\n",
              "    }\n",
              "\n",
              "    .dataframe tbody tr th {\n",
              "        vertical-align: top;\n",
              "    }\n",
              "\n",
              "    .dataframe thead th {\n",
              "        text-align: right;\n",
              "    }\n",
              "</style>\n",
              "<table border=\"1\" class=\"dataframe\">\n",
              "  <thead>\n",
              "    <tr style=\"text-align: right;\">\n",
              "      <th></th>\n",
              "      <th>subscription_id</th>\n",
              "      <th>firstName</th>\n",
              "      <th>secondName</th>\n",
              "      <th>email</th>\n",
              "      <th>emailConfimed</th>\n",
              "    </tr>\n",
              "  </thead>\n",
              "  <tbody>\n",
              "    <tr>\n",
              "      <th>0</th>\n",
              "      <td>1</td>\n",
              "      <td>Illya</td>\n",
              "      <td>Tykhov</td>\n",
              "      <td>tixons.work@gmail.com</td>\n",
              "      <td>True</td>\n",
              "    </tr>\n",
              "  </tbody>\n",
              "</table>\n",
              "</div>"
            ],
            "text/plain": [
              "  subscription_id firstName secondName                  email emailConfimed\n",
              "0               1     Illya     Tykhov  tixons.work@gmail.com          True"
            ]
          },
          "metadata": {
            "tags": []
          },
          "execution_count": 73
        }
      ]
    },
    {
      "cell_type": "markdown",
      "metadata": {
        "id": "Zran9v4kAoiI"
      },
      "source": [
        "Добавим датафрейм в таблицу sql"
      ]
    },
    {
      "cell_type": "code",
      "metadata": {
        "id": "e0aDpDulAEQz"
      },
      "source": [
        "users.to_sql('users', connection, if_exists='append', index=False)"
      ],
      "execution_count": null,
      "outputs": []
    },
    {
      "cell_type": "code",
      "metadata": {
        "colab": {
          "base_uri": "https://localhost:8080/",
          "height": 80
        },
        "id": "Uy7tyfG5Akgv",
        "outputId": "8ff43486-3856-4013-97f6-a21a31e63b68"
      },
      "source": [
        "pd.read_sql('Select * from users', connection)"
      ],
      "execution_count": null,
      "outputs": [
        {
          "output_type": "execute_result",
          "data": {
            "text/html": [
              "<div>\n",
              "<style scoped>\n",
              "    .dataframe tbody tr th:only-of-type {\n",
              "        vertical-align: middle;\n",
              "    }\n",
              "\n",
              "    .dataframe tbody tr th {\n",
              "        vertical-align: top;\n",
              "    }\n",
              "\n",
              "    .dataframe thead th {\n",
              "        text-align: right;\n",
              "    }\n",
              "</style>\n",
              "<table border=\"1\" class=\"dataframe\">\n",
              "  <thead>\n",
              "    <tr style=\"text-align: right;\">\n",
              "      <th></th>\n",
              "      <th>userId</th>\n",
              "      <th>subscription_id</th>\n",
              "      <th>firstName</th>\n",
              "      <th>secondName</th>\n",
              "      <th>email</th>\n",
              "      <th>emailConfimed</th>\n",
              "    </tr>\n",
              "  </thead>\n",
              "  <tbody>\n",
              "    <tr>\n",
              "      <th>0</th>\n",
              "      <td>None</td>\n",
              "      <td>1</td>\n",
              "      <td>Illya</td>\n",
              "      <td>Tykhov</td>\n",
              "      <td>tixons.work@gmail.com</td>\n",
              "      <td>1</td>\n",
              "    </tr>\n",
              "  </tbody>\n",
              "</table>\n",
              "</div>"
            ],
            "text/plain": [
              "  userId  subscription_id  ...                  email emailConfimed\n",
              "0   None                1  ...  tixons.work@gmail.com             1\n",
              "\n",
              "[1 rows x 6 columns]"
            ]
          },
          "metadata": {
            "tags": []
          },
          "execution_count": 75
        }
      ]
    },
    {
      "cell_type": "markdown",
      "metadata": {
        "id": "HOHZx79eBdiG"
      },
      "source": [
        "Агрегатная функция выполняет вычисление для нескольких значений и возвращает одно значение. Например, можно использовать агрегатную функцию AVG (), которая принимает несколько чисел и возвращает среднее значение чисел. Синтаксис:\n",
        "\n",
        "`\n",
        "function_name(DISTINCT | ALL expression)\n",
        "`"
      ]
    },
    {
      "cell_type": "code",
      "metadata": {
        "colab": {
          "base_uri": "https://localhost:8080/",
          "height": 80
        },
        "id": "qNhaSleQBVlJ",
        "outputId": "ba8f604d-60e9-452d-8a5f-f3de29e61597"
      },
      "source": [
        "pd.read_sql('''\n",
        "SELECT \n",
        "    COUNT(subscription_id) `количество`,\n",
        "    AVG(subscription_id) `средняя величина`,\n",
        "    MIN(subscription_id) `минимальная величина`,\n",
        "    MAX(subscription_id) `максимальная величина`\n",
        "FROM \n",
        "    users;\n",
        "''', connection)"
      ],
      "execution_count": null,
      "outputs": [
        {
          "output_type": "execute_result",
          "data": {
            "text/html": [
              "<div>\n",
              "<style scoped>\n",
              "    .dataframe tbody tr th:only-of-type {\n",
              "        vertical-align: middle;\n",
              "    }\n",
              "\n",
              "    .dataframe tbody tr th {\n",
              "        vertical-align: top;\n",
              "    }\n",
              "\n",
              "    .dataframe thead th {\n",
              "        text-align: right;\n",
              "    }\n",
              "</style>\n",
              "<table border=\"1\" class=\"dataframe\">\n",
              "  <thead>\n",
              "    <tr style=\"text-align: right;\">\n",
              "      <th></th>\n",
              "      <th>количество</th>\n",
              "      <th>средняя величина</th>\n",
              "      <th>минимальная величина</th>\n",
              "      <th>максимальная величина</th>\n",
              "    </tr>\n",
              "  </thead>\n",
              "  <tbody>\n",
              "    <tr>\n",
              "      <th>0</th>\n",
              "      <td>1</td>\n",
              "      <td>1.0</td>\n",
              "      <td>1</td>\n",
              "      <td>1</td>\n",
              "    </tr>\n",
              "  </tbody>\n",
              "</table>\n",
              "</div>"
            ],
            "text/plain": [
              "   количество  средняя величина  минимальная величина  максимальная величина\n",
              "0           1               1.0                     1                      1"
            ]
          },
          "metadata": {
            "tags": []
          },
          "execution_count": 76
        }
      ]
    },
    {
      "cell_type": "code",
      "metadata": {
        "colab": {
          "base_uri": "https://localhost:8080/",
          "height": 80
        },
        "id": "63Qq_dJWB2rL",
        "outputId": "fdb8d751-e2ef-4e2f-86e2-05bd70a279cc"
      },
      "source": [
        "pd.read_sql('''\n",
        "SELECT \n",
        "    firstName `Имя`, \n",
        "    COUNT(*) `Количество`\n",
        "FROM\n",
        "    users\n",
        "GROUP BY subscription_id\n",
        "ORDER BY subscription_id;\n",
        "''', connection)"
      ],
      "execution_count": null,
      "outputs": [
        {
          "output_type": "execute_result",
          "data": {
            "text/html": [
              "<div>\n",
              "<style scoped>\n",
              "    .dataframe tbody tr th:only-of-type {\n",
              "        vertical-align: middle;\n",
              "    }\n",
              "\n",
              "    .dataframe tbody tr th {\n",
              "        vertical-align: top;\n",
              "    }\n",
              "\n",
              "    .dataframe thead th {\n",
              "        text-align: right;\n",
              "    }\n",
              "</style>\n",
              "<table border=\"1\" class=\"dataframe\">\n",
              "  <thead>\n",
              "    <tr style=\"text-align: right;\">\n",
              "      <th></th>\n",
              "      <th>Имя</th>\n",
              "      <th>Количество</th>\n",
              "    </tr>\n",
              "  </thead>\n",
              "  <tbody>\n",
              "    <tr>\n",
              "      <th>0</th>\n",
              "      <td>Illya</td>\n",
              "      <td>1</td>\n",
              "    </tr>\n",
              "  </tbody>\n",
              "</table>\n",
              "</div>"
            ],
            "text/plain": [
              "     Имя  Количество\n",
              "0  Illya           1"
            ]
          },
          "metadata": {
            "tags": []
          },
          "execution_count": 77
        }
      ]
    },
    {
      "cell_type": "code",
      "metadata": {
        "id": "S63hrWPhIzUq"
      },
      "source": [
        "# Пример интерфейса для работы с данными"
      ],
      "execution_count": null,
      "outputs": []
    },
    {
      "cell_type": "code",
      "metadata": {
        "id": "Cy7OzdFTI3pn"
      },
      "source": [
        "import sqlite3\n",
        "conn = sqlite3.connect('mydatabase.db')\n",
        "\n",
        "cursor = conn.cursor()"
      ],
      "execution_count": null,
      "outputs": []
    },
    {
      "cell_type": "code",
      "metadata": {
        "id": "g0Opz_OOI34b"
      },
      "source": [
        "cursor.execute(\n",
        "'''\n",
        "CREATE TABLE user\n",
        "    (id INTEGER PRIMARY KEY AUTOINCREMENT,\n",
        "    name VARCHAR(255),\n",
        "    lastName VARCHAR(255),\n",
        "    age integer,\n",
        "    deletedFlg integer\n",
        "    )\n",
        "'''\n",
        ")\n",
        "conn.commit()"
      ],
      "execution_count": null,
      "outputs": []
    },
    {
      "cell_type": "code",
      "metadata": {
        "id": "5PwPbgbeI4HZ"
      },
      "source": [
        "cursor.execute(\n",
        "'''\n",
        "INSERT INTO user(\n",
        "    name,\n",
        "    lastName,\n",
        "    age,\n",
        "    deletedFlg\n",
        ")\n",
        "VALUES ('Петя', 'Иванов', 31, 0)\n",
        "'''\n",
        ")\n",
        "conn.commit()"
      ],
      "execution_count": null,
      "outputs": []
    },
    {
      "cell_type": "code",
      "metadata": {
        "colab": {
          "base_uri": "https://localhost:8080/"
        },
        "id": "f2z6fXExI4Kb",
        "outputId": "d8302ed4-460d-4ecd-e2b6-3c651181aa63"
      },
      "source": [
        "cursor.execute('SELECT * FROM user')\n",
        "db_ =  cursor.fetchall()\n",
        "\n",
        "for element in db_:\n",
        "    print(element)"
      ],
      "execution_count": null,
      "outputs": [
        {
          "output_type": "stream",
          "text": [
            "(1, 'Петя', 'Иванов', 31, 0)\n"
          ],
          "name": "stdout"
        }
      ]
    },
    {
      "cell_type": "markdown",
      "metadata": {
        "id": "sjKHYejeJ1ii"
      },
      "source": [
        "Добавим еще элементов 2умя способами"
      ]
    },
    {
      "cell_type": "markdown",
      "metadata": {
        "id": "mnC03T0yJ45B"
      },
      "source": [
        "1 способ"
      ]
    },
    {
      "cell_type": "code",
      "metadata": {
        "id": "UrE21eYeI4b5"
      },
      "source": [
        "cursor.execute(\n",
        "'''\n",
        "INSERT INTO user(\n",
        "    name,\n",
        "    lastName,\n",
        "    age,\n",
        "    deletedFlg\n",
        ")\n",
        "VALUES ('Катя', 'Петрова', 30, 0),\n",
        "        ('Аня', 'Воронцова', 25, 0),\n",
        "        ('Дима', 'Петров', 35, 0)\n",
        "'''\n",
        ")\n",
        "conn.commit()"
      ],
      "execution_count": null,
      "outputs": []
    },
    {
      "cell_type": "code",
      "metadata": {
        "colab": {
          "base_uri": "https://localhost:8080/"
        },
        "id": "VucwRbBzJjBM",
        "outputId": "56f07c4c-5dd6-4015-d891-af4f2e97584f"
      },
      "source": [
        "cursor.execute('SELECT * FROM user')\n",
        "db_ =  cursor.fetchall()\n",
        "\n",
        "for element in db_:\n",
        "    print(element)"
      ],
      "execution_count": null,
      "outputs": [
        {
          "output_type": "stream",
          "text": [
            "(1, 'Петя', 'Иванов', 31, 0)\n",
            "(2, 'Катя', 'Петрова', 30, 0)\n",
            "(3, 'Аня', 'Воронцова', 25, 0)\n",
            "(4, 'Дима', 'Петров', 35, 0)\n"
          ],
          "name": "stdout"
        }
      ]
    },
    {
      "cell_type": "markdown",
      "metadata": {
        "id": "JOUotcYdJ7sJ"
      },
      "source": [
        "2 способ"
      ]
    },
    {
      "cell_type": "code",
      "metadata": {
        "id": "TK4JhQX3J7Ez"
      },
      "source": [
        "values = [\n",
        "          ('Карина', 'Иванова', 26, 0),\n",
        "          ('Вася', 'Воронцов', 28, 0),\n",
        "          ('Света', 'Михайлова', 31, 0)\n",
        "]\n",
        "\n",
        "cursor.executemany('''\n",
        "INSERT INTO user(\n",
        "    name,\n",
        "    lastName,\n",
        "    age,\n",
        "    deletedFlg\n",
        ")\n",
        "VALUES (?, ?, ?, ?)\n",
        "''', values)\n",
        "conn.commit()"
      ],
      "execution_count": null,
      "outputs": []
    },
    {
      "cell_type": "code",
      "metadata": {
        "colab": {
          "base_uri": "https://localhost:8080/"
        },
        "id": "4CtHmsK3KG9X",
        "outputId": "19672be3-8547-463f-b41f-e76177126354"
      },
      "source": [
        "cursor.execute('SELECT * FROM user')\n",
        "db_ =  cursor.fetchall()\n",
        "\n",
        "for element in db_:\n",
        "    print(element)"
      ],
      "execution_count": null,
      "outputs": [
        {
          "output_type": "stream",
          "text": [
            "(1, 'Петя', 'Иванов', 31, 0)\n",
            "(2, 'Катя', 'Петрова', 30, 0)\n",
            "(3, 'Аня', 'Воронцова', 25, 0)\n",
            "(4, 'Дима', 'Петров', 35, 0)\n",
            "(5, 'Карина', 'Иванова', 26, 0)\n",
            "(6, 'Вася', 'Воронцов', 28, 0)\n",
            "(7, 'Света', 'Михайлова', 31, 0)\n"
          ],
          "name": "stdout"
        }
      ]
    },
    {
      "cell_type": "markdown",
      "metadata": {
        "id": "FYtlz-y-Jk3F"
      },
      "source": [
        "ЗАДАНИЕ\n",
        "\n",
        "Как вывести результат в таблице pandas dataframe?"
      ]
    },
    {
      "cell_type": "code",
      "metadata": {
        "id": "P6-XBwIzJuzv"
      },
      "source": [
        "# TODO"
      ],
      "execution_count": null,
      "outputs": []
    },
    {
      "cell_type": "code",
      "metadata": {
        "colab": {
          "base_uri": "https://localhost:8080/",
          "height": 266
        },
        "id": "rMk3KsurI44b",
        "outputId": "8e395ea2-ed27-4cca-842c-354d7dc6c7ba"
      },
      "source": [
        "pd.read_sql('''\n",
        "SELECT * FROM user\n",
        "''', conn)"
      ],
      "execution_count": null,
      "outputs": [
        {
          "output_type": "execute_result",
          "data": {
            "text/html": [
              "<div>\n",
              "<style scoped>\n",
              "    .dataframe tbody tr th:only-of-type {\n",
              "        vertical-align: middle;\n",
              "    }\n",
              "\n",
              "    .dataframe tbody tr th {\n",
              "        vertical-align: top;\n",
              "    }\n",
              "\n",
              "    .dataframe thead th {\n",
              "        text-align: right;\n",
              "    }\n",
              "</style>\n",
              "<table border=\"1\" class=\"dataframe\">\n",
              "  <thead>\n",
              "    <tr style=\"text-align: right;\">\n",
              "      <th></th>\n",
              "      <th>id</th>\n",
              "      <th>name</th>\n",
              "      <th>lastName</th>\n",
              "      <th>age</th>\n",
              "      <th>deletedFlg</th>\n",
              "    </tr>\n",
              "  </thead>\n",
              "  <tbody>\n",
              "    <tr>\n",
              "      <th>0</th>\n",
              "      <td>1</td>\n",
              "      <td>Петя</td>\n",
              "      <td>Иванов</td>\n",
              "      <td>31</td>\n",
              "      <td>0</td>\n",
              "    </tr>\n",
              "    <tr>\n",
              "      <th>1</th>\n",
              "      <td>2</td>\n",
              "      <td>Катя</td>\n",
              "      <td>Петрова</td>\n",
              "      <td>30</td>\n",
              "      <td>0</td>\n",
              "    </tr>\n",
              "    <tr>\n",
              "      <th>2</th>\n",
              "      <td>3</td>\n",
              "      <td>Аня</td>\n",
              "      <td>Воронцова</td>\n",
              "      <td>25</td>\n",
              "      <td>0</td>\n",
              "    </tr>\n",
              "    <tr>\n",
              "      <th>3</th>\n",
              "      <td>4</td>\n",
              "      <td>Дима</td>\n",
              "      <td>Петров</td>\n",
              "      <td>35</td>\n",
              "      <td>0</td>\n",
              "    </tr>\n",
              "    <tr>\n",
              "      <th>4</th>\n",
              "      <td>5</td>\n",
              "      <td>Карина</td>\n",
              "      <td>Иванова</td>\n",
              "      <td>26</td>\n",
              "      <td>0</td>\n",
              "    </tr>\n",
              "    <tr>\n",
              "      <th>5</th>\n",
              "      <td>6</td>\n",
              "      <td>Вася</td>\n",
              "      <td>Воронцов</td>\n",
              "      <td>28</td>\n",
              "      <td>0</td>\n",
              "    </tr>\n",
              "    <tr>\n",
              "      <th>6</th>\n",
              "      <td>7</td>\n",
              "      <td>Света</td>\n",
              "      <td>Михайлова</td>\n",
              "      <td>31</td>\n",
              "      <td>0</td>\n",
              "    </tr>\n",
              "  </tbody>\n",
              "</table>\n",
              "</div>"
            ],
            "text/plain": [
              "   id    name   lastName  age  deletedFlg\n",
              "0   1    Петя     Иванов   31           0\n",
              "1   2    Катя    Петрова   30           0\n",
              "2   3     Аня  Воронцова   25           0\n",
              "3   4    Дима     Петров   35           0\n",
              "4   5  Карина    Иванова   26           0\n",
              "5   6    Вася   Воронцов   28           0\n",
              "6   7   Света  Михайлова   31           0"
            ]
          },
          "metadata": {
            "tags": []
          },
          "execution_count": 88
        }
      ]
    },
    {
      "cell_type": "markdown",
      "metadata": {
        "id": "PszocDAeKKuq"
      },
      "source": [
        "Пример интерфейса для дальнейшей работы с данными"
      ]
    },
    {
      "cell_type": "code",
      "metadata": {
        "id": "t_m6eI84KOuV"
      },
      "source": [
        "import sqlite3\n",
        "import pandas as pd\n",
        "\n",
        "class my_interface():\n",
        "    # db_name - название таблицы\n",
        "    def __init__(self, db_name):\n",
        "        # создаем объект подключения с названием бд\n",
        "        self.conn = sqlite3.connect(f'{db_name}.db')\n",
        "        # операции с бд\n",
        "        self.cursor = self.conn.cursor()\n",
        "        \n",
        "        # создание таблиц\n",
        "        # таблица пользователей\n",
        "        self.create_users()\n",
        "        # таблица логирования\n",
        "        self.create_log_info()\n",
        "        \n",
        "#         print(pd.read_sql(\"SELECT name FROM sqlite_master WHERE type='table';\", conn) )\n",
        "    \n",
        "    # создание таблицы пользователей\n",
        "    def create_users(self):\n",
        "        try:\n",
        "            self.cursor.execute(\n",
        "            '''\n",
        "            CREATE TABLE users\n",
        "                (id INTEGER PRIMARY KEY AUTOINCREMENT,\n",
        "                name VARCHAR(255),\n",
        "                lastName VARCHAR(255),\n",
        "                age integer,\n",
        "                deletedFlg integer\n",
        "                )\n",
        "            '''\n",
        "            )\n",
        "        except Exception as e:\n",
        "            print(e)\n",
        "      \n",
        "    # создание таблицы логирования\n",
        "    def create_log_info(self):\n",
        "        try:\n",
        "            self.cursor.execute(\n",
        "            '''\n",
        "            CREATE TABLE loginfo\n",
        "                (id INTEGER PRIMARY KEY AUTOINCREMENT,\n",
        "                tablename VARCHAR(255) NOT NULL,\n",
        "                action VARCHAR(255) NOT NULL,\n",
        "                timestamp DATE DEFAULT (datetime('now','localtime'))\n",
        "                )\n",
        "            '''\n",
        "            )\n",
        "        except Exception as e:\n",
        "            print(e)\n",
        "      \n",
        "    # логирование действий\n",
        "    def log_info(self, tablename, action):\n",
        "        self.cursor.execute(f'INSERT INTO loginfo(tablename, action) VALUES (\\'{tablename}\\', \\'{action}\\');')\n",
        "        self.conn.commit()\n",
        "      \n",
        "    # логическое удаление из таблицы tablename по id\n",
        "    def delete(self, tablename, id_, **kwargs):\n",
        "        print(f'UPDATE {tablename} SET deletedFlg = 1 WHERE id = {id_}')\n",
        "        self.cursor.execute(f'UPDATE {tablename} SET deletedFlg = 1 WHERE id = {id_}')\n",
        "        self.log_info(tablename, 'delete')\n",
        "        self.conn.commit()\n",
        "\n",
        "    # отобразить данные из тыблицы tablename с ограничениями, описанными в kwargs\n",
        "    def show_data(self, tablename, **kwargs):\n",
        "        self.log_info(tablename, 'show')\n",
        "        if kwargs != {}:\n",
        "            if kwargs.get('limit') is not None:\n",
        "                # возвращаем запрос с ограничениями на кол-во элементов, которые считываем из kwargs\n",
        "                return pd.read_sql(f\"SELECT * FROM {tablename} LIMIT {kwargs.get('limit')};\", self.conn) \n",
        "        return pd.read_sql(f\"SELECT * FROM {tablename}\", self.conn) \n",
        "      \n",
        "#     def add_users(self, values):\n",
        "#         self.cursor.executemany('''\n",
        "#         INSERT INTO users(    \n",
        "#             name,\n",
        "#             lastName,\n",
        "#             age,\n",
        "#             deletedFlg\n",
        "#         )\n",
        "#         VALUES (?, ?, ?, ?)\n",
        "#         ''', values)\n",
        "#         self.conn.commit()\n",
        "    \n",
        "    # добавление данных в таблицу tablename с полями, описанными в fields (list)\n",
        "    def add_data(self, tablename, fields, values):\n",
        "        # продумать интеграцию через to_sql библиотеки pandas\n",
        "        # вставляем значения в таблицу, распаковываем названия полей и ? для подстановки данных\n",
        "        # объединяем в одну строку суммированием\n",
        "        self.cursor.executemany(\n",
        "              \"INSERT INTO \" + \n",
        "              tablename + '(' + \n",
        "              ', '.join(fields) +\n",
        "              ') VALUES (' + \n",
        "              ', '.join(['?' for i in range(len(values[0]))]) + ');'\n",
        "        , values)\n",
        "        self.conn.commit()\n",
        "        self.log_info(tablename, 'add')\n"
      ],
      "execution_count": null,
      "outputs": []
    },
    {
      "cell_type": "code",
      "metadata": {
        "id": "IQWi-jUbKay1"
      },
      "source": [
        "values = [\n",
        "          ('Аня', 'Иванова', 26, 0),\n",
        "          ('Вася', 'Воронцов', 28, 0),\n",
        "          ('Лена', 'Петрова', 31, 0)\n",
        "        ]\n",
        "        "
      ],
      "execution_count": null,
      "outputs": []
    },
    {
      "cell_type": "markdown",
      "metadata": {
        "id": "7bK17g7fKk-N"
      },
      "source": [
        "ЗАДАНИЕ\n",
        "\n",
        "1. Создать таблицу при помощи my_interface()"
      ]
    },
    {
      "cell_type": "code",
      "metadata": {
        "id": "ddOFKcZCNF1C"
      },
      "source": [
        "# TODO"
      ],
      "execution_count": null,
      "outputs": []
    },
    {
      "cell_type": "code",
      "metadata": {
        "colab": {
          "base_uri": "https://localhost:8080/"
        },
        "id": "PfJJJAbWKeN-",
        "outputId": "29d52d5b-f53a-469c-9bd5-d99e11e82801"
      },
      "source": [
        "interface = my_interface('my_interface')\n",
        "type(interface)"
      ],
      "execution_count": null,
      "outputs": [
        {
          "output_type": "execute_result",
          "data": {
            "text/plain": [
              "__main__.my_interface"
            ]
          },
          "metadata": {
            "tags": []
          },
          "execution_count": 92
        }
      ]
    },
    {
      "cell_type": "code",
      "metadata": {
        "colab": {
          "base_uri": "https://localhost:8080/",
          "height": 49
        },
        "id": "BT_RjoUULRXi",
        "outputId": "93d0a11b-1091-4b69-8a88-87687851c76e"
      },
      "source": [
        "interface.show_data('users')"
      ],
      "execution_count": null,
      "outputs": [
        {
          "output_type": "execute_result",
          "data": {
            "text/html": [
              "<div>\n",
              "<style scoped>\n",
              "    .dataframe tbody tr th:only-of-type {\n",
              "        vertical-align: middle;\n",
              "    }\n",
              "\n",
              "    .dataframe tbody tr th {\n",
              "        vertical-align: top;\n",
              "    }\n",
              "\n",
              "    .dataframe thead th {\n",
              "        text-align: right;\n",
              "    }\n",
              "</style>\n",
              "<table border=\"1\" class=\"dataframe\">\n",
              "  <thead>\n",
              "    <tr style=\"text-align: right;\">\n",
              "      <th></th>\n",
              "      <th>id</th>\n",
              "      <th>name</th>\n",
              "      <th>lastName</th>\n",
              "      <th>age</th>\n",
              "      <th>deletedFlg</th>\n",
              "    </tr>\n",
              "  </thead>\n",
              "  <tbody>\n",
              "  </tbody>\n",
              "</table>\n",
              "</div>"
            ],
            "text/plain": [
              "Empty DataFrame\n",
              "Columns: [id, name, lastName, age, deletedFlg]\n",
              "Index: []"
            ]
          },
          "metadata": {
            "tags": []
          },
          "execution_count": 93
        }
      ]
    },
    {
      "cell_type": "markdown",
      "metadata": {
        "id": "r55XnePBKzCz"
      },
      "source": [
        "2. Добавить данные в таблицу `users` при помощи метода add_data()"
      ]
    },
    {
      "cell_type": "code",
      "metadata": {
        "id": "jOrRavs1NIoq"
      },
      "source": [
        "# TODO"
      ],
      "execution_count": null,
      "outputs": []
    },
    {
      "cell_type": "code",
      "metadata": {
        "id": "UHhi16GDKefb"
      },
      "source": [
        "interface.add_data('users', ['name', 'lastName', 'age', 'deletedFlg'], values)"
      ],
      "execution_count": null,
      "outputs": []
    },
    {
      "cell_type": "code",
      "metadata": {
        "colab": {
          "base_uri": "https://localhost:8080/",
          "height": 142
        },
        "id": "UXUVNnMlLAEu",
        "outputId": "63066a8e-9eab-447d-953c-e2767fe3af9e"
      },
      "source": [
        "interface.show_data('users')"
      ],
      "execution_count": null,
      "outputs": [
        {
          "output_type": "execute_result",
          "data": {
            "text/html": [
              "<div>\n",
              "<style scoped>\n",
              "    .dataframe tbody tr th:only-of-type {\n",
              "        vertical-align: middle;\n",
              "    }\n",
              "\n",
              "    .dataframe tbody tr th {\n",
              "        vertical-align: top;\n",
              "    }\n",
              "\n",
              "    .dataframe thead th {\n",
              "        text-align: right;\n",
              "    }\n",
              "</style>\n",
              "<table border=\"1\" class=\"dataframe\">\n",
              "  <thead>\n",
              "    <tr style=\"text-align: right;\">\n",
              "      <th></th>\n",
              "      <th>id</th>\n",
              "      <th>name</th>\n",
              "      <th>lastName</th>\n",
              "      <th>age</th>\n",
              "      <th>deletedFlg</th>\n",
              "    </tr>\n",
              "  </thead>\n",
              "  <tbody>\n",
              "    <tr>\n",
              "      <th>0</th>\n",
              "      <td>1</td>\n",
              "      <td>Аня</td>\n",
              "      <td>Иванова</td>\n",
              "      <td>26</td>\n",
              "      <td>0</td>\n",
              "    </tr>\n",
              "    <tr>\n",
              "      <th>1</th>\n",
              "      <td>2</td>\n",
              "      <td>Вася</td>\n",
              "      <td>Воронцов</td>\n",
              "      <td>28</td>\n",
              "      <td>0</td>\n",
              "    </tr>\n",
              "    <tr>\n",
              "      <th>2</th>\n",
              "      <td>3</td>\n",
              "      <td>Лена</td>\n",
              "      <td>Петрова</td>\n",
              "      <td>31</td>\n",
              "      <td>0</td>\n",
              "    </tr>\n",
              "  </tbody>\n",
              "</table>\n",
              "</div>"
            ],
            "text/plain": [
              "   id  name  lastName  age  deletedFlg\n",
              "0   1   Аня   Иванова   26           0\n",
              "1   2  Вася  Воронцов   28           0\n",
              "2   3  Лена   Петрова   31           0"
            ]
          },
          "metadata": {
            "tags": []
          },
          "execution_count": 96
        }
      ]
    },
    {
      "cell_type": "markdown",
      "metadata": {
        "id": "vK6l-k5ULgVp"
      },
      "source": [
        "3. Удалить пользователя с id = 1 при помощи delete()"
      ]
    },
    {
      "cell_type": "code",
      "metadata": {
        "id": "cpZNjSzKNKHG"
      },
      "source": [
        "# TODO"
      ],
      "execution_count": null,
      "outputs": []
    },
    {
      "cell_type": "code",
      "metadata": {
        "colab": {
          "base_uri": "https://localhost:8080/"
        },
        "id": "vvXfnhhtK44x",
        "outputId": "8d67f9a9-97c0-40bc-d95a-aca979897453"
      },
      "source": [
        "interface.delete('users', 1)"
      ],
      "execution_count": null,
      "outputs": [
        {
          "output_type": "stream",
          "text": [
            "UPDATE users SET deletedFlg = 1 WHERE id = 1\n"
          ],
          "name": "stdout"
        }
      ]
    },
    {
      "cell_type": "code",
      "metadata": {
        "colab": {
          "base_uri": "https://localhost:8080/",
          "height": 142
        },
        "id": "hXc5cRSbK5Jo",
        "outputId": "88a3ecb2-e6ff-48dd-b5cc-c664a28bf911"
      },
      "source": [
        "interface.show_data('users')"
      ],
      "execution_count": null,
      "outputs": [
        {
          "output_type": "execute_result",
          "data": {
            "text/html": [
              "<div>\n",
              "<style scoped>\n",
              "    .dataframe tbody tr th:only-of-type {\n",
              "        vertical-align: middle;\n",
              "    }\n",
              "\n",
              "    .dataframe tbody tr th {\n",
              "        vertical-align: top;\n",
              "    }\n",
              "\n",
              "    .dataframe thead th {\n",
              "        text-align: right;\n",
              "    }\n",
              "</style>\n",
              "<table border=\"1\" class=\"dataframe\">\n",
              "  <thead>\n",
              "    <tr style=\"text-align: right;\">\n",
              "      <th></th>\n",
              "      <th>id</th>\n",
              "      <th>name</th>\n",
              "      <th>lastName</th>\n",
              "      <th>age</th>\n",
              "      <th>deletedFlg</th>\n",
              "    </tr>\n",
              "  </thead>\n",
              "  <tbody>\n",
              "    <tr>\n",
              "      <th>0</th>\n",
              "      <td>1</td>\n",
              "      <td>Аня</td>\n",
              "      <td>Иванова</td>\n",
              "      <td>26</td>\n",
              "      <td>1</td>\n",
              "    </tr>\n",
              "    <tr>\n",
              "      <th>1</th>\n",
              "      <td>2</td>\n",
              "      <td>Вася</td>\n",
              "      <td>Воронцов</td>\n",
              "      <td>28</td>\n",
              "      <td>0</td>\n",
              "    </tr>\n",
              "    <tr>\n",
              "      <th>2</th>\n",
              "      <td>3</td>\n",
              "      <td>Лена</td>\n",
              "      <td>Петрова</td>\n",
              "      <td>31</td>\n",
              "      <td>0</td>\n",
              "    </tr>\n",
              "  </tbody>\n",
              "</table>\n",
              "</div>"
            ],
            "text/plain": [
              "   id  name  lastName  age  deletedFlg\n",
              "0   1   Аня   Иванова   26           1\n",
              "1   2  Вася  Воронцов   28           0\n",
              "2   3  Лена   Петрова   31           0"
            ]
          },
          "metadata": {
            "tags": []
          },
          "execution_count": 99
        }
      ]
    },
    {
      "cell_type": "markdown",
      "metadata": {
        "id": "YowWDOSjLq7T"
      },
      "source": [
        "4. Вывести логи по всем предыдущим операциям show_data('loginfo', limit = 5)"
      ]
    },
    {
      "cell_type": "code",
      "metadata": {
        "id": "a1gTbDuRNLTy"
      },
      "source": [
        "# TODO"
      ],
      "execution_count": null,
      "outputs": []
    },
    {
      "cell_type": "code",
      "metadata": {
        "colab": {
          "base_uri": "https://localhost:8080/",
          "height": 204
        },
        "id": "qeD8s8v-LYN0",
        "outputId": "d162fb51-56c4-4f3e-bcda-3c4fbd57a172"
      },
      "source": [
        "interface.show_data('loginfo', limit = 5)"
      ],
      "execution_count": null,
      "outputs": [
        {
          "output_type": "execute_result",
          "data": {
            "text/html": [
              "<div>\n",
              "<style scoped>\n",
              "    .dataframe tbody tr th:only-of-type {\n",
              "        vertical-align: middle;\n",
              "    }\n",
              "\n",
              "    .dataframe tbody tr th {\n",
              "        vertical-align: top;\n",
              "    }\n",
              "\n",
              "    .dataframe thead th {\n",
              "        text-align: right;\n",
              "    }\n",
              "</style>\n",
              "<table border=\"1\" class=\"dataframe\">\n",
              "  <thead>\n",
              "    <tr style=\"text-align: right;\">\n",
              "      <th></th>\n",
              "      <th>id</th>\n",
              "      <th>tablename</th>\n",
              "      <th>action</th>\n",
              "      <th>timestamp</th>\n",
              "    </tr>\n",
              "  </thead>\n",
              "  <tbody>\n",
              "    <tr>\n",
              "      <th>0</th>\n",
              "      <td>1</td>\n",
              "      <td>users</td>\n",
              "      <td>show</td>\n",
              "      <td>2020-12-10 13:54:58</td>\n",
              "    </tr>\n",
              "    <tr>\n",
              "      <th>1</th>\n",
              "      <td>2</td>\n",
              "      <td>users</td>\n",
              "      <td>add</td>\n",
              "      <td>2020-12-10 13:55:01</td>\n",
              "    </tr>\n",
              "    <tr>\n",
              "      <th>2</th>\n",
              "      <td>3</td>\n",
              "      <td>users</td>\n",
              "      <td>show</td>\n",
              "      <td>2020-12-10 13:55:02</td>\n",
              "    </tr>\n",
              "    <tr>\n",
              "      <th>3</th>\n",
              "      <td>4</td>\n",
              "      <td>users</td>\n",
              "      <td>delete</td>\n",
              "      <td>2020-12-10 13:55:04</td>\n",
              "    </tr>\n",
              "    <tr>\n",
              "      <th>4</th>\n",
              "      <td>5</td>\n",
              "      <td>users</td>\n",
              "      <td>show</td>\n",
              "      <td>2020-12-10 13:55:05</td>\n",
              "    </tr>\n",
              "  </tbody>\n",
              "</table>\n",
              "</div>"
            ],
            "text/plain": [
              "   id tablename  action            timestamp\n",
              "0   1     users    show  2020-12-10 13:54:58\n",
              "1   2     users     add  2020-12-10 13:55:01\n",
              "2   3     users    show  2020-12-10 13:55:02\n",
              "3   4     users  delete  2020-12-10 13:55:04\n",
              "4   5     users    show  2020-12-10 13:55:05"
            ]
          },
          "metadata": {
            "tags": []
          },
          "execution_count": 101
        }
      ]
    },
    {
      "cell_type": "markdown",
      "metadata": {
        "id": "kZkT8LzDThIA"
      },
      "source": [
        "# ORM (объектно-реляционное отображение) на примере SQLalchemy"
      ]
    },
    {
      "cell_type": "markdown",
      "metadata": {
        "id": "Dwdjv9HgTnZZ"
      },
      "source": [
        "В этой части мы пройдем основные функции и подходы к созданию БД при помощи такого замечательного инструмента как SQLAlchemy :)"
      ]
    },
    {
      "cell_type": "markdown",
      "metadata": {
        "id": "txyJbOACsGKF"
      },
      "source": [
        "Переключим наше внимание на объектно-реляционное отображение. Первой целью является использование описанной нами системы таблиц метаданных для предоставления возможности переноса функций заданного пользователем класса на коллекцию столбцов в таблице базы данных. Второй целью является предоставление возможности описания отношений между заданными пользователем классами, которые будут основываться на отношениях между таблицами в базе данных.\n",
        "\n",
        "В **SQLAlchemy** такая связь называется «отображением», что соответствует широко известному шаблону проектирования с названием «DataMapper»"
      ]
    },
    {
      "cell_type": "markdown",
      "metadata": {
        "id": "6c5sZ6H_sQp0"
      },
      "source": [
        "## Классическое представление классов таблиц"
      ]
    },
    {
      "cell_type": "markdown",
      "metadata": {
        "id": "KP9i3rXYsYKX"
      },
      "source": [
        "Объект класса `sqlalchemy.orm.mapper.Mapper` связывает колонки из схемы таблицы и атрибуты Python класса."
      ]
    },
    {
      "cell_type": "code",
      "metadata": {
        "colab": {
          "base_uri": "https://localhost:8080/"
        },
        "id": "zbSSgbIc2_Lv",
        "outputId": "413cd6a3-6d93-4fb9-9565-e53da39f59bd"
      },
      "source": [
        "from sqlalchemy import Table, MetaData, Column, Integer, String, ForeignKey\n",
        "from sqlalchemy.orm import mapper, relationship\n",
        "\n",
        "metadata = MetaData()\n",
        "\n",
        "user = Table('user', metadata,\n",
        "             Column('id', Integer, primary_key=True),\n",
        "             Column('name', String(50)),\n",
        "             Column('fullname', String(50)),\n",
        "             Column('password', String(12))\n",
        "             )\n",
        "\n",
        "\n",
        "address = Table('address', metadata,\n",
        "                Column('id', Integer, primary_key=True),\n",
        "                Column('user_id', Integer, ForeignKey('user.id')),\n",
        "                Column('email_address', String(50))\n",
        "                )\n",
        "\n",
        "\n",
        "class User(object):\n",
        "    pass\n",
        "\n",
        "\n",
        "class Address(object):\n",
        "    pass\n",
        "\n",
        "print(dir(User))\n",
        "\n",
        "mapper(\n",
        "    User, user,\n",
        "    properties={\n",
        "        'addresses': relationship(Address, backref='user',\n",
        "                                  order_by=address.c.id)\n",
        "    })\n",
        "\n",
        "print(dir(User))\n",
        "\n",
        "mapper(Address, address)"
      ],
      "execution_count": null,
      "outputs": [
        {
          "output_type": "stream",
          "text": [
            "['__class__', '__delattr__', '__dict__', '__dir__', '__doc__', '__eq__', '__format__', '__ge__', '__getattribute__', '__gt__', '__hash__', '__init__', '__init_subclass__', '__le__', '__lt__', '__module__', '__ne__', '__new__', '__reduce__', '__reduce_ex__', '__repr__', '__setattr__', '__sizeof__', '__str__', '__subclasshook__', '__weakref__']\n",
            "['__class__', '__delattr__', '__dict__', '__dir__', '__doc__', '__eq__', '__format__', '__ge__', '__getattribute__', '__gt__', '__hash__', '__init__', '__init_subclass__', '__le__', '__lt__', '__module__', '__ne__', '__new__', '__reduce__', '__reduce_ex__', '__repr__', '__setattr__', '__sizeof__', '__str__', '__subclasshook__', '__weakref__', '_sa_class_manager', 'addresses', 'fullname', 'id', 'name', 'password']\n"
          ],
          "name": "stdout"
        },
        {
          "output_type": "execute_result",
          "data": {
            "text/plain": [
              "<Mapper at 0x7f05e4dd93c8; Address>"
            ]
          },
          "metadata": {
            "tags": []
          },
          "execution_count": 102
        }
      ]
    },
    {
      "cell_type": "markdown",
      "metadata": {
        "id": "BYg54dxDshzM"
      },
      "source": [
        "## Декларативное представление классов таблиц"
      ]
    },
    {
      "cell_type": "markdown",
      "metadata": {
        "id": "gz5c6LBSslyA"
      },
      "source": [
        "Каждый класс, представляющий таблицу в БД, должен наследоваться от базового класса который создается при помощи функции `sqlalchemy.ext.declarative.declarative_base().`"
      ]
    },
    {
      "cell_type": "code",
      "metadata": {
        "id": "1FybWPQVqHfp"
      },
      "source": [
        "from sqlalchemy.ext.declarative import declarative_base\n",
        "Base = declarative_base()\n"
      ],
      "execution_count": null,
      "outputs": []
    },
    {
      "cell_type": "code",
      "metadata": {
        "id": "g3rcxgKuJJTm"
      },
      "source": [
        "from sqlalchemy import Column, Integer, String\n",
        "\n",
        "class User(Base):\n",
        "     __tablename__ = 'user'\n",
        "\n",
        "     id = Column(Integer, primary_key=True)\n",
        "     name = Column(String)\n",
        "     fullname = Column(String)\n",
        "\n",
        "     def __repr__(self):\n",
        "         return \"<User(%r, %r)>\" % (\n",
        "                 self.name, self.fullname\n",
        "             )"
      ],
      "execution_count": null,
      "outputs": []
    },
    {
      "cell_type": "markdown",
      "metadata": {
        "id": "h-_3zplBs6rY"
      },
      "source": [
        "## Схема таблицы"
      ]
    },
    {
      "cell_type": "markdown",
      "metadata": {
        "id": "-EeEeeYss9hH"
      },
      "source": [
        "Для каждого класса унаследованного от базового автоматически создается схема таблицы (объект класса sqlalchemy.schema.Table) и привязывается к нему через атрибут` __table__.`"
      ]
    },
    {
      "cell_type": "code",
      "metadata": {
        "colab": {
          "base_uri": "https://localhost:8080/"
        },
        "id": "yxqs2RUps4Nl",
        "outputId": "2b509d68-0884-47b4-ffe5-3ea05eaffc16"
      },
      "source": [
        "User.__table__"
      ],
      "execution_count": null,
      "outputs": [
        {
          "output_type": "execute_result",
          "data": {
            "text/plain": [
              "Table('user', MetaData(bind=None), Column('id', Integer(), table=<user>, primary_key=True, nullable=False), Column('name', String(), table=<user>), Column('fullname', String(), table=<user>), schema=None)"
            ]
          },
          "metadata": {
            "tags": []
          },
          "execution_count": 105
        }
      ]
    },
    {
      "cell_type": "markdown",
      "metadata": {
        "id": "PfyVBINXtDN5"
      },
      "source": [
        "## MetaData"
      ]
    },
    {
      "cell_type": "markdown",
      "metadata": {
        "id": "nWgQ5QtltGbF"
      },
      "source": [
        "Любой класс таблицы автоматически ассоциируется с объектом sqlalchemy.schema.Table, который автоматически добавляется в список `sqlalchemy.schema.MetaData. `\n",
        "\n",
        "Базовый класс `Base`, созданный при помощи функции `sqlalchemy.ext.declarative.declarative_base()`, является более высокоуровневой абстракцией над `sqlalchemy.schema.MetaData`, которая позволяет описывать таблицы декларативным способом. Таким образом все классы-таблицы имеют свою схему, которая хранится в атрибуте metadata базового класса Base:"
      ]
    },
    {
      "cell_type": "code",
      "metadata": {
        "colab": {
          "base_uri": "https://localhost:8080/"
        },
        "id": "S8MymSzEs4gm",
        "outputId": "1e2ec1fe-f146-4fa4-b21b-38458168eb43"
      },
      "source": [
        "Base.metadata"
      ],
      "execution_count": null,
      "outputs": [
        {
          "output_type": "execute_result",
          "data": {
            "text/plain": [
              "MetaData(bind=None)"
            ]
          },
          "metadata": {
            "tags": []
          },
          "execution_count": 106
        }
      ]
    },
    {
      "cell_type": "code",
      "metadata": {
        "colab": {
          "base_uri": "https://localhost:8080/"
        },
        "id": "279Z_l_stBID",
        "outputId": "3e76eb99-4101-42f5-d534-c71ea3ec1565"
      },
      "source": [
        "Base.metadata.tables.items()"
      ],
      "execution_count": null,
      "outputs": [
        {
          "output_type": "execute_result",
          "data": {
            "text/plain": [
              "dict_items([('user', Table('user', MetaData(bind=None), Column('id', Integer(), table=<user>, primary_key=True, nullable=False), Column('name', String(), table=<user>), Column('fullname', String(), table=<user>), schema=None))])"
            ]
          },
          "metadata": {
            "tags": []
          },
          "execution_count": 107
        }
      ]
    },
    {
      "cell_type": "markdown",
      "metadata": {
        "id": "qhfMiKdYtVbR"
      },
      "source": [
        "Благодаря тому что Base содержит в себе объект `sqlalchemy.schema.MetaData`, вы можете пользоваться всеми его возможностями."
      ]
    },
    {
      "cell_type": "code",
      "metadata": {
        "id": "iqj_S0NdtBao"
      },
      "source": [
        "from sqlalchemy import create_engine\n",
        "engine = create_engine('sqlite://')\n",
        "Base.metadata.create_all(engine)"
      ],
      "execution_count": null,
      "outputs": []
    },
    {
      "cell_type": "markdown",
      "metadata": {
        "id": "YpRExr-Btfla"
      },
      "source": [
        "## Mapper"
      ]
    },
    {
      "cell_type": "markdown",
      "metadata": {
        "id": "5Xv05ph0tlPQ"
      },
      "source": [
        "Объект класса `sqlalchemy.orm.mapper.Mapper` связывает колонки из схемы таблицы и атрибуты из класса таблицы унаследованного от Base."
      ]
    },
    {
      "cell_type": "code",
      "metadata": {
        "colab": {
          "base_uri": "https://localhost:8080/"
        },
        "id": "REk0CCQftBd-",
        "outputId": "1b9c6ead-952b-4998-854a-66c9329b0ac9"
      },
      "source": [
        "from sqlalchemy import Column, ForeignKey, Integer, String\n",
        "from sqlalchemy.ext.declarative import declarative_base\n",
        "from sqlalchemy.orm import relationship\n",
        "\n",
        "Base = declarative_base()\n",
        "\n",
        "\n",
        "class User(Base):\n",
        "    __tablename__ = 'user'\n",
        "\n",
        "    id = Column(Integer, primary_key=True)\n",
        "    name = Column(String)\n",
        "    fullname = Column(String)\n",
        "    password = Column('password', String)\n",
        "\n",
        "    addresses = relationship(\"Address\", backref=\"user\",\n",
        "                             order_by=\"Address.id\")\n",
        "\n",
        "\n",
        "class Address(Base):\n",
        "    __tablename__ = 'address'\n",
        "\n",
        "    id = Column(Integer, primary_key=True)\n",
        "    user_id = Column(ForeignKey('user.id'))\n",
        "    email_address = Column(String)\n",
        "\n",
        "address1 = Address(email_address=\"vas@example.com\")\n",
        "address2 = Address(email_address=\"vas2@example.com\")\n",
        "address3 = Address(email_address=\"vasya@example.com\")\n",
        "\n",
        "print(\"Mapper relationship: \" + str(User.__mapper__.relationships))\n",
        "print(\"Mapper columns: \" + str(User.__mapper__.c.items()))\n",
        "\n",
        "user1 = User(name=\"Вася\")\n",
        "user1.addresses = [address1, address2, address3]\n",
        "print(\"User1 columns: \" + str(user1.__table__.c.items()))\n",
        "print(address1.user.name)"
      ],
      "execution_count": null,
      "outputs": [
        {
          "output_type": "stream",
          "text": [
            "Mapper relationship: <sqlalchemy.util._collections.ImmutableProperties object at 0x7f05e4d39ec8>\n",
            "Mapper columns: [('id', Column('id', Integer(), table=<user>, primary_key=True, nullable=False)), ('name', Column('name', String(), table=<user>)), ('fullname', Column('fullname', String(), table=<user>)), ('password', Column('password', String(), table=<user>))]\n",
            "User1 columns: [('id', Column('id', Integer(), table=<user>, primary_key=True, nullable=False)), ('name', Column('name', String(), table=<user>)), ('fullname', Column('fullname', String(), table=<user>)), ('password', Column('password', String(), table=<user>))]\n",
            "Вася\n"
          ],
          "name": "stdout"
        }
      ]
    },
    {
      "cell_type": "code",
      "metadata": {
        "id": "FKNgvGgtxp-q"
      },
      "source": [
        "engine = create_engine('sqlite://')\n",
        "Base.metadata.create_all(engine)"
      ],
      "execution_count": null,
      "outputs": []
    },
    {
      "cell_type": "markdown",
      "metadata": {
        "id": "PeJwLX1jtvAZ"
      },
      "source": [
        "## Конструктор класса"
      ]
    },
    {
      "cell_type": "markdown",
      "metadata": {
        "id": "sx-9FTC2tz7t"
      },
      "source": [
        "Декларативно описанный класс таблицы содержит в себе конструктор по умолчанию."
      ]
    },
    {
      "cell_type": "code",
      "metadata": {
        "id": "4Wgm3cA_txFc"
      },
      "source": [
        "ed_user = User(name='ed', fullname='Edward Jones', password = '123456')"
      ],
      "execution_count": null,
      "outputs": []
    },
    {
      "cell_type": "markdown",
      "metadata": {
        "id": "pKMBQVb3t67E"
      },
      "source": [
        "Можно переопределить конструктор вручную\n",
        "\n",
        "```\n",
        "class User(Base):\n",
        "    __tablename__ = 'user'\n",
        "\n",
        "    def __init__(self, name, fullname):\n",
        "       self.name = name\n",
        "       self.fullname = fullname\n",
        "\n",
        "    id = Column(Integer, primary_key=True)\n",
        "    name = Column(String)\n",
        "    fullname = Column(String)\n",
        "    password = Column(String)\n",
        "\n",
        "    addresses = relationship(\"Address\", backref=\"user\",\n",
        "                             order_by=\"Address.id\")\n",
        "```"
      ]
    },
    {
      "cell_type": "markdown",
      "metadata": {
        "id": "ZGD9H06ZuKGZ"
      },
      "source": [
        "Поле `User.id` является первичным ключом, если его значение не указанно явно или такой id не существует в БД, то объект считается новым. После записи объекта в БД, значение поля id автоматически присваивается."
      ]
    },
    {
      "cell_type": "code",
      "metadata": {
        "colab": {
          "base_uri": "https://localhost:8080/"
        },
        "id": "NklPYGLptxuI",
        "outputId": "81d8d634-4d4a-44ec-9419-875b3101b3bc"
      },
      "source": [
        "print(ed_user.name, ed_user.fullname, ed_user.password)"
      ],
      "execution_count": null,
      "outputs": [
        {
          "output_type": "stream",
          "text": [
            "ed Edward Jones 123456\n"
          ],
          "name": "stdout"
        }
      ]
    },
    {
      "cell_type": "code",
      "metadata": {
        "colab": {
          "base_uri": "https://localhost:8080/"
        },
        "id": "QfAErzkutxxV",
        "outputId": "b0c07439-e430-44ed-f587-ef46cec22c87"
      },
      "source": [
        "print(ed_user.id)"
      ],
      "execution_count": null,
      "outputs": [
        {
          "output_type": "stream",
          "text": [
            "None\n"
          ],
          "name": "stdout"
        }
      ]
    },
    {
      "cell_type": "markdown",
      "metadata": {
        "id": "gajlh9mkuW0K"
      },
      "source": [
        "## Сессии"
      ]
    },
    {
      "cell_type": "markdown",
      "metadata": {
        "id": "yuPGEoq7uatn"
      },
      "source": [
        "Сессии являются более абстрактным уровнем над механизмом соединения с СУБД `sqlalchemy.engine.Engine.` Они включают в себя функции хранения состояния объектов таблиц и записи этого состояния, по требованию, в БД.\n",
        "\n",
        "См:\n",
        "\n",
        "http://docs.sqlalchemy.org/en/latest/orm/session_basics.html\n",
        "\n",
        "https://ru.wikibooks.org/wiki/SQLAlchemy/Sessions"
      ]
    },
    {
      "cell_type": "markdown",
      "metadata": {
        "id": "kBZHIYv0umXh"
      },
      "source": [
        "Сессии создаются при помощи экземпляра класса `sqlalchemy.orm.session.Session.`"
      ]
    },
    {
      "cell_type": "code",
      "metadata": {
        "id": "xma3cHkntyGP"
      },
      "source": [
        "from sqlalchemy.orm import Session\n",
        "session = Session(bind=engine)"
      ],
      "execution_count": null,
      "outputs": []
    },
    {
      "cell_type": "code",
      "metadata": {
        "id": "WHUX1MMjtyal"
      },
      "source": [
        "session.add(ed_user)"
      ],
      "execution_count": null,
      "outputs": []
    },
    {
      "cell_type": "code",
      "metadata": {
        "id": "dKuXJcX4w7HS"
      },
      "source": [
        "session.commit()"
      ],
      "execution_count": null,
      "outputs": []
    },
    {
      "cell_type": "markdown",
      "metadata": {
        "id": "dJHUoFYwux8V"
      },
      "source": [
        "Перед выполнением любого запроса из сессии, состояние сессии автоматически переносится в БД. В нашем случае, не сохраненный объект `ed_user` добавляется в БД."
      ]
    },
    {
      "cell_type": "code",
      "metadata": {
        "id": "rW3CjoW3usFC"
      },
      "source": [
        "our_user = session.query(User).filter_by(name='ed').first()"
      ],
      "execution_count": null,
      "outputs": []
    },
    {
      "cell_type": "code",
      "metadata": {
        "colab": {
          "base_uri": "https://localhost:8080/"
        },
        "id": "lJCIenUqusah",
        "outputId": "a32190de-041e-4b3c-da6e-516aa71138bd"
      },
      "source": [
        "our_user"
      ],
      "execution_count": null,
      "outputs": [
        {
          "output_type": "execute_result",
          "data": {
            "text/plain": [
              "<__main__.User at 0x7f05e4d9dba8>"
            ]
          },
          "metadata": {
            "tags": []
          },
          "execution_count": 118
        }
      ]
    },
    {
      "cell_type": "code",
      "metadata": {
        "colab": {
          "base_uri": "https://localhost:8080/"
        },
        "id": "vdP6AB1ltyu-",
        "outputId": "24ec5272-bf1c-4412-aaa1-9140010fc2be"
      },
      "source": [
        "our_user.id"
      ],
      "execution_count": null,
      "outputs": [
        {
          "output_type": "execute_result",
          "data": {
            "text/plain": [
              "1"
            ]
          },
          "metadata": {
            "tags": []
          },
          "execution_count": 119
        }
      ]
    },
    {
      "cell_type": "code",
      "metadata": {
        "colab": {
          "base_uri": "https://localhost:8080/"
        },
        "id": "v4BI_ofEs4jw",
        "outputId": "96e9978e-ed77-49c5-f8dd-68afa6b6f1f9"
      },
      "source": [
        "ed_user.id\n"
      ],
      "execution_count": null,
      "outputs": [
        {
          "output_type": "execute_result",
          "data": {
            "text/plain": [
              "1"
            ]
          },
          "metadata": {
            "tags": []
          },
          "execution_count": 120
        }
      ]
    },
    {
      "cell_type": "markdown",
      "metadata": {
        "id": "0-aMpjmtx9hd"
      },
      "source": [
        "Что проверяет следующее условие?"
      ]
    },
    {
      "cell_type": "code",
      "metadata": {
        "colab": {
          "base_uri": "https://localhost:8080/"
        },
        "id": "mt8wMDfss45r",
        "outputId": "e3c8d60c-a087-4c92-acf1-a95549314d17"
      },
      "source": [
        "ed_user == our_user is ed_user"
      ],
      "execution_count": null,
      "outputs": [
        {
          "output_type": "execute_result",
          "data": {
            "text/plain": [
              "True"
            ]
          },
          "metadata": {
            "tags": []
          },
          "execution_count": 121
        }
      ]
    },
    {
      "cell_type": "code",
      "metadata": {
        "id": "dN4N6xRSyELU"
      },
      "source": [
        "session.add_all([\n",
        "     User(name='wendy', fullname='Wendy Weathersmith'),\n",
        "     User(name='mary', fullname='Mary Contrary'),\n",
        "     User(name='fred', fullname='Fred Flinstone')\n",
        " ])"
      ],
      "execution_count": null,
      "outputs": []
    },
    {
      "cell_type": "markdown",
      "metadata": {
        "id": "ZKdjasmXyJ8D"
      },
      "source": [
        "Если объект, находящийся в сессии, поменялся, то он помечается как `dirty.` Все измененные объекты в сессии доступны через атрибут `sqlalchemy.orm.session.Session.dirty`"
      ]
    },
    {
      "cell_type": "code",
      "metadata": {
        "id": "8uL4-n9RyEil"
      },
      "source": [
        "ed_user.fullname = 'Ed Jones'"
      ],
      "execution_count": null,
      "outputs": []
    },
    {
      "cell_type": "code",
      "metadata": {
        "id": "BhyQoTC70YPv"
      },
      "source": [
        "session.commit()"
      ],
      "execution_count": null,
      "outputs": []
    },
    {
      "cell_type": "markdown",
      "metadata": {
        "id": "qm0fA9_oyTek"
      },
      "source": [
        ""
      ]
    },
    {
      "cell_type": "code",
      "metadata": {
        "id": "As9YqfWis2qc"
      },
      "source": [
        "for i in session.dirty:\n",
        "    print(i)"
      ],
      "execution_count": null,
      "outputs": []
    },
    {
      "cell_type": "markdown",
      "metadata": {
        "id": "RezV0utkyyyF"
      },
      "source": [
        "Новые объекты, попавшие в сессию после ее сохранения или в новую сессию, доступны через атрибут `sqlalchemy.orm.session.Session.new`"
      ]
    },
    {
      "cell_type": "code",
      "metadata": {
        "colab": {
          "base_uri": "https://localhost:8080/"
        },
        "id": "nOqnF70FyRsF",
        "outputId": "07ff7ef6-5525-4b03-a469-a6d536fd7134"
      },
      "source": [
        "session.new"
      ],
      "execution_count": null,
      "outputs": [
        {
          "output_type": "execute_result",
          "data": {
            "text/plain": [
              "IdentitySet([])"
            ]
          },
          "metadata": {
            "tags": []
          },
          "execution_count": 126
        }
      ]
    },
    {
      "cell_type": "markdown",
      "metadata": {
        "id": "Jz131v1uy3xh"
      },
      "source": [
        "Метод `sqlalchemy.orm.session.Session.commit()` сохраняет состояние сессии в БД и подтверждает SQL транзакцию, в рамках которой выполнялись все предыдущие запросы."
      ]
    },
    {
      "cell_type": "code",
      "metadata": {
        "id": "dqvhPk2ay6QZ"
      },
      "source": [
        "session.commit()"
      ],
      "execution_count": null,
      "outputs": []
    },
    {
      "cell_type": "code",
      "metadata": {
        "colab": {
          "base_uri": "https://localhost:8080/",
          "height": 37
        },
        "id": "B2HQhLDHy7Ef",
        "outputId": "3f54f745-1789-4519-c13f-b170d5e7bc2d"
      },
      "source": [
        "ed_user.name"
      ],
      "execution_count": null,
      "outputs": [
        {
          "output_type": "execute_result",
          "data": {
            "application/vnd.google.colaboratory.intrinsic+json": {
              "type": "string"
            },
            "text/plain": [
              "'ed'"
            ]
          },
          "metadata": {
            "tags": []
          },
          "execution_count": 128
        }
      ]
    },
    {
      "cell_type": "markdown",
      "metadata": {
        "id": "w1PYP5YxzWyw"
      },
      "source": [
        "## SQL запросы через ORM"
      ]
    },
    {
      "cell_type": "markdown",
      "metadata": {
        "id": "H-M3ShxGzb7_"
      },
      "source": [
        "Операции над атрибутами класса таблицы равносильны операциям над объектом `sqlalchemy.schema.Column.` Поэтому их можно использовать в конструкторе SQL запросов. Результатом выполнения SQL выражения будет список значений записи в БД."
      ]
    },
    {
      "cell_type": "code",
      "metadata": {
        "colab": {
          "base_uri": "https://localhost:8080/"
        },
        "id": "3DcDrO8azUr-",
        "outputId": "98034bd0-2040-4872-c884-92bd605e440d"
      },
      "source": [
        "print(User.name == \"ed\")"
      ],
      "execution_count": null,
      "outputs": [
        {
          "output_type": "stream",
          "text": [
            "\"user\".name = :name_1\n"
          ],
          "name": "stdout"
        }
      ]
    },
    {
      "cell_type": "code",
      "metadata": {
        "id": "MdgIVxCIzVDN"
      },
      "source": [
        "from sqlalchemy import select\n",
        "sel = select([User.name, User.fullname]).where(User.name == 'ed').order_by(User.id)"
      ],
      "execution_count": null,
      "outputs": []
    },
    {
      "cell_type": "code",
      "metadata": {
        "colab": {
          "base_uri": "https://localhost:8080/"
        },
        "id": "ZUXTZkLszVHv",
        "outputId": "97726e66-ad5b-41c3-ca86-081e81450744"
      },
      "source": [
        "session.connection().execute(sel).fetchall()"
      ],
      "execution_count": null,
      "outputs": [
        {
          "output_type": "execute_result",
          "data": {
            "text/plain": [
              "[('ed', 'Ed Jones')]"
            ]
          },
          "metadata": {
            "tags": []
          },
          "execution_count": 131
        }
      ]
    },
    {
      "cell_type": "markdown",
      "metadata": {
        "id": "ll0uEb9O0yUy"
      },
      "source": [
        "ORM позволяет конструировать запросы при помощи метода `sqlalchemy.orm.session.Session.query().` Этот метод создает объект класса `sqlalchemy.orm.query.Query`, который является более высокой абстракцией конструктора SQL выражения в SQLAlchemy.\n",
        "\n",
        "ORM, в отличии от стандартного конструктора SQL выражения, позволяет создавать запросы более наглядно и возвращать результат в виде объектов которые привязаны к сессии."
      ]
    },
    {
      "cell_type": "code",
      "metadata": {
        "id": "9IVCRq2q1XGf"
      },
      "source": [
        ""
      ],
      "execution_count": null,
      "outputs": []
    },
    {
      "cell_type": "code",
      "metadata": {
        "colab": {
          "base_uri": "https://localhost:8080/"
        },
        "id": "p55obPY0yxjA",
        "outputId": "107eed4f-2ecc-45d5-b4a6-b524e0fcc199"
      },
      "source": [
        "for name, fullname in session.query(User.name, User.fullname):\n",
        "    print(name, fullname)\n"
      ],
      "execution_count": null,
      "outputs": [
        {
          "output_type": "stream",
          "text": [
            "ed Ed Jones\n",
            "wendy Wendy Weathersmith\n",
            "mary Mary Contrary\n",
            "fred Fred Flinstone\n"
          ],
          "name": "stdout"
        }
      ]
    },
    {
      "cell_type": "markdown",
      "metadata": {
        "id": "c8kliNvI1OQP"
      },
      "source": [
        "Или комбинировать значения полей с объектами."
      ]
    },
    {
      "cell_type": "code",
      "metadata": {
        "colab": {
          "base_uri": "https://localhost:8080/"
        },
        "id": "1T0uMmIj0kFv",
        "outputId": "0d0efcf1-7ca0-45ea-bb8c-356bc7508008"
      },
      "source": [
        "for row in session.query(User, User.name):\n",
        "    print(row.User.name,row.User.fullname, '...',row.name)"
      ],
      "execution_count": null,
      "outputs": [
        {
          "output_type": "stream",
          "text": [
            "ed Ed Jones ... ed\n",
            "wendy Wendy Weathersmith ... wendy\n",
            "mary Mary Contrary ... mary\n",
            "fred Fred Flinstone ... fred\n"
          ],
          "name": "stdout"
        }
      ]
    },
    {
      "cell_type": "markdown",
      "metadata": {
        "id": "EEDDHhyi173g"
      },
      "source": [
        "## Ограничения и условия"
      ]
    },
    {
      "cell_type": "markdown",
      "metadata": {
        "id": "ynrVINco2AQI"
      },
      "source": [
        "**LIMIT, OFFSET**\n",
        "\n",
        "Выбор конкретной строки запроса делается не средствами языка Python, а на стороне СУБД, за счет конструкции `LIMIT ? OFFSET ?`, что значительно ускоряет выполнение запроса. Для программиста это выглядит прозрачно, как будто он работает с Python списком."
      ]
    },
    {
      "cell_type": "code",
      "metadata": {
        "colab": {
          "base_uri": "https://localhost:8080/"
        },
        "id": "amMSJ6n91L8o",
        "outputId": "1ce2be66-cba0-4a83-bab2-8cb688394404"
      },
      "source": [
        "u = session.query(User).order_by(User.id)[2]\n",
        "print(u.fullname)"
      ],
      "execution_count": null,
      "outputs": [
        {
          "output_type": "stream",
          "text": [
            "Mary Contrary\n"
          ],
          "name": "stdout"
        }
      ]
    },
    {
      "cell_type": "markdown",
      "metadata": {
        "id": "_8hJ3ez52hiO"
      },
      "source": [
        "Аналогично работают и Python срезы."
      ]
    },
    {
      "cell_type": "code",
      "metadata": {
        "colab": {
          "base_uri": "https://localhost:8080/"
        },
        "id": "7ec69PSH2gVP",
        "outputId": "f6cf7855-d7ad-4322-8d3a-b93ca8417462"
      },
      "source": [
        "for u in session.query(User).order_by(User.id)[1:3]:\n",
        "    print(u.fullname)"
      ],
      "execution_count": null,
      "outputs": [
        {
          "output_type": "stream",
          "text": [
            "Wendy Weathersmith\n",
            "Mary Contrary\n"
          ],
          "name": "stdout"
        }
      ]
    },
    {
      "cell_type": "markdown",
      "metadata": {
        "id": "fK13YQFX2vr0"
      },
      "source": [
        "**WHERE**\n",
        "\n",
        "Условие `WHERE` соответствует методу `sqlalchemy.orm.query.Query.filter_by().`"
      ]
    },
    {
      "cell_type": "code",
      "metadata": {
        "colab": {
          "base_uri": "https://localhost:8080/"
        },
        "id": "H2jtVhRU1MCP",
        "outputId": "1e9cee49-0adb-4fdc-d300-554580a040fc"
      },
      "source": [
        "for name, in session.query(User.name).\\\n",
        "                 filter_by(fullname='Ed Jones'):\n",
        "                 print(name)"
      ],
      "execution_count": null,
      "outputs": [
        {
          "output_type": "stream",
          "text": [
            "ed\n"
          ],
          "name": "stdout"
        }
      ]
    },
    {
      "cell_type": "markdown",
      "metadata": {
        "id": "1rJslViE2_9G"
      },
      "source": [
        "Или более функциональному методу `sqlalchemy.orm.query.Query.filter()`"
      ]
    },
    {
      "cell_type": "code",
      "metadata": {
        "colab": {
          "base_uri": "https://localhost:8080/"
        },
        "id": "k1tnUbsM2oM9",
        "outputId": "19afb5ce-b586-4898-bb25-978a14fa714d"
      },
      "source": [
        "for name, in session.query(User.name).\\\n",
        "                 filter(User.fullname == 'Ed Jones'):\n",
        "                 print(name)"
      ],
      "execution_count": null,
      "outputs": [
        {
          "output_type": "stream",
          "text": [
            "ed\n"
          ],
          "name": "stdout"
        }
      ]
    },
    {
      "cell_type": "code",
      "metadata": {
        "colab": {
          "base_uri": "https://localhost:8080/"
        },
        "id": "z1ErmI8a2oSq",
        "outputId": "a3f0c5e7-ab28-4c13-a596-0bb421217e73"
      },
      "source": [
        "from sqlalchemy import or_\n",
        "for name, in session.query(User.name).\\\n",
        "                 filter(or_(User.fullname == 'Ed Jones', User.id < 5)):\n",
        "                 print(name)"
      ],
      "execution_count": null,
      "outputs": [
        {
          "output_type": "stream",
          "text": [
            "ed\n",
            "wendy\n",
            "mary\n",
            "fred\n"
          ],
          "name": "stdout"
        }
      ]
    },
    {
      "cell_type": "markdown",
      "metadata": {
        "id": "8xf7y1gi3Mj-"
      },
      "source": [
        "Последовательное выполнение методов `sqlalchemy.orm.query.Query.filter()` соединяет условия `WHERE` при помощи оператора `AND`, аналогично конструкции `select().where().`"
      ]
    },
    {
      "cell_type": "code",
      "metadata": {
        "colab": {
          "base_uri": "https://localhost:8080/"
        },
        "id": "KOhCFKdH2oZf",
        "outputId": "e3fe871d-a67d-46cc-e2ff-6de928b1f98d"
      },
      "source": [
        "for user in session.query(User).\\\n",
        "                         filter(User.name == 'ed').\\\n",
        "                         filter(User.fullname == 'Ed Jones'):\n",
        "                         print(user.name)"
      ],
      "execution_count": null,
      "outputs": [
        {
          "output_type": "stream",
          "text": [
            "ed\n"
          ],
          "name": "stdout"
        }
      ]
    },
    {
      "cell_type": "markdown",
      "metadata": {
        "id": "vds6-uZS3kZc"
      },
      "source": [
        "## Выполнение SQL выражений"
      ]
    },
    {
      "cell_type": "markdown",
      "metadata": {
        "id": "8Tb5_N3z3oZ3"
      },
      "source": [
        "Сам объект класса `sqlalchemy.orm.query.Query` не выполняет обращений к БД."
      ]
    },
    {
      "cell_type": "code",
      "metadata": {
        "id": "8UyU1A6S3i-F"
      },
      "source": [
        "query = session.query(User).filter_by(fullname='Ed Jones')"
      ],
      "execution_count": null,
      "outputs": []
    },
    {
      "cell_type": "markdown",
      "metadata": {
        "id": "SPV0bMWb320q"
      },
      "source": [
        "Для этого существуют специальные методы этого класса, например :\n",
        "\n",
        "- `sqlalchemy.orm.query.Query.all()`\n",
        "- `sqlalchemy.orm.query.Query.first()` - выполнит запрос и вернет первую строку запроса или None\n",
        "- `sqlalchemy.orm.query.Query.one()` - выполнит запрос, вернет первую строку запроса и проверит что она одна и только одна, иначе вызовет исключение sqlalchemy.orm.exc.NoResultFound.\n"
      ]
    },
    {
      "cell_type": "code",
      "metadata": {
        "colab": {
          "base_uri": "https://localhost:8080/"
        },
        "id": "vJlnY7gk3q3D",
        "outputId": "53f58bea-38ad-470d-8fc3-55a1227e1f53"
      },
      "source": [
        "for i in query.all():\n",
        "    print(i.name)"
      ],
      "execution_count": null,
      "outputs": [
        {
          "output_type": "stream",
          "text": [
            "ed\n"
          ],
          "name": "stdout"
        }
      ]
    },
    {
      "cell_type": "code",
      "metadata": {
        "colab": {
          "base_uri": "https://localhost:8080/",
          "height": 37
        },
        "id": "_-iyQTtP3rUH",
        "outputId": "448b9dab-4506-4762-80ee-5dfc6d0a2b2d"
      },
      "source": [
        "query.first().name"
      ],
      "execution_count": null,
      "outputs": [
        {
          "output_type": "execute_result",
          "data": {
            "application/vnd.google.colaboratory.intrinsic+json": {
              "type": "string"
            },
            "text/plain": [
              "'ed'"
            ]
          },
          "metadata": {
            "tags": []
          },
          "execution_count": 142
        }
      ]
    },
    {
      "cell_type": "code",
      "metadata": {
        "colab": {
          "base_uri": "https://localhost:8080/",
          "height": 37
        },
        "id": "RcYpjOyg3jWy",
        "outputId": "0a0840d1-fac4-4553-b608-a07724f99bcd"
      },
      "source": [
        "query.one().name"
      ],
      "execution_count": null,
      "outputs": [
        {
          "output_type": "execute_result",
          "data": {
            "application/vnd.google.colaboratory.intrinsic+json": {
              "type": "string"
            },
            "text/plain": [
              "'ed'"
            ]
          },
          "metadata": {
            "tags": []
          },
          "execution_count": 143
        }
      ]
    },
    {
      "cell_type": "code",
      "metadata": {
        "colab": {
          "base_uri": "https://localhost:8080/",
          "height": 300
        },
        "id": "6MbQvNI33jvX",
        "outputId": "0981e60e-fb3d-4d2c-d5a6-5a9f27878993"
      },
      "source": [
        "query = session.query(User).filter_by(fullname='nonexistent')\n",
        "query.one()"
      ],
      "execution_count": null,
      "outputs": [
        {
          "output_type": "error",
          "ename": "NoResultFound",
          "evalue": "ignored",
          "traceback": [
            "\u001b[0;31m---------------------------------------------------------------------------\u001b[0m",
            "\u001b[0;31mNoResultFound\u001b[0m                             Traceback (most recent call last)",
            "\u001b[0;32m<ipython-input-144-631e90468c74>\u001b[0m in \u001b[0;36m<module>\u001b[0;34m()\u001b[0m\n\u001b[1;32m      1\u001b[0m \u001b[0mquery\u001b[0m \u001b[0;34m=\u001b[0m \u001b[0msession\u001b[0m\u001b[0;34m.\u001b[0m\u001b[0mquery\u001b[0m\u001b[0;34m(\u001b[0m\u001b[0mUser\u001b[0m\u001b[0;34m)\u001b[0m\u001b[0;34m.\u001b[0m\u001b[0mfilter_by\u001b[0m\u001b[0;34m(\u001b[0m\u001b[0mfullname\u001b[0m\u001b[0;34m=\u001b[0m\u001b[0;34m'nonexistent'\u001b[0m\u001b[0;34m)\u001b[0m\u001b[0;34m\u001b[0m\u001b[0;34m\u001b[0m\u001b[0m\n\u001b[0;32m----> 2\u001b[0;31m \u001b[0mquery\u001b[0m\u001b[0;34m.\u001b[0m\u001b[0mone\u001b[0m\u001b[0;34m(\u001b[0m\u001b[0;34m)\u001b[0m\u001b[0;34m\u001b[0m\u001b[0;34m\u001b[0m\u001b[0m\n\u001b[0m",
            "\u001b[0;32m/usr/local/lib/python3.6/dist-packages/sqlalchemy/orm/query.py\u001b[0m in \u001b[0;36mone\u001b[0;34m(self)\u001b[0m\n\u001b[1;32m   3498\u001b[0m         \u001b[0;32melse\u001b[0m\u001b[0;34m:\u001b[0m\u001b[0;34m\u001b[0m\u001b[0;34m\u001b[0m\u001b[0m\n\u001b[1;32m   3499\u001b[0m             \u001b[0;32mif\u001b[0m \u001b[0mret\u001b[0m \u001b[0;32mis\u001b[0m \u001b[0;32mNone\u001b[0m\u001b[0;34m:\u001b[0m\u001b[0;34m\u001b[0m\u001b[0;34m\u001b[0m\u001b[0m\n\u001b[0;32m-> 3500\u001b[0;31m                 \u001b[0;32mraise\u001b[0m \u001b[0morm_exc\u001b[0m\u001b[0;34m.\u001b[0m\u001b[0mNoResultFound\u001b[0m\u001b[0;34m(\u001b[0m\u001b[0;34m\"No row was found for one()\"\u001b[0m\u001b[0;34m)\u001b[0m\u001b[0;34m\u001b[0m\u001b[0;34m\u001b[0m\u001b[0m\n\u001b[0m\u001b[1;32m   3501\u001b[0m             \u001b[0;32mreturn\u001b[0m \u001b[0mret\u001b[0m\u001b[0;34m\u001b[0m\u001b[0;34m\u001b[0m\u001b[0m\n\u001b[1;32m   3502\u001b[0m \u001b[0;34m\u001b[0m\u001b[0m\n",
            "\u001b[0;31mNoResultFound\u001b[0m: No row was found for one()"
          ]
        }
      ]
    },
    {
      "cell_type": "code",
      "metadata": {
        "colab": {
          "base_uri": "https://localhost:8080/"
        },
        "id": "Lu7k5Qqw466F",
        "outputId": "a5ccdc6d-f1b8-4bc2-f0a6-bf11e564e0f3"
      },
      "source": [
        "engine.table_names()"
      ],
      "execution_count": null,
      "outputs": [
        {
          "output_type": "execute_result",
          "data": {
            "text/plain": [
              "['address', 'user']"
            ]
          },
          "metadata": {
            "tags": []
          },
          "execution_count": 145
        }
      ]
    },
    {
      "cell_type": "code",
      "metadata": {
        "id": "ytyMqSSM5FDo"
      },
      "source": [
        "Address.__table__.drop(engine)"
      ],
      "execution_count": null,
      "outputs": []
    },
    {
      "cell_type": "code",
      "metadata": {
        "id": "azqkKuGN5Szj"
      },
      "source": [
        "User.__table__.drop(engine)"
      ],
      "execution_count": null,
      "outputs": []
    },
    {
      "cell_type": "code",
      "metadata": {
        "colab": {
          "base_uri": "https://localhost:8080/"
        },
        "id": "nAelrxgE5ItN",
        "outputId": "1e466c39-0919-4782-bfc5-3590ece5feca"
      },
      "source": [
        "engine.table_names()"
      ],
      "execution_count": null,
      "outputs": [
        {
          "output_type": "execute_result",
          "data": {
            "text/plain": [
              "[]"
            ]
          },
          "metadata": {
            "tags": []
          },
          "execution_count": 148
        }
      ]
    },
    {
      "cell_type": "code",
      "metadata": {
        "id": "RB0gL-EA6PF_"
      },
      "source": [
        ""
      ],
      "execution_count": null,
      "outputs": []
    },
    {
      "cell_type": "code",
      "metadata": {
        "id": "-tVn0snE6PMd"
      },
      "source": [
        ""
      ],
      "execution_count": null,
      "outputs": []
    },
    {
      "cell_type": "code",
      "metadata": {
        "id": "P4qk_SSy6PT5"
      },
      "source": [
        ""
      ],
      "execution_count": null,
      "outputs": []
    }
  ]
}