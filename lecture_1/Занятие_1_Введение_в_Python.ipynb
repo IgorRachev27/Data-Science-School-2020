{
  "nbformat": 4,
  "nbformat_minor": 0,
  "metadata": {
    "colab": {
      "name": "Занятие 1. Введение в Python.ipynb",
      "provenance": [],
      "collapsed_sections": []
    },
    "kernelspec": {
      "name": "python3",
      "display_name": "Python 3"
    }
  },
  "cells": [
    {
      "cell_type": "markdown",
      "metadata": {
        "id": "iW-eBK83nxM6"
      },
      "source": [
        "# Занятие 1. Введение в язык Python.\n",
        "*24.11.2020.*\n",
        "#### **Преподаватель:** Виктория Дочкина"
      ]
    },
    {
      "cell_type": "markdown",
      "metadata": {
        "id": "qxQmUTyPl7NC"
      },
      "source": [
        "## План занятия:\n",
        "- Введение, общие факты о языке Python\n",
        "* Разберем основные встроенные типы данных в Python\n",
        "  *  работа с массивами и переменными\n",
        "  * основные методы встроенных объектов\n",
        "* Поймем почему использовать массивы типа ndarray целесообразние чем встроенные списки типа list\n",
        "* Рзберем циклы for while\n",
        "  * операторы в циклах\n",
        "* Рассмотри что такое List и Dict comprehensions\n",
        "* Функции в Python\n",
        "* Постулаты ООП\n",
        "* ДЗ"
      ]
    },
    {
      "cell_type": "markdown",
      "metadata": {
        "id": "EjhsRL8Il1bo"
      },
      "source": [
        "# Введение"
      ]
    },
    {
      "cell_type": "markdown",
      "metadata": {
        "id": "ntmw6Ix01EZn"
      },
      "source": [
        "## О языке Python\n",
        "\n",
        "<img src=\"https://github.com/ddvika/Data-Science-School-2020/blob/main/lecture_1/imgs/Python_logo.png?raw=true\" width=550 height=250/>"
      ]
    },
    {
      "cell_type": "markdown",
      "metadata": {
        "id": "3oPf_mQhpNn7"
      },
      "source": [
        "В течение курса мы будем пользоваться таким инструментом как Python. Существуют 2 версии: Python 2 и Python 3. Стоит отметить, что они несовместими. **Мы будем пользоваться Python 3.** Точная версия не принципиальна, но она должна быть **>= 3.6.0.**\n",
        "\n",
        "- [Как установить Python на Windows](https://python-scripts.com/install-python-windows)\n",
        "- [Как установить Python на MacOS](https://www.codeflow.site/ru/article/how-to-install-python-3-and-set-up-a-local-programming-environment-on-macos)\n",
        "- [Как установить Python на Ubuntu](https://devacademy.ru/recipe/kak-ustanovit-python-38-v-ubuntu-1804)\n",
        "\n",
        "Если Вы пользуетесь каким-либо из дистрибутивов Linux, то Python скорее всего уже установлен.\n",
        "Попробуйте в терминале следующие команды для запуска интерактивного режима работы:\n",
        "\n",
        "`python` или `python3` или `python2`"
      ]
    },
    {
      "cell_type": "markdown",
      "metadata": {
        "id": "thKXLT_9oDRV"
      },
      "source": [
        "#### Python: преимущества и недостатки:\n",
        "* **Python** — самый быстрорастущий язык программирования за последние несколько лет. Об этом говорит [исследование StackOverflow](https://insights.stackoverflow.com/survey/2019#technology). \n",
        "\n",
        "<img src=\"https://github.com/ddvika/Data-Science-School-2020/blob/main/lecture_1/imgs/stack.png?raw=true\" width=550 height=300/>\n"
      ]
    },
    {
      "cell_type": "markdown",
      "metadata": {
        "id": "AY4eGgVYw6Fc"
      },
      "source": [
        "* **Python - интерпретируемый язык программирования.** С одной стороны, это позволяет значительно упростить отладку программ, с другой - обуславливает сравнительно низкую скорость выполнения.\n",
        "* **Простота.** У него понятный синтаксис, похожий на обычный, «человеческий» язык. Также у языка **динамическая типизация**, что позволяет не объявлять заранее тип переменной.\n",
        "* Хорошая **поддержка модульности.** Вы можете легко написать свой модуль и использовать его в других программах.\n",
        "* **Огромное количество библиотек**, как входящих в стандартную поставку Python 3, так и сторонних. В некоторых случаях для написания программы достаточно лишь найти подходящие модули и правильно их скомбинировать.\n",
        "* Встроенная **поддержка Unicode** в строках. В Python необязательно писать всё на английском языке, в программах вполне может использоваться ваш родной язык.\n",
        "* Автоматическая сборка мусора, **отсутствие утечек памяти.**\n",
        "* **Кроссплатформенность.** Программа, написанная на Python, будет функционировать совершенно одинаково вне зависимости от того, в какой операционной системе она запущена. Отличия возникают лишь в редких случаях."
      ]
    },
    {
      "cell_type": "markdown",
      "metadata": {
        "id": "rxoxurdoI3U6"
      },
      "source": [
        "Пример программы на Python:"
      ]
    },
    {
      "cell_type": "code",
      "metadata": {
        "colab": {
          "base_uri": "https://localhost:8080/"
        },
        "collapsed": true,
        "id": "yPSTOwwEIy6t",
        "outputId": "9a4fa76a-d132-4234-a382-4bc9b226f7fc"
      },
      "source": [
        "print('Hello world!')"
      ],
      "execution_count": null,
      "outputs": [
        {
          "output_type": "stream",
          "text": [
            "Hello world!\n"
          ],
          "name": "stdout"
        }
      ]
    },
    {
      "cell_type": "markdown",
      "metadata": {
        "id": "8t4b8tmyJBiJ"
      },
      "source": [
        "Сравним с другим языком:\n",
        "\n",
        "```\n",
        "#include <iostream>\n",
        "\n",
        "int main(int argc, char** argv) {\n",
        "    std::cout << \"Hello, World!\" << std::endl;\n",
        "    return 0;\n",
        "}\n",
        "```"
      ]
    },
    {
      "cell_type": "markdown",
      "metadata": {
        "id": "fWLyhZ64xFMC"
      },
      "source": [
        "## Anaconda"
      ]
    },
    {
      "cell_type": "markdown",
      "metadata": {
        "id": "QOnyBxlc0CDq"
      },
      "source": [
        "<img src=\"https://github.com/ddvika/Data-Science-School-2020/blob/main/lecture_1/imgs/anaconda-logo.png?raw=true\" width=550 height=100/>"
      ]
    },
    {
      "cell_type": "markdown",
      "metadata": {
        "id": "T5UXiMGUywEB"
      },
      "source": [
        "Anaconda – свободный дистрибутив со свободной лицензией, предназначенный для языков программирования Python и R. Проект имеет открытый исходный код для обработки данных большого объема, построения аналитических прогнозов и научных вычислений. Conda позволяет упростить управление и использование пакетов. Версии пакетов контролируются системой управления пакетами conda. По умолчанию, вместе с Anaconda устанавливается также:\n",
        " \n",
        "* JupyterLab\n",
        "* Jupyter Notebook\n",
        "* Spyder\n",
        " \n",
        "С их помощью можно создавать .ipynb файлы, называемые ноутбуками. Подробнее про них - ниже.\n",
        " \n",
        "---\n",
        " \n",
        "Встроенный в conda пакетный менеджер активируется в командной строке словом conda. В conda дополнительно встроено множество различных библиотек питона, для этого необходимо открыть командную строку (cmd.exe, можно найти поиском по системе) и запустить conda list.\n",
        " \n",
        "---\n",
        " \n",
        "Conda позволяет создавать виртуальные окружения для изолированной разработки программ. Делается это при помощи команды:\n",
        " \n",
        "`conda create --name myenv`\n",
        " \n",
        "Когда conda попросит вас продолжить, введите y\n",
        " \n",
        "Чтобы создать среду с определенной версией Python:\n",
        " \n",
        "`conda create -n myenv python=3.6`\n",
        " \n",
        "Чтобы создать среду с определенным пакетом (например, scipy):\n",
        " \n",
        "`conda create -n myenv scipy`\n",
        "\n",
        "[Как установить Anaconda на Windows/MacOS/Linux](https://docs.anaconda.com/anaconda/install/)"
      ]
    },
    {
      "cell_type": "markdown",
      "metadata": {
        "id": "ieS6DloPxeLY"
      },
      "source": [
        "## Pip"
      ]
    },
    {
      "cell_type": "markdown",
      "metadata": {
        "id": "9YK10bqnxljL"
      },
      "source": [
        "**pip** - это система управления пакетами, которая используется для установки и управления программными пакетами, написанными на Python. То есть, основную часть библиотек для Python вы можете скачать при помощи pip системы. Начиная с Python версии 3.4, pip поставляется вместе с интерпретатором python, соответственно отдельно скачивать его не придется.\n",
        "\n",
        "Чтобы с помощью pip установить какой-нибудь пакет, например, numpy, напишите в терминале:\n",
        "\n",
        "**Linux:**\n",
        "\n",
        "`sudo pip3 install numpy`\n",
        "\n",
        "**Windows:**\n",
        "\n",
        "`pip3 install numpy`"
      ]
    },
    {
      "cell_type": "markdown",
      "metadata": {
        "id": "6phhKY70svfM"
      },
      "source": [
        "## Jupyter notebook"
      ]
    },
    {
      "cell_type": "markdown",
      "metadata": {
        "id": "kDDh0Hd10u4S"
      },
      "source": [
        "<img src=\"https://github.com/ddvika/Data-Science-School-2020/blob/main/lecture_1/imgs/jupyter_logo.png?raw=true\" width=650 height=190/>"
      ]
    },
    {
      "cell_type": "markdown",
      "metadata": {
        "id": "vND7XGLD1pIw"
      },
      "source": [
        "Текст, который вы сейчас читаете находится в Jupyter Notebook. Notebook или же блокнот, объединяет код и его вывод в единый документ, который объединяет визуализацию, повествовательный текст, математические уравнения и другие мультимедиа. Этот интуитивно понятный рабочий процесс способствует итеративной и быстрой разработке, что делает ноутбуки все более популярным выбором для представления в данных и их анализа.\n",
        "\n",
        "Сейчас, и на последующих занятиях мы будем использовать Jupyter Notebook'и.\n",
        "Возможны два варианта создания и использования таких блокнотов:\n",
        "- при помощи [Google colab](https://colab.research.google.com) в вэб-браузере\n",
        "- установить самостоятельно на компьютер (инструкцию см. ниже)\n",
        "\n",
        "После установки Аnaconda в командной строке, которую можно открыть прямо в папке (в случае Windows в проводнике, в нужной папке файл -> Запустить Windows PowerShell, в случае linux/mac - зажать ctrl+alt+t или в проводнике нажать пкм в нужной папке -> открыть терминал) введем команду jupyter notebook\n",
        "В вашем браузере по умолчанию откроется новая вкладка, домашняя страница проекта Jupyter. В правом верхнем углу будет расположена кнопка new -> python 3, после чего должен быть доступен интерфейс для работы с jupyter файлом, где можно создавать ячейки с текстом или кодом."
      ]
    },
    {
      "cell_type": "markdown",
      "metadata": {
        "id": "H1u32QW326mO"
      },
      "source": [
        "**Итак... Начнем занятие**"
      ]
    },
    {
      "cell_type": "markdown",
      "metadata": {
        "id": "YDWEUSE81uHP"
      },
      "source": [
        "# 1. Встроенные типы данных в Python\n",
        "Давайте поговорим о встроенных типах данных в этом замечательном языке.\n",
        "Под словом \"переменная\" подразумевается название для зарезервированного места в памяти компьютера, которое предназначено для хранения определенного значения/значений. В Python всё, что можно положить в переменную, является объектом. А сама переменная является ссылкой на этот объект. Объекты «живут» в своём мире независимо от переменных, а переменные — один из способов обратиться извне к миру объектов. \n",
        "\n",
        "Количество выделяемой интерпретатором памяти определяется на основе типа данных переменной. \n",
        "\n",
        "Подробнее о типах данных:\n",
        "Все типы данных в Python относятся к одной из 2-х категорий: изменяемые (mutable) и неизменяемые (unmutable).\n",
        "\n",
        "**Неизменяемые:**\n",
        "\n",
        "* Числа (int, float, comples)\n",
        "* Логический тип (bool)\n",
        "* None\n",
        "* Строка (str)\n",
        "* Кортеж (tuple)\n",
        "\n",
        "**Изменяемые:**\n",
        "* Список (list)\n",
        "* Словарь (dict)\n",
        "* Множества (set)"
      ]
    },
    {
      "cell_type": "markdown",
      "metadata": {
        "id": "sXczQ0vm9Al0"
      },
      "source": [
        "У **неизменяемых** объектов отсутствует модифицирующие их методы. Так в примере ниже объект Целое-число-1 продолжает жить даже после того, как мы поменяли переменную a."
      ]
    },
    {
      "cell_type": "code",
      "metadata": {
        "id": "MRoBfwwr9AFL"
      },
      "source": [
        "a = 1\n",
        "a = 2 # a теперь является ссылкой на новый объект Целое-число-2"
      ],
      "execution_count": null,
      "outputs": []
    },
    {
      "cell_type": "markdown",
      "metadata": {
        "id": "s33ZZlLpHCwS"
      },
      "source": [
        "Если вы работали на С++/С и тд, но не работали на Python, то увидев строку выше, вы,возможно, удивитесь. Поэтому отвечаем: в Python у каждого значения есть тип, но нет необходимости явно указывать типы переменных. Как это работает? Основываясь на первом присвоении значения переменной, Python определяет её тип и в дальнейшем отслеживает его самостоятельно. Например:"
      ]
    },
    {
      "cell_type": "code",
      "metadata": {
        "colab": {
          "base_uri": "https://localhost:8080/"
        },
        "id": "sI6TRrlcHZjh",
        "outputId": "4278d694-cc48-4e54-f915-5a652042c8a6"
      },
      "source": [
        "a = 5 \n",
        "# Команда type выводит на экран тип переменной.\n",
        "# Все, что находится после # является комментарием и не воспринимается языком как код\n",
        "print(type(a))"
      ],
      "execution_count": null,
      "outputs": [
        {
          "output_type": "stream",
          "text": [
            "<class 'int'>\n"
          ],
          "name": "stdout"
        }
      ]
    },
    {
      "cell_type": "code",
      "metadata": {
        "colab": {
          "base_uri": "https://localhost:8080/"
        },
        "id": "qypRKfVmHcaX",
        "outputId": "60ab9675-14c4-4a62-9d46-aaf3e583a350"
      },
      "source": [
        "a = 5.\n",
        "print(type(a))"
      ],
      "execution_count": null,
      "outputs": [
        {
          "output_type": "stream",
          "text": [
            "<class 'float'>\n"
          ],
          "name": "stdout"
        }
      ]
    },
    {
      "cell_type": "markdown",
      "metadata": {
        "id": "if4bzCxQ9IOR"
      },
      "source": [
        "Под **изменяемыми** понимают типы, объекты которых могут быть изменены на месте, как, например, список, который имеет модифицирующие его методы list.append, list.remove"
      ]
    },
    {
      "cell_type": "code",
      "metadata": {
        "colab": {
          "base_uri": "https://localhost:8080/"
        },
        "id": "HFm2kjif1ygt",
        "outputId": "2685981d-bf4c-41ab-df9b-f5abc44bb7a1"
      },
      "source": [
        "nums = list()\n",
        "print(type(nums))\n",
        "print(nums)"
      ],
      "execution_count": null,
      "outputs": [
        {
          "output_type": "stream",
          "text": [
            "<class 'list'>\n",
            "[]\n"
          ],
          "name": "stdout"
        }
      ]
    },
    {
      "cell_type": "code",
      "metadata": {
        "colab": {
          "base_uri": "https://localhost:8080/"
        },
        "id": "C5Q5EAPC9ABa",
        "outputId": "3e6f20b4-5d8c-4c08-a079-f7afafe8ffce"
      },
      "source": [
        "nums.append(4)\n",
        "print(nums)"
      ],
      "execution_count": null,
      "outputs": [
        {
          "output_type": "stream",
          "text": [
            "[1, 1, 4]\n"
          ],
          "name": "stdout"
        }
      ]
    },
    {
      "cell_type": "markdown",
      "metadata": {
        "id": "3-XAmhQ4FJRy"
      },
      "source": [
        "## 1.1. Числа  (int, float, complex)\n",
        "Как уже было упомянуто, числа являются неизменяемыми типами данных. К ним относятся встроенные типы int, float, complex. Конструкторы int (), float () и complex () могут использоваться для создания чисел определенного типа.\n",
        "\n",
        "Все числовые типы (кроме сложных) поддерживают следующие операции, отсортированные по возрастанию приоритета (операции в одном поле имеют одинаковый приоритет; все числовые операции имеют более высокий приоритет, чем операции сравнения):"
      ]
    },
    {
      "cell_type": "markdown",
      "metadata": {
        "id": "bYwBPL2YEkEX"
      },
      "source": [
        "**Таблица 1.**\n",
        "\n",
        "<img src=\"https://github.com/ddvika/Data-Science-School-2020/blob/main/lecture_1/imgs/operations_nums.png?raw=true\" width=700 height=500 />\n"
      ]
    },
    {
      "cell_type": "markdown",
      "metadata": {
        "id": "gchkZUHwGKwd"
      },
      "source": [
        "Если в одном выражении идут операторы одинакового приоритета, то вычисления выполняются слева направо.\n",
        "\n",
        "\n",
        "Исключение составляет оператор **. Он право-ассоциативный. Т.е. в цепочке из двух ** сначала выполнится правый, а потом левый"
      ]
    },
    {
      "cell_type": "code",
      "metadata": {
        "colab": {
          "base_uri": "https://localhost:8080/"
        },
        "id": "IhoIE42uGSO1",
        "outputId": "85207d87-fa5f-4744-9aa5-000946ad7747"
      },
      "source": [
        "3 ** 4 ** 2"
      ],
      "execution_count": null,
      "outputs": [
        {
          "output_type": "execute_result",
          "data": {
            "text/plain": [
              "43046721"
            ]
          },
          "metadata": {
            "tags": []
          },
          "execution_count": 234
        }
      ]
    },
    {
      "cell_type": "code",
      "metadata": {
        "colab": {
          "base_uri": "https://localhost:8080/"
        },
        "id": "CCtw03FKGVVm",
        "outputId": "1089a603-75aa-465f-89bd-cc275b481684"
      },
      "source": [
        "3 ** (4 ** 2)"
      ],
      "execution_count": null,
      "outputs": [
        {
          "output_type": "execute_result",
          "data": {
            "text/plain": [
              "43046721"
            ]
          },
          "metadata": {
            "tags": []
          },
          "execution_count": 235
        }
      ]
    },
    {
      "cell_type": "code",
      "metadata": {
        "colab": {
          "base_uri": "https://localhost:8080/"
        },
        "id": "S-g8SE-ZGYD8",
        "outputId": "33bb7360-2bae-47e8-b13c-3274b8ba5630"
      },
      "source": [
        "(3 ** 4) ** 2"
      ],
      "execution_count": null,
      "outputs": [
        {
          "output_type": "execute_result",
          "data": {
            "text/plain": [
              "6561"
            ]
          },
          "metadata": {
            "tags": []
          },
          "execution_count": 238
        }
      ]
    },
    {
      "cell_type": "markdown",
      "metadata": {
        "id": "ymwJfzMtGrkn"
      },
      "source": [
        "Правила хорошего тона: не составляйте очень сложных выражений и логических выражений; всегда разбивайте их на части. Даже если вы прекрасно знаете приоритеты операций, то программист, читающий ваш код после вас, может знать их плохо; поэтому НЕ пренебрегайте скобками."
      ]
    },
    {
      "cell_type": "markdown",
      "metadata": {
        "id": "PCzhPvM6AboY"
      },
      "source": [
        "### **int()**\n",
        "**Целочисленный тип переменной**\n",
        "\n",
        "Давайте присвоим переменной значение типа int:"
      ]
    },
    {
      "cell_type": "code",
      "metadata": {
        "colab": {
          "base_uri": "https://localhost:8080/"
        },
        "id": "fST_ufGS9AJp",
        "outputId": "3d39fb88-119e-410b-d25b-6cb06fb3cace"
      },
      "source": [
        "x = 5\n",
        "\n",
        "print(x, type(x))"
      ],
      "execution_count": null,
      "outputs": [
        {
          "output_type": "stream",
          "text": [
            "5 <class 'int'>\n"
          ],
          "name": "stdout"
        }
      ]
    },
    {
      "cell_type": "markdown",
      "metadata": {
        "id": "8000LoTsIPsK"
      },
      "source": [
        "C int'овыми переменными можно производить стандартные математические операции -- сложение, вычитание, умножение, деление, возведение в степень, и другие операции, приведенные в Таблице 1.\n",
        "Деление переменных типа int бывает двух типов -- целочисленное (с помощью символа //) и нецелочисленное (символ /). Результатом первого типа деления будет целое число, второго -- дробное. Пример:"
      ]
    },
    {
      "cell_type": "code",
      "metadata": {
        "colab": {
          "base_uri": "https://localhost:8080/"
        },
        "id": "1IcJAU0U9AMi",
        "outputId": "7595d185-27f8-4d66-951a-82f8f1d865bf"
      },
      "source": [
        "a = 4 + 5\n",
        "b = 4 * 5\n",
        "c = 5 // 4\n",
        "d = 5 / 4\n",
        "e = 5**4 # 5 в степени 4\n",
        "f = 5 % 4 # остаток при делении 5 на 4\n",
        "\n",
        "print(a, b, c, d, e, f, sep=', ')"
      ],
      "execution_count": null,
      "outputs": [
        {
          "output_type": "stream",
          "text": [
            "9, 20, 1, 1.25, 625, 1\n"
          ],
          "name": "stdout"
        }
      ]
    },
    {
      "cell_type": "markdown",
      "metadata": {
        "id": "08OgLUnvItQK"
      },
      "source": [
        "Также язык питон удобен в работе с большими числами:\n",
        "Давайте попробуем положить в переменную число 5000000000000000000000000001:"
      ]
    },
    {
      "cell_type": "code",
      "metadata": {
        "colab": {
          "base_uri": "https://localhost:8080/"
        },
        "id": "8pfUfpmvIuNA",
        "outputId": "cd148dd0-148c-493c-9674-2e67d1c2ab5e"
      },
      "source": [
        "x = 5 * 1000000000 * 1000000000 * 10**9 + 1\n",
        "print(x, '|', type(x))"
      ],
      "execution_count": null,
      "outputs": [
        {
          "output_type": "stream",
          "text": [
            "5000000000000000000000000001 | <class 'int'>\n"
          ],
          "name": "stdout"
        }
      ]
    },
    {
      "cell_type": "markdown",
      "metadata": {
        "id": "SshW4_F5IxU_"
      },
      "source": [
        "Как видите, все получилось: полученная переменная типа int и с ней можно работать как с обычными числами. Во многих других языках (например, С++) положить такое большое число в переменную бы не вышло -- возникло бы переполнение."
      ]
    },
    {
      "cell_type": "markdown",
      "metadata": {
        "id": "LyBCqimHKRKe"
      },
      "source": [
        "### **float()**\n",
        "**Тип переменной для хранения дробных чисел в питоне**:"
      ]
    },
    {
      "cell_type": "markdown",
      "metadata": {
        "id": "v971GpzmMVWP"
      },
      "source": [
        "Вещественные числа обычно представляются в виде чисел с плавающей запятой. Числа с плавающей запятой — один из возможных способов представления действительных чисел, который является компромиссом между точностью и диапазоном принимаемых значений.\n",
        "\n",
        "Число с плавающей запятой состоит из набора отдельных двоичных разрядов, условно разделенных на так называемые знак (англ. sign), порядок (англ. exponent) и мантиссу (англ. mantis). В наиболее распространённом формате (стандарт IEEE 754) число с плавающей запятой представляется в виде набора битов, часть из которых кодирует собой мантиссу числа, другая часть — показатель степени, и ещё один бит используется для указания знака числа (0 — если число положительное, 1 — если число отрицательное). При этом порядок записывается как целое число в коде со сдвигом, а мантисса — в нормализованном виде, своей дробной частью в двоичной системе счисления. Вот пример такого числа из\n",
        "16\n",
        " двоичных разрядов:\n",
        "\n",
        "<img src=\"https://github.com/ddvika/Data-Science-School-2020/blob/main/lecture_1/imgs/float16.png?raw=true\" width=400 height=150 /> "
      ]
    },
    {
      "cell_type": "markdown",
      "metadata": {
        "id": "JXB-V5b3M71j"
      },
      "source": [
        "Знак — один бит, указывающий знак всего числа с плавающей точкой. Порядок и мантисса — целые числа, которые вместе со знаком дают представление числа с плавающей запятой в следующем виде:\n",
        "\n",
        "$$(-1)^{S} \\times M \\times B^{E}, $$\n",
        "где $S$ - знак, $B$ - основание, $E$ - порядок, а $M$ - мантисса.\n"
      ]
    },
    {
      "cell_type": "markdown",
      "metadata": {
        "id": "crEmmBtPOHXf"
      },
      "source": [
        "#### **Наиболее популярные форматы, single&double**\n",
        "\n",
        "Два самых популярных формата - float32 и float64. Но если вы собираетесь обучть нейронные сети, то стоит заметить что в последнее время формат float16 играет в обучении большую роль.\n",
        "\n",
        "$$\n",
        "\\begin{array}{|l|l|l|l|l|l|}\n",
        "\\hline \\text { Название  } & \\text { Название в IEEE 754 } & \\text { Основание } & \\text { Бит в мантиссе } & \\text { E_min } & \\text { E_max } \\\\\n",
        "\\hline \\text { float16 } & \\text { half precision } & 2 & 11 & -14 & +15 \\\\\n",
        "\\hline \\text { float32 } & \\text { single precision } & 2 & 23 & -126 & +127 \\\\\n",
        "\\hline \\text { float64 } & \\text { double precision } & 2 & 53 & -1022 & +1023 \\\\\n",
        "\\hline\n",
        "\\end{array}\n",
        "$$\n",
        "\n",
        "\n",
        "**float16** занимает **2 байта**, **float32** занимает **4 байта**, **float64**, или double precision, занимает **8 байт**.\n"
      ]
    },
    {
      "cell_type": "markdown",
      "metadata": {
        "id": "KITF7-XlR27R"
      },
      "source": [
        "Присвоим переменной y значение типа float()"
      ]
    },
    {
      "cell_type": "code",
      "metadata": {
        "colab": {
          "base_uri": "https://localhost:8080/"
        },
        "id": "baQT-owPRuUV",
        "outputId": "6bb62831-4d39-42dd-e550-27641bfae4a1"
      },
      "source": [
        "y = 12.345\n",
        "\n",
        "print(y, '|', type(y))"
      ],
      "execution_count": null,
      "outputs": [
        {
          "output_type": "stream",
          "text": [
            "12.345 | <class 'float'>\n"
          ],
          "name": "stdout"
        }
      ]
    },
    {
      "cell_type": "markdown",
      "metadata": {
        "id": "7NjeTFm-R0cs"
      },
      "source": [
        "С этим типом также можно выполнять арифметические операции (даже целочисленное деление):"
      ]
    },
    {
      "cell_type": "code",
      "metadata": {
        "colab": {
          "base_uri": "https://localhost:8080/"
        },
        "id": "RAapD5LJRwmy",
        "outputId": "412b10b6-4024-4533-fc69-fa0e80ee775f"
      },
      "source": [
        "a = 4.2 + 5.1\n",
        "b = 4.2 * 5.1\n",
        "c = 5.0 / 4.0\n",
        "d = 5.25 // 4.25\n",
        "e = 5.25 ** 4.0\n",
        "\n",
        "print(a, b, c, d, e)"
      ],
      "execution_count": null,
      "outputs": [
        {
          "output_type": "stream",
          "text": [
            "9.3 21.419999999999998 1.25 1.0 759.69140625\n"
          ],
          "name": "stdout"
        }
      ]
    },
    {
      "cell_type": "code",
      "metadata": {
        "colab": {
          "base_uri": "https://localhost:8080/"
        },
        "id": "l6VFKHAgR-SA",
        "outputId": "072f441a-4025-450a-b2cf-5bb3e8631c2b"
      },
      "source": [
        "# если знаков после запятой слишком много - можно просто округлить его до нужного количества (в этом случае 2)\n",
        "round(b, 2)"
      ],
      "execution_count": null,
      "outputs": [
        {
          "output_type": "execute_result",
          "data": {
            "text/plain": [
              "21.42"
            ]
          },
          "metadata": {
            "tags": []
          },
          "execution_count": 245
        }
      ]
    },
    {
      "cell_type": "markdown",
      "metadata": {
        "id": "lnxhkSd-SIV0"
      },
      "source": [
        "Переменную типа int можно привести к типу float"
      ]
    },
    {
      "cell_type": "code",
      "metadata": {
        "colab": {
          "base_uri": "https://localhost:8080/"
        },
        "id": "jxYEgWymSF9A",
        "outputId": "c4e22f62-e4b7-4675-b486-f8f3542cdc03"
      },
      "source": [
        "a = 5\n",
        "print(a, type(a))\n",
        "# тут происходит преобразование из целочисленной переменной в дробную\n",
        "a = float(a)\n",
        "\n",
        "print(a, type(a))"
      ],
      "execution_count": null,
      "outputs": [
        {
          "output_type": "stream",
          "text": [
            "5 <class 'int'>\n",
            "5.0 <class 'float'>\n"
          ],
          "name": "stdout"
        }
      ]
    },
    {
      "cell_type": "markdown",
      "metadata": {
        "id": "JK_6uIQ_LvHr"
      },
      "source": [
        "#### **Точность и память**"
      ]
    },
    {
      "cell_type": "markdown",
      "metadata": {
        "id": "tspfeoUhSZXN"
      },
      "source": [
        "Относительная точность для чисел типа single precision примерно $10^{-7}-10^{-8}$, тогда как для чисел типа double precision это $10^{-14} - 10 ^{-16}$.\n",
        "Для удобной работы с разными типами данных советую пользоваться библиотекой **numpy** (документация по работе с data types: https://numpy.org/doc/stable/user/basics.types.html)"
      ]
    },
    {
      "cell_type": "code",
      "metadata": {
        "colab": {
          "base_uri": "https://localhost:8080/"
        },
        "id": "EAx9f-IrIuQ9",
        "outputId": "0264f426-48a3-45f6-e844-b5861a3293a6"
      },
      "source": [
        "import numpy as np\n",
        "import random\n",
        "#c = random.random()\n",
        "#print(c)\n",
        "c = np.float32(0.925924589693)\n",
        "print(c)\n",
        "a = np.float32(8.9)\n",
        "b = np.float32(c / a)\n",
        "print('{0:10.16f}'.format(b))\n",
        "print(a * b - c)"
      ],
      "execution_count": null,
      "outputs": [
        {
          "output_type": "stream",
          "text": [
            "0.9259246\n",
            "0.1040364727377892\n",
            "-5.9604645e-08\n"
          ],
          "name": "stdout"
        }
      ]
    },
    {
      "cell_type": "markdown",
      "metadata": {
        "id": "y0mQUFZBRI3J"
      },
      "source": [
        "**Пример с квадратным корнем**"
      ]
    },
    {
      "cell_type": "code",
      "metadata": {
        "colab": {
          "base_uri": "https://localhost:8080/"
        },
        "id": "I_7M1UQTJhlJ",
        "outputId": "a4c54e92-530d-49ac-ee28-3c2e64376d84"
      },
      "source": [
        "a = np.float32(5.0)\n",
        "b = np.sqrt(a)\n",
        "print('{0:10.16f}'.format(b ** 2 - a))"
      ],
      "execution_count": null,
      "outputs": [
        {
          "output_type": "stream",
          "text": [
            "0.0000001468220603\n"
          ],
          "name": "stdout"
        }
      ]
    },
    {
      "cell_type": "markdown",
      "metadata": {
        "id": "fDrefeoeRQJq"
      },
      "source": [
        "**Пример с экспонентой**"
      ]
    },
    {
      "cell_type": "code",
      "metadata": {
        "colab": {
          "base_uri": "https://localhost:8080/"
        },
        "id": "IVxj9IKDJhpq",
        "outputId": "c3a2321f-b585-4897-b83f-1bbb3d0260c2"
      },
      "source": [
        "a = np.array(2.28827272710, dtype=np.float32)\n",
        "b = np.exp(a)\n",
        "print(np.log(b) - a)"
      ],
      "execution_count": null,
      "outputs": [
        {
          "output_type": "stream",
          "text": [
            "0.0\n"
          ],
          "name": "stdout"
        }
      ]
    },
    {
      "cell_type": "markdown",
      "metadata": {
        "id": "CFapGn6zRXKZ"
      },
      "source": [
        "**Вывод по числам с плавающей запятой**\n",
        "* Вы должны быть очень осторожны с плавающей запятой, так как она может дать вам неправильные ответы из-за ошибок округления.\n",
        "* Для многих стандартных алгоритмов стабильность хорошо изучена, и проблемы могут быть легко обнаружены."
      ]
    },
    {
      "cell_type": "markdown",
      "metadata": {
        "id": "02428lWLTmnq"
      },
      "source": [
        "## 1.2. bool\n",
        "\n",
        "**Логический тип переменной**: \n",
        "\n",
        "переменная типа bool может принимать два значения: `True` и `False`:"
      ]
    },
    {
      "cell_type": "code",
      "metadata": {
        "colab": {
          "base_uri": "https://localhost:8080/"
        },
        "id": "OTsZsaIEJhuW",
        "outputId": "a087a880-0a6f-4745-d8ce-532a124f6b39"
      },
      "source": [
        "a = True\n",
        "b = False\n",
        "\n",
        "# появился еще один аргумент: '|'  <- туда можно поставить любой текст, в этом примере для удобства отображения\n",
        "print(a, '|', type(a))\n",
        "\n",
        "print(b, '|', type(b))"
      ],
      "execution_count": null,
      "outputs": [
        {
          "output_type": "stream",
          "text": [
            "True | <class 'bool'>\n",
            "False | <class 'bool'>\n"
          ],
          "name": "stdout"
        }
      ]
    },
    {
      "cell_type": "markdown",
      "metadata": {
        "id": "z9awmq3wTvM8"
      },
      "source": [
        "У типа bool существует связь с типом int -- переменная со значением True соответствует int'овой переменной со значением 1, а переменная со значением False -- int'овой переменной со значением 0.\n",
        "Давайте в этом убедимся, попробовав сложить значения переменных a и b:"
      ]
    },
    {
      "cell_type": "code",
      "metadata": {
        "colab": {
          "base_uri": "https://localhost:8080/"
        },
        "id": "cA2YYei_1y11",
        "outputId": "69db3aa7-1eb2-45e2-af43-ce2a252ba103"
      },
      "source": [
        "print(a + b)\n",
        "print(a + a)\n",
        "print(b + b)"
      ],
      "execution_count": null,
      "outputs": [
        {
          "output_type": "stream",
          "text": [
            "1\n",
            "2\n",
            "0\n"
          ],
          "name": "stdout"
        }
      ]
    },
    {
      "cell_type": "markdown",
      "metadata": {
        "id": "QWN7Ua5mT03U"
      },
      "source": [
        "Ну и просто приведем a и b к типу int:"
      ]
    },
    {
      "cell_type": "code",
      "metadata": {
        "colab": {
          "base_uri": "https://localhost:8080/"
        },
        "id": "DHI18yVWTx1M",
        "outputId": "abcccabd-952f-4dac-9a78-25e282169085"
      },
      "source": [
        "print(int(a), int(b))"
      ],
      "execution_count": null,
      "outputs": [
        {
          "output_type": "stream",
          "text": [
            "1 0\n"
          ],
          "name": "stdout"
        }
      ]
    },
    {
      "cell_type": "code",
      "metadata": {
        "colab": {
          "base_uri": "https://localhost:8080/"
        },
        "id": "has4p0u1Tx8R",
        "outputId": "7f75d17c-eb7f-4473-a811-8aa4714cab3f"
      },
      "source": [
        "print(True and False, '\\n')\n",
        "\n",
        "print(True or False, '\\n')\n",
        "\n",
        "print(not False, '\\n')"
      ],
      "execution_count": null,
      "outputs": [
        {
          "output_type": "stream",
          "text": [
            "False \n",
            "\n",
            "True \n",
            "\n",
            "True \n",
            "\n"
          ],
          "name": "stdout"
        }
      ]
    },
    {
      "cell_type": "code",
      "metadata": {
        "colab": {
          "base_uri": "https://localhost:8080/"
        },
        "id": "3qwz0e78TyDa",
        "outputId": "e996b1fa-3284-4f72-9eb9-d33199cd9b54"
      },
      "source": [
        "# в переменную a будет записан результат сравнения 2 и 3. т.е. False, потому\n",
        "# что (2==3) неверно. < это оператор сравнения, в нашем случае вернет True\n",
        "a = (2 == 3)\n",
        "b = (4 < 5)\n",
        "\n",
        "print(a, '|', type(a))\n",
        "print(b, '|', type(b))"
      ],
      "execution_count": null,
      "outputs": [
        {
          "output_type": "stream",
          "text": [
            "False | <class 'bool'>\n",
            "True | <class 'bool'>\n"
          ],
          "name": "stdout"
        }
      ]
    },
    {
      "cell_type": "code",
      "metadata": {
        "colab": {
          "base_uri": "https://localhost:8080/"
        },
        "id": "h7mOUZMoTyKZ",
        "outputId": "e4de8c50-ab43-4fff-d45e-7e2062ecab10"
      },
      "source": [
        "# более сложные сравнения алгебры-логики, для определения порядка выполнения \n",
        "# используйте скобки, как в обычной математике\n",
        "not_b = not b\n",
        "a_and_not_b = a and not_b\n",
        "a or a_and_not_b"
      ],
      "execution_count": null,
      "outputs": [
        {
          "output_type": "execute_result",
          "data": {
            "text/plain": [
              "False"
            ]
          },
          "metadata": {
            "tags": []
          },
          "execution_count": 255
        }
      ]
    },
    {
      "cell_type": "markdown",
      "metadata": {
        "id": "WoNOiU_7UK4V"
      },
      "source": [
        "## 1.3. None\n",
        "**ничего/NaN**\n",
        "\n",
        "NaN — это аббревиатура от фразы \"not a number\". NaN является результатом арифметических операций, если во время их выполнения произошла ошибка (примеры см. ниже). В IEEE 754 NaN представлен как число, в котором все двоичные разряды порядка — единицы, а мантисса не нулевая."
      ]
    },
    {
      "cell_type": "markdown",
      "metadata": {
        "id": "GrJXBr4PUiOx"
      },
      "source": [
        "<img src=\"https://github.com/ddvika/Data-Science-School-2020/blob/main/lecture_1/imgs/nan.png?raw=true\" width=500 height=120 /> \n",
        "\n",
        "Стоит отметить что любая операция с NaN возвращает NaN или же ошибку"
      ]
    },
    {
      "cell_type": "code",
      "metadata": {
        "colab": {
          "base_uri": "https://localhost:8080/"
        },
        "id": "RfcTsySJTyRm",
        "outputId": "88660a28-ae2f-4082-9e86-cf759f9f5c89"
      },
      "source": [
        "x = None\n",
        "print(x, type(x))"
      ],
      "execution_count": null,
      "outputs": [
        {
          "output_type": "stream",
          "text": [
            "None <class 'NoneType'>\n"
          ],
          "name": "stdout"
        }
      ]
    },
    {
      "cell_type": "code",
      "metadata": {
        "colab": {
          "base_uri": "https://localhost:8080/",
          "height": 181
        },
        "id": "st63QMlZVAEj",
        "outputId": "680f4bf6-18b2-43cd-c85e-2c880dcba348"
      },
      "source": [
        "# Убедимся, что None нельзя складывать с числами\n",
        "x + 1"
      ],
      "execution_count": null,
      "outputs": [
        {
          "output_type": "error",
          "ename": "TypeError",
          "evalue": "ignored",
          "traceback": [
            "\u001b[0;31m---------------------------------------------------------------------------\u001b[0m",
            "\u001b[0;31mTypeError\u001b[0m                                 Traceback (most recent call last)",
            "\u001b[0;32m<ipython-input-257-b9af31463989>\u001b[0m in \u001b[0;36m<module>\u001b[0;34m()\u001b[0m\n\u001b[1;32m      1\u001b[0m \u001b[0;31m# Убедимся, что None нельзя складывать с числами\u001b[0m\u001b[0;34m\u001b[0m\u001b[0;34m\u001b[0m\u001b[0;34m\u001b[0m\u001b[0m\n\u001b[0;32m----> 2\u001b[0;31m \u001b[0mx\u001b[0m \u001b[0;34m+\u001b[0m \u001b[0;36m1\u001b[0m\u001b[0;34m\u001b[0m\u001b[0;34m\u001b[0m\u001b[0m\n\u001b[0m",
            "\u001b[0;31mTypeError\u001b[0m: unsupported operand type(s) for +: 'NoneType' and 'int'"
          ]
        }
      ]
    },
    {
      "cell_type": "code",
      "metadata": {
        "colab": {
          "base_uri": "https://localhost:8080/",
          "height": 181
        },
        "id": "eQS08i_oTyYk",
        "outputId": "5ae9b715-f3f5-4e8f-81c1-e86a5cd2019b"
      },
      "source": [
        "# Убедимся, что None нельзя привести к другому типу:\n",
        "int(None)"
      ],
      "execution_count": null,
      "outputs": [
        {
          "output_type": "error",
          "ename": "TypeError",
          "evalue": "ignored",
          "traceback": [
            "\u001b[0;31m---------------------------------------------------------------------------\u001b[0m",
            "\u001b[0;31mTypeError\u001b[0m                                 Traceback (most recent call last)",
            "\u001b[0;32m<ipython-input-259-49acae4228dc>\u001b[0m in \u001b[0;36m<module>\u001b[0;34m()\u001b[0m\n\u001b[1;32m      1\u001b[0m \u001b[0;31m# Убедимся, что None нельзя привести к другому типу:\u001b[0m\u001b[0;34m\u001b[0m\u001b[0;34m\u001b[0m\u001b[0;34m\u001b[0m\u001b[0m\n\u001b[0;32m----> 2\u001b[0;31m \u001b[0mint\u001b[0m\u001b[0;34m(\u001b[0m\u001b[0;32mNone\u001b[0m\u001b[0;34m)\u001b[0m\u001b[0;34m\u001b[0m\u001b[0;34m\u001b[0m\u001b[0m\n\u001b[0m",
            "\u001b[0;31mTypeError\u001b[0m: int() argument must be a string, a bytes-like object or a number, not 'NoneType'"
          ]
        }
      ]
    },
    {
      "cell_type": "markdown",
      "metadata": {
        "id": "2qRxAWVpWcTN"
      },
      "source": [
        "## 1.4. str()\n",
        "**строковые данные**\n",
        "\n",
        "Строка представляет собой последовательность символов. Мы можем использовать одинарные или двойные кавычки для создания строки.  Многострочные строки можно обозначить тройными кавычками, ''' или \"\"\":"
      ]
    },
    {
      "cell_type": "code",
      "metadata": {
        "colab": {
          "base_uri": "https://localhost:8080/"
        },
        "id": "RxFT1WN5VP4V",
        "outputId": "6bac47b0-3486-4166-a30e-ac9d5c385464"
      },
      "source": [
        "s = 'Простая строка'\n",
        "s = \"Простая строка\"\n",
        "s = '''многострочная\n",
        "строка'''\n",
        "print(s, type(s))"
      ],
      "execution_count": null,
      "outputs": [
        {
          "output_type": "stream",
          "text": [
            "многострочная\n",
            "строка <class 'str'>\n"
          ],
          "name": "stdout"
        }
      ]
    },
    {
      "cell_type": "code",
      "metadata": {
        "colab": {
          "base_uri": "https://localhost:8080/"
        },
        "id": "6gfjmD-EjgO8",
        "outputId": "5e80c025-053d-43f8-aa09-db35db1b4b80"
      },
      "source": [
        "text = \"Hello, Python!\"\n",
        "\n",
        "print(text[0]) # Выводит первый символ\n",
        "print(text[0:5]) # Выводит подстроку text от 0 символа до 5 (включительно с нулевым, исключая пятый)\n",
        "print(text[4:10]) # Выведет строку от 4 символа до 10 (включая четвертый, исключая 10)\n",
        "print(text[0:14]) # Выведет всю строку\n",
        "print(text[7:]) # Выведет строку с 7 символа до конца\n",
        "print(text[:5]) # Выведет строку с начала до 5 символа. Аналогично print text[0:5]\n",
        "print(text[:]) # Выведет всю строку\n",
        "print(text[-1]) # Выводит последний символ\n",
        "print(text[-1:-14]) # Не сработает, выведет пустую строку\n",
        "print(text[::2]) # Третий аргумент - шаг. Выведет каждый второй символ\n",
        "print(text[::-1]) # Шаг отрицательный. Выведет фразу наоборот"
      ],
      "execution_count": null,
      "outputs": [
        {
          "output_type": "stream",
          "text": [
            "H\n",
            "Hello\n",
            "o, Pyt\n",
            "Hello, Python!\n",
            "Python!\n",
            "Hello\n",
            "Hello, Python!\n",
            "!\n",
            "\n",
            "Hlo yhn\n",
            "!nohtyP ,olleH\n"
          ],
          "name": "stdout"
        }
      ]
    },
    {
      "cell_type": "markdown",
      "metadata": {
        "id": "5bWVQpKjkKX0"
      },
      "source": [
        "## 1.5. tuple()\n",
        "**кортеж**\n",
        "\n",
        "Кортеж состоит из ряда значений, разделенных запятыми, заключенными в круглые скобки (x,y). Напомню что кортежи являются неизменяемым типом данных. То есть, кортежи можно рассматривать как списки доступные только для чтения."
      ]
    },
    {
      "cell_type": "code",
      "metadata": {
        "colab": {
          "base_uri": "https://localhost:8080/"
        },
        "id": "5O7YvJVYkJa_",
        "outputId": "ef5a805c-a980-4db3-ee55-5c5992b5584b"
      },
      "source": [
        "my_tuple =(True, 786, 3.14, 'text', 70.2)\n",
        "second_tuple =(123, 'text')\n",
        " \n",
        "print(my_tuple) # Печатает весь кортеж\n",
        "print(my_tuple[0]) # Печатает первый элемент\n",
        "print(second_tuple * 2) # Печатает удвоенный кортеж\n",
        "print(my_tuple + second_tuple) # Печатает объединенные кортежи"
      ],
      "execution_count": null,
      "outputs": [
        {
          "output_type": "stream",
          "text": [
            "(True, 786, 3.14, 'text', 70.2)\n",
            "True\n",
            "(123, 'text', 123, 'text')\n",
            "(True, 786, 3.14, 'text', 70.2, 123, 'text')\n"
          ],
          "name": "stdout"
        }
      ]
    },
    {
      "cell_type": "markdown",
      "metadata": {
        "id": "c4VdcYjXkwOl"
      },
      "source": [
        "Если у вас нет необходимости изменять элементы списка (о списках поговорим ниже), то для экономии места в памяти лучше использовать тип данных кортеж."
      ]
    },
    {
      "cell_type": "code",
      "metadata": {
        "id": "tvKtPVbKkJjA"
      },
      "source": [
        "t = (5, 'word', 11.)"
      ],
      "execution_count": null,
      "outputs": []
    },
    {
      "cell_type": "markdown",
      "metadata": {
        "id": "Dmc3zsVQlxFN"
      },
      "source": [
        "Мы можем использовать оператор [] для извлечения элемента (такая операция называется «доступ по индексу») или диапазона элементов (такая операция назвается «извлечение среза») из списка. В Python индексация начинается с нуля:"
      ]
    },
    {
      "cell_type": "code",
      "metadata": {
        "colab": {
          "base_uri": "https://localhost:8080/"
        },
        "id": "im7QDxmalyak",
        "outputId": "3e977e7b-58ba-4fa4-bbab-f5cce10f1ced"
      },
      "source": [
        "print(t[0])\n",
        "print(t[0:2])"
      ],
      "execution_count": null,
      "outputs": [
        {
          "output_type": "stream",
          "text": [
            "5\n",
            "(5, 'word')\n"
          ],
          "name": "stdout"
        }
      ]
    },
    {
      "cell_type": "markdown",
      "metadata": {
        "id": "Tew5yoFFk3De"
      },
      "source": [
        "Давайте попробуем изменить элемент в кортеже"
      ]
    },
    {
      "cell_type": "code",
      "metadata": {
        "colab": {
          "base_uri": "https://localhost:8080/",
          "height": 164
        },
        "id": "Zr7x7iFrjgWh",
        "outputId": "3a498590-0b1e-459c-db2b-7224a529579e"
      },
      "source": [
        "t[0] = 7 # Приводит к ошибке, т.к. кортежи неизменяемы"
      ],
      "execution_count": null,
      "outputs": [
        {
          "output_type": "error",
          "ename": "TypeError",
          "evalue": "ignored",
          "traceback": [
            "\u001b[0;31m---------------------------------------------------------------------------\u001b[0m",
            "\u001b[0;31mTypeError\u001b[0m                                 Traceback (most recent call last)",
            "\u001b[0;32m<ipython-input-265-5b388b6e589d>\u001b[0m in \u001b[0;36m<module>\u001b[0;34m()\u001b[0m\n\u001b[0;32m----> 1\u001b[0;31m \u001b[0mt\u001b[0m\u001b[0;34m[\u001b[0m\u001b[0;36m0\u001b[0m\u001b[0;34m]\u001b[0m \u001b[0;34m=\u001b[0m \u001b[0;36m7\u001b[0m \u001b[0;31m# Приводит к ошибке, т.к. кортежи неизменяемы\u001b[0m\u001b[0;34m\u001b[0m\u001b[0;34m\u001b[0m\u001b[0m\n\u001b[0m",
            "\u001b[0;31mTypeError\u001b[0m: 'tuple' object does not support item assignment"
          ]
        }
      ]
    },
    {
      "cell_type": "markdown",
      "metadata": {
        "id": "Sakm0bgLlb_Q"
      },
      "source": [
        "## 1.6. list()\n",
        "**массив, список, лист**\n",
        "\n",
        "Список представляет собой упорядоченную последовательность элементов. Он очень гибкий и является одним из самых используемых типов в Python. Элементы списка не обязательно должны быть одного типа.\n",
        "\n",
        "Объявить список довольно просто. Внутрь квадратных скобок помещаются элементы списка, разделённые запятой:"
      ]
    },
    {
      "cell_type": "markdown",
      "metadata": {
        "id": "eA24XkTGmc-j"
      },
      "source": [
        "обьявить переменную являющуюся листом можно несколькими способами:"
      ]
    },
    {
      "cell_type": "code",
      "metadata": {
        "colab": {
          "base_uri": "https://localhost:8080/"
        },
        "id": "c9dUEK_1mkZ1",
        "outputId": "80b780d5-445b-4f34-c1d4-8bbc66e1fba6"
      },
      "source": [
        "a = list() #1ый способ\n",
        "print(type(a))\n",
        "\n",
        "a = [] #2ой способ\n",
        "print(type(a))"
      ],
      "execution_count": null,
      "outputs": [
        {
          "output_type": "stream",
          "text": [
            "<class 'list'>\n",
            "<class 'list'>\n"
          ],
          "name": "stdout"
        }
      ]
    },
    {
      "cell_type": "code",
      "metadata": {
        "id": "9JbbWMWTjge5"
      },
      "source": [
        "a = [1, 2.2, 'word', [3,4]]"
      ],
      "execution_count": null,
      "outputs": []
    },
    {
      "cell_type": "code",
      "metadata": {
        "colab": {
          "base_uri": "https://localhost:8080/"
        },
        "id": "mBkYdfbfmElj",
        "outputId": "1ffc8b38-00a2-4d04-e20a-e85e49137f8c"
      },
      "source": [
        "print(a[0]) #выведем элемент под индексом 0 списка а"
      ],
      "execution_count": null,
      "outputs": [
        {
          "output_type": "stream",
          "text": [
            "1\n"
          ],
          "name": "stdout"
        }
      ]
    },
    {
      "cell_type": "markdown",
      "metadata": {
        "id": "0TV1mL6Il_nY"
      },
      "source": [
        "Списки — это изменяемые объекты, поэтому их элементы могут изменяться, или же может меняться их порядок."
      ]
    },
    {
      "cell_type": "code",
      "metadata": {
        "colab": {
          "base_uri": "https://localhost:8080/"
        },
        "id": "qB8LuON7jgnB",
        "outputId": "c44f659b-4d00-4a4e-b01a-bd2150a23783"
      },
      "source": [
        "my_list = ['один', 'два', 'три', 'четыре', 'пять']\n",
        "my_list[2] = 'ноль'\n",
        "print(my_list)"
      ],
      "execution_count": null,
      "outputs": [
        {
          "output_type": "stream",
          "text": [
            "['один', 'два', 'ноль', 'четыре', 'пять']\n"
          ],
          "name": "stdout"
        }
      ]
    },
    {
      "cell_type": "markdown",
      "metadata": {
        "id": "VOCkQwconyIC"
      },
      "source": [
        "Если индекс — отрицательное число, то он будет считаться с последнего элемента."
      ]
    },
    {
      "cell_type": "code",
      "metadata": {
        "colab": {
          "base_uri": "https://localhost:8080/"
        },
        "id": "hXXyEgG-nzAb",
        "outputId": "7244e35e-f765-468d-9987-1602ad6d1bea"
      },
      "source": [
        "elem  =  my_list[-1]\n",
        "print(elem)"
      ],
      "execution_count": null,
      "outputs": [
        {
          "output_type": "stream",
          "text": [
            "пять\n"
          ],
          "name": "stdout"
        }
      ]
    },
    {
      "cell_type": "markdown",
      "metadata": {
        "id": "q2vnFVm_oCzF"
      },
      "source": [
        "Можно получить срез списка с помощью оператора (:):"
      ]
    },
    {
      "cell_type": "code",
      "metadata": {
        "colab": {
          "base_uri": "https://localhost:8080/"
        },
        "id": "NMhwMz6roFWx",
        "outputId": "e7cc11cf-2b95-41dc-99d1-ba5f2a56e52b"
      },
      "source": [
        "my_list = ['один', 'два', 'три', 'четыре', 'пять']\n",
        "print(my_list[1:3])"
      ],
      "execution_count": null,
      "outputs": [
        {
          "output_type": "stream",
          "text": [
            "['два', 'три']\n"
          ],
          "name": "stdout"
        }
      ]
    },
    {
      "cell_type": "markdown",
      "metadata": {
        "id": "UIGqTYx5oKHw"
      },
      "source": [
        "Если убрать первое число, от срез будет начинаться с первого элемента, а если второе — с последнего.\n",
        "\n",
        "Если убрать числа и оставить только двоеточие, то скопируется весь список."
      ]
    },
    {
      "cell_type": "code",
      "metadata": {
        "colab": {
          "base_uri": "https://localhost:8080/"
        },
        "id": "DQgYDtb-oL-K",
        "outputId": "4e6f46af-cf52-4e60-f1d2-16d66e683c58"
      },
      "source": [
        "my_list = ['один', 'два', 'три', 'четыре', 'пять']\n",
        "print(my_list[1:3])\n",
        "print(my_list[1:])\n",
        "print(my_list[:3])\n",
        "print(my_list[:])"
      ],
      "execution_count": null,
      "outputs": [
        {
          "output_type": "stream",
          "text": [
            "['два', 'три']\n",
            "['два', 'три', 'четыре', 'пять']\n",
            "['один', 'два', 'три']\n",
            "['один', 'два', 'три', 'четыре', 'пять']\n"
          ],
          "name": "stdout"
        }
      ]
    },
    {
      "cell_type": "markdown",
      "metadata": {
        "id": "nHHm-nsUoQVX"
      },
      "source": [
        "Поскольку списки изменяемые, менять элементы можно с помощью оператора среза:"
      ]
    },
    {
      "cell_type": "code",
      "metadata": {
        "colab": {
          "base_uri": "https://localhost:8080/"
        },
        "id": "aQiI6LuBoRNa",
        "outputId": "a31d3378-2636-49ee-d978-f772219b51c1"
      },
      "source": [
        "my_list = ['один', 'два', 'три', 'четыре', 'пять']\n",
        "my_list[1:3]  =  ['Привет',  'Мир']\n",
        "print(my_list)"
      ],
      "execution_count": null,
      "outputs": [
        {
          "output_type": "stream",
          "text": [
            "['один', 'Привет', 'Мир', 'четыре', 'пять']\n"
          ],
          "name": "stdout"
        }
      ]
    },
    {
      "cell_type": "markdown",
      "metadata": {
        "id": "JbXv7C-9mx1P"
      },
      "source": [
        "#### **Некоторые методы листа**"
      ]
    },
    {
      "cell_type": "markdown",
      "metadata": {
        "id": "XQ-nOb9Am5nW"
      },
      "source": [
        "- Можно положить элемент в конец массива при помощи метода **append()**"
      ]
    },
    {
      "cell_type": "code",
      "metadata": {
        "colab": {
          "base_uri": "https://localhost:8080/"
        },
        "id": "U2bybtKvm73x",
        "outputId": "d86fc608-c090-4d0b-fc09-950a46958927"
      },
      "source": [
        "a = [1,2,3]\n",
        "a.append(100)\n",
        "print(a)"
      ],
      "execution_count": null,
      "outputs": [
        {
          "output_type": "stream",
          "text": [
            "[1, 2, 3, 100]\n"
          ],
          "name": "stdout"
        }
      ]
    },
    {
      "cell_type": "markdown",
      "metadata": {
        "id": "P5wUimXnnG0h"
      },
      "source": [
        "- можно удалить элемент с конца массива при помощи методы **pop()**"
      ]
    },
    {
      "cell_type": "code",
      "metadata": {
        "colab": {
          "base_uri": "https://localhost:8080/"
        },
        "id": "hIn3jcVMm8EP",
        "outputId": "b73b3205-1218-4568-ae1e-e238f55143a6"
      },
      "source": [
        "a.pop()\n",
        "print(a)"
      ],
      "execution_count": null,
      "outputs": [
        {
          "output_type": "stream",
          "text": [
            "[1, 2, 3]\n"
          ],
          "name": "stdout"
        }
      ]
    },
    {
      "cell_type": "markdown",
      "metadata": {
        "id": "-elHDGiloz88"
      },
      "source": [
        "- Элемент можно удалить с помощью метода **remove()**"
      ]
    },
    {
      "cell_type": "code",
      "metadata": {
        "colab": {
          "base_uri": "https://localhost:8080/"
        },
        "id": "IzK1dwZpo1zo",
        "outputId": "445e185a-8b0d-4514-cfaf-46746a3857fd"
      },
      "source": [
        "my_list = ['один', 'два', 'три', 'четыре', 'пять']\n",
        "my_list.remove('два')\n",
        "print(my_list)"
      ],
      "execution_count": null,
      "outputs": [
        {
          "output_type": "stream",
          "text": [
            "['один', 'три', 'четыре', 'пять']\n"
          ],
          "name": "stdout"
        }
      ]
    },
    {
      "cell_type": "markdown",
      "metadata": {
        "id": "SVCZYPTKo3KY"
      },
      "source": [
        "- Оператор **del** можно использовать для тех же целей"
      ]
    },
    {
      "cell_type": "code",
      "metadata": {
        "colab": {
          "base_uri": "https://localhost:8080/"
        },
        "id": "6szxMoRio58c",
        "outputId": "e57197e4-d43e-487d-b7b6-084f91d12324"
      },
      "source": [
        "my_list = ['один', 'два', 'три', 'четыре', 'пять']\n",
        "del my_list[2]\n",
        "print(my_list)"
      ],
      "execution_count": null,
      "outputs": [
        {
          "output_type": "stream",
          "text": [
            "['один', 'два', 'четыре', 'пять']\n"
          ],
          "name": "stdout"
        }
      ]
    },
    {
      "cell_type": "markdown",
      "metadata": {
        "id": "iwzkMhh6oWfy"
      },
      "source": [
        " - Метод **insert()** можно использовать, чтобы вставить элемент в список:"
      ]
    },
    {
      "cell_type": "code",
      "metadata": {
        "colab": {
          "base_uri": "https://localhost:8080/"
        },
        "id": "97-Sm-KMm8Pk",
        "outputId": "f2122f76-a586-4283-ac10-897f90a5f5bb"
      },
      "source": [
        "a.insert(1,'Привет')\n",
        "print(a)"
      ],
      "execution_count": null,
      "outputs": [
        {
          "output_type": "stream",
          "text": [
            "[1, 'Привет', 2, 3]\n"
          ],
          "name": "stdout"
        }
      ]
    },
    {
      "cell_type": "markdown",
      "metadata": {
        "id": "whi8XIPnogcD"
      },
      "source": [
        "- Для сортировки списка нужно использовать метод **sort()**"
      ]
    },
    {
      "cell_type": "code",
      "metadata": {
        "colab": {
          "base_uri": "https://localhost:8080/"
        },
        "id": "fHKQb-uxm8ax",
        "outputId": "38ce9af5-a848-430d-b10a-ff5620ff86cb"
      },
      "source": [
        "my_list = ['cde', 'fgh', 'abc', 'klm', 'opq']\n",
        "list_2 = [3, 5, 2, 4, 1]\n",
        "my_list.sort()\n",
        "list_2.sort()\n",
        "print(my_list)\n",
        "print(list_2)"
      ],
      "execution_count": null,
      "outputs": [
        {
          "output_type": "stream",
          "text": [
            "['abc', 'cde', 'fgh', 'klm', 'opq']\n",
            "[1, 2, 3, 4, 5]\n"
          ],
          "name": "stdout"
        }
      ]
    },
    {
      "cell_type": "markdown",
      "metadata": {
        "id": "5v7EVUDSomDe"
      },
      "source": [
        "- Можно развернуть порядок элементов в списке с помощью метода **reverse()**"
      ]
    },
    {
      "cell_type": "code",
      "metadata": {
        "colab": {
          "base_uri": "https://localhost:8080/"
        },
        "id": "Jq3MLHaDjfwE",
        "outputId": "c2bdf888-da0e-483f-95bc-e9d78895cc33"
      },
      "source": [
        "my_list = [1, 2, 3, 4, 5]\n",
        "my_list.reverse()\n",
        "print(my_list)"
      ],
      "execution_count": null,
      "outputs": [
        {
          "output_type": "stream",
          "text": [
            "[5, 4, 3, 2, 1]\n"
          ],
          "name": "stdout"
        }
      ]
    },
    {
      "cell_type": "markdown",
      "metadata": {
        "id": "X4tWD6XhoqW4"
      },
      "source": [
        "- Метод **index()** можно использовать для получения индекса элемента:"
      ]
    },
    {
      "cell_type": "code",
      "metadata": {
        "colab": {
          "base_uri": "https://localhost:8080/"
        },
        "id": "rJ1Zjk7AooE7",
        "outputId": "7911dfa9-538c-4fb7-e27f-ea7f1efe3f4e"
      },
      "source": [
        "my_list = ['один', 'два', 'три', 'четыре', 'пять']\n",
        "print(my_list.index('два'))"
      ],
      "execution_count": null,
      "outputs": [
        {
          "output_type": "stream",
          "text": [
            "1\n"
          ],
          "name": "stdout"
        }
      ]
    },
    {
      "cell_type": "markdown",
      "metadata": {
        "id": "z_XFYnWlvt0O"
      },
      "source": [
        "Тем не менее, со списками нужно быть осторожным. Предположим, что вы хотите создать список из десяти пустых списков. Python позволяет сделать это простой и изящной конструкцией -- \"размножением\" списка при помощи оператора умножения, -- но у неё есть коварный нюанс. Как вы думаете, что выведется на экран в ячейке ниже?"
      ]
    },
    {
      "cell_type": "code",
      "metadata": {
        "colab": {
          "base_uri": "https://localhost:8080/"
        },
        "id": "3fw3ESehIbzf",
        "outputId": "38fe2d2c-ba5a-49a1-babe-b19b324d2f9e"
      },
      "source": [
        "element = []\n",
        "repeated_list = [element] * 12\n",
        "repeated_list"
      ],
      "execution_count": null,
      "outputs": [
        {
          "output_type": "execute_result",
          "data": {
            "text/plain": [
              "[[], [], [], [], [], [], [], [], [], [], [], []]"
            ]
          },
          "metadata": {
            "tags": []
          },
          "execution_count": 284
        }
      ]
    },
    {
      "cell_type": "code",
      "metadata": {
        "colab": {
          "base_uri": "https://localhost:8080/"
        },
        "id": "uieREEzGvvHb",
        "outputId": "f2919037-9dac-4c5b-8749-4e89a3c7a30f"
      },
      "source": [
        "repeated_list[0].append(1)\n",
        "repeated_list"
      ],
      "execution_count": null,
      "outputs": [
        {
          "output_type": "execute_result",
          "data": {
            "text/plain": [
              "[[1], [1], [1], [1], [1], [1], [1], [1], [1], [1], [1], [1]]"
            ]
          },
          "metadata": {
            "tags": []
          },
          "execution_count": 285
        }
      ]
    },
    {
      "cell_type": "code",
      "metadata": {
        "colab": {
          "base_uri": "https://localhost:8080/"
        },
        "id": "Ql554Ujnvwto",
        "outputId": "35d01fe4-e22a-4363-fbe9-4c7b5d4456b7"
      },
      "source": [
        "element.append(2)\n",
        "repeated_list"
      ],
      "execution_count": null,
      "outputs": [
        {
          "output_type": "execute_result",
          "data": {
            "text/plain": [
              "[[1, 2],\n",
              " [1, 2],\n",
              " [1, 2],\n",
              " [1, 2],\n",
              " [1, 2],\n",
              " [1, 2],\n",
              " [1, 2],\n",
              " [1, 2],\n",
              " [1, 2],\n",
              " [1, 2],\n",
              " [1, 2],\n",
              " [1, 2]]"
            ]
          },
          "metadata": {
            "tags": []
          },
          "execution_count": 286
        }
      ]
    },
    {
      "cell_type": "markdown",
      "metadata": {
        "id": "VSXJmecLv3xQ"
      },
      "source": [
        "Всё дело в том, что элементы списка в Python хранят ссылки на объекты, а не их содержимое, потому при умножении списка копируется только ссылка, в результате чего все элементы начинают ссылаться на **один и тот же** объект и меняются **синхронно**. Постарайтесь не допускать эту ошибку на практике. \n",
        "\n",
        "Правильная реализация подразумевает использование list comrehensions, о которых пойдёт речь ниже."
      ]
    },
    {
      "cell_type": "code",
      "metadata": {
        "colab": {
          "base_uri": "https://localhost:8080/"
        },
        "id": "wIhw87l3NrKf",
        "outputId": "ce4b58b1-ad85-4a72-962f-0968991153ab"
      },
      "source": [
        "lists = [[]] * 3\n",
        "print(lists)\n",
        "\n",
        "lists[0].append(3)\n",
        "print(lists)"
      ],
      "execution_count": null,
      "outputs": [
        {
          "output_type": "stream",
          "text": [
            "[[], [], []]\n",
            "[[3], [3], [3]]\n"
          ],
          "name": "stdout"
        }
      ]
    },
    {
      "cell_type": "code",
      "metadata": {
        "colab": {
          "base_uri": "https://localhost:8080/"
        },
        "id": "cg1dGhpzN2ow",
        "outputId": "f9fba111-f3ce-487c-b1a6-3dc1e2793b2e"
      },
      "source": [
        "# зададим список и его элементы при помощи list comprehensions\n",
        "lists = [[] for i in range(3)] #вернемся к этому примеру после темы \"Цикл for\"\n",
        "lists[0].append(3)\n",
        "lists[1].append(5)\n",
        "lists[2].append(7)\n",
        "lists"
      ],
      "execution_count": null,
      "outputs": [
        {
          "output_type": "execute_result",
          "data": {
            "text/plain": [
              "[[3], [5], [7]]"
            ]
          },
          "metadata": {
            "tags": []
          },
          "execution_count": 288
        }
      ]
    },
    {
      "cell_type": "markdown",
      "metadata": {
        "id": "QHD6a2kvpotw"
      },
      "source": [
        "#### **Функции агрегации, сравнение списков**\n",
        "\n",
        "В Python есть некоторые агрегатные функции:"
      ]
    },
    {
      "cell_type": "code",
      "metadata": {
        "colab": {
          "base_uri": "https://localhost:8080/"
        },
        "id": "NI7mOgGvp9YO",
        "outputId": "f674b1d7-31f4-4535-f3f2-21d525b86883"
      },
      "source": [
        "my_list = [5, 3, 2, 4, 1]\n",
        "print(len(my_list))\n",
        "print(min(my_list))\n",
        "print(max(my_list))\n",
        "print(sum(my_list))"
      ],
      "execution_count": null,
      "outputs": [
        {
          "output_type": "stream",
          "text": [
            "5\n",
            "1\n",
            "5\n",
            "15\n"
          ],
          "name": "stdout"
        }
      ]
    },
    {
      "cell_type": "markdown",
      "metadata": {
        "id": "CQ9t36fFqAT-"
      },
      "source": [
        "**sum()** работает только с числовыми значениями.\n",
        "\n",
        "А **max()**, **len()** и другие можно использовать и со строками."
      ]
    },
    {
      "cell_type": "markdown",
      "metadata": {
        "id": "gq1HDA-Fpv5Q"
      },
      "source": [
        "Сравним элементы двух списков"
      ]
    },
    {
      "cell_type": "code",
      "metadata": {
        "colab": {
          "base_uri": "https://localhost:8080/"
        },
        "id": "EJADl8_-ptQ1",
        "outputId": "2d96d669-ee8d-43fe-ca13-3bd6fa4a1b40"
      },
      "source": [
        "my_list = ['один', 'два', 'три', 'четыре', 'пять']\n",
        "list_2 = ['три', 'один', 'пять', 'два', 'четыре']\n",
        "if (my_list == list_2):\n",
        "    print('cовпадают')\n",
        "else:\n",
        "    print('не совпадают')"
      ],
      "execution_count": null,
      "outputs": [
        {
          "output_type": "stream",
          "text": [
            "не совпадают\n"
          ],
          "name": "stdout"
        }
      ]
    },
    {
      "cell_type": "markdown",
      "metadata": {
        "id": "mR4QppXeqqGw"
      },
      "source": [
        "## отступление. Конструкция if-else"
      ]
    },
    {
      "cell_type": "markdown",
      "metadata": {
        "id": "d9rK1e7iqy5S"
      },
      "source": [
        "### If\n",
        "\n",
        "**Условный оператор**\n",
        "\n",
        "В коде часто приходится проверять выполнимость или невыполнимость каких-то условий. Синтаксис следующий\n",
        "\n",
        "```\n",
        "if <условие1 (булевское выражение)> :\n",
        "    <код, который выполнится, если условие верно>\n",
        "elif <условие2 (булевское выражение)>:\n",
        "    <код, который выполнится, если условие1 было неверно, а условие2 верно>\n",
        "else:\n",
        "    <код, который выполнится, если условие1 и условие2 были неверны>\n",
        "```\n",
        "\n",
        "Обратите внимание, что код, который должен выполняться внутри каждого условия, записывается с отступом в 4 пробела от уровня if, elif и else: в питоне области видимости переменных обозначаются отступами.\n",
        "\n",
        "*То есть, отступы позволяют понять, где начинается код, который должен выполняться при выполнении условия в if, и где заканчивается*\n",
        "\n",
        "Рассмотрим пример: пусть в нашем коде есть переменная x. Пусть мы хотим вывести на экран сообщение \"x отрицателен\", если x<0, \"x равен нулю\", если x=0 и \"x положителен\", если x>0. Код будет следующий:"
      ]
    },
    {
      "cell_type": "code",
      "metadata": {
        "colab": {
          "base_uri": "https://localhost:8080/"
        },
        "id": "8fwY4BjDq_yM",
        "outputId": "e06e1f5b-8744-44fb-8cdc-665911f06290"
      },
      "source": [
        "x = -10\n",
        "\n",
        "if x < 0:\n",
        "    print(\"x отрицателен\")\n",
        "elif x == 0:\n",
        "    print(\"x равен нулю\")\n",
        "else:\n",
        "    print(\"x положителен\")\n",
        "    \n",
        "# этот код уже не \"внутри\" else, потому что записан без отступа в 4 пробела. \n",
        "# Поэтому он выполнится в любом случае после отработки if-elif-else\n",
        "print(\"Done\")"
      ],
      "execution_count": null,
      "outputs": [
        {
          "output_type": "stream",
          "text": [
            "x отрицателен\n",
            "Done\n"
          ],
          "name": "stdout"
        }
      ]
    },
    {
      "cell_type": "markdown",
      "metadata": {
        "id": "bsPSEj1erM75"
      },
      "source": [
        "Варианты записи одного и того же выражения:"
      ]
    },
    {
      "cell_type": "code",
      "metadata": {
        "colab": {
          "base_uri": "https://localhost:8080/"
        },
        "id": "N46EDGrsptq4",
        "outputId": "e124159d-0d52-4a60-97cd-44bbcf41bfb0"
      },
      "source": [
        "X = True\n",
        "Y = 0\n",
        "Z = 1\n",
        "# \"Длинный\" вариант записи\n",
        "if X:\n",
        "    A = Y\n",
        "else:\n",
        "    A = Z\n",
        "print(A)"
      ],
      "execution_count": null,
      "outputs": [
        {
          "output_type": "stream",
          "text": [
            "0\n"
          ],
          "name": "stdout"
        }
      ]
    },
    {
      "cell_type": "code",
      "metadata": {
        "colab": {
          "base_uri": "https://localhost:8080/"
        },
        "id": "KHD4kxd6relO",
        "outputId": "cfd2edb4-a872-4821-e7ff-262b258fde6d"
      },
      "source": [
        "X = True\n",
        "Y = 0\n",
        "Z = 1\n",
        "# Довольно короткий вариант записи\n",
        "A = Y if X else Z\n",
        "print(A)"
      ],
      "execution_count": null,
      "outputs": [
        {
          "output_type": "stream",
          "text": [
            "0\n"
          ],
          "name": "stdout"
        }
      ]
    },
    {
      "cell_type": "markdown",
      "metadata": {
        "id": "Tz2W9wGJDOnB"
      },
      "source": [
        "Конечно, в if можно подставлять и более сложные булевские выражения:"
      ]
    },
    {
      "cell_type": "code",
      "metadata": {
        "colab": {
          "base_uri": "https://localhost:8080/"
        },
        "id": "2e82z6cYDN1i",
        "outputId": "04e9ea25-6f05-4d3c-e30f-b6d196691cdf"
      },
      "source": [
        "x = 5\n",
        "if (x > 3 and x < 11) or x == 5:\n",
        "    print(x)\n",
        "    # тоже выполнится при выполнения условия после if, так как этот код тоже записан с отступом в 4 пробела\n",
        "    print(\"nice\")"
      ],
      "execution_count": null,
      "outputs": [
        {
          "output_type": "stream",
          "text": [
            "5\n",
            "nice\n"
          ],
          "name": "stdout"
        }
      ]
    },
    {
      "cell_type": "code",
      "metadata": {
        "id": "bRk0Lym8DSdy",
        "colab": {
          "base_uri": "https://localhost:8080/"
        },
        "outputId": "a3c7f740-e8c3-4c58-f544-58d68c2d5582"
      },
      "source": [
        "# if внутри if:\n",
        "x = 5\n",
        "y = 5\n",
        "if x >= 3:\n",
        "    if y > 6:\n",
        "        # отступ в 4 пробела от внутреннего if\n",
        "        print(\"y greater than 6\")\n",
        "    else:\n",
        "        print(\"y not greater than 6\")\n",
        "        \n",
        "    # отступ в 4 пробела от внешнего if, поэтому код выполнится если x==3 и при любом значении y\n",
        "    print(\"x is equal to 3\")"
      ],
      "execution_count": null,
      "outputs": [
        {
          "output_type": "stream",
          "text": [
            "y not greater than 6\n",
            "x is equal to 3\n"
          ],
          "name": "stdout"
        }
      ]
    },
    {
      "cell_type": "code",
      "metadata": {
        "colab": {
          "base_uri": "https://localhost:8080/"
        },
        "id": "yY_7bRa-DT-h",
        "outputId": "11f9a355-9a38-41d7-dd6f-7c5d8064bbcc"
      },
      "source": [
        "print(True and False, '\\n')\n",
        "\n",
        "print(True or False, '\\n')\n",
        "\n",
        "print(not False, '\\n')"
      ],
      "execution_count": null,
      "outputs": [
        {
          "output_type": "stream",
          "text": [
            "False \n",
            "\n",
            "True \n",
            "\n",
            "True \n",
            "\n"
          ],
          "name": "stdout"
        }
      ]
    },
    {
      "cell_type": "markdown",
      "metadata": {
        "id": "qzW4wO9NSqyX"
      },
      "source": [
        "## 1.7. dict()\n",
        "**Словарь**\n",
        "\n",
        "**Словари в Python** - неупорядоченная структура данных, которая позволяет хранить пары «ключ — значение». Их иногда ещё называют ассоциативными массивами или хеш-таблицами.\n",
        "\n",
        "Чтобы работать со словарём, его нужно создать. Создать его можно несколькими способами.\n",
        "\n",
        "**Во-первых**, с помощью литерала:"
      ]
    },
    {
      "cell_type": "code",
      "metadata": {
        "colab": {
          "base_uri": "https://localhost:8080/"
        },
        "id": "PBIC1QQZTTIK",
        "outputId": "14b5691e-821a-48bc-98f0-20e694c3621b"
      },
      "source": [
        "d = {}\n",
        "print(d, type(d))"
      ],
      "execution_count": null,
      "outputs": [
        {
          "output_type": "stream",
          "text": [
            "{} <class 'dict'>\n"
          ],
          "name": "stdout"
        }
      ]
    },
    {
      "cell_type": "code",
      "metadata": {
        "colab": {
          "base_uri": "https://localhost:8080/"
        },
        "id": "YaBMMleQTaEv",
        "outputId": "0350556b-eea5-4b1e-83be-795b8b337f40"
      },
      "source": [
        "d = {'dict': 1, 'dictionary': 2} # присвоим ключам 'dict' и 'dictionary' значения 1 и 2 соответственно\n",
        "print(d)"
      ],
      "execution_count": null,
      "outputs": [
        {
          "output_type": "stream",
          "text": [
            "{'dict': 1, 'dictionary': 2}\n"
          ],
          "name": "stdout"
        }
      ]
    },
    {
      "cell_type": "markdown",
      "metadata": {
        "id": "J6NkdBUyTnMG"
      },
      "source": [
        "**Во-вторых**, словарь можно создать с помощью функции dict:"
      ]
    },
    {
      "cell_type": "code",
      "metadata": {
        "colab": {
          "base_uri": "https://localhost:8080/"
        },
        "id": "hYsJntQkMD1n",
        "outputId": "7e8ff318-37bf-45ed-fe8b-ca93a07703e6"
      },
      "source": [
        "[(1, 1), (2, 4)]"
      ],
      "execution_count": null,
      "outputs": [
        {
          "output_type": "execute_result",
          "data": {
            "text/plain": [
              "[(1, 1), (2, 4)]"
            ]
          },
          "metadata": {
            "tags": []
          },
          "execution_count": 302
        }
      ]
    },
    {
      "cell_type": "code",
      "metadata": {
        "colab": {
          "base_uri": "https://localhost:8080/"
        },
        "id": "h9LkaaXZTtRP",
        "outputId": "3df6bd4d-0aad-4382-d8ee-423b2ef7ccbb"
      },
      "source": [
        "d = dict(short='dict', long='dictionary')\n",
        "print(d)\n",
        "d = dict([(1, 1), (2, 4)])\n",
        "print(d)"
      ],
      "execution_count": null,
      "outputs": [
        {
          "output_type": "stream",
          "text": [
            "{'short': 'dict', 'long': 'dictionary'}\n",
            "{1: 1, 2: 4}\n"
          ],
          "name": "stdout"
        }
      ]
    },
    {
      "cell_type": "markdown",
      "metadata": {
        "id": "UVEFZMrRTtvt"
      },
      "source": [
        "**В-третьих**, с помощью метода fromkeys:"
      ]
    },
    {
      "cell_type": "code",
      "metadata": {
        "colab": {
          "base_uri": "https://localhost:8080/"
        },
        "id": "7Vr7g6uSTwKj",
        "outputId": "f9cd1d29-0356-4068-c99a-85e83a387da8"
      },
      "source": [
        "d = dict.fromkeys(['a', 'b'])\n",
        "print(d)\n",
        "d = dict.fromkeys(['a', 'b'], [100, 200])\n",
        "print(d)"
      ],
      "execution_count": null,
      "outputs": [
        {
          "output_type": "stream",
          "text": [
            "{'a': None, 'b': None}\n",
            "{'a': [100, 200], 'b': [100, 200]}\n"
          ],
          "name": "stdout"
        }
      ]
    },
    {
      "cell_type": "markdown",
      "metadata": {
        "id": "nsVCxXpmTwa0"
      },
      "source": [
        "**В-четвертых**, с помощью dict comprehensions, которые очень похожи на list comprehensions. О них мы поговорим далее, после раздела \"Цикл for\""
      ]
    },
    {
      "cell_type": "code",
      "metadata": {
        "colab": {
          "base_uri": "https://localhost:8080/"
        },
        "id": "zxxwUY5sTkxI",
        "outputId": "9aaf1e23-65bc-414e-d78f-cfc73fd42c3a"
      },
      "source": [
        "d = {a: a ** 2 for a in range(7)}\n",
        "print(d)"
      ],
      "execution_count": null,
      "outputs": [
        {
          "output_type": "stream",
          "text": [
            "{0: 0, 1: 1, 2: 4, 3: 9, 4: 16, 5: 25, 6: 36}\n"
          ],
          "name": "stdout"
        }
      ]
    },
    {
      "cell_type": "markdown",
      "metadata": {
        "id": "SZHsP46AWEvH"
      },
      "source": [
        "Теперь попробуем извлечь значения ключей и добавить записей в словарь:"
      ]
    },
    {
      "cell_type": "code",
      "metadata": {
        "colab": {
          "base_uri": "https://localhost:8080/"
        },
        "id": "ObOlBnNIUTmF",
        "outputId": "a90a302c-5baa-42cd-a428-38c5f9a2b315"
      },
      "source": [
        "d = {1: 2, 2: 4, 3: 9} # создадим словарь\n",
        "print(d[1]) # извлечем объект под индексом 2"
      ],
      "execution_count": null,
      "outputs": [
        {
          "output_type": "stream",
          "text": [
            "2\n"
          ],
          "name": "stdout"
        }
      ]
    },
    {
      "cell_type": "code",
      "metadata": {
        "colab": {
          "base_uri": "https://localhost:8080/"
        },
        "id": "49wxY4RIUT1U",
        "outputId": "d95fef6c-a9a4-4bc0-ac27-7e0de1f29830"
      },
      "source": [
        "d[4] = 4 ** 6 # присвоим объекту под индексом 4 значение 4**2\n",
        "print(d)"
      ],
      "execution_count": null,
      "outputs": [
        {
          "output_type": "stream",
          "text": [
            "{1: 2, 2: 4, 3: 9, 4: 4096}\n"
          ],
          "name": "stdout"
        }
      ]
    },
    {
      "cell_type": "code",
      "metadata": {
        "colab": {
          "base_uri": "https://localhost:8080/"
        },
        "id": "iLC6gX_aUhm2",
        "outputId": "3208480f-cf0c-42ab-d412-396aac4d5697"
      },
      "source": [
        "key = 'b'\n",
        "value = 100\n",
        "\n",
        "d[key] = value # добавим новую пару ключ-значение в словарь\n",
        "print(d)"
      ],
      "execution_count": null,
      "outputs": [
        {
          "output_type": "stream",
          "text": [
            "{1: 2, 2: 4, 3: 9, 4: 4096, 'b': 100}\n"
          ],
          "name": "stdout"
        }
      ]
    },
    {
      "cell_type": "markdown",
      "metadata": {
        "id": "j8zZ92VjVBYU"
      },
      "source": [
        "#### **Некоторые методы словарей**"
      ]
    },
    {
      "cell_type": "markdown",
      "metadata": {
        "id": "-b8l4owUVG5a"
      },
      "source": [
        "**dict.clear()** - очищает словарь.\n",
        "\n",
        "**dict.update(another_dict)** - объединение 2 словарей, если ключи совпадают, то dict будет перезаписан значением из another_dict. \n",
        "\n",
        "**dict.items()** - возвращает пары (ключ, значение).\n",
        "\n",
        "**dict.keys()** - возвращает ключи в словаре.\n",
        "\n",
        "**dict.values()** - возвращает значения в словаре.\n",
        "\n",
        "**dict.pop(key)** - удаляет ключ и возвращает значение. Если ключа нет, возвращает default (по умолчанию бросает исключение)."
      ]
    },
    {
      "cell_type": "code",
      "metadata": {
        "colab": {
          "base_uri": "https://localhost:8080/"
        },
        "id": "9ka7gcckV8TQ",
        "outputId": "306bda61-6991-4dcc-98d2-48ca9ac5fe7b"
      },
      "source": [
        "d.items()"
      ],
      "execution_count": null,
      "outputs": [
        {
          "output_type": "execute_result",
          "data": {
            "text/plain": [
              "dict_items([(1, 2), (2, 4), (3, 9), (4, 4096), ('b', 100)])"
            ]
          },
          "metadata": {
            "tags": []
          },
          "execution_count": 314
        }
      ]
    },
    {
      "cell_type": "code",
      "metadata": {
        "colab": {
          "base_uri": "https://localhost:8080/"
        },
        "id": "R4jkcMJJV-oP",
        "outputId": "1ab4fbb7-565d-4ef2-a6fd-cb43aaca580d"
      },
      "source": [
        "d.keys()"
      ],
      "execution_count": null,
      "outputs": [
        {
          "output_type": "execute_result",
          "data": {
            "text/plain": [
              "dict_keys([1, 2, 3, 4, 'b'])"
            ]
          },
          "metadata": {
            "tags": []
          },
          "execution_count": 315
        }
      ]
    },
    {
      "cell_type": "code",
      "metadata": {
        "colab": {
          "base_uri": "https://localhost:8080/"
        },
        "id": "niTX8KmeWAJ2",
        "outputId": "e9531212-fd8f-41a9-c46a-c6794bf92a0a"
      },
      "source": [
        "d.values()"
      ],
      "execution_count": null,
      "outputs": [
        {
          "output_type": "execute_result",
          "data": {
            "text/plain": [
              "dict_values([2, 4, 9, 4096, 100])"
            ]
          },
          "metadata": {
            "tags": []
          },
          "execution_count": 316
        }
      ]
    },
    {
      "cell_type": "code",
      "metadata": {
        "colab": {
          "base_uri": "https://localhost:8080/"
        },
        "id": "OUOJBofdWL_E",
        "outputId": "5052210c-dc86-448f-8149-41bd0667fca9"
      },
      "source": [
        "d"
      ],
      "execution_count": null,
      "outputs": [
        {
          "output_type": "execute_result",
          "data": {
            "text/plain": [
              "{1: 2, 2: 4, 3: 9, 4: 4096}"
            ]
          },
          "metadata": {
            "tags": []
          },
          "execution_count": 318
        }
      ]
    },
    {
      "cell_type": "code",
      "metadata": {
        "colab": {
          "base_uri": "https://localhost:8080/"
        },
        "id": "PyQTncd_Cb9l",
        "outputId": "b9207308-1144-4a42-a7ef-cb2880828420"
      },
      "source": [
        "a={'a':'1','b':'2'}\n",
        "b={'b':'3','c':'4'}\n",
        "a.update(b)\n",
        "a"
      ],
      "execution_count": null,
      "outputs": [
        {
          "output_type": "execute_result",
          "data": {
            "text/plain": [
              "{'a': '1', 'b': '3', 'c': '4'}"
            ]
          },
          "metadata": {
            "tags": []
          },
          "execution_count": 319
        }
      ]
    },
    {
      "cell_type": "code",
      "metadata": {
        "colab": {
          "base_uri": "https://localhost:8080/"
        },
        "id": "AyuTKUbPWOCo",
        "outputId": "90571376-5de3-49fc-a76f-e30578ec413d"
      },
      "source": [
        "d.clear()\n",
        "print(d)"
      ],
      "execution_count": null,
      "outputs": [
        {
          "output_type": "stream",
          "text": [
            "{}\n"
          ],
          "name": "stdout"
        }
      ]
    },
    {
      "cell_type": "code",
      "metadata": {
        "colab": {
          "base_uri": "https://localhost:8080/"
        },
        "id": "OA_q3GK4hf92",
        "outputId": "c44c6b5d-f564-4c6d-c2a3-e90a9fca66a4"
      },
      "source": [
        "a = 'rgbhjggbhjknkmfghjkldfghjkfygjhklkfghjjhgfdssssbhjknkmfghjkldfghjkfygjhklkfghjjhgfdssssknkmfghjkldfghjkfygjhklkfghjjhgfdssssfvgbhjknkmfghjkldfghjkfygjhklkfghjjhgfdssssshkj'\n",
        "b = 'rgbhjggbhjknkmfghjkldfghjkfygjhklkfghjjhgfdssssbhjknkmfghjkldfghjkfygjhklkfghjjhgfdssssknkmfghjkldfghjkfygjhklkfghjjhgfdssssfvgbhjknkmfghjkldfghjkfygjhklkfghjjhgfdssssshkj'\n",
        "b is a"
      ],
      "execution_count": null,
      "outputs": [
        {
          "output_type": "execute_result",
          "data": {
            "text/plain": [
              "True"
            ]
          },
          "metadata": {
            "tags": []
          },
          "execution_count": 438
        }
      ]
    },
    {
      "cell_type": "code",
      "metadata": {
        "id": "_U1YEXXghj7D"
      },
      "source": [
        ""
      ],
      "execution_count": null,
      "outputs": []
    },
    {
      "cell_type": "markdown",
      "metadata": {
        "id": "WmFgAUdiK3SJ"
      },
      "source": [
        "#### Некоторые подводные камни словарей"
      ]
    },
    {
      "cell_type": "markdown",
      "metadata": {
        "id": "i6F0upPRK9oE"
      },
      "source": [
        "Время для хеш-пирожных!"
      ]
    },
    {
      "cell_type": "code",
      "metadata": {
        "id": "Q0UIPZRCK8FS"
      },
      "source": [
        "some_dict = {}\n",
        "some_dict[5.5] = \"Ruby\"\n",
        "some_dict[5.0] = \"JavaScript\"\n",
        "some_dict[5] = \"Python\""
      ],
      "execution_count": null,
      "outputs": []
    },
    {
      "cell_type": "code",
      "metadata": {
        "colab": {
          "base_uri": "https://localhost:8080/"
        },
        "id": "PmJflcO1N3iM",
        "outputId": "6590687a-530d-4eb6-dbba-9714f63c4a30"
      },
      "source": [
        "some_dict"
      ],
      "execution_count": null,
      "outputs": [
        {
          "output_type": "execute_result",
          "data": {
            "text/plain": [
              "{5.0: 'Python', 5.5: 'Ruby'}"
            ]
          },
          "metadata": {
            "tags": []
          },
          "execution_count": 322
        }
      ]
    },
    {
      "cell_type": "code",
      "metadata": {
        "colab": {
          "base_uri": "https://localhost:8080/",
          "height": 37
        },
        "id": "glLAF9bALH-O",
        "outputId": "b71f13ec-1b3a-466d-fe7c-d3e684a54f72"
      },
      "source": [
        "some_dict[5.5]"
      ],
      "execution_count": null,
      "outputs": [
        {
          "output_type": "execute_result",
          "data": {
            "application/vnd.google.colaboratory.intrinsic+json": {
              "type": "string"
            },
            "text/plain": [
              "'Ruby'"
            ]
          },
          "metadata": {
            "tags": []
          },
          "execution_count": 323
        }
      ]
    },
    {
      "cell_type": "code",
      "metadata": {
        "colab": {
          "base_uri": "https://localhost:8080/",
          "height": 37
        },
        "id": "yjZESf94LJNv",
        "outputId": "6169460d-93ce-45ac-e149-fae9e0bd6629"
      },
      "source": [
        "some_dict[5.0]"
      ],
      "execution_count": null,
      "outputs": [
        {
          "output_type": "execute_result",
          "data": {
            "application/vnd.google.colaboratory.intrinsic+json": {
              "type": "string"
            },
            "text/plain": [
              "'Python'"
            ]
          },
          "metadata": {
            "tags": []
          },
          "execution_count": 324
        }
      ]
    },
    {
      "cell_type": "code",
      "metadata": {
        "colab": {
          "base_uri": "https://localhost:8080/",
          "height": 37
        },
        "id": "tQw13XsYLJsN",
        "outputId": "2f07b98b-9aa5-4785-d7fb-ce426b6b3c0e"
      },
      "source": [
        "some_dict[5]"
      ],
      "execution_count": null,
      "outputs": [
        {
          "output_type": "execute_result",
          "data": {
            "application/vnd.google.colaboratory.intrinsic+json": {
              "type": "string"
            },
            "text/plain": [
              "'Python'"
            ]
          },
          "metadata": {
            "tags": []
          },
          "execution_count": 325
        }
      ]
    },
    {
      "cell_type": "markdown",
      "metadata": {
        "id": "cez4V_o8LP0G"
      },
      "source": [
        "**Почему так?**\n",
        "\n",
        "* Словари в Python проверяют эквивалентность и сравнивают значение хешей, чтобы определить, одинаковы ли два ключа.\n",
        "\n",
        "* Неизменяемые объекты с одинаковыми значениями в Python всегда получают одинаковые хеши."
      ]
    },
    {
      "cell_type": "code",
      "metadata": {
        "id": "X-mrhBbtOrzL"
      },
      "source": [
        "a = 't'\n",
        "b = a"
      ],
      "execution_count": null,
      "outputs": []
    },
    {
      "cell_type": "code",
      "metadata": {
        "colab": {
          "base_uri": "https://localhost:8080/"
        },
        "id": "-U8Rg29GOySL",
        "outputId": "1ce665df-7293-479a-86c2-76a8d00fd856"
      },
      "source": [
        "a == b"
      ],
      "execution_count": null,
      "outputs": [
        {
          "output_type": "execute_result",
          "data": {
            "text/plain": [
              "True"
            ]
          },
          "metadata": {
            "tags": []
          },
          "execution_count": 337
        }
      ]
    },
    {
      "cell_type": "code",
      "metadata": {
        "colab": {
          "base_uri": "https://localhost:8080/"
        },
        "id": "iROUIl1cLWx1",
        "outputId": "ad935119-605e-4958-8c2a-03867fb113ea"
      },
      "source": [
        "5 == 5.0"
      ],
      "execution_count": null,
      "outputs": [
        {
          "output_type": "execute_result",
          "data": {
            "text/plain": [
              "True"
            ]
          },
          "metadata": {
            "tags": []
          },
          "execution_count": 326
        }
      ]
    },
    {
      "cell_type": "code",
      "metadata": {
        "colab": {
          "base_uri": "https://localhost:8080/"
        },
        "id": "YrMyfyXBLjjO",
        "outputId": "8ab44404-4781-4b4f-bf08-3b104158120d"
      },
      "source": [
        "5 is 5.0"
      ],
      "execution_count": null,
      "outputs": [
        {
          "output_type": "execute_result",
          "data": {
            "text/plain": [
              "False"
            ]
          },
          "metadata": {
            "tags": []
          },
          "execution_count": 327
        }
      ]
    },
    {
      "cell_type": "code",
      "metadata": {
        "id": "COP44BXXK8hB"
      },
      "source": [
        "hash(5) == hash(5.0)"
      ],
      "execution_count": null,
      "outputs": []
    },
    {
      "cell_type": "markdown",
      "metadata": {
        "id": "DcfD-y8FL_0T"
      },
      "source": [
        "- оператор==проверяет равенство значений двух объектов\n",
        "- оператор is проверяет идентичность самих объектов. Его используют, чтобы удостовериться, что переменные указывают на один и тот же объект в памяти"
      ]
    },
    {
      "cell_type": "markdown",
      "metadata": {
        "id": "h2QNvdmUMdx6"
      },
      "source": [
        "Преобразование словаря во время его итерирования"
      ]
    },
    {
      "cell_type": "code",
      "metadata": {
        "colab": {
          "base_uri": "https://localhost:8080/"
        },
        "id": "PcVMuljOMkyl",
        "outputId": "79f2372d-dc89-4cf7-9721-f5ee9c541b30"
      },
      "source": [
        "x = {0: None}\n",
        "\n",
        "for i in x:\n",
        "    del x[i]\n",
        "    x[i+1] = None\n",
        "    print(i)"
      ],
      "execution_count": null,
      "outputs": [
        {
          "output_type": "stream",
          "text": [
            "0\n",
            "1\n",
            "2\n",
            "3\n",
            "4\n"
          ],
          "name": "stdout"
        }
      ]
    },
    {
      "cell_type": "markdown",
      "metadata": {
        "id": "T8nOHJFbMqUO"
      },
      "source": [
        "Да, выполняется ровно пять раз и останавливается."
      ]
    },
    {
      "cell_type": "markdown",
      "metadata": {
        "id": "JhHkcyXHMngd"
      },
      "source": [
        "Он запускается 5 раз, потому что текущая реализация dict начинается с хеш-таблицы размера 8, а изменение размера запускается, когда таблица заполнена на 2/3 (наш исходный dict имеет 1 запись, 5 новых вставок делают его размером> (8 * 2 / 3 == 5.333333). Таблица заполняется объектами DKIX_DUMMY, введенными при удалении ключа (необходимо для правильной обработки хеш-коллизий)."
      ]
    },
    {
      "cell_type": "markdown",
      "metadata": {
        "id": "w5YyAeIHWSsc"
      },
      "source": [
        "## 1.8. Set\n",
        "**Множества**\n",
        "\n",
        "**Множество** -- Множество - это изменяемый неупорядоченный тип данных. В множестве всегда содержатся только уникальные элементы. Т.е. элементы не могут повторяться.\n",
        "\n",
        "Внутри языка множество устроено совсем не так, как массив или кортеж, элементы множества хранятся не последовательно, поэтому к элементам множества нельзя обрашаться по индексу.\n",
        "Пустое множество можно создать с помощью set():"
      ]
    },
    {
      "cell_type": "code",
      "metadata": {
        "colab": {
          "base_uri": "https://localhost:8080/"
        },
        "id": "cjzw5MeKWiLW",
        "outputId": "0bdd8ad0-34fa-4d6b-f700-ac810dfa0790"
      },
      "source": [
        "s = set()\n",
        "\n",
        "print(s, type(s))"
      ],
      "execution_count": null,
      "outputs": [
        {
          "output_type": "stream",
          "text": [
            "set() <class 'set'>\n"
          ],
          "name": "stdout"
        }
      ]
    },
    {
      "cell_type": "markdown",
      "metadata": {
        "id": "o0sLqouIWoa-"
      },
      "source": [
        "С помощью множества можно легко убрать повторяющиеся элементы:"
      ]
    },
    {
      "cell_type": "code",
      "metadata": {
        "colab": {
          "base_uri": "https://localhost:8080/"
        },
        "id": "mm7c-eTSWsmi",
        "outputId": "00c65ae7-4b6d-436d-8f19-916546565f3a"
      },
      "source": [
        "s = set([5, 2, 3, 2])\n",
        "print(s)"
      ],
      "execution_count": null,
      "outputs": [
        {
          "output_type": "stream",
          "text": [
            "{2, 3, 5}\n"
          ],
          "name": "stdout"
        }
      ]
    },
    {
      "cell_type": "code",
      "metadata": {
        "colab": {
          "base_uri": "https://localhost:8080/",
          "height": 164
        },
        "id": "tNzvhFWxjYQo",
        "outputId": "b48e85f7-257a-4b27-d48e-9e6aa87819f0"
      },
      "source": [
        "s[0]"
      ],
      "execution_count": null,
      "outputs": [
        {
          "output_type": "error",
          "ename": "TypeError",
          "evalue": "ignored",
          "traceback": [
            "\u001b[0;31m---------------------------------------------------------------------------\u001b[0m",
            "\u001b[0;31mTypeError\u001b[0m                                 Traceback (most recent call last)",
            "\u001b[0;32m<ipython-input-347-c9c96910e542>\u001b[0m in \u001b[0;36m<module>\u001b[0;34m()\u001b[0m\n\u001b[0;32m----> 1\u001b[0;31m \u001b[0ms\u001b[0m\u001b[0;34m[\u001b[0m\u001b[0;36m0\u001b[0m\u001b[0;34m]\u001b[0m\u001b[0;34m\u001b[0m\u001b[0;34m\u001b[0m\u001b[0m\n\u001b[0m",
            "\u001b[0;31mTypeError\u001b[0m: 'set' object does not support indexing"
          ]
        }
      ]
    },
    {
      "cell_type": "markdown",
      "metadata": {
        "id": "UoVgnTBbXJHS"
      },
      "source": [
        "#### **Некоторые методы множеств**\n",
        "\n",
        "Для добавление элемента в сет используется метод **add**, для удаления - **pop** или **remove**. Добавление в сет уже существующего элемента не повлияет на сет. Сеты обладают множеством методов для работы с уникальными элементами, например **difference** - возвращает элементы сета отсутствующие в другом сете, **intersection** - наоборот, возвращает елементы сета присутствующие в другом сете."
      ]
    },
    {
      "cell_type": "code",
      "metadata": {
        "colab": {
          "base_uri": "https://localhost:8080/"
        },
        "id": "1s_683kLXazb",
        "outputId": "c292374b-01e0-4d52-b48f-48da32b219a7"
      },
      "source": [
        "s = set([5, 2, 3, 2])\n",
        "print(s)\n",
        "s.add(1)\n",
        "s.add('a')\n",
        "# None тоже можно добавить =)\n",
        "s.add(None)\n",
        "s.add('bullet')\n",
        "print(s)"
      ],
      "execution_count": null,
      "outputs": [
        {
          "output_type": "stream",
          "text": [
            "{2, 3, 5}\n",
            "{1, 2, 3, 'a', 5, 'bullet', None}\n"
          ],
          "name": "stdout"
        }
      ]
    },
    {
      "cell_type": "code",
      "metadata": {
        "colab": {
          "base_uri": "https://localhost:8080/"
        },
        "id": "AIhrGY91XbD3",
        "outputId": "07ebcc3a-6ffe-42a3-f7c2-c0e8476da859"
      },
      "source": [
        "# Инициализируем два множества\n",
        "s1 = set(range(0, 10))\n",
        "s2 = set(range(5, 15))\n",
        "\n",
        "print('s1: ', s1, '\\ns2: ', s2)"
      ],
      "execution_count": null,
      "outputs": [
        {
          "output_type": "stream",
          "text": [
            "s1:  {0, 1, 2, 3, 4, 5, 6, 7, 8, 9} \n",
            "s2:  {5, 6, 7, 8, 9, 10, 11, 12, 13, 14}\n"
          ],
          "name": "stdout"
        }
      ]
    },
    {
      "cell_type": "code",
      "metadata": {
        "colab": {
          "base_uri": "https://localhost:8080/"
        },
        "id": "gMBYsnSDWYVV",
        "outputId": "4cea57fa-6e0b-483a-accc-a5944b093947"
      },
      "source": [
        "# элементы, которые есть в s1, но нет в s2\n",
        "print(s1.difference(s2))\n",
        "print()\n",
        "# элементы, которые есть в s2, но нет в s1\n",
        "print(s2.difference(s1))"
      ],
      "execution_count": null,
      "outputs": [
        {
          "output_type": "stream",
          "text": [
            "{0, 1, 2, 3, 4}\n",
            "\n",
            "{10, 11, 12, 13, 14}\n"
          ],
          "name": "stdout"
        }
      ]
    },
    {
      "cell_type": "code",
      "metadata": {
        "colab": {
          "base_uri": "https://localhost:8080/"
        },
        "id": "PUsUFVGrXo1c",
        "outputId": "fb9b45fc-92e3-43ca-836c-cb49c06b8479"
      },
      "source": [
        "# пересечение множеств s1 и s2 можно записать двумя способами:\n",
        "print(s1.intersection(s2))\n",
        "print(s1 & s2)"
      ],
      "execution_count": null,
      "outputs": [
        {
          "output_type": "stream",
          "text": [
            "{5, 6, 7, 8, 9}\n",
            "{5, 6, 7, 8, 9}\n"
          ],
          "name": "stdout"
        }
      ]
    },
    {
      "cell_type": "code",
      "metadata": {
        "colab": {
          "base_uri": "https://localhost:8080/"
        },
        "id": "Cw8ykDsdXrxp",
        "outputId": "3bf50385-8910-432b-fdb3-0c8dbe900e74"
      },
      "source": [
        "# объединение множеств s1 и s2 тоже можно записать двумя способами:\n",
        "print(s1.union(s2))\n",
        "print(s1 | s2)"
      ],
      "execution_count": null,
      "outputs": [
        {
          "output_type": "stream",
          "text": [
            "{0, 1, 2, 3, 4, 5, 6, 7, 8, 9, 10, 11, 12, 13, 14}\n",
            "{0, 1, 2, 3, 4, 5, 6, 7, 8, 9, 10, 11, 12, 13, 14}\n"
          ],
          "name": "stdout"
        }
      ]
    },
    {
      "cell_type": "markdown",
      "metadata": {
        "id": "c69UP3YtyaVN"
      },
      "source": [
        "## **Numpy array vs Python list**\n",
        "**модуль**\n",
        "NumPy — это библиотека языка Python, добавляющая поддержку больших многомерных массивов и матриц, вместе с большой библиотекой высокоуровневых (и очень быстрых) математических функций для операций с этими массивами.\n",
        "\n",
        "\n",
        "Основным объектом NumPy является однородный многомерный массив (в numpy называется numpy.ndarray). Это многомерный массив элементов (обычно чисел), одного типа."
      ]
    },
    {
      "cell_type": "code",
      "metadata": {
        "id": "-m-i6x4yrWt6"
      },
      "source": [
        "import numpy as np #импортируем библиотеку numpy, для удобства дальнейшего использования\n",
        "                      #пишем конструкцию \"as np\", чтобы в последующем вызывать библиотеку\n",
        "                      # при помощи сокращения \"np\""
      ],
      "execution_count": null,
      "outputs": []
    },
    {
      "cell_type": "markdown",
      "metadata": {
        "id": "zN172apJA5qA"
      },
      "source": [
        "Создадим массив. В NumPy существует много способов создать массив. Один из наиболее простых - создать массив из обычных списков или кортежей Python, используя функцию **numpy.array()** (запомните: array - функция, создающая объект типа ndarray):"
      ]
    },
    {
      "cell_type": "code",
      "metadata": {
        "colab": {
          "base_uri": "https://localhost:8080/"
        },
        "id": "eV3IuFeZ_4Kn",
        "outputId": "0c927273-f072-49a6-ff82-3aa92eb64198"
      },
      "source": [
        "b = [1, 2, 3]\n",
        "a = np.array(b)\n",
        "print(a, type(a))"
      ],
      "execution_count": null,
      "outputs": [
        {
          "output_type": "stream",
          "text": [
            "[1 2 3] <class 'numpy.ndarray'>\n"
          ],
          "name": "stdout"
        }
      ]
    },
    {
      "cell_type": "markdown",
      "metadata": {
        "id": "3wLnHK7MBfwI"
      },
      "source": [
        "#### **Некоторые атрибуты объектов ndarray**"
      ]
    },
    {
      "cell_type": "markdown",
      "metadata": {
        "id": "Y1MktYFdBOaH"
      },
      "source": [
        "Атрибут **ndarray.shape** - размеры массива, его форма. Это кортеж натуральных чисел, показывающий длину массива по каждой оси. Для матрицы из n строк и m столбов, shape будет (n,m). Число элементов кортежа shape равно ndim."
      ]
    },
    {
      "cell_type": "code",
      "metadata": {
        "colab": {
          "base_uri": "https://localhost:8080/"
        },
        "id": "r9mwH_yaBUR3",
        "outputId": "a6dff12b-6407-4fa5-9668-86effaf56c5e"
      },
      "source": [
        "print(a.shape)"
      ],
      "execution_count": null,
      "outputs": [
        {
          "output_type": "stream",
          "text": [
            "(3,)\n"
          ],
          "name": "stdout"
        }
      ]
    },
    {
      "cell_type": "markdown",
      "metadata": {
        "id": "WMvHhlL1Bq1M"
      },
      "source": [
        "Атрибут **ndarray.dtype** - объект, описывающий тип элементов массива. Можно определить dtype, используя стандартные типы данных Python. NumPy здесь предоставляет целый букет возможностей, как встроенных, например: bool_, character, int8, int16, int32, int64, float8, float16, float32, float64, complex64, object_, так и возможность определить собственные типы данных, в том числе и составные."
      ]
    },
    {
      "cell_type": "markdown",
      "metadata": {
        "id": "7HddNR-ECAFk"
      },
      "source": [
        "Зададим массив ndarray со значениями типа int"
      ]
    },
    {
      "cell_type": "code",
      "metadata": {
        "colab": {
          "base_uri": "https://localhost:8080/"
        },
        "id": "R7J3r87NBvPY",
        "outputId": "08163a2b-9994-4145-dc6a-ffd0978a6f58"
      },
      "source": [
        "my_array = np.array([1, 2, 3])\n",
        "print(my_array.dtype)"
      ],
      "execution_count": null,
      "outputs": [
        {
          "output_type": "stream",
          "text": [
            "int64\n"
          ],
          "name": "stdout"
        }
      ]
    },
    {
      "cell_type": "markdown",
      "metadata": {
        "id": "I7iuBDSYCHZh"
      },
      "source": [
        "Зададим массив ndarray со значениями типа float"
      ]
    },
    {
      "cell_type": "code",
      "metadata": {
        "colab": {
          "base_uri": "https://localhost:8080/"
        },
        "id": "TUuBTV3TB3xP",
        "outputId": "59a78818-88ee-47b0-ed79-dde636a43c92"
      },
      "source": [
        "my_array = np.array([1., 2., 3.])\n",
        "print(my_array.dtype)"
      ],
      "execution_count": null,
      "outputs": [
        {
          "output_type": "stream",
          "text": [
            "float64\n"
          ],
          "name": "stdout"
        }
      ]
    },
    {
      "cell_type": "markdown",
      "metadata": {
        "id": "DPIQGnrpCLl7"
      },
      "source": [
        "В Numpy Вы можете сами выбирать в каком формате хранить данные массива -  int8, int16, int32, int64, float8, float16, float32, float64 и тд"
      ]
    },
    {
      "cell_type": "code",
      "metadata": {
        "colab": {
          "base_uri": "https://localhost:8080/"
        },
        "id": "J33BnjR7BveK",
        "outputId": "c74474ab-cef0-4b78-c2b7-3d346f76eec6"
      },
      "source": [
        "my_array = np.array([1.25, 2.2, 3.87], dtype = 'float32')\n",
        "print(my_array)\n",
        "print(my_array.dtype)"
      ],
      "execution_count": null,
      "outputs": [
        {
          "output_type": "stream",
          "text": [
            "[1.25 2.2  3.87]\n",
            "float32\n"
          ],
          "name": "stdout"
        }
      ]
    },
    {
      "cell_type": "markdown",
      "metadata": {
        "id": "eeuqkvl-Df6E"
      },
      "source": [
        "Давайте поменяет тип данных на int:"
      ]
    },
    {
      "cell_type": "code",
      "metadata": {
        "colab": {
          "base_uri": "https://localhost:8080/"
        },
        "id": "dXLerPWFBvs0",
        "outputId": "1b2dc204-0e1a-42ee-979b-853373276703"
      },
      "source": [
        "my_array = np.array([1.25, 2.2, 3.87], dtype = 'int8')\n",
        "print(my_array)\n",
        "print(my_array.dtype)"
      ],
      "execution_count": null,
      "outputs": [
        {
          "output_type": "stream",
          "text": [
            "[1 2 3]\n",
            "int8\n"
          ],
          "name": "stdout"
        }
      ]
    },
    {
      "cell_type": "markdown",
      "metadata": {
        "id": "EQ0X4MEgDjqs"
      },
      "source": [
        "и на комплексные числа:"
      ]
    },
    {
      "cell_type": "code",
      "metadata": {
        "colab": {
          "base_uri": "https://localhost:8080/"
        },
        "id": "EhwDdQuB__G1",
        "outputId": "89b51bd9-3ebc-448b-fd05-0ea935573a08"
      },
      "source": [
        "my_array = np.array([1.25, 2.2, 3.87], dtype = 'complex64')\n",
        "print(my_array)\n",
        "print(my_array.dtype)"
      ],
      "execution_count": null,
      "outputs": [
        {
          "output_type": "stream",
          "text": [
            "[1.25+0.j 2.2 +0.j 3.87+0.j]\n",
            "complex64\n"
          ],
          "name": "stdout"
        }
      ]
    },
    {
      "cell_type": "code",
      "metadata": {
        "colab": {
          "base_uri": "https://localhost:8080/"
        },
        "id": "FjK7V17aBJHa",
        "outputId": "b6d07e42-effc-4eef-b9cc-8e4e82350c1f"
      },
      "source": [
        "b = np.array([[1.5, 2, 3], [4, 5, 6]])\n",
        "print(b)"
      ],
      "execution_count": null,
      "outputs": [
        {
          "output_type": "stream",
          "text": [
            "[[1.5 2.  3. ]\n",
            " [4.  5.  6. ]]\n"
          ],
          "name": "stdout"
        }
      ]
    },
    {
      "cell_type": "code",
      "metadata": {
        "colab": {
          "base_uri": "https://localhost:8080/"
        },
        "id": "2skHtvkvS3iD",
        "outputId": "4d0bbaff-a0ae-440e-c2f4-9f322eb2767b"
      },
      "source": [
        "b.shape"
      ],
      "execution_count": null,
      "outputs": [
        {
          "output_type": "execute_result",
          "data": {
            "text/plain": [
              "(2, 3)"
            ]
          },
          "metadata": {
            "tags": []
          },
          "execution_count": 362
        }
      ]
    },
    {
      "cell_type": "markdown",
      "metadata": {
        "id": "bGl0L3mID5W8"
      },
      "source": [
        "#### **Сравним скорость выполнения в случаях массивов типа list и ndarray**"
      ]
    },
    {
      "cell_type": "code",
      "metadata": {
        "colab": {
          "base_uri": "https://localhost:8080/"
        },
        "id": "seMnLKDOD9Ci",
        "outputId": "71553290-f39d-48f0-81ed-ebde49c93ba5"
      },
      "source": [
        "import time \n",
        "   \n",
        "# size of arrays and lists \n",
        "size = 10000000\n",
        "   \n",
        "# создадим списки типа list\n",
        "list1 = range(size) # range() создает list() с элементами от 0 до size, те до 1000000\n",
        "list2 = range(size) \n",
        "   \n",
        "# создадим массивы типа ndarrays \n",
        "array1 = np.arange(size)   \n",
        "array2 = np.arange(size) \n",
        "\n",
        "print(\"\\n Произведение массивов :\")\n",
        "\n",
        "# Включим счетчик времени перед умножением\n",
        "initialTime = time.time() \n",
        "  \n",
        "# перемножим элементы списков\n",
        "resultantList = [(a * b) for a, b in zip(list1, list2)] \n",
        "   \n",
        "# посчитаем затраченное время\n",
        "print(\"Время затраченное на перемножение списков типа list:\",  \n",
        "      (time.time() - initialTime), \n",
        "      \"секунд\") \n",
        "   \n",
        "# Включим счетчик времени перед умножением\n",
        "initialTime = time.time() \n",
        "  \n",
        "# перемножим элементы массивов \n",
        "resultantArray = array1 * array2 \n",
        "   \n",
        "# посчитаем затраченное время\n",
        "print(\"Время затраченное на перемножение массивов типа ndarray:\", \n",
        "      (time.time() - initialTime), \n",
        "      \"секунд\") "
      ],
      "execution_count": null,
      "outputs": [
        {
          "output_type": "stream",
          "text": [
            "\n",
            " Произведение массивов :\n",
            "Время затраченное на перемножение списков типа list: 1.6494965553283691 секунд\n",
            "Время затраченное на перемножение массивов типа ndarray: 0.02915024757385254 секунд\n"
          ],
          "name": "stdout"
        }
      ]
    },
    {
      "cell_type": "markdown",
      "metadata": {
        "id": "zOGGeW3ZJQ3G"
      },
      "source": [
        "Ниже приведен пример со сложением чисел в массивах:"
      ]
    },
    {
      "cell_type": "code",
      "metadata": {
        "colab": {
          "base_uri": "https://localhost:8080/"
        },
        "id": "Rl6EpWhVJIb_",
        "outputId": "dbe16ad6-baad-42ab-fda9-aa459688c24c"
      },
      "source": [
        "print(\"\\n Сложение чисел :\")\n",
        " \n",
        "# list\n",
        "initialTime = time.time()\n",
        "list1 =[i + 2 for i in range(size)]\n",
        " \n",
        "# calculating execution time\n",
        "print(\"Время затраченное у данных типа List :\",\n",
        "      (time.time() - initialTime),\n",
        "      \"секунд\")\n",
        "  \n",
        "# NumPy array\n",
        "initialTime = time.time()\n",
        "array1 = array1 + 2\n",
        " \n",
        "# calculating execution time \n",
        "print(\"Время затраченное у данных типа Numpy array :\", \n",
        "      (time.time() - initialTime), \n",
        "      \"секунд\")"
      ],
      "execution_count": null,
      "outputs": [
        {
          "output_type": "stream",
          "text": [
            "\n",
            " Сложение чисел :\n",
            "Время затраченное у данных типа List : 1.3914508819580078 секунд\n",
            "Время затраченное у данных типа Numpy array : 0.08329057693481445 секунд\n"
          ],
          "name": "stdout"
        }
      ]
    },
    {
      "cell_type": "markdown",
      "metadata": {
        "id": "S6YHziShGf0Y"
      },
      "source": [
        "Ниже приведен **сравнительный график времени, затраченного на суммирование рандомных list'ов и numpy массивов в зависимости от их размера.**\n",
        "Мы ясно видим, что операция суммирования массивов в numpy практически одинакова как для 100 элементов так и 10 000 000 элементов.\n",
        "<img src=\"https://github.com/ddvika/Data-Science-School-2020/blob/main/lecture_1/imgs/time_comparison.png?raw=true\" width=500 height=350 /> "
      ]
    },
    {
      "cell_type": "markdown",
      "metadata": {
        "id": "n-_POoY8KNz_"
      },
      "source": [
        "**Но... Почему так?**\n",
        "\n",
        "Все дело в том, как хранятся данные в памяти компьютера.\n",
        "- Массивы Numpy хранят один определенный тип данных, а количество элементов указывается заранее. Это необходимо, потому что они хранятся как один непрерывный блок памяти.Зная начальную ячейку памяти массива, мы можем просто добавить индекс, чтобы сразу перейти к любому элементу.\n",
        "\n",
        "- Списки Python так не хранятся. Вам не нужно указывать, сколько элементов вы добавите в свой список, и вам не нужно определять тип данных. Это возможно, потому что **списки Python на самом деле являются массивами указателей.** Указатель - это ссылка на объект в памяти. Когда вы извлекаете элемент в своем списке, python выполняет два шага: во-первых, извлекает указатель. Во-вторых, переходит в ячейку памяти указателя, чтобы наконец получить нужный объект. Этот дополнительный поиск в памяти способствует значительному снижению производительности списков. Таким образом данные разбросаны по всей вашей оперативной памяти и заданы с помощью указателей. Каждый раз, когда нам нужен фрагмент данных, мы должны получить указатель, а затем найти его в памяти.\n",
        "- Библиотека NumPy разбивает задачу на несколько фрагментов, а затем обрабатывает все фрагменты параллельно.\n",
        "- Библиотека NumPy написана не только на Python, но и на C, C ++ и Fortran.\n",
        "\n",
        "Ниже приведен **пример того, как хранятся списки list и ndarray в RAM**\n",
        "<img src=\"https://github.com/ddvika/Data-Science-School-2020/blob/main/lecture_1/imgs/ndarray_vs_list.png?raw=true\" width=700 height=350 /> "
      ]
    },
    {
      "cell_type": "markdown",
      "metadata": {
        "id": "w20I99RPFsJd"
      },
      "source": [
        "#### **Пример математических операций со списками list и массивами типа ndarray:**"
      ]
    },
    {
      "cell_type": "code",
      "metadata": {
        "colab": {
          "base_uri": "https://localhost:8080/"
        },
        "id": "qUZgpLEqCtiQ",
        "outputId": "d33f01db-e271-4cff-f31a-559346930a13"
      },
      "source": [
        "# зададим список\n",
        "ls =[1, 2, 3] \n",
        "  \n",
        "try: \n",
        "    # попробуем добавить число 4 к каждому элементу списка\n",
        "    ls = ls + 4\n",
        "      \n",
        "except(TypeError): \n",
        "    print(\"Lists don't support list + int\") "
      ],
      "execution_count": null,
      "outputs": [
        {
          "output_type": "stream",
          "text": [
            "Lists don't support list + int\n"
          ],
          "name": "stdout"
        }
      ]
    },
    {
      "cell_type": "code",
      "metadata": {
        "colab": {
          "base_uri": "https://localhost:8080/"
        },
        "id": "5W5fRcxVFKdb",
        "outputId": "f5a6de87-3b3a-4f44-cd2c-34840a9e3921"
      },
      "source": [
        "# зададим список\n",
        "ls =[1, 2, 3] \n",
        "  \n",
        "# конвертируем список в ndarray\n",
        "arr = np.array(ls) \n",
        "\n",
        "try: \n",
        "    # попробуем добавить число 4 к каждому элементу массива\n",
        "    arr = arr + 4\n",
        "  \n",
        "    print(\"Modified Numpy array: \",arr) \n",
        "      \n",
        "except(TypeError): \n",
        "    print(\"Numpy arrays don't support list + int\")"
      ],
      "execution_count": null,
      "outputs": [
        {
          "output_type": "stream",
          "text": [
            "Modified Numpy array:  [5 6 7]\n"
          ],
          "name": "stdout"
        }
      ]
    },
    {
      "cell_type": "markdown",
      "metadata": {
        "id": "w3uFAIocYqAo"
      },
      "source": [
        "# 2. Циклы for - while\n",
        "\n",
        "**list, string, tuple, dict, set** типы данных, по которым можно итерироваться - т.е. последовательно получать значения элементов этих объектов. Их еще называют iterable data type. Итерироваться можно с помощью циклов **for** или **while**."
      ]
    },
    {
      "cell_type": "markdown",
      "metadata": {
        "id": "s-wUq7EDaJts"
      },
      "source": [
        "## 2.1 Цикл while\n",
        "\n",
        "Цикл while в Python повторяется, пока выполняется определенное логическое условие и обладает следующим синтаксисом:\n",
        "\n",
        "```\n",
        "while <условие (булевское выражение)>:\n",
        "    <code>\n",
        "```\n",
        "\n",
        "Посмотрим на примере: Напишем цикл, в котором будем выводить переменную x и увеличивать x на 1, пока x не станет больше 10:"
      ]
    },
    {
      "cell_type": "code",
      "metadata": {
        "colab": {
          "base_uri": "https://localhost:8080/"
        },
        "id": "mTWtsVYSakjp",
        "outputId": "0176f8af-b771-480e-d9b2-12671250b11e"
      },
      "source": [
        "i = 0\n",
        "while i < 5:\n",
        "    print(i)\n",
        "    i = i + 1"
      ],
      "execution_count": null,
      "outputs": [
        {
          "output_type": "stream",
          "text": [
            "0\n",
            "1\n",
            "2\n",
            "3\n",
            "4\n"
          ],
          "name": "stdout"
        }
      ]
    },
    {
      "cell_type": "markdown",
      "metadata": {
        "id": "53mGFgAqadZ5"
      },
      "source": [
        "Если вы удалите ту часть, в которой мы увеличиваем значение i, то мы получим бесконечный цикл. Как правило – это плохо. Бесконечные циклы известны как логические ошибки, и их нужно избегать. Существует другой способ вырваться из цикла, для этого нужно использовать встроенную функцию break."
      ]
    },
    {
      "cell_type": "code",
      "metadata": {
        "colab": {
          "base_uri": "https://localhost:8080/"
        },
        "id": "eFXDD644au53",
        "outputId": "5242a739-d855-44af-fbaa-7f42379ab809"
      },
      "source": [
        "i = 0\n",
        "while i < 10:\n",
        "    if i == 5: # условие прерывания цикла\n",
        "        break\n",
        "    print(i)\n",
        "\n",
        "    \n",
        "    i += 1"
      ],
      "execution_count": null,
      "outputs": [
        {
          "output_type": "stream",
          "text": [
            "0\n",
            "1\n",
            "2\n",
            "3\n",
            "4\n"
          ],
          "name": "stdout"
        }
      ]
    },
    {
      "cell_type": "markdown",
      "metadata": {
        "id": "uWuu1AOLbGqR"
      },
      "source": [
        " Другой пример:"
      ]
    },
    {
      "cell_type": "code",
      "metadata": {
        "colab": {
          "base_uri": "https://localhost:8080/"
        },
        "id": "-JU0ZBd7aSKQ",
        "outputId": "8e85129a-fa83-4c31-fe10-1810543dcdb3"
      },
      "source": [
        "i = 0\n",
        " \n",
        "while i < 10:\n",
        "    if i == 3:\n",
        "        i += 1\n",
        "        continue\n",
        "    \n",
        "    print(i)\n",
        "    if i == 5:\n",
        "        break\n",
        "    \n",
        "    i += 1"
      ],
      "execution_count": null,
      "outputs": [
        {
          "output_type": "stream",
          "text": [
            "0\n",
            "1\n",
            "2\n",
            "4\n",
            "5\n"
          ],
          "name": "stdout"
        }
      ]
    },
    {
      "cell_type": "markdown",
      "metadata": {
        "id": "G6Ulv5TbbFxL"
      },
      "source": [
        "Слегка запутанно, не так ли? Мы добавили второе условное выражение, которое проверяет, не равняется ли i трем. Если да, мы увеличиваем переменную и переходим к следующему циклу, который удачно пропускает вывод значения 3 на экран. Как и ранее, когда мы достигаем значения 5, мы разрываем цикл."
      ]
    },
    {
      "cell_type": "markdown",
      "metadata": {
        "id": "-NtNxLclbYkf"
      },
      "source": [
        " ## 2.2. Цикл for\n",
        "\n",
        "Цикл for в Python итерирует по заданной последовательности и обладает следующим синтаксисом:\n",
        "\n",
        "```\n",
        "for element in iterable_object:\n",
        "    <code>\n",
        "```\n",
        "\n",
        "Рассмотрим на конкретном примере."
      ]
    },
    {
      "cell_type": "code",
      "metadata": {
        "colab": {
          "base_uri": "https://localhost:8080/"
        },
        "id": "W_mHn734cnKV",
        "outputId": "41125fcb-b8f2-41b7-ca16-c18dd2cfb68e"
      },
      "source": [
        "# создадим list элементов\n",
        "elems = ['first elem', 'second elem', 'third elem']\n",
        "\n",
        "# итерируемся по элементам списка: каждую итерацию цикла в переменную elem будет\n",
        "# записываться новое значение из elems и оно будет использоваться для print(elem)\n",
        "for elem in elems:\n",
        "    # тело цикла. Здесь с отступом в 4 пробела нужно описать код, который будет выполняться на каждой итерации цикла.\n",
        "    print(elem[0])\n",
        "\n",
        "# этот код уже будет выполняться ПОСЛЕ цикла, потому что он записан без отступа в 4 пробела после for:\n",
        "print(\"Done\")\n",
        "# del model\n",
        "print(elem)"
      ],
      "execution_count": null,
      "outputs": [
        {
          "output_type": "stream",
          "text": [
            "f\n",
            "s\n",
            "t\n",
            "Done\n",
            "third elem\n"
          ],
          "name": "stdout"
        }
      ]
    },
    {
      "cell_type": "code",
      "metadata": {
        "colab": {
          "base_uri": "https://localhost:8080/"
        },
        "id": "wWG2BAg8ccPd",
        "outputId": "ead87619-7124-4b53-b7ef-d35d73d40402"
      },
      "source": [
        "for number in [0, 1, 2, 3, 4]:\n",
        "    print(number+100)"
      ],
      "execution_count": null,
      "outputs": [
        {
          "output_type": "stream",
          "text": [
            "100\n",
            "101\n",
            "102\n",
            "103\n",
            "104\n"
          ],
          "name": "stdout"
        }
      ]
    },
    {
      "cell_type": "code",
      "metadata": {
        "colab": {
          "base_uri": "https://localhost:8080/"
        },
        "id": "DWsQDZrKcfhO",
        "outputId": "5179e56c-e199-440a-828e-1fd2ad758be4"
      },
      "source": [
        "a_dict = {\"one\":1, \"two\":2, \"three\":3}\n",
        " \n",
        "for key in a_dict:\n",
        "    print(a_dict[key])\n"
      ],
      "execution_count": null,
      "outputs": [
        {
          "output_type": "stream",
          "text": [
            "1\n",
            "2\n",
            "3\n"
          ],
          "name": "stdout"
        }
      ]
    },
    {
      "cell_type": "code",
      "metadata": {
        "colab": {
          "base_uri": "https://localhost:8080/"
        },
        "id": "8yaUmQjdZd8T",
        "outputId": "c07e9c68-a8e6-4c89-ff0c-ae74343bdb9d"
      },
      "source": [
        "a_dict.values()"
      ],
      "execution_count": null,
      "outputs": [
        {
          "output_type": "execute_result",
          "data": {
            "text/plain": [
              "dict_values([1, 2, 3])"
            ]
          },
          "metadata": {
            "tags": []
          },
          "execution_count": 379
        }
      ]
    },
    {
      "cell_type": "markdown",
      "metadata": {
        "id": "fVT1KjkrdJW_"
      },
      "source": [
        "Использование конструкций типа **if-else** в цикле"
      ]
    },
    {
      "cell_type": "code",
      "metadata": {
        "colab": {
          "base_uri": "https://localhost:8080/"
        },
        "id": "JLCObPJqdPLI",
        "outputId": "ed513dda-03e4-4483-c330-561f9af1db21"
      },
      "source": [
        "for number in range(1,100, 5):\n",
        "    if number % 2 == 0:\n",
        "        print(number, 'is even')\n",
        "    else:\n",
        "        print(number, 'is odd')"
      ],
      "execution_count": null,
      "outputs": [
        {
          "output_type": "stream",
          "text": [
            "1 is odd\n",
            "6 is even\n",
            "11 is odd\n",
            "16 is even\n",
            "21 is odd\n",
            "26 is even\n",
            "31 is odd\n",
            "36 is even\n",
            "41 is odd\n",
            "46 is even\n",
            "51 is odd\n",
            "56 is even\n",
            "61 is odd\n",
            "66 is even\n",
            "71 is odd\n",
            "76 is even\n",
            "81 is odd\n",
            "86 is even\n",
            "91 is odd\n",
            "96 is even\n"
          ],
          "name": "stdout"
        }
      ]
    },
    {
      "cell_type": "markdown",
      "metadata": {
        "id": "K36Iib30e-K9"
      },
      "source": [
        "### **Функция range**\n",
        "\n",
        "**range(begin, end, step)** принимает 3 аргумента: начало интервала begin, конец интервала end и шаг step, с которым будет двигаться по интервалу, и возвращает iterable объект -- по сути, массив чисел начиная с begin включительно, заканчивая end не включительно, числа в массиве идут с шагом step."
      ]
    },
    {
      "cell_type": "code",
      "metadata": {
        "colab": {
          "base_uri": "https://localhost:8080/"
        },
        "id": "t6aNF-VybPk8",
        "outputId": "08dfbcad-50eb-4e2b-f8f1-bfb4e2c27d9a"
      },
      "source": [
        "#  Функция range создаст массив длинной в 10 элементов\n",
        "r = range(1, 100, 10)\n",
        "#приведем возвращаемый iterable к list и выведем на экран:\n",
        "print(list(r))"
      ],
      "execution_count": null,
      "outputs": [
        {
          "output_type": "stream",
          "text": [
            "[1, 11, 21, 31, 41, 51, 61, 71, 81, 91]\n"
          ],
          "name": "stdout"
        }
      ]
    },
    {
      "cell_type": "markdown",
      "metadata": {
        "id": "l7LzTe82cTX4"
      },
      "source": [
        "Как вы видите, функция range взяла целое число и вернула объект range. Функция range также принимает начальное значение, конечное значение и значение шага."
      ]
    },
    {
      "cell_type": "markdown",
      "metadata": {
        "id": "PZ4AF5nEfloe"
      },
      "source": [
        "Примеры использования функции range() в циклах for:"
      ]
    },
    {
      "cell_type": "code",
      "metadata": {
        "colab": {
          "base_uri": "https://localhost:8080/"
        },
        "id": "BvyvZm2NfjwP",
        "outputId": "2e40a090-f6a3-427e-c425-485e9260bed2"
      },
      "source": [
        "for i in range(1, 10, 1):\n",
        "  print(i)\n",
        "# for(int i = 1; i < 10; i += 1){cout << i;}"
      ],
      "execution_count": null,
      "outputs": [
        {
          "output_type": "stream",
          "text": [
            "1\n",
            "2\n",
            "3\n",
            "4\n",
            "5\n",
            "6\n",
            "7\n",
            "8\n",
            "9\n"
          ],
          "name": "stdout"
        }
      ]
    },
    {
      "cell_type": "code",
      "metadata": {
        "colab": {
          "base_uri": "https://localhost:8080/"
        },
        "id": "M-HhAxeSbJqD",
        "outputId": "36ea3e3d-e9b6-4f90-82a2-2faf32c70bf9"
      },
      "source": [
        "for number in range(5):\n",
        "    print(number)"
      ],
      "execution_count": null,
      "outputs": [
        {
          "output_type": "stream",
          "text": [
            "0\n",
            "1\n",
            "2\n",
            "3\n",
            "4\n"
          ],
          "name": "stdout"
        }
      ]
    },
    {
      "cell_type": "markdown",
      "metadata": {
        "id": "4HV6waMegaEH"
      },
      "source": [
        "Перепишем следующую функцию при помощи **range**:"
      ]
    },
    {
      "cell_type": "code",
      "metadata": {
        "colab": {
          "base_uri": "https://localhost:8080/"
        },
        "id": "scVzz3higakt",
        "outputId": "c6972848-e0f5-440d-d0ba-7519bc078192"
      },
      "source": [
        "elems = ['first elem', 'second elem', 'third elem']\n",
        "for elem in elems:\n",
        "    print(elem)"
      ],
      "execution_count": null,
      "outputs": [
        {
          "output_type": "stream",
          "text": [
            "first elem\n",
            "second elem\n",
            "third elem\n"
          ],
          "name": "stdout"
        }
      ]
    },
    {
      "cell_type": "code",
      "metadata": {
        "colab": {
          "base_uri": "https://localhost:8080/"
        },
        "id": "-QWm8Ywhggbd",
        "outputId": "29b5ffbe-abf9-4d36-bcee-54ffacf35f26"
      },
      "source": [
        "for i in range(len(elems)):\n",
        "    print(i)\n",
        "    print(elems[i])"
      ],
      "execution_count": null,
      "outputs": [
        {
          "output_type": "stream",
          "text": [
            "0\n",
            "first elem\n",
            "1\n",
            "second elem\n",
            "2\n",
            "third elem\n"
          ],
          "name": "stdout"
        }
      ]
    },
    {
      "cell_type": "markdown",
      "metadata": {
        "id": "MEQ79YcGd1s_"
      },
      "source": [
        "### **Операторы в цикле for**"
      ]
    },
    {
      "cell_type": "markdown",
      "metadata": {
        "id": "fo7CPvtzd73V"
      },
      "source": [
        "Оператор **break** досрочно прерывает цикл."
      ]
    },
    {
      "cell_type": "code",
      "metadata": {
        "colab": {
          "base_uri": "https://localhost:8080/"
        },
        "id": "WPNd7F-gchd5",
        "outputId": "7b332018-eaa5-4cc1-fd3a-031ce1a5d4f7"
      },
      "source": [
        "for i in 'hello world':\n",
        "    if i == 'o':\n",
        "        break\n",
        "    print(i * 2, end='')"
      ],
      "execution_count": null,
      "outputs": [
        {
          "output_type": "stream",
          "text": [
            "hheellll"
          ],
          "name": "stdout"
        }
      ]
    },
    {
      "cell_type": "markdown",
      "metadata": {
        "id": "RCRUEOfZeDzE"
      },
      "source": [
        "Оператор **continue** начинает следующий проход цикла, минуя оставшееся тело цикла (for или while)"
      ]
    },
    {
      "cell_type": "code",
      "metadata": {
        "colab": {
          "base_uri": "https://localhost:8080/"
        },
        "id": "o0kZ_wO8d_KM",
        "outputId": "c196168a-0c48-45b3-a853-cadda259826d"
      },
      "source": [
        "for i in 'hello world':\n",
        "    if i == 'o':\n",
        "        continue\n",
        "    print(i * 2, end='')"
      ],
      "execution_count": null,
      "outputs": [
        {
          "output_type": "stream",
          "text": [
            "hheellll  wwrrlldd"
          ],
          "name": "stdout"
        }
      ]
    },
    {
      "cell_type": "markdown",
      "metadata": {
        "id": "pQC1DniLelUF"
      },
      "source": [
        "Оператор **pass** - это оператор-заглушка, равноценный отсутствию операции"
      ]
    },
    {
      "cell_type": "code",
      "metadata": {
        "id": "tVPJOl7QeHus"
      },
      "source": [
        "for i in 'hello world':\n",
        "  pass"
      ],
      "execution_count": null,
      "outputs": []
    },
    {
      "cell_type": "markdown",
      "metadata": {
        "id": "ZYFakmuthqnX"
      },
      "source": [
        "# 3. Подробнее о создании списков в Python"
      ]
    },
    {
      "cell_type": "markdown",
      "metadata": {
        "id": "GXHfcDEEj3C1"
      },
      "source": [
        "## 3.1. Использование цикла for"
      ]
    },
    {
      "cell_type": "code",
      "metadata": {
        "colab": {
          "base_uri": "https://localhost:8080/"
        },
        "id": "qBI3QMK7j6vZ",
        "outputId": "a73446c8-bd90-4fe8-b9c1-41ccd8509ca9"
      },
      "source": [
        "squares = []\n",
        "for i in range(10):\n",
        "    squares.append(i * i)\n",
        "squares"
      ],
      "execution_count": null,
      "outputs": [
        {
          "output_type": "execute_result",
          "data": {
            "text/plain": [
              "[0, 1, 4, 9, 16, 25, 36, 49, 64, 81]"
            ]
          },
          "metadata": {
            "tags": []
          },
          "execution_count": 392
        }
      ]
    },
    {
      "cell_type": "markdown",
      "metadata": {
        "id": "GYKdDbjGkGFi"
      },
      "source": [
        "## 3.2. использование объектов map"
      ]
    },
    {
      "cell_type": "markdown",
      "metadata": {
        "id": "xZuSUWKgjyMn"
      },
      "source": [
        "**map()** применяет указанную функцию к каждому элементу указанной последовательности/последовательностей. Функция, которую следует применить к элементам последовательности или последовательностей, должна принимать количество элементов равное количеству последовательностей."
      ]
    },
    {
      "cell_type": "code",
      "metadata": {
        "colab": {
          "base_uri": "https://localhost:8080/"
        },
        "id": "gfT8r3G0keZi",
        "outputId": "055a113e-5159-431a-ee10-d3bc8d9c6cc0"
      },
      "source": [
        "list1 = [1, 2, 3, 4]\n",
        "list2 = [4, 3, 2, 1]\n",
        "\n",
        "def a_na_b(a, b):\n",
        "    return a * b\n",
        "\n",
        "list(map(a_na_b, list1, list2))"
      ],
      "execution_count": null,
      "outputs": [
        {
          "output_type": "execute_result",
          "data": {
            "text/plain": [
              "[4, 6, 6, 4]"
            ]
          },
          "metadata": {
            "tags": []
          },
          "execution_count": 393
        }
      ]
    },
    {
      "cell_type": "markdown",
      "metadata": {
        "id": "Ro9OEcuziB94"
      },
      "source": [
        "## 3.3. List comprehensions\n",
        "Списковое включение — это встроенный в Python механизм генерации списков. У него только одна задача — это построить список."
      ]
    },
    {
      "cell_type": "code",
      "metadata": {
        "colab": {
          "base_uri": "https://localhost:8080/"
        },
        "id": "I32KdeBXh1d6",
        "outputId": "3a7c4bf3-d64d-4ec9-cfad-076463a7da41"
      },
      "source": [
        "%%timeit\n",
        "a = []\n",
        "n = 10000000 #try for smaller\n",
        "for i in range(n):\n",
        "    a.append(1)"
      ],
      "execution_count": null,
      "outputs": [
        {
          "output_type": "stream",
          "text": [
            "1 loop, best of 3: 794 ms per loop\n"
          ],
          "name": "stdout"
        }
      ]
    },
    {
      "cell_type": "code",
      "metadata": {
        "colab": {
          "base_uri": "https://localhost:8080/"
        },
        "id": "QSBWfTBMcKNq",
        "outputId": "8fd1bcea-d9ed-4c3e-84eb-c15c4a632723"
      },
      "source": [
        "a[:10]"
      ],
      "execution_count": null,
      "outputs": [
        {
          "output_type": "execute_result",
          "data": {
            "text/plain": [
              "[1, 1, 1, 1, 1, 1, 1, 1, 1, 1]"
            ]
          },
          "metadata": {
            "tags": []
          },
          "execution_count": 410
        }
      ]
    },
    {
      "cell_type": "code",
      "metadata": {
        "colab": {
          "base_uri": "https://localhost:8080/"
        },
        "id": "s_n1zgpQeb0y",
        "outputId": "aa67e8bb-dca9-45d0-c272-33d3b0102484"
      },
      "source": [
        "%timeit [1 for i in range(n)]"
      ],
      "execution_count": null,
      "outputs": [
        {
          "output_type": "stream",
          "text": [
            "10 loops, best of 3: 41.9 ms per loop\n"
          ],
          "name": "stdout"
        }
      ]
    },
    {
      "cell_type": "code",
      "metadata": {
        "id": "I5QPWcpAh40b",
        "colab": {
          "base_uri": "https://localhost:8080/"
        },
        "outputId": "1935bf36-76a2-4697-a15e-6988fdc0fb7b"
      },
      "source": [
        "%timeit np.ones(n) # инициализатор единичного массива из библиотеки Numpy"
      ],
      "execution_count": null,
      "outputs": [
        {
          "output_type": "stream",
          "text": [
            "1000 loops, best of 3: 748 µs per loop\n"
          ],
          "name": "stdout"
        }
      ]
    },
    {
      "cell_type": "markdown",
      "metadata": {
        "id": "r0IO1GW6o6uE"
      },
      "source": [
        "## Что же выбрать?\n",
        "\n",
        "Ниже представлено правило выбора нужного способа:\n",
        "\n",
        "<img src=\"https://github.com/ddvika/Data-Science-School-2020/blob/main/lecture_1/imgs/map_vs_list.jpg?raw=true\" width=700 height=390 /> \n",
        "\n",
        "Если Вам нужно вычислить сразу все значения и вычисления можно сделать без использования функций, то выбор Вам стоит сделать в сторону List Comprehension. Как показали результаты экспериментов — он имеет существенное преимущество в производительности."
      ]
    },
    {
      "cell_type": "markdown",
      "metadata": {
        "id": "_KirNiw7lNYo"
      },
      "source": [
        "# 4. Функции в Python"
      ]
    },
    {
      "cell_type": "markdown",
      "metadata": {
        "id": "E30OcgHT7Gy0"
      },
      "source": [
        "Функции в python - объект, который принимает аргументы, производит обработку данных, возвращает значение. Функция может принимать произвольное количество аргументов.\n",
        "\n",
        "Функция определяется:\n",
        "\n",
        "```\n",
        "def <Название функции>(параметр1, параметр2, ...):\n",
        "    --код--\n",
        "    return параметр1 + параметр2\n",
        "```\n",
        "\n",
        "Можно определить и необязательные элементы:\n",
        "```\n",
        "# param3 - необязательный аргумент, значение по умолчанию - 2\n",
        "def funсtion(param1, param2, param3 = 2):\n",
        "    return param1+param2+param3\n",
        "```\n"
      ]
    },
    {
      "cell_type": "code",
      "metadata": {
        "id": "VRtQsZke7Lrt"
      },
      "source": [
        "def a_plus_b(a, b = 1):\n",
        "    return a + b, b"
      ],
      "execution_count": null,
      "outputs": []
    },
    {
      "cell_type": "code",
      "metadata": {
        "colab": {
          "base_uri": "https://localhost:8080/"
        },
        "id": "UYUB-JRVeSu0",
        "outputId": "ad315a7e-830b-4ea5-9f3c-235efff31cd2"
      },
      "source": [
        "a_plus_b(a=5, b = 3)"
      ],
      "execution_count": null,
      "outputs": [
        {
          "output_type": "execute_result",
          "data": {
            "text/plain": [
              "(8, 3)"
            ]
          },
          "metadata": {
            "tags": []
          },
          "execution_count": 422
        }
      ]
    },
    {
      "cell_type": "code",
      "metadata": {
        "colab": {
          "base_uri": "https://localhost:8080/"
        },
        "id": "YDF8RScterCD",
        "outputId": "9b646745-6948-4a24-a8e2-b7bb2e852b9f"
      },
      "source": [
        "a = a_plus_b(1, b=2)[0]\n",
        "a"
      ],
      "execution_count": null,
      "outputs": [
        {
          "output_type": "execute_result",
          "data": {
            "text/plain": [
              "3"
            ]
          },
          "metadata": {
            "tags": []
          },
          "execution_count": 424
        }
      ]
    },
    {
      "cell_type": "code",
      "metadata": {
        "colab": {
          "base_uri": "https://localhost:8080/"
        },
        "id": "dNptWm-q7Vd9",
        "outputId": "894f0462-5567-41aa-abb2-ec5b1ada355c"
      },
      "source": [
        "a_plus_b(a)"
      ],
      "execution_count": null,
      "outputs": [
        {
          "output_type": "execute_result",
          "data": {
            "text/plain": [
              "(4, 1)"
            ]
          },
          "metadata": {
            "tags": []
          },
          "execution_count": 425
        }
      ]
    },
    {
      "cell_type": "markdown",
      "metadata": {
        "id": "jWr6kvK17Ols"
      },
      "source": [
        "Можно принять переменное количество позиционных аргументов, тогда перед именем ставим *"
      ]
    },
    {
      "cell_type": "code",
      "metadata": {
        "id": "35KAyw2Q7NQ5"
      },
      "source": [
        "def tail(a, *args):\n",
        "    return args"
      ],
      "execution_count": null,
      "outputs": []
    },
    {
      "cell_type": "code",
      "metadata": {
        "colab": {
          "base_uri": "https://localhost:8080/"
        },
        "id": "DhPs8Eg07TfI",
        "outputId": "7f18b105-a23e-418c-f2ab-3c929150afb9"
      },
      "source": [
        "# возвращает кортеж\n",
        "tail(1, [2], 'три')"
      ],
      "execution_count": null,
      "outputs": [
        {
          "output_type": "execute_result",
          "data": {
            "text/plain": [
              "([2], 'три')"
            ]
          },
          "metadata": {
            "tags": []
          },
          "execution_count": 427
        }
      ]
    },
    {
      "cell_type": "markdown",
      "metadata": {
        "id": "2ts9kT-a7fH2"
      },
      "source": [
        "По аналогии можно принять переменное количество именованных аргументов, тогда перед именем ставим **"
      ]
    },
    {
      "cell_type": "code",
      "metadata": {
        "colab": {
          "base_uri": "https://localhost:8080/"
        },
        "id": "XETAUIh_7hV3",
        "outputId": "b2ca123a-d5dd-42b0-b528-c102314ce9e3"
      },
      "source": [
        "def not_random_args_random_amm(**kwargs):\n",
        "    return kwargs\n",
        "\n",
        "# возвращает словарь\n",
        "not_random_args_random_amm(hello='world')"
      ],
      "execution_count": null,
      "outputs": [
        {
          "output_type": "execute_result",
          "data": {
            "text/plain": [
              "{'hello': 'world'}"
            ]
          },
          "metadata": {
            "tags": []
          },
          "execution_count": 428
        }
      ]
    },
    {
      "cell_type": "markdown",
      "metadata": {
        "id": "lMElLnI57k7x"
      },
      "source": [
        "## Локальная и глобальная области видимости"
      ]
    },
    {
      "cell_type": "markdown",
      "metadata": {
        "id": "1Z1GuGQg7uJb"
      },
      "source": [
        "Когда мы создаем переменную в блоке кода, она будет разрешена при помощи ближайшей области видимости, или областей. Группирование всех этих областей известно как среда блоков кода."
      ]
    },
    {
      "cell_type": "code",
      "metadata": {
        "colab": {
          "base_uri": "https://localhost:8080/"
        },
        "id": "-d_Lt1Zh7yHO",
        "outputId": "823bd19e-ba37-46a9-f0f3-cde605af683d"
      },
      "source": [
        "# глобальная переменная a\n",
        "a = 0\n",
        "\n",
        "def some_func(b):\n",
        "    # локальная переменная а\n",
        "    b = 1\n",
        "    return b\n",
        "\n",
        "a = some_func(a)\n",
        "a"
      ],
      "execution_count": null,
      "outputs": [
        {
          "output_type": "execute_result",
          "data": {
            "text/plain": [
              "1"
            ]
          },
          "metadata": {
            "tags": []
          },
          "execution_count": 430
        }
      ]
    },
    {
      "cell_type": "markdown",
      "metadata": {
        "id": "FVYbqVsO7-3V"
      },
      "source": [
        "Python содержит оператор global, он объявляет переменную доступной для блока кода, следующим за оператором."
      ]
    },
    {
      "cell_type": "code",
      "metadata": {
        "colab": {
          "base_uri": "https://localhost:8080/"
        },
        "id": "VcyyXHPX7_5r",
        "outputId": "95ae0234-0c73-4648-acc6-7422026fc0dd"
      },
      "source": [
        "# глобальная переменная a\n",
        "a = 0\n",
        "\n",
        "def some_func(x):\n",
        "    # даем функции \"увидеть\" глобальную а\n",
        "    global a\n",
        "    a = 1\n",
        "\n",
        "some_func(a)\n",
        "a"
      ],
      "execution_count": null,
      "outputs": [
        {
          "output_type": "execute_result",
          "data": {
            "text/plain": [
              "1"
            ]
          },
          "metadata": {
            "tags": []
          },
          "execution_count": 429
        }
      ]
    },
    {
      "cell_type": "code",
      "metadata": {
        "colab": {
          "base_uri": "https://localhost:8080/"
        },
        "id": "WuH-V9Eh8B3r",
        "outputId": "e28ed2b3-5ade-44fe-f447-ae942a0457e7"
      },
      "source": [
        "def some_func():\n",
        "    a = 5\n",
        "    def increase_a(): \n",
        "        nonlocal a\n",
        "        a += 1\n",
        "        return a\n",
        "    return increase_a\n",
        "\n",
        "some_func()()"
      ],
      "execution_count": null,
      "outputs": [
        {
          "output_type": "execute_result",
          "data": {
            "text/plain": [
              "6"
            ]
          },
          "metadata": {
            "tags": []
          },
          "execution_count": 431
        }
      ]
    },
    {
      "cell_type": "markdown",
      "metadata": {
        "id": "eYmYPv1b8NE0"
      },
      "source": [
        "## Анонимные функции, lambda"
      ]
    },
    {
      "cell_type": "markdown",
      "metadata": {
        "id": "VE417dgt8SOI"
      },
      "source": [
        "Анонимные функции могут содержать лишь одно выражение, но выполняются они быстрее. Обозначается lambda, ее не обязательно присваивать переменной (как с def)."
      ]
    },
    {
      "cell_type": "code",
      "metadata": {
        "colab": {
          "base_uri": "https://localhost:8080/"
        },
        "id": "6c4MUYpF8V1G",
        "outputId": "8e027f24-2beb-4063-ddc6-87bc78c5c8e3"
      },
      "source": [
        "# возводим а в степень b\n",
        "func = lambda a, b: a**b\n",
        "func(2, 3)"
      ],
      "execution_count": null,
      "outputs": [
        {
          "output_type": "execute_result",
          "data": {
            "text/plain": [
              "8"
            ]
          },
          "metadata": {
            "tags": []
          },
          "execution_count": 432
        }
      ]
    },
    {
      "cell_type": "code",
      "metadata": {
        "colab": {
          "base_uri": "https://localhost:8080/"
        },
        "id": "vw4B0pkq8Xub",
        "outputId": "3eac5c45-5e5c-494c-eea6-4c3c4ea8c35f"
      },
      "source": [
        "func = lambda *args: args[2]*args[1]\n",
        "func(2, 3, 4)"
      ],
      "execution_count": null,
      "outputs": [
        {
          "output_type": "execute_result",
          "data": {
            "text/plain": [
              "12"
            ]
          },
          "metadata": {
            "tags": []
          },
          "execution_count": 434
        }
      ]
    },
    {
      "cell_type": "markdown",
      "metadata": {
        "id": "zmvNCdwPlcNY"
      },
      "source": [
        "# 5. Постулаты ООП"
      ]
    },
    {
      "cell_type": "markdown",
      "metadata": {
        "id": "ZpOIdGwL9U59"
      },
      "source": [
        "## Объектно-ориентированное программирование (ООП)\n",
        "\n",
        "ООП - парадигма программирования, основанная на концепциях объектов и классов.\n",
        "\n",
        "*   Класс — тип, описывающий устройство объектов. \n",
        "*   Объект — экземпляр класса. Класс - основа, на которой определяются объекты.\n",
        "\n",
        "В python всё является объектами (строки, списки, ...)\n",
        "\n",
        "Но возможности ООП в python этим не ограничены. Мы можем написать свой тип данных (класс), определить в нём свои методы.\n",
        "\n",
        "Это не является обязательным - мы можем пользоваться только встроенными объектами. Однако ООП полезно при долгосрочной разработке программы несколькими людьми, оно сильно упрощает понимание кода.\n",
        "\n",
        "\n",
        "Стандартная конструкция \n",
        "\n",
        "\n",
        "```\n",
        "class [название класса]() \n",
        "```\n",
        "\n",
        "\n",
        "---\n",
        "\n",
        "Зачем нам self?\n",
        "Классам нужен способ, что ссылаться на самих себя т.е. способ сообщения между экземплярами. Слово self это способ описания любого объектов."
      ]
    },
    {
      "cell_type": "code",
      "metadata": {
        "id": "Jxmk7zKX9dag"
      },
      "source": [
        "class Sber():\n",
        "    # конструктор класса\n",
        "    # после того, как класс инициализирован - в него можно принимать агрументы\n",
        "    # конструкция __init__ автоматически запустится, в hello запишется 'привет'\n",
        "    def __init__(self, hey):\n",
        "        self.hello = hey\n",
        "\n",
        "    # определим функцию класса - распечатаем внутренний параметр hello\n",
        "    def print_hello(self):\n",
        "        print(self.hello) "
      ],
      "execution_count": null,
      "outputs": []
    },
    {
      "cell_type": "code",
      "metadata": {
        "id": "g-OSo9Df9hGE"
      },
      "source": [
        "# Определим объект класса и передадим в него аргументы\n",
        "class_obj = Sber('привет')\n",
        "# вызовем функцию класса\n",
        "class_obj.print_hello()"
      ],
      "execution_count": null,
      "outputs": []
    },
    {
      "cell_type": "markdown",
      "metadata": {
        "id": "nL-hEO_68dJp"
      },
      "source": [
        "## 5.1. Инкапсуляция\n",
        "\n",
        "Инкапсуляция – скрытие реализации каких либо частей модуля или объекта от внешнего мира (от клиента). Это означает, что манипулируя модификаторами доступа, можно скрыть или открыть только определенные свойства, методы или классы для того, чтобы ненужные для класса-клиента данные не были доступны.\n",
        "\n",
        "Инкапсуляция в Python работает лишь на уровне соглашения между программистами о том, какие атрибуты являются общедоступными, а какие — внутренними.\n",
        "\n",
        "Одиночное подчеркивание в начале имени атрибута говорит о том, что переменная или метод не предназначен для использования вне методов класса, однако атрибут доступен по этому имени."
      ]
    },
    {
      "cell_type": "code",
      "metadata": {
        "id": "MUMGGCIx8j-e"
      },
      "source": [
        "class Test:\n",
        "    name = \"test case\" \n",
        "    def __init__(self, seed=42):\n",
        "        self._seed = seed\n",
        "\n",
        "    def _secret(self):\n",
        "        return Test.name + ' ' + str(self._seed)\n",
        "        \n",
        "    def __str__(self):\n",
        "        return self._secret()\n",
        "\n",
        "obj = Test()\n",
        "obj._secret()"
      ],
      "execution_count": null,
      "outputs": []
    },
    {
      "cell_type": "code",
      "metadata": {
        "id": "BpYDBVCygRja"
      },
      "source": [
        "obj.__str__()"
      ],
      "execution_count": null,
      "outputs": []
    },
    {
      "cell_type": "markdown",
      "metadata": {
        "id": "iNsAHj5R8qRR"
      },
      "source": [
        "Двойное подчеркивание в начале имени атрибута даёт большую защиту: атрибут становится недоступным по этому имени."
      ]
    },
    {
      "cell_type": "code",
      "metadata": {
        "id": "FSTeXVYR8piH"
      },
      "source": [
        "class Test:\n",
        "    def __secret(self):\n",
        "        print('top secret')\n",
        "\n",
        "obj = Test()\n",
        "obj.__secret()"
      ],
      "execution_count": null,
      "outputs": []
    },
    {
      "cell_type": "code",
      "metadata": {
        "id": "NqlbY3I98w4R"
      },
      "source": [
        "obj._Test__secret()"
      ],
      "execution_count": null,
      "outputs": []
    },
    {
      "cell_type": "markdown",
      "metadata": {
        "id": "nc5N9vyE8z7l"
      },
      "source": [
        "## 5.2. Наследование"
      ]
    },
    {
      "cell_type": "markdown",
      "metadata": {
        "id": "ZR4UOn0C84Yw"
      },
      "source": [
        "Наследование подразумевает то, что дочерний класс содержит все атрибуты родительского класса, при этом некоторые из них могут быть переопределены или добавлены в дочернем."
      ]
    },
    {
      "cell_type": "code",
      "metadata": {
        "id": "VCaoKc-H85z3"
      },
      "source": [
        "class Human():  \n",
        "    # Конструктор\n",
        "    def __init__(self, name, age, sex):\n",
        "        self.name = name \n",
        "        self.age = age \n",
        "        self.sex = sex \n",
        "        \n",
        "    # Метод (method):\n",
        "    def showInfo(self):\n",
        "        print(f'Человек: {self.name}, возраст {self.age}, пол {self.sex}')\n",
        "\n",
        "class SuperMan(Human):\n",
        "    def __init__(self, name, age, sex, height, weight):\n",
        "        # Вызывается конструктор родительского класса (Human)\n",
        "        # чтобы прикрепить значение к атрибутам 'name', 'age', 'sex' родительского класса\n",
        "        super().__init__(name, age, sex)\n",
        "\n",
        "        # Доопределяем передаваемые в конструктор SuperMan переменные\n",
        "        self.height = height\n",
        "        self.weight = weight\n",
        "\n",
        "    def showInfo(self):\n",
        "        print(f'Cупермен| имя: {self.name}, возраст {self.age}, пол {self.sex}, вес {self.weight}, рост {self.height}')"
      ],
      "execution_count": null,
      "outputs": []
    },
    {
      "cell_type": "code",
      "metadata": {
        "id": "PfbOZ60X88Jk"
      },
      "source": [
        "human_obj = Human('Петя', 25, 'муж.')\n",
        "human_obj.showInfo()"
      ],
      "execution_count": null,
      "outputs": []
    },
    {
      "cell_type": "code",
      "metadata": {
        "id": "2ttq7Dd_8_45"
      },
      "source": [
        "superman_obj = SuperMan('Кларк ', 34, 'муж.', 191, 107)\n",
        "superman_obj.showInfo()"
      ],
      "execution_count": null,
      "outputs": []
    },
    {
      "cell_type": "markdown",
      "metadata": {
        "id": "plDydkYV9Hdn"
      },
      "source": [
        "## 5.3. Полиморфизм"
      ]
    },
    {
      "cell_type": "markdown",
      "metadata": {
        "id": "yqYpElDM9M7f"
      },
      "source": [
        "Полиморфизм – это возможность обработки разных типов данных, т.е. принадлежащих к разным классам, с помощью \"одно и той же\" функции, или метода. На самом деле одинаковым является только имя метода, его исходный код зависит от класса. Кроме того, результаты работы одноименных методов могут существенно различаться. Поэтому в данном контексте под полиморфизмом понимается множество форм одного и того же слова – имени метода."
      ]
    },
    {
      "cell_type": "code",
      "metadata": {
        "id": "qeMEd7ta9NtP"
      },
      "source": [
        "superman_obj.showInfo()\n",
        "human_obj.showInfo()"
      ],
      "execution_count": null,
      "outputs": []
    },
    {
      "cell_type": "markdown",
      "metadata": {
        "id": "WjXO0FzDlftc"
      },
      "source": [
        "# Задания для самостоятельного выполнения\n",
        "\n",
        "**Подсказка!** проверяйте ваше решение по тому, что уже есть в блоках вывода ячеек"
      ]
    },
    {
      "cell_type": "markdown",
      "metadata": {
        "id": "4Wgp1FDn9oeh"
      },
      "source": [
        "## Задание 1\n",
        "\n",
        "Создайте список (list) с элементами от 1 до 10 включительно двумя разными способами:\n",
        "* при помощи list comprehensions\n",
        "* при помощи цикла for"
      ]
    },
    {
      "cell_type": "code",
      "metadata": {
        "colab": {
          "base_uri": "https://localhost:8080/"
        },
        "id": "Trw5fZtq-sKK",
        "outputId": "8a6bffe6-ea42-4022-a58a-63947f0f9f2e"
      },
      "source": [
        "#Ваше решение тут\n"
      ],
      "execution_count": null,
      "outputs": [
        {
          "output_type": "execute_result",
          "data": {
            "text/plain": [
              "[1, 2, 3, 4, 5, 6, 7, 8, 9, 10]"
            ]
          },
          "metadata": {
            "tags": []
          },
          "execution_count": 199
        }
      ]
    },
    {
      "cell_type": "markdown",
      "metadata": {
        "id": "WFASdcHs-HDU"
      },
      "source": [
        "## Задание 2\n",
        "\n",
        "Создайте список (list) с **четными** элементами из промежутка от 1 до 10 включительно двумя разными способами:\n",
        "* при помощи list comprehensions\n",
        "* при помощи цикла for"
      ]
    },
    {
      "cell_type": "code",
      "metadata": {
        "colab": {
          "base_uri": "https://localhost:8080/"
        },
        "id": "DAB9tzx6lGg_",
        "outputId": "f2d3aa83-ac93-4af5-99af-a3601023399f"
      },
      "source": [
        "#Ваше решение тут\n"
      ],
      "execution_count": null,
      "outputs": [
        {
          "output_type": "execute_result",
          "data": {
            "text/plain": [
              "[2, 4, 6, 8, 10]"
            ]
          },
          "metadata": {
            "tags": []
          },
          "execution_count": 200
        }
      ]
    },
    {
      "cell_type": "markdown",
      "metadata": {
        "id": "ART_Rcf8_D1Q"
      },
      "source": [
        "## Задание 3\n",
        "присвойте переменной **x** следующее значение:\n",
        "$$\n",
        "x=100^{3^{2}}-\\frac{10^{3}}{5^{2}}\n",
        "$$\n",
        "Выведите, чему теперь равна переменная **x**"
      ]
    },
    {
      "cell_type": "code",
      "metadata": {
        "colab": {
          "base_uri": "https://localhost:8080/"
        },
        "id": "60of6x1F-4xb",
        "outputId": "454ced16-ae53-4d4c-9108-0821c9081bdd"
      },
      "source": [
        "#Ваше решение тут\n"
      ],
      "execution_count": null,
      "outputs": [
        {
          "output_type": "execute_result",
          "data": {
            "text/plain": [
              "999999999960.0"
            ]
          },
          "metadata": {
            "tags": []
          },
          "execution_count": 196
        }
      ]
    },
    {
      "cell_type": "markdown",
      "metadata": {
        "id": "JUkk796pANdG"
      },
      "source": [
        "## Задание 4\n",
        "\n",
        "Найдите, истинно ли, что 3 в 15 степени больше 3000 при условии, что 3 в 7й степени меньше 7 в 5й."
      ]
    },
    {
      "cell_type": "code",
      "metadata": {
        "colab": {
          "base_uri": "https://localhost:8080/"
        },
        "id": "1d68HG4SAg3t",
        "outputId": "ba45fe1e-5cc1-4523-b338-933e63319edf"
      },
      "source": [
        "#Ваше решение тут\n"
      ],
      "execution_count": null,
      "outputs": [
        {
          "output_type": "stream",
          "text": [
            "True\n"
          ],
          "name": "stdout"
        }
      ]
    },
    {
      "cell_type": "markdown",
      "metadata": {
        "id": "fIJhD6MSA7Sm"
      },
      "source": [
        "## Задание 5\n",
        "Мы принимаем целое число на ввод с клавиатуры (код предоставлен), вывести \"цена выше рынка\", если число выше 1200, \"цена ниже рыночной\", если число меньше 800 и \"все ок\" в остальных случаях."
      ]
    },
    {
      "cell_type": "code",
      "metadata": {
        "colab": {
          "base_uri": "https://localhost:8080/"
        },
        "id": "Z785bvZhAJHy",
        "outputId": "6a2612f5-d035-47cc-8b1f-1771477dabcb"
      },
      "source": [
        "price = int(input('Введите цену товара: '))\n",
        "#Ваше решение тут"
      ],
      "execution_count": 1,
      "outputs": [
        {
          "output_type": "stream",
          "text": [
            "Введите цену товара: 1000\n",
            "все ок\n"
          ],
          "name": "stdout"
        }
      ]
    },
    {
      "cell_type": "markdown",
      "metadata": {
        "id": "t-FCWwCmBNjV"
      },
      "source": [
        "## Задание 6\n",
        "\n",
        "Даны два словаря: dictionary_1 = {'price_1': 300, 'price_2': 400} и dictionary_2 = {'price_1': 500, 'price_3': 600}. Объедините их в один при помощи встроенных функций языка Python (методов объекта dict)."
      ]
    },
    {
      "cell_type": "code",
      "metadata": {
        "colab": {
          "base_uri": "https://localhost:8080/"
        },
        "id": "M64tMdg3BGI-",
        "outputId": "9e52bec2-8a70-4aae-d323-103eeed61949"
      },
      "source": [
        "#Ваше решение тут\n"
      ],
      "execution_count": null,
      "outputs": [
        {
          "output_type": "execute_result",
          "data": {
            "text/plain": [
              "{'price_1': 500, 'price_2': 400, 'price_3': 600}"
            ]
          },
          "metadata": {
            "tags": []
          },
          "execution_count": 202
        }
      ]
    },
    {
      "cell_type": "markdown",
      "metadata": {
        "id": "VYrTaYnpDv3e"
      },
      "source": [
        "## Задание 7\n",
        "Сравните время, затраченное на вычисление частного списков list со значениями от 1 до 10^6 и время, затраченное на вычисление частного массивов типа numpy arrays со значениями от 1 до 10^6 (см. пункт \" Numpy array vs Python list\" в этом ноутбуке)\n",
        "\n",
        "*Подсказка! для генерации list используйте функцию range(), для генерации numpy array - np.arange()*"
      ]
    },
    {
      "cell_type": "code",
      "metadata": {
        "colab": {
          "base_uri": "https://localhost:8080/"
        },
        "id": "Ujh0N0ZvCvfe",
        "outputId": "32af80be-0810-4be6-c05d-fb7605f22ee7"
      },
      "source": [
        "#Ваше решение тут\n"
      ],
      "execution_count": null,
      "outputs": [
        {
          "output_type": "stream",
          "text": [
            "\n",
            " Частное массивов :\n",
            "Время затраченное на деление списков типа list: 0.15817618370056152 секунд\n",
            "Время затраченное на деление массивов типа ndarray: 0.006802797317504883 секунд\n"
          ],
          "name": "stdout"
        }
      ]
    },
    {
      "cell_type": "markdown",
      "metadata": {
        "id": "rw7v8PGlFeKj"
      },
      "source": [
        "## Задание 8\n",
        "\n",
        "Напишите цикл, который выводит все числа от 0 до 500, делящиеся на 7, если в них есть цифра 8.\n",
        "Подсказка: переменную типа int можно привести к типу str:\n",
        "```\n",
        "x = 5\n",
        "y = str(x)\n",
        "```"
      ]
    },
    {
      "cell_type": "code",
      "metadata": {
        "id": "95xgUWkhEAio"
      },
      "source": [
        "#Ваше решение тут\n"
      ],
      "execution_count": null,
      "outputs": []
    },
    {
      "cell_type": "markdown",
      "metadata": {
        "id": "ORiF3smuGPSU"
      },
      "source": [
        "## Задание 9\n",
        "Дан массив строк mas. Одной строкой создайте словарь, в котором по ключу строки будет записана пара (кортеж длины 2) (индекс строки в массиве mas, длина строки)"
      ]
    },
    {
      "cell_type": "code",
      "metadata": {
        "colab": {
          "base_uri": "https://localhost:8080/"
        },
        "id": "WGm-xViIFwNS",
        "outputId": "db13fdba-c3e5-4426-f08d-fc57ac98d633"
      },
      "source": [
        "mas = ['abc', 'def', 'hello', 'world']\n",
        "#Ваше решение тут\n"
      ],
      "execution_count": null,
      "outputs": [
        {
          "output_type": "execute_result",
          "data": {
            "text/plain": [
              "{'abc': (0, 3), 'def': (1, 3), 'hello': (2, 5), 'world': (3, 5)}"
            ]
          },
          "metadata": {
            "tags": []
          },
          "execution_count": 205
        }
      ]
    },
    {
      "cell_type": "markdown",
      "metadata": {
        "id": "JOfOYKkNHMPy"
      },
      "source": [
        "## Задание 10\n",
        "Реализовать функцию, которая сохраняет в 2 глобальные переменные:\n",
        "сумму всех позиционных аргументов - релизовать через lambda;\n",
        "название всех именованных аргументов в виде списка."
      ]
    },
    {
      "cell_type": "code",
      "metadata": {
        "colab": {
          "base_uri": "https://localhost:8080/"
        },
        "id": "3xg8ELhdTb12",
        "outputId": "f1dff3fa-5b9e-488c-9d7d-371642b96345"
      },
      "source": [
        "summ = 0\n",
        "names = []\n",
        "#Ваше решение тут\n",
        "\n",
        "\n",
        "another_func(1, 2, 3, a=4, b=5)\n",
        "\n",
        "print(f'Cумма {summ}, названия {names}')"
      ],
      "execution_count": null,
      "outputs": [
        {
          "output_type": "stream",
          "text": [
            "Сумма 6 , названия ['a', 'b']\n"
          ],
          "name": "stdout"
        }
      ]
    }
  ]
}