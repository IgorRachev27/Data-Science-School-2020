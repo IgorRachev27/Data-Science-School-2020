{
  "nbformat": 4,
  "nbformat_minor": 0,
  "metadata": {
    "colab": {
      "name": "Занятие 1. Введение в Python.ipynb",
      "provenance": [],
      "collapsed_sections": [],
      "toc_visible": true
    },
    "kernelspec": {
      "name": "python3",
      "display_name": "Python 3"
    }
  },
  "cells": [
    {
      "cell_type": "markdown",
      "metadata": {
        "id": "iW-eBK83nxM6"
      },
      "source": [
        "# Занятие 1. Введение в язык Python.\n",
        "*24.11.2020.*\n",
        "#### **Преподаватель:** Виктория Дочкина"
      ]
    },
    {
      "cell_type": "markdown",
      "metadata": {
        "id": "qxQmUTyPl7NC"
      },
      "source": [
        "## План занятия:\n",
        "- Введение, общие факты о языке Python\n",
        "* Разберем основные встроенные типы данных в Python\n",
        "  *  работа с массивами и переменными\n",
        "  * основные методы встроенных объектов\n",
        "* Поймем почему использовать массивы типа ndarray целесообразние чем встроенные списки типа list\n",
        "* Рзберем циклы for while\n",
        "  * операторы в циклах\n",
        "* Рассмотри что такое List и Dict comprehensions\n",
        "* Функции в Python\n",
        "* Постулаты ООП\n",
        "* ДЗ"
      ]
    },
    {
      "cell_type": "markdown",
      "metadata": {
        "id": "EjhsRL8Il1bo"
      },
      "source": [
        "# Введение"
      ]
    },
    {
      "cell_type": "markdown",
      "metadata": {
        "id": "ntmw6Ix01EZn"
      },
      "source": [
        "## О языке Python\n",
        "\n",
        "<center><img src=\"https://github.com/ddvika/Data-Science-School-2020/blob/main/lecture_1/imgs/Python_logo.png?raw=true\" width=550 height=250/><center>"
      ]
    },
    {
      "cell_type": "markdown",
      "metadata": {
        "id": "3oPf_mQhpNn7"
      },
      "source": [
        "В течение курса мы будем пользоваться таким инструментом как Python. Существуют 2 версии: Python 2 и Python 3. Стоит отметить, что они несовместими. **Мы будем пользоваться Python 3.** Точная версия не принципиальна, но она должна быть **>= 3.6.0.**\n",
        "\n",
        "- [Как установить Python на Windows](https://python-scripts.com/install-python-windows)\n",
        "- [Как установить Python на MacOS](https://www.codeflow.site/ru/article/how-to-install-python-3-and-set-up-a-local-programming-environment-on-macos)\n",
        "- [Как установить Python на Ubuntu](https://devacademy.ru/recipe/kak-ustanovit-python-38-v-ubuntu-1804)\n",
        "\n",
        "Если Вы пользуетесь каким-либо из дистрибутивов Linux, то Python скорее всего уже установлен.\n",
        "Попробуйте в терминале следующие команды для запуска интерактивного режима работы:\n",
        "\n",
        "`python` или `python3` или `python2`"
      ]
    },
    {
      "cell_type": "markdown",
      "metadata": {
        "id": "thKXLT_9oDRV"
      },
      "source": [
        "#### Python: преимущества и недостатки:\n",
        "* **Python** — самый быстрорастущий язык программирования за последние несколько лет. Об этом говорит [исследование StackOverflow](https://insights.stackoverflow.com/survey/2019#technology). \n",
        "\n",
        "<center><img src=\"https://github.com/ddvika/Data-Science-School-2020/blob/main/lecture_1/imgs/stack.png?raw=true\" width=550 height=300/><center>\n"
      ]
    },
    {
      "cell_type": "markdown",
      "metadata": {
        "id": "AY4eGgVYw6Fc"
      },
      "source": [
        "* **Python - интерпретируемый язык программирования.** С одной стороны, это позволяет значительно упростить отладку программ, с другой - обуславливает сравнительно низкую скорость выполнения.\n",
        "* **Простота.** У него понятный синтаксис, похожий на обычный, «человеческий» язык. Также у языка **динамическая типизация**, что позволяет не объявлять заранее тип переменной.\n",
        "* Хорошая **поддержка модульности.** Вы можете легко написать свой модуль и использовать его в других программах.\n",
        "* **Огромное количество библиотек**, как входящих в стандартную поставку Python 3, так и сторонних. В некоторых случаях для написания программы достаточно лишь найти подходящие модули и правильно их скомбинировать.\n",
        "* Встроенная **поддержка Unicode** в строках. В Python необязательно писать всё на английском языке, в программах вполне может использоваться ваш родной язык.\n",
        "* Автоматическая сборка мусора, **отсутствие утечек памяти.**\n",
        "* **Кроссплатформенность.** Программа, написанная на Python, будет функционировать совершенно одинаково вне зависимости от того, в какой операционной системе она запущена. Отличия возникают лишь в редких случаях."
      ]
    },
    {
      "cell_type": "markdown",
      "metadata": {
        "id": "rxoxurdoI3U6"
      },
      "source": [
        "Пример программы на Python:"
      ]
    },
    {
      "cell_type": "code",
      "metadata": {
        "colab": {
          "base_uri": "https://localhost:8080/"
        },
        "collapsed": true,
        "id": "yPSTOwwEIy6t",
        "outputId": "0748e533-f6b0-4328-9bc7-de83b3b671db"
      },
      "source": [
        "print('Hello world!')"
      ],
      "execution_count": 41,
      "outputs": [
        {
          "output_type": "stream",
          "text": [
            "Hello world!\n"
          ],
          "name": "stdout"
        }
      ]
    },
    {
      "cell_type": "markdown",
      "metadata": {
        "id": "8t4b8tmyJBiJ"
      },
      "source": [
        "Сравним с другим языком:\n",
        "\n",
        "```\n",
        "#include <iostream>\n",
        "\n",
        "int main(int argc, char** argv) {\n",
        "    std::cout << \"Hello, World!\" << std::endl;\n",
        "    return 0;\n",
        "}\n",
        "```"
      ]
    },
    {
      "cell_type": "markdown",
      "metadata": {
        "id": "fWLyhZ64xFMC"
      },
      "source": [
        "## Anaconda"
      ]
    },
    {
      "cell_type": "markdown",
      "metadata": {
        "id": "QOnyBxlc0CDq"
      },
      "source": [
        "\n",
        "<center><img src=\"https://github.com/ddvika/Data-Science-School-2020/blob/main/lecture_1/imgs/anaconda-logo.png?raw=true\" width=550 height=100/><center>"
      ]
    },
    {
      "cell_type": "markdown",
      "metadata": {
        "id": "T5UXiMGUywEB"
      },
      "source": [
        "Anaconda – свободный дистрибутив со свободной лицензией, предназначенный для языков программирования Python и R. Проект имеет открытый исходный код для обработки данных большого объема, построения аналитических прогнозов и научных вычислений. Conda позволяет упростить управление и использование пакетов. Версии пакетов контролируются системой управления пакетами conda. По умолчанию, вместе с Anaconda устанавливается также:\n",
        " \n",
        "* JupyterLab\n",
        "* Jupyter Notebook\n",
        "* Spyder\n",
        " \n",
        "С их помощью можно создавать .ipynb файлы, называемые ноутбуками. Подробнее про них - ниже.\n",
        " \n",
        "---\n",
        " \n",
        "Встроенный в conda пакетный менеджер активируется в командной строке словом conda. В conda дополнительно встроено множество различных библиотек питона, для этого необходимо открыть командную строку (cmd.exe, можно найти поиском по системе) и запустить conda list.\n",
        " \n",
        "---\n",
        " \n",
        "Conda позволяет создавать виртуальные окружения для изолированной разработки программ. Делается это при помощи команды:\n",
        " \n",
        "`conda create --name myenv`\n",
        " \n",
        "Когда conda попросит вас продолжить, введите y\n",
        " \n",
        "Чтобы создать среду с определенной версией Python:\n",
        " \n",
        "`conda create -n myenv python=3.6`\n",
        " \n",
        "Чтобы создать среду с определенным пакетом (например, scipy):\n",
        " \n",
        "`conda create -n myenv scipy`\n",
        "\n",
        "[Как установить Anaconda на Windows/MacOS/Linux](https://docs.anaconda.com/anaconda/install/)"
      ]
    },
    {
      "cell_type": "markdown",
      "metadata": {
        "id": "ieS6DloPxeLY"
      },
      "source": [
        "## Pip"
      ]
    },
    {
      "cell_type": "markdown",
      "metadata": {
        "id": "9YK10bqnxljL"
      },
      "source": [
        "**pip** - это система управления пакетами, которая используется для установки и управления программными пакетами, написанными на Python. То есть, основную часть библиотек для Python вы можете скачать при помощи pip системы. Начиная с Python версии 3.4, pip поставляется вместе с интерпретатором python, соответственно отдельно скачивать его не придется.\n",
        "\n",
        "Чтобы с помощью pip установить какой-нибудь пакет, например, numpy, напишите в терминале:\n",
        "\n",
        "**Linux:**\n",
        "\n",
        "`sudo pip3 install numpy`\n",
        "\n",
        "**Windows:**\n",
        "\n",
        "`pip3 install numpy`"
      ]
    },
    {
      "cell_type": "markdown",
      "metadata": {
        "id": "6phhKY70svfM"
      },
      "source": [
        "## Jupyter notebook"
      ]
    },
    {
      "cell_type": "markdown",
      "metadata": {
        "id": "kDDh0Hd10u4S"
      },
      "source": [
        "<center><img src=\"https://github.com/ddvika/Data-Science-School-2020/blob/main/lecture_1/imgs/jupyter_logo.png?raw=true\" width=650 height=190/><center>"
      ]
    },
    {
      "cell_type": "markdown",
      "metadata": {
        "id": "vND7XGLD1pIw"
      },
      "source": [
        "Текст, который вы сейчас читаете находится в Jupyter Notebook. Notebook или же блокнот, объединяет код и его вывод в единый документ, который объединяет визуализацию, повествовательный текст, математические уравнения и другие мультимедиа. Этот интуитивно понятный рабочий процесс способствует итеративной и быстрой разработке, что делает ноутбуки все более популярным выбором для представления в данных и их анализа.\n",
        "\n",
        "Сейчас, и на последующих занятиях мы будем использовать Jupyter Notebook'и.\n",
        "Возможны два варианта создания и использования таких блокнотов:\n",
        "- при помощи [Google colab](https://colab.research.google.com) в вэб-браузере\n",
        "- установить самостоятельно на компьютер (инструкцию см. ниже)\n",
        "\n",
        "После установки Аnaconda в командной строке, которую можно открыть прямо в папке (в случае Windows в проводнике, в нужной папке файл -> Запустить Windows PowerShell, в случае linux/mac - зажать ctrl+alt+t или в проводнике нажать пкм в нужной папке -> открыть терминал) введем команду jupyter notebook\n",
        "В вашем браузере по умолчанию откроется новая вкладка, домашняя страница проекта Jupyter. В правом верхнем углу будет расположена кнопка new -> python 3, после чего должен быть доступен интерфейс для работы с jupyter файлом, где можно создавать ячейки с текстом или кодом."
      ]
    },
    {
      "cell_type": "markdown",
      "metadata": {
        "id": "H1u32QW326mO"
      },
      "source": [
        "**Итак... Начнем занятие**"
      ]
    },
    {
      "cell_type": "markdown",
      "metadata": {
        "id": "YDWEUSE81uHP"
      },
      "source": [
        "# 1. Встроенные типы данных в Python\n",
        "Давайте поговорим о встроенных типах данных в этом замечательном языке.\n",
        "Под словом \"переменная\" подразумевается название для зарезервированного места в памяти компьютера, которое предназначено для хранения определенного значения/значений. В Python всё, что можно положить в переменную, является объектом. А сама переменная является ссылкой на этот объект. Объекты «живут» в своём мире независимо от переменных, а переменные — один из способов обратиться извне к миру объектов. \n",
        "\n",
        "Количество выделяемой интерпретатором памяти определяется на основе типа данных переменной. Подробнее о типах данных:\n",
        "Все типы данных в Python относятся к одной из 2-х категорий: изменяемые (mutable) и неизменяемые (unmutable).\n",
        "\n",
        "**Неизменяемые:**\n",
        "\n",
        "* Числа (int, float, comples)\n",
        "* Логический тип (bool)\n",
        "* None\n",
        "* Строка (str)\n",
        "* Кортеж (tuple)\n",
        "\n",
        "**Изменяемые:**\n",
        "* Список (list)\n",
        "* Словарь (dict)\n",
        "* Множества (set)"
      ]
    },
    {
      "cell_type": "markdown",
      "metadata": {
        "id": "sXczQ0vm9Al0"
      },
      "source": [
        "У **неизменяемых** объектов отсутствует модифицирующие их методы. Так в примере ниже объект Целое-число-1 продолжает жить даже после того, как мы поменяли переменную a."
      ]
    },
    {
      "cell_type": "code",
      "metadata": {
        "id": "MRoBfwwr9AFL"
      },
      "source": [
        "a = 1\n",
        "a = 2 # a теперь является ссылкой на новый объект Целое-число-2"
      ],
      "execution_count": 42,
      "outputs": []
    },
    {
      "cell_type": "markdown",
      "metadata": {
        "id": "s33ZZlLpHCwS"
      },
      "source": [
        "Если вы работали на С++/С и тд, но не работали на Python, то увидев строку выше, вы,возможно, удивитесь. Поэтому отвечаем: в Python у каждого значения есть тип, но нет необходимости явно указывать типы переменных. Как это работает? Основываясь на первом присвоении значения переменной, Python определяет её тип и в дальнейшем отслеживает его самостоятельно. Например:"
      ]
    },
    {
      "cell_type": "code",
      "metadata": {
        "colab": {
          "base_uri": "https://localhost:8080/"
        },
        "id": "sI6TRrlcHZjh",
        "outputId": "62e88e36-d3e7-4d8e-ff09-5ef129a3b24f"
      },
      "source": [
        "a = 5 \n",
        "# Команда type выводит на экран тип переменной.\n",
        "# Все, что находится после # является комментарием и не воспринимается языком как код\n",
        "print(type(a))"
      ],
      "execution_count": 43,
      "outputs": [
        {
          "output_type": "stream",
          "text": [
            "<class 'int'>\n"
          ],
          "name": "stdout"
        }
      ]
    },
    {
      "cell_type": "code",
      "metadata": {
        "colab": {
          "base_uri": "https://localhost:8080/"
        },
        "id": "qypRKfVmHcaX",
        "outputId": "f4d7407b-0c2d-4d12-aff4-fb12ffa8f330"
      },
      "source": [
        "a = 5.\n",
        "print(type(a))"
      ],
      "execution_count": 44,
      "outputs": [
        {
          "output_type": "stream",
          "text": [
            "<class 'float'>\n"
          ],
          "name": "stdout"
        }
      ]
    },
    {
      "cell_type": "markdown",
      "metadata": {
        "id": "if4bzCxQ9IOR"
      },
      "source": [
        "Под **изменяемыми** понимают типы, объекты которых могут быть изменены на месте, как, например, список, который имеет модифицирующие его методы list.append, list.remove"
      ]
    },
    {
      "cell_type": "code",
      "metadata": {
        "colab": {
          "base_uri": "https://localhost:8080/"
        },
        "id": "HFm2kjif1ygt",
        "outputId": "ce25581e-e191-4b84-979d-01b0d52c55d9"
      },
      "source": [
        "nums = list()\n",
        "print(type(nums))\n",
        "print(nums)"
      ],
      "execution_count": 45,
      "outputs": [
        {
          "output_type": "stream",
          "text": [
            "<class 'list'>\n",
            "[]\n"
          ],
          "name": "stdout"
        }
      ]
    },
    {
      "cell_type": "code",
      "metadata": {
        "colab": {
          "base_uri": "https://localhost:8080/"
        },
        "id": "C5Q5EAPC9ABa",
        "outputId": "b9d6eb2d-24d4-4684-e2b1-10e99dd88bae"
      },
      "source": [
        "nums.append(1)\n",
        "print(nums)"
      ],
      "execution_count": 46,
      "outputs": [
        {
          "output_type": "stream",
          "text": [
            "[1]\n"
          ],
          "name": "stdout"
        }
      ]
    },
    {
      "cell_type": "markdown",
      "metadata": {
        "id": "3-XAmhQ4FJRy"
      },
      "source": [
        "## 1.1. Числа  (int, float, comples)\n",
        "Как уже было упомянуто, числа являются неизменяемыми типами данных. К ним относятся встроенные типы int, float, complex. Конструкторы int (), float () и complex () могут использоваться для создания чисел определенного типа.\n",
        "\n",
        "Все числовые типы (кроме сложных) поддерживают следующие операции, отсортированные по возрастанию приоритета (операции в одном поле имеют одинаковый приоритет; все числовые операции имеют более высокий приоритет, чем операции сравнения):"
      ]
    },
    {
      "cell_type": "markdown",
      "metadata": {
        "id": "bYwBPL2YEkEX"
      },
      "source": [
        "**Таблица 1.**\n",
        "\n",
        "<img src=\"https://github.com/ddvika/Data-Science-School-2020/blob/main/lecture_1/imgs/operations_nums.png?raw=true\" width=700 height=500 />\n"
      ]
    },
    {
      "cell_type": "markdown",
      "metadata": {
        "id": "gchkZUHwGKwd"
      },
      "source": [
        "Если в одном выражении идут операторы одинакового приоритета, то вычисления выполняются слева направо.\n",
        "\n",
        "\n",
        "Исключение составляет оператор **. Он право-ассоциативный. Т.е. в цепочке из двух ** сначала выполнится правый, а потом левый"
      ]
    },
    {
      "cell_type": "code",
      "metadata": {
        "colab": {
          "base_uri": "https://localhost:8080/"
        },
        "id": "IhoIE42uGSO1",
        "outputId": "54053be5-e642-44b4-d5d8-7dd47412b8fc"
      },
      "source": [
        "3 ** 4 ** 2"
      ],
      "execution_count": 47,
      "outputs": [
        {
          "output_type": "execute_result",
          "data": {
            "text/plain": [
              "43046721"
            ]
          },
          "metadata": {
            "tags": []
          },
          "execution_count": 47
        }
      ]
    },
    {
      "cell_type": "code",
      "metadata": {
        "colab": {
          "base_uri": "https://localhost:8080/"
        },
        "id": "CCtw03FKGVVm",
        "outputId": "cd3bdb66-417a-4bd6-8213-ffdde828e39b"
      },
      "source": [
        "3 ** (4 ** 2)"
      ],
      "execution_count": 48,
      "outputs": [
        {
          "output_type": "execute_result",
          "data": {
            "text/plain": [
              "43046721"
            ]
          },
          "metadata": {
            "tags": []
          },
          "execution_count": 48
        }
      ]
    },
    {
      "cell_type": "code",
      "metadata": {
        "colab": {
          "base_uri": "https://localhost:8080/"
        },
        "id": "S-g8SE-ZGYD8",
        "outputId": "6ceb71f9-3004-405d-ee96-78b1829cc8dd"
      },
      "source": [
        "(3 ** 4) ** 2"
      ],
      "execution_count": 49,
      "outputs": [
        {
          "output_type": "execute_result",
          "data": {
            "text/plain": [
              "6561"
            ]
          },
          "metadata": {
            "tags": []
          },
          "execution_count": 49
        }
      ]
    },
    {
      "cell_type": "markdown",
      "metadata": {
        "id": "ymwJfzMtGrkn"
      },
      "source": [
        "Правила хорошего тона: не составляйте очень сложных выражений и логических выражений; всегда разбивайте их на части. Даже если вы прекрасно знаете приоритеты операций, то программист, читающий ваш код после вас, может знать их плохо; поэтому НЕ пренебрегайте скобками."
      ]
    },
    {
      "cell_type": "markdown",
      "metadata": {
        "id": "PCzhPvM6AboY"
      },
      "source": [
        "### **int()**\n",
        "**Целочисленный тип переменной**\n",
        "\n",
        "Давайте присвоим переменной значение типа int:"
      ]
    },
    {
      "cell_type": "code",
      "metadata": {
        "colab": {
          "base_uri": "https://localhost:8080/"
        },
        "id": "fST_ufGS9AJp",
        "outputId": "c9350a05-7ad6-4bac-ca32-46044cf8a844"
      },
      "source": [
        "x = 5\n",
        "\n",
        "print(x, type(x))"
      ],
      "execution_count": 50,
      "outputs": [
        {
          "output_type": "stream",
          "text": [
            "5 <class 'int'>\n"
          ],
          "name": "stdout"
        }
      ]
    },
    {
      "cell_type": "markdown",
      "metadata": {
        "id": "8000LoTsIPsK"
      },
      "source": [
        "C int'овыми переменными можно производить стандартные математические операции -- сложение, вычитание, умножение, деление, возведение в степень, и другие операции, приведенные в Таблице 1.\n",
        "Деление переменных типа int бывает двух типов -- целочисленное (с помощью символа //) и нецелочисленное (символ /). Результатом первого типа деления будет целое число, второго -- дробное. Пример:"
      ]
    },
    {
      "cell_type": "code",
      "metadata": {
        "colab": {
          "base_uri": "https://localhost:8080/"
        },
        "id": "1IcJAU0U9AMi",
        "outputId": "65dbdddd-7ea1-4e58-a83b-a0564bdb3918"
      },
      "source": [
        "a = 4 + 5\n",
        "b = 4 * 5\n",
        "c = 5 // 4\n",
        "d = 5 / 4\n",
        "e = 5**4 # 5 в степени 4\n",
        "f = 5 % 4 # остаток при делении 5 на 4\n",
        "\n",
        "print(a, b, c, d, e, f, sep=', ')"
      ],
      "execution_count": 51,
      "outputs": [
        {
          "output_type": "stream",
          "text": [
            "9, 20, 1, 1.25, 625, 1\n"
          ],
          "name": "stdout"
        }
      ]
    },
    {
      "cell_type": "markdown",
      "metadata": {
        "id": "08OgLUnvItQK"
      },
      "source": [
        "Также язык питон удобен в работе с большими числами:\n",
        "Давайте попробуем положить в переменную число 5000000000000000000000000001:"
      ]
    },
    {
      "cell_type": "code",
      "metadata": {
        "colab": {
          "base_uri": "https://localhost:8080/"
        },
        "id": "8pfUfpmvIuNA",
        "outputId": "349fd147-6311-4646-8780-5efe90c067f5"
      },
      "source": [
        "x = 5 * 1000000000 * 1000000000 * 10**9 + 1\n",
        "print(x, '|', type(x))"
      ],
      "execution_count": 52,
      "outputs": [
        {
          "output_type": "stream",
          "text": [
            "5000000000000000000000000001 | <class 'int'>\n"
          ],
          "name": "stdout"
        }
      ]
    },
    {
      "cell_type": "markdown",
      "metadata": {
        "id": "SshW4_F5IxU_"
      },
      "source": [
        "Как видите, все получилось: полученная переменная типа int и с ней можно работать как с обычными числами. Во многих других языках (например, С++) положить такое большое число в переменную бы не вышло -- возникло бы переполнение."
      ]
    },
    {
      "cell_type": "markdown",
      "metadata": {
        "id": "LyBCqimHKRKe"
      },
      "source": [
        "### **float()**\n",
        "**Тип переменной для хранения дробных чисел в питоне**:"
      ]
    },
    {
      "cell_type": "markdown",
      "metadata": {
        "id": "v971GpzmMVWP"
      },
      "source": [
        "Вещественные числа обычно представляются в виде чисел с плавающей запятой. Числа с плавающей запятой — один из возможных способов представления действительных чисел, который является компромиссом между точностью и диапазоном принимаемых значений.\n",
        "\n",
        "Число с плавающей запятой состоит из набора отдельных двоичных разрядов, условно разделенных на так называемые знак (англ. sign), порядок (англ. exponent) и мантиссу (англ. mantis). В наиболее распространённом формате (стандарт IEEE 754) число с плавающей запятой представляется в виде набора битов, часть из которых кодирует собой мантиссу числа, другая часть — показатель степени, и ещё один бит используется для указания знака числа (0 — если число положительное, 1 — если число отрицательное). При этом порядок записывается как целое число в коде со сдвигом, а мантисса — в нормализованном виде, своей дробной частью в двоичной системе счисления. Вот пример такого числа из\n",
        "16\n",
        " двоичных разрядов:\n",
        "\n",
        "<img src=\"https://github.com/ddvika/Data-Science-School-2020/blob/main/lecture_1/imgs/float16.png?raw=true\" width=400 height=150 /> "
      ]
    },
    {
      "cell_type": "markdown",
      "metadata": {
        "id": "JXB-V5b3M71j"
      },
      "source": [
        "Знак — один бит, указывающий знак всего числа с плавающей точкой. Порядок и мантисса — целые числа, которые вместе со знаком дают представление числа с плавающей запятой в следующем виде:\n",
        "\n",
        "$$(-1)^{S} \\times M \\times B^{E}, $$\n",
        "где $S$ - знак, $B$ - основание, $E$ - порядок, а $M$ - мантисса.\n"
      ]
    },
    {
      "cell_type": "markdown",
      "metadata": {
        "id": "crEmmBtPOHXf"
      },
      "source": [
        "#### **Наиболее популярные форматы, single&double**\n",
        "\n",
        "Два самых популярных формата - float32 и float64. Но если вы собираетесь обучть нейронные сети, то стоит заметить что в последнее время формат float16 играет в обучении большую роль.\n",
        "\n",
        "$$\n",
        "\\begin{array}{|l|l|l|l|l|l|}\n",
        "\\hline \\text { Название  } & \\text { Название в IEEE 754 } & \\text { Основание } & \\text { Бит в мантиссе } & \\text { E_min } & \\text { E_max } \\\\\n",
        "\\hline \\text { float16 } & \\text { half precision } & 2 & 11 & -14 & +15 \\\\\n",
        "\\hline \\text { float32 } & \\text { single precision } & 2 & 23 & -126 & +127 \\\\\n",
        "\\hline \\text { float64 } & \\text { double precision } & 2 & 53 & -1022 & +1023 \\\\\n",
        "\\hline\n",
        "\\end{array}\n",
        "$$\n",
        "\n",
        "\n",
        "**float16** занимает **2 байта**, **float32** занимает **4 байта**, **float64**, или double precision, занимает **8 байт**.\n"
      ]
    },
    {
      "cell_type": "markdown",
      "metadata": {
        "id": "KITF7-XlR27R"
      },
      "source": [
        "Присвоим переменной y значение типа float()"
      ]
    },
    {
      "cell_type": "code",
      "metadata": {
        "colab": {
          "base_uri": "https://localhost:8080/"
        },
        "id": "baQT-owPRuUV",
        "outputId": "bd3325c5-7407-4169-f864-d7b8f7e795ae"
      },
      "source": [
        "y = 12.345\n",
        "\n",
        "print(y, '|', type(y))"
      ],
      "execution_count": 53,
      "outputs": [
        {
          "output_type": "stream",
          "text": [
            "12.345 | <class 'float'>\n"
          ],
          "name": "stdout"
        }
      ]
    },
    {
      "cell_type": "markdown",
      "metadata": {
        "id": "7NjeTFm-R0cs"
      },
      "source": [
        "С этим типом также можно выполнять арифметические операции (даже целочисленное деление):"
      ]
    },
    {
      "cell_type": "code",
      "metadata": {
        "colab": {
          "base_uri": "https://localhost:8080/"
        },
        "id": "RAapD5LJRwmy",
        "outputId": "d072cb75-46ba-47bb-f550-f842ebfaed1c"
      },
      "source": [
        "a = 4.2 + 5.1\n",
        "b = 4.2 * 5.1\n",
        "c = 5.0 / 4.0\n",
        "d = 5.25 // 4.25\n",
        "e = 5.25 ** 4.0\n",
        "\n",
        "print(a, b, c, d, e)"
      ],
      "execution_count": 54,
      "outputs": [
        {
          "output_type": "stream",
          "text": [
            "9.3 21.419999999999998 1.25 1.0 759.69140625\n"
          ],
          "name": "stdout"
        }
      ]
    },
    {
      "cell_type": "code",
      "metadata": {
        "colab": {
          "base_uri": "https://localhost:8080/"
        },
        "id": "l6VFKHAgR-SA",
        "outputId": "984cd880-20ed-40fd-dc65-4b4d62e894af"
      },
      "source": [
        "# если знаков после запятой слишком много - можно просто округлить его до нужного количества (в этом случае 2)\n",
        "round(b, 2)"
      ],
      "execution_count": 55,
      "outputs": [
        {
          "output_type": "execute_result",
          "data": {
            "text/plain": [
              "21.42"
            ]
          },
          "metadata": {
            "tags": []
          },
          "execution_count": 55
        }
      ]
    },
    {
      "cell_type": "markdown",
      "metadata": {
        "id": "lnxhkSd-SIV0"
      },
      "source": [
        "Переменную типа int можно привести к типу float"
      ]
    },
    {
      "cell_type": "code",
      "metadata": {
        "colab": {
          "base_uri": "https://localhost:8080/"
        },
        "id": "jxYEgWymSF9A",
        "outputId": "8dea6217-5a94-4270-d45d-7a9264033a13"
      },
      "source": [
        "a = 5\n",
        "print(a, type(a))\n",
        "# тут происходит преобразование из целочисленной переменной в дробную\n",
        "a = float(a)\n",
        "\n",
        "print(a, type(a))"
      ],
      "execution_count": 56,
      "outputs": [
        {
          "output_type": "stream",
          "text": [
            "5 <class 'int'>\n",
            "5.0 <class 'float'>\n"
          ],
          "name": "stdout"
        }
      ]
    },
    {
      "cell_type": "markdown",
      "metadata": {
        "id": "JK_6uIQ_LvHr"
      },
      "source": [
        "#### **Точность и память**"
      ]
    },
    {
      "cell_type": "markdown",
      "metadata": {
        "id": "tspfeoUhSZXN"
      },
      "source": [
        "Относительная точность для чисел типа single precision примерно $10^{-7}-10^{-8}$, тогда как для чисел типа double precision это $10^{-14} - 10 ^{-16}$.\n",
        "Для удобной работы с разными типами данных советую пользоваться библиотекой **numpy** (документация по работе с data types: https://numpy.org/doc/stable/user/basics.types.html)"
      ]
    },
    {
      "cell_type": "code",
      "metadata": {
        "colab": {
          "base_uri": "https://localhost:8080/"
        },
        "id": "EAx9f-IrIuQ9",
        "outputId": "ed9ef6a8-7892-4f50-9913-d7140947349e"
      },
      "source": [
        "import numpy as np\n",
        "import random\n",
        "#c = random.random()\n",
        "#print(c)\n",
        "c = np.float32(0.925924589693)\n",
        "print(c)\n",
        "a = np.float32(8.9)\n",
        "b = np.float32(c / a)\n",
        "print('{0:10.16f}'.format(b))\n",
        "print(a * b - c)"
      ],
      "execution_count": 57,
      "outputs": [
        {
          "output_type": "stream",
          "text": [
            "0.9259246\n",
            "0.1040364727377892\n",
            "-5.9604645e-08\n"
          ],
          "name": "stdout"
        }
      ]
    },
    {
      "cell_type": "markdown",
      "metadata": {
        "id": "y0mQUFZBRI3J"
      },
      "source": [
        "**Пример с квадратным корнем**"
      ]
    },
    {
      "cell_type": "code",
      "metadata": {
        "colab": {
          "base_uri": "https://localhost:8080/"
        },
        "id": "I_7M1UQTJhlJ",
        "outputId": "4970c310-cfaa-4c7d-a969-f0024674d420"
      },
      "source": [
        "a = np.float32(5.0)\n",
        "b = np.sqrt(a)\n",
        "print('{0:10.16f}'.format(b ** 2 - a))"
      ],
      "execution_count": 58,
      "outputs": [
        {
          "output_type": "stream",
          "text": [
            "0.0000001468220603\n"
          ],
          "name": "stdout"
        }
      ]
    },
    {
      "cell_type": "markdown",
      "metadata": {
        "id": "fDrefeoeRQJq"
      },
      "source": [
        "**Пример с экспонентой**"
      ]
    },
    {
      "cell_type": "code",
      "metadata": {
        "colab": {
          "base_uri": "https://localhost:8080/"
        },
        "id": "IVxj9IKDJhpq",
        "outputId": "74d39608-603b-4c92-9ade-909e56d2e6ad"
      },
      "source": [
        "a = np.array(2.28827272710, dtype=np.float32)\n",
        "b = np.exp(a)\n",
        "print(np.log(b) - a)"
      ],
      "execution_count": 59,
      "outputs": [
        {
          "output_type": "stream",
          "text": [
            "0.0\n"
          ],
          "name": "stdout"
        }
      ]
    },
    {
      "cell_type": "markdown",
      "metadata": {
        "id": "CFapGn6zRXKZ"
      },
      "source": [
        "**Вывод по числам с плавающей запятой**\n",
        "* Вы должны быть очень осторожны с плавающей запятой, так как она может дать вам неправильные ответы из-за ошибок округления.\n",
        "* Для многих стандартных алгоритмов стабильность хорошо изучена, и проблемы могут быть легко обнаружены."
      ]
    },
    {
      "cell_type": "markdown",
      "metadata": {
        "id": "02428lWLTmnq"
      },
      "source": [
        "## 1.2. bool\n",
        "\n",
        "**Логический тип переменной**: \n",
        "\n",
        "переменная типа bool может принимать два значения: `True` и `False`:"
      ]
    },
    {
      "cell_type": "code",
      "metadata": {
        "colab": {
          "base_uri": "https://localhost:8080/"
        },
        "id": "OTsZsaIEJhuW",
        "outputId": "386074d7-04b4-4f38-bba7-2cefef3bafce"
      },
      "source": [
        "a = True\n",
        "b = False\n",
        "\n",
        "# появился еще один аргумент: '|'  <- туда можно поставить любой текст, в этом примере для удобства отображения\n",
        "print(a, '|', type(a))\n",
        "\n",
        "print(b, '|', type(b))"
      ],
      "execution_count": 60,
      "outputs": [
        {
          "output_type": "stream",
          "text": [
            "True | <class 'bool'>\n",
            "False | <class 'bool'>\n"
          ],
          "name": "stdout"
        }
      ]
    },
    {
      "cell_type": "markdown",
      "metadata": {
        "id": "z9awmq3wTvM8"
      },
      "source": [
        "У типа bool существует связь с типом int -- переменная со значением True соответствует int'овой переменной со значением 1, а переменная со значением False -- int'овой переменной со значением 0.\n",
        "Давайте в этом убедимся, попробовав сложить значения переменных a и b:"
      ]
    },
    {
      "cell_type": "code",
      "metadata": {
        "colab": {
          "base_uri": "https://localhost:8080/"
        },
        "id": "cA2YYei_1y11",
        "outputId": "26322702-c81e-4304-e7a2-2c5ffe41aa2f"
      },
      "source": [
        "print(a + b)\n",
        "print(a + a)\n",
        "print(b + b)"
      ],
      "execution_count": 61,
      "outputs": [
        {
          "output_type": "stream",
          "text": [
            "1\n",
            "2\n",
            "0\n"
          ],
          "name": "stdout"
        }
      ]
    },
    {
      "cell_type": "markdown",
      "metadata": {
        "id": "QWN7Ua5mT03U"
      },
      "source": [
        "Ну и просто приведем a и b к типу int:"
      ]
    },
    {
      "cell_type": "code",
      "metadata": {
        "colab": {
          "base_uri": "https://localhost:8080/"
        },
        "id": "DHI18yVWTx1M",
        "outputId": "e78c6d32-5048-4e61-9b67-4e662c54c800"
      },
      "source": [
        "print(int(a), int(b))"
      ],
      "execution_count": 62,
      "outputs": [
        {
          "output_type": "stream",
          "text": [
            "1 0\n"
          ],
          "name": "stdout"
        }
      ]
    },
    {
      "cell_type": "code",
      "metadata": {
        "colab": {
          "base_uri": "https://localhost:8080/"
        },
        "id": "has4p0u1Tx8R",
        "outputId": "08461725-ea7e-4e81-c750-c432fa5aa9f5"
      },
      "source": [
        "print(True and False, '\\n')\n",
        "\n",
        "print(True or False, '\\n')\n",
        "\n",
        "print(not False, '\\n')"
      ],
      "execution_count": 63,
      "outputs": [
        {
          "output_type": "stream",
          "text": [
            "False \n",
            "\n",
            "True \n",
            "\n",
            "True \n",
            "\n"
          ],
          "name": "stdout"
        }
      ]
    },
    {
      "cell_type": "code",
      "metadata": {
        "colab": {
          "base_uri": "https://localhost:8080/"
        },
        "id": "3qwz0e78TyDa",
        "outputId": "af5e2e6e-85a2-47ef-dc06-314a887d98ad"
      },
      "source": [
        "# в переменную a будет записан результат сравнения 2 и 3. т.е. False, потому\n",
        "# что (2==3) неверно. < это оператор сравнения, в нашем случае вернет True\n",
        "a = (2 == 3)\n",
        "b = (4 < 5)\n",
        "\n",
        "print(a, '|', type(a))\n",
        "print(b, '|', type(b))"
      ],
      "execution_count": 64,
      "outputs": [
        {
          "output_type": "stream",
          "text": [
            "False | <class 'bool'>\n",
            "True | <class 'bool'>\n"
          ],
          "name": "stdout"
        }
      ]
    },
    {
      "cell_type": "code",
      "metadata": {
        "colab": {
          "base_uri": "https://localhost:8080/"
        },
        "id": "h7mOUZMoTyKZ",
        "outputId": "a0b58b8f-a861-471a-fbcc-79e7bc545ab8"
      },
      "source": [
        "# более сложные сравнения алгебры-логики, для определения порядка выполнения \n",
        "# используйте скобки, как в обычной математике\n",
        "not_b = not b\n",
        "a_and_not_b = a and not_b\n",
        "a or a_and_not_b"
      ],
      "execution_count": 65,
      "outputs": [
        {
          "output_type": "execute_result",
          "data": {
            "text/plain": [
              "False"
            ]
          },
          "metadata": {
            "tags": []
          },
          "execution_count": 65
        }
      ]
    },
    {
      "cell_type": "markdown",
      "metadata": {
        "id": "WoNOiU_7UK4V"
      },
      "source": [
        "## 1.3. None\n",
        "**ничего/NaN**\n",
        "\n",
        "NaN — это аббревиатура от фразы \"not a number\". NaN является результатом арифметических операций, если во время их выполнения произошла ошибка (примеры см. ниже). В IEEE 754 NaN представлен как число, в котором все двоичные разряды порядка — единицы, а мантисса не нулевая."
      ]
    },
    {
      "cell_type": "markdown",
      "metadata": {
        "id": "GrJXBr4PUiOx"
      },
      "source": [
        "<img src=\"https://github.com/ddvika/Data-Science-School-2020/blob/main/lecture_1/imgs/nan.png?raw=true\" width=500 height=120 /> \n",
        "\n",
        "Стоит отметить что любая операция с NaN возвращает NaN или же ошибку"
      ]
    },
    {
      "cell_type": "code",
      "metadata": {
        "colab": {
          "base_uri": "https://localhost:8080/"
        },
        "id": "RfcTsySJTyRm",
        "outputId": "762a335e-146f-45df-972c-931b7207aa23"
      },
      "source": [
        "x = None\n",
        "print(x, type(x))"
      ],
      "execution_count": 66,
      "outputs": [
        {
          "output_type": "stream",
          "text": [
            "None <class 'NoneType'>\n"
          ],
          "name": "stdout"
        }
      ]
    },
    {
      "cell_type": "code",
      "metadata": {
        "colab": {
          "base_uri": "https://localhost:8080/",
          "height": 181
        },
        "id": "st63QMlZVAEj",
        "outputId": "1ae1b504-d65b-4dbd-9133-d1271d069146"
      },
      "source": [
        "# Убедимся, что None нельзя складывать с числами\n",
        "x + 1"
      ],
      "execution_count": 67,
      "outputs": [
        {
          "output_type": "error",
          "ename": "TypeError",
          "evalue": "ignored",
          "traceback": [
            "\u001b[0;31m---------------------------------------------------------------------------\u001b[0m",
            "\u001b[0;31mTypeError\u001b[0m                                 Traceback (most recent call last)",
            "\u001b[0;32m<ipython-input-67-b9af31463989>\u001b[0m in \u001b[0;36m<module>\u001b[0;34m()\u001b[0m\n\u001b[1;32m      1\u001b[0m \u001b[0;31m# Убедимся, что None нельзя складывать с числами\u001b[0m\u001b[0;34m\u001b[0m\u001b[0;34m\u001b[0m\u001b[0;34m\u001b[0m\u001b[0m\n\u001b[0;32m----> 2\u001b[0;31m \u001b[0mx\u001b[0m \u001b[0;34m+\u001b[0m \u001b[0;36m1\u001b[0m\u001b[0;34m\u001b[0m\u001b[0;34m\u001b[0m\u001b[0m\n\u001b[0m",
            "\u001b[0;31mTypeError\u001b[0m: unsupported operand type(s) for +: 'NoneType' and 'int'"
          ]
        }
      ]
    },
    {
      "cell_type": "code",
      "metadata": {
        "colab": {
          "base_uri": "https://localhost:8080/",
          "height": 181
        },
        "id": "eQS08i_oTyYk",
        "outputId": "fc701bcf-92ac-4a7a-a9ed-a31d1eb02b03"
      },
      "source": [
        "# Убедимся, что None нельзя привести к другому типу:\n",
        "int(x)"
      ],
      "execution_count": 68,
      "outputs": [
        {
          "output_type": "error",
          "ename": "TypeError",
          "evalue": "ignored",
          "traceback": [
            "\u001b[0;31m---------------------------------------------------------------------------\u001b[0m",
            "\u001b[0;31mTypeError\u001b[0m                                 Traceback (most recent call last)",
            "\u001b[0;32m<ipython-input-68-b56ee156e321>\u001b[0m in \u001b[0;36m<module>\u001b[0;34m()\u001b[0m\n\u001b[1;32m      1\u001b[0m \u001b[0;31m# Убедимся, что None нельзя привести к другому типу:\u001b[0m\u001b[0;34m\u001b[0m\u001b[0;34m\u001b[0m\u001b[0;34m\u001b[0m\u001b[0m\n\u001b[0;32m----> 2\u001b[0;31m \u001b[0mint\u001b[0m\u001b[0;34m(\u001b[0m\u001b[0mx\u001b[0m\u001b[0;34m)\u001b[0m\u001b[0;34m\u001b[0m\u001b[0;34m\u001b[0m\u001b[0m\n\u001b[0m",
            "\u001b[0;31mTypeError\u001b[0m: int() argument must be a string, a bytes-like object or a number, not 'NoneType'"
          ]
        }
      ]
    },
    {
      "cell_type": "markdown",
      "metadata": {
        "id": "2qRxAWVpWcTN"
      },
      "source": [
        "## 1.4. str()\n",
        "**строковые данные**\n",
        "\n",
        "Строка представляет собой последовательность символов. Мы можем использовать одинарные или двойные кавычки для создания строки.  Многострочные строки можно обозначить тройными кавычками, ''' или \"\"\":"
      ]
    },
    {
      "cell_type": "code",
      "metadata": {
        "colab": {
          "base_uri": "https://localhost:8080/"
        },
        "id": "RxFT1WN5VP4V",
        "outputId": "1afbc0fe-dcee-46b3-c1a5-d2acb220b1ae"
      },
      "source": [
        "s = \"Простая строка\"\n",
        "s = '''многострочная\n",
        "строка'''\n",
        "print(s, type(s))"
      ],
      "execution_count": 69,
      "outputs": [
        {
          "output_type": "stream",
          "text": [
            "многострочная\n",
            "строка <class 'str'>\n"
          ],
          "name": "stdout"
        }
      ]
    },
    {
      "cell_type": "code",
      "metadata": {
        "colab": {
          "base_uri": "https://localhost:8080/"
        },
        "id": "6gfjmD-EjgO8",
        "outputId": "82b800b0-2114-408a-fcea-426a49c525a4"
      },
      "source": [
        "text = \"Hello, Python!\"\n",
        "\n",
        "print(text[0]) # Выводит первый символ\n",
        "print(text[0:5]) # Выводит подстроку text от 0 символа до 5 (включительно с нулевым, исключая пятый)\n",
        "print(text[4:10]) # Выведет строку от 4 символа до 10 (включая четвертый, исключая 10)\n",
        "print(text[0:14]) # Выведет всю строку\n",
        "print(text[7:]) # Выведет строку с 7 символа до конца\n",
        "print(text[:5]) # Выведет строку с начала до 5 символа. Аналогично print text[0:5]\n",
        "print(text[:]) # Выведет всю строку\n",
        "print(text[-1]) # Выводит последний символ\n",
        "print(text[-1:-14]) # Не сработает, выведет пустую строку\n",
        "print(text[::2]) # Третий аргумент - шаг. Выведет каждый второй символ\n",
        "print(text[::-1]) # Шаг отрицательный. Выведет фразу наоборот"
      ],
      "execution_count": 70,
      "outputs": [
        {
          "output_type": "stream",
          "text": [
            "H\n",
            "Hello\n",
            "o, Pyt\n",
            "Hello, Python!\n",
            "Python!\n",
            "Hello\n",
            "Hello, Python!\n",
            "!\n",
            "\n",
            "Hlo yhn\n",
            "!nohtyP ,olleH\n"
          ],
          "name": "stdout"
        }
      ]
    },
    {
      "cell_type": "markdown",
      "metadata": {
        "id": "5bWVQpKjkKX0"
      },
      "source": [
        "## 1.5. tuple()\n",
        "**кортеж**\n",
        "\n",
        "Кортеж состоит из ряда значений, разделенных запятыми, заключенными в круглые скобки (x,y). Напомню что кортежи являются неизменяемым типом данных. То есть, кортежи можно рассматривать как списки доступные только для чтения."
      ]
    },
    {
      "cell_type": "code",
      "metadata": {
        "colab": {
          "base_uri": "https://localhost:8080/"
        },
        "id": "5O7YvJVYkJa_",
        "outputId": "3193ffb2-ae7e-4ec2-ed90-d6dc0044dc4a"
      },
      "source": [
        "my_tuple =(True, 786, 3.14, 'text', 70.2)\n",
        "second_tuple =(123, 'text') \n",
        " \n",
        "print(my_tuple) # Печатает весь кортеж\n",
        "print(my_tuple[0]) # Печатает первый элемент\n",
        "print(second_tuple *2) # Печатает удвоенный кортеж\n",
        "print(my_tuple + second_tuple) # Печатает объединенные кортежи"
      ],
      "execution_count": 71,
      "outputs": [
        {
          "output_type": "stream",
          "text": [
            "(True, 786, 3.14, 'text', 70.2)\n",
            "True\n",
            "(123, 'text', 123, 'text')\n",
            "(True, 786, 3.14, 'text', 70.2, 123, 'text')\n"
          ],
          "name": "stdout"
        }
      ]
    },
    {
      "cell_type": "markdown",
      "metadata": {
        "id": "c4VdcYjXkwOl"
      },
      "source": [
        "Если у вас нет необходимости изменять элементы списка (о списках поговорим ниже), то для экономии места в памяти лучше использовать тип данных кортеж."
      ]
    },
    {
      "cell_type": "code",
      "metadata": {
        "id": "tvKtPVbKkJjA"
      },
      "source": [
        "t = (5, 'word', 11.)"
      ],
      "execution_count": 72,
      "outputs": []
    },
    {
      "cell_type": "markdown",
      "metadata": {
        "id": "Dmc3zsVQlxFN"
      },
      "source": [
        "Мы можем использовать оператор [] для извлечения элемента (такая операция называется «доступ по индексу») или диапазона элементов (такая операция назвается «извлечение среза») из списка. В Python индексация начинается с нуля:"
      ]
    },
    {
      "cell_type": "code",
      "metadata": {
        "colab": {
          "base_uri": "https://localhost:8080/"
        },
        "id": "im7QDxmalyak",
        "outputId": "b21dd6dd-fc5e-46fc-9231-350bdfe8ae4f"
      },
      "source": [
        "print(t[0])\n",
        "print(t[0:2])"
      ],
      "execution_count": 73,
      "outputs": [
        {
          "output_type": "stream",
          "text": [
            "5\n",
            "(5, 'word')\n"
          ],
          "name": "stdout"
        }
      ]
    },
    {
      "cell_type": "markdown",
      "metadata": {
        "id": "Tew5yoFFk3De"
      },
      "source": [
        "Давайте попробуем изменить элемент в кортеже"
      ]
    },
    {
      "cell_type": "code",
      "metadata": {
        "colab": {
          "base_uri": "https://localhost:8080/",
          "height": 164
        },
        "id": "Zr7x7iFrjgWh",
        "outputId": "9b4ce79f-6a8f-4ee6-b407-7935034e616c"
      },
      "source": [
        "t[0] = 7 # Приводит к ошибке, т.к. кортежи неизменяемы"
      ],
      "execution_count": 74,
      "outputs": [
        {
          "output_type": "error",
          "ename": "TypeError",
          "evalue": "ignored",
          "traceback": [
            "\u001b[0;31m---------------------------------------------------------------------------\u001b[0m",
            "\u001b[0;31mTypeError\u001b[0m                                 Traceback (most recent call last)",
            "\u001b[0;32m<ipython-input-74-5b388b6e589d>\u001b[0m in \u001b[0;36m<module>\u001b[0;34m()\u001b[0m\n\u001b[0;32m----> 1\u001b[0;31m \u001b[0mt\u001b[0m\u001b[0;34m[\u001b[0m\u001b[0;36m0\u001b[0m\u001b[0;34m]\u001b[0m \u001b[0;34m=\u001b[0m \u001b[0;36m7\u001b[0m \u001b[0;31m# Приводит к ошибке, т.к. кортежи неизменяемы\u001b[0m\u001b[0;34m\u001b[0m\u001b[0;34m\u001b[0m\u001b[0m\n\u001b[0m",
            "\u001b[0;31mTypeError\u001b[0m: 'tuple' object does not support item assignment"
          ]
        }
      ]
    },
    {
      "cell_type": "markdown",
      "metadata": {
        "id": "Sakm0bgLlb_Q"
      },
      "source": [
        "## 1.6. list()\n",
        "**массив, список, лист**\n",
        "\n",
        "Список представляет собой упорядоченную последовательность элементов. Он очень гибкий и является одним из самых используемых типов в Python. Элементы списка не обязательно должны быть одного типа.\n",
        "\n",
        "Объявить список довольно просто. Внутрь квадратных скобок помещаются элементы списка, разделённые запятой:"
      ]
    },
    {
      "cell_type": "markdown",
      "metadata": {
        "id": "eA24XkTGmc-j"
      },
      "source": [
        "обьявить переменную являющуюся листом можно несколькими способами:"
      ]
    },
    {
      "cell_type": "code",
      "metadata": {
        "colab": {
          "base_uri": "https://localhost:8080/"
        },
        "id": "c9dUEK_1mkZ1",
        "outputId": "d55bdd8e-1d9c-4ae7-924d-0cbf540d1f5a"
      },
      "source": [
        "a = list() #1ый способ\n",
        "print(type(a))\n",
        "\n",
        "a = [] #2ой способ\n",
        "print(type(a))"
      ],
      "execution_count": 75,
      "outputs": [
        {
          "output_type": "stream",
          "text": [
            "<class 'list'>\n",
            "<class 'list'>\n"
          ],
          "name": "stdout"
        }
      ]
    },
    {
      "cell_type": "code",
      "metadata": {
        "id": "9JbbWMWTjge5"
      },
      "source": [
        "a = [1, 2.2, 'word', [3,4]]"
      ],
      "execution_count": 76,
      "outputs": []
    },
    {
      "cell_type": "code",
      "metadata": {
        "colab": {
          "base_uri": "https://localhost:8080/"
        },
        "id": "mBkYdfbfmElj",
        "outputId": "b5dd5e60-a71d-4730-b2ac-c0a658f75e17"
      },
      "source": [
        "print(a[0]) #выведем элемент под индексом 0 списка а"
      ],
      "execution_count": 77,
      "outputs": [
        {
          "output_type": "stream",
          "text": [
            "1\n"
          ],
          "name": "stdout"
        }
      ]
    },
    {
      "cell_type": "markdown",
      "metadata": {
        "id": "0TV1mL6Il_nY"
      },
      "source": [
        "Списки — это изменяемые объекты, поэтому их элементы могут изменяться, или же может меняться их порядок."
      ]
    },
    {
      "cell_type": "code",
      "metadata": {
        "colab": {
          "base_uri": "https://localhost:8080/"
        },
        "id": "qB8LuON7jgnB",
        "outputId": "498ee08a-90fd-49ff-99e1-43c6ba0904dc"
      },
      "source": [
        "my_list = ['один', 'два', 'три', 'четыре', 'пять']\n",
        "my_list[2] = 'ноль'\n",
        "print(my_list)"
      ],
      "execution_count": 78,
      "outputs": [
        {
          "output_type": "stream",
          "text": [
            "['один', 'два', 'ноль', 'четыре', 'пять']\n"
          ],
          "name": "stdout"
        }
      ]
    },
    {
      "cell_type": "markdown",
      "metadata": {
        "id": "VOCkQwconyIC"
      },
      "source": [
        "Если индекс — отрицательное число, то он будет считаться с последнего элемента."
      ]
    },
    {
      "cell_type": "code",
      "metadata": {
        "colab": {
          "base_uri": "https://localhost:8080/"
        },
        "id": "hXXyEgG-nzAb",
        "outputId": "5050219e-3d5f-4951-bbf5-533d1d633651"
      },
      "source": [
        "elem  =  my_list[-1]\n",
        "print(elem)"
      ],
      "execution_count": 79,
      "outputs": [
        {
          "output_type": "stream",
          "text": [
            "пять\n"
          ],
          "name": "stdout"
        }
      ]
    },
    {
      "cell_type": "markdown",
      "metadata": {
        "id": "q2vnFVm_oCzF"
      },
      "source": [
        "Можно получить срез списка с помощью оператора (:):"
      ]
    },
    {
      "cell_type": "code",
      "metadata": {
        "colab": {
          "base_uri": "https://localhost:8080/"
        },
        "id": "NMhwMz6roFWx",
        "outputId": "b548722d-cdd7-4ead-8f58-605a57050244"
      },
      "source": [
        "my_list = ['один', 'два', 'три', 'четыре', 'пять']\n",
        "print(my_list[1:3])"
      ],
      "execution_count": 80,
      "outputs": [
        {
          "output_type": "stream",
          "text": [
            "['два', 'три']\n"
          ],
          "name": "stdout"
        }
      ]
    },
    {
      "cell_type": "markdown",
      "metadata": {
        "id": "UIGqTYx5oKHw"
      },
      "source": [
        "Если убрать первое число, от срез будет начинаться с первого элемента, а если второе — с последнего.\n",
        "\n",
        "Если убрать числа и оставить только двоеточие, то скопируется весь список."
      ]
    },
    {
      "cell_type": "code",
      "metadata": {
        "colab": {
          "base_uri": "https://localhost:8080/"
        },
        "id": "DQgYDtb-oL-K",
        "outputId": "fb9b2397-813c-4a04-a964-493df054acaf"
      },
      "source": [
        "my_list = ['один', 'два', 'три', 'четыре', 'пять']\n",
        "print(my_list[1:3])\n",
        "print(my_list[1:])\n",
        "print(my_list[:3])\n",
        "print(my_list[:])"
      ],
      "execution_count": 81,
      "outputs": [
        {
          "output_type": "stream",
          "text": [
            "['два', 'три']\n",
            "['два', 'три', 'четыре', 'пять']\n",
            "['один', 'два', 'три']\n",
            "['один', 'два', 'три', 'четыре', 'пять']\n"
          ],
          "name": "stdout"
        }
      ]
    },
    {
      "cell_type": "markdown",
      "metadata": {
        "id": "nHHm-nsUoQVX"
      },
      "source": [
        "Поскольку списки изменяемые, менять элементы можно с помощью оператора среза:"
      ]
    },
    {
      "cell_type": "code",
      "metadata": {
        "colab": {
          "base_uri": "https://localhost:8080/"
        },
        "id": "aQiI6LuBoRNa",
        "outputId": "7f5da8f4-3cce-4bcf-f4df-b59a1710471c"
      },
      "source": [
        "my_list = ['один', 'два', 'три', 'четыре', 'пять']\n",
        "my_list[1:3]  =  ['Привет',  'Мир']\n",
        "print(my_list)"
      ],
      "execution_count": 82,
      "outputs": [
        {
          "output_type": "stream",
          "text": [
            "['один', 'Привет', 'Мир', 'четыре', 'пять']\n"
          ],
          "name": "stdout"
        }
      ]
    },
    {
      "cell_type": "markdown",
      "metadata": {
        "id": "JbXv7C-9mx1P"
      },
      "source": [
        "#### **Некоторые методы листа**"
      ]
    },
    {
      "cell_type": "markdown",
      "metadata": {
        "id": "XQ-nOb9Am5nW"
      },
      "source": [
        "- Можно положить элемент в конец массива при помощи метода **append()**"
      ]
    },
    {
      "cell_type": "code",
      "metadata": {
        "colab": {
          "base_uri": "https://localhost:8080/"
        },
        "id": "U2bybtKvm73x",
        "outputId": "700e1d5d-9937-4bb8-fd19-d02ea0a7dcfd"
      },
      "source": [
        "a = [1,2,3]\n",
        "a.append(100)\n",
        "print(a)"
      ],
      "execution_count": 83,
      "outputs": [
        {
          "output_type": "stream",
          "text": [
            "[1, 2, 3, 100]\n"
          ],
          "name": "stdout"
        }
      ]
    },
    {
      "cell_type": "markdown",
      "metadata": {
        "id": "P5wUimXnnG0h"
      },
      "source": [
        "- можно удалить элемент с конца массива при помощи методы **pop()**"
      ]
    },
    {
      "cell_type": "code",
      "metadata": {
        "colab": {
          "base_uri": "https://localhost:8080/"
        },
        "id": "hIn3jcVMm8EP",
        "outputId": "e10ef879-2415-409e-8366-0cced2dcc738"
      },
      "source": [
        "a.pop()\n",
        "print(a)"
      ],
      "execution_count": 84,
      "outputs": [
        {
          "output_type": "stream",
          "text": [
            "[1, 2, 3]\n"
          ],
          "name": "stdout"
        }
      ]
    },
    {
      "cell_type": "markdown",
      "metadata": {
        "id": "-elHDGiloz88"
      },
      "source": [
        "- Элемент можно удалить с помощью метода **remove()**"
      ]
    },
    {
      "cell_type": "code",
      "metadata": {
        "colab": {
          "base_uri": "https://localhost:8080/"
        },
        "id": "IzK1dwZpo1zo",
        "outputId": "eb0fb5cb-89ab-4e4d-a1a8-8d8fa1fa7e54"
      },
      "source": [
        "my_list = ['один', 'два', 'три', 'четыре', 'пять']\n",
        "my_list.remove('два')\n",
        "print(my_list)"
      ],
      "execution_count": 85,
      "outputs": [
        {
          "output_type": "stream",
          "text": [
            "['один', 'три', 'четыре', 'пять']\n"
          ],
          "name": "stdout"
        }
      ]
    },
    {
      "cell_type": "markdown",
      "metadata": {
        "id": "SVCZYPTKo3KY"
      },
      "source": [
        "- Оператор **del** можно использовать для тех же целей"
      ]
    },
    {
      "cell_type": "code",
      "metadata": {
        "colab": {
          "base_uri": "https://localhost:8080/"
        },
        "id": "6szxMoRio58c",
        "outputId": "6ed870fe-108b-4787-f41e-bd48c06da663"
      },
      "source": [
        "my_list = ['один', 'два', 'три', 'четыре', 'пять']\n",
        "del my_list[2]\n",
        "print(my_list)"
      ],
      "execution_count": 86,
      "outputs": [
        {
          "output_type": "stream",
          "text": [
            "['один', 'два', 'четыре', 'пять']\n"
          ],
          "name": "stdout"
        }
      ]
    },
    {
      "cell_type": "markdown",
      "metadata": {
        "id": "iwzkMhh6oWfy"
      },
      "source": [
        " - Метод **insert()** можно использовать, чтобы вставить элемент в список:"
      ]
    },
    {
      "cell_type": "code",
      "metadata": {
        "colab": {
          "base_uri": "https://localhost:8080/"
        },
        "id": "97-Sm-KMm8Pk",
        "outputId": "0716e0e0-fc89-42d5-81de-7725854e8993"
      },
      "source": [
        "a.insert(1,'Привет')\n",
        "print(a)"
      ],
      "execution_count": 87,
      "outputs": [
        {
          "output_type": "stream",
          "text": [
            "[1, 'Привет', 2, 3]\n"
          ],
          "name": "stdout"
        }
      ]
    },
    {
      "cell_type": "markdown",
      "metadata": {
        "id": "whi8XIPnogcD"
      },
      "source": [
        "- Для сортировки списка нужно использовать метод **sort()**"
      ]
    },
    {
      "cell_type": "code",
      "metadata": {
        "colab": {
          "base_uri": "https://localhost:8080/"
        },
        "id": "fHKQb-uxm8ax",
        "outputId": "662e7ce1-e8b7-4c77-81c0-d446e6adefe2"
      },
      "source": [
        "my_list = ['cde', 'fgh', 'abc', 'klm', 'opq']\n",
        "list_2 = [3, 5, 2, 4, 1]\n",
        "my_list.sort()\n",
        "list_2.sort()\n",
        "print(my_list)\n",
        "print(list_2)"
      ],
      "execution_count": 88,
      "outputs": [
        {
          "output_type": "stream",
          "text": [
            "['abc', 'cde', 'fgh', 'klm', 'opq']\n",
            "[1, 2, 3, 4, 5]\n"
          ],
          "name": "stdout"
        }
      ]
    },
    {
      "cell_type": "markdown",
      "metadata": {
        "id": "5v7EVUDSomDe"
      },
      "source": [
        "- Можно развернуть порядок элементов в списке с помощью метода **reverse()**"
      ]
    },
    {
      "cell_type": "code",
      "metadata": {
        "colab": {
          "base_uri": "https://localhost:8080/"
        },
        "id": "Jq3MLHaDjfwE",
        "outputId": "fb26a565-aad7-4d55-8a2d-6ce09eb05390"
      },
      "source": [
        "my_list = [1, 2, 3, 4, 5]\n",
        "my_list.reverse()\n",
        "print(my_list)"
      ],
      "execution_count": 89,
      "outputs": [
        {
          "output_type": "stream",
          "text": [
            "[5, 4, 3, 2, 1]\n"
          ],
          "name": "stdout"
        }
      ]
    },
    {
      "cell_type": "markdown",
      "metadata": {
        "id": "X4tWD6XhoqW4"
      },
      "source": [
        "- Метод **index()** можно использовать для получения индекса элемента:"
      ]
    },
    {
      "cell_type": "code",
      "metadata": {
        "colab": {
          "base_uri": "https://localhost:8080/"
        },
        "id": "rJ1Zjk7AooE7",
        "outputId": "26fff41e-1703-4b5a-a314-cb7828963d09"
      },
      "source": [
        "my_list = ['один', 'два', 'три', 'четыре', 'пять']\n",
        "print(my_list.index('два'))"
      ],
      "execution_count": 90,
      "outputs": [
        {
          "output_type": "stream",
          "text": [
            "1\n"
          ],
          "name": "stdout"
        }
      ]
    },
    {
      "cell_type": "markdown",
      "metadata": {
        "id": "z_XFYnWlvt0O"
      },
      "source": [
        "Тем не менее, со списками нужно быть осторожным. Предположим, что вы хотите создать список из десяти пустых списков. Python позволяет сделать это простой и изящной конструкцией -- \"размножением\" списка при помощи оператора умножения, -- но у неё есть коварный нюанс. Как вы думаете, что выведется на экран в ячейке ниже?"
      ]
    },
    {
      "cell_type": "code",
      "metadata": {
        "colab": {
          "base_uri": "https://localhost:8080/"
        },
        "id": "uieREEzGvvHb",
        "outputId": "cfd452c1-b507-407c-ce9f-c4c5f10c833a"
      },
      "source": [
        "element = []\n",
        "repeated_list = [element] * 12\n",
        "repeated_list[0].append(1)\n",
        "repeated_list"
      ],
      "execution_count": 91,
      "outputs": [
        {
          "output_type": "execute_result",
          "data": {
            "text/plain": [
              "[[1], [1], [1], [1], [1], [1], [1], [1], [1], [1], [1], [1]]"
            ]
          },
          "metadata": {
            "tags": []
          },
          "execution_count": 91
        }
      ]
    },
    {
      "cell_type": "code",
      "metadata": {
        "colab": {
          "base_uri": "https://localhost:8080/"
        },
        "id": "Ql554Ujnvwto",
        "outputId": "a009dcf4-f037-4fa2-910b-619702dcebb0"
      },
      "source": [
        "element.append(2)\n",
        "repeated_list"
      ],
      "execution_count": 92,
      "outputs": [
        {
          "output_type": "execute_result",
          "data": {
            "text/plain": [
              "[[1, 2],\n",
              " [1, 2],\n",
              " [1, 2],\n",
              " [1, 2],\n",
              " [1, 2],\n",
              " [1, 2],\n",
              " [1, 2],\n",
              " [1, 2],\n",
              " [1, 2],\n",
              " [1, 2],\n",
              " [1, 2],\n",
              " [1, 2]]"
            ]
          },
          "metadata": {
            "tags": []
          },
          "execution_count": 92
        }
      ]
    },
    {
      "cell_type": "markdown",
      "metadata": {
        "id": "VSXJmecLv3xQ"
      },
      "source": [
        "Всё дело в том, что элементы списка в Python хранят ссылки на объекты, а не их содержимое, потому при умножении списка копируется только ссылка, в результате чего все элементы начинают ссылаться на **один и тот же** объект и меняться **синхронно**. Постарайтесь не допускать эту ошибку на практике. \n",
        "\n",
        "Правильная реализация подразумевает использование list comrehensions, о которых пойдёт речь ниже."
      ]
    },
    {
      "cell_type": "code",
      "metadata": {
        "colab": {
          "base_uri": "https://localhost:8080/"
        },
        "id": "wIhw87l3NrKf",
        "outputId": "a86b2a32-9f1b-4dbe-e62b-1bdc187e0ed4"
      },
      "source": [
        "lists = [[]] * 3\n",
        "print(lists)\n",
        "\n",
        "lists[0].append(3)\n",
        "print(lists)"
      ],
      "execution_count": 93,
      "outputs": [
        {
          "output_type": "stream",
          "text": [
            "[[], [], []]\n",
            "[[3], [3], [3]]\n"
          ],
          "name": "stdout"
        }
      ]
    },
    {
      "cell_type": "code",
      "metadata": {
        "colab": {
          "base_uri": "https://localhost:8080/"
        },
        "id": "cg1dGhpzN2ow",
        "outputId": "60f8d0b1-f88c-4434-bc05-f9836797fa74"
      },
      "source": [
        "# зададим список и его элементы при помощи list comprehensions\n",
        "lists = [[] for i in range(3)] #вернемся к этому примеру после темы \"Цикл for\"\n",
        "lists[0].append(3)\n",
        "lists[1].append(5)\n",
        "lists[2].append(7)\n",
        "lists"
      ],
      "execution_count": 94,
      "outputs": [
        {
          "output_type": "execute_result",
          "data": {
            "text/plain": [
              "[[3], [5], [7]]"
            ]
          },
          "metadata": {
            "tags": []
          },
          "execution_count": 94
        }
      ]
    },
    {
      "cell_type": "markdown",
      "metadata": {
        "id": "QHD6a2kvpotw"
      },
      "source": [
        "#### **Функции агрегации, сравнение списков**\n",
        "\n",
        "В Python есть некоторые агрегатные функции:"
      ]
    },
    {
      "cell_type": "code",
      "metadata": {
        "colab": {
          "base_uri": "https://localhost:8080/"
        },
        "id": "NI7mOgGvp9YO",
        "outputId": "6fbf21c9-2c4f-467b-f246-acdbc783b7a5"
      },
      "source": [
        "my_list = [5, 3, 2, 4, 1]\n",
        "print(len(my_list))\n",
        "print(min(my_list))\n",
        "print(max(my_list))\n",
        "print(sum(my_list))"
      ],
      "execution_count": 95,
      "outputs": [
        {
          "output_type": "stream",
          "text": [
            "5\n",
            "1\n",
            "5\n",
            "15\n"
          ],
          "name": "stdout"
        }
      ]
    },
    {
      "cell_type": "markdown",
      "metadata": {
        "id": "CQ9t36fFqAT-"
      },
      "source": [
        "**sum()** работает только с числовыми значениями.\n",
        "\n",
        "А **max()**, **len()** и другие можно использовать и со строками."
      ]
    },
    {
      "cell_type": "markdown",
      "metadata": {
        "id": "gq1HDA-Fpv5Q"
      },
      "source": [
        "Сравним элементы двух списков"
      ]
    },
    {
      "cell_type": "code",
      "metadata": {
        "colab": {
          "base_uri": "https://localhost:8080/"
        },
        "id": "EJADl8_-ptQ1",
        "outputId": "5615b900-8339-4e86-9e15-a6479c0e5e1b"
      },
      "source": [
        "my_list = ['один', 'два', 'три', 'четыре', 'пять']\n",
        "list_2 = ['три', 'один', 'пять', 'два', 'четыре']\n",
        "if (my_list == list_2):\n",
        "    print('cовпадают')\n",
        "else:\n",
        "    print('не совпадают')"
      ],
      "execution_count": 96,
      "outputs": [
        {
          "output_type": "stream",
          "text": [
            "не совпадают\n"
          ],
          "name": "stdout"
        }
      ]
    },
    {
      "cell_type": "markdown",
      "metadata": {
        "id": "mR4QppXeqqGw"
      },
      "source": [
        "## отступление. Конструкция if-else"
      ]
    },
    {
      "cell_type": "markdown",
      "metadata": {
        "id": "d9rK1e7iqy5S"
      },
      "source": [
        "### If\n",
        "\n",
        "**Условный оператор**\n",
        "\n",
        "В коде часто приходится проверять выполнимость или невыполнимость каких-то условий. Синтаксис следующий\n",
        "\n",
        "```\n",
        "if <условие1 (булевское выражение)> :\n",
        "    <код, который выполнится, если условие верно>\n",
        "elif <условие2 (булевское выражение)>:\n",
        "    <код, который выполнится, если условие1 было неверно, а условие2 верно>\n",
        "else:\n",
        "    <код, который выполнится, если условие1 и условие2 были неверны>\n",
        "```\n",
        "\n",
        "Обратите внимание, что код, который должен выполняться внутри каждого условия, записывается с отступом в 4 пробела от уровня if, elif и else: в питоне области видимости переменных обозначаются отступами.\n",
        "\n",
        "*То есть, отступы позволяют понять, где начинается код, который должен выполняться при выполнении условия в if, и где заканчивается*\n",
        "\n",
        "Рассмотрим пример: пусть в нашем коде есть переменная x. Пусть мы хотим вывести на экран сообщение \"x отрицателен\", если x<0, \"x равен нулю\", если x=0 и \"x положителен\", если x>0. Код будет следующий:"
      ]
    },
    {
      "cell_type": "code",
      "metadata": {
        "colab": {
          "base_uri": "https://localhost:8080/"
        },
        "id": "8fwY4BjDq_yM",
        "outputId": "2381f871-fa7b-4e12-bcb7-48948a87b394"
      },
      "source": [
        "x = -10\n",
        "\n",
        "if x < 0:\n",
        "    print(\"x отрицателен\")\n",
        "elif x == 0:\n",
        "    print(\"x равен нулю\")\n",
        "else:\n",
        "    print(\"x положителен\")\n",
        "    \n",
        "# этот код уже не \"внутри\" else, потому что записан без отступа в 4 пробела. \n",
        "# Поэтому он выполнится в любом случае после отработки if-elif-else\n",
        "print(\"Done\")"
      ],
      "execution_count": 97,
      "outputs": [
        {
          "output_type": "stream",
          "text": [
            "x отрицателен\n",
            "Done\n"
          ],
          "name": "stdout"
        }
      ]
    },
    {
      "cell_type": "markdown",
      "metadata": {
        "id": "bsPSEj1erM75"
      },
      "source": [
        "Варианты записи одного и того же выражения:"
      ]
    },
    {
      "cell_type": "code",
      "metadata": {
        "colab": {
          "base_uri": "https://localhost:8080/"
        },
        "id": "N46EDGrsptq4",
        "outputId": "e7bdbf79-0225-4d0e-96f4-c9342ca4966d"
      },
      "source": [
        "X = True\n",
        "Y = 0\n",
        "Z = 1\n",
        "# \"Длинный\" вариант записи\n",
        "if X:\n",
        "    A = Y\n",
        "else:\n",
        "    A = Z\n",
        "print(A)"
      ],
      "execution_count": 98,
      "outputs": [
        {
          "output_type": "stream",
          "text": [
            "0\n"
          ],
          "name": "stdout"
        }
      ]
    },
    {
      "cell_type": "code",
      "metadata": {
        "colab": {
          "base_uri": "https://localhost:8080/"
        },
        "id": "KHD4kxd6relO",
        "outputId": "d02fd8fa-830e-49aa-90f0-8906b209ec96"
      },
      "source": [
        "X = True\n",
        "Y = 0\n",
        "Z = 1\n",
        "# Довольно короткий вариант записи\n",
        "A = Y if X else Z\n",
        "print(A)"
      ],
      "execution_count": 99,
      "outputs": [
        {
          "output_type": "stream",
          "text": [
            "0\n"
          ],
          "name": "stdout"
        }
      ]
    },
    {
      "cell_type": "markdown",
      "metadata": {
        "id": "Tz2W9wGJDOnB"
      },
      "source": [
        "Конечно, в if можно подставлять и более сложные булевские выражения:"
      ]
    },
    {
      "cell_type": "code",
      "metadata": {
        "colab": {
          "base_uri": "https://localhost:8080/"
        },
        "id": "2e82z6cYDN1i",
        "outputId": "1e40deea-7ca8-4789-a525-4b15c65bd6d8"
      },
      "source": [
        "x = 5\n",
        "if (x > 3 and x < 11) or x == 5:\n",
        "    print(x)\n",
        "    # тоже выполнится при выполнения условия после if, так как этот код тоже записан с отступом в 4 пробела\n",
        "    print(\"nice\")"
      ],
      "execution_count": 100,
      "outputs": [
        {
          "output_type": "stream",
          "text": [
            "5\n",
            "nice\n"
          ],
          "name": "stdout"
        }
      ]
    },
    {
      "cell_type": "code",
      "metadata": {
        "id": "bRk0Lym8DSdy"
      },
      "source": [
        "# if внутри if:\n",
        "x = 2\n",
        "y = 5\n",
        "if x >= 3:\n",
        "    if y > 6:\n",
        "        # отступ в 4 пробела от внутреннего if\n",
        "        print(\"y greater than 6\")\n",
        "    else:\n",
        "        print(\"y not greater than 6\")\n",
        "        \n",
        "    # отступ в 4 пробела от внешнего if, поэтому код выполнится если x==3 и при любом значении y\n",
        "    print(\"x is equal to 3\")"
      ],
      "execution_count": 101,
      "outputs": []
    },
    {
      "cell_type": "code",
      "metadata": {
        "colab": {
          "base_uri": "https://localhost:8080/"
        },
        "id": "yY_7bRa-DT-h",
        "outputId": "42fc218e-dd3f-4706-9c4d-bddd09a69842"
      },
      "source": [
        "print(True and False, '\\n')\n",
        "\n",
        "print(True or False, '\\n')\n",
        "\n",
        "print(not False, '\\n')"
      ],
      "execution_count": 102,
      "outputs": [
        {
          "output_type": "stream",
          "text": [
            "False \n",
            "\n",
            "True \n",
            "\n",
            "True \n",
            "\n"
          ],
          "name": "stdout"
        }
      ]
    },
    {
      "cell_type": "markdown",
      "metadata": {
        "id": "qzW4wO9NSqyX"
      },
      "source": [
        "## 1.7. dict()\n",
        "**Словарь**\n",
        "\n",
        "**Словари в Python** - неупорядоченная структура данных, которая позволяет хранить пары «ключ — значение». Их иногда ещё называют ассоциативными массивами или хеш-таблицами.\n",
        "\n",
        "Чтобы работать со словарём, его нужно создать. Создать его можно несколькими способами.\n",
        "\n",
        "**Во-первых**, с помощью литерала:"
      ]
    },
    {
      "cell_type": "code",
      "metadata": {
        "colab": {
          "base_uri": "https://localhost:8080/"
        },
        "id": "PBIC1QQZTTIK",
        "outputId": "e13ae88b-df64-4558-99ad-3fb0f12bd7a9"
      },
      "source": [
        "d = {}\n",
        "print(d, type(d))"
      ],
      "execution_count": 103,
      "outputs": [
        {
          "output_type": "stream",
          "text": [
            "{} <class 'dict'>\n"
          ],
          "name": "stdout"
        }
      ]
    },
    {
      "cell_type": "code",
      "metadata": {
        "colab": {
          "base_uri": "https://localhost:8080/"
        },
        "id": "YaBMMleQTaEv",
        "outputId": "5cf9d695-429e-46e9-d84d-6651b18742eb"
      },
      "source": [
        "d = {'dict': 1, 'dictionary': 2} # присвоим ключам 'dict' и 'dictionary' значения 1 и 2 соответственно\n",
        "print(d)"
      ],
      "execution_count": 104,
      "outputs": [
        {
          "output_type": "stream",
          "text": [
            "{'dict': 1, 'dictionary': 2}\n"
          ],
          "name": "stdout"
        }
      ]
    },
    {
      "cell_type": "markdown",
      "metadata": {
        "id": "J6NkdBUyTnMG"
      },
      "source": [
        "**Во-вторых**, словарь можно создать с помощью функции dict:"
      ]
    },
    {
      "cell_type": "code",
      "metadata": {
        "colab": {
          "base_uri": "https://localhost:8080/"
        },
        "id": "h9LkaaXZTtRP",
        "outputId": "40dcb09d-2747-44cf-bae1-906c7bbf18f2"
      },
      "source": [
        "d = dict(short='dict', long='dictionary')\n",
        "print(d)\n",
        "d = dict([(1, 1), (2, 4)])\n",
        "print(d)"
      ],
      "execution_count": 105,
      "outputs": [
        {
          "output_type": "stream",
          "text": [
            "{'short': 'dict', 'long': 'dictionary'}\n",
            "{1: 1, 2: 4}\n"
          ],
          "name": "stdout"
        }
      ]
    },
    {
      "cell_type": "markdown",
      "metadata": {
        "id": "UVEFZMrRTtvt"
      },
      "source": [
        "**В-третьих**, с помощью метода fromkeys:"
      ]
    },
    {
      "cell_type": "code",
      "metadata": {
        "colab": {
          "base_uri": "https://localhost:8080/"
        },
        "id": "7Vr7g6uSTwKj",
        "outputId": "a9bf8cf8-172b-4786-98ed-e3effdd09990"
      },
      "source": [
        "d = dict.fromkeys(['a', 'b'])\n",
        "print(d)\n",
        "d = dict.fromkeys(['a', 'b'], 100)\n",
        "print(d)"
      ],
      "execution_count": 106,
      "outputs": [
        {
          "output_type": "stream",
          "text": [
            "{'a': None, 'b': None}\n",
            "{'a': 100, 'b': 100}\n"
          ],
          "name": "stdout"
        }
      ]
    },
    {
      "cell_type": "markdown",
      "metadata": {
        "id": "nsVCxXpmTwa0"
      },
      "source": [
        "**В-четвертых**, с помощью dict comprehensions, которые очень похожи на list comprehensions. О них мы поговорим далее, после раздела \"Цикл for\""
      ]
    },
    {
      "cell_type": "code",
      "metadata": {
        "colab": {
          "base_uri": "https://localhost:8080/"
        },
        "id": "zxxwUY5sTkxI",
        "outputId": "15450f71-7d2e-4a8b-ce51-51a88f0e45a0"
      },
      "source": [
        "d = {a: a ** 2 for a in range(7)}\n",
        "print(d)"
      ],
      "execution_count": 107,
      "outputs": [
        {
          "output_type": "stream",
          "text": [
            "{0: 0, 1: 1, 2: 4, 3: 9, 4: 16, 5: 25, 6: 36}\n"
          ],
          "name": "stdout"
        }
      ]
    },
    {
      "cell_type": "markdown",
      "metadata": {
        "id": "SZHsP46AWEvH"
      },
      "source": [
        "Теперь попробуем извлечь значения ключей и добавить записей в словарь:"
      ]
    },
    {
      "cell_type": "code",
      "metadata": {
        "colab": {
          "base_uri": "https://localhost:8080/"
        },
        "id": "ObOlBnNIUTmF",
        "outputId": "5109a557-67fb-48c6-ccbf-8d8a52b35e3f"
      },
      "source": [
        "d = {1: 2, 2: 4, 3: 9} # создадим словарь\n",
        "print(d[1]) # извлечем объект под индексом 2"
      ],
      "execution_count": 108,
      "outputs": [
        {
          "output_type": "stream",
          "text": [
            "2\n"
          ],
          "name": "stdout"
        }
      ]
    },
    {
      "cell_type": "code",
      "metadata": {
        "colab": {
          "base_uri": "https://localhost:8080/"
        },
        "id": "49wxY4RIUT1U",
        "outputId": "c89009ce-40a8-41f3-e17f-ce140c003cf1"
      },
      "source": [
        "d[4] = 4 ** 2 # присвоим объекту под индексом 4 значение 4**2\n",
        "print(d)"
      ],
      "execution_count": 109,
      "outputs": [
        {
          "output_type": "stream",
          "text": [
            "{1: 2, 2: 4, 3: 9, 4: 16}\n"
          ],
          "name": "stdout"
        }
      ]
    },
    {
      "cell_type": "code",
      "metadata": {
        "colab": {
          "base_uri": "https://localhost:8080/"
        },
        "id": "iLC6gX_aUhm2",
        "outputId": "6fb98188-4eb8-4d22-a46c-ab164dd0a4ba"
      },
      "source": [
        "key = 'b'\n",
        "value = 100\n",
        "\n",
        "d[key] = value # добавим новую пару ключ-значение в словарь\n",
        "print(d)"
      ],
      "execution_count": 110,
      "outputs": [
        {
          "output_type": "stream",
          "text": [
            "{1: 2, 2: 4, 3: 9, 4: 16, 'b': 100}\n"
          ],
          "name": "stdout"
        }
      ]
    },
    {
      "cell_type": "markdown",
      "metadata": {
        "id": "j8zZ92VjVBYU"
      },
      "source": [
        "#### **Некоторые методы словарей**"
      ]
    },
    {
      "cell_type": "markdown",
      "metadata": {
        "id": "-b8l4owUVG5a"
      },
      "source": [
        "**dict.clear()** - очищает словарь.\n",
        "\n",
        "**dict.update(another_dict)** - объединение 2 словарей, если ключи совпадают, то dict будет перезаписан значением из another_dict. \n",
        "\n",
        "**dict.items()** - возвращает пары (ключ, значение).\n",
        "\n",
        "**dict.keys()** - возвращает ключи в словаре.\n",
        "\n",
        "**dict.values()** - возвращает значения в словаре.\n",
        "\n",
        "**dict.pop(key)** - удаляет ключ и возвращает значение. Если ключа нет, возвращает default (по умолчанию бросает исключение)."
      ]
    },
    {
      "cell_type": "code",
      "metadata": {
        "colab": {
          "base_uri": "https://localhost:8080/"
        },
        "id": "9ka7gcckV8TQ",
        "outputId": "2dc618b6-ad89-4334-a2c7-898a4f8aa815"
      },
      "source": [
        "d.items()"
      ],
      "execution_count": 111,
      "outputs": [
        {
          "output_type": "execute_result",
          "data": {
            "text/plain": [
              "dict_items([(1, 2), (2, 4), (3, 9), (4, 16), ('b', 100)])"
            ]
          },
          "metadata": {
            "tags": []
          },
          "execution_count": 111
        }
      ]
    },
    {
      "cell_type": "code",
      "metadata": {
        "colab": {
          "base_uri": "https://localhost:8080/"
        },
        "id": "R4jkcMJJV-oP",
        "outputId": "0bc0a81c-f9ed-4804-823a-7ae07cbe2f54"
      },
      "source": [
        "d.keys()"
      ],
      "execution_count": 112,
      "outputs": [
        {
          "output_type": "execute_result",
          "data": {
            "text/plain": [
              "dict_keys([1, 2, 3, 4, 'b'])"
            ]
          },
          "metadata": {
            "tags": []
          },
          "execution_count": 112
        }
      ]
    },
    {
      "cell_type": "code",
      "metadata": {
        "colab": {
          "base_uri": "https://localhost:8080/"
        },
        "id": "niTX8KmeWAJ2",
        "outputId": "b70a3429-f5b8-4a98-c871-304fc33c6503"
      },
      "source": [
        "d.values()"
      ],
      "execution_count": 113,
      "outputs": [
        {
          "output_type": "execute_result",
          "data": {
            "text/plain": [
              "dict_values([2, 4, 9, 16, 100])"
            ]
          },
          "metadata": {
            "tags": []
          },
          "execution_count": 113
        }
      ]
    },
    {
      "cell_type": "code",
      "metadata": {
        "colab": {
          "base_uri": "https://localhost:8080/"
        },
        "id": "OUOJBofdWL_E",
        "outputId": "63ca2e7f-d682-40f0-95a8-9019300eee20"
      },
      "source": [
        "d.pop('b')"
      ],
      "execution_count": 114,
      "outputs": [
        {
          "output_type": "execute_result",
          "data": {
            "text/plain": [
              "100"
            ]
          },
          "metadata": {
            "tags": []
          },
          "execution_count": 114
        }
      ]
    },
    {
      "cell_type": "code",
      "metadata": {
        "colab": {
          "base_uri": "https://localhost:8080/"
        },
        "id": "PyQTncd_Cb9l",
        "outputId": "78649304-c6ce-49c6-a00f-a0eec380964c"
      },
      "source": [
        "a={'a':'1','b':'2'}\n",
        "b={'b':'3','c':'4'}\n",
        "a.update(b)\n",
        "a"
      ],
      "execution_count": 115,
      "outputs": [
        {
          "output_type": "execute_result",
          "data": {
            "text/plain": [
              "{'a': '1', 'b': '3', 'c': '4'}"
            ]
          },
          "metadata": {
            "tags": []
          },
          "execution_count": 115
        }
      ]
    },
    {
      "cell_type": "code",
      "metadata": {
        "colab": {
          "base_uri": "https://localhost:8080/"
        },
        "id": "AyuTKUbPWOCo",
        "outputId": "abb625f0-7641-45cd-827c-c60e58985c1e"
      },
      "source": [
        "d.clear()\n",
        "print(d)"
      ],
      "execution_count": 116,
      "outputs": [
        {
          "output_type": "stream",
          "text": [
            "{}\n"
          ],
          "name": "stdout"
        }
      ]
    },
    {
      "cell_type": "markdown",
      "metadata": {
        "id": "WmFgAUdiK3SJ"
      },
      "source": [
        "#### Некоторые подводные камни словарей"
      ]
    },
    {
      "cell_type": "markdown",
      "metadata": {
        "id": "i6F0upPRK9oE"
      },
      "source": [
        "Время для хеш-пирожных!"
      ]
    },
    {
      "cell_type": "code",
      "metadata": {
        "id": "Q0UIPZRCK8FS"
      },
      "source": [
        "some_dict = {}\n",
        "some_dict[5.5] = \"Ruby\"\n",
        "some_dict[5.0] = \"JavaScript\"\n",
        "some_dict[5] = \"Python\""
      ],
      "execution_count": 117,
      "outputs": []
    },
    {
      "cell_type": "code",
      "metadata": {
        "colab": {
          "base_uri": "https://localhost:8080/",
          "height": 37
        },
        "id": "glLAF9bALH-O",
        "outputId": "63519710-4b87-4f09-922f-dfd010857961"
      },
      "source": [
        "some_dict[5.5]"
      ],
      "execution_count": 118,
      "outputs": [
        {
          "output_type": "execute_result",
          "data": {
            "application/vnd.google.colaboratory.intrinsic+json": {
              "type": "string"
            },
            "text/plain": [
              "'Ruby'"
            ]
          },
          "metadata": {
            "tags": []
          },
          "execution_count": 118
        }
      ]
    },
    {
      "cell_type": "code",
      "metadata": {
        "colab": {
          "base_uri": "https://localhost:8080/",
          "height": 37
        },
        "id": "yjZESf94LJNv",
        "outputId": "7cea1b39-9d07-4b3c-e082-473891bc8ece"
      },
      "source": [
        "some_dict[5.0]"
      ],
      "execution_count": 119,
      "outputs": [
        {
          "output_type": "execute_result",
          "data": {
            "application/vnd.google.colaboratory.intrinsic+json": {
              "type": "string"
            },
            "text/plain": [
              "'Python'"
            ]
          },
          "metadata": {
            "tags": []
          },
          "execution_count": 119
        }
      ]
    },
    {
      "cell_type": "code",
      "metadata": {
        "colab": {
          "base_uri": "https://localhost:8080/",
          "height": 37
        },
        "id": "tQw13XsYLJsN",
        "outputId": "3f8b3541-bd29-4b4f-a1fa-1d5445956d45"
      },
      "source": [
        "some_dict[5]"
      ],
      "execution_count": 120,
      "outputs": [
        {
          "output_type": "execute_result",
          "data": {
            "application/vnd.google.colaboratory.intrinsic+json": {
              "type": "string"
            },
            "text/plain": [
              "'Python'"
            ]
          },
          "metadata": {
            "tags": []
          },
          "execution_count": 120
        }
      ]
    },
    {
      "cell_type": "markdown",
      "metadata": {
        "id": "cez4V_o8LP0G"
      },
      "source": [
        "**Почему так?**\n",
        "\n",
        "* Словари в Python проверяют эквивалентность и сравнивают значение хешей, чтобы определить, одинаковы ли два ключа.\n",
        "\n",
        "* Неизменяемые объекты с одинаковыми значениями в Python всегда получают одинаковые хеши."
      ]
    },
    {
      "cell_type": "code",
      "metadata": {
        "colab": {
          "base_uri": "https://localhost:8080/"
        },
        "id": "iROUIl1cLWx1",
        "outputId": "e50b252d-b3c4-4a09-f307-e94404992c41"
      },
      "source": [
        "5 == 5.0"
      ],
      "execution_count": 121,
      "outputs": [
        {
          "output_type": "execute_result",
          "data": {
            "text/plain": [
              "True"
            ]
          },
          "metadata": {
            "tags": []
          },
          "execution_count": 121
        }
      ]
    },
    {
      "cell_type": "code",
      "metadata": {
        "colab": {
          "base_uri": "https://localhost:8080/"
        },
        "id": "YrMyfyXBLjjO",
        "outputId": "4c1ad8fd-7c7e-4a42-b917-b0860c5a849d"
      },
      "source": [
        "5 is 5.0"
      ],
      "execution_count": 122,
      "outputs": [
        {
          "output_type": "execute_result",
          "data": {
            "text/plain": [
              "False"
            ]
          },
          "metadata": {
            "tags": []
          },
          "execution_count": 122
        }
      ]
    },
    {
      "cell_type": "code",
      "metadata": {
        "colab": {
          "base_uri": "https://localhost:8080/"
        },
        "id": "COP44BXXK8hB",
        "outputId": "1367cd82-16b1-4b6a-fe33-e7ca6446526c"
      },
      "source": [
        "hash(5) == hash(5.0)"
      ],
      "execution_count": 123,
      "outputs": [
        {
          "output_type": "execute_result",
          "data": {
            "text/plain": [
              "True"
            ]
          },
          "metadata": {
            "tags": []
          },
          "execution_count": 123
        }
      ]
    },
    {
      "cell_type": "markdown",
      "metadata": {
        "id": "DcfD-y8FL_0T"
      },
      "source": [
        "- оператор==проверяет равенство значений двух объектов\n",
        "- оператор is проверяет идентичность самих объектов. Его используют, чтобы удостовериться, что переменные указывают на один и тот же объект в памяти"
      ]
    },
    {
      "cell_type": "markdown",
      "metadata": {
        "id": "h2QNvdmUMdx6"
      },
      "source": [
        "Преобразование словаря во время его итерирования"
      ]
    },
    {
      "cell_type": "code",
      "metadata": {
        "colab": {
          "base_uri": "https://localhost:8080/"
        },
        "id": "PcVMuljOMkyl",
        "outputId": "e3f0d572-eb2e-4f5f-ccc9-51ee509c1845"
      },
      "source": [
        "x = {0: None}\n",
        "\n",
        "for i in x:\n",
        "    del x[i]\n",
        "    x[i+1] = None\n",
        "    print(i)"
      ],
      "execution_count": 124,
      "outputs": [
        {
          "output_type": "stream",
          "text": [
            "0\n",
            "1\n",
            "2\n",
            "3\n",
            "4\n"
          ],
          "name": "stdout"
        }
      ]
    },
    {
      "cell_type": "markdown",
      "metadata": {
        "id": "T8nOHJFbMqUO"
      },
      "source": [
        "Да, выполняется ровно пять раз и останавливается."
      ]
    },
    {
      "cell_type": "markdown",
      "metadata": {
        "id": "JhHkcyXHMngd"
      },
      "source": [
        "Он запускается 5 раз, потому что текущая реализация dict начинается с хеш-таблицы размера 8, а изменение размера запускается, когда таблица заполнена на 2/3 (наш исходный dict имеет 1 запись, 5 новых вставок делают его размером> (8 * 2 / 3 == 5.333333). Таблица заполняется объектами DKIX_DUMMY, введенными при удалении ключа (необходимо для правильной обработки хеш-коллизий)."
      ]
    },
    {
      "cell_type": "markdown",
      "metadata": {
        "id": "w5YyAeIHWSsc"
      },
      "source": [
        "## 1.8. Set\n",
        "**Множества**\n",
        "\n",
        "**Множество** -- Множество - это изменяемый неупорядоченный тип данных. В множестве всегда содержатся только уникальные элементы. Т.е. элементы не могут повторяться.\n",
        "\n",
        "Внутри языка множество устроено совсем не так, как массив или кортеж, элементы множества хранятся не последовательно, поэтому к элементам множества нельзя обрашаться по индексу.\n",
        "Пустое множество можно создать с помощью set():"
      ]
    },
    {
      "cell_type": "code",
      "metadata": {
        "colab": {
          "base_uri": "https://localhost:8080/"
        },
        "id": "cjzw5MeKWiLW",
        "outputId": "4687a6e3-809f-4556-ba92-21af4ea92bd9"
      },
      "source": [
        "s = set()\n",
        "\n",
        "print(s, type(s))"
      ],
      "execution_count": 125,
      "outputs": [
        {
          "output_type": "stream",
          "text": [
            "set() <class 'set'>\n"
          ],
          "name": "stdout"
        }
      ]
    },
    {
      "cell_type": "markdown",
      "metadata": {
        "id": "o0sLqouIWoa-"
      },
      "source": [
        "С помощью множества можно легко убрать повторяющиеся элементы:"
      ]
    },
    {
      "cell_type": "code",
      "metadata": {
        "colab": {
          "base_uri": "https://localhost:8080/"
        },
        "id": "mm7c-eTSWsmi",
        "outputId": "b8f01be2-4b2a-4763-da12-8249b74e9759"
      },
      "source": [
        "s = set([5, 2, 3, 2])\n",
        "print(s)"
      ],
      "execution_count": 126,
      "outputs": [
        {
          "output_type": "stream",
          "text": [
            "{2, 3, 5}\n"
          ],
          "name": "stdout"
        }
      ]
    },
    {
      "cell_type": "markdown",
      "metadata": {
        "id": "UoVgnTBbXJHS"
      },
      "source": [
        "#### **Некоторые методы множеств**\n",
        "\n",
        "Для добавление элемента в сет используется метод **add**, для удаления - **pop** или **remove**. Добавление в сет уже существующего элемента не повлияет на сет. Сеты обладают множеством методов для работы с уникальными элементами, например **difference** - возвращает элементы сета отсутствующие в другом сете, **intersection** - наоборот, возвращает елементы сета присутствующие в другом сете."
      ]
    },
    {
      "cell_type": "code",
      "metadata": {
        "colab": {
          "base_uri": "https://localhost:8080/"
        },
        "id": "1s_683kLXazb",
        "outputId": "0141b838-587e-4755-f962-38762b4ccf4f"
      },
      "source": [
        "s = set([5, 2, 3, 2])\n",
        "print(s)\n",
        "s.add(1)\n",
        "s.add('a')\n",
        "# None тоже можно добавить =)\n",
        "s.add(None)\n",
        "s.add('bullet')\n",
        "print(s)"
      ],
      "execution_count": 127,
      "outputs": [
        {
          "output_type": "stream",
          "text": [
            "{2, 3, 5}\n",
            "{1, 2, 3, 'a', 5, 'bullet', None}\n"
          ],
          "name": "stdout"
        }
      ]
    },
    {
      "cell_type": "code",
      "metadata": {
        "colab": {
          "base_uri": "https://localhost:8080/"
        },
        "id": "AIhrGY91XbD3",
        "outputId": "d8d3f645-91bb-4b92-d8a7-d2fe5fcadee2"
      },
      "source": [
        "# Инициализируем два множества\n",
        "s1 = set(range(0, 10))\n",
        "s2 = set(range(5, 15))\n",
        "\n",
        "print('s1: ', s1, '\\ns2: ', s2)"
      ],
      "execution_count": 128,
      "outputs": [
        {
          "output_type": "stream",
          "text": [
            "s1:  {0, 1, 2, 3, 4, 5, 6, 7, 8, 9} \n",
            "s2:  {5, 6, 7, 8, 9, 10, 11, 12, 13, 14}\n"
          ],
          "name": "stdout"
        }
      ]
    },
    {
      "cell_type": "code",
      "metadata": {
        "colab": {
          "base_uri": "https://localhost:8080/"
        },
        "id": "gMBYsnSDWYVV",
        "outputId": "70c0d681-2f04-4898-d258-0c57f69dff4c"
      },
      "source": [
        "# элементы, которые есть в s1, но нет в s2\n",
        "print(s1.difference(s2))\n",
        "print()\n",
        "# элементы, которые есть в s2, но нет в s1\n",
        "print(s2.difference(s1))"
      ],
      "execution_count": 129,
      "outputs": [
        {
          "output_type": "stream",
          "text": [
            "{0, 1, 2, 3, 4}\n",
            "\n",
            "{10, 11, 12, 13, 14}\n"
          ],
          "name": "stdout"
        }
      ]
    },
    {
      "cell_type": "code",
      "metadata": {
        "colab": {
          "base_uri": "https://localhost:8080/"
        },
        "id": "PUsUFVGrXo1c",
        "outputId": "13905975-c81a-4773-b6cc-34143e13c58c"
      },
      "source": [
        "# пересечение множеств s1 и s2 можно записать двумя способами:\n",
        "print(s1.intersection(s2))\n",
        "print(s1 & s2)"
      ],
      "execution_count": 130,
      "outputs": [
        {
          "output_type": "stream",
          "text": [
            "{5, 6, 7, 8, 9}\n",
            "{5, 6, 7, 8, 9}\n"
          ],
          "name": "stdout"
        }
      ]
    },
    {
      "cell_type": "code",
      "metadata": {
        "colab": {
          "base_uri": "https://localhost:8080/"
        },
        "id": "Cw8ykDsdXrxp",
        "outputId": "805371f2-da3e-44c8-96fa-659fc78eaf3a"
      },
      "source": [
        "# объединение множеств s1 и s2 тоже можно записать двумя способами:\n",
        "print(s1.union(s2))\n",
        "print(s1 | s2)"
      ],
      "execution_count": 131,
      "outputs": [
        {
          "output_type": "stream",
          "text": [
            "{0, 1, 2, 3, 4, 5, 6, 7, 8, 9, 10, 11, 12, 13, 14}\n",
            "{0, 1, 2, 3, 4, 5, 6, 7, 8, 9, 10, 11, 12, 13, 14}\n"
          ],
          "name": "stdout"
        }
      ]
    },
    {
      "cell_type": "markdown",
      "metadata": {
        "id": "c69UP3YtyaVN"
      },
      "source": [
        "## **Numpy array vs Python list**\n",
        "**массив**\n",
        "NumPy — это библиотека языка Python, добавляющая поддержку больших многомерных массивов и матриц, вместе с большой библиотекой высокоуровневых (и очень быстрых) математических функций для операций с этими массивами.\n",
        "\n",
        "\n",
        "Основным объектом NumPy является однородный многомерный массив (в numpy называется numpy.ndarray). Это многомерный массив элементов (обычно чисел), одного типа."
      ]
    },
    {
      "cell_type": "code",
      "metadata": {
        "id": "-m-i6x4yrWt6"
      },
      "source": [
        "import numpy as np #импортируем библиотеку numpy, для удобства дальнейшего использования\n",
        "                      #пишем конструкцию \"as np\", чтобы в последующем вызывать библиотеку\n",
        "                      # при помощи сокращения \"np\""
      ],
      "execution_count": 132,
      "outputs": []
    },
    {
      "cell_type": "markdown",
      "metadata": {
        "id": "zN172apJA5qA"
      },
      "source": [
        "Создадим массив. В NumPy существует много способов создать массив. Один из наиболее простых - создать массив из обычных списков или кортежей Python, используя функцию **numpy.array()** (запомните: array - функция, создающая объект типа ndarray):"
      ]
    },
    {
      "cell_type": "code",
      "metadata": {
        "colab": {
          "base_uri": "https://localhost:8080/"
        },
        "id": "eV3IuFeZ_4Kn",
        "outputId": "da6c8ebe-84ae-4d99-8ee1-ac0a0cae7821"
      },
      "source": [
        "a = np.array([1, 2, 3])\n",
        "print(a, type(a))"
      ],
      "execution_count": 133,
      "outputs": [
        {
          "output_type": "stream",
          "text": [
            "[1 2 3] <class 'numpy.ndarray'>\n"
          ],
          "name": "stdout"
        }
      ]
    },
    {
      "cell_type": "markdown",
      "metadata": {
        "id": "3wLnHK7MBfwI"
      },
      "source": [
        "#### **Некоторые атрибуты объектов ndarray**"
      ]
    },
    {
      "cell_type": "markdown",
      "metadata": {
        "id": "Y1MktYFdBOaH"
      },
      "source": [
        "Атрибут **ndarray.shape** - размеры массива, его форма. Это кортеж натуральных чисел, показывающий длину массива по каждой оси. Для матрицы из n строк и m столбов, shape будет (n,m). Число элементов кортежа shape равно ndim."
      ]
    },
    {
      "cell_type": "code",
      "metadata": {
        "colab": {
          "base_uri": "https://localhost:8080/"
        },
        "id": "r9mwH_yaBUR3",
        "outputId": "16c780dc-3611-4552-83c8-bfc7016faf13"
      },
      "source": [
        "print(a.shape)"
      ],
      "execution_count": 136,
      "outputs": [
        {
          "output_type": "stream",
          "text": [
            "(3,)\n"
          ],
          "name": "stdout"
        }
      ]
    },
    {
      "cell_type": "markdown",
      "metadata": {
        "id": "WMvHhlL1Bq1M"
      },
      "source": [
        "Атрибут **ndarray.dtype** - объект, описывающий тип элементов массива. Можно определить dtype, используя стандартные типы данных Python. NumPy здесь предоставляет целый букет возможностей, как встроенных, например: bool_, character, int8, int16, int32, int64, float8, float16, float32, float64, complex64, object_, так и возможность определить собственные типы данных, в том числе и составные."
      ]
    },
    {
      "cell_type": "markdown",
      "metadata": {
        "id": "7HddNR-ECAFk"
      },
      "source": [
        "Зададим массив ndarray со значениями типа int"
      ]
    },
    {
      "cell_type": "code",
      "metadata": {
        "colab": {
          "base_uri": "https://localhost:8080/"
        },
        "id": "R7J3r87NBvPY",
        "outputId": "89d861ae-398b-4510-b5e5-ba0e2e1a6961"
      },
      "source": [
        "my_array = np.array([1,2,3])\n",
        "print(my_array.dtype)"
      ],
      "execution_count": 137,
      "outputs": [
        {
          "output_type": "stream",
          "text": [
            "int64\n"
          ],
          "name": "stdout"
        }
      ]
    },
    {
      "cell_type": "markdown",
      "metadata": {
        "id": "I7iuBDSYCHZh"
      },
      "source": [
        "Зададим массив ndarray со значениями типа float"
      ]
    },
    {
      "cell_type": "code",
      "metadata": {
        "colab": {
          "base_uri": "https://localhost:8080/"
        },
        "id": "TUuBTV3TB3xP",
        "outputId": "04cddd26-a09b-438c-c45c-c2d8df693493"
      },
      "source": [
        "my_array = np.array([1.,2.,3.])\n",
        "print(my_array.dtype)"
      ],
      "execution_count": 138,
      "outputs": [
        {
          "output_type": "stream",
          "text": [
            "float64\n"
          ],
          "name": "stdout"
        }
      ]
    },
    {
      "cell_type": "markdown",
      "metadata": {
        "id": "DPIQGnrpCLl7"
      },
      "source": [
        "В Numpy Вы можете сами выбирать в каком формате хранить данные массива -  int8, int16, int32, int64, float8, float16, float32, float64 и тд"
      ]
    },
    {
      "cell_type": "code",
      "metadata": {
        "colab": {
          "base_uri": "https://localhost:8080/"
        },
        "id": "J33BnjR7BveK",
        "outputId": "57ed8b28-d7bd-4a31-b92a-0914943b21ef"
      },
      "source": [
        "my_array = np.array([1.25, 2.2, 3.87], dtype = 'float32')\n",
        "print(my_array)\n",
        "print(my_array.dtype)"
      ],
      "execution_count": 139,
      "outputs": [
        {
          "output_type": "stream",
          "text": [
            "[1.25 2.2  3.87]\n",
            "float32\n"
          ],
          "name": "stdout"
        }
      ]
    },
    {
      "cell_type": "markdown",
      "metadata": {
        "id": "eeuqkvl-Df6E"
      },
      "source": [
        "Давайте поменяет тип данных на int:"
      ]
    },
    {
      "cell_type": "code",
      "metadata": {
        "colab": {
          "base_uri": "https://localhost:8080/"
        },
        "id": "dXLerPWFBvs0",
        "outputId": "f884bce7-f38b-44df-8fe5-909b74369604"
      },
      "source": [
        "my_array = np.array([1.25, 2.2, 3.87], dtype = 'int8')\n",
        "print(my_array)\n",
        "print(my_array.dtype)"
      ],
      "execution_count": 140,
      "outputs": [
        {
          "output_type": "stream",
          "text": [
            "[1 2 3]\n",
            "int8\n"
          ],
          "name": "stdout"
        }
      ]
    },
    {
      "cell_type": "markdown",
      "metadata": {
        "id": "EQ0X4MEgDjqs"
      },
      "source": [
        "и на комплексные числа:"
      ]
    },
    {
      "cell_type": "code",
      "metadata": {
        "colab": {
          "base_uri": "https://localhost:8080/"
        },
        "id": "EhwDdQuB__G1",
        "outputId": "1e790011-9314-42b7-cd99-117eb5e158d3"
      },
      "source": [
        "my_array = np.array([1.25, 2.2, 3.87], dtype = 'complex64')\n",
        "print(my_array)\n",
        "print(my_array.dtype)"
      ],
      "execution_count": 141,
      "outputs": [
        {
          "output_type": "stream",
          "text": [
            "[1.25+0.j 2.2 +0.j 3.87+0.j]\n",
            "complex64\n"
          ],
          "name": "stdout"
        }
      ]
    },
    {
      "cell_type": "code",
      "metadata": {
        "colab": {
          "base_uri": "https://localhost:8080/"
        },
        "id": "FjK7V17aBJHa",
        "outputId": "ad3bb3b0-268d-4d9c-f280-7524bf7712da"
      },
      "source": [
        "b = np.array([[1.5, 2, 3], [4, 5, 6]])\n",
        "print(b)"
      ],
      "execution_count": 142,
      "outputs": [
        {
          "output_type": "stream",
          "text": [
            "[[1.5 2.  3. ]\n",
            " [4.  5.  6. ]]\n"
          ],
          "name": "stdout"
        }
      ]
    },
    {
      "cell_type": "markdown",
      "metadata": {
        "id": "bGl0L3mID5W8"
      },
      "source": [
        "#### **Сравним скорость выполнения в случаях массивов типа list и ndarray**"
      ]
    },
    {
      "cell_type": "code",
      "metadata": {
        "colab": {
          "base_uri": "https://localhost:8080/"
        },
        "id": "seMnLKDOD9Ci",
        "outputId": "0b8442d7-ff70-48e0-e242-914539d10d1d"
      },
      "source": [
        "import time \n",
        "   \n",
        "# size of arrays and lists \n",
        "size = 1000000  \n",
        "   \n",
        "# создадим списки типа list\n",
        "list1 = range(size) # range() создает list() с элементами от 0 до size, те до 1000000\n",
        "list2 = range(size) \n",
        "   \n",
        "# создадим массивы типа ndarrays \n",
        "array1 = np.arange(size)   \n",
        "array2 = np.arange(size) \n",
        "\n",
        "print(\"\\n Произведение массивов :\")\n",
        "\n",
        "# Включим счетчик времени перед умножением\n",
        "initialTime = time.time() \n",
        "  \n",
        "# перемножим элементы списков\n",
        "resultantList = [(a * b) for a, b in zip(list1, list2)] \n",
        "   \n",
        "# посчитаем затраченное время\n",
        "print(\"Время затраченное на перемножение списков типа list:\",  \n",
        "      (time.time() - initialTime), \n",
        "      \"секунд\") \n",
        "   \n",
        "# Включим счетчик времени перед умножением\n",
        "initialTime = time.time() \n",
        "  \n",
        "# перемножим элементы массивов \n",
        "resultantArray = array1 * array2 \n",
        "   \n",
        "# посчитаем затраченное время\n",
        "print(\"Время затраченное на перемножение массивов типа ndarray:\", \n",
        "      (time.time() - initialTime), \n",
        "      \"секунд\") "
      ],
      "execution_count": 143,
      "outputs": [
        {
          "output_type": "stream",
          "text": [
            "\n",
            " Произведение массивов :\n",
            "Время затраченное на перемножение списков типа list: 0.17281627655029297 секунд\n",
            "Время затраченное на перемножение массивов типа ndarray: 0.0030465126037597656 секунд\n"
          ],
          "name": "stdout"
        }
      ]
    },
    {
      "cell_type": "markdown",
      "metadata": {
        "id": "zOGGeW3ZJQ3G"
      },
      "source": [
        "Ниже приведен пример со сложением чисел в массивах:"
      ]
    },
    {
      "cell_type": "code",
      "metadata": {
        "colab": {
          "base_uri": "https://localhost:8080/"
        },
        "id": "Rl6EpWhVJIb_",
        "outputId": "7ab8838e-0248-48ab-fa95-689957de1551"
      },
      "source": [
        "print(\"\\n Сложение чисел :\")\n",
        " \n",
        "# list\n",
        "initialTime = time.time()\n",
        "list1 =[i + 2 for i in range(size)]\n",
        " \n",
        "# calculating execution time\n",
        "print(\"Время затраченное у данных типа List :\",\n",
        "      (time.time() - initialTime),\n",
        "      \"секунд\")\n",
        "  \n",
        "# NumPy array\n",
        "initialTime = time.time()\n",
        "array1 = array1 + 2\n",
        " \n",
        "# calculating execution time \n",
        "print(\"Время затраченное у данных типа Numpy array :\", \n",
        "      (time.time() - initialTime), \n",
        "      \"секунд\")"
      ],
      "execution_count": 144,
      "outputs": [
        {
          "output_type": "stream",
          "text": [
            "\n",
            " Сложение чисел :\n",
            "Время затраченное у данных типа List : 0.14892077445983887 секунд\n",
            "Время затраченное у данных типа Numpy array : 0.004618167877197266 секунд\n"
          ],
          "name": "stdout"
        }
      ]
    },
    {
      "cell_type": "markdown",
      "metadata": {
        "id": "S6YHziShGf0Y"
      },
      "source": [
        "Ниже приведен **сравнительный график времени, затраченного на суммирование рандомных list'ов и numpy массивов в зависимости от их размера.**\n",
        "Мы ясно видим, что операция суммирования массивов в numpy практически одинакова как для 100 элементов так и 10 000 000 элементов.\n",
        "<img src=\"https://github.com/ddvika/Data-Science-School-2020/blob/main/lecture_1/imgs/time_comparison.png?raw=true\" width=500 height=350 /> "
      ]
    },
    {
      "cell_type": "markdown",
      "metadata": {
        "id": "n-_POoY8KNz_"
      },
      "source": [
        "**Но... Почему так?**\n",
        "\n",
        "Все дело в том, как хранятся данные в памяти компьютера.\n",
        "- Массивы Numpy хранят один определенный тип данных, а количество элементов указывается заранее. Это необходимо, потому что они хранятся как один непрерывный блок памяти.Зная начальную ячейку памяти массива, мы можем просто добавить индекс, чтобы сразу перейти к любому элементу.\n",
        "\n",
        "- Списки Python так не хранятся. Вам не нужно указывать, сколько элементов вы добавите в свой список, и вам не нужно определять тип данных. Это возможно, потому что **списки Python на самом деле являются массивами указателей.** Указатель - это ссылка на объект в памяти. Когда вы извлекаете элемент в своем списке, python выполняет два шага: во-первых, извлекает указатель. Во-вторых, переходит в ячейку памяти указателя, чтобы наконец получить нужный объект. Этот дополнительный поиск в памяти способствует значительному снижению производительности списков. Таким образом данные разбросаны по всей вашей оперативной памяти и заданы с помощью указателей. Каждый раз, когда нам нужен фрагмент данных, мы должны получить указатель, а затем найти его в памяти.\n",
        "- Библиотека NumPy разбивает задачу на несколько фрагментов, а затем обрабатывает все фрагменты параллельно.\n",
        "- Библиотека NumPy написана не только на Python, но и на C, C ++ и Fortran.\n",
        "\n",
        "Ниже приведен **пример того, как хранятся списки list и ndarray в RAM**\n",
        "<img src=\"https://github.com/ddvika/Data-Science-School-2020/blob/main/lecture_1/imgs/ndarray_vs_list.png?raw=true\" width=700 height=350 /> "
      ]
    },
    {
      "cell_type": "markdown",
      "metadata": {
        "id": "w20I99RPFsJd"
      },
      "source": [
        "#### **Пример математических операций со списками list и массивами типа ndarray:**"
      ]
    },
    {
      "cell_type": "code",
      "metadata": {
        "colab": {
          "base_uri": "https://localhost:8080/"
        },
        "id": "qUZgpLEqCtiQ",
        "outputId": "4e42ae3d-b864-4c44-85ff-e7feb7d83807"
      },
      "source": [
        "# зададим список\n",
        "ls =[1, 2, 3] \n",
        "  \n",
        "try: \n",
        "    # попробуем добавить число 4 к каждому элементу списка\n",
        "    ls = ls + 4\n",
        "      \n",
        "except(TypeError): \n",
        "    print(\"Lists don't support list + int\") "
      ],
      "execution_count": 145,
      "outputs": [
        {
          "output_type": "stream",
          "text": [
            "Lists don't support list + int\n"
          ],
          "name": "stdout"
        }
      ]
    },
    {
      "cell_type": "code",
      "metadata": {
        "colab": {
          "base_uri": "https://localhost:8080/"
        },
        "id": "5W5fRcxVFKdb",
        "outputId": "13a98b7c-19df-4759-d0c3-eb74d923f99a"
      },
      "source": [
        "# зададим список\n",
        "ls =[1, 2, 3] \n",
        "  \n",
        "# конвертируем список в ndarray\n",
        "arr = np.array(ls) \n",
        "\n",
        "try: \n",
        "    # попробуем добавить число 4 к каждому элементу массива\n",
        "    arr = arr + 4\n",
        "  \n",
        "    print(\"Modified Numpy array: \",arr) \n",
        "      \n",
        "except(TypeError): \n",
        "    print(\"Numpy arrays don't support list + int\")"
      ],
      "execution_count": 146,
      "outputs": [
        {
          "output_type": "stream",
          "text": [
            "Modified Numpy array:  [5 6 7]\n"
          ],
          "name": "stdout"
        }
      ]
    },
    {
      "cell_type": "markdown",
      "metadata": {
        "id": "w3uFAIocYqAo"
      },
      "source": [
        "# 2. Циклы for - while\n",
        "\n",
        "**list, string, tuple, dict, set** типы данных, по которым можно итерироваться - т.е. последовательно получать значения элементов этих объектов. Их еще называют iterable data type. Итерироваться можно с помощью циклов **for** или **while**."
      ]
    },
    {
      "cell_type": "code",
      "metadata": {
        "id": "ki3_7XT_YzOc"
      },
      "source": [
        ""
      ],
      "execution_count": 146,
      "outputs": []
    },
    {
      "cell_type": "markdown",
      "metadata": {
        "id": "s-wUq7EDaJts"
      },
      "source": [
        "## 2.1 Цикл while\n",
        "\n",
        "Цикл while в Python повторяется, пока выполняется определенное логическое условие и обладает следующим синтаксисом:\n",
        "\n",
        "```\n",
        "while <условие (булевское выражение)>:\n",
        "    <code>\n",
        "```\n",
        "\n",
        "Посмотрим на примере: Напишем цикл, в котором будем выводить переменную x и увеличивать x на 1, пока x не станет больше 10:"
      ]
    },
    {
      "cell_type": "code",
      "metadata": {
        "colab": {
          "base_uri": "https://localhost:8080/"
        },
        "id": "mTWtsVYSakjp",
        "outputId": "7292bb06-ae7c-4645-9b0b-2be360b2fabe"
      },
      "source": [
        "i = 0\n",
        "while i < 10:\n",
        "    print(i)\n",
        "    i = i + 1"
      ],
      "execution_count": 147,
      "outputs": [
        {
          "output_type": "stream",
          "text": [
            "0\n",
            "1\n",
            "2\n",
            "3\n",
            "4\n",
            "5\n",
            "6\n",
            "7\n",
            "8\n",
            "9\n"
          ],
          "name": "stdout"
        }
      ]
    },
    {
      "cell_type": "markdown",
      "metadata": {
        "id": "53mGFgAqadZ5"
      },
      "source": [
        "Если вы удалите ту часть, в которой мы увеличиваем значение i, то мы получим бесконечный цикл. Как правило – это плохо. Бесконечные циклы известны как логические ошибки, и их нужно избегать. Существует другой способ вырваться из цикла, для этого нужно использовать встроенную функцию break."
      ]
    },
    {
      "cell_type": "code",
      "metadata": {
        "colab": {
          "base_uri": "https://localhost:8080/"
        },
        "id": "eFXDD644au53",
        "outputId": "e8086111-e786-4ec0-f196-5fe1608c6430"
      },
      "source": [
        "i = 0\n",
        "while i < 10:\n",
        "    print(i)\n",
        "    \n",
        "    if i == 5: # условие прерывания цикла\n",
        "        break\n",
        "    \n",
        "    i += 1"
      ],
      "execution_count": 148,
      "outputs": [
        {
          "output_type": "stream",
          "text": [
            "0\n",
            "1\n",
            "2\n",
            "3\n",
            "4\n",
            "5\n"
          ],
          "name": "stdout"
        }
      ]
    },
    {
      "cell_type": "markdown",
      "metadata": {
        "id": "uWuu1AOLbGqR"
      },
      "source": [
        " Другой пример:"
      ]
    },
    {
      "cell_type": "code",
      "metadata": {
        "colab": {
          "base_uri": "https://localhost:8080/"
        },
        "id": "-JU0ZBd7aSKQ",
        "outputId": "dc958535-d390-4d26-de44-e1fa9089d743"
      },
      "source": [
        "i = 0\n",
        " \n",
        "while i < 10:\n",
        "    if i == 3:\n",
        "        i += 1\n",
        "        continue\n",
        "    \n",
        "    print(i)\n",
        "    if i == 5:\n",
        "        break\n",
        "    \n",
        "    i += 1"
      ],
      "execution_count": 149,
      "outputs": [
        {
          "output_type": "stream",
          "text": [
            "0\n",
            "1\n",
            "2\n",
            "4\n",
            "5\n"
          ],
          "name": "stdout"
        }
      ]
    },
    {
      "cell_type": "markdown",
      "metadata": {
        "id": "G6Ulv5TbbFxL"
      },
      "source": [
        "Слегка запутанно, не так ли? Мы добавили второе условное выражение, которое проверяет, не равняется ли i трем. Если да, мы увеличиваем переменную и переходим к следующему циклу, который удачно пропускает вывод значения 3 на экран. Как и ранее, когда мы достигаем значения 5, мы разрываем цикл."
      ]
    },
    {
      "cell_type": "markdown",
      "metadata": {
        "id": "-NtNxLclbYkf"
      },
      "source": [
        " ## 2.2. Цикл for\n",
        "\n",
        "Цикл for в Python итерирует по заданной последовательности и обладает следующим синтаксисом:\n",
        "\n",
        "```\n",
        "for element in iterable_object:\n",
        "    <code>\n",
        "```\n",
        "\n",
        "Рассмотрим на конкретном примере."
      ]
    },
    {
      "cell_type": "code",
      "metadata": {
        "colab": {
          "base_uri": "https://localhost:8080/"
        },
        "id": "W_mHn734cnKV",
        "outputId": "0f78b344-2463-45eb-d4f5-b61c04accfed"
      },
      "source": [
        "# создадим list элементов\n",
        "elems = ['first elem', 'second elem', 'third elem']\n",
        "\n",
        "# итерируемся по элементам списка: каждую итерацию цикла в переменную elem будет\n",
        "# записываться новое значение из elems и оно будет использоваться для print(elem)\n",
        "for elem in elems:\n",
        "    # тело цикла. Здесь с отступом в 4 пробела нужно описать код, который будет выполняться на каждой итерации цикла.\n",
        "    print(elem)\n",
        "\n",
        "# этот код уже будет выполняться ПОСЛЕ цикла, потому что он записан без отступа в 4 пробела после for:\n",
        "print(\"Done\")\n",
        "# del model\n",
        "print(elem)"
      ],
      "execution_count": 150,
      "outputs": [
        {
          "output_type": "stream",
          "text": [
            "first elem\n",
            "second elem\n",
            "third elem\n",
            "Done\n",
            "third elem\n"
          ],
          "name": "stdout"
        }
      ]
    },
    {
      "cell_type": "code",
      "metadata": {
        "colab": {
          "base_uri": "https://localhost:8080/"
        },
        "id": "wWG2BAg8ccPd",
        "outputId": "190d04af-4fcf-49ed-cf2e-3533b2b1fa43"
      },
      "source": [
        "for number in [0, 1, 2, 3, 4]:\n",
        "    print(number)"
      ],
      "execution_count": 151,
      "outputs": [
        {
          "output_type": "stream",
          "text": [
            "0\n",
            "1\n",
            "2\n",
            "3\n",
            "4\n"
          ],
          "name": "stdout"
        }
      ]
    },
    {
      "cell_type": "code",
      "metadata": {
        "colab": {
          "base_uri": "https://localhost:8080/"
        },
        "id": "DWsQDZrKcfhO",
        "outputId": "77cd906a-21d8-41bb-e693-c39cb54dc105"
      },
      "source": [
        "a_dict = {\"one\":1, \"two\":2, \"three\":3}\n",
        " \n",
        "for key in a_dict:\n",
        "    print(key)\n"
      ],
      "execution_count": 152,
      "outputs": [
        {
          "output_type": "stream",
          "text": [
            "one\n",
            "two\n",
            "three\n"
          ],
          "name": "stdout"
        }
      ]
    },
    {
      "cell_type": "markdown",
      "metadata": {
        "id": "fVT1KjkrdJW_"
      },
      "source": [
        "Использование конструкций типа **if-else** в цикле"
      ]
    },
    {
      "cell_type": "code",
      "metadata": {
        "colab": {
          "base_uri": "https://localhost:8080/"
        },
        "id": "JLCObPJqdPLI",
        "outputId": "9e5630b8-a18e-4fd7-cd13-469191123ee4"
      },
      "source": [
        "for number in range(10):\n",
        "    if number % 2 == 0:\n",
        "        print(number, 'is even')\n",
        "    else:\n",
        "        print(number, 'is odd')"
      ],
      "execution_count": 153,
      "outputs": [
        {
          "output_type": "stream",
          "text": [
            "0 is even\n",
            "1 is odd\n",
            "2 is even\n",
            "3 is odd\n",
            "4 is even\n",
            "5 is odd\n",
            "6 is even\n",
            "7 is odd\n",
            "8 is even\n",
            "9 is odd\n"
          ],
          "name": "stdout"
        }
      ]
    },
    {
      "cell_type": "markdown",
      "metadata": {
        "id": "K36Iib30e-K9"
      },
      "source": [
        "### **Функция range**\n",
        "\n",
        "**range(begin, end, step)** принимает 3 аргумента: начало интервала begin, конец интервала end и шаг step, с которым будет двигаться по интервалу, и возвращает iterable объект -- по сути, массив чисел начиная с begin включительно, заканчивая end не включительно, числа в массиве идут с шагом step."
      ]
    },
    {
      "cell_type": "code",
      "metadata": {
        "colab": {
          "base_uri": "https://localhost:8080/"
        },
        "id": "t6aNF-VybPk8",
        "outputId": "9d3e7239-f9ae-4165-93c2-258a9951decc"
      },
      "source": [
        "#  Функция range создаст массив длинной в 10 элементов\n",
        "r = range(1, 100, 10)\n",
        "#приведем возвращаемый iterable к list и выведем на экран:\n",
        "print(list(r))"
      ],
      "execution_count": 154,
      "outputs": [
        {
          "output_type": "stream",
          "text": [
            "[1, 11, 21, 31, 41, 51, 61, 71, 81, 91]\n"
          ],
          "name": "stdout"
        }
      ]
    },
    {
      "cell_type": "markdown",
      "metadata": {
        "id": "l7LzTe82cTX4"
      },
      "source": [
        "Как вы видите, функция range взяла целое число и вернула объект range. Функция range также принимает начальное значение, конечное значение и значение шага."
      ]
    },
    {
      "cell_type": "markdown",
      "metadata": {
        "id": "PZ4AF5nEfloe"
      },
      "source": [
        "Примеры использования функции range() в циклах for:"
      ]
    },
    {
      "cell_type": "code",
      "metadata": {
        "colab": {
          "base_uri": "https://localhost:8080/"
        },
        "id": "BvyvZm2NfjwP",
        "outputId": "eb6f21ed-a382-4e9f-c536-05aace84194e"
      },
      "source": [
        "for i in range(1, 10, 1):\n",
        "  print(i)\n",
        "# for(int i = 1; i < 10; i += 1){cout << i;}"
      ],
      "execution_count": 155,
      "outputs": [
        {
          "output_type": "stream",
          "text": [
            "1\n",
            "2\n",
            "3\n",
            "4\n",
            "5\n",
            "6\n",
            "7\n",
            "8\n",
            "9\n"
          ],
          "name": "stdout"
        }
      ]
    },
    {
      "cell_type": "code",
      "metadata": {
        "colab": {
          "base_uri": "https://localhost:8080/"
        },
        "id": "M-HhAxeSbJqD",
        "outputId": "3efb1011-c081-4f79-c073-1c2a8e7fc8d9"
      },
      "source": [
        "for number in range(5):\n",
        "    print(number)"
      ],
      "execution_count": 156,
      "outputs": [
        {
          "output_type": "stream",
          "text": [
            "0\n",
            "1\n",
            "2\n",
            "3\n",
            "4\n"
          ],
          "name": "stdout"
        }
      ]
    },
    {
      "cell_type": "markdown",
      "metadata": {
        "id": "4HV6waMegaEH"
      },
      "source": [
        "Перепишем следующую функцию при помощи **range**:"
      ]
    },
    {
      "cell_type": "code",
      "metadata": {
        "colab": {
          "base_uri": "https://localhost:8080/"
        },
        "id": "scVzz3higakt",
        "outputId": "f8f0134e-f0f9-49dd-a63e-6516db7fff70"
      },
      "source": [
        "elems = ['first elem', 'second elem', 'third elem']\n",
        "for elem in elems:\n",
        "    print(elem)"
      ],
      "execution_count": 157,
      "outputs": [
        {
          "output_type": "stream",
          "text": [
            "first elem\n",
            "second elem\n",
            "third elem\n"
          ],
          "name": "stdout"
        }
      ]
    },
    {
      "cell_type": "code",
      "metadata": {
        "colab": {
          "base_uri": "https://localhost:8080/"
        },
        "id": "-QWm8Ywhggbd",
        "outputId": "d4eb8f8d-96ce-45f4-bf5f-a18b33d1afcb"
      },
      "source": [
        "for i in range(len(elems)):\n",
        "    print(elems[i])"
      ],
      "execution_count": 158,
      "outputs": [
        {
          "output_type": "stream",
          "text": [
            "first elem\n",
            "second elem\n",
            "third elem\n"
          ],
          "name": "stdout"
        }
      ]
    },
    {
      "cell_type": "markdown",
      "metadata": {
        "id": "MEQ79YcGd1s_"
      },
      "source": [
        "### **Операторы в цикле for**"
      ]
    },
    {
      "cell_type": "markdown",
      "metadata": {
        "id": "fo7CPvtzd73V"
      },
      "source": [
        "Оператор **break** досрочно прерывает цикл."
      ]
    },
    {
      "cell_type": "code",
      "metadata": {
        "colab": {
          "base_uri": "https://localhost:8080/"
        },
        "id": "WPNd7F-gchd5",
        "outputId": "5f55e2cf-1125-4fc5-f304-87caa03ca65a"
      },
      "source": [
        "for i in 'hello world':\n",
        "    if i == 'o':\n",
        "        break\n",
        "    print(i * 2, end='')"
      ],
      "execution_count": 159,
      "outputs": [
        {
          "output_type": "stream",
          "text": [
            "hheellll"
          ],
          "name": "stdout"
        }
      ]
    },
    {
      "cell_type": "markdown",
      "metadata": {
        "id": "RCRUEOfZeDzE"
      },
      "source": [
        "Оператор **continue** начинает следующий проход цикла, минуя оставшееся тело цикла (for или while)"
      ]
    },
    {
      "cell_type": "code",
      "metadata": {
        "colab": {
          "base_uri": "https://localhost:8080/"
        },
        "id": "o0kZ_wO8d_KM",
        "outputId": "533e527f-e860-4630-f34d-127fcf46b0b7"
      },
      "source": [
        "for i in 'hello world':\n",
        "    if i == 'o':\n",
        "        continue\n",
        "    print(i * 2, end='')"
      ],
      "execution_count": 160,
      "outputs": [
        {
          "output_type": "stream",
          "text": [
            "hheellll  wwrrlldd"
          ],
          "name": "stdout"
        }
      ]
    },
    {
      "cell_type": "markdown",
      "metadata": {
        "id": "pQC1DniLelUF"
      },
      "source": [
        "Оператор **pass** - это оператор-заглушка, равноценный отсутствию операции"
      ]
    },
    {
      "cell_type": "code",
      "metadata": {
        "id": "tVPJOl7QeHus"
      },
      "source": [
        "for i in 'hello world':\n",
        "  pass"
      ],
      "execution_count": 161,
      "outputs": []
    },
    {
      "cell_type": "markdown",
      "metadata": {
        "id": "ZYFakmuthqnX"
      },
      "source": [
        "# 3. Подробнее о создании списков в Python"
      ]
    },
    {
      "cell_type": "markdown",
      "metadata": {
        "id": "GXHfcDEEj3C1"
      },
      "source": [
        "## 3.1. Использование цикла for"
      ]
    },
    {
      "cell_type": "code",
      "metadata": {
        "colab": {
          "base_uri": "https://localhost:8080/"
        },
        "id": "qBI3QMK7j6vZ",
        "outputId": "231e06e1-07b3-4126-c123-210f43e29562"
      },
      "source": [
        "squares = []\n",
        "for i in range(10):\n",
        "    squares.append(i * i)\n",
        "squares"
      ],
      "execution_count": 162,
      "outputs": [
        {
          "output_type": "execute_result",
          "data": {
            "text/plain": [
              "[0, 1, 4, 9, 16, 25, 36, 49, 64, 81]"
            ]
          },
          "metadata": {
            "tags": []
          },
          "execution_count": 162
        }
      ]
    },
    {
      "cell_type": "markdown",
      "metadata": {
        "id": "GYKdDbjGkGFi"
      },
      "source": [
        "## 3.2. использование объектов map"
      ]
    },
    {
      "cell_type": "markdown",
      "metadata": {
        "id": "xZuSUWKgjyMn"
      },
      "source": [
        "**map()** применяет указанную функцию к каждому элементу указанной последовательности/последовательностей. Функция, которую следует применить к элементам последовательности или последовательностей, должна принимать количество элементов равное количеству последовательностей."
      ]
    },
    {
      "cell_type": "code",
      "metadata": {
        "colab": {
          "base_uri": "https://localhost:8080/"
        },
        "id": "gfT8r3G0keZi",
        "outputId": "ced3f2ba-8ad6-4c65-822b-e7adc31369a4"
      },
      "source": [
        "list1 = [1, 2, 3, 4]\n",
        "list2 = [4, 3, 2, 1]\n",
        "\n",
        "def a_na_b(a, b):\n",
        "    return a * b\n",
        "\n",
        "list(map(a_na_b, list1, list2))"
      ],
      "execution_count": 163,
      "outputs": [
        {
          "output_type": "execute_result",
          "data": {
            "text/plain": [
              "[4, 6, 6, 4]"
            ]
          },
          "metadata": {
            "tags": []
          },
          "execution_count": 163
        }
      ]
    },
    {
      "cell_type": "markdown",
      "metadata": {
        "id": "Ro9OEcuziB94"
      },
      "source": [
        "## 3.3. List comprehensions\n",
        "Списковое включение — это встроенный в Python механизм генерации списков. У него только одна задача — это построить список."
      ]
    },
    {
      "cell_type": "code",
      "metadata": {
        "colab": {
          "base_uri": "https://localhost:8080/"
        },
        "id": "I32KdeBXh1d6",
        "outputId": "85c6e3a2-8aec-478b-8b0f-4c468d05fe2d"
      },
      "source": [
        "%%timeit\n",
        "a = []\n",
        "n = 1000000 #try for smaller\n",
        "for i in range(n):\n",
        "    a.append(1)"
      ],
      "execution_count": 164,
      "outputs": [
        {
          "output_type": "stream",
          "text": [
            "10 loops, best of 3: 81.2 ms per loop\n"
          ],
          "name": "stdout"
        }
      ]
    },
    {
      "cell_type": "code",
      "metadata": {
        "colab": {
          "base_uri": "https://localhost:8080/",
          "height": 375
        },
        "id": "s_n1zgpQeb0y",
        "outputId": "7304f853-c8a9-43b4-9cad-002c0551d73d"
      },
      "source": [
        "%timeit [1 for i in range(n)]"
      ],
      "execution_count": 165,
      "outputs": [
        {
          "output_type": "error",
          "ename": "NameError",
          "evalue": "ignored",
          "traceback": [
            "\u001b[0;31m---------------------------------------------------------------------------\u001b[0m",
            "\u001b[0;31mNameError\u001b[0m                                 Traceback (most recent call last)",
            "\u001b[0;32m<ipython-input-165-8c3fa5878156>\u001b[0m in \u001b[0;36m<module>\u001b[0;34m()\u001b[0m\n\u001b[0;32m----> 1\u001b[0;31m \u001b[0mget_ipython\u001b[0m\u001b[0;34m(\u001b[0m\u001b[0;34m)\u001b[0m\u001b[0;34m.\u001b[0m\u001b[0mmagic\u001b[0m\u001b[0;34m(\u001b[0m\u001b[0;34m'timeit [1 for i in range(n)]'\u001b[0m\u001b[0;34m)\u001b[0m\u001b[0;34m\u001b[0m\u001b[0;34m\u001b[0m\u001b[0m\n\u001b[0m",
            "\u001b[0;32m/usr/local/lib/python3.6/dist-packages/IPython/core/interactiveshell.py\u001b[0m in \u001b[0;36mmagic\u001b[0;34m(self, arg_s)\u001b[0m\n\u001b[1;32m   2158\u001b[0m         \u001b[0mmagic_name\u001b[0m\u001b[0;34m,\u001b[0m \u001b[0m_\u001b[0m\u001b[0;34m,\u001b[0m \u001b[0mmagic_arg_s\u001b[0m \u001b[0;34m=\u001b[0m \u001b[0marg_s\u001b[0m\u001b[0;34m.\u001b[0m\u001b[0mpartition\u001b[0m\u001b[0;34m(\u001b[0m\u001b[0;34m' '\u001b[0m\u001b[0;34m)\u001b[0m\u001b[0;34m\u001b[0m\u001b[0;34m\u001b[0m\u001b[0m\n\u001b[1;32m   2159\u001b[0m         \u001b[0mmagic_name\u001b[0m \u001b[0;34m=\u001b[0m \u001b[0mmagic_name\u001b[0m\u001b[0;34m.\u001b[0m\u001b[0mlstrip\u001b[0m\u001b[0;34m(\u001b[0m\u001b[0mprefilter\u001b[0m\u001b[0;34m.\u001b[0m\u001b[0mESC_MAGIC\u001b[0m\u001b[0;34m)\u001b[0m\u001b[0;34m\u001b[0m\u001b[0;34m\u001b[0m\u001b[0m\n\u001b[0;32m-> 2160\u001b[0;31m         \u001b[0;32mreturn\u001b[0m \u001b[0mself\u001b[0m\u001b[0;34m.\u001b[0m\u001b[0mrun_line_magic\u001b[0m\u001b[0;34m(\u001b[0m\u001b[0mmagic_name\u001b[0m\u001b[0;34m,\u001b[0m \u001b[0mmagic_arg_s\u001b[0m\u001b[0;34m)\u001b[0m\u001b[0;34m\u001b[0m\u001b[0;34m\u001b[0m\u001b[0m\n\u001b[0m\u001b[1;32m   2161\u001b[0m \u001b[0;34m\u001b[0m\u001b[0m\n\u001b[1;32m   2162\u001b[0m     \u001b[0;31m#-------------------------------------------------------------------------\u001b[0m\u001b[0;34m\u001b[0m\u001b[0;34m\u001b[0m\u001b[0;34m\u001b[0m\u001b[0m\n",
            "\u001b[0;32m/usr/local/lib/python3.6/dist-packages/IPython/core/interactiveshell.py\u001b[0m in \u001b[0;36mrun_line_magic\u001b[0;34m(self, magic_name, line)\u001b[0m\n\u001b[1;32m   2079\u001b[0m                 \u001b[0mkwargs\u001b[0m\u001b[0;34m[\u001b[0m\u001b[0;34m'local_ns'\u001b[0m\u001b[0;34m]\u001b[0m \u001b[0;34m=\u001b[0m \u001b[0msys\u001b[0m\u001b[0;34m.\u001b[0m\u001b[0m_getframe\u001b[0m\u001b[0;34m(\u001b[0m\u001b[0mstack_depth\u001b[0m\u001b[0;34m)\u001b[0m\u001b[0;34m.\u001b[0m\u001b[0mf_locals\u001b[0m\u001b[0;34m\u001b[0m\u001b[0;34m\u001b[0m\u001b[0m\n\u001b[1;32m   2080\u001b[0m             \u001b[0;32mwith\u001b[0m \u001b[0mself\u001b[0m\u001b[0;34m.\u001b[0m\u001b[0mbuiltin_trap\u001b[0m\u001b[0;34m:\u001b[0m\u001b[0;34m\u001b[0m\u001b[0;34m\u001b[0m\u001b[0m\n\u001b[0;32m-> 2081\u001b[0;31m                 \u001b[0mresult\u001b[0m \u001b[0;34m=\u001b[0m \u001b[0mfn\u001b[0m\u001b[0;34m(\u001b[0m\u001b[0;34m*\u001b[0m\u001b[0margs\u001b[0m\u001b[0;34m,\u001b[0m\u001b[0;34m**\u001b[0m\u001b[0mkwargs\u001b[0m\u001b[0;34m)\u001b[0m\u001b[0;34m\u001b[0m\u001b[0;34m\u001b[0m\u001b[0m\n\u001b[0m\u001b[1;32m   2082\u001b[0m             \u001b[0;32mreturn\u001b[0m \u001b[0mresult\u001b[0m\u001b[0;34m\u001b[0m\u001b[0;34m\u001b[0m\u001b[0m\n\u001b[1;32m   2083\u001b[0m \u001b[0;34m\u001b[0m\u001b[0m\n",
            "\u001b[0;32m<decorator-gen-59>\u001b[0m in \u001b[0;36mtimeit\u001b[0;34m(self, line, cell)\u001b[0m\n",
            "\u001b[0;32m/usr/local/lib/python3.6/dist-packages/IPython/core/magic.py\u001b[0m in \u001b[0;36m<lambda>\u001b[0;34m(f, *a, **k)\u001b[0m\n\u001b[1;32m    186\u001b[0m     \u001b[0;31m# but it's overkill for just that one bit of state.\u001b[0m\u001b[0;34m\u001b[0m\u001b[0;34m\u001b[0m\u001b[0;34m\u001b[0m\u001b[0m\n\u001b[1;32m    187\u001b[0m     \u001b[0;32mdef\u001b[0m \u001b[0mmagic_deco\u001b[0m\u001b[0;34m(\u001b[0m\u001b[0marg\u001b[0m\u001b[0;34m)\u001b[0m\u001b[0;34m:\u001b[0m\u001b[0;34m\u001b[0m\u001b[0;34m\u001b[0m\u001b[0m\n\u001b[0;32m--> 188\u001b[0;31m         \u001b[0mcall\u001b[0m \u001b[0;34m=\u001b[0m \u001b[0;32mlambda\u001b[0m \u001b[0mf\u001b[0m\u001b[0;34m,\u001b[0m \u001b[0;34m*\u001b[0m\u001b[0ma\u001b[0m\u001b[0;34m,\u001b[0m \u001b[0;34m**\u001b[0m\u001b[0mk\u001b[0m\u001b[0;34m:\u001b[0m \u001b[0mf\u001b[0m\u001b[0;34m(\u001b[0m\u001b[0;34m*\u001b[0m\u001b[0ma\u001b[0m\u001b[0;34m,\u001b[0m \u001b[0;34m**\u001b[0m\u001b[0mk\u001b[0m\u001b[0;34m)\u001b[0m\u001b[0;34m\u001b[0m\u001b[0;34m\u001b[0m\u001b[0m\n\u001b[0m\u001b[1;32m    189\u001b[0m \u001b[0;34m\u001b[0m\u001b[0m\n\u001b[1;32m    190\u001b[0m         \u001b[0;32mif\u001b[0m \u001b[0mcallable\u001b[0m\u001b[0;34m(\u001b[0m\u001b[0marg\u001b[0m\u001b[0;34m)\u001b[0m\u001b[0;34m:\u001b[0m\u001b[0;34m\u001b[0m\u001b[0;34m\u001b[0m\u001b[0m\n",
            "\u001b[0;32m/usr/local/lib/python3.6/dist-packages/IPython/core/magics/execution.py\u001b[0m in \u001b[0;36mtimeit\u001b[0;34m(self, line, cell)\u001b[0m\n\u001b[1;32m   1055\u001b[0m             \u001b[0mnumber\u001b[0m \u001b[0;34m=\u001b[0m \u001b[0;36m1\u001b[0m\u001b[0;34m\u001b[0m\u001b[0;34m\u001b[0m\u001b[0m\n\u001b[1;32m   1056\u001b[0m             \u001b[0;32mfor\u001b[0m \u001b[0m_\u001b[0m \u001b[0;32min\u001b[0m \u001b[0mrange\u001b[0m\u001b[0;34m(\u001b[0m\u001b[0;36m1\u001b[0m\u001b[0;34m,\u001b[0m \u001b[0;36m10\u001b[0m\u001b[0;34m)\u001b[0m\u001b[0;34m:\u001b[0m\u001b[0;34m\u001b[0m\u001b[0;34m\u001b[0m\u001b[0m\n\u001b[0;32m-> 1057\u001b[0;31m                 \u001b[0mtime_number\u001b[0m \u001b[0;34m=\u001b[0m \u001b[0mtimer\u001b[0m\u001b[0;34m.\u001b[0m\u001b[0mtimeit\u001b[0m\u001b[0;34m(\u001b[0m\u001b[0mnumber\u001b[0m\u001b[0;34m)\u001b[0m\u001b[0;34m\u001b[0m\u001b[0;34m\u001b[0m\u001b[0m\n\u001b[0m\u001b[1;32m   1058\u001b[0m                 \u001b[0mworst_tuning\u001b[0m \u001b[0;34m=\u001b[0m \u001b[0mmax\u001b[0m\u001b[0;34m(\u001b[0m\u001b[0mworst_tuning\u001b[0m\u001b[0;34m,\u001b[0m \u001b[0mtime_number\u001b[0m \u001b[0;34m/\u001b[0m \u001b[0mnumber\u001b[0m\u001b[0;34m)\u001b[0m\u001b[0;34m\u001b[0m\u001b[0;34m\u001b[0m\u001b[0m\n\u001b[1;32m   1059\u001b[0m                 \u001b[0;32mif\u001b[0m \u001b[0mtime_number\u001b[0m \u001b[0;34m>=\u001b[0m \u001b[0;36m0.2\u001b[0m\u001b[0;34m:\u001b[0m\u001b[0;34m\u001b[0m\u001b[0;34m\u001b[0m\u001b[0m\n",
            "\u001b[0;32m/usr/local/lib/python3.6/dist-packages/IPython/core/magics/execution.py\u001b[0m in \u001b[0;36mtimeit\u001b[0;34m(self, number)\u001b[0m\n\u001b[1;32m    137\u001b[0m         \u001b[0mgc\u001b[0m\u001b[0;34m.\u001b[0m\u001b[0mdisable\u001b[0m\u001b[0;34m(\u001b[0m\u001b[0;34m)\u001b[0m\u001b[0;34m\u001b[0m\u001b[0;34m\u001b[0m\u001b[0m\n\u001b[1;32m    138\u001b[0m         \u001b[0;32mtry\u001b[0m\u001b[0;34m:\u001b[0m\u001b[0;34m\u001b[0m\u001b[0;34m\u001b[0m\u001b[0m\n\u001b[0;32m--> 139\u001b[0;31m             \u001b[0mtiming\u001b[0m \u001b[0;34m=\u001b[0m \u001b[0mself\u001b[0m\u001b[0;34m.\u001b[0m\u001b[0minner\u001b[0m\u001b[0;34m(\u001b[0m\u001b[0mit\u001b[0m\u001b[0;34m,\u001b[0m \u001b[0mself\u001b[0m\u001b[0;34m.\u001b[0m\u001b[0mtimer\u001b[0m\u001b[0;34m)\u001b[0m\u001b[0;34m\u001b[0m\u001b[0;34m\u001b[0m\u001b[0m\n\u001b[0m\u001b[1;32m    140\u001b[0m         \u001b[0;32mfinally\u001b[0m\u001b[0;34m:\u001b[0m\u001b[0;34m\u001b[0m\u001b[0;34m\u001b[0m\u001b[0m\n\u001b[1;32m    141\u001b[0m             \u001b[0;32mif\u001b[0m \u001b[0mgcold\u001b[0m\u001b[0;34m:\u001b[0m\u001b[0;34m\u001b[0m\u001b[0;34m\u001b[0m\u001b[0m\n",
            "\u001b[0;32m<magic-timeit>\u001b[0m in \u001b[0;36minner\u001b[0;34m(_it, _timer)\u001b[0m\n",
            "\u001b[0;31mNameError\u001b[0m: name 'n' is not defined"
          ]
        }
      ]
    },
    {
      "cell_type": "code",
      "metadata": {
        "id": "I5QPWcpAh40b"
      },
      "source": [
        "%timeit np.ones(n) # инициализатор единичного массива из библиотеки Numpy"
      ],
      "execution_count": null,
      "outputs": []
    },
    {
      "cell_type": "markdown",
      "metadata": {
        "id": "olUyEa-Zk7_m"
      },
      "source": [
        "Также стоит здесь упомянуть о существовании также **dict comprehensions**. Например создадим словарь, где каждому целому числу от 0 до 6 поставим в соответствие квадрат этого числа:"
      ]
    },
    {
      "cell_type": "code",
      "metadata": {
        "id": "TXNtX9D0h-If"
      },
      "source": [
        "d = {a: a ** 2 for a in range(7)}\n",
        "d"
      ],
      "execution_count": null,
      "outputs": []
    },
    {
      "cell_type": "markdown",
      "metadata": {
        "id": "r0IO1GW6o6uE"
      },
      "source": [
        "## Что же выбрать?\n",
        "\n",
        "Ниже представлено правило выбора нужного способа:\n",
        "\n",
        "<img src=\"https://github.com/ddvika/Data-Science-School-2020/blob/main/lecture_1/imgs/map_vs_list.jpg?raw=true\" width=700 height=390 /> \n",
        "\n",
        "Если Вам нужно вычислить сразу все значения и вычисления можно сделать без использования функций, то выбор Вам стоит сделать в сторону List Comprehension. Как показали результаты экспериментов — он имеет существенное преимущество в производительности."
      ]
    },
    {
      "cell_type": "markdown",
      "metadata": {
        "id": "_KirNiw7lNYo"
      },
      "source": [
        "# 4. Функции в Python"
      ]
    },
    {
      "cell_type": "markdown",
      "metadata": {
        "id": "E30OcgHT7Gy0"
      },
      "source": [
        "Функции в python - объект, который принимает аргументы, производит обработку данных, возвращает значение. Функция может принимать произвольное количество аргументов.\n",
        "\n",
        "Функция определяется:\n",
        "\n",
        "```\n",
        "def <Название функции>(параметр1, параметр2, ...):\n",
        "    --код--\n",
        "    return параметр1 + параметр2\n",
        "```\n",
        "\n",
        "Можно определить и необязательные элементы:\n",
        "```\n",
        "# param3 - необязательный аргумент, значение по умолчанию - 2\n",
        "def funсtion(param1, param2, param3 = 2):\n",
        "    return param1+param2+param3\n",
        "```\n"
      ]
    },
    {
      "cell_type": "code",
      "metadata": {
        "id": "VRtQsZke7Lrt"
      },
      "source": [
        "def a_plus_b(a, b = 1):\n",
        "    return a + b, b"
      ],
      "execution_count": 166,
      "outputs": []
    },
    {
      "cell_type": "code",
      "metadata": {
        "colab": {
          "base_uri": "https://localhost:8080/"
        },
        "id": "dNptWm-q7Vd9",
        "outputId": "2051c18e-492f-404c-eb0f-d8f27c4445d8"
      },
      "source": [
        "a_plus_b(a_plus_b(1, b=2)[0])"
      ],
      "execution_count": 167,
      "outputs": [
        {
          "output_type": "execute_result",
          "data": {
            "text/plain": [
              "(4, 1)"
            ]
          },
          "metadata": {
            "tags": []
          },
          "execution_count": 167
        }
      ]
    },
    {
      "cell_type": "markdown",
      "metadata": {
        "id": "jWr6kvK17Ols"
      },
      "source": [
        "Можно принять переменное количество позиционных аргументов, тогда перед именем ставим *"
      ]
    },
    {
      "cell_type": "code",
      "metadata": {
        "id": "35KAyw2Q7NQ5"
      },
      "source": [
        "def tail(a, *args):\n",
        "    return args"
      ],
      "execution_count": 168,
      "outputs": []
    },
    {
      "cell_type": "code",
      "metadata": {
        "colab": {
          "base_uri": "https://localhost:8080/"
        },
        "id": "DhPs8Eg07TfI",
        "outputId": "39bed378-b0e7-438e-c8f6-9ab3f05195c2"
      },
      "source": [
        "# возвращает кортеж\n",
        "tail(1, [2], 'три')"
      ],
      "execution_count": 169,
      "outputs": [
        {
          "output_type": "execute_result",
          "data": {
            "text/plain": [
              "([2], 'три')"
            ]
          },
          "metadata": {
            "tags": []
          },
          "execution_count": 169
        }
      ]
    },
    {
      "cell_type": "markdown",
      "metadata": {
        "id": "2ts9kT-a7fH2"
      },
      "source": [
        "По аналогии можно принять переменное количество именованных аргументов, тогда перед именем ставим **"
      ]
    },
    {
      "cell_type": "code",
      "metadata": {
        "colab": {
          "base_uri": "https://localhost:8080/"
        },
        "id": "XETAUIh_7hV3",
        "outputId": "f97bb986-15ea-4c0f-8974-68971f34cd38"
      },
      "source": [
        "def not_random_args_random_amm(**kwargs):\n",
        "    return kwargs\n",
        "\n",
        "# возвращает словарь\n",
        "not_random_args_random_amm(hello='world')"
      ],
      "execution_count": 170,
      "outputs": [
        {
          "output_type": "execute_result",
          "data": {
            "text/plain": [
              "{'hello': 'world'}"
            ]
          },
          "metadata": {
            "tags": []
          },
          "execution_count": 170
        }
      ]
    },
    {
      "cell_type": "markdown",
      "metadata": {
        "id": "lMElLnI57k7x"
      },
      "source": [
        "## Локальная и глобальная области видимости"
      ]
    },
    {
      "cell_type": "markdown",
      "metadata": {
        "id": "1Z1GuGQg7uJb"
      },
      "source": [
        "Когда мы создаем переменную в блоке кода, она будет разрешена при помощи ближайшей области видимости, или областей. Группирование всех этих областей известно как среда блоков кода."
      ]
    },
    {
      "cell_type": "code",
      "metadata": {
        "colab": {
          "base_uri": "https://localhost:8080/"
        },
        "id": "-d_Lt1Zh7yHO",
        "outputId": "6c0c62f1-f874-41c1-dd61-04e78a71d0d7"
      },
      "source": [
        "# глобальная переменная a\n",
        "a = 0\n",
        "\n",
        "def some_func(b):\n",
        "    # логальная переменная а\n",
        "    b = 1\n",
        "    return b\n",
        "\n",
        "a = some_func(a)\n",
        "a"
      ],
      "execution_count": 171,
      "outputs": [
        {
          "output_type": "execute_result",
          "data": {
            "text/plain": [
              "1"
            ]
          },
          "metadata": {
            "tags": []
          },
          "execution_count": 171
        }
      ]
    },
    {
      "cell_type": "markdown",
      "metadata": {
        "id": "FVYbqVsO7-3V"
      },
      "source": [
        "Python содержит оператор global, он объявляет переменную доступной для блока кода, следующим за оператором."
      ]
    },
    {
      "cell_type": "code",
      "metadata": {
        "colab": {
          "base_uri": "https://localhost:8080/"
        },
        "id": "VcyyXHPX7_5r",
        "outputId": "6cf49bb0-1620-42cf-f684-5844901e3fc2"
      },
      "source": [
        "# глобальная переменная a\n",
        "a = 0\n",
        "\n",
        "def some_func(x):\n",
        "    # даем функции \"увидеть\" глобальную а\n",
        "    global a\n",
        "    a = 1\n",
        "\n",
        "some_func(a)\n",
        "a"
      ],
      "execution_count": 172,
      "outputs": [
        {
          "output_type": "execute_result",
          "data": {
            "text/plain": [
              "1"
            ]
          },
          "metadata": {
            "tags": []
          },
          "execution_count": 172
        }
      ]
    },
    {
      "cell_type": "code",
      "metadata": {
        "colab": {
          "base_uri": "https://localhost:8080/"
        },
        "id": "WuH-V9Eh8B3r",
        "outputId": "1d1bef73-338a-4662-bcf5-e0415733e9c2"
      },
      "source": [
        "def some_func():\n",
        "    a = 5\n",
        "    def increase_a(): \n",
        "        nonlocal a\n",
        "        a += 1\n",
        "        return a\n",
        "    return increase_a\n",
        "\n",
        "some_func()()"
      ],
      "execution_count": 173,
      "outputs": [
        {
          "output_type": "execute_result",
          "data": {
            "text/plain": [
              "6"
            ]
          },
          "metadata": {
            "tags": []
          },
          "execution_count": 173
        }
      ]
    },
    {
      "cell_type": "markdown",
      "metadata": {
        "id": "eYmYPv1b8NE0"
      },
      "source": [
        "## Анонимные функции, lambda"
      ]
    },
    {
      "cell_type": "markdown",
      "metadata": {
        "id": "VE417dgt8SOI"
      },
      "source": [
        "Анонимные функции могут содержать лишь одно выражение, но выполняются они быстрее. Обозначается lambda, ее не обязательно присваивать переменной (как с def)."
      ]
    },
    {
      "cell_type": "code",
      "metadata": {
        "colab": {
          "base_uri": "https://localhost:8080/"
        },
        "id": "6c4MUYpF8V1G",
        "outputId": "8fdbeb01-c3ec-4dec-c468-6c1a91543c91"
      },
      "source": [
        "# возводим а в степень b\n",
        "func = lambda a, b: a**b\n",
        "func(2, 3)"
      ],
      "execution_count": 174,
      "outputs": [
        {
          "output_type": "execute_result",
          "data": {
            "text/plain": [
              "8"
            ]
          },
          "metadata": {
            "tags": []
          },
          "execution_count": 174
        }
      ]
    },
    {
      "cell_type": "code",
      "metadata": {
        "colab": {
          "base_uri": "https://localhost:8080/"
        },
        "id": "vw4B0pkq8Xub",
        "outputId": "126db132-68a9-440f-89c4-e10aaec4dc9c"
      },
      "source": [
        "func = lambda *args: args[0]*args[1]\n",
        "func(2, 3, 4)"
      ],
      "execution_count": 175,
      "outputs": [
        {
          "output_type": "execute_result",
          "data": {
            "text/plain": [
              "6"
            ]
          },
          "metadata": {
            "tags": []
          },
          "execution_count": 175
        }
      ]
    },
    {
      "cell_type": "markdown",
      "metadata": {
        "id": "zmvNCdwPlcNY"
      },
      "source": [
        "# 5. Постулаты ООП"
      ]
    },
    {
      "cell_type": "markdown",
      "metadata": {
        "id": "ZpOIdGwL9U59"
      },
      "source": [
        "## Объектно-ориентированное программирование (ООП)\n",
        "\n",
        "ООП - парадигма программирования, основанная на концепциях объектов и классов.\n",
        "\n",
        "*   Класс — тип, описывающий устройство объектов. \n",
        "*   Объект — экземпляр класса. Класс - основа, на которой определяются объекты.\n",
        "\n",
        "В python всё является объектами (строки, списки, ...)\n",
        "\n",
        "Но возможности ООП в python этим не ограничены. Мы можем написать свой тип данных (класс), определить в нём свои методы.\n",
        "\n",
        "Это не является обязательным - мы можем пользоваться только встроенными объектами. Однако ООП полезно при долгосрочной разработке программы несколькими людьми, оно сильно упрощает понимание кода.\n",
        "\n",
        "\n",
        "Стандартная конструкция \n",
        "\n",
        "\n",
        "```\n",
        "class [название класса]() \n",
        "```\n",
        "\n",
        "\n",
        "---\n",
        "\n",
        "Зачем нам self?\n",
        "Классам нужен способ, что ссылаться на самих себя т.е. способ сообщения между экземплярами. Слово self это способ описания любого объектаю."
      ]
    },
    {
      "cell_type": "code",
      "metadata": {
        "id": "Jxmk7zKX9dag"
      },
      "source": [
        "class Sber():\n",
        "    # конструктор класса\n",
        "    # после того, как класс инициализирован - в него можно принимать агрументы\n",
        "    # конструкция __init__ автоматически запустится, в hello запишется 'привет'\n",
        "    def __init__(self, hey):\n",
        "        self.hello = hey\n",
        "\n",
        "    # определим функцию класса - распечатаем внутренний параметр hello\n",
        "    def print_hello(self):\n",
        "        print(self.hello) "
      ],
      "execution_count": 176,
      "outputs": []
    },
    {
      "cell_type": "code",
      "metadata": {
        "colab": {
          "base_uri": "https://localhost:8080/"
        },
        "id": "g-OSo9Df9hGE",
        "outputId": "327604dd-1fe8-482f-8960-cb5f06ffefec"
      },
      "source": [
        "# Определим объект класса и передадим в него аргументы\n",
        "class_obj = Sber('привет')\n",
        "# вызовем функцию класса\n",
        "class_obj.print_hello()"
      ],
      "execution_count": 177,
      "outputs": [
        {
          "output_type": "stream",
          "text": [
            "привет\n"
          ],
          "name": "stdout"
        }
      ]
    },
    {
      "cell_type": "markdown",
      "metadata": {
        "id": "nL-hEO_68dJp"
      },
      "source": [
        "## 5.1. Инкапсуляция\n",
        "\n",
        "Инкапсуляция – скрытие реализации каких либо частей модуля или объекта от внешнего мира (от клиента). Это означает, что манипулируя модификаторами доступа, можно скрыть или открыть только определенные свойства, методы или классы для того, чтобы ненужные для класса-клиента данные не были доступны.\n",
        "\n",
        "Инкапсуляция в Python работает лишь на уровне соглашения между программистами о том, какие атрибуты являются общедоступными, а какие — внутренними.\n",
        "\n",
        "Одиночное подчеркивание в начале имени атрибута говорит о том, что переменная или метод не предназначен для использования вне методов класса, однако атрибут доступен по этому имени."
      ]
    },
    {
      "cell_type": "code",
      "metadata": {
        "colab": {
          "base_uri": "https://localhost:8080/",
          "height": 37
        },
        "id": "MUMGGCIx8j-e",
        "outputId": "33810e9d-d3fe-47b1-8e47-ae5f457f4789"
      },
      "source": [
        "class Test:\n",
        "    name = \"test case\" \n",
        "    def __init__(self, seed=42):\n",
        "        self._seed = seed\n",
        "\n",
        "    def _secret(self):\n",
        "        return Test.name + ' ' + str(self._seed)\n",
        "        \n",
        "    def __str__(self):\n",
        "        return self._secret()\n",
        "\n",
        "obj = Test()\n",
        "str(obj)"
      ],
      "execution_count": 178,
      "outputs": [
        {
          "output_type": "execute_result",
          "data": {
            "application/vnd.google.colaboratory.intrinsic+json": {
              "type": "string"
            },
            "text/plain": [
              "'test case 42'"
            ]
          },
          "metadata": {
            "tags": []
          },
          "execution_count": 178
        }
      ]
    },
    {
      "cell_type": "markdown",
      "metadata": {
        "id": "iNsAHj5R8qRR"
      },
      "source": [
        "Двойное подчеркивание в начале имени атрибута даёт большую защиту: атрибут становится недоступным по этому имени."
      ]
    },
    {
      "cell_type": "code",
      "metadata": {
        "colab": {
          "base_uri": "https://localhost:8080/",
          "height": 198
        },
        "id": "FSTeXVYR8piH",
        "outputId": "9add297a-918d-4488-d635-2a6e66c59b54"
      },
      "source": [
        "class Test:\n",
        "    def __secret(self):\n",
        "        print('top secret')\n",
        "\n",
        "obj = Test()\n",
        "obj.__secret()"
      ],
      "execution_count": 179,
      "outputs": [
        {
          "output_type": "error",
          "ename": "AttributeError",
          "evalue": "ignored",
          "traceback": [
            "\u001b[0;31m---------------------------------------------------------------------------\u001b[0m",
            "\u001b[0;31mAttributeError\u001b[0m                            Traceback (most recent call last)",
            "\u001b[0;32m<ipython-input-179-1294488e2eb0>\u001b[0m in \u001b[0;36m<module>\u001b[0;34m()\u001b[0m\n\u001b[1;32m      4\u001b[0m \u001b[0;34m\u001b[0m\u001b[0m\n\u001b[1;32m      5\u001b[0m \u001b[0mobj\u001b[0m \u001b[0;34m=\u001b[0m \u001b[0mTest\u001b[0m\u001b[0;34m(\u001b[0m\u001b[0;34m)\u001b[0m\u001b[0;34m\u001b[0m\u001b[0;34m\u001b[0m\u001b[0m\n\u001b[0;32m----> 6\u001b[0;31m \u001b[0mobj\u001b[0m\u001b[0;34m.\u001b[0m\u001b[0m__secret\u001b[0m\u001b[0;34m(\u001b[0m\u001b[0;34m)\u001b[0m\u001b[0;34m\u001b[0m\u001b[0;34m\u001b[0m\u001b[0m\n\u001b[0m",
            "\u001b[0;31mAttributeError\u001b[0m: 'Test' object has no attribute '__secret'"
          ]
        }
      ]
    },
    {
      "cell_type": "code",
      "metadata": {
        "colab": {
          "base_uri": "https://localhost:8080/"
        },
        "id": "NqlbY3I98w4R",
        "outputId": "970360d1-cedc-4bc9-e2b7-c6d4c931b5af"
      },
      "source": [
        "obj._Test__secret()"
      ],
      "execution_count": 180,
      "outputs": [
        {
          "output_type": "stream",
          "text": [
            "top secret\n"
          ],
          "name": "stdout"
        }
      ]
    },
    {
      "cell_type": "markdown",
      "metadata": {
        "id": "nc5N9vyE8z7l"
      },
      "source": [
        "## 5.2. Наследование"
      ]
    },
    {
      "cell_type": "markdown",
      "metadata": {
        "id": "ZR4UOn0C84Yw"
      },
      "source": [
        "Наследование подразумевает то, что дочерний класс содержит все атрибуты родительского класса, при этом некоторые из них могут быть переопределены или добавлены в дочернем."
      ]
    },
    {
      "cell_type": "code",
      "metadata": {
        "id": "VCaoKc-H85z3"
      },
      "source": [
        "class Human():  \n",
        "    # Конструктор\n",
        "    def __init__(self, name, age, sex):\n",
        "        self.name = name \n",
        "        self.age = age \n",
        "        self.sex = sex \n",
        "        \n",
        "    # Метод (method):\n",
        "    def showInfo(self):\n",
        "        print(f'Человек: {self.name}, возраст {self.age}, пол {self.sex}')\n",
        "\n",
        "class SuperMan(Human):\n",
        "    def __init__(self, name, age, sex, height, weight):\n",
        "        # Вызывается конструктор родительского класса (Human)\n",
        "        # чтобы прикрепить значение к атрибутам 'name', 'age', 'sex' родительского класса\n",
        "        super().__init__(name, age, sex)\n",
        "\n",
        "        # Доопределяем передаваемые в конструктор SuperMan переменные\n",
        "        self.height = height\n",
        "        self.weight = weight\n",
        "\n",
        "    def showInfo(self):\n",
        "        print(f'Cупермен| имя: {self.name}, возраст {self.age}, пол {self.sex}, вес {self.weight}, рост {self.height}')"
      ],
      "execution_count": 181,
      "outputs": []
    },
    {
      "cell_type": "code",
      "metadata": {
        "colab": {
          "base_uri": "https://localhost:8080/"
        },
        "id": "PfbOZ60X88Jk",
        "outputId": "b62e407a-ba41-4857-fd84-89a53280d754"
      },
      "source": [
        "human_obj = Human('Петя', 25, 'муж.')\n",
        "human_obj.showInfo()"
      ],
      "execution_count": 182,
      "outputs": [
        {
          "output_type": "stream",
          "text": [
            "Человек: Петя, возраст 25, пол муж.\n"
          ],
          "name": "stdout"
        }
      ]
    },
    {
      "cell_type": "code",
      "metadata": {
        "colab": {
          "base_uri": "https://localhost:8080/"
        },
        "id": "2ttq7Dd_8_45",
        "outputId": "1f9fdaa8-fce6-4a6a-ced6-57927970ee89"
      },
      "source": [
        "superman_obj = SuperMan('Кларк ', 34, 'муж.', 191, 107)\n",
        "superman_obj.showInfo()"
      ],
      "execution_count": 183,
      "outputs": [
        {
          "output_type": "stream",
          "text": [
            "Cупермен| имя: Кларк , возраст 34, пол муж., вес 107, рост 191\n"
          ],
          "name": "stdout"
        }
      ]
    },
    {
      "cell_type": "markdown",
      "metadata": {
        "id": "plDydkYV9Hdn"
      },
      "source": [
        "## 5.3. Полиморфизм"
      ]
    },
    {
      "cell_type": "markdown",
      "metadata": {
        "id": "yqYpElDM9M7f"
      },
      "source": [
        "Полиморфизм – это возможность обработки разных типов данных, т.е. принадлежащих к разным классам, с помощью \"одно и той же\" функции, или метода. На самом деле одинаковым является только имя метода, его исходный код зависит от класса. Кроме того, результаты работы одноименных методов могут существенно различаться. Поэтому в данном контексте под полиморфизмом понимается множество форм одного и того же слова – имени метода."
      ]
    },
    {
      "cell_type": "code",
      "metadata": {
        "colab": {
          "base_uri": "https://localhost:8080/"
        },
        "id": "qeMEd7ta9NtP",
        "outputId": "3bba9d57-e7ac-4aeb-a677-5118d904bd42"
      },
      "source": [
        "superman_obj.showInfo()\n",
        "human_obj.showInfo()"
      ],
      "execution_count": 184,
      "outputs": [
        {
          "output_type": "stream",
          "text": [
            "Cупермен| имя: Кларк , возраст 34, пол муж., вес 107, рост 191\n",
            "Человек: Петя, возраст 25, пол муж.\n"
          ],
          "name": "stdout"
        }
      ]
    },
    {
      "cell_type": "markdown",
      "metadata": {
        "id": "WjXO0FzDlftc"
      },
      "source": [
        "# Задания для самостоятельного выполнения\n",
        "\n",
        "**Подсказка!** проверяйте ваше решение по тому, что уже есть в блоках вывода ячеек"
      ]
    },
    {
      "cell_type": "markdown",
      "metadata": {
        "id": "4Wgp1FDn9oeh"
      },
      "source": [
        "## Задание 1\n",
        "\n",
        "Создайте список (list) с элементами от 1 до 10 включительно двумя разными способами:\n",
        "* при помощи list comprehensions\n",
        "* при помощи цикла for"
      ]
    },
    {
      "cell_type": "code",
      "metadata": {
        "colab": {
          "base_uri": "https://localhost:8080/"
        },
        "id": "Trw5fZtq-sKK",
        "outputId": "8a6bffe6-ea42-4022-a58a-63947f0f9f2e"
      },
      "source": [
        "#Ваше решение тут\n"
      ],
      "execution_count": 199,
      "outputs": [
        {
          "output_type": "execute_result",
          "data": {
            "text/plain": [
              "[1, 2, 3, 4, 5, 6, 7, 8, 9, 10]"
            ]
          },
          "metadata": {
            "tags": []
          },
          "execution_count": 199
        }
      ]
    },
    {
      "cell_type": "markdown",
      "metadata": {
        "id": "WFASdcHs-HDU"
      },
      "source": [
        "## Задание 2\n",
        "\n",
        "Создайте список (list) с **четными** элементами из промежутка от 1 до 10 включительно двумя разными способами:\n",
        "* при помощи list comprehensions\n",
        "* при помощи цикла for"
      ]
    },
    {
      "cell_type": "code",
      "metadata": {
        "colab": {
          "base_uri": "https://localhost:8080/"
        },
        "id": "DAB9tzx6lGg_",
        "outputId": "f2d3aa83-ac93-4af5-99af-a3601023399f"
      },
      "source": [
        "#Ваше решение тут\n"
      ],
      "execution_count": 200,
      "outputs": [
        {
          "output_type": "execute_result",
          "data": {
            "text/plain": [
              "[2, 4, 6, 8, 10]"
            ]
          },
          "metadata": {
            "tags": []
          },
          "execution_count": 200
        }
      ]
    },
    {
      "cell_type": "markdown",
      "metadata": {
        "id": "ART_Rcf8_D1Q"
      },
      "source": [
        "## Задание 3\n",
        "присвойте переменной **x** следующее значение:\n",
        "$$\n",
        "x=100^{3^{2}}-\\frac{10^{3}}{5^{2}}\n",
        "$$\n",
        "Выведите, чему теперь равна переменная **x**"
      ]
    },
    {
      "cell_type": "code",
      "metadata": {
        "colab": {
          "base_uri": "https://localhost:8080/"
        },
        "id": "60of6x1F-4xb",
        "outputId": "454ced16-ae53-4d4c-9108-0821c9081bdd"
      },
      "source": [
        "#Ваше решение тут\n"
      ],
      "execution_count": 196,
      "outputs": [
        {
          "output_type": "execute_result",
          "data": {
            "text/plain": [
              "999999999960.0"
            ]
          },
          "metadata": {
            "tags": []
          },
          "execution_count": 196
        }
      ]
    },
    {
      "cell_type": "markdown",
      "metadata": {
        "id": "JUkk796pANdG"
      },
      "source": [
        "## Задание 4\n",
        "\n",
        "Найдите, истинно ли, что 3 в 15 степени больше 3000 при условии, что 3 в 7й степени меньше 7 в 5й."
      ]
    },
    {
      "cell_type": "code",
      "metadata": {
        "colab": {
          "base_uri": "https://localhost:8080/"
        },
        "id": "1d68HG4SAg3t",
        "outputId": "ba45fe1e-5cc1-4523-b338-933e63319edf"
      },
      "source": [
        "#Ваше решение тут\n"
      ],
      "execution_count": 195,
      "outputs": [
        {
          "output_type": "stream",
          "text": [
            "True\n"
          ],
          "name": "stdout"
        }
      ]
    },
    {
      "cell_type": "markdown",
      "metadata": {
        "id": "fIJhD6MSA7Sm"
      },
      "source": [
        "## Задание 5\n",
        "Мы принимаем целое число на ввод с клавиатуры (код предоставлен), вывести \"цена выше рынка\", если число выше 1200, \"цена ниже рыночной\", если число меньше 800 и \"все ок\" в остальных случаях."
      ]
    },
    {
      "cell_type": "code",
      "metadata": {
        "colab": {
          "base_uri": "https://localhost:8080/"
        },
        "id": "Z785bvZhAJHy",
        "outputId": "13a7d9e5-de53-40cd-eb5c-8657cec3d79f"
      },
      "source": [
        "price = int(input('Введите цену товара: '))\n",
        "#Ваше решение тут\n"
      ],
      "execution_count": 194,
      "outputs": [
        {
          "output_type": "stream",
          "text": [
            "Введите цену товара: 100\n",
            "все ок\n"
          ],
          "name": "stdout"
        }
      ]
    },
    {
      "cell_type": "markdown",
      "metadata": {
        "id": "t-FCWwCmBNjV"
      },
      "source": [
        "## Задание 6\n",
        "\n",
        "Даны два словаря: dictionary_1 = {'price_1': 300, 'price_2': 400} и dictionary_2 = {'price_1': 500, 'price_3': 600}. Объедините их в один при помощи встроенных функций языка Python (методов объекта dict)."
      ]
    },
    {
      "cell_type": "code",
      "metadata": {
        "colab": {
          "base_uri": "https://localhost:8080/"
        },
        "id": "M64tMdg3BGI-",
        "outputId": "9e52bec2-8a70-4aae-d323-103eeed61949"
      },
      "source": [
        "#Ваше решение тут\n"
      ],
      "execution_count": 202,
      "outputs": [
        {
          "output_type": "execute_result",
          "data": {
            "text/plain": [
              "{'price_1': 500, 'price_2': 400, 'price_3': 600}"
            ]
          },
          "metadata": {
            "tags": []
          },
          "execution_count": 202
        }
      ]
    },
    {
      "cell_type": "markdown",
      "metadata": {
        "id": "VYrTaYnpDv3e"
      },
      "source": [
        "## Задание 7\n",
        "Сравните время, затраченное на вычисление частного списков list со значениями от 1 до 10^6 и время, затраченное на вычисление частного массивов типа numpy arrays со значениями от 1 до 10^6 (см. пункт \" Numpy array vs Python list\" в этом ноутбуке)\n",
        "\n",
        "*Подсказка! для генерации list используйте функцию range(), для генерации numpy array - np.arange()*"
      ]
    },
    {
      "cell_type": "code",
      "metadata": {
        "colab": {
          "base_uri": "https://localhost:8080/"
        },
        "id": "Ujh0N0ZvCvfe",
        "outputId": "32af80be-0810-4be6-c05d-fb7605f22ee7"
      },
      "source": [
        "#Ваше решение тут\n"
      ],
      "execution_count": 203,
      "outputs": [
        {
          "output_type": "stream",
          "text": [
            "\n",
            " Частное массивов :\n",
            "Время затраченное на деление списков типа list: 0.15817618370056152 секунд\n",
            "Время затраченное на деление массивов типа ndarray: 0.006802797317504883 секунд\n"
          ],
          "name": "stdout"
        }
      ]
    },
    {
      "cell_type": "markdown",
      "metadata": {
        "id": "rw7v8PGlFeKj"
      },
      "source": [
        "## Задание 8\n",
        "\n",
        "Напишите цикл, который выводит все числа от 0 до 500, делящиеся на 7, если в них есть цифра 8.\n",
        "Подсказка: переменную типа int можно привести к типу str:\n",
        "```\n",
        "x = 5\n",
        "y = str(x)\n",
        "```"
      ]
    },
    {
      "cell_type": "code",
      "metadata": {
        "id": "95xgUWkhEAio"
      },
      "source": [
        "#Ваше решение тут\n"
      ],
      "execution_count": 191,
      "outputs": []
    },
    {
      "cell_type": "markdown",
      "metadata": {
        "id": "ORiF3smuGPSU"
      },
      "source": [
        "## Задание 9\n",
        "Дан массив строк mas. Одной строкой создайте словарь, в котором по ключу строки будет записана пара (кортеж длины 2) (индекс строки в массиве mas, длина строки)"
      ]
    },
    {
      "cell_type": "code",
      "metadata": {
        "colab": {
          "base_uri": "https://localhost:8080/"
        },
        "id": "WGm-xViIFwNS",
        "outputId": "db13fdba-c3e5-4426-f08d-fc57ac98d633"
      },
      "source": [
        "mas = ['abc', 'def', 'hello', 'world']\n",
        "#Ваше решение тут\n"
      ],
      "execution_count": 205,
      "outputs": [
        {
          "output_type": "execute_result",
          "data": {
            "text/plain": [
              "{'abc': (0, 3), 'def': (1, 3), 'hello': (2, 5), 'world': (3, 5)}"
            ]
          },
          "metadata": {
            "tags": []
          },
          "execution_count": 205
        }
      ]
    },
    {
      "cell_type": "markdown",
      "metadata": {
        "id": "JOfOYKkNHMPy"
      },
      "source": [
        "## Задание 10\n",
        "Реализовать функцию, которая сохраняет в 2 глобальные переменные:\n",
        "сумму всех позиционных аргументов - релизовать через lambda;\n",
        "название всех именованных аргументов в виде списка."
      ]
    },
    {
      "cell_type": "code",
      "metadata": {
        "colab": {
          "base_uri": "https://localhost:8080/"
        },
        "id": "3xg8ELhdTb12",
        "outputId": "f1dff3fa-5b9e-488c-9d7d-371642b96345"
      },
      "source": [
        "summ = 0\n",
        "names = []\n",
        "#Ваше решение тут\n",
        "\n",
        "\n",
        "another_func(1, 2, 3, a=4, b=5)\n",
        "\n",
        "print(f'Cумма {summ}, названия {names}')"
      ],
      "execution_count": 209,
      "outputs": [
        {
          "output_type": "stream",
          "text": [
            "Сумма 6 , названия ['a', 'b']\n"
          ],
          "name": "stdout"
        }
      ]
    }
  ]
}