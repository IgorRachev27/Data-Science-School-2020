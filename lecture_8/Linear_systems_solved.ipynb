{
  "nbformat": 4,
  "nbformat_minor": 0,
  "metadata": {
    "colab": {
      "name": "Linear_systems_solved.ipynb",
      "provenance": [],
      "collapsed_sections": []
    },
    "kernelspec": {
      "display_name": "Python 3",
      "language": "python",
      "name": "python3"
    },
    "language_info": {
      "codemirror_mode": {
        "name": "ipython",
        "version": 3
      },
      "file_extension": ".py",
      "mimetype": "text/x-python",
      "name": "python",
      "nbconvert_exporter": "python",
      "pygments_lexer": "ipython3",
      "version": "3.7.3"
    }
  },
  "cells": [
    {
      "cell_type": "markdown",
      "metadata": {
        "id": "dRFyCE_iHGuk"
      },
      "source": [
        "colab: https://colab.research.google.com/drive/1RA1zg1d-GDT462WWthCYK7bgl_xyffwM?usp=sharing"
      ]
    },
    {
      "cell_type": "markdown",
      "metadata": {
        "id": "ixjV8P1IZS23"
      },
      "source": [
        "# Системы линейных уравнений"
      ]
    },
    {
      "cell_type": "markdown",
      "metadata": {
        "id": "40aj3lJuZS25"
      },
      "source": [
        "Система линейных алгебраических уравнений (СЛАУ) имеет вид: \n",
        "\n",
        "$$\\begin{cases}\n",
        "a_{11}x_{1}+a_{12}x_{2}+...+a_{1n}x_{n}=b_{1}, \\\\\n",
        "a_{21}x_{1}+a_{22}x_{2}+...+a_{2n}x_{n}=b_{2}, \\\\\n",
        "... \\\\\n",
        "a_{m1}x_{1}+a_{m2}x_{2}+...+a_{mn}x_{n}=b_{m}, \\\\\n",
        "\\end{cases}$$\n",
        "\n",
        "при этом через $x_{1},x_{2},...,x_{n}$ обозначены неизвестные, подлежащие определению, величины $a_{11},a_{12},...,a_{mn}$, называемые _коэффициентами системы_, и $b_{1},b_{2},...,b_{m}$, называемые _свободными членами_, предполагаются известными."
      ]
    },
    {
      "cell_type": "markdown",
      "metadata": {
        "id": "GkS9zuaoZS27"
      },
      "source": [
        "_Решением_ системы называется такая совокупность $n$ чисел $c_{1},c_{2},...,c_{n}$, которая при подстановке в систему вместо неизвестных $x_{1},x_{2},...,x_{n}$ обращает все уравнения в тождества."
      ]
    },
    {
      "cell_type": "markdown",
      "metadata": {
        "id": "TpJOoPfjZS29"
      },
      "source": [
        "Данную систему также можно записать в _матричной форме_ с использованием следующих матриц:\n",
        "\n",
        "- матрица коэффициентов системы\n",
        "\n",
        "$$A=\\begin{pmatrix}\n",
        "a_{11} & a_{12} & \\cdots & a_{1n}\\\\ \n",
        "a_{21} & a_{22} & \\cdots & a_{2n}\\\\ \n",
        "\\cdots & \\cdots & \\ddots & \\cdots\\\\ \n",
        "a_{m1} & a_{m2} & \\cdots & a_{mn}\n",
        "\\end{pmatrix};$$\n",
        "\n",
        "- вектор-столбец неизвестных\n",
        "\n",
        "$$x=\\begin{pmatrix}\n",
        "x_{1}\\\\ \n",
        "x_{2}\\\\ \n",
        "\\cdots \\\\ \n",
        "x_{n}\n",
        "\\end{pmatrix};$$\n",
        "\n",
        "- вектор-столбец правых частей (свободных членов системы)\n",
        "\n",
        "$$b=\\begin{pmatrix}\n",
        "b_{1}\\\\ \n",
        "b_{2}\\\\ \n",
        "\\cdots \\\\ \n",
        "b_{m}\n",
        "\\end{pmatrix}.$$\n",
        "\n",
        "В таком случае система будет выглядеть как выражение \n",
        "\n",
        "$$Ax=b.$$"
      ]
    },
    {
      "cell_type": "markdown",
      "metadata": {
        "id": "N4d1XXASZS2-"
      },
      "source": [
        "Если $b_{1}=b_{2}=...=b_{m}=0$, то такая система линейных уравнений называется _однородной_. Если хотя бы один из элементов вектор-столбца правых частей отличен от нуля, система называется _неоднородной_."
      ]
    },
    {
      "cell_type": "markdown",
      "metadata": {
        "id": "HFeVoZ9JZS2_"
      },
      "source": [
        "Матрица\n",
        "\n",
        "\n",
        "$$\\tilde{A}=\\begin{pmatrix}\n",
        "\\left.\\begin{matrix}\n",
        "a_{11} & a_{12} & \\cdots & a_{1n}\\\\ \n",
        "a_{21} & a_{22} & \\cdots & a_{2n}\\\\ \n",
        "\\cdots & \\cdots & \\ddots & \\cdots\\\\ \n",
        "a_{m1} & a_{m2} & \\cdots & a_{mn}\n",
        "\\end{matrix}\\right|\n",
        "\\begin{matrix}\n",
        "b_{1}\\\\ \n",
        "b_{2}\\\\\n",
        "\\cdots\\\\\n",
        "b_{m}\n",
        "\\end{matrix}\n",
        "\\end{pmatrix},$$\n",
        "\n",
        "полученная присоединением вектор-столбца свободных членов к матрице коэффициентов называется _расширенной матрицей_ системы уравнений."
      ]
    },
    {
      "cell_type": "markdown",
      "metadata": {
        "id": "-OzTpDrQZS3B"
      },
      "source": [
        "## Метод Гаусса"
      ]
    },
    {
      "cell_type": "markdown",
      "metadata": {
        "id": "vsnWFgQDZS3C"
      },
      "source": [
        "Одним из самых универсальных, простых и распространенных методов решения систем линейных уравнений является _метод Гаусса_. \n",
        "\n",
        "Этот метод также иногда называется _методом исключения неизвестных_. Он заключается в решении системы методом приведения ее к наиболее простому виду путем элементарных преобразований. Под наиболее простым видом здесь понимается _ступенчатая_ форма:\n",
        "\n",
        "$$\\begin{pmatrix}\n",
        "\\left.\\begin{matrix}\n",
        "a_{11} & a_{12} & \\cdots & a_{1n}\\\\ \n",
        "a_{21} & a_{22} & \\cdots & a_{2n}\\\\ \n",
        "\\cdots & \\cdots & \\ddots & \\cdots\\\\ \n",
        "a_{m1} & a_{m2} & \\cdots & a_{mn}\n",
        "\\end{matrix}\\right|\n",
        "\\begin{matrix}\n",
        "b_{1}\\\\ \n",
        "b_{2}\\\\\n",
        "\\cdots\\\\\n",
        "b_{m}\n",
        "\\end{matrix}\n",
        "\\end{pmatrix}\n",
        "\\rightarrow\n",
        "\\begin{pmatrix}\n",
        "\\left.\\begin{matrix}\n",
        "a'_{11} & a'_{12} & \\cdots & a'_{1n}\\\\ \n",
        "0 & a'_{22} & \\cdots & a'_{2n}\\\\ \n",
        "\\cdots & \\cdots & \\ddots & \\cdots\\\\ \n",
        "0 & 0 & \\cdots & a'_{mn}\n",
        "\\end{matrix}\\right|\n",
        "\\begin{matrix}\n",
        "b'_{1}\\\\ \n",
        "b'_{2}\\\\\n",
        "\\cdots\\\\\n",
        "b'_{m}\n",
        "\\end{matrix}\n",
        "\\end{pmatrix}.$$"
      ]
    },
    {
      "cell_type": "markdown",
      "metadata": {
        "id": "umhWKl1WZS3D"
      },
      "source": [
        "Опишем алгоритм метода для системы вида\n",
        "\n",
        "$$\\begin{cases}\n",
        "a_{11}x_{1}+a_{12}x_{2}+...+a_{1n}x_{n}=b_{1}, \\\\\n",
        "a_{21}x_{1}+a_{22}x_{2}+...+a_{2n}x_{n}=b_{2}, \\\\\n",
        "... \\\\\n",
        "a_{n1}x_{1}+a_{n2}x_{2}+...+a_{nn}x_{n}=b_{n}. \\\\\n",
        "\\end{cases}$$\n",
        "\n",
        "Приведем систему к требуемому виду путем последовательного исключения неизвестных."
      ]
    },
    {
      "cell_type": "markdown",
      "metadata": {
        "id": "1v5oGfQIZS3E"
      },
      "source": [
        "Допустим, что коэффициент $a_{11}\\neq0$. Разделим коэффициенты первого из уравнений (включая и свободный член) на коэффициент $a_{11}$, который мы будем называть ведущим элементом (1-го шага) для получения единичного коэффициента у неизвестной $x_{11}$ и обозначим\n",
        "\n",
        "$$a'_{1j}=\\frac{a_{1j}}{a_{11}}~(j>1),$$\n",
        "\n",
        "$$b'_{1}=\\frac{b_{1}}{a_{11}}.$$\n",
        "\n",
        "Получим новое уравнение на месте первого:\n",
        "\n",
        "$$x_{1}+a'_{12}x_{2}+...+a'_{1n}x_{n}=b'_{1}.$$"
      ]
    },
    {
      "cell_type": "markdown",
      "metadata": {
        "id": "M_w6CtEkZS3G"
      },
      "source": [
        "Далее исключим $x_{1}$ из всех последующих уравнений посредством вычитания из этих уравнений полученного первого уравнения, умноженного соответственно на числа $a_{21}, a_{31},...,a_{n1}$. Преобразованные уравнения будут иметь вид\n",
        "\n",
        "$$a_{22}^{(1)}x_{2}+...+a_{2n}^{(1)}x_{n}=b_{2}^{(1)},$$\n",
        "$$...$$\n",
        "$$a_{n2}^{(1)}x_{2}+...+a_{nn}^{(1)}x_{n}=b_{n}^{(1)},$$\n",
        "\n",
        "где\n",
        "\n",
        "$$a_{ij}^{(1)}=a_{ij}-a_{i1}a'_{1j}~~~~(i,j\\geq2),$$\n",
        "$$b_{i}^{(1)}=b_{i}-a_{i1}b'_{1}.$$"
      ]
    },
    {
      "cell_type": "markdown",
      "metadata": {
        "id": "e_b6gU3CZS3H"
      },
      "source": [
        "Далее разделим коэффициенты первого из преобразованных уравнений на ведущий элемент 2-го шага $a_{22}^{1}$, который будем считать отличным от нуля. Получим второе уравнение системы:\n",
        "\n",
        "$$x_{2}+a'_{23}x_{3}+...+a'_{2n}x_{n}=b'_{2},$$\n",
        "\n",
        "где\n",
        "\n",
        "$$a'_{2j}=\\frac{a_{2j}^{(1)}}{a_{22}^{(1)}}, ~ b'_{2}=\\frac{b_{2}^{(1)}}{a_{22}^{(1)}}.$$"
      ]
    },
    {
      "cell_type": "markdown",
      "metadata": {
        "id": "Gy6JMYupZS3I"
      },
      "source": [
        "Далее, аналогично исключая $x_{2}$ из уравнений, начиная с третьего, получим\n",
        "\n",
        "$$a_{32}^{(2)}x_{3}+...+a_{3n}^{(2)}x_{n}=b_{3}^{(2)},$$\n",
        "$$...$$\n",
        "$$a_{n3}^{(2)}x_{3}+...+a_{nn}^{(2)}x_{n}=b_{n}^{(2)},$$\n",
        "\n",
        "где\n",
        "\n",
        "$$a_{ij}^{(2)}=a_{ij}^{(1)}-a_{i2}^{(1)}a'_{2j}~~~~(i,j\\geq3),$$\n",
        "$$b_{i}^{(2)}=b_{i}^{(1)}-a_{i2}^{(1)}b'_{2}.$$"
      ]
    },
    {
      "cell_type": "markdown",
      "metadata": {
        "id": "wTxh9_2JZS3J"
      },
      "source": [
        "Продолжая процесс по заданной схеме, на $k$-м шагу получим\n",
        "\n",
        "\n",
        "$$x_{k}+a'_{kk+1}x_{k+1}+...+a'_{kn}x_{n}=b'_{k},$$\n",
        "$$a_{k+1k+1}^{(k)}x_{k+1}+...+a_{k+1n}^{(k)}x_{n}=b_{k+1}^{(k)},$$\n",
        "$$...$$\n",
        "$$a_{nk+1}^{(k)}x_{k+1}+...+a_{nn}^{(k)}x_{n}=b_{n}^{(k)},$$\n",
        "\n",
        "где\n",
        "\n",
        "$$a'_{kj}=\\frac{a_{kj}^{(k-1)}}{a_{kk}^{(k-1)}} ~~~~~(j\\geq k+1),$$\n",
        "\n",
        "$$b'_{k}=\\frac{b_{k}^{(k-1)}}{a_{kk}^{(k-1)}},$$\n",
        "\n",
        "$$a_{ij}^{(k)}=a_{ij}^{(k-1)}-a_{ik}^{(k-1)}a'_{kj},$$\n",
        "\n",
        "$$b_{i}^{(k)}=b_{i}^{(k-1)}-a_{ik}^{(k-1)}b'_{k}.$$"
      ]
    },
    {
      "cell_type": "markdown",
      "metadata": {
        "id": "7SpqIuvEZS3K"
      },
      "source": [
        "После полного прохода по системе уравнений получим систему\n",
        "\n",
        "$$\\begin{cases}\n",
        "x_{1}+a'_{12}x_{2}+a'_{13}x_{3}+...+a'_{1n}x_{n}=b'_{1}, \\\\\n",
        "~~~~~~~~~~~~~x_{2}+a'_{23}x_{3}+...+a'_{2n}x_{n}=b'_{2}, \\\\\n",
        "~~~~~~~~~~~~~.......................... \\\\\n",
        "~~~~~~~~~~~~~~~~~~~~~~~~~~~~~~~~~~~~~~~~~~~~~x_{n}=b'_{n},\n",
        "\\end{cases}$$\n",
        "\n",
        "эквивалентную исходной системе. Эта система будет иметь треугольную матрицу коэффициентов. \n",
        "\n",
        "Стоит отметить, что этот процесс возможен только при условии неравенства нулю всех ведущих элементов $a_{kk}^{(k-1)}$, так как по ходу процесса мы производим деление на них."
      ]
    },
    {
      "cell_type": "markdown",
      "metadata": {
        "id": "SZ5mXQjJZS3M"
      },
      "source": [
        "Из полученной системы послеовательно находим значения неизвестных от $x_{n}$ до $x_{1}$ по формулам\n",
        "\n",
        "$$x_{k}=b'_{k}-a'_{kk+1}x_{k+1}-...-a'_{kn}x_{n}.$$"
      ]
    },
    {
      "cell_type": "markdown",
      "metadata": {
        "id": "J5XYTnVAZS3N"
      },
      "source": [
        "Подытожим, что метод Гаусса состоит из двух частей: сначала для данной системы мы строим треугольную систему, а затем решаем ее. Процессс нахождения коэффициентов треугольной матрицы называется _прямым ходом_, а процесс получения решения — _обратным ходом_, так как мы сначала движемся сверху вниз по исходной матрице, а потом снизу вверх по полученной треугольной."
      ]
    },
    {
      "cell_type": "markdown",
      "metadata": {
        "id": "elDDKCnnZS3O"
      },
      "source": [
        "Второй способ реализации метода Гаусса — работа с элементарными преобразованиями расширенной матрицы системы для приведения ее к ступенчатому виду.\n",
        "\n",
        "Мы уже имели дело с элементарными преобразованиями при нахождении ранга матриц. В данном случае допустимы преобразования __только строк__ следующего вида:\n",
        "\n",
        "- переставление строк местами;\n",
        "\n",
        "- умножение (деление) строки на любое отличное от нуля число;\n",
        "\n",
        "- прибавление к строке матрицы другой строки, умноженной на отличное от нуля число (при этом изменяется только строка, __к которой прибавляют__);\n",
        "\n",
        "- при появлении пропорциональных (или одинаковых) строк — удаление всех их кроме одной;\n",
        "\n",
        "- удаление нулевых строк (таких, в которых в процессе элементарных преобразований обнулились все элементы).\n",
        "\n",
        "Такие преобразования не будут менять решение системы."
      ]
    },
    {
      "cell_type": "markdown",
      "metadata": {
        "id": "cHqV1pm2ZS3P"
      },
      "source": [
        "После приведения матрицы к ступенчатому виду производится обратный ход метода Гаусса, как и в предыдущей реализации алгоритма."
      ]
    },
    {
      "cell_type": "markdown",
      "metadata": {
        "id": "EcENQ8i0ZS3R"
      },
      "source": [
        "Алгоритм выглядит достаточно сложным, однако после нескольких примеров станет ясно, что реализовать его на практике очень просто."
      ]
    },
    {
      "cell_type": "markdown",
      "metadata": {
        "id": "oaxNO7zeZS3S"
      },
      "source": [
        "__Пример 1__\n",
        "\n",
        "Решить систему уравнений:\n",
        "\n",
        "$$\\begin{cases}\n",
        "2x_{1}+x_{2}+x_{3}=5, \\\\\n",
        "4x_{1}-6x_{2}=-2, \\\\\n",
        "-2x_{1}+7x_{2}+2x_{3}=9.\n",
        "\\end{cases}$$"
      ]
    },
    {
      "cell_type": "markdown",
      "metadata": {
        "id": "y1n3pweJZS3T"
      },
      "source": [
        "Запишем расширенную матрицу системы:\n",
        "\n",
        "$$\\begin{pmatrix}\n",
        "\\left.\\begin{matrix}\n",
        "2 & 1 & 1 \\\\ \n",
        "4 & -6 & 0 \\\\ \n",
        "-2 & 7 & 2\n",
        "\\end{matrix}\\right|\n",
        "\\begin{matrix}\n",
        "5\\\\ \n",
        "-2\\\\\n",
        "9\n",
        "\\end{matrix}\n",
        "\\end{pmatrix}.$$\n",
        "\n",
        "Путем элементарных преобразований постараемся привести матрицу к ступенчатому виду.\n",
        "\n",
        "Вычтем из второй строки первую, умноженную на 2:\n",
        "\n",
        "$$\\begin{pmatrix}\n",
        "\\left.\\begin{matrix}\n",
        "2 & 1 & 1 \\\\ \n",
        "0 & -8 & -2 \\\\ \n",
        "-2 & 7 & 2\n",
        "\\end{matrix}\\right|\n",
        "\\begin{matrix}\n",
        "5\\\\ \n",
        "-12\\\\\n",
        "9\n",
        "\\end{matrix}\n",
        "\\end{pmatrix}.$$\n",
        "\n",
        "Прибавим к третьей строке первую:\n",
        "\n",
        "$$\\begin{pmatrix}\n",
        "\\left.\\begin{matrix}\n",
        "2 & 1 & 1 \\\\ \n",
        "0 & -8 & -2 \\\\ \n",
        "0 & 8 & 3\n",
        "\\end{matrix}\\right|\n",
        "\\begin{matrix}\n",
        "5\\\\ \n",
        "-12\\\\\n",
        "14\n",
        "\\end{matrix}\n",
        "\\end{pmatrix}.$$\n",
        "\n",
        "И прибавим к третьему уравнению второе:\n",
        "\n",
        "$$\\begin{pmatrix}\n",
        "\\left.\\begin{matrix}\n",
        "2 & 1 & 1 \\\\ \n",
        "0 & -8 & -2 \\\\ \n",
        "0 & 0 & 1\n",
        "\\end{matrix}\\right|\n",
        "\\begin{matrix}\n",
        "5\\\\ \n",
        "-12\\\\\n",
        "2\n",
        "\\end{matrix}\n",
        "\\end{pmatrix}.$$"
      ]
    },
    {
      "cell_type": "markdown",
      "metadata": {
        "id": "dwCOyvgxZS3U"
      },
      "source": [
        "В итоге после преобразований мы получили матрицу треугльного вида, которая представляет следующую систему:\n",
        "\n",
        "$$\\begin{cases}\n",
        "2x_{1}+x_{2}+x_{3}=5, \\\\\n",
        "~~-8x_{2}-2x_{3}=-12, \\\\\n",
        "~~~~~~~~~~~~~~~~~~~~x_{3}=2.\n",
        "\\end{cases}$$\n",
        "\n",
        "Проводя обратный ход метода Гаусса, последовательн подставляя известные значения в уравнения, получим\n",
        "\n",
        "$$x_{3}=2.$$\n",
        "\n",
        "Подставим $x_{3}$ во второе уравнение:\n",
        "$$-8x_{2} - 2\\cdot 2=-12\\Rightarrow x_{2}=1,$$\n",
        "\n",
        "а затем полученные $x_{2}$ и $x_{3}$ — в первое уравнение:\n",
        "$$2x_{1}+1+2=5\\Rightarrow x_{1}=1.$$"
      ]
    },
    {
      "cell_type": "markdown",
      "metadata": {
        "id": "U9G_xQuAZS3V"
      },
      "source": [
        "Если подставить полученные значения неизвестных в исходную систему, несложно убедиться, что все выражения обращаются в тождества:\n",
        "\n",
        "$$\\begin{cases}\n",
        "2\\cdot1+1+2=5,\\\\\n",
        "4\\cdot1-6\\cdot1=-2,\\\\\n",
        "-2\\cdot1+7\\cdot1+2\\cdot2=9.\n",
        "\\end{cases}$$"
      ]
    },
    {
      "cell_type": "markdown",
      "metadata": {
        "id": "0fHmN3j1ZS3X"
      },
      "source": [
        "__Пример 2__\n",
        "\n",
        "Решить систему уравнений\n",
        "\n",
        "$$\\begin{cases}\n",
        "x_{1}+x_{2}-x_{3}=0, \\\\\n",
        "2x_{1}-x_{2}-x_{3}=-2, \\\\\n",
        "4x_{1}+x_{2}-3x_{3}=9.\n",
        "\\end{cases}$$"
      ]
    },
    {
      "cell_type": "markdown",
      "metadata": {
        "id": "3xpWiWEMZS3Y"
      },
      "source": [
        "Преобразуем расширенную матрицу системы путем элементарных преобразований:\n",
        "\n",
        "$$\\begin{pmatrix}\n",
        "\\left.\\begin{matrix}\n",
        "1 & 1 & -1 \\\\ \n",
        "2 & -1 & -1 \\\\ \n",
        "4 & 1 & -3\n",
        "\\end{matrix}\\right|\n",
        "\\begin{matrix}\n",
        "0\\\\ \n",
        "-2\\\\\n",
        "9\n",
        "\\end{matrix}\n",
        "\\end{pmatrix}.$$\n",
        "\n",
        "Вычтем из второй строки первую, умноженную на 2 и из третьей строки первую, умноженную на 4:\n",
        "\n",
        "$$\\begin{pmatrix}\n",
        "\\left.\\begin{matrix}\n",
        "1 & 1 & -1 \\\\ \n",
        "0 & -3 & 1 \\\\ \n",
        "0 & -3 & 1\n",
        "\\end{matrix}\\right|\n",
        "\\begin{matrix}\n",
        "0\\\\ \n",
        "-2\\\\\n",
        "9\n",
        "\\end{matrix}\n",
        "\\end{pmatrix}.$$\n",
        "\n",
        "И вычтем из третьей строки вторую:\n",
        "\n",
        "$$\\begin{pmatrix}\n",
        "\\left.\\begin{matrix}\n",
        "1 & 1 & -1 \\\\ \n",
        "0 & -3 & 1 \\\\ \n",
        "0 & 0 & 0\n",
        "\\end{matrix}\\right|\n",
        "\\begin{matrix}\n",
        "0\\\\ \n",
        "-2\\\\\n",
        "11\n",
        "\\end{matrix}\n",
        "\\end{pmatrix}.$$\n",
        "\n",
        "Третья строка получившейся матрицы соответствует уравнению\n",
        "\n",
        "$$0\\cdot x_{1}+0\\cdot x_{2}+0\\cdot x_{3}=11 \\; \\Leftrightarrow \\; 0=11.$$\n",
        "\n",
        "Полученное равенство не имеет смысла, а значит, система решений не имеет."
      ]
    },
    {
      "cell_type": "markdown",
      "metadata": {
        "id": "f4WDi0XfZS3Z"
      },
      "source": [
        "Этот пример иллюстрирует нам важный случай, на который следует обратить особое внимание: _если в результате элементарных преобразований в расширенной матрице получена строка вида $(0~0...0|\\lambda)$, где $\\lambda$ — отличное от нуля число, то такая система не имеет решений._"
      ]
    },
    {
      "cell_type": "markdown",
      "metadata": {
        "id": "czB6XYWIZS3b"
      },
      "source": [
        "__Пример 3__\n",
        "\n",
        "Решить систему уравнений\n",
        "\n",
        "$$\\begin{cases}\n",
        "x_{1}+x_{2}-x_{3}=0, \\\\\n",
        "2x_{1}-x_{2}-x_{3}=-2, \\\\\n",
        "4x_{1}+x_{2}-3x_{3}=-2.\n",
        "\\end{cases}$$"
      ]
    },
    {
      "cell_type": "markdown",
      "metadata": {
        "id": "YR00kYwJZS3e"
      },
      "source": [
        "Преобразуем расширенную матрицу системы путем элементарных преобразований:\n",
        "\n",
        "$$\\begin{pmatrix}\n",
        "\\left.\\begin{matrix}\n",
        "1 & 1 & -1 \\\\ \n",
        "2 & -1 & -1 \\\\ \n",
        "4 & 1 & -3\n",
        "\\end{matrix}\\right|\n",
        "\\begin{matrix}\n",
        "0\\\\ \n",
        "-2\\\\\n",
        "-2\n",
        "\\end{matrix}\n",
        "\\end{pmatrix}.$$\n",
        "\n",
        "Вычтем из второй строки первую, умноженную на 2, и из третьей строки первую, умноженную на 4:\n",
        "\n",
        "$$\\begin{pmatrix}\n",
        "\\left.\\begin{matrix}\n",
        "1 & 1 & -1 \\\\ \n",
        "0 & -3 & 1 \\\\ \n",
        "0 & -3 & 1\n",
        "\\end{matrix}\\right|\n",
        "\\begin{matrix}\n",
        "0\\\\ \n",
        "-2\\\\\n",
        "-2\n",
        "\\end{matrix}\n",
        "\\end{pmatrix}.$$\n",
        "\n",
        "И вычтем из третьей строки вторую:\n",
        "\n",
        "$$\\begin{pmatrix}\n",
        "\\left.\\begin{matrix}\n",
        "1 & 1 & -1 \\\\ \n",
        "0 & -3 & 1 \\\\ \n",
        "0 & 0 & 0\n",
        "\\end{matrix}\\right|\n",
        "\\begin{matrix}\n",
        "0\\\\ \n",
        "-2\\\\\n",
        "0\n",
        "\\end{matrix}\n",
        "\\end{pmatrix}.$$\n",
        "\n",
        "Обнулившуюся строку удаляем и получаем\n",
        "\n",
        "$$\\begin{pmatrix}\n",
        "\\left.\\begin{matrix}\n",
        "1 & 1 & -1 \\\\ \n",
        "0 & -3 & 1\n",
        "\\end{matrix}\\right|\n",
        "\\begin{matrix}\n",
        "0\\\\ \n",
        "-2\n",
        "\\end{matrix}\n",
        "\\end{pmatrix}.$$"
      ]
    },
    {
      "cell_type": "markdown",
      "metadata": {
        "id": "NSlm4nyMZS3g"
      },
      "source": [
        "Это еще один особый случай при использовании метода Гаусса. В полученном ступенчатом виде мы имеем ступеньки из двух чисел, а не из одного, как это требуется. В таком случае система имеет _бесконечное количество решений._"
      ]
    },
    {
      "cell_type": "markdown",
      "metadata": {
        "id": "38qX9RKqZS3h"
      },
      "source": [
        "Оставшаяся матрица соответствует системе\n",
        "\n",
        "$$\\begin{cases}\n",
        "x_{1}+x_{2}-x_{3}=0, \\\\\n",
        "~~-3x_{2}+x_{3}=-2.\n",
        "\\end{cases}$$\n",
        "\n",
        "Бесконечное множество решений принято записывать в виде _общего решения_.\n",
        "\n",
        "Последнее уравнение содержит две неизвестных. Неизвестные, «сидящие» на ступеньках матрицы, принято назывть _базисными_, и их нужно выразить через _свободные_ неизвестные. В данном случае можно рассматривать в качестве _свободного_ параметра $x_{3}=c$. Тогда, выражая остальные переменные через $c$, получим:\n",
        "\n",
        "$$x_{3}=c,$$\n",
        "$$-3x_{2}+c=-2 \\; \\Leftrightarrow \\; x_{2}=(c+2)/3,$$\n",
        "$$x_{1} + (c+2)/3 - c=0 \\; \\Leftrightarrow \\; x_{1}=(2c-2)/3.$$\n",
        "\n",
        "Таковым будет _общее решение системы_. Подставляя произвольные числа вместо $c$, мы получим _частное решение_. Например, при $c=0$:\n",
        "\n",
        "$$x_{1}=-2/3,$$\n",
        "$$x_{2}=2/3,$$\n",
        "$$x_{3}=0.$$\n",
        "\n",
        "Параметр $c$ может принимать бесконечное количество значений, при которых уравнения в системе будут обращаться в тождества.\n",
        "\n",
        "Подставив общее решение в исходную систему, также получим тождества:\n",
        "\n",
        "$$\n",
        "\\left\\{\\begin{array}{l}\n",
        "2 c / 3-2 / 3+c / 3+2 / 3-c=0 \\\\\n",
        "2(2 c / 3-2 / 3)-c / 3-2 / 3-c=4 c / 3-4 / 3-c / 3-2 / 3-c=-2 \\\\\n",
        "4(2 c / 3-2 / 3)+c / 3+2 / 3-3 c=8 c / 3-8 / 3+c / 3+2 / 3-3 c=-2\n",
        "\\end{array}\\right.\n",
        "$$\n"
      ]
    },
    {
      "cell_type": "markdown",
      "metadata": {
        "id": "npgdQlTmoQPD"
      },
      "source": [
        "## Решение СЛАУ при помощи Numpy"
      ]
    },
    {
      "cell_type": "markdown",
      "metadata": {
        "id": "OdFrfo9oov-A"
      },
      "source": [
        "**1.** Имеем следующую систему ЛУ:\n",
        "$$\n",
        "\\begin{array}{r}\n",
        "2 x+y=1 \\\\\n",
        "x+y=-1\n",
        "\\end{array}\n",
        "$$"
      ]
    },
    {
      "cell_type": "code",
      "metadata": {
        "colab": {
          "base_uri": "https://localhost:8080/"
        },
        "id": "1fB_-NaLo60U",
        "outputId": "f451f222-ffe2-4e63-8074-7dd85dfce0c8"
      },
      "source": [
        "import numpy as np\n",
        "\n",
        "\n",
        "#Инициализируем матрицу коэффициентов\n",
        "A = np.array([[2,1],\n",
        "              [1,1]])\n",
        "print(A)"
      ],
      "execution_count": null,
      "outputs": [
        {
          "output_type": "stream",
          "text": [
            "[[2 1]\n",
            " [1 1]]\n"
          ],
          "name": "stdout"
        }
      ]
    },
    {
      "cell_type": "code",
      "metadata": {
        "colab": {
          "base_uri": "https://localhost:8080/"
        },
        "id": "4ZLbE7kXpB5V",
        "outputId": "e061e719-2bcd-4551-8e9b-1bd344753599"
      },
      "source": [
        "#И вектор b\n",
        "b = np.array([1,-1]).reshape(2,1)\n",
        "print(b)"
      ],
      "execution_count": null,
      "outputs": [
        {
          "output_type": "stream",
          "text": [
            "[[ 1]\n",
            " [-1]]\n"
          ],
          "name": "stdout"
        }
      ]
    },
    {
      "cell_type": "code",
      "metadata": {
        "colab": {
          "base_uri": "https://localhost:8080/"
        },
        "id": "m9gBYzXEpCJ8",
        "outputId": "429729c4-b667-4f0f-9550-dc6c2226d2a1"
      },
      "source": [
        "x = np.linalg.solve(A,b)\n",
        "print(x)"
      ],
      "execution_count": null,
      "outputs": [
        {
          "output_type": "stream",
          "text": [
            "[[ 2.]\n",
            " [-3.]]\n"
          ],
          "name": "stdout"
        }
      ]
    },
    {
      "cell_type": "markdown",
      "metadata": {
        "id": "rfIW9BrGpQ0X"
      },
      "source": [
        "Проверим решение"
      ]
    },
    {
      "cell_type": "code",
      "metadata": {
        "colab": {
          "base_uri": "https://localhost:8080/"
        },
        "id": "1Vzf-yCTpTUM",
        "outputId": "967a4787-556c-4673-9792-6ee1cc2eea2c"
      },
      "source": [
        "Ainv = np.linalg.inv(A)\n",
        "print(Ainv)"
      ],
      "execution_count": null,
      "outputs": [
        {
          "output_type": "stream",
          "text": [
            "[[ 1. -1.]\n",
            " [-1.  2.]]\n"
          ],
          "name": "stdout"
        }
      ]
    },
    {
      "cell_type": "markdown",
      "metadata": {
        "id": "xwD8knq1pY-9"
      },
      "source": [
        "И посчитаем $A^{-1} \\mathbf{b}$:"
      ]
    },
    {
      "cell_type": "code",
      "metadata": {
        "colab": {
          "base_uri": "https://localhost:8080/"
        },
        "id": "ReWgJplSpTlJ",
        "outputId": "72bc8894-57e7-40c5-f292-f3449de8e6c3"
      },
      "source": [
        "x = Ainv @ b\n",
        "print(x)"
      ],
      "execution_count": null,
      "outputs": [
        {
          "output_type": "stream",
          "text": [
            "[[ 2.]\n",
            " [-3.]]\n"
          ],
          "name": "stdout"
        }
      ]
    },
    {
      "cell_type": "markdown",
      "metadata": {
        "id": "HlswIQzBpz8Z"
      },
      "source": [
        "### Inverse or Solve\n",
        "\n",
        "Плохая идея считать $A^{-1} \\mathbf{b}$, когда матрица A велика"
      ]
    },
    {
      "cell_type": "code",
      "metadata": {
        "id": "CSdnhycJp1bK"
      },
      "source": [
        "N = 10000\n",
        "A = np.random.rand(N,N)\n",
        "b = np.random.rand(N,1)"
      ],
      "execution_count": null,
      "outputs": []
    },
    {
      "cell_type": "code",
      "metadata": {
        "colab": {
          "base_uri": "https://localhost:8080/",
          "height": 409
        },
        "id": "TN07rjVbp-R7",
        "outputId": "b6e5de32-6c5f-4bb3-df6e-4ea358c4b810"
      },
      "source": [
        "%%timeit\n",
        "x = np.linalg.solve(A,b)"
      ],
      "execution_count": null,
      "outputs": [
        {
          "output_type": "error",
          "ename": "KeyboardInterrupt",
          "evalue": "ignored",
          "traceback": [
            "\u001b[0;31m---------------------------------------------------------------------------\u001b[0m",
            "\u001b[0;31mKeyboardInterrupt\u001b[0m                         Traceback (most recent call last)",
            "\u001b[0;32m<ipython-input-11-b3f3aa15ea5f>\u001b[0m in \u001b[0;36m<module>\u001b[0;34m()\u001b[0m\n\u001b[0;32m----> 1\u001b[0;31m \u001b[0mget_ipython\u001b[0m\u001b[0;34m(\u001b[0m\u001b[0;34m)\u001b[0m\u001b[0;34m.\u001b[0m\u001b[0mrun_cell_magic\u001b[0m\u001b[0;34m(\u001b[0m\u001b[0;34m'timeit'\u001b[0m\u001b[0;34m,\u001b[0m \u001b[0;34m''\u001b[0m\u001b[0;34m,\u001b[0m \u001b[0;34m'x = np.linalg.solve(A,b)'\u001b[0m\u001b[0;34m)\u001b[0m\u001b[0;34m\u001b[0m\u001b[0;34m\u001b[0m\u001b[0m\n\u001b[0m",
            "\u001b[0;32m/usr/local/lib/python3.6/dist-packages/IPython/core/interactiveshell.py\u001b[0m in \u001b[0;36mrun_cell_magic\u001b[0;34m(self, magic_name, line, cell)\u001b[0m\n\u001b[1;32m   2115\u001b[0m             \u001b[0mmagic_arg_s\u001b[0m \u001b[0;34m=\u001b[0m \u001b[0mself\u001b[0m\u001b[0;34m.\u001b[0m\u001b[0mvar_expand\u001b[0m\u001b[0;34m(\u001b[0m\u001b[0mline\u001b[0m\u001b[0;34m,\u001b[0m \u001b[0mstack_depth\u001b[0m\u001b[0;34m)\u001b[0m\u001b[0;34m\u001b[0m\u001b[0;34m\u001b[0m\u001b[0m\n\u001b[1;32m   2116\u001b[0m             \u001b[0;32mwith\u001b[0m \u001b[0mself\u001b[0m\u001b[0;34m.\u001b[0m\u001b[0mbuiltin_trap\u001b[0m\u001b[0;34m:\u001b[0m\u001b[0;34m\u001b[0m\u001b[0;34m\u001b[0m\u001b[0m\n\u001b[0;32m-> 2117\u001b[0;31m                 \u001b[0mresult\u001b[0m \u001b[0;34m=\u001b[0m \u001b[0mfn\u001b[0m\u001b[0;34m(\u001b[0m\u001b[0mmagic_arg_s\u001b[0m\u001b[0;34m,\u001b[0m \u001b[0mcell\u001b[0m\u001b[0;34m)\u001b[0m\u001b[0;34m\u001b[0m\u001b[0;34m\u001b[0m\u001b[0m\n\u001b[0m\u001b[1;32m   2118\u001b[0m             \u001b[0;32mreturn\u001b[0m \u001b[0mresult\u001b[0m\u001b[0;34m\u001b[0m\u001b[0;34m\u001b[0m\u001b[0m\n\u001b[1;32m   2119\u001b[0m \u001b[0;34m\u001b[0m\u001b[0m\n",
            "\u001b[0;32m<decorator-gen-59>\u001b[0m in \u001b[0;36mtimeit\u001b[0;34m(self, line, cell)\u001b[0m\n",
            "\u001b[0;32m/usr/local/lib/python3.6/dist-packages/IPython/core/magic.py\u001b[0m in \u001b[0;36m<lambda>\u001b[0;34m(f, *a, **k)\u001b[0m\n\u001b[1;32m    186\u001b[0m     \u001b[0;31m# but it's overkill for just that one bit of state.\u001b[0m\u001b[0;34m\u001b[0m\u001b[0;34m\u001b[0m\u001b[0;34m\u001b[0m\u001b[0m\n\u001b[1;32m    187\u001b[0m     \u001b[0;32mdef\u001b[0m \u001b[0mmagic_deco\u001b[0m\u001b[0;34m(\u001b[0m\u001b[0marg\u001b[0m\u001b[0;34m)\u001b[0m\u001b[0;34m:\u001b[0m\u001b[0;34m\u001b[0m\u001b[0;34m\u001b[0m\u001b[0m\n\u001b[0;32m--> 188\u001b[0;31m         \u001b[0mcall\u001b[0m \u001b[0;34m=\u001b[0m \u001b[0;32mlambda\u001b[0m \u001b[0mf\u001b[0m\u001b[0;34m,\u001b[0m \u001b[0;34m*\u001b[0m\u001b[0ma\u001b[0m\u001b[0;34m,\u001b[0m \u001b[0;34m**\u001b[0m\u001b[0mk\u001b[0m\u001b[0;34m:\u001b[0m \u001b[0mf\u001b[0m\u001b[0;34m(\u001b[0m\u001b[0;34m*\u001b[0m\u001b[0ma\u001b[0m\u001b[0;34m,\u001b[0m \u001b[0;34m**\u001b[0m\u001b[0mk\u001b[0m\u001b[0;34m)\u001b[0m\u001b[0;34m\u001b[0m\u001b[0;34m\u001b[0m\u001b[0m\n\u001b[0m\u001b[1;32m    189\u001b[0m \u001b[0;34m\u001b[0m\u001b[0m\n\u001b[1;32m    190\u001b[0m         \u001b[0;32mif\u001b[0m \u001b[0mcallable\u001b[0m\u001b[0;34m(\u001b[0m\u001b[0marg\u001b[0m\u001b[0;34m)\u001b[0m\u001b[0;34m:\u001b[0m\u001b[0;34m\u001b[0m\u001b[0;34m\u001b[0m\u001b[0m\n",
            "\u001b[0;32m/usr/local/lib/python3.6/dist-packages/IPython/core/magics/execution.py\u001b[0m in \u001b[0;36mtimeit\u001b[0;34m(self, line, cell)\u001b[0m\n\u001b[1;32m   1060\u001b[0m                     \u001b[0;32mbreak\u001b[0m\u001b[0;34m\u001b[0m\u001b[0;34m\u001b[0m\u001b[0m\n\u001b[1;32m   1061\u001b[0m                 \u001b[0mnumber\u001b[0m \u001b[0;34m*=\u001b[0m \u001b[0;36m10\u001b[0m\u001b[0;34m\u001b[0m\u001b[0;34m\u001b[0m\u001b[0m\n\u001b[0;32m-> 1062\u001b[0;31m         \u001b[0mall_runs\u001b[0m \u001b[0;34m=\u001b[0m \u001b[0mtimer\u001b[0m\u001b[0;34m.\u001b[0m\u001b[0mrepeat\u001b[0m\u001b[0;34m(\u001b[0m\u001b[0mrepeat\u001b[0m\u001b[0;34m,\u001b[0m \u001b[0mnumber\u001b[0m\u001b[0;34m)\u001b[0m\u001b[0;34m\u001b[0m\u001b[0;34m\u001b[0m\u001b[0m\n\u001b[0m\u001b[1;32m   1063\u001b[0m         \u001b[0mbest\u001b[0m \u001b[0;34m=\u001b[0m \u001b[0mmin\u001b[0m\u001b[0;34m(\u001b[0m\u001b[0mall_runs\u001b[0m\u001b[0;34m)\u001b[0m \u001b[0;34m/\u001b[0m \u001b[0mnumber\u001b[0m\u001b[0;34m\u001b[0m\u001b[0;34m\u001b[0m\u001b[0m\n\u001b[1;32m   1064\u001b[0m \u001b[0;34m\u001b[0m\u001b[0m\n",
            "\u001b[0;32m/usr/lib/python3.6/timeit.py\u001b[0m in \u001b[0;36mrepeat\u001b[0;34m(self, repeat, number)\u001b[0m\n\u001b[1;32m    204\u001b[0m         \u001b[0mr\u001b[0m \u001b[0;34m=\u001b[0m \u001b[0;34m[\u001b[0m\u001b[0;34m]\u001b[0m\u001b[0;34m\u001b[0m\u001b[0;34m\u001b[0m\u001b[0m\n\u001b[1;32m    205\u001b[0m         \u001b[0;32mfor\u001b[0m \u001b[0mi\u001b[0m \u001b[0;32min\u001b[0m \u001b[0mrange\u001b[0m\u001b[0;34m(\u001b[0m\u001b[0mrepeat\u001b[0m\u001b[0;34m)\u001b[0m\u001b[0;34m:\u001b[0m\u001b[0;34m\u001b[0m\u001b[0;34m\u001b[0m\u001b[0m\n\u001b[0;32m--> 206\u001b[0;31m             \u001b[0mt\u001b[0m \u001b[0;34m=\u001b[0m \u001b[0mself\u001b[0m\u001b[0;34m.\u001b[0m\u001b[0mtimeit\u001b[0m\u001b[0;34m(\u001b[0m\u001b[0mnumber\u001b[0m\u001b[0;34m)\u001b[0m\u001b[0;34m\u001b[0m\u001b[0;34m\u001b[0m\u001b[0m\n\u001b[0m\u001b[1;32m    207\u001b[0m             \u001b[0mr\u001b[0m\u001b[0;34m.\u001b[0m\u001b[0mappend\u001b[0m\u001b[0;34m(\u001b[0m\u001b[0mt\u001b[0m\u001b[0;34m)\u001b[0m\u001b[0;34m\u001b[0m\u001b[0;34m\u001b[0m\u001b[0m\n\u001b[1;32m    208\u001b[0m         \u001b[0;32mreturn\u001b[0m \u001b[0mr\u001b[0m\u001b[0;34m\u001b[0m\u001b[0;34m\u001b[0m\u001b[0m\n",
            "\u001b[0;32m/usr/local/lib/python3.6/dist-packages/IPython/core/magics/execution.py\u001b[0m in \u001b[0;36mtimeit\u001b[0;34m(self, number)\u001b[0m\n\u001b[1;32m    137\u001b[0m         \u001b[0mgc\u001b[0m\u001b[0;34m.\u001b[0m\u001b[0mdisable\u001b[0m\u001b[0;34m(\u001b[0m\u001b[0;34m)\u001b[0m\u001b[0;34m\u001b[0m\u001b[0;34m\u001b[0m\u001b[0m\n\u001b[1;32m    138\u001b[0m         \u001b[0;32mtry\u001b[0m\u001b[0;34m:\u001b[0m\u001b[0;34m\u001b[0m\u001b[0;34m\u001b[0m\u001b[0m\n\u001b[0;32m--> 139\u001b[0;31m             \u001b[0mtiming\u001b[0m \u001b[0;34m=\u001b[0m \u001b[0mself\u001b[0m\u001b[0;34m.\u001b[0m\u001b[0minner\u001b[0m\u001b[0;34m(\u001b[0m\u001b[0mit\u001b[0m\u001b[0;34m,\u001b[0m \u001b[0mself\u001b[0m\u001b[0;34m.\u001b[0m\u001b[0mtimer\u001b[0m\u001b[0;34m)\u001b[0m\u001b[0;34m\u001b[0m\u001b[0;34m\u001b[0m\u001b[0m\n\u001b[0m\u001b[1;32m    140\u001b[0m         \u001b[0;32mfinally\u001b[0m\u001b[0;34m:\u001b[0m\u001b[0;34m\u001b[0m\u001b[0;34m\u001b[0m\u001b[0m\n\u001b[1;32m    141\u001b[0m             \u001b[0;32mif\u001b[0m \u001b[0mgcold\u001b[0m\u001b[0;34m:\u001b[0m\u001b[0;34m\u001b[0m\u001b[0;34m\u001b[0m\u001b[0m\n",
            "\u001b[0;32m<magic-timeit>\u001b[0m in \u001b[0;36minner\u001b[0;34m(_it, _timer)\u001b[0m\n",
            "\u001b[0;32m<__array_function__ internals>\u001b[0m in \u001b[0;36msolve\u001b[0;34m(*args, **kwargs)\u001b[0m\n",
            "\u001b[0;32m/usr/local/lib/python3.6/dist-packages/numpy/linalg/linalg.py\u001b[0m in \u001b[0;36msolve\u001b[0;34m(a, b)\u001b[0m\n\u001b[1;32m    392\u001b[0m     \u001b[0msignature\u001b[0m \u001b[0;34m=\u001b[0m \u001b[0;34m'DD->D'\u001b[0m \u001b[0;32mif\u001b[0m \u001b[0misComplexType\u001b[0m\u001b[0;34m(\u001b[0m\u001b[0mt\u001b[0m\u001b[0;34m)\u001b[0m \u001b[0;32melse\u001b[0m \u001b[0;34m'dd->d'\u001b[0m\u001b[0;34m\u001b[0m\u001b[0;34m\u001b[0m\u001b[0m\n\u001b[1;32m    393\u001b[0m     \u001b[0mextobj\u001b[0m \u001b[0;34m=\u001b[0m \u001b[0mget_linalg_error_extobj\u001b[0m\u001b[0;34m(\u001b[0m\u001b[0m_raise_linalgerror_singular\u001b[0m\u001b[0;34m)\u001b[0m\u001b[0;34m\u001b[0m\u001b[0;34m\u001b[0m\u001b[0m\n\u001b[0;32m--> 394\u001b[0;31m     \u001b[0mr\u001b[0m \u001b[0;34m=\u001b[0m \u001b[0mgufunc\u001b[0m\u001b[0;34m(\u001b[0m\u001b[0ma\u001b[0m\u001b[0;34m,\u001b[0m \u001b[0mb\u001b[0m\u001b[0;34m,\u001b[0m \u001b[0msignature\u001b[0m\u001b[0;34m=\u001b[0m\u001b[0msignature\u001b[0m\u001b[0;34m,\u001b[0m \u001b[0mextobj\u001b[0m\u001b[0;34m=\u001b[0m\u001b[0mextobj\u001b[0m\u001b[0;34m)\u001b[0m\u001b[0;34m\u001b[0m\u001b[0;34m\u001b[0m\u001b[0m\n\u001b[0m\u001b[1;32m    395\u001b[0m \u001b[0;34m\u001b[0m\u001b[0m\n\u001b[1;32m    396\u001b[0m     \u001b[0;32mreturn\u001b[0m \u001b[0mwrap\u001b[0m\u001b[0;34m(\u001b[0m\u001b[0mr\u001b[0m\u001b[0;34m.\u001b[0m\u001b[0mastype\u001b[0m\u001b[0;34m(\u001b[0m\u001b[0mresult_t\u001b[0m\u001b[0;34m,\u001b[0m \u001b[0mcopy\u001b[0m\u001b[0;34m=\u001b[0m\u001b[0;32mFalse\u001b[0m\u001b[0;34m)\u001b[0m\u001b[0;34m)\u001b[0m\u001b[0;34m\u001b[0m\u001b[0;34m\u001b[0m\u001b[0m\n",
            "\u001b[0;31mKeyboardInterrupt\u001b[0m: "
          ]
        }
      ]
    },
    {
      "cell_type": "code",
      "metadata": {
        "id": "ZbBhPDImp1tF"
      },
      "source": [
        "%%timeit\n",
        "x = np.linalg.inv(A) @ b"
      ],
      "execution_count": null,
      "outputs": []
    },
    {
      "cell_type": "markdown",
      "metadata": {
        "id": "4exI1rLhoUms"
      },
      "source": [
        "**2.** Решить систему уравнений 3 * x0 + x1 = 9 и x0 + 2 * x1 = 8:"
      ]
    },
    {
      "cell_type": "code",
      "metadata": {
        "colab": {
          "base_uri": "https://localhost:8080/"
        },
        "id": "c-Yzf_rQof0P",
        "outputId": "e0e44e6b-6039-4b38-e818-801320661f4f"
      },
      "source": [
        "import numpy as np\n",
        "\n",
        "#TODO\n",
        "\n",
        "a = np.array([[3, 1],\n",
        "              [1, 2]])\n",
        "\n",
        "b = np.array([9, 8])\n",
        "x = np.linalg.solve(a, b)\n",
        "x"
      ],
      "execution_count": null,
      "outputs": [
        {
          "output_type": "execute_result",
          "data": {
            "text/plain": [
              "array([2., 3.])"
            ]
          },
          "metadata": {
            "tags": []
          },
          "execution_count": 14
        }
      ]
    },
    {
      "cell_type": "markdown",
      "metadata": {
        "id": "0j2kHuO1ZS3l"
      },
      "source": [
        "## Существование и единственность решений систем линейных уравнений"
      ]
    },
    {
      "cell_type": "markdown",
      "metadata": {
        "id": "JmSGJhHoZS3n"
      },
      "source": [
        "Как мы увидели на примерах реализации метода Гаусса, система линейных уравнений может иметь единственное решение, бесконечное количество решений или не иметь решений вовсе. "
      ]
    },
    {
      "cell_type": "markdown",
      "metadata": {
        "id": "irHl4oOkZS3q"
      },
      "source": [
        "Система, не имеющая решений, называется _несовместной_. Соответственно, если система имеет хотя бы одно решение, она называется _совместной_. При этом, если это решение единственное, она называется _определенной_, а если решений больше одного — _неопределенной_."
      ]
    },
    {
      "cell_type": "markdown",
      "metadata": {
        "id": "lslyz5DJZS3s"
      },
      "source": [
        "Теоретическое решение системы из $n$ уравнений с $n$ переменными $Ax=b$ дается формулой \n",
        "\n",
        "$$x=A^{-1}b,$$\n",
        "\n",
        "где $A^{-1}$ — матрица, обратная к $A$. Как известно, $A^{-1}$ существует только в том случае, когда матрица $A$ невырождена, то есть ее определитель $|A|\\neq0$."
      ]
    },
    {
      "cell_type": "markdown",
      "metadata": {
        "id": "KtR-mwgYZS3t"
      },
      "source": [
        "Кроме матричного вида, показанного выше, систему линейных уравнений также можно представить через линейную комбинацию векторов коэффициентов:\n",
        "\n",
        "$$x_{1}\\begin{pmatrix}\n",
        "a_{11}\\\\ \n",
        "a_{21}\\\\ \n",
        "...\\\\ \n",
        "a_{m1}\n",
        "\\end{pmatrix}+\n",
        "x_{2}\\begin{pmatrix}\n",
        "a_{12}\\\\ \n",
        "a_{22}\\\\ \n",
        "...\\\\ \n",
        "a_{m2}\n",
        "\\end{pmatrix}+\n",
        "...+\n",
        "x_{n}\\begin{pmatrix}\n",
        "a_{1n}\\\\ \n",
        "a_{2n}\\\\ \n",
        "...\\\\ \n",
        "a_{mn}\n",
        "\\end{pmatrix}=\n",
        "\\begin{pmatrix}\n",
        "b_{1}\\\\ \n",
        "b_{2}\\\\ \n",
        "...\\\\ \n",
        "b_{m}\n",
        "\\end{pmatrix}.$$"
      ]
    },
    {
      "cell_type": "markdown",
      "metadata": {
        "id": "brcMqD9yZS3v"
      },
      "source": [
        "В таком представлении вектор свободных членов $b$ является линейной комбинацией векторов $a_{1},a_{2},...,a_{m}$ с коэффициентами $x_{1},x_{2},...,x_{n}$."
      ]
    },
    {
      "cell_type": "markdown",
      "metadata": {
        "id": "Vc9R654CZS3w"
      },
      "source": [
        "В этом случае совместность и несовместность системы удобно определять, анализируя векторы коэффициентов $a$ и вектор свободных членов $b$."
      ]
    },
    {
      "cell_type": "markdown",
      "metadata": {
        "id": "NrsLC8VdZS3y"
      },
      "source": [
        "Так, векторами коэффициентов $a_{1},a_{2},...,a_{m}$ будет образовано некоторое линейное подпространство. Если вектор $b$ этому подпространству не принадлежит, то система несовместна.\n",
        "\n",
        "Если вектор $b$ принадлежит образованному линейному подпространству, то система точно совместна. Она будет иметь единственное решение в том случае, когда размерность этого линейного пространства будет совпадать с количеством $m$ векторов (с количеством неизвестных). Это будет означать, что векторы $a_{1},a_{2},...,a_{m}$ будут образовывать в этом пространстве базис, и вектор $b$ по нему можно разложить единственным образом. В противном случае система будет иметь бесконечное число решений."
      ]
    },
    {
      "cell_type": "markdown",
      "metadata": {
        "id": "7Myuvx4TZS30"
      },
      "source": [
        "Для прояснения этого принципа рассмотрим несколько примеров"
      ]
    },
    {
      "cell_type": "markdown",
      "metadata": {
        "id": "AgFPI4jpZS32"
      },
      "source": [
        "#### 1. Число уравнений равно числу неизвестных"
      ]
    },
    {
      "cell_type": "markdown",
      "metadata": {
        "id": "-BZFoDyKZS35"
      },
      "source": [
        "Рассмотрим пример простой системы:\n",
        "\n",
        "$$\\begin{cases}\n",
        "x_{1}+x_{2}=3, \\\\\n",
        "2x_{1}+3x_{2}=8. \\\\\n",
        "\\end{cases}$$"
      ]
    },
    {
      "cell_type": "markdown",
      "metadata": {
        "id": "dW8pb5PLZS3-"
      },
      "source": [
        "Такая система будет иметь решение $x_{1}=1, x_{2}=2$, причем оно будет являться единственным."
      ]
    },
    {
      "cell_type": "markdown",
      "metadata": {
        "id": "AMd9j5ioZS4A"
      },
      "source": [
        "Перепишем эту систему в векторном виде:\n",
        "\n",
        "$$x_{1}\\begin{pmatrix}\n",
        "1\\\\ \n",
        "2\n",
        "\\end{pmatrix}+\n",
        "x_{2}\\begin{pmatrix}\n",
        "1\\\\ \n",
        "3\n",
        "\\end{pmatrix}=\n",
        "\\begin{pmatrix}\n",
        "3\\\\ \n",
        "8\n",
        "\\end{pmatrix} \\Leftrightarrow x_{1}a_{1}+x_{2}a_{2}=b$$"
      ]
    },
    {
      "cell_type": "markdown",
      "metadata": {
        "id": "-wsmOpynZS4B"
      },
      "source": [
        "Если представить эту ситуацию на плоскости (см. рис. 1), то мы поймем, что вектор \n",
        "\n",
        "$$b=\n",
        "\\begin{pmatrix}\n",
        "3\\\\ \n",
        "8\n",
        "\\end{pmatrix}$$\n",
        "\n",
        "легко можно представить в виде суммы векторов \n",
        "\n",
        "$$a_{1}=\\begin{pmatrix}\n",
        "1\\\\ \n",
        "2\n",
        "\\end{pmatrix}, a_{2}=\n",
        "\\begin{pmatrix}\n",
        "1\\\\ \n",
        "3\n",
        "\\end{pmatrix},$$\n",
        "\n",
        "домноженных на некоторые коэффициенты (в данном случае на 1 и 2 соответственно), причем, как мы помним, два линейно независимых вектора в двумерном пространстве образуют базис, и любой вектор в этом пространстве можно выразить через линейную комбинацию элементов единственным образом, что объясняет единственность решения системы."
      ]
    },
    {
      "cell_type": "code",
      "metadata": {
        "id": "9t0ApIHoZS4F"
      },
      "source": [
        "# запустите последовательно код в ячейках,чтобы отобразить иллюстрации\n",
        "import matplotlib.pyplot as plt"
      ],
      "execution_count": null,
      "outputs": []
    },
    {
      "cell_type": "code",
      "metadata": {
        "id": "AmLg63NsZS4N",
        "colab": {
          "base_uri": "https://localhost:8080/",
          "height": 269
        },
        "outputId": "db8360af-77d1-4ac8-d359-f41ebe1858d0"
      },
      "source": [
        "fig = plt.figure()\n",
        "ax = fig.add_subplot(1,1,1)\n",
        "\n",
        "ax.spines['left'].set_position('zero')\n",
        "ax.spines['bottom'].set_position('zero')\n",
        "\n",
        "ax.spines['right'].set_color('none')\n",
        "ax.spines['top'].set_color('none')\n",
        "\n",
        "plt.axis('scaled')\n",
        "plt.xlim(0, 4)\n",
        "plt.ylim(0, 4)\n",
        "\n",
        "ax.arrow(0, 0, 0.5, 2, head_width=0.15, head_length=0.2, length_includes_head=True, facecolor='black')\n",
        "ax.arrow(0, 0, 2, 0.5, head_width=0.15, head_length=0.2, length_includes_head=True, facecolor='black')\n",
        "ax.arrow(0, 0, 4, 2, head_width=0.15, head_length=0.2, length_includes_head=True, facecolor='black')\n",
        "\n",
        "ax.annotate(\"a1\", xy=(1.8, 0.6))\n",
        "ax.annotate(\"a2\", xy=(0.6, 1.8))\n",
        "ax.annotate(\"b\", xy=(3.8, 1.6))\n",
        "\n",
        "\n",
        "plt.show()"
      ],
      "execution_count": null,
      "outputs": [
        {
          "output_type": "display_data",
          "data": {
            "image/png": "[encoded data removed]",
            "text/plain": [
              "<Figure size 432x288 with 1 Axes>"
            ]
          },
          "metadata": {
            "tags": [],
            "needs_background": "light"
          }
        }
      ]
    },
    {
      "cell_type": "markdown",
      "metadata": {
        "id": "MyAyrohnZS4Y"
      },
      "source": [
        "$$Рис. 1$$"
      ]
    },
    {
      "cell_type": "markdown",
      "metadata": {
        "id": "lYX1mS8PZS4Z"
      },
      "source": [
        "Перенесем сделанные выводы на общий случай для системы с равным количеством уравнений и неизвестных ($n=m$):\n",
        "\n",
        "$$x_{1}\\begin{pmatrix}\n",
        "a_{11}\\\\ \n",
        "a_{21}\\\\ \n",
        "...\\\\ \n",
        "a_{n1}\n",
        "\\end{pmatrix}+\n",
        "x_{2}\\begin{pmatrix}\n",
        "a_{12}\\\\ \n",
        "a_{22}\\\\ \n",
        "...\\\\ \n",
        "a_{n2}\n",
        "\\end{pmatrix}+\n",
        "...+\n",
        "x_{n}\\begin{pmatrix}\n",
        "a_{1n}\\\\ \n",
        "a_{2n}\\\\ \n",
        "...\\\\ \n",
        "a_{nn}\n",
        "\\end{pmatrix}=\n",
        "\\begin{pmatrix}\n",
        "b_{1}\\\\ \n",
        "b_{2}\\\\ \n",
        "...\\\\ \n",
        "b_{n}\n",
        "\\end{pmatrix} \\Leftrightarrow a_{1}x_{1}+a_{2}x_{2}+...+a_{n}x_{n}=b.$$"
      ]
    },
    {
      "cell_type": "markdown",
      "metadata": {
        "id": "S2O-UinFZS4a"
      },
      "source": [
        "Решение этой системы можно трактовать как коэффициенты разложения вектора $b$ по векторам $a_{1},a_{2},...,a_{n}$. В случае, если они линейно независимы, они будут образовывать в данном $n$-мерном пространстве базис, а значит, любой элемент пространства мы можем разложить по этому базису с коэффициентами $x_{1},x_{2},...,x_{n}$ единственным образом.\n",
        "\n",
        "_Таким образом, в случае, __когда число уравнений равно числу неизвестных__ и матрица коэффициентов невырождена, если векторы столбцов коэффициентов $a_{1},a_{2},...,a_{n}$ линейно независимы, то такая система совместна, и ее решение единственно при любом векторе свободных членов $b$._ "
      ]
    },
    {
      "cell_type": "markdown",
      "metadata": {
        "id": "pXHIAkNGZS4b"
      },
      "source": [
        "Теперь рассмотрим систему, где векторы коэффициентов $a_{1}$ и $a_{2}$ будут линейно зависимы:\n",
        "\n",
        "$$\\begin{cases}\n",
        "x_{1}+2x_{2}=b_{1}, \\\\\n",
        "2x_{1}+4x_{2}=b_{2}.\n",
        "\\end{cases}$$"
      ]
    },
    {
      "cell_type": "markdown",
      "metadata": {
        "id": "peUGQxvqZS4e"
      },
      "source": [
        "С геометрической точки зрения в двумерном пространстве это означает, что два вектора\n",
        "\n",
        "$$a_{1}=\\begin{pmatrix}\n",
        "1\\\\ \n",
        "2\n",
        "\\end{pmatrix}, a_{2}=\n",
        "\\begin{pmatrix}\n",
        "2\\\\ \n",
        "4\n",
        "\\end{pmatrix}$$\n",
        "\n",
        "лежат на одной прямой, то есть принадлежат некоторому одномерному линейному подпространству исходного двумерного пространства (см. рис. 2).\n",
        "\n",
        "В этой ситуации возможны два случая. Если вектор свободных членов $b$ не лежит на этой прямой (не принадлежит этому подпространству), значит, мы никак не можем разложить его по векторам $a_{1}$ и $a_{2}$. Это означает, что такая система решений не имеет.\n",
        "\n",
        "Если же вектор $b$ лежит на этой прямой, мы уже можем разложить его по векторам $a_{1}$ и $a_{2}$, причем бесконечным количеством способов: так как базисом в данном одномерном подпространстве может быть любой из векторов $a_{1}$ и $a_{2}$, мы можем один из них перенести в правую часть уравнения и, например, однозначно разложить по базису $a_{1}$ любой вектор из правой части вида $b-x_{2}a_{2}$. Но так как $x_{2}$ мы можем выбрать бесконечным количеством способов, и сама система будет иметь бесконечное количество решений."
      ]
    },
    {
      "cell_type": "code",
      "metadata": {
        "id": "Voj7ho7_ZS4f",
        "colab": {
          "base_uri": "https://localhost:8080/",
          "height": 521
        },
        "outputId": "44ed3bef-8126-4977-cc27-e82e1a6003fc"
      },
      "source": [
        "fig = plt.figure()\n",
        "ax = fig.add_subplot(1,1,1)\n",
        "\n",
        "ax.spines['left'].set_position('zero')\n",
        "ax.spines['bottom'].set_position('zero')\n",
        "\n",
        "ax.spines['right'].set_color('none')\n",
        "ax.spines['top'].set_color('none')\n",
        "\n",
        "plt.axis('scaled')\n",
        "plt.xlim(0, 4)\n",
        "plt.ylim(0, 4)\n",
        "\n",
        "ax.arrow(0, 0, 0.5, 2, head_width=0.15, head_length=0.2, length_includes_head=True, facecolor='black')\n",
        "ax.arrow(0, 0, 0.75, 3, head_width=0.15, head_length=0.2, length_includes_head=True, facecolor='black')\n",
        "ax.arrow(0, 0, 4, 2, head_width=0.15, head_length=0.2, length_includes_head=True, facecolor='black')\n",
        "\n",
        "ax.annotate(\"a1\", xy=(0.8, 2.8))\n",
        "ax.annotate(\"a2\", xy=(0.6, 1.8))\n",
        "ax.annotate(\"b\", xy=(3.8, 1.6))\n",
        "\n",
        "fig2 = plt.figure()\n",
        "ax2 = fig2.add_subplot(1,1,1)\n",
        "\n",
        "ax2.spines['left'].set_position('zero')\n",
        "ax2.spines['bottom'].set_position('zero')\n",
        "\n",
        "ax2.spines['right'].set_color('none')\n",
        "ax2.spines['top'].set_color('none')\n",
        "\n",
        "plt.axis('scaled')\n",
        "plt.xlim(0, 4)\n",
        "plt.ylim(0, 4)\n",
        "\n",
        "ax2.arrow(0, 0, 0.4, 2, head_width=0.15, head_length=0.2, length_includes_head=True, facecolor='black')\n",
        "ax2.arrow(0, 0, 0.6, 3, head_width=0.15, head_length=0.2, length_includes_head=True, facecolor='black')\n",
        "ax2.arrow(0, 0, 0.8, 4, head_width=0.15, head_length=0.2, length_includes_head=True, facecolor='black')\n",
        "\n",
        "ax2.annotate(\"a1\", xy=(0.8, 2.8))\n",
        "ax2.annotate(\"a2\", xy=(0.6, 1.8))\n",
        "ax2.annotate(\"b\", xy=(1, 3.8))\n",
        "\n",
        "\n",
        "plt.show()"
      ],
      "execution_count": null,
      "outputs": [
        {
          "output_type": "display_data",
          "data": {
            "image/png": "[encoded data removed]",
            "text/plain": [
              "<Figure size 432x288 with 1 Axes>"
            ]
          },
          "metadata": {
            "tags": [],
            "needs_background": "light"
          }
        },
        {
          "output_type": "display_data",
          "data": {
            "image/png": "[encoded data removed]",
            "text/plain": [
              "<Figure size 432x288 with 1 Axes>"
            ]
          },
          "metadata": {
            "tags": [],
            "needs_background": "light"
          }
        }
      ]
    },
    {
      "cell_type": "markdown",
      "metadata": {
        "id": "MJ5FMxZ7ZS4o"
      },
      "source": [
        "$$Рис. 2$$"
      ]
    },
    {
      "cell_type": "markdown",
      "metadata": {
        "id": "i47F5RKNZS4p"
      },
      "source": [
        "В общем случае это означает, что _когда векторы столбцов коэффициентов $a_{1},a_{2},...,a_{n}$ линейно зависимы, они образуют некоторое линейное подпространство размерности меньше, чем $n$, и такая система совместна только в случае, когда вектор $b$ принадлежит этому линейному подпространству. В этом случае система имеет бесконечное число решений. Если же вектор $b$ этому подпространству не принадлежит, система решений не имеет._"
      ]
    },
    {
      "cell_type": "markdown",
      "metadata": {
        "id": "oy6BOZK_ZS4q"
      },
      "source": [
        "__Пример__\n",
        "\n",
        "Выясним, будет ли совместной следующая система:\n",
        "\n",
        "$$\\begin{cases}\n",
        "x_{1}+2x_{2}=5, \\\\\n",
        "2x_{1}+4x_{2}=6.\n",
        "\\end{cases}$$"
      ]
    },
    {
      "cell_type": "markdown",
      "metadata": {
        "id": "kwEvpF-dZS4r"
      },
      "source": [
        "Векторы коэффициентов линейно зависимы, и вектор свободных членов не принадлежит одномерному подпространству, которое они образуют.\n",
        "\n",
        "Решим систему методом Гаусса:\n",
        "\n",
        "$$\\begin{pmatrix}\n",
        "\\left.\\begin{matrix}\n",
        "1 & 2  \\\\ \n",
        "2 & 4\n",
        "\\end{matrix}\\right|\n",
        "\\begin{matrix}\n",
        "5\\\\ \n",
        "6\n",
        "\\end{matrix}\n",
        "\\end{pmatrix},$$\n",
        "\n",
        "вычтем из второй строки первую, умноженную на 2:\n",
        "\n",
        "$$\\begin{pmatrix}\n",
        "\\left.\\begin{matrix}\n",
        "1 & 2  \\\\ \n",
        "0 & 0\n",
        "\\end{matrix}\\right|\n",
        "\\begin{matrix}\n",
        "5\\\\ \n",
        "-4\n",
        "\\end{matrix}\n",
        "\\end{pmatrix}.$$\n",
        "\n",
        "Действительно, такая система несовместна."
      ]
    },
    {
      "cell_type": "markdown",
      "metadata": {
        "id": "BvpvExmeZS4t"
      },
      "source": [
        "#### 2. Число уравнений меньше числа неизвестных"
      ]
    },
    {
      "cell_type": "markdown",
      "metadata": {
        "id": "dbHHnsVvZS4u"
      },
      "source": [
        "Системы уравнений, в которых число уравнений меньше числа неизвестных, называются _недоопределенными_."
      ]
    },
    {
      "cell_type": "markdown",
      "metadata": {
        "id": "uyKdokTSZS4v"
      },
      "source": [
        "Рассмотрим систему\n",
        "\n",
        "$$\\begin{cases}\n",
        "x_{1}+2x_{2}+4x_{3}=1, \\\\\n",
        "2x_{1}+3x_{2}+7x_{3}=9. \\\\\n",
        "\\end{cases}$$"
      ]
    },
    {
      "cell_type": "markdown",
      "metadata": {
        "id": "ff3uUc5cZS4w"
      },
      "source": [
        "В двумерном пространстве любая пара векторов\n",
        "\n",
        "$$a_{1}=\\begin{pmatrix}\n",
        "1\\\\ \n",
        "2\n",
        "\\end{pmatrix}, a_{2}=\n",
        "\\begin{pmatrix}\n",
        "2\\\\ \n",
        "3\n",
        "\\end{pmatrix}, a_{3}=\n",
        "\\begin{pmatrix}\n",
        "4\\\\ \n",
        "7\n",
        "\\end{pmatrix}$$\n",
        "\n",
        "может образовать базис, по которому получится единственным образом разложить любой вектор. В частности, перенося $a_{3}x_{3}$ в правую часть уравнения вида $a_{1}x_{1}+a_{2}x_{2}+a_{3}x_{3}=b$, мы сможем однозначно разложить получившийся справа вектор $b-a_{3}x_{3}$ и получить тождество, но так как $x_{3}$ может принимать бесконечное количество значений, и _решений системы также будет бесконечное количество_, то есть здесь будет формироваться _фундаментальная система решений_ (с этим термином вы познакомитесь на следующем уроке). Это же будет работать и тогда, когда любые два вектора из $a_{1},a_{2}, a_{3}$ будут линейно зависимыми."
      ]
    },
    {
      "cell_type": "markdown",
      "metadata": {
        "id": "LDjdOYW3ZS42"
      },
      "source": [
        "В системе же, в которой векторы коэффициентов линейно зависимы:\n",
        "\n",
        "$$\\begin{cases}\n",
        "x_{1}+2x_{2}+3x_{3}=b_{1}, \\\\\n",
        "2x_{1}+4x_{2}+6x_{3}=b_{2}, \\\\\n",
        "\\end{cases}$$\n",
        "\n",
        "то есть принадлежат одному и тому же одномерному линейному подпространству, как и в случае с равным количеством уравнений и переменных, _система будет совместна только тогда, когда вектор свободных членов будет принадлежать этому подпространству. В этом случае система будет иметь бесконечное количество решений. В противном случае система будет несовместна_. "
      ]
    },
    {
      "cell_type": "markdown",
      "metadata": {
        "id": "Zs8s0xtZZS43"
      },
      "source": [
        "#### 3. Число уравнений больше числа неизвестных"
      ]
    },
    {
      "cell_type": "markdown",
      "metadata": {
        "id": "W5m4ugpbZS46"
      },
      "source": [
        "Начнем с примера, когда векторы столбцов коэффициентов линейно независимы:\n",
        "\n",
        "$$\\begin{cases}\n",
        "x_{1}+2x_{2}=b_{1}, \\\\\n",
        "2x_{1}+4x_{2}=b_{2}, \\\\\n",
        "3x_{1}+7x_{2}=b_{3}.\n",
        "\\end{cases}$$"
      ]
    },
    {
      "cell_type": "markdown",
      "metadata": {
        "id": "L14MgNzeZS47"
      },
      "source": [
        "В этой ситуации перед нами стоит задача разложить трехмерный вектор $b=\\begin{pmatrix}\n",
        "b_{1}\\\\ \n",
        "b_{2}\\\\\n",
        "b_{3}\n",
        "\\end{pmatrix}$ по двум векторам: $a_{1}=\\begin{pmatrix}\n",
        "1\\\\ \n",
        "2\\\\\n",
        "3\n",
        "\\end{pmatrix}, a_{2}=\\begin{pmatrix}\n",
        "2\\\\ \n",
        "4\\\\\n",
        "7\n",
        "\\end{pmatrix}$."
      ]
    },
    {
      "cell_type": "markdown",
      "metadata": {
        "id": "BwoGa5qlZS49"
      },
      "source": [
        "_Это будет возможно только в том случае, если вектор свободных членов $b$ будет принадлежать линейному подпространству, образованному векторами $a_{1}$ и $a_{2}$, то есть (в данном частном случае) лежать с ними в одной плоскости. В этом случае система будет иметь единственное решение, которым будут являться коэффициенты разложения вектора $b$ по базису из $a_{1}$ и $a_{2}$ в этой плоскости. Если же $b$ не будет принадлежать образованному векторами столбцов коэффициентов линейному подпространству, система будет несовместна_."
      ]
    },
    {
      "cell_type": "markdown",
      "metadata": {
        "id": "Ufusvr0vZS4_"
      },
      "source": [
        "Когда векторы столбцов коэффициентов линейно зависимы, \n",
        "\n",
        "$$\\begin{cases}\n",
        "x_{1}+2x_{2}=b_{1}, \\\\\n",
        "2x_{1}+4x_{2}=b_{2}, \\\\\n",
        "3x_{1}+6x_{2}=b_{3}, \n",
        "\\end{cases}$$\n",
        "\n",
        "векторы коэффициентов будут лежать на одной прямой, и, как и в двух предыдущих случаях, _система будет совместна только тогда, когда вектор свободных членов будет также лежать на этой прямой. Система будет иметь бесконечное количество решений. Если вектор $b$ не будет принадлежать образованному одномерному линейному подпространству, решений система иметь не будет_."
      ]
    },
    {
      "cell_type": "markdown",
      "metadata": {
        "id": "PWG3zudjZS5C"
      },
      "source": [
        "## Теорема Кронекера — Капелли"
      ]
    },
    {
      "cell_type": "markdown",
      "metadata": {
        "id": "ECgdrSZiZS5H"
      },
      "source": [
        "Вернемся к матричному виду систем линейных уравнений \n",
        "\n",
        "$$Ax=b.$$"
      ]
    },
    {
      "cell_type": "markdown",
      "metadata": {
        "id": "VRbUdVbrZS5J"
      },
      "source": [
        "__Теорема__ \n",
        "\n",
        "Необходимым и достаточным условием совместности системы из $m$ уравнений с $n$ неизвестными является равенство между собой рангов матрицы коэффициентов $A$ и расширенной матрицы $\\tilde A$\n",
        "\n",
        "$$rank A=rank \\tilde A.$$"
      ]
    },
    {
      "cell_type": "markdown",
      "metadata": {
        "id": "5BcIUSGNZS5K"
      },
      "source": [
        "Причем:<br>\n",
        "1) если $rankA=rank \\tilde A=n$, где $n$ — число неизвестных, то система определена, т. е. имеет единственное решение;<br>\n",
        "2) если $rankA=rank \\tilde A<n$, то система имеет бесконечное количество решений;<br>\n",
        "3) если $rankA<rank \\tilde A$, то система несовместна."
      ]
    },
    {
      "cell_type": "markdown",
      "metadata": {
        "id": "qprHkBztZS5L"
      },
      "source": [
        "__Пример__\n",
        "\n",
        "Проверить на совместность и выяснить, сколько решений будет иметь система линейных уравнений, заданная расширенной матрицей\n",
        "\n",
        "$$\\tilde{A}=\\begin{pmatrix}\n",
        "\\left.\\begin{matrix}\n",
        "1 & 2 & 3 & 4\\\\ \n",
        "0 & 5 & 6 & 7\\\\ \n",
        "0 & 0 & 8 & 9\\\\ \n",
        "0 & 0 & 0 & 0\n",
        "\\end{matrix}\\right|\n",
        "\\begin{matrix}\n",
        "1\\\\ \n",
        "2\\\\\n",
        "3\\\\\n",
        "a\n",
        "\\end{matrix}\n",
        "\\end{pmatrix}$$\n",
        "\n",
        "при различных значениях параметра $a$."
      ]
    },
    {
      "cell_type": "markdown",
      "metadata": {
        "id": "0CtRvxH_ZS5M"
      },
      "source": [
        "__Решение__\n",
        "\n",
        "Если $a\\neq 0$, то $rank \\tilde A=4$, в то время как $rank A=3$. Это означает, что система в этом случае несовместна.\n",
        "\n",
        "Если $a=0$, тогда $rank A=rank \\tilde A=3$, что меньше количества неизвестных $m=4$. В этом случае система имеет бесконечное множество решений, и одна из неизвестных должна рассматриваться как свободный параметр, при любых значениях которого система будет иметь решение."
      ]
    },
    {
      "cell_type": "markdown",
      "metadata": {
        "id": "J2D422I0ZS5N"
      },
      "source": [
        "## Практическое задание"
      ]
    },
    {
      "cell_type": "markdown",
      "metadata": {
        "id": "cTVfl123ZS5O"
      },
      "source": [
        "__1.__ Решить систему уравнений методом Гаусса:\n",
        "\n",
        "$$\\begin{cases}\n",
        "x_{1}+x_{2}-x_{3}-2x_{4}=0, \\\\\n",
        "2x_{1}+x_{2}-x_{3}+x_{4}=-2, \\\\\n",
        "x_{1}+x_{2}-3x_{3}+x_{4}=4.\n",
        "\\end{cases}$$\n",
        "\n",
        "__2.__ Проверить на совместность и выяснить, сколько решений будет иметь система линейных уравнений:\n",
        "\n",
        "   а) $\\begin{cases}\n",
        "3x_{1}-x_{2}+x_{3}=4, \\\\\n",
        "2x_{1}-5x_{2}-3x_{3}=-17, \\\\\n",
        "x_{1}+x_{2}-x_{3}=0;\n",
        "\\end{cases}$\n",
        "    \n",
        "   б) $\\begin{cases}\n",
        "2x_{1}-4x_{2}+6x_{3}=1, \\\\\n",
        "x_{1}-2x_{2}+3x_{3}=-2, \\\\\n",
        "3x_{1}-6x_{2}+9x_{3}=5;\n",
        "\\end{cases}$\n",
        "    \n",
        "   в) $\\begin{cases}\n",
        "x_{1}+2x_{2}+5x_{3}=4, \\\\\n",
        "3x_{1}+x_{2}-8x_{3}=-2. \n",
        "\\end{cases}$\n",
        "\n",
        "\n",
        "__3.__ Проверить на совместность и выяснить, сколько решений будет иметь система линейных уравнений, заданная расширенной матрицей\n",
        "\n",
        "$$\\tilde{A}=\\begin{pmatrix}\n",
        "\\left.\\begin{matrix}\n",
        "1 & 3 & -2 & 4\\\\ \n",
        "0 & 5 & 0 & 1\\\\ \n",
        "0 & 0 & 3 & 0\\\\ \n",
        "0 & 0 & 0 & 2\n",
        "\\end{matrix}\\right|\n",
        "\\begin{matrix}\n",
        "3\\\\ \n",
        "2\\\\\n",
        "4\\\\\n",
        "1\n",
        "\\end{matrix}\n",
        "\\end{pmatrix}.$$\n",
        "\n",
        "__4.__ Дана система линейных уравнений, заданная расширенной матрицей\n",
        "\n",
        "$$\\tilde{A}=\\begin{pmatrix}\n",
        "\\left.\\begin{matrix}\n",
        "1 & 2 & 3\\\\ \n",
        "4 & 5 & 6\\\\ \n",
        "7 & 8 & 9\n",
        "\\end{matrix}\\right|\n",
        "\\begin{matrix}\n",
        "a\\\\ \n",
        "b\\\\\n",
        "c\n",
        "\\end{matrix}\n",
        "\\end{pmatrix}.$$\n",
        "\n",
        "Найти соотношение между параметрами $a$, $b$ и $c$, при которых система является несовместной."
      ]
    },
    {
      "cell_type": "markdown",
      "metadata": {
        "id": "KmO619H0ZS5P"
      },
      "source": [
        "## Литература"
      ]
    },
    {
      "cell_type": "markdown",
      "metadata": {
        "id": "some8H9wZS5Q"
      },
      "source": [
        "1. Ильин В. А., Позняк Э. Г. Линейная алгебра: Учеб. для вузов. — 6-е изд. — М.: Физматлит, 2005.\n",
        "\n",
        "2. Фаддеев Д. К., Фаддеева В. Н. Вычислительные методы линейной алгебры. М.: ГИФМЛ, 1960.\n",
        "\n",
        "3. Рябушко А. П., Сборник индивидуальных заданий по высшей математике. Часть 1. Минск: Вышэйшая школа, 1990."
      ]
    }
  ]
}