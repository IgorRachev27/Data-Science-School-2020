{
  "nbformat": 4,
  "nbformat_minor": 0,
  "metadata": {
    "colab": {
      "name": "HW_8_lesson.ipynb",
      "provenance": [],
      "collapsed_sections": []
    },
    "kernelspec": {
      "name": "python3",
      "display_name": "Python 3"
    }
  },
  "cells": [
    {
      "cell_type": "markdown",
      "metadata": {
        "id": "EXNSbmw6XLxd"
      },
      "source": [
        "# Домашнее задание к 8 уроку\n",
        "\n",
        "**Дедлайн: 26.12.2020**"
      ]
    },
    {
      "cell_type": "markdown",
      "metadata": {
        "id": "W_0KSzEQYPKp"
      },
      "source": [
        "HW in colab: https://colab.research.google.com/drive/1RKW91O1ZpMuu63th7P_hj9qOsaaD3qP1?usp=sharing"
      ]
    },
    {
      "cell_type": "markdown",
      "metadata": {
        "id": "1kAn7WV4XOMZ"
      },
      "source": [
        "**ФОРМАТ ОТЧЕТНОСТИ:** pdf-файл с решенными задачами или же ноутбук с решенными задачи на языке Markdown."
      ]
    },
    {
      "cell_type": "markdown",
      "metadata": {
        "id": "PllPM_9rLzSh"
      },
      "source": [
        "# Часть 1. СЛАУ"
      ]
    },
    {
      "cell_type": "markdown",
      "metadata": {
        "id": "GSL00ab2HVDc"
      },
      "source": [
        "__1.__ Решить систему уравнений методом Гаусса:\n",
        "\n",
        "$$\\begin{cases}\n",
        "x_{1}+x_{2}-x_{3}-2x_{4}=0, \\\\\n",
        "2x_{1}+x_{2}-x_{3}+x_{4}=-2, \\\\\n",
        "x_{1}+x_{2}-3x_{3}+x_{4}=4.\n",
        "\\end{cases}$$\n",
        "\n",
        "__2.__ Проверить на совместность и выяснить, сколько решений будет иметь система линейных уравнений:\n",
        "\n",
        "   а) $\\begin{cases}\n",
        "3x_{1}-x_{2}+x_{3}=4, \\\\\n",
        "2x_{1}-5x_{2}-3x_{3}=-17, \\\\\n",
        "x_{1}+x_{2}-x_{3}=0;\n",
        "\\end{cases}$\n",
        "    \n",
        "   б) $\\begin{cases}\n",
        "2x_{1}-4x_{2}+6x_{3}=1, \\\\\n",
        "x_{1}-2x_{2}+3x_{3}=-2, \\\\\n",
        "3x_{1}-6x_{2}+9x_{3}=5;\n",
        "\\end{cases}$\n",
        "    \n",
        "   в) $\\begin{cases}\n",
        "x_{1}+2x_{2}+5x_{3}=4, \\\\\n",
        "3x_{1}+x_{2}-8x_{3}=-2. \n",
        "\\end{cases}$"
      ]
    },
    {
      "cell_type": "markdown",
      "metadata": {
        "id": "GABKcHcfL3sC"
      },
      "source": [
        "# Часть 2. Дифференцируемость функций"
      ]
    },
    {
      "cell_type": "markdown",
      "metadata": {
        "id": "d8AAGigdHVGZ"
      },
      "source": [
        "Прочитайте краткую статью-обзор про **функции активации** в нейронных сетях. Дальше в курсе мы еще с Вами об этом поговорим, а сейчас достаточно знать какие функции активации нейронов существуют и определять дифференцируемы они или нет.\n",
        "\n",
        "Прочитайте следющие статьи:\n",
        "- https://www.machinelearningmastery.ru/complete-guide-of-activation-functions-34076e95d044/\n",
        "- https://missinglink.ai/guides/neural-network-concepts/7-types-neural-network-activation-functions-right/\n",
        "\n",
        "и выполните следующие задачи:"
      ]
    },
    {
      "cell_type": "markdown",
      "metadata": {
        "id": "yuSNlofZXAL3"
      },
      "source": [
        "## Задания"
      ]
    },
    {
      "cell_type": "markdown",
      "metadata": {
        "id": "g17tNv9WLx0n"
      },
      "source": [
        "**1.** Для чего необходимо определять дифференцируемость/недефференцируемость функций активации в сетях?"
      ]
    },
    {
      "cell_type": "markdown",
      "metadata": {
        "id": "OxYiiJhGMErP"
      },
      "source": [
        "**2.** Даны 1-6. Вычислите следующие характеристики:\n",
        "\n",
        "- производную функции\n",
        "- область значений\n",
        "- монотонность (монотонная или нет)\n",
        "\n",
        "1. **Identity.** $f(x)=x$\n",
        "2. **Binary step/Единичная ступенька**. $f(x)=\\left\\{\\begin{array}{ll}0 & x<0 \\\\ 1 & x \\geqslant 0\\end{array}\\right.$\n",
        "3. **Hyperbolic tangent/Гиперболический тангенс**. $f(x)=\\operatorname{th}(x)=\\frac{\\left(e^{x}-e^{-x}\\right)}{\\left(e^{x}+e^{-x}\\right)}$\n",
        "4. **ReLU**. $f(x)=\\left\\{\\begin{array}{ll}0 & x<0 \\\\ x & x \\geqslant 0\\end{array}\\right.$\n",
        "5. **Softplus**. $f(x)=\\ln \\left(1+e^{x}\\right)$\n",
        "6. **Синусоида**. $f(x)=\\sin (x)$\n",
        "\n",
        "Если функция дифференцируема на интервале  (a,b) и принадлежит к одному из четырехтипов (т.е. является возрастающей, строго возрастающей, убывающей или строго убывающей), то такая функция называется **монотонной** на данном интервале. \n",
        "<img src=\"https://github.com/ddvika/Data-Science-School-2020/blob/main/lecture_8/imgs/graphs.png?raw=true\" height=400 />"
      ]
    },
    {
      "cell_type": "markdown",
      "metadata": {
        "id": "fKHN1URvMcdb"
      },
      "source": [
        "Пример:\n",
        "\n",
        " **0**. Дана функция **Softsign:** $f(x)=\\frac{x}{1+|x|}$\n",
        "\n",
        " 1. Производная функции:\n",
        " $f'(x)=(\\frac{x}{1+|x|})' $\n",
        "\n",
        "- Воспользуемся правилом нахождения производной от частного: \n",
        "\n",
        "\n",
        "$$\\frac{d}{d x}\\left(\\frac{u}{v}\\right)=\\frac{v \\frac{d u}{d x}-u \\frac{d v}{d x}}{v^{2}}$$\n",
        "Где $u = x$ и $ v = |x| + 1$.\n",
        "\n",
        "Следовательно, в нашем случае имеем:\n",
        "\n",
        "$\\frac{d}{d x}\\left(\\frac{x}{1+|x|}\\right)= \\frac{(1+|x|)\\left(\\frac{d}{d x}(x)\\right)-x\\left(\\frac{d}{d x}(1+|x|)\\right)}{(1+|x|)^{2}}= \\frac{1+|x|-x\\left(\\frac{d}{d x}(1+|x|)\\right)}{(1+|x|)^{2}}=\\frac{1+|x|-x\\left(\\frac{d}{d x}(|x|)+0\\right)}{(1+|x|)^{2}} = $\n",
        "\n",
        "- Запишем $\\frac{d}{d x}(|x|)$ след. образом  $\\frac{d}{d x}(|x|)=\\frac{d|u|}{d u} \\frac{d u}{d x}$, где $u=x$, $\\frac{d}{d u}(|u|)=\\frac{u}{|u|}$\n",
        "\n",
        "$= \\frac{1+|x|-\\frac{x\\left(\\frac{d}{d x}(x)\\right)}{|x|}}{(1+|x|)^{2}}= \\frac{1+|x|-\\frac{x^{2}\\left(\\frac{d}{d x}(x)\\right)}{|x|}}{(1+|x|)^{2}}= \\frac{1+|x|-1 \\mid \\frac{x^{2}}{|x|}}{(1+|x|)^{2}}= \\frac{1}{(1+|x|)^{2}}$\n",
        "\n",
        "$$f'(x) = \\frac{1}{(1+|x|)^{2}}$$\n",
        "\n",
        "**P.S.** Находить производную можно менее подробно!\n",
        "\n",
        "2. Область значений функции:\n",
        "\n",
        "Знаменатель функции не должен быть равен 0:\n",
        "\n",
        "$|x|+1 \\neq 0 \\rightarrow x \\in R$, то есть область значений - множество всех действительных чисел. \n",
        "\n",
        "Теперь найдем множество значений:\n",
        "\n",
        "Пусть $$\\frac{x}{1+|x|} = a$$\n",
        "Решая уравнение $ \\frac{x}{1+|x|}- a =0 $, получим $E = (-1,1)$\n",
        "\n",
        "\n",
        "\n",
        "$$E = (-1,1)$$\n",
        "\n",
        "3. Определим моннотонна ли функция\n",
        "\n",
        "- построим график функции"
      ]
    },
    {
      "cell_type": "code",
      "metadata": {
        "colab": {
          "base_uri": "https://localhost:8080/",
          "height": 295
        },
        "id": "3gBae6jJUUJ3",
        "outputId": "76b36037-227c-4c7f-8df4-8003e85c4024"
      },
      "source": [
        "import numpy as np\n",
        "import matplotlib.pyplot as plt\n",
        "\n",
        "def f(x):\n",
        "    return x/(1+abs(x))\n",
        "\n",
        "a = np.arange(-100, 100)\n",
        "plt.plot(a, f(a))\n",
        "plt.title('Softsign')\n",
        "plt.xlabel('x')\n",
        "plt.ylabel('f(x)')\n",
        "plt.show()"
      ],
      "execution_count": 3,
      "outputs": [
        {
          "output_type": "display_data",
          "data": {
            "image/png": "[encoded data removed]",
            "text/plain": [
              "<Figure size 432x288 with 1 Axes>"
            ]
          },
          "metadata": {
            "tags": [],
            "needs_background": "light"
          }
        }
      ]
    },
    {
      "cell_type": "markdown",
      "metadata": {
        "id": "lZz_LHD1U7u_"
      },
      "source": [
        "**Ответ: функция монотонна**"
      ]
    },
    {
      "cell_type": "markdown",
      "metadata": {
        "id": "o060JYePVAIU"
      },
      "source": [
        "# Ваше решение тут"
      ]
    },
    {
      "cell_type": "markdown",
      "metadata": {
        "id": "2rX5sIMBXtja"
      },
      "source": [
        "\n",
        "**P.S.** Находить производну можно менее подробно чем в примере! но нахождение каждого пункта решения и отрисовка графиков обязательна (С названием графика и подписью осей как в примере!)."
      ]
    },
    {
      "cell_type": "code",
      "metadata": {
        "id": "IDs8FAL0Lpm_"
      },
      "source": [
        ""
      ],
      "execution_count": null,
      "outputs": []
    }
  ]
}