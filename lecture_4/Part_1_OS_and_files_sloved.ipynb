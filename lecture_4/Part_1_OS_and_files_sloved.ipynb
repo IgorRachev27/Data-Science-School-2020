{
  "nbformat": 4,
  "nbformat_minor": 0,
  "metadata": {
    "colab": {
      "name": "Part_1_OS_and_files_sloved.ipynb",
      "provenance": [],
      "collapsed_sections": []
    },
    "kernelspec": {
      "name": "python3",
      "display_name": "Python 3"
    }
  },
  "cells": [
    {
      "cell_type": "markdown",
      "metadata": {
        "id": "fP31_ydc7Wry"
      },
      "source": [
        "# **Занятие 4. Часть 1. Работа с ОС и файлами**\n",
        "#### 03.12.2020\n",
        "\n",
        "**Преподаватель: Виктория Дочкина**\n",
        "\n",
        "Ссылка на колаб: https://colab.research.google.com/drive/1CPpBfgw3HcKQcLhSS3jkFBUhT6avQhg_?usp=sharing"
      ]
    },
    {
      "cell_type": "markdown",
      "metadata": {
        "id": "vFiI_n9Fk93R"
      },
      "source": [
        "## План занятия\n",
        "\n",
        "- Работа с Операционной Системой (библиотека os)\n",
        "- Основы работы с файлами\n",
        "    - .txt файлы\n",
        "    - читаем docx, создаем docx\n",
        "    - формат данных json\n",
        "    - pandas: работаем с xlsx, csv\n"
      ]
    },
    {
      "cell_type": "markdown",
      "metadata": {
        "id": "-iHw6g7a-ef6"
      },
      "source": [
        "# Библиотека os\n",
        "\n",
        "Модуль **os** в Python — это библиотека функций для работы с операционной системой. "
      ]
    },
    {
      "cell_type": "markdown",
      "metadata": {
        "id": "br4abA0Z9aFM"
      },
      "source": [
        "<center><img src=\"https://github.com/ddvika/Data-Science-School-2020/blob/main/lecture_4/imgs/import-os-python-1024x843.jpg?raw=true\" width=\"350\" height=\"300\" class=\"center\"><center>"
      ]
    },
    {
      "cell_type": "markdown",
      "metadata": {
        "id": "OtSsu_QO-4Rv"
      },
      "source": [
        "Методы, включенные в неё позволяют определять тип операционной системы, получать доступ к переменным окружения, управлять директориями и файлами:\n",
        "- узнавать/менять файловую структуру, изменять переменные среды\n",
        "- проверка существования объекта по заданному пути;\n",
        "- определение размера в байтах;\n",
        "- удаление;\n",
        "- переименование и др.\n",
        "\n",
        "Программа, использующая переменные и функции модуля os, переносима с одной операционной системы на другую, так как os умеет учитывать особенности каждой ОС. "
      ]
    },
    {
      "cell_type": "markdown",
      "metadata": {
        "id": "ngrjHg3ZC3On"
      },
      "source": [
        "### **name, environ, getcwd()**"
      ]
    },
    {
      "cell_type": "markdown",
      "metadata": {
        "id": "1Rg8lERs_qIf"
      },
      "source": [
        "Чтобы узнать имя текущей ОС необходимо вызвать метод `name`"
      ]
    },
    {
      "cell_type": "code",
      "metadata": {
        "colab": {
          "base_uri": "https://localhost:8080/"
        },
        "id": "NY5KjjwD88yr",
        "outputId": "dfb19ba5-075f-43e2-b636-eaa4f269a63d"
      },
      "source": [
        "import os # Импортируем библиотеку\n",
        "\n",
        "print(os.name)"
      ],
      "execution_count": null,
      "outputs": [
        {
          "output_type": "stream",
          "text": [
            "posix\n"
          ],
          "name": "stdout"
        }
      ]
    },
    {
      "cell_type": "markdown",
      "metadata": {
        "id": "u0Q53qmf_5Wj"
      },
      "source": [
        "Получить информацию о  конфигурации компьютера, можно при помощи метода `environ`."
      ]
    },
    {
      "cell_type": "code",
      "metadata": {
        "colab": {
          "base_uri": "https://localhost:8080/"
        },
        "id": "bZ-VVlqB8818",
        "outputId": "fe50f0b6-a689-4d83-ec08-c5b13cb36e68"
      },
      "source": [
        "print(os.environ)"
      ],
      "execution_count": null,
      "outputs": [
        {
          "output_type": "stream",
          "text": [
            "environ({'NO_GCE_CHECK': 'True', 'GCS_READ_CACHE_BLOCK_SIZE_MB': '16', 'CLOUDSDK_CONFIG': '/content/.config', 'CUDA_VERSION': '10.1.243', 'PATH': '/usr/local/nvidia/bin:/usr/local/cuda/bin:/usr/local/sbin:/usr/local/bin:/usr/sbin:/usr/bin:/sbin:/bin:/tools/node/bin:/tools/google-cloud-sdk/bin:/opt/bin', 'HOME': '/root', 'LD_LIBRARY_PATH': '/usr/local/nvidia/lib:/usr/local/nvidia/lib64', 'LANG': 'en_US.UTF-8', 'SHELL': '/bin/bash', 'LIBRARY_PATH': '/usr/local/cuda/lib64/stubs', 'CUDA_PKG_VERSION': '10-1=10.1.243-1', 'SHLVL': '0', 'GCE_METADATA_TIMEOUT': '0', 'NCCL_VERSION': '2.7.8', 'NVIDIA_VISIBLE_DEVICES': 'all', 'DEBIAN_FRONTEND': 'noninteractive', 'CUDNN_VERSION': '7.6.5.32', 'LAST_FORCED_REBUILD': '20201111', 'JPY_PARENT_PID': '49', 'PYTHONPATH': '/env/python', 'DATALAB_SETTINGS_OVERRIDES': '{\"kernelManagerProxyPort\":6000,\"kernelManagerProxyHost\":\"172.28.0.3\",\"jupyterArgs\":[\"--ip=\\\\\"172.28.0.2\\\\\"\"]}', 'ENV': '/root/.bashrc', 'GLIBCXX_FORCE_NEW': '1', 'NVIDIA_DRIVER_CAPABILITIES': 'compute,utility', 'TF_FORCE_GPU_ALLOW_GROWTH': 'true', 'LD_PRELOAD': '/usr/lib/x86_64-linux-gnu/libtcmalloc.so.4', 'NVIDIA_REQUIRE_CUDA': 'cuda>=10.1 brand=tesla,driver>=396,driver<397 brand=tesla,driver>=410,driver<411 brand=tesla,driver>=418,driver<419', 'OLDPWD': '/', 'HOSTNAME': 'bc4a8cecbb44', 'COLAB_GPU': '0', 'PWD': '/', 'CLOUDSDK_PYTHON': 'python3', 'GLIBCPP_FORCE_NEW': '1', 'PYTHONWARNINGS': 'ignore:::pip._internal.cli.base_command', 'TBE_CREDS_ADDR': '172.28.0.1:8008', 'TERM': 'xterm-color', 'CLICOLOR': '1', 'PAGER': 'cat', 'GIT_PAGER': 'cat', 'MPLBACKEND': 'module://ipykernel.pylab.backend_inline'})\n"
          ],
          "name": "stdout"
        }
      ]
    },
    {
      "cell_type": "markdown",
      "metadata": {
        "id": "4bSqLG9bAAUB"
      },
      "source": [
        "Попробуем узнать версию Куды\n",
        "\n",
        " (CUDA - архитектура позволяющая производить на GPU вычисления общего назначения, при этом GPU фактически выступает в роли мощного сопроцессора)"
      ]
    },
    {
      "cell_type": "code",
      "metadata": {
        "colab": {
          "base_uri": "https://localhost:8080/",
          "height": 37
        },
        "id": "5tTMC_Oq885d",
        "outputId": "6eff0520-38cb-47ed-965d-b6268b286bba"
      },
      "source": [
        "os.environ['CUDA_VERSION']"
      ],
      "execution_count": null,
      "outputs": [
        {
          "output_type": "execute_result",
          "data": {
            "application/vnd.google.colaboratory.intrinsic+json": {
              "type": "string"
            },
            "text/plain": [
              "'10.1.243'"
            ]
          },
          "metadata": {
            "tags": []
          },
          "execution_count": 19
        }
      ]
    },
    {
      "cell_type": "markdown",
      "metadata": {
        "id": "YbZ49Dl1CCuh"
      },
      "source": [
        "Еще полезно узнать в какой директории мы сейчас находимся, давайте узнаем это при помощи `getcwd()`"
      ]
    },
    {
      "cell_type": "code",
      "metadata": {
        "colab": {
          "base_uri": "https://localhost:8080/"
        },
        "id": "OgOdz_eU89Fj",
        "outputId": "6e88def6-7a17-445b-db9f-aafd7bb37b2f"
      },
      "source": [
        "print(os.getcwd())"
      ],
      "execution_count": null,
      "outputs": [
        {
          "output_type": "stream",
          "text": [
            "/content\n"
          ],
          "name": "stdout"
        }
      ]
    },
    {
      "cell_type": "markdown",
      "metadata": {
        "id": "X_7UdjSWCCI1"
      },
      "source": [
        "### **mkdir(), makedirs(), listdir(), path.exists()**"
      ]
    },
    {
      "cell_type": "markdown",
      "metadata": {
        "id": "QY7oSgDND6BX"
      },
      "source": [
        "При помощи метода `mkdir` довольно легко создать папку, просто указав для нее желаемый путь."
      ]
    },
    {
      "cell_type": "code",
      "metadata": {
        "id": "qOGGfLf1Ctc6"
      },
      "source": [
        "folder_path = \"test_folder\"\n",
        "\n",
        "os.mkdir(folder_path)"
      ],
      "execution_count": null,
      "outputs": []
    },
    {
      "cell_type": "markdown",
      "metadata": {
        "id": "kvrPSSF8ET7_"
      },
      "source": [
        "`listdir()` используем для перечисления всех папок в текущей директории"
      ]
    },
    {
      "cell_type": "code",
      "metadata": {
        "colab": {
          "base_uri": "https://localhost:8080/"
        },
        "id": "oCe0rRRsCtg-",
        "outputId": "f3381fd5-e0f2-49ad-8893-fc00fec1ab36"
      },
      "source": [
        "os.listdir()"
      ],
      "execution_count": null,
      "outputs": [
        {
          "output_type": "execute_result",
          "data": {
            "text/plain": [
              "['.config',\n",
              " '.ipynb_checkpoints',\n",
              " 'file_example_XLSX_1000.xlsx',\n",
              " 'test_folder',\n",
              " 'materials',\n",
              " 'sample_data']"
            ]
          },
          "metadata": {
            "tags": []
          },
          "execution_count": 24
        }
      ]
    },
    {
      "cell_type": "markdown",
      "metadata": {
        "id": "BV5W9pNZEclC"
      },
      "source": [
        "`path.exists()` проверяет наличие объекта по его названию"
      ]
    },
    {
      "cell_type": "code",
      "metadata": {
        "colab": {
          "base_uri": "https://localhost:8080/"
        },
        "id": "GSbNwxKPDLik",
        "outputId": "2fa26e0d-5cd6-4c23-bad7-9c9f73a69a74"
      },
      "source": [
        "os.path.exists(folder_path)"
      ],
      "execution_count": null,
      "outputs": [
        {
          "output_type": "execute_result",
          "data": {
            "text/plain": [
              "True"
            ]
          },
          "metadata": {
            "tags": []
          },
          "execution_count": 25
        }
      ]
    },
    {
      "cell_type": "code",
      "metadata": {
        "colab": {
          "base_uri": "https://localhost:8080/"
        },
        "id": "eGxEIRa0Japc",
        "outputId": "c187809d-1d09-4ed7-a041-0cf3cb3fb1b3"
      },
      "source": [
        "os.path.exists(\"folder_1234\")"
      ],
      "execution_count": null,
      "outputs": [
        {
          "output_type": "execute_result",
          "data": {
            "text/plain": [
              "False"
            ]
          },
          "metadata": {
            "tags": []
          },
          "execution_count": 26
        }
      ]
    },
    {
      "cell_type": "markdown",
      "metadata": {
        "id": "L9GYx67SEoaM"
      },
      "source": [
        "Давайте еще раз создадим директорию `test_folder` и посмотрим что выйдет"
      ]
    },
    {
      "cell_type": "code",
      "metadata": {
        "colab": {
          "base_uri": "https://localhost:8080/",
          "height": 164
        },
        "id": "944oqdelCtlF",
        "outputId": "99fcf69f-fd02-48d9-e1d1-76a1a78d52b3"
      },
      "source": [
        "os.mkdir(folder_path)"
      ],
      "execution_count": null,
      "outputs": [
        {
          "output_type": "error",
          "ename": "FileExistsError",
          "evalue": "ignored",
          "traceback": [
            "\u001b[0;31m---------------------------------------------------------------------------\u001b[0m",
            "\u001b[0;31mFileExistsError\u001b[0m                           Traceback (most recent call last)",
            "\u001b[0;32m<ipython-input-31-b732e427c252>\u001b[0m in \u001b[0;36m<module>\u001b[0;34m()\u001b[0m\n\u001b[0;32m----> 1\u001b[0;31m \u001b[0mos\u001b[0m\u001b[0;34m.\u001b[0m\u001b[0mmkdir\u001b[0m\u001b[0;34m(\u001b[0m\u001b[0mfolder_path\u001b[0m\u001b[0;34m)\u001b[0m\u001b[0;34m\u001b[0m\u001b[0;34m\u001b[0m\u001b[0m\n\u001b[0m",
            "\u001b[0;31mFileExistsError\u001b[0m: [Errno 17] File exists: 'test_folder'"
          ]
        }
      ]
    },
    {
      "cell_type": "markdown",
      "metadata": {
        "id": "CDBLSJXrEwhp"
      },
      "source": [
        "**Задание**\n",
        "\n",
        "Как решить эту проблему? Что необходимо сделать чтобы создавать директорию только в том случае, когда нет директории с таким же именем?"
      ]
    },
    {
      "cell_type": "code",
      "metadata": {
        "id": "L3JxRgDnE5dg",
        "colab": {
          "base_uri": "https://localhost:8080/"
        },
        "outputId": "2d0469aa-7fa2-4756-83f8-17861ded5572"
      },
      "source": [
        "#TODO\n",
        "if not os.path.exists(folder_path):\n",
        "    os.mkdir(folder_path)\n",
        "else:\n",
        "    print('folder exists')"
      ],
      "execution_count": null,
      "outputs": [
        {
          "output_type": "stream",
          "text": [
            "folder exists\n"
          ],
          "name": "stdout"
        }
      ]
    },
    {
      "cell_type": "markdown",
      "metadata": {
        "id": "5QbMpZ6dFyCq"
      },
      "source": [
        "**Задание**\n",
        "\n",
        "проверить наличие директории, и если такая уже существует, то создавать новую директорию с приставкой \"_1\"\n",
        "\n",
        "Например: если существует папка с названием \"Новая_папка\", то мы будем создавать  \"Новая_папка_1\" "
      ]
    },
    {
      "cell_type": "code",
      "metadata": {
        "id": "yBCv_SXFE5ih"
      },
      "source": [
        "#TODO\n",
        "if os.path.exists(folder_path):\n",
        "    os.mkdir(folder_path +'_1')"
      ],
      "execution_count": null,
      "outputs": []
    },
    {
      "cell_type": "markdown",
      "metadata": {
        "id": "KRJ-ApaeJu9N"
      },
      "source": [
        "`makedirs()` создаст нам не одну, а несколько вложенных папок"
      ]
    },
    {
      "cell_type": "code",
      "metadata": {
        "id": "B4L7dyhhJSbU"
      },
      "source": [
        "path = './folder_1/1/2/3'\n",
        "os.makedirs(path)"
      ],
      "execution_count": null,
      "outputs": []
    },
    {
      "cell_type": "markdown",
      "metadata": {
        "id": "arWvLHiUKrLM"
      },
      "source": [
        "### **remove(), rmdir()**"
      ]
    },
    {
      "cell_type": "markdown",
      "metadata": {
        "id": "X5FrA_r-K3h2"
      },
      "source": [
        "Функции **os.remove()** и **os.rmdir()** используются для удаления файлов и каталогов соответственно. "
      ]
    },
    {
      "cell_type": "markdown",
      "metadata": {
        "id": "T9neiOdPLLZW"
      },
      "source": [
        "Прежде чем воспользоваться функцией romve() нам нужен файл, который мы могли бы удалить. Для этого создадим с Вами txt файл ( Подробнее конструкцию `open` будем рассматривать позже в лекции!)"
      ]
    },
    {
      "cell_type": "code",
      "metadata": {
        "id": "ObLjPZczLau9"
      },
      "source": [
        "with open('spam.txt', 'a') as f:\n",
        "    f.write('**spam blah blah blah message**')"
      ],
      "execution_count": null,
      "outputs": []
    },
    {
      "cell_type": "markdown",
      "metadata": {
        "id": "NkWhZNtqL3Ej"
      },
      "source": [
        "Теперь удалим его"
      ]
    },
    {
      "cell_type": "code",
      "metadata": {
        "id": "ZqnZRgroJSgq"
      },
      "source": [
        "os.remove(\"spam.txt\")"
      ],
      "execution_count": null,
      "outputs": []
    },
    {
      "cell_type": "markdown",
      "metadata": {
        "id": "IPP1O3jTL-Re"
      },
      "source": [
        "А теперь удалим директорию `test_folder_1`"
      ]
    },
    {
      "cell_type": "code",
      "metadata": {
        "colab": {
          "base_uri": "https://localhost:8080/"
        },
        "id": "wfwpJftgMFNi",
        "outputId": "961ce918-b997-4d2d-b2d9-b2cd9782805e"
      },
      "source": [
        "os.listdir()"
      ],
      "execution_count": null,
      "outputs": [
        {
          "output_type": "execute_result",
          "data": {
            "text/plain": [
              "['.config',\n",
              " 'test_folder_1',\n",
              " '.ipynb_checkpoints',\n",
              " 'test_array.npy',\n",
              " 'file_example_XLSX_1000.xlsx',\n",
              " 'test_folder',\n",
              " 'folder_1',\n",
              " 'materials',\n",
              " 'sample_data']"
            ]
          },
          "metadata": {
            "tags": []
          },
          "execution_count": 40
        }
      ]
    },
    {
      "cell_type": "code",
      "metadata": {
        "id": "TNhwkX3udagN"
      },
      "source": [
        "os.rmdir(\"test_folder_1\")"
      ],
      "execution_count": null,
      "outputs": []
    },
    {
      "cell_type": "code",
      "metadata": {
        "colab": {
          "base_uri": "https://localhost:8080/"
        },
        "id": "klrJZYNGUdJS",
        "outputId": "eefb7944-6774-4ea0-d34a-7ff69827b8cc"
      },
      "source": [
        "os.listdir()"
      ],
      "execution_count": null,
      "outputs": [
        {
          "output_type": "execute_result",
          "data": {
            "text/plain": [
              "['.config',\n",
              " '.ipynb_checkpoints',\n",
              " 'test_array.npy',\n",
              " 'file_example_XLSX_1000.xlsx',\n",
              " 'test_folder',\n",
              " 'folder_1',\n",
              " 'materials',\n",
              " 'sample_data']"
            ]
          },
          "metadata": {
            "tags": []
          },
          "execution_count": 42
        }
      ]
    },
    {
      "cell_type": "markdown",
      "metadata": {
        "id": "iCC_rhsIMIwH"
      },
      "source": [
        "И заодно удалим `folder_1`"
      ]
    },
    {
      "cell_type": "code",
      "metadata": {
        "colab": {
          "base_uri": "https://localhost:8080/",
          "height": 164
        },
        "id": "xskfmBelCtpV",
        "outputId": "3353a527-9357-4bce-e0e8-18a84e374fce"
      },
      "source": [
        "os.rmdir(\"folder_1\")"
      ],
      "execution_count": null,
      "outputs": [
        {
          "output_type": "error",
          "ename": "OSError",
          "evalue": "ignored",
          "traceback": [
            "\u001b[0;31m---------------------------------------------------------------------------\u001b[0m",
            "\u001b[0;31mOSError\u001b[0m                                   Traceback (most recent call last)",
            "\u001b[0;32m<ipython-input-43-938c6dce2695>\u001b[0m in \u001b[0;36m<module>\u001b[0;34m()\u001b[0m\n\u001b[0;32m----> 1\u001b[0;31m \u001b[0mos\u001b[0m\u001b[0;34m.\u001b[0m\u001b[0mrmdir\u001b[0m\u001b[0;34m(\u001b[0m\u001b[0;34m\"folder_1\"\u001b[0m\u001b[0;34m)\u001b[0m\u001b[0;34m\u001b[0m\u001b[0;34m\u001b[0m\u001b[0m\n\u001b[0m",
            "\u001b[0;31mOSError\u001b[0m: [Errno 39] Directory not empty: 'folder_1'"
          ]
        }
      ]
    },
    {
      "cell_type": "markdown",
      "metadata": {
        "id": "-NZZZT4RMTyN"
      },
      "source": [
        "Упс... rmdir() не умеет удалять непустые каталоги... Что же делать? Сейчас разберемся! Для этого нужно узнать о еще одном методе"
      ]
    },
    {
      "cell_type": "markdown",
      "metadata": {
        "id": "wNGJjqqlMgUI"
      },
      "source": [
        "### **os.walk()**\n",
        "\n",
        "Метод os.walk() дает нам возможность для итерации на корневом уровне пути. Это значит, что мы можем назначить путь к этой функции и получить доступ ко всем её подкаталогам и файлам. "
      ]
    },
    {
      "cell_type": "code",
      "metadata": {
        "id": "rTy7paYQMtrA"
      },
      "source": [
        "path = \"folder_1\""
      ],
      "execution_count": null,
      "outputs": []
    },
    {
      "cell_type": "code",
      "metadata": {
        "colab": {
          "base_uri": "https://localhost:8080/"
        },
        "id": "zyDmEoKgNP4o",
        "outputId": "c99ae97c-841f-4c17-9174-1e08a93248d8"
      },
      "source": [
        "for i in os.walk(path):\n",
        "    print(i)"
      ],
      "execution_count": null,
      "outputs": [
        {
          "output_type": "stream",
          "text": [
            "('folder_1', ['1'], [])\n",
            "('folder_1/1', ['2'], [])\n",
            "('folder_1/1/2', ['3'], [])\n",
            "('folder_1/1/2/3', [], [])\n"
          ],
          "name": "stdout"
        }
      ]
    },
    {
      "cell_type": "markdown",
      "metadata": {
        "id": "WoTaLEPiODUP"
      },
      "source": [
        "**Задание**\n",
        "\n",
        "Создать папку в самой глубокой папке"
      ]
    },
    {
      "cell_type": "code",
      "metadata": {
        "id": "uPwI0XVNOCBY",
        "colab": {
          "base_uri": "https://localhost:8080/",
          "height": 37
        },
        "outputId": "eb46b3ce-6fde-4ecc-9c19-6431e295cf22"
      },
      "source": [
        "#TODO\n",
        "deep_folder = list(os.walk(path))[-1][0]\n",
        "deep_folder"
      ],
      "execution_count": null,
      "outputs": [
        {
          "output_type": "execute_result",
          "data": {
            "application/vnd.google.colaboratory.intrinsic+json": {
              "type": "string"
            },
            "text/plain": [
              "'folder_1/1/2/3/4/5'"
            ]
          },
          "metadata": {
            "tags": []
          },
          "execution_count": 53
        }
      ]
    },
    {
      "cell_type": "code",
      "metadata": {
        "id": "izEnqQHHOszn"
      },
      "source": [
        "os.mkdir(deep_folder+'/5')"
      ],
      "execution_count": null,
      "outputs": []
    },
    {
      "cell_type": "markdown",
      "metadata": {
        "id": "DDUSWbMzPLEd"
      },
      "source": [
        "**Задание**\n",
        "\n",
        "Удалить папку `\"folder_1\"` при помощи **walk()**"
      ]
    },
    {
      "cell_type": "code",
      "metadata": {
        "colab": {
          "base_uri": "https://localhost:8080/"
        },
        "id": "BzIHjm5aMNkS",
        "outputId": "26083980-5b7b-4399-ae56-f768fae5ad8b"
      },
      "source": [
        "for root, dirs, files in os.walk(path):\n",
        "    print(root)"
      ],
      "execution_count": null,
      "outputs": [
        {
          "output_type": "stream",
          "text": [
            "folder_1\n",
            "folder_1/1\n",
            "folder_1/1/2\n",
            "folder_1/1/2/3\n",
            "folder_1/1/2/3/4\n",
            "folder_1/1/2/3/4/5\n"
          ],
          "name": "stdout"
        }
      ]
    },
    {
      "cell_type": "markdown",
      "metadata": {
        "id": "IVLfa3c5PfrD"
      },
      "source": [
        "Для случая удаления каталогов с вложенными файлами все же лучше всего подойдет библиотека **shutil**.\n",
        "Давайте еще раз создадим директорию с вложенными папками и удалим ее при помощи **shutil.rmtree**"
      ]
    },
    {
      "cell_type": "code",
      "metadata": {
        "id": "NFpoexb1QEvT"
      },
      "source": [
        "for root, dirs, files in os.walk(\"folder_1\"):\n",
        "    print(root)"
      ],
      "execution_count": null,
      "outputs": []
    },
    {
      "cell_type": "code",
      "metadata": {
        "colab": {
          "base_uri": "https://localhost:8080/"
        },
        "id": "nleOkECUWl5a",
        "outputId": "896ecb0c-b6ac-4604-efe4-25de5a8557fc"
      },
      "source": [
        "supp_list[::-1]"
      ],
      "execution_count": null,
      "outputs": [
        {
          "output_type": "execute_result",
          "data": {
            "text/plain": [
              "['folder_1/1/2/3', 'folder_1/1/2', 'folder_1/1', 'folder_1']"
            ]
          },
          "metadata": {
            "tags": []
          },
          "execution_count": 61
        }
      ]
    },
    {
      "cell_type": "code",
      "metadata": {
        "id": "bpaNQvs6WKAb"
      },
      "source": [
        "for path in supp_list[::-1]:\n",
        "    os.rmdir(path)\n",
        "    #print(path)"
      ],
      "execution_count": null,
      "outputs": []
    },
    {
      "cell_type": "code",
      "metadata": {
        "id": "YVFAnZp1WV2j"
      },
      "source": [
        ""
      ],
      "execution_count": null,
      "outputs": []
    },
    {
      "cell_type": "code",
      "metadata": {
        "id": "s4ur643vWSsS"
      },
      "source": [
        ""
      ],
      "execution_count": null,
      "outputs": []
    },
    {
      "cell_type": "code",
      "metadata": {
        "id": "9hSmxMP9MNxP"
      },
      "source": [
        "import shutil\n",
        "shutil.rmtree(\"folder_1\", ignore_errors=True)"
      ],
      "execution_count": null,
      "outputs": []
    },
    {
      "cell_type": "markdown",
      "metadata": {
        "id": "KK2mNl77Q242"
      },
      "source": [
        "# Основы работы с файлами"
      ]
    },
    {
      "cell_type": "markdown",
      "metadata": {
        "id": "j9-urecgRbeq"
      },
      "source": [
        "Перед тем как прочесть и записать что-либо в файл, его следует открыть. Чтобы открыть файл в Python используется встроенная функция **open()**`. При вызове, эта функция создает объект типа файл, с которым в дальнейшем можно работать.\n",
        "\n",
        "Синтаксис функции open() в Python:\n",
        "\n",
        "```my_file = open(имя_файла , режим_доступа)```\n",
        "\n",
        "При этом:\n",
        "- `имя_файла`: строка, содержащая имя файла с расширением. Например, \"my_file.txt\".\n",
        "- `режим_доступа`: строка, которой мы указываем для чего открывается файл: для чтения, записи, добавления информации, и т.д. Например, \"w\". По умолчанию файл открывается для чтения - \"r\".\n",
        "\n",
        "Возможны следующие режимы доступа:"
      ]
    },
    {
      "cell_type": "markdown",
      "metadata": {
        "id": "ZutG2wNYVcIr"
      },
      "source": [
        "$$\n",
        "\\begin{array}{|l|l|}\n",
        "\\hline \\ {\\text { Режим }} &\\begin{array}{c} {\\text { Что позволяет делать? }}\\end{array} \\\\\n",
        "\\hline \\text { \"г\" } & \\text { Чтение из файла (по умолчанию) } \\\\\n",
        "\\hline \\text { \"w\" } & \\text { Запись в файл. Если файл не существует, то он будет создан } \\\\\n",
        "\\hline \\text { \"x\" } & \\begin{array}{l}\n",
        "\\text { Запись в файл. Если файл не существует, то будет вызвано } \\\\\n",
        "\\text { исключение }\\end{array}\n",
        "\\\\\n",
        "\\hline \\text { \"a\" } & \\begin{array}{l}\n",
        "\\text { 3апись в файл. В отличие от предыдущих режимов, не стирает данные,} \\\\\n",
        "\\text{которые уже хранятся в файле, а добавляет новые в конец} \\end{array}\n",
        "\\\\\n",
        "\\hline \\text { \"t\" } & \\text { Открывает как текстовый файл (по умолчанию) } \\\\\n",
        "\\hline \\text { \"b\" } & \\text { Открывает как двоичный файл } \\\\\n",
        "\\hline \\text { \"+\" } & \\begin{array}{l}\n",
        "\\text { Позволяет работать с файлом как в режиме чтения, так и в режиме } \\\\\n",
        "\\text { записи }\n",
        "\\end{array} \\\\\n",
        "\\hline\n",
        "\\end{array}\n",
        "$$"
      ]
    },
    {
      "cell_type": "markdown",
      "metadata": {
        "id": "Uc9ESAYsS_hZ"
      },
      "source": [
        "### **open(), close()**\n",
        "\n",
        "ак уже упомяналось выше, перед тем как прочесть и/или записать что-либо в файл, его следует открыть. Чтобы открыть файл в Python используется встроенная функция open()"
      ]
    },
    {
      "cell_type": "code",
      "metadata": {
        "colab": {
          "base_uri": "https://localhost:8080/"
        },
        "id": "Y1Ml8tl8ratO",
        "outputId": "0acde85b-7d3a-48e6-e76d-dd793423b2f5"
      },
      "source": [
        "my_file = open(\"some.txt\", \"w\")\n",
        "print(\"Имя файла: \", my_file.name)\n",
        "print(\"Файл закрыт: \", my_file.closed)\n",
        "print(\"В каком режиме файл открыт: \", my_file.mode)"
      ],
      "execution_count": null,
      "outputs": [
        {
          "output_type": "stream",
          "text": [
            "Имя файла:  some.txt\n",
            "Файл закрыт:  False\n",
            "В каком режиме файл открыт:  w\n"
          ],
          "name": "stdout"
        }
      ]
    },
    {
      "cell_type": "code",
      "metadata": {
        "colab": {
          "base_uri": "https://localhost:8080/"
        },
        "id": "wveblvhqS9Dm",
        "outputId": "b6b51b1f-ec40-4f6c-909d-ebb69c95fca5"
      },
      "source": [
        "my_file = open(\"some.txt\")\n",
        "print(\"Имя файла: \", my_file.name)\n",
        "print(\"Файл закрыт: \", my_file.closed)\n",
        "my_file.close()\n",
        "print(\"А теперь закрыт: \", my_file.closed)"
      ],
      "execution_count": null,
      "outputs": [
        {
          "output_type": "stream",
          "text": [
            "Имя файла:  some.txt\n",
            "Файл закрыт:  False\n",
            "А теперь закрыт:  True\n"
          ],
          "name": "stdout"
        }
      ]
    },
    {
      "cell_type": "markdown",
      "metadata": {
        "id": "Wx2ZkhuhSB9K"
      },
      "source": [
        "## Чтение и запись файлов"
      ]
    },
    {
      "cell_type": "markdown",
      "metadata": {
        "id": "_OkYr9jqSPV-"
      },
      "source": [
        "### **write(), read()**\n",
        "\n",
        "Метод **write()** записывает любую строку в открытый файл. Важно помнить, что строки в Python могут содержать двоичные данные, а не только текст.\n",
        "Метод **write()** не добавляет символ переноса строки ('\\n') в конец файла."
      ]
    },
    {
      "cell_type": "code",
      "metadata": {
        "id": "IZesEYfQk1pN"
      },
      "source": [
        "my_file = open(\"some.txt\", \"w\")\n",
        "my_file.write(\"Мне нравится Python!\\nЭто классный язык!\")\n",
        "my_file.close()"
      ],
      "execution_count": null,
      "outputs": []
    },
    {
      "cell_type": "markdown",
      "metadata": {
        "id": "8x--xGFiU_kP"
      },
      "source": [
        "**Табуляция \"\\n\" переносит строку**\n",
        "\n"
      ]
    },
    {
      "cell_type": "markdown",
      "metadata": {
        "id": "5pbsoLC7UpSU"
      },
      "source": [
        "А теперь прочтем наш файл"
      ]
    },
    {
      "cell_type": "code",
      "metadata": {
        "colab": {
          "base_uri": "https://localhost:8080/"
        },
        "id": "cRhOLZ0hUrdM",
        "outputId": "0a863b95-c535-4c17-f8e1-614356424fca"
      },
      "source": [
        "my_file = open(\"some.txt\")\n",
        "my_string = my_file.read()\n",
        "print(my_string)\n",
        "my_file.close()"
      ],
      "execution_count": null,
      "outputs": [
        {
          "output_type": "stream",
          "text": [
            "Мне нравится Python!\n",
            "Это классный язык!\n"
          ],
          "name": "stdout"
        }
      ]
    },
    {
      "cell_type": "markdown",
      "metadata": {
        "id": "70N30waMWdo1"
      },
      "source": [
        "Однако более pythonic way стиль работы с файлом встроенными средствами заключается в использовании конструкции `with .. as .. `, которая работает как менеджер создания контекста. Написанный выше пример можно переписать с ее помощью"
      ]
    },
    {
      "cell_type": "code",
      "metadata": {
        "id": "MNI1cSGjWlpz"
      },
      "source": [
        "with open(\"some.txt\", \"w\") as f:\n",
        "    f.write(\"Мне нравится Python!\\nЭто классный язык!\")"
      ],
      "execution_count": null,
      "outputs": []
    },
    {
      "cell_type": "markdown",
      "metadata": {
        "id": "1b7OxhcPW4Se"
      },
      "source": [
        "Главное отличие заключается в том, что python самостоятельно закрывает файл"
      ]
    },
    {
      "cell_type": "code",
      "metadata": {
        "colab": {
          "base_uri": "https://localhost:8080/"
        },
        "id": "HGkS6Sf9WlyN",
        "outputId": "4bd052db-a3de-4b3a-8172-6ff900ca00a4"
      },
      "source": [
        "with open(\"some.txt\", \"r\") as f:\n",
        "    my_string = f.read()\n",
        "print(my_string)"
      ],
      "execution_count": null,
      "outputs": [
        {
          "output_type": "stream",
          "text": [
            "Мне нравится Python!\n",
            "Это классный язык!\n"
          ],
          "name": "stdout"
        }
      ]
    },
    {
      "cell_type": "markdown",
      "metadata": {
        "id": "6EDOctzbTNpC"
      },
      "source": [
        "**Задание**\n",
        "\n",
        "Создать папку **folder_for_txt** и записать туда файл **DS_SCHOOL** формата .txt с текстом **\"Меня зовут ...\"**"
      ]
    },
    {
      "cell_type": "code",
      "metadata": {
        "id": "lqP8e9usUl3K"
      },
      "source": [
        "#TODO\n",
        "path = \"folder_for_txt\"\n",
        "#os.mkdir(path)\n",
        "with open(path + \"/DS_SCHOOL.txt\", \"w\") as f:\n",
        "    f.write(\"Меня зовут ..\")"
      ],
      "execution_count": null,
      "outputs": []
    },
    {
      "cell_type": "markdown",
      "metadata": {
        "id": "dexVimy7UJwu"
      },
      "source": [
        "**Задание**\n",
        "\n",
        "Открыть уже имеющийся файл **DS_SCHOOL.txt** и добавить туда еще одну строку **\"Я участник школы DS\"**."
      ]
    },
    {
      "cell_type": "code",
      "metadata": {
        "id": "iYbvs5zZk9c_"
      },
      "source": [
        "#TODO\n",
        "with open(path + \"/DS_SCHOOL.txt\", \"a\") as f:\n",
        "    f.write(\"\\n Я участник школы DS\")"
      ],
      "execution_count": null,
      "outputs": []
    },
    {
      "cell_type": "code",
      "metadata": {
        "colab": {
          "base_uri": "https://localhost:8080/"
        },
        "id": "fKuND-M8ZxEk",
        "outputId": "de62f5bf-7ae2-4466-e029-af018f05714e"
      },
      "source": [
        "with open(path + \"/DS_SCHOOL.txt\", \"r\") as f:\n",
        "    my_string = f.read()\n",
        "print(my_string)"
      ],
      "execution_count": null,
      "outputs": [
        {
          "output_type": "stream",
          "text": [
            "Меня зовут ..\n",
            " Я участник школы DS\n"
          ],
          "name": "stdout"
        }
      ]
    },
    {
      "cell_type": "markdown",
      "metadata": {
        "id": "QM-EA20Ll8dB"
      },
      "source": [
        "**Задание**\n",
        "У нас есть файл формата .txt с номерами мобильных телефонов. Давайте сопоставим эти номера с Рандомными именами и сохраним в новый txt файл\n",
        "\n",
        "(Подсказка - полезный метод split())"
      ]
    },
    {
      "cell_type": "code",
      "metadata": {
        "id": "SShOtfL6fiXG"
      },
      "source": [
        "with open(\"materials/phone_numbers.txt\", \"r\") as f:\n",
        "    my_string = f.read()"
      ],
      "execution_count": null,
      "outputs": []
    },
    {
      "cell_type": "code",
      "metadata": {
        "colab": {
          "base_uri": "https://localhost:8080/",
          "height": 88
        },
        "id": "gEl33V_pmedh",
        "outputId": "8c53e3e5-6d25-4487-fbea-574af4541f5a"
      },
      "source": [
        "my_string"
      ],
      "execution_count": null,
      "outputs": [
        {
          "output_type": "execute_result",
          "data": {
            "application/vnd.google.colaboratory.intrinsic+json": {
              "type": "string"
            },
            "text/plain": [
              "'916-864-5898\\n416-759-5238\\n313-996-9660\\n401-719-2363\\n575-640-3953\\n513-922-6636\\n217-278-7590\\n719-955-1188\\n919-589-0483\\n408-858-9751\\n318-941-0172\\n519-416-2487\\n802-828-6400\\n214-401-0509\\n660-963-5434\\n972-638-7017\\n612-870-6798\\n510-441-5319\\n512-935-6108\\n337-374-6282\\n580-919-0103\\n314-997-5908\\n503-593-8702\\n260-430-5146\\n864-993-6989\\n870-894-4061\\n207-556-3161\\n403-612-4414\\n978-573-8747\\n864-995-1281\\n402-260-0543\\n828-214-3674\\n925-392-4478\\n808-333-7943\\n801-481-8889\\n601-364-3798\\n408-524-7459\\n712-427-7328\\n801-815-0922\\n914-745-9244\\n618-289-2805\\n979-664-2234\\n636-583-8221\\n812-815-0121\\n317-234-2340\\n270-828-1009\\n214-218-0213\\n970-587-1048\\n917-803-0072\\n972-676-1239'"
            ]
          },
          "metadata": {
            "tags": []
          },
          "execution_count": 82
        }
      ]
    },
    {
      "cell_type": "code",
      "metadata": {
        "id": "1D3N_5sDlolh"
      },
      "source": [
        "#TODO\n",
        "phone_numbers = my_string.split('\\n')"
      ],
      "execution_count": null,
      "outputs": []
    },
    {
      "cell_type": "markdown",
      "metadata": {
        "id": "goNFEyOmoJyA"
      },
      "source": [
        "Сгенерируем рандомные имена:"
      ]
    },
    {
      "cell_type": "code",
      "metadata": {
        "id": "HbbTNtXdm4bp"
      },
      "source": [
        "names = [\"Unknown_\" + str(i) for i in range(len(phone_numbers))] #TODO"
      ],
      "execution_count": null,
      "outputs": []
    },
    {
      "cell_type": "code",
      "metadata": {
        "id": "qdJamI6LbOP3"
      },
      "source": [
        "assert len(names)==len(phone_numbers)"
      ],
      "execution_count": null,
      "outputs": []
    },
    {
      "cell_type": "code",
      "metadata": {
        "id": "2ApY6VFunBDO"
      },
      "source": [
        "with open(\"materials/phone_numbers_with_names_edit.txt\", \"w\") as f:\n",
        "    for name, number in zip(names, phone_numbers):\n",
        "        f.write(f'{name} {number}\\n')\n",
        "        f.write(str(name) + ' ' + str(number) + '\\n')\n",
        "        #TODO"
      ],
      "execution_count": null,
      "outputs": []
    },
    {
      "cell_type": "markdown",
      "metadata": {
        "id": "XDOwU2Dwn73w"
      },
      "source": [
        "Или при помощи **{format}**"
      ]
    },
    {
      "cell_type": "code",
      "metadata": {
        "id": "brXxUopDlotZ"
      },
      "source": [
        "with open(\"materials/phone_numbers_with_names.txt\", \"w\") as f:\n",
        "    for name, number in zip(names, phone_numbers):\n",
        "        f.write(\"{} {}\\n\".format(name, number)) "
      ],
      "execution_count": null,
      "outputs": []
    },
    {
      "cell_type": "markdown",
      "metadata": {
        "id": "ii-4EeQYgEbU"
      },
      "source": [
        "## А теперь поработаем с Word файлами"
      ]
    },
    {
      "cell_type": "markdown",
      "metadata": {
        "id": "vDyeAVDqbvrZ"
      },
      "source": [
        "### Чтение и обработка docx файла"
      ]
    },
    {
      "cell_type": "markdown",
      "metadata": {
        "id": "0GjavwVJKtU-"
      },
      "source": [
        "Для удобной работы с '.docx' файлами установим библиотеку [**python-docx**](https://python-docx.readthedocs.io/en/latest/)"
      ]
    },
    {
      "cell_type": "code",
      "metadata": {
        "id": "2qc70jAdk9iv",
        "colab": {
          "base_uri": "https://localhost:8080/"
        },
        "outputId": "98c29a9d-1df2-4ee1-8e19-8d05aa8a144e"
      },
      "source": [
        "!pip install python-docx"
      ],
      "execution_count": null,
      "outputs": [
        {
          "output_type": "stream",
          "text": [
            "Collecting python-docx\n",
            "\u001b[?25l  Downloading https://files.pythonhosted.org/packages/e4/83/c66a1934ed5ed8ab1dbb9931f1779079f8bca0f6bbc5793c06c4b5e7d671/python-docx-0.8.10.tar.gz (5.5MB)\n",
            "\u001b[K     |████████████████████████████████| 5.5MB 12.0MB/s \n",
            "\u001b[?25hRequirement already satisfied: lxml>=2.3.2 in /usr/local/lib/python3.6/dist-packages (from python-docx) (4.2.6)\n",
            "Building wheels for collected packages: python-docx\n",
            "  Building wheel for python-docx (setup.py) ... \u001b[?25l\u001b[?25hdone\n",
            "  Created wheel for python-docx: filename=python_docx-0.8.10-cp36-none-any.whl size=184491 sha256=9c8c07740a5a57bde9dc9aa126be9dbb8dabcc7ec5085be0e45611ddef0b71d0\n",
            "  Stored in directory: /root/.cache/pip/wheels/18/0b/a0/1dd62ff812c857c9e487f27d80d53d2b40531bec1acecfa47b\n",
            "Successfully built python-docx\n",
            "Installing collected packages: python-docx\n",
            "Successfully installed python-docx-0.8.10\n"
          ],
          "name": "stdout"
        }
      ]
    },
    {
      "cell_type": "markdown",
      "metadata": {
        "id": "kC-cm6rSK4Kh"
      },
      "source": [
        "Метод **Document()** позволяет открыть сам docx файл. Объект Document содержит список объектов Paragraph, которые представляют собой абзацы документа. при помощи вызова **Paragraph.text** получаем текст строки нашего документы в строковом формате"
      ]
    },
    {
      "cell_type": "code",
      "metadata": {
        "id": "slFIcsyafi8B"
      },
      "source": [
        "import docx\n",
        "\n",
        "doc = docx.Document(\"materials/File 1.docx\")"
      ],
      "execution_count": null,
      "outputs": []
    },
    {
      "cell_type": "code",
      "metadata": {
        "colab": {
          "base_uri": "https://localhost:8080/"
        },
        "id": "Gu8i0xVGfpNd",
        "outputId": "e7f6d414-5a5c-44ef-eecd-bf231d5760da"
      },
      "source": [
        "doc"
      ],
      "execution_count": null,
      "outputs": [
        {
          "output_type": "execute_result",
          "data": {
            "text/plain": [
              "<docx.document.Document at 0x7fd65798ae10>"
            ]
          },
          "metadata": {
            "tags": []
          },
          "execution_count": 97
        }
      ]
    },
    {
      "cell_type": "code",
      "metadata": {
        "colab": {
          "base_uri": "https://localhost:8080/"
        },
        "id": "HmIFr_87f1Fl",
        "outputId": "ccee2fb6-9a4c-4e3a-957e-1fe79d2ec85c"
      },
      "source": [
        "all_paras = doc.paragraphs\n",
        "len(all_paras)"
      ],
      "execution_count": null,
      "outputs": [
        {
          "output_type": "execute_result",
          "data": {
            "text/plain": [
              "30"
            ]
          },
          "metadata": {
            "tags": []
          },
          "execution_count": 98
        }
      ]
    },
    {
      "cell_type": "code",
      "metadata": {
        "colab": {
          "base_uri": "https://localhost:8080/",
          "height": 37
        },
        "id": "RIKqvSsdf4jk",
        "outputId": "1ed22185-ea3c-4cca-c947-f95691b84979"
      },
      "source": [
        "all_paras[20].text"
      ],
      "execution_count": null,
      "outputs": [
        {
          "output_type": "execute_result",
          "data": {
            "application/vnd.google.colaboratory.intrinsic+json": {
              "type": "string"
            },
            "text/plain": [
              "'PURCHASED:'"
            ]
          },
          "metadata": {
            "tags": []
          },
          "execution_count": 101
        }
      ]
    },
    {
      "cell_type": "markdown",
      "metadata": {
        "id": "LC7hgFYQLZkF"
      },
      "source": [
        ""
      ]
    },
    {
      "cell_type": "code",
      "metadata": {
        "colab": {
          "base_uri": "https://localhost:8080/",
          "height": 37
        },
        "id": "tKrkrYkALdrk",
        "outputId": "5e408af1-8f49-40ba-8f62-47425ab81d5c"
      },
      "source": [
        "all_paras[0].runs[0].text"
      ],
      "execution_count": null,
      "outputs": [
        {
          "output_type": "execute_result",
          "data": {
            "application/vnd.google.colaboratory.intrinsic+json": {
              "type": "string"
            },
            "text/plain": [
              "'FTC DEMO COMPANY'"
            ]
          },
          "metadata": {
            "tags": []
          },
          "execution_count": 102
        }
      ]
    },
    {
      "cell_type": "code",
      "metadata": {
        "colab": {
          "base_uri": "https://localhost:8080/",
          "height": 37
        },
        "id": "Zg1GupOIgRH4",
        "outputId": "73a95172-0764-4e49-973b-a5fb18c52ade"
      },
      "source": [
        "all_paras[0].text"
      ],
      "execution_count": null,
      "outputs": [
        {
          "output_type": "execute_result",
          "data": {
            "application/vnd.google.colaboratory.intrinsic+json": {
              "type": "string"
            },
            "text/plain": [
              "'FTC DEMO COMPANY'"
            ]
          },
          "metadata": {
            "tags": []
          },
          "execution_count": 103
        }
      ]
    },
    {
      "cell_type": "code",
      "metadata": {
        "colab": {
          "base_uri": "https://localhost:8080/"
        },
        "id": "rTWgeD-aUs3p",
        "outputId": "b7b4c4fb-ac79-434c-f17d-55742c3edaa2"
      },
      "source": [
        "for para in all_paras:\n",
        "    print(para.text)\n",
        "    print(\"-------\")"
      ],
      "execution_count": null,
      "outputs": [
        {
          "output_type": "stream",
          "text": [
            "FTC DEMO COMPANY\n",
            "-------\n",
            "1 Main Street, Washington, DC 20001\n",
            "-------\n",
            "PH: (800) 123-4567 FX: (424) 456-1231\n",
            "-------\n",
            "\n",
            "-------\n",
            "\n",
            "-------\n",
            "\n",
            "-------\n",
            "TRADE CONFIRMATION STATEMENT\n",
            "-------\n",
            "\n",
            "-------\n",
            "\n",
            "-------\n",
            "DATE: 12/5/11\n",
            "-------\n",
            "\n",
            "-------\n",
            "ACCOUNT NUMBER: 657321\n",
            "-------\n",
            "\n",
            "-------\n",
            "CLIENT NAME: Jamie Smith \n",
            "-------\n",
            "\n",
            "-------\n",
            "STREET ADDRESS: 4 N St., NW \n",
            "-------\n",
            "CITY: Washington\n",
            "-------\n",
            "STATE: DC\t\t\n",
            "-------\n",
            "ZIP: 20003\n",
            "-------\n",
            "\n",
            "-------\n",
            "PURCHASED:\n",
            "-------\n",
            "\n",
            "-------\n",
            "\t\n",
            "-------\n",
            "ADMINISTRATION FEE: $6872.00\n",
            "-------\n",
            "\n",
            "-------\n",
            "\n",
            "-------\n",
            "\t\n",
            "-------\n",
            "MONEY RECEIVED: $235\n",
            "-------\n",
            "\n",
            "-------\n",
            "\n",
            "-------\n"
          ],
          "name": "stdout"
        }
      ]
    },
    {
      "cell_type": "code",
      "metadata": {
        "id": "UGTVrt_Vf5Zs"
      },
      "source": [
        "our_doc = \"\"\n",
        "our_doc_list = []\n",
        "for para in all_paras:\n",
        "    our_doc+= ' ' + para.text\n",
        "    our_doc_list.append(para.text)\n",
        "\n",
        "#our_doc_list = ' '.join(our_doc_list)"
      ],
      "execution_count": null,
      "outputs": []
    },
    {
      "cell_type": "code",
      "metadata": {
        "colab": {
          "base_uri": "https://localhost:8080/",
          "height": 54
        },
        "id": "vE6F1NLwUoT_",
        "outputId": "4fdd2970-5c2a-4efb-c4ba-c473907412f0"
      },
      "source": [
        "our_doc"
      ],
      "execution_count": null,
      "outputs": [
        {
          "output_type": "execute_result",
          "data": {
            "application/vnd.google.colaboratory.intrinsic+json": {
              "type": "string"
            },
            "text/plain": [
              "' FTC DEMO COMPANY 1 Main Street, Washington, DC 20001 PH: (800) 123-4567 FX: (424) 456-1231    TRADE CONFIRMATION STATEMENT   DATE: 12/5/11  ACCOUNT NUMBER: 657321  CLIENT NAME: Jamie Smith   STREET ADDRESS: 4 N St., NW  CITY: Washington STATE: DC\\t\\t ZIP: 20003  PURCHASED:  \\t ADMINISTRATION FEE: $6872.00   \\t MONEY RECEIVED: $235  '"
            ]
          },
          "metadata": {
            "tags": []
          },
          "execution_count": 106
        }
      ]
    },
    {
      "cell_type": "markdown",
      "metadata": {
        "id": "TdQv_TxXgbT-"
      },
      "source": [
        "**Задание**\n",
        "\n",
        "Извлечь из полученного документа значения CLIENT NAME, ACCOUNT NUMBER. и сохранить в словарь в формате {CLIENT NAME : ACCOUNT NUMBER}\n"
      ]
    },
    {
      "cell_type": "code",
      "metadata": {
        "colab": {
          "base_uri": "https://localhost:8080/"
        },
        "id": "JPQ5i6LQhrJ4",
        "outputId": "1754e36e-ab7a-4c5e-f865-25fd7a6285bb"
      },
      "source": [
        "# Некоторые полезные методы:\n",
        "x = 'id: 001'\n",
        "print(x.split('id: ')) # строковый метод split()\n",
        "print(x.replace('id: ', '')) # строковый метод replace()"
      ],
      "execution_count": null,
      "outputs": [
        {
          "output_type": "stream",
          "text": [
            "['', '001']\n",
            "001\n"
          ],
          "name": "stdout"
        }
      ]
    },
    {
      "cell_type": "code",
      "metadata": {
        "colab": {
          "base_uri": "https://localhost:8080/"
        },
        "id": "f9-QryfgM87P",
        "outputId": "e7d34a89-c74f-490b-86fa-5a21ea9efda8"
      },
      "source": [
        "# HINTS\n",
        "\"\"\"\n",
        "строковый метод .replace() и регулярное выражение re.sub()\n",
        "выполняют одинаковый функционал - производят поиск шаблона в строке \n",
        "и заменяют его на указанную подстроку\"\"\"\n",
        "\n",
        "import re\n",
        "\n",
        "print(re.sub('id: ', '', x))\n",
        "\n",
        "print(re.findall(r'\\d{3}', x))"
      ],
      "execution_count": null,
      "outputs": [
        {
          "output_type": "stream",
          "text": [
            "001\n",
            "['001']\n"
          ],
          "name": "stdout"
        }
      ]
    },
    {
      "cell_type": "markdown",
      "metadata": {
        "id": "MLWpwo22QJN_"
      },
      "source": [
        "Одно из возможных **не оптимальных** решений"
      ]
    },
    {
      "cell_type": "code",
      "metadata": {
        "id": "UYZ2ENE7gUgQ",
        "colab": {
          "base_uri": "https://localhost:8080/"
        },
        "outputId": "809301e5-6931-4767-937a-5d447e9d08e9"
      },
      "source": [
        "#name = \"\"\n",
        "#number = \"\"\n",
        "for para in all_paras:\n",
        "    if \"CLIENT NAME\" in para.text:\n",
        "        name = para.text.replace('CLIENT NAME: ', '')\n",
        "    elif \"ACCOUNT NUMBER\" in para.text:\n",
        "        number = para.text.replace('ACCOUNT NUMBER: ', '')\n",
        "\n",
        "print(\"CLIENT NAME: \", name)\n",
        "print('ACCOUNT NUMBER: ', number)"
      ],
      "execution_count": null,
      "outputs": [
        {
          "output_type": "stream",
          "text": [
            "CLIENT NAME:  Jamie Smith \n",
            "ACCOUNT NUMBER:  657321\n"
          ],
          "name": "stdout"
        }
      ]
    },
    {
      "cell_type": "code",
      "metadata": {
        "colab": {
          "base_uri": "https://localhost:8080/"
        },
        "id": "sVkn8BXdi_wR",
        "outputId": "b10110d6-49e9-4722-c551-fbfbb80c6003"
      },
      "source": [
        "int(number)"
      ],
      "execution_count": null,
      "outputs": [
        {
          "output_type": "execute_result",
          "data": {
            "text/plain": [
              "657321"
            ]
          },
          "metadata": {
            "tags": []
          },
          "execution_count": 114
        }
      ]
    },
    {
      "cell_type": "code",
      "metadata": {
        "id": "EX25mc5lgawd",
        "colab": {
          "base_uri": "https://localhost:8080/"
        },
        "outputId": "e38deb12-3106-40ec-c13e-77f66d845c70"
      },
      "source": [
        "target_dict = {name: int(number)}\n",
        "print(target_dict)"
      ],
      "execution_count": null,
      "outputs": [
        {
          "output_type": "stream",
          "text": [
            "{'Jamie Smith ': 657321}\n"
          ],
          "name": "stdout"
        }
      ]
    },
    {
      "cell_type": "markdown",
      "metadata": {
        "id": "4CG7ynZpijI-"
      },
      "source": [
        "## ДОП Задание\n",
        "\n",
        "Оптимизировать функцию"
      ]
    },
    {
      "cell_type": "markdown",
      "metadata": {
        "id": "ixLK_QZTW---"
      },
      "source": [
        "У нас много таких файлов! Давайте обернем наш код в фукцию и выполним его на всех файлах из папки materials"
      ]
    },
    {
      "cell_type": "code",
      "metadata": {
        "id": "xS1mPscNYRbp"
      },
      "source": [
        "def extract_dict(filepath):\n",
        "    #Коммент\n",
        "    doc = docx.Document(filepath)\n",
        "    all_paras = doc.paragraphs\n",
        "\n",
        "    for para in all_paras:\n",
        "        if \"CLIENT NAME\" in para.text:\n",
        "            name = para.text.replace('CLIENT NAME: ', '')\n",
        "        elif \"ACCOUNT NUMBER\" in para.text:\n",
        "            number = para.text.replace('ACCOUNT NUMBER: ', '')\n",
        "    return name, number"
      ],
      "execution_count": null,
      "outputs": []
    },
    {
      "cell_type": "markdown",
      "metadata": {
        "id": "TEaiJms9Ykfk"
      },
      "source": [
        "Давайте сначала достанем названия всех наших docx файлов при помощи библиотеки **os** (файлы лежат в директории materials)"
      ]
    },
    {
      "cell_type": "code",
      "metadata": {
        "colab": {
          "base_uri": "https://localhost:8080/"
        },
        "id": "VAMUQNzRVfwn",
        "outputId": "2251f26a-e852-48e6-a98c-80ed363c4cf0"
      },
      "source": [
        "base_path = \"materials/\"\n",
        "paths = os.listdir(base_path)\n",
        "\n",
        "#TODO\n",
        "print(paths)\n"
      ],
      "execution_count": null,
      "outputs": [
        {
          "output_type": "stream",
          "text": [
            "['File 2.docx', 'File 4.docx', '.ipynb_checkpoints', 'phone_numbers_with_names_edit.txt', 'phone_numbers.txt', 'File 5.docx', 'data_file.json', 'File 3.docx', 'File 1.docx']\n"
          ],
          "name": "stdout"
        }
      ]
    },
    {
      "cell_type": "code",
      "metadata": {
        "colab": {
          "base_uri": "https://localhost:8080/",
          "height": 37
        },
        "id": "6KDsFlTAl7nn",
        "outputId": "403076bd-8430-47d1-b57b-66cc1dd2c160"
      },
      "source": [
        "paths[0][-5:]"
      ],
      "execution_count": null,
      "outputs": [
        {
          "output_type": "execute_result",
          "data": {
            "application/vnd.google.colaboratory.intrinsic+json": {
              "type": "string"
            },
            "text/plain": [
              "'.docx'"
            ]
          },
          "metadata": {
            "tags": []
          },
          "execution_count": 126
        }
      ]
    },
    {
      "cell_type": "code",
      "metadata": {
        "id": "dN62RplflIVf"
      },
      "source": [
        "for path in paths:\n",
        "    if '.docx' in path[-5:]:\n",
        "        continue\n",
        "    else:\n",
        "        paths.remove(path)"
      ],
      "execution_count": null,
      "outputs": []
    },
    {
      "cell_type": "code",
      "metadata": {
        "colab": {
          "base_uri": "https://localhost:8080/"
        },
        "id": "_td-d-AblA53",
        "outputId": "94bbc2a8-b88e-4aed-d00a-8efe3b198473"
      },
      "source": [
        "sorted(paths)"
      ],
      "execution_count": null,
      "outputs": [
        {
          "output_type": "execute_result",
          "data": {
            "text/plain": [
              "['File 1.docx', 'File 2.docx', 'File 3.docx', 'File 4.docx', 'File 5.docx']"
            ]
          },
          "metadata": {
            "tags": []
          },
          "execution_count": 131
        }
      ]
    },
    {
      "cell_type": "markdown",
      "metadata": {
        "id": "2SmfxwViaYVL"
      },
      "source": [
        "А теперь посмотрим насколько это удобнее при помощи библиотеки **glob**"
      ]
    },
    {
      "cell_type": "code",
      "metadata": {
        "id": "J9mqv4PuSWa-"
      },
      "source": [
        "import glob\n",
        "\n",
        "#TODO\n",
        "paths = sorted(glob.glob(\"materials/*.docx\"))"
      ],
      "execution_count": null,
      "outputs": []
    },
    {
      "cell_type": "code",
      "metadata": {
        "colab": {
          "base_uri": "https://localhost:8080/"
        },
        "id": "as1ILjVamvGk",
        "outputId": "5552f4ab-67ca-4663-c2b5-00659775b9c5"
      },
      "source": [
        "paths"
      ],
      "execution_count": null,
      "outputs": [
        {
          "output_type": "execute_result",
          "data": {
            "text/plain": [
              "['materials/File 1.docx',\n",
              " 'materials/File 2.docx',\n",
              " 'materials/File 3.docx',\n",
              " 'materials/File 4.docx',\n",
              " 'materials/File 5.docx']"
            ]
          },
          "metadata": {
            "tags": []
          },
          "execution_count": 133
        }
      ]
    },
    {
      "cell_type": "code",
      "metadata": {
        "colab": {
          "base_uri": "https://localhost:8080/"
        },
        "id": "-W7boY1Um8k8",
        "outputId": "bcebf127-f246-4173-c898-12be42d7de1e"
      },
      "source": [
        "extract_dict(paths[3])"
      ],
      "execution_count": null,
      "outputs": [
        {
          "output_type": "execute_result",
          "data": {
            "text/plain": [
              "('Jordan Davies ', '364795')"
            ]
          },
          "metadata": {
            "tags": []
          },
          "execution_count": 137
        }
      ]
    },
    {
      "cell_type": "code",
      "metadata": {
        "colab": {
          "base_uri": "https://localhost:8080/"
        },
        "id": "xW0EfnqRnfM9",
        "outputId": "c58d5908-8963-48d5-8786-6fe36ca80c60"
      },
      "source": [
        "target_dict = {}\n",
        "target_dict['a'] = 0\n",
        "target_dict"
      ],
      "execution_count": null,
      "outputs": [
        {
          "output_type": "execute_result",
          "data": {
            "text/plain": [
              "{'a': 0}"
            ]
          },
          "metadata": {
            "tags": []
          },
          "execution_count": 138
        }
      ]
    },
    {
      "cell_type": "markdown",
      "metadata": {
        "id": "I0NXkRiB84f_"
      },
      "source": [
        "А теперь запишем информацию из всех .docx файлов. словарь target_dict"
      ]
    },
    {
      "cell_type": "code",
      "metadata": {
        "id": "stSX44ZrauRy"
      },
      "source": [
        "target_dict = {}\n",
        "#TODO\n",
        "for path in paths:\n",
        "    name, number = extract_dict(path)\n",
        "    target_dict[name] = number"
      ],
      "execution_count": null,
      "outputs": []
    },
    {
      "cell_type": "code",
      "metadata": {
        "colab": {
          "base_uri": "https://localhost:8080/"
        },
        "id": "gKrkix2ianxH",
        "outputId": "f917c306-34b7-4385-e402-3833e4783b45"
      },
      "source": [
        "target_dict"
      ],
      "execution_count": null,
      "outputs": [
        {
          "output_type": "execute_result",
          "data": {
            "text/plain": [
              "{'James Humpry ': '416',\n",
              " 'Jamie Smith ': '657321',\n",
              " 'Jordan Davies ': '364795',\n",
              " 'Michael Goldman ': '436'}"
            ]
          },
          "metadata": {
            "tags": []
          },
          "execution_count": 140
        }
      ]
    },
    {
      "cell_type": "markdown",
      "metadata": {
        "id": "YvR0EVbibLsM"
      },
      "source": [
        "Вуаля!"
      ]
    },
    {
      "cell_type": "markdown",
      "metadata": {
        "id": "2rsVeaGJbiL2"
      },
      "source": [
        "Полученный словарь необходим будет для следующих задач - а именно в разделе про **json**"
      ]
    },
    {
      "cell_type": "markdown",
      "metadata": {
        "id": "HMsPq8Bcb6_j"
      },
      "source": [
        "### А теперь создадим docx прямо из питона"
      ]
    },
    {
      "cell_type": "code",
      "metadata": {
        "id": "7pmrrdL9an6K"
      },
      "source": [
        "from docx import Document\n",
        "from docx.shared import Inches"
      ],
      "execution_count": null,
      "outputs": []
    },
    {
      "cell_type": "code",
      "metadata": {
        "colab": {
          "base_uri": "https://localhost:8080/"
        },
        "id": "F-oVfh3PcP17",
        "outputId": "01305ae0-f8ad-4d9a-ca32-8d03805cfd29"
      },
      "source": [
        "# Инициализируем документ\n",
        "\n",
        "document = Document()\n",
        "\n",
        "document.paragraphs # мы уже знакомы с вызовом paragraphs"
      ],
      "execution_count": null,
      "outputs": [
        {
          "output_type": "execute_result",
          "data": {
            "text/plain": [
              "[]"
            ]
          },
          "metadata": {
            "tags": []
          },
          "execution_count": 155
        }
      ]
    },
    {
      "cell_type": "markdown",
      "metadata": {
        "id": "hE2MFhwictjo"
      },
      "source": [
        "Метод `add_paragraph()` добавляет новую строку в документ"
      ]
    },
    {
      "cell_type": "code",
      "metadata": {
        "id": "7Mf13OyccP_c"
      },
      "source": [
        "p = document.add_paragraph('Строка 1: Вау! в Питоне можно эмулировать Word? ')"
      ],
      "execution_count": null,
      "outputs": []
    },
    {
      "cell_type": "markdown",
      "metadata": {
        "id": "hLfX4jcpdLE7"
      },
      "source": [
        "Посмотрим теперь на количество строк"
      ]
    },
    {
      "cell_type": "code",
      "metadata": {
        "colab": {
          "base_uri": "https://localhost:8080/"
        },
        "id": "9frd--EFdN3K",
        "outputId": "482d366c-7ae9-4482-b636-792a5228ae55"
      },
      "source": [
        "len(document.paragraphs)"
      ],
      "execution_count": null,
      "outputs": [
        {
          "output_type": "execute_result",
          "data": {
            "text/plain": [
              "1"
            ]
          },
          "metadata": {
            "tags": []
          },
          "execution_count": 157
        }
      ]
    },
    {
      "cell_type": "markdown",
      "metadata": {
        "id": "jKCSHxVxdRsJ"
      },
      "source": [
        "Выведем содержимое"
      ]
    },
    {
      "cell_type": "code",
      "metadata": {
        "colab": {
          "base_uri": "https://localhost:8080/",
          "height": 37
        },
        "id": "TB7U3Q1ycQJi",
        "outputId": "b40b1a47-e463-418b-eb13-d2ee69b8894c"
      },
      "source": [
        "document.paragraphs[0].text"
      ],
      "execution_count": null,
      "outputs": [
        {
          "output_type": "execute_result",
          "data": {
            "application/vnd.google.colaboratory.intrinsic+json": {
              "type": "string"
            },
            "text/plain": [
              "'Строка 1: Вау! в Питоне можно эмулировать Word? '"
            ]
          },
          "metadata": {
            "tags": []
          },
          "execution_count": 158
        }
      ]
    },
    {
      "cell_type": "markdown",
      "metadata": {
        "id": "wUYlhWexd-wz"
      },
      "source": [
        "метод `add_run(str text[, str style])` добавляет в параграф, возвращает экземпляр текста "
      ]
    },
    {
      "cell_type": "code",
      "metadata": {
        "colab": {
          "base_uri": "https://localhost:8080/"
        },
        "id": "knvIhs_ocQTo",
        "outputId": "00547fd1-dc97-4b98-84e2-db77bfa6f72e"
      },
      "source": [
        "p.add_run(' и зачем мне теперь MS office? ')"
      ],
      "execution_count": null,
      "outputs": [
        {
          "output_type": "execute_result",
          "data": {
            "text/plain": [
              "<docx.text.run.Run at 0x7fd65793b278>"
            ]
          },
          "metadata": {
            "tags": []
          },
          "execution_count": 159
        }
      ]
    },
    {
      "cell_type": "code",
      "metadata": {
        "colab": {
          "base_uri": "https://localhost:8080/",
          "height": 37
        },
        "id": "ZjpsaTgxcQdQ",
        "outputId": "609fa1d6-d1ab-485c-ba43-9bc6cdf5de4a"
      },
      "source": [
        "document.paragraphs[0].text"
      ],
      "execution_count": null,
      "outputs": [
        {
          "output_type": "execute_result",
          "data": {
            "application/vnd.google.colaboratory.intrinsic+json": {
              "type": "string"
            },
            "text/plain": [
              "'Строка 1: Вау! в Питоне можно эмулировать Word?  и зачем мне теперь MS office? '"
            ]
          },
          "metadata": {
            "tags": []
          },
          "execution_count": 160
        }
      ]
    },
    {
      "cell_type": "code",
      "metadata": {
        "colab": {
          "base_uri": "https://localhost:8080/"
        },
        "id": "RacfMHXqcQxM",
        "outputId": "8586ab17-5cc9-495b-b493-baabd3198b45"
      },
      "source": [
        "document.add_heading('Заголовок, level 1', level=1)"
      ],
      "execution_count": null,
      "outputs": [
        {
          "output_type": "execute_result",
          "data": {
            "text/plain": [
              "<docx.text.paragraph.Paragraph at 0x7fd65793b978>"
            ]
          },
          "metadata": {
            "tags": []
          },
          "execution_count": 161
        }
      ]
    },
    {
      "cell_type": "code",
      "metadata": {
        "colab": {
          "base_uri": "https://localhost:8080/",
          "height": 37
        },
        "id": "EV8QjNPdcQ7d",
        "outputId": "dfb9b96e-2649-4c77-8994-c5274e0e78c1"
      },
      "source": [
        "document.paragraphs[1].text"
      ],
      "execution_count": null,
      "outputs": [
        {
          "output_type": "execute_result",
          "data": {
            "application/vnd.google.colaboratory.intrinsic+json": {
              "type": "string"
            },
            "text/plain": [
              "'Заголовок, level 1'"
            ]
          },
          "metadata": {
            "tags": []
          },
          "execution_count": 162
        }
      ]
    },
    {
      "cell_type": "markdown",
      "metadata": {
        "id": "bC4uFRBseqJM"
      },
      "source": [
        "Также существует множество других методов,Например:\n",
        "- `add_picture()` добавляет картинку в документ\n",
        "- `add_table()` добавляет таблицу\n",
        "- `add_page_break()` добавляет новый лист\n",
        "- и тд и тд\n",
        "\n",
        "Их и многие другие Вы можете изучить самостоятельно в [документации docx](http://www.ilnurgi1.ru/docs/python/modules_user/docx.html)"
      ]
    },
    {
      "cell_type": "code",
      "metadata": {
        "colab": {
          "base_uri": "https://localhost:8080/"
        },
        "id": "KcgCOcEQfq4q",
        "outputId": "da0a38f7-cbf6-4913-fe43-07c52f6bf304"
      },
      "source": [
        "document.add_page_break() # Добавим пустой лист"
      ],
      "execution_count": null,
      "outputs": [
        {
          "output_type": "execute_result",
          "data": {
            "text/plain": [
              "<docx.text.paragraph.Paragraph at 0x7fd657966048>"
            ]
          },
          "metadata": {
            "tags": []
          },
          "execution_count": 163
        }
      ]
    },
    {
      "cell_type": "code",
      "metadata": {
        "id": "IrMSTyGsSWe2"
      },
      "source": [
        "document.save('demo.docx') # Сохраним полученный документ и посмотри что получилось"
      ],
      "execution_count": null,
      "outputs": []
    },
    {
      "cell_type": "markdown",
      "metadata": {
        "id": "982VOkhrf_zJ"
      },
      "source": [
        "# JSON\n",
        "**JSON** - один из форматов данных, основанный на принципе пар ключ-значение и упорядоченных списках.\n",
        "Файл JSON представляет собой более простую и лёгкую альтернативу расширению с аналогичными функциями XML (Extensive Markup Language).\n",
        "\n",
        "json - это удобный формат сериализации данных. Возможность сериализации/десериализации в json есть буквально во всех языках программирования что делает этот формат довольно **универсальным.**\n",
        "\n",
        "За последние 15 лет JSON стал формальным стандартом обмена данными и используется практически везде в интернете. Сегодня он используется практически всеми веб-серверами. К такой популярности привело еще и то, что многие базы данных поддерживали JSON. Современные реляционные базы данных, такие как PostgreSQL и MySQL теперь поддерживают хранение и экспорт данных в JSON. \n",
        "\n",
        "Однако у него есть и свои минусы:\n",
        "- Нет типа даты. разработчики должны использовать строковые представления дат, что может вызвать несоответствие форматирования. \n",
        "- Нет комментариев - вы не сможете делать аннотации для полей, которые требуют этого прямо в коде\n",
        "\n",
        "**JSON vs XML**\n",
        "основной альтернативой JSON был и является XML. Однако XML становится все менее распространенным в новых системах. И очень легко понять почему. В дополнение к избыточности кода, по сути запись данных в XML занимает в несколько раз больше места."
      ]
    },
    {
      "cell_type": "code",
      "metadata": {
        "id": "R8OtAxsTekSH"
      },
      "source": [
        "import json"
      ],
      "execution_count": null,
      "outputs": []
    },
    {
      "cell_type": "markdown",
      "metadata": {
        "id": "bOckhxdzl-_O"
      },
      "source": [
        "Синтаксис загрузки json файлов похож на загрузку .txt файлов, только теперь используем метод **json.load**"
      ]
    },
    {
      "cell_type": "code",
      "metadata": {
        "id": "nJWCrnyYl8yh"
      },
      "source": [
        "with open(\"materials/data_file.json\", \"r\") as read_file:\n",
        "    data = json.load(read_file)"
      ],
      "execution_count": null,
      "outputs": []
    },
    {
      "cell_type": "code",
      "metadata": {
        "colab": {
          "base_uri": "https://localhost:8080/"
        },
        "id": "bI-Vksdemt4_",
        "outputId": "bd5c9048-946c-4d22-f069-77e458aa216a"
      },
      "source": [
        "data"
      ],
      "execution_count": null,
      "outputs": [
        {
          "output_type": "execute_result",
          "data": {
            "text/plain": [
              "{'additionalProperties': {'example': 'xyz'},\n",
              " 'arrears': False,\n",
              " 'billerData1': 'TEST COMMENT',\n",
              " 'billerData2': 'TEST DATA',\n",
              " 'billerTaxRate': {'id': 51},\n",
              " 'client': {'accountNumber': 'ACME001', 'id': 12351},\n",
              " 'clientContact': {'emailAddress': 'robert@billdozer.com',\n",
              "  'id': 59039,\n",
              "  'idNumber': '',\n",
              "  'name': 'Robert Pretorius'},\n",
              " 'clientContactExclusive': False,\n",
              " 'clientContract': {'contractNumber': 'ACME001', 'id': 59045},\n",
              " 'clientTransactionLines': [{'accountingCode': {'code': '1',\n",
              "    'id': 353,\n",
              "    'name': 'sales one',\n",
              "    'quantity': 1.0,\n",
              "    'unitAmount': 200.0},\n",
              "   'description': 'sales one',\n",
              "   'quantity': 1.0,\n",
              "   'taxable': True,\n",
              "   'unitAmountExcludingTax': 180.0,\n",
              "   'unitAmountIncludingTax': 200.0}],\n",
              " 'collectOnContract': True,\n",
              " 'currency': 'ZAR',\n",
              " 'dateDelivery': '2015-04-27T00:00:00UTC',\n",
              " 'dateDue': '2015-04-27T00:00:00UTC',\n",
              " 'dateIssued': '2015-04-27T00:00:00UTC',\n",
              " 'discount': 0,\n",
              " 'info': 'TEST INFO',\n",
              " 'paymentStatus': 'UNPAID',\n",
              " 'paymentTerms': 0,\n",
              " 'poNumber': 0,\n",
              " 'reference': 'INV001',\n",
              " 'testMode': True,\n",
              " 'type': 'INVOICE'}"
            ]
          },
          "metadata": {
            "tags": []
          },
          "execution_count": 167
        }
      ]
    },
    {
      "cell_type": "code",
      "metadata": {
        "colab": {
          "base_uri": "https://localhost:8080/"
        },
        "id": "WOL3ukX0fVNY",
        "outputId": "1ba85aa6-13ae-4646-a725-eaf3ddb9c8ca"
      },
      "source": [
        "data.keys()"
      ],
      "execution_count": null,
      "outputs": [
        {
          "output_type": "execute_result",
          "data": {
            "text/plain": [
              "dict_keys(['poNumber', 'discount', 'paymentTerms', 'reference', 'paymentStatus', 'type', 'clientContactExclusive', 'collectOnContract', 'info', 'dateIssued', 'dateDelivery', 'dateDue', 'currency', 'billerData1', 'billerData2', 'arrears', 'testMode', 'clientTransactionLines', 'client', 'clientContract', 'clientContact', 'billerTaxRate', 'additionalProperties'])"
            ]
          },
          "metadata": {
            "tags": []
          },
          "execution_count": 168
        }
      ]
    },
    {
      "cell_type": "markdown",
      "metadata": {
        "id": "EvkyW-MUmvjR"
      },
      "source": [
        "Нам интересно извлечь следующие данные:\n",
        "\n",
        "- 'clientContact'\n",
        "- 'unitAmountExcludingTax'\n",
        "- 'unitAmountIncludingTax'\n",
        "\n",
        "видим что последние два параметра лежат в 'clientTransactionLines'"
      ]
    },
    {
      "cell_type": "code",
      "metadata": {
        "colab": {
          "base_uri": "https://localhost:8080/",
          "height": 37
        },
        "id": "xGXiiU8Qm7lv",
        "outputId": "4479dcbf-f689-4d46-9c0d-733db616fe66"
      },
      "source": [
        "data['clientContact']['name']"
      ],
      "execution_count": null,
      "outputs": [
        {
          "output_type": "execute_result",
          "data": {
            "application/vnd.google.colaboratory.intrinsic+json": {
              "type": "string"
            },
            "text/plain": [
              "'Robert Pretorius'"
            ]
          },
          "metadata": {
            "tags": []
          },
          "execution_count": 170
        }
      ]
    },
    {
      "cell_type": "code",
      "metadata": {
        "colab": {
          "base_uri": "https://localhost:8080/"
        },
        "id": "y5JEXvqWr5iC",
        "outputId": "5681dfad-e389-47c4-97ce-e93479529bc0"
      },
      "source": [
        "x = data['clientTransactionLines'][0]['unitAmountExcludingTax']"
      ],
      "execution_count": null,
      "outputs": [
        {
          "output_type": "execute_result",
          "data": {
            "text/plain": [
              "180.0"
            ]
          },
          "metadata": {
            "tags": []
          },
          "execution_count": 176
        }
      ]
    },
    {
      "cell_type": "markdown",
      "metadata": {
        "id": "0e4FGdLgnUn7"
      },
      "source": [
        "**Задание**\n",
        "\n",
        "Извлечь цену без налога и с налогом. Оценить % налога."
      ]
    },
    {
      "cell_type": "code",
      "metadata": {
        "colab": {
          "base_uri": "https://localhost:8080/"
        },
        "id": "8yJqK0K7fVkH",
        "outputId": "abca0916-20ec-4eea-d9a2-4f9c1dd4d568"
      },
      "source": [
        "x = data['clientTransactionLines'][0]['unitAmountExcludingTax']\n",
        "y = data['clientTransactionLines'][0]['unitAmountIncludingTax']\n",
        "\n",
        "tax = (y-x)/y * 100\n",
        "\n",
        "print('tax is ', round(tax, 3), '%')"
      ],
      "execution_count": null,
      "outputs": [
        {
          "output_type": "stream",
          "text": [
            "tax is  10.0 %\n"
          ],
          "name": "stdout"
        }
      ]
    },
    {
      "cell_type": "markdown",
      "metadata": {
        "id": "8FUJR5VFgmhW"
      },
      "source": [
        "Помните наш словарь из пункта про работу с Word файлами?"
      ]
    },
    {
      "cell_type": "code",
      "metadata": {
        "colab": {
          "base_uri": "https://localhost:8080/"
        },
        "id": "rbAoGP0ml5lg",
        "outputId": "1e1855dd-d51c-46c1-dd55-fffb6e3d1460"
      },
      "source": [
        "target_dict"
      ],
      "execution_count": null,
      "outputs": [
        {
          "output_type": "execute_result",
          "data": {
            "text/plain": [
              "{'James Humpry ': '416',\n",
              " 'Jamie Smith ': '657321',\n",
              " 'Jordan Davies ': '364795',\n",
              " 'Michael Goldman ': '436'}"
            ]
          },
          "metadata": {
            "tags": []
          },
          "execution_count": 184
        }
      ]
    },
    {
      "cell_type": "markdown",
      "metadata": {
        "id": "77DNCvE1gzcj"
      },
      "source": [
        "Давайте сораним его в формате json, для этого используем метод **dump()**"
      ]
    },
    {
      "cell_type": "code",
      "metadata": {
        "id": "YBnv_Ijpf75X"
      },
      "source": [
        "with open(\"ppl_accounts.json\", \"w\") as write_file:\n",
        "    json.dump(target_dict, write_file)"
      ],
      "execution_count": null,
      "outputs": []
    },
    {
      "cell_type": "markdown",
      "metadata": {
        "id": "xfQi31uhhGZj"
      },
      "source": [
        "Проверим корректность загрузки"
      ]
    },
    {
      "cell_type": "code",
      "metadata": {
        "id": "QTlOpty7f8Fp"
      },
      "source": [
        "with open(\"ppl_accounts.json\", \"r\") as read_file:\n",
        "    target_dict = json.load(read_file)"
      ],
      "execution_count": null,
      "outputs": []
    },
    {
      "cell_type": "code",
      "metadata": {
        "colab": {
          "base_uri": "https://localhost:8080/"
        },
        "id": "WtSZgknsl5pZ",
        "outputId": "73d70b33-8b4c-4a1b-bb29-b4651a1860d1"
      },
      "source": [
        "target_dict"
      ],
      "execution_count": null,
      "outputs": [
        {
          "output_type": "execute_result",
          "data": {
            "text/plain": [
              "{'James Humpry ': '416',\n",
              " 'Jamie Smith ': '657321',\n",
              " 'Jordan Davies ': '364795',\n",
              " 'Michael Goldman ': '436'}"
            ]
          },
          "metadata": {
            "tags": []
          },
          "execution_count": 187
        }
      ]
    },
    {
      "cell_type": "markdown",
      "metadata": {
        "id": "yv0ov1xLisKX"
      },
      "source": [
        "### Работа с API"
      ]
    },
    {
      "cell_type": "code",
      "metadata": {
        "id": "KsOfvyeHh1fc"
      },
      "source": [
        "import json\n",
        "import requests"
      ],
      "execution_count": null,
      "outputs": []
    },
    {
      "cell_type": "markdown",
      "metadata": {
        "id": "o1PJtQqEjnOH"
      },
      "source": [
        "Нам нужно выполнить запрос API в сервис JSONPlaceholder, для выполнения запроса используем библиотеку **requests**"
      ]
    },
    {
      "cell_type": "code",
      "metadata": {
        "id": "hcQY2cXviMax"
      },
      "source": [
        "response = requests.get(\"https://jsonplaceholder.typicode.com/todos\")\n",
        "\n",
        "todos = json.loads(response.text) # переводит json-форматированные данные в настоящий json"
      ],
      "execution_count": null,
      "outputs": []
    },
    {
      "cell_type": "code",
      "metadata": {
        "colab": {
          "base_uri": "https://localhost:8080/"
        },
        "id": "0xirBOvAwjK6",
        "outputId": "1cd5772d-19d5-4c90-aa0a-d3a8d6be45e3"
      },
      "source": [
        "todos[100]"
      ],
      "execution_count": null,
      "outputs": [
        {
          "output_type": "execute_result",
          "data": {
            "text/plain": [
              "{'completed': False,\n",
              " 'id': 101,\n",
              " 'title': 'explicabo enim cumque porro aperiam occaecati minima',\n",
              " 'userId': 6}"
            ]
          },
          "metadata": {
            "tags": []
          },
          "execution_count": 197
        }
      ]
    },
    {
      "cell_type": "code",
      "metadata": {
        "id": "C5zLOQp-jA8k"
      },
      "source": [
        "len(todos)"
      ],
      "execution_count": null,
      "outputs": []
    },
    {
      "cell_type": "code",
      "metadata": {
        "colab": {
          "base_uri": "https://localhost:8080/"
        },
        "id": "kOoJal6biMlx",
        "outputId": "4850121e-5ce2-46bd-ebbb-7064b7fa18ac"
      },
      "source": [
        "todos[1].keys()"
      ],
      "execution_count": null,
      "outputs": [
        {
          "output_type": "execute_result",
          "data": {
            "text/plain": [
              "dict_keys(['userId', 'id', 'title', 'completed'])"
            ]
          },
          "metadata": {
            "tags": []
          },
          "execution_count": 198
        }
      ]
    },
    {
      "cell_type": "code",
      "metadata": {
        "colab": {
          "base_uri": "https://localhost:8080/"
        },
        "id": "_DM0xayFj3lX",
        "outputId": "9f24ad8c-59f5-43a5-e5b2-9a85af7272f9"
      },
      "source": [
        "response.json() == todos"
      ],
      "execution_count": null,
      "outputs": [
        {
          "output_type": "execute_result",
          "data": {
            "text/plain": [
              "True"
            ]
          },
          "metadata": {
            "tags": []
          },
          "execution_count": 200
        }
      ]
    },
    {
      "cell_type": "code",
      "metadata": {
        "colab": {
          "base_uri": "https://localhost:8080/"
        },
        "id": "jBvnPMtykKKi",
        "outputId": "2a0d1b36-9e8d-4930-b881-a857fe714b21"
      },
      "source": [
        "todos[:4]"
      ],
      "execution_count": null,
      "outputs": [
        {
          "output_type": "execute_result",
          "data": {
            "text/plain": [
              "[{'completed': False, 'id': 1, 'title': 'delectus aut autem', 'userId': 1},\n",
              " {'completed': False,\n",
              "  'id': 2,\n",
              "  'title': 'quis ut nam facilis et officia qui',\n",
              "  'userId': 1},\n",
              " {'completed': False, 'id': 3, 'title': 'fugiat veniam minus', 'userId': 1},\n",
              " {'completed': True, 'id': 4, 'title': 'et porro tempora', 'userId': 1}]"
            ]
          },
          "metadata": {
            "tags": []
          },
          "execution_count": 201
        }
      ]
    },
    {
      "cell_type": "code",
      "metadata": {
        "colab": {
          "base_uri": "https://localhost:8080/"
        },
        "id": "hF0PbHCgkvYs",
        "outputId": "75833f2d-fac4-4a9c-b6df-9e543dcc8fc0"
      },
      "source": [
        "todos[58:62]"
      ],
      "execution_count": null,
      "outputs": [
        {
          "output_type": "execute_result",
          "data": {
            "text/plain": [
              "[{'completed': False,\n",
              "  'id': 59,\n",
              "  'title': 'perspiciatis velit id laborum placeat iusto et aliquam odio',\n",
              "  'userId': 3},\n",
              " {'completed': True,\n",
              "  'id': 60,\n",
              "  'title': 'et sequi qui architecto ut adipisci',\n",
              "  'userId': 3},\n",
              " {'completed': True,\n",
              "  'id': 61,\n",
              "  'title': 'odit optio omnis qui sunt',\n",
              "  'userId': 4},\n",
              " {'completed': False,\n",
              "  'id': 62,\n",
              "  'title': 'et placeat et tempore aspernatur sint numquam',\n",
              "  'userId': 4}]"
            ]
          },
          "metadata": {
            "tags": []
          },
          "execution_count": 202
        }
      ]
    },
    {
      "cell_type": "code",
      "metadata": {
        "id": "9sxkj2bkkKXL"
      },
      "source": [
        "response = requests.get(\"https://jsonplaceholder.typicode.com/todos\")\n",
        "todos = json.loads(response.text)\n",
        " \n",
        "# Соотношение userId с числом выполненных пользователем задач.\n",
        "todos_by_user = {}"
      ],
      "execution_count": null,
      "outputs": []
    },
    {
      "cell_type": "code",
      "metadata": {
        "id": "oTgjzYV6yueC"
      },
      "source": [
        "for todo in todos:\n",
        "    if todo[\"completed\"]:\n",
        "        todos_by_user[str(todo[\"userId\"])] = 0"
      ],
      "execution_count": null,
      "outputs": []
    },
    {
      "cell_type": "code",
      "metadata": {
        "id": "FIq36mPNkoSI"
      },
      "source": [
        "for todo in todos:\n",
        "    if todo[\"completed\"]:\n",
        "        todos_by_user[str(todo[\"userId\"])] += 1"
      ],
      "execution_count": null,
      "outputs": []
    },
    {
      "cell_type": "code",
      "metadata": {
        "colab": {
          "base_uri": "https://localhost:8080/"
        },
        "id": "N2RzIMVtyJ7-",
        "outputId": "db987c28-bb59-4927-e60c-65408c4eb2d9"
      },
      "source": [
        "todos_by_user"
      ],
      "execution_count": null,
      "outputs": [
        {
          "output_type": "execute_result",
          "data": {
            "text/plain": [
              "{'1': 11,\n",
              " '10': 12,\n",
              " '2': 8,\n",
              " '3': 7,\n",
              " '4': 6,\n",
              " '5': 12,\n",
              " '6': 6,\n",
              " '7': 9,\n",
              " '8': 11,\n",
              " '9': 8}"
            ]
          },
          "metadata": {
            "tags": []
          },
          "execution_count": 215
        }
      ]
    },
    {
      "cell_type": "code",
      "metadata": {
        "colab": {
          "base_uri": "https://localhost:8080/"
        },
        "id": "USzoNY60zL6I",
        "outputId": "83a91bf0-f69f-49c4-b9cd-8572dfaa7ef9"
      },
      "source": [
        "todos_by_user.items()"
      ],
      "execution_count": null,
      "outputs": [
        {
          "output_type": "execute_result",
          "data": {
            "text/plain": [
              "dict_items([('1', 11), ('2', 8), ('3', 7), ('4', 6), ('5', 12), ('6', 6), ('7', 9), ('8', 11), ('9', 8), ('10', 12)])"
            ]
          },
          "metadata": {
            "tags": []
          },
          "execution_count": 216
        }
      ]
    },
    {
      "cell_type": "code",
      "metadata": {
        "id": "73DtW5azvs69"
      },
      "source": [
        "# Создание отсортированного списка пар (userId, num_complete).\n",
        "top_users = sorted(todos_by_user.items(), \n",
        "                   key=lambda x: x[1], reverse=True)\n"
      ],
      "execution_count": null,
      "outputs": []
    },
    {
      "cell_type": "code",
      "metadata": {
        "colab": {
          "base_uri": "https://localhost:8080/"
        },
        "id": "cE08GLDSzU8z",
        "outputId": "b4365b26-9f2b-4ac0-fe44-5b35ac2bbc87"
      },
      "source": [
        "top_users"
      ],
      "execution_count": null,
      "outputs": [
        {
          "output_type": "execute_result",
          "data": {
            "text/plain": [
              "[('5', 12),\n",
              " ('10', 12),\n",
              " ('1', 11),\n",
              " ('8', 11),\n",
              " ('7', 9),\n",
              " ('2', 8),\n",
              " ('9', 8),\n",
              " ('3', 7),\n",
              " ('4', 6),\n",
              " ('6', 6)]"
            ]
          },
          "metadata": {
            "tags": []
          },
          "execution_count": 222
        }
      ]
    },
    {
      "cell_type": "code",
      "metadata": {
        "colab": {
          "base_uri": "https://localhost:8080/"
        },
        "id": "y9WMI8l0vxh1",
        "outputId": "e0c6f88d-0849-4614-dfbe-e332f8706390"
      },
      "source": [
        " #Получение максимального количества выполненных задач.\n",
        "max_complete = top_users[0][1]\n",
        "max_complete"
      ],
      "execution_count": null,
      "outputs": [
        {
          "output_type": "execute_result",
          "data": {
            "text/plain": [
              "12"
            ]
          },
          "metadata": {
            "tags": []
          },
          "execution_count": 224
        }
      ]
    },
    {
      "cell_type": "code",
      "metadata": {
        "colab": {
          "base_uri": "https://localhost:8080/"
        },
        "id": "U8Q-T4tclIx3",
        "outputId": "146c8826-b383-44bf-9f1b-cbc075ae00b5"
      },
      "source": [
        "todos_by_user"
      ],
      "execution_count": null,
      "outputs": [
        {
          "output_type": "execute_result",
          "data": {
            "text/plain": [
              "{'1': 11,\n",
              " '10': 12,\n",
              " '2': 8,\n",
              " '3': 7,\n",
              " '4': 6,\n",
              " '5': 12,\n",
              " '6': 6,\n",
              " '7': 9,\n",
              " '8': 11,\n",
              " '9': 8}"
            ]
          },
          "metadata": {
            "tags": []
          },
          "execution_count": 225
        }
      ]
    },
    {
      "cell_type": "code",
      "metadata": {
        "colab": {
          "base_uri": "https://localhost:8080/"
        },
        "id": "d7xyoVcvkod6",
        "outputId": "5c72cf05-afb0-4fb9-8e1b-8fa98b05663a"
      },
      "source": [
        "top_users"
      ],
      "execution_count": null,
      "outputs": [
        {
          "output_type": "execute_result",
          "data": {
            "text/plain": [
              "[('5', 12),\n",
              " ('10', 12),\n",
              " ('1', 11),\n",
              " ('8', 11),\n",
              " ('7', 9),\n",
              " ('2', 8),\n",
              " ('9', 8),\n",
              " ('3', 7),\n",
              " ('4', 6),\n",
              " ('6', 6)]"
            ]
          },
          "metadata": {
            "tags": []
          },
          "execution_count": 226
        }
      ]
    },
    {
      "cell_type": "code",
      "metadata": {
        "colab": {
          "base_uri": "https://localhost:8080/"
        },
        "id": "ykbWagvGlcq1",
        "outputId": "78534dcc-620a-4087-837b-f1e2659c4094"
      },
      "source": [
        "max_complete"
      ],
      "execution_count": null,
      "outputs": [
        {
          "output_type": "execute_result",
          "data": {
            "text/plain": [
              "12"
            ]
          },
          "metadata": {
            "tags": []
          },
          "execution_count": 227
        }
      ]
    },
    {
      "cell_type": "code",
      "metadata": {
        "id": "RjNXT3CVh8W3"
      },
      "source": [
        "users = []\n",
        "for user, num_complete in top_users:\n",
        "    if num_complete < max_complete:\n",
        "        break\n",
        "    users.append(str(user))\n",
        " \n",
        "max_users = \" and \".join(users)"
      ],
      "execution_count": null,
      "outputs": []
    },
    {
      "cell_type": "code",
      "metadata": {
        "colab": {
          "base_uri": "https://localhost:8080/"
        },
        "id": "s_AqM5Fnz77X",
        "outputId": "655693a7-05d8-48ad-a0e3-a900acc9118a"
      },
      "source": [
        "users"
      ],
      "execution_count": null,
      "outputs": [
        {
          "output_type": "execute_result",
          "data": {
            "text/plain": [
              "['5', '10']"
            ]
          },
          "metadata": {
            "tags": []
          },
          "execution_count": 232
        }
      ]
    },
    {
      "cell_type": "code",
      "metadata": {
        "colab": {
          "base_uri": "https://localhost:8080/",
          "height": 37
        },
        "id": "njePFJhLzoRq",
        "outputId": "3a1100eb-5155-4e40-a886-6094651d38b4"
      },
      "source": [
        "max_users"
      ],
      "execution_count": null,
      "outputs": [
        {
          "output_type": "execute_result",
          "data": {
            "application/vnd.google.colaboratory.intrinsic+json": {
              "type": "string"
            },
            "text/plain": [
              "'5 and 10'"
            ]
          },
          "metadata": {
            "tags": []
          },
          "execution_count": 231
        }
      ]
    },
    {
      "cell_type": "code",
      "metadata": {
        "colab": {
          "base_uri": "https://localhost:8080/"
        },
        "id": "qT7oQYwild3k",
        "outputId": "a7c197ea-24dd-4542-cf74-a1f13c0ae80c"
      },
      "source": [
        "s = \"s\" if len(users) > 1 else \"\"\n",
        "\n",
        "print(f\"user{s} {max_users} completed {max_complete} TODOs\")"
      ],
      "execution_count": null,
      "outputs": [
        {
          "output_type": "stream",
          "text": [
            "users 5 and 10 completed 12 TODOs\n"
          ],
          "name": "stdout"
        }
      ]
    },
    {
      "cell_type": "code",
      "metadata": {
        "id": "zOlxE3EWmASy",
        "colab": {
          "base_uri": "https://localhost:8080/"
        },
        "outputId": "e4fefe41-affa-4f66-c7de-fdb490bc1d44"
      },
      "source": [
        "%%writefile test_keep.py\n",
        "\n",
        "# Определить функцию filter() выполненных задач\n",
        "# для пользователей с максимально выполненными задачами (те для users 5 и 10 )\n",
        "\n",
        "def keep(todo, users=[5, 10]):\n",
        "    is_complete = todo['completed'] #True/False\n",
        "    has_max_count =  todo[\"userId\"] in users #True/False\n",
        "    return is_complete and has_max_count"
      ],
      "execution_count": null,
      "outputs": [
        {
          "output_type": "stream",
          "text": [
            "Writing test_keep.py\n"
          ],
          "name": "stdout"
        }
      ]
    },
    {
      "cell_type": "code",
      "metadata": {
        "id": "Hw4sa2-M-Nr0"
      },
      "source": [
        "filtered_todos = list(filter(keep, todos))"
      ],
      "execution_count": null,
      "outputs": []
    },
    {
      "cell_type": "markdown",
      "metadata": {
        "id": "0y5M0Pp1qWJ6"
      },
      "source": [
        "вспомним как записать функцию в .py файл?"
      ]
    },
    {
      "cell_type": "markdown",
      "metadata": {
        "id": "LnZ1lMf_qejY"
      },
      "source": [
        "**Задание**\n",
        "\n",
        "Записать функцию **keep** в отдельный модуль **keep_func** и ипортировать ее из этого же модуля при помощи **import**"
      ]
    },
    {
      "cell_type": "code",
      "metadata": {
        "id": "SyEwSGT7rJEJ"
      },
      "source": [
        "#TODO\n",
        "from test_keep import *"
      ],
      "execution_count": null,
      "outputs": []
    },
    {
      "cell_type": "code",
      "metadata": {
        "id": "yw0dCT7RmAsu"
      },
      "source": [
        "filtered_todos = list(filter(keep, todos))"
      ],
      "execution_count": null,
      "outputs": []
    },
    {
      "cell_type": "code",
      "metadata": {
        "id": "BibAQKwRloGy"
      },
      "source": [
        "# Записать отфильтрованные задачи в файл\n",
        "with open(\"filtered_data_file.json\", \"w\") as data_file:\n",
        "    filtered_todos = list(filter(keep, todos))\n",
        "    json.dump(filtered_todos, data_file, indent=2)"
      ],
      "execution_count": null,
      "outputs": []
    },
    {
      "cell_type": "markdown",
      "metadata": {
        "id": "b0T3tiU5oCfg"
      },
      "source": [
        "# Pandas: работаем с xlsx, csv\n",
        "\n",
        "У Pandas множество методов для считывания данных, эта библиотека может открывать следующие типы данных:\n",
        "\n",
        "- pandas.read_pickle()\n",
        "- pandas.read_csv()\n",
        "- pandas.read_csv()\n",
        "- pandas.read_sql()\n",
        "- pandas.read_html()\n",
        "\n",
        "и еще много других!"
      ]
    },
    {
      "cell_type": "code",
      "metadata": {
        "id": "v6l4GzgvldrV"
      },
      "source": [
        "import pandas as pd"
      ],
      "execution_count": null,
      "outputs": []
    },
    {
      "cell_type": "markdown",
      "metadata": {
        "id": "PJTJmgbppv9k"
      },
      "source": [
        "Немного отвлечемся перед переходом к работе с csv и excel и попробуем загрузить созданный нами json файл в таблицу Pandas Dataframe при помощи метода **read_json()**"
      ]
    },
    {
      "cell_type": "code",
      "metadata": {
        "id": "MHsCKxWupsC7"
      },
      "source": [
        "df = pd.read_json(\"filtered_data_file.json\")"
      ],
      "execution_count": null,
      "outputs": []
    },
    {
      "cell_type": "markdown",
      "metadata": {
        "id": "9bBPC3wnqGlG"
      },
      "source": [
        "При помощи метода **head()** выведем первые 5 строк, при помощи **tail()** последние 5"
      ]
    },
    {
      "cell_type": "code",
      "metadata": {
        "colab": {
          "base_uri": "https://localhost:8080/",
          "height": 204
        },
        "id": "gm4m9WRFp-8s",
        "outputId": "d427a5ec-f004-4204-8d07-c889f766b6ad"
      },
      "source": [
        "df.head(5)"
      ],
      "execution_count": null,
      "outputs": [
        {
          "output_type": "execute_result",
          "data": {
            "text/html": [
              "<div>\n",
              "<style scoped>\n",
              "    .dataframe tbody tr th:only-of-type {\n",
              "        vertical-align: middle;\n",
              "    }\n",
              "\n",
              "    .dataframe tbody tr th {\n",
              "        vertical-align: top;\n",
              "    }\n",
              "\n",
              "    .dataframe thead th {\n",
              "        text-align: right;\n",
              "    }\n",
              "</style>\n",
              "<table border=\"1\" class=\"dataframe\">\n",
              "  <thead>\n",
              "    <tr style=\"text-align: right;\">\n",
              "      <th></th>\n",
              "      <th>userId</th>\n",
              "      <th>id</th>\n",
              "      <th>title</th>\n",
              "      <th>completed</th>\n",
              "    </tr>\n",
              "  </thead>\n",
              "  <tbody>\n",
              "    <tr>\n",
              "      <th>0</th>\n",
              "      <td>5</td>\n",
              "      <td>81</td>\n",
              "      <td>suscipit qui totam</td>\n",
              "      <td>True</td>\n",
              "    </tr>\n",
              "    <tr>\n",
              "      <th>1</th>\n",
              "      <td>5</td>\n",
              "      <td>83</td>\n",
              "      <td>quidem at rerum quis ex aut sit quam</td>\n",
              "      <td>True</td>\n",
              "    </tr>\n",
              "    <tr>\n",
              "      <th>2</th>\n",
              "      <td>5</td>\n",
              "      <td>85</td>\n",
              "      <td>et quia ad iste a</td>\n",
              "      <td>True</td>\n",
              "    </tr>\n",
              "    <tr>\n",
              "      <th>3</th>\n",
              "      <td>5</td>\n",
              "      <td>86</td>\n",
              "      <td>incidunt ut saepe autem</td>\n",
              "      <td>True</td>\n",
              "    </tr>\n",
              "    <tr>\n",
              "      <th>4</th>\n",
              "      <td>5</td>\n",
              "      <td>87</td>\n",
              "      <td>laudantium quae eligendi consequatur quia et v...</td>\n",
              "      <td>True</td>\n",
              "    </tr>\n",
              "  </tbody>\n",
              "</table>\n",
              "</div>"
            ],
            "text/plain": [
              "   userId  id                                              title  completed\n",
              "0       5  81                                 suscipit qui totam       True\n",
              "1       5  83               quidem at rerum quis ex aut sit quam       True\n",
              "2       5  85                                  et quia ad iste a       True\n",
              "3       5  86                            incidunt ut saepe autem       True\n",
              "4       5  87  laudantium quae eligendi consequatur quia et v...       True"
            ]
          },
          "metadata": {
            "tags": []
          },
          "execution_count": 248
        }
      ]
    },
    {
      "cell_type": "code",
      "metadata": {
        "colab": {
          "base_uri": "https://localhost:8080/",
          "height": 204
        },
        "id": "sz63unC6p_FN",
        "outputId": "f05b3ec6-a47b-4e06-b4d0-6606c5e6c439"
      },
      "source": [
        "df.tail(5)"
      ],
      "execution_count": null,
      "outputs": [
        {
          "output_type": "execute_result",
          "data": {
            "text/html": [
              "<div>\n",
              "<style scoped>\n",
              "    .dataframe tbody tr th:only-of-type {\n",
              "        vertical-align: middle;\n",
              "    }\n",
              "\n",
              "    .dataframe tbody tr th {\n",
              "        vertical-align: top;\n",
              "    }\n",
              "\n",
              "    .dataframe thead th {\n",
              "        text-align: right;\n",
              "    }\n",
              "</style>\n",
              "<table border=\"1\" class=\"dataframe\">\n",
              "  <thead>\n",
              "    <tr style=\"text-align: right;\">\n",
              "      <th></th>\n",
              "      <th>userId</th>\n",
              "      <th>id</th>\n",
              "      <th>title</th>\n",
              "      <th>completed</th>\n",
              "    </tr>\n",
              "  </thead>\n",
              "  <tbody>\n",
              "    <tr>\n",
              "      <th>19</th>\n",
              "      <td>10</td>\n",
              "      <td>195</td>\n",
              "      <td>rerum ex veniam mollitia voluptatibus pariatur</td>\n",
              "      <td>True</td>\n",
              "    </tr>\n",
              "    <tr>\n",
              "      <th>20</th>\n",
              "      <td>10</td>\n",
              "      <td>196</td>\n",
              "      <td>consequuntur aut ut fugit similique</td>\n",
              "      <td>True</td>\n",
              "    </tr>\n",
              "    <tr>\n",
              "      <th>21</th>\n",
              "      <td>10</td>\n",
              "      <td>197</td>\n",
              "      <td>dignissimos quo nobis earum saepe</td>\n",
              "      <td>True</td>\n",
              "    </tr>\n",
              "    <tr>\n",
              "      <th>22</th>\n",
              "      <td>10</td>\n",
              "      <td>198</td>\n",
              "      <td>quis eius est sint explicabo</td>\n",
              "      <td>True</td>\n",
              "    </tr>\n",
              "    <tr>\n",
              "      <th>23</th>\n",
              "      <td>10</td>\n",
              "      <td>199</td>\n",
              "      <td>numquam repellendus a magnam</td>\n",
              "      <td>True</td>\n",
              "    </tr>\n",
              "  </tbody>\n",
              "</table>\n",
              "</div>"
            ],
            "text/plain": [
              "    userId   id                                           title  completed\n",
              "19      10  195  rerum ex veniam mollitia voluptatibus pariatur       True\n",
              "20      10  196             consequuntur aut ut fugit similique       True\n",
              "21      10  197               dignissimos quo nobis earum saepe       True\n",
              "22      10  198                    quis eius est sint explicabo       True\n",
              "23      10  199                    numquam repellendus a magnam       True"
            ]
          },
          "metadata": {
            "tags": []
          },
          "execution_count": 249
        }
      ]
    },
    {
      "cell_type": "markdown",
      "metadata": {
        "id": "DnYR9z6JtZtZ"
      },
      "source": [
        "Теперь откроем **csv** файл"
      ]
    },
    {
      "cell_type": "markdown",
      "metadata": {
        "id": "jhX87HkFuPty"
      },
      "source": [
        "Скачаем датасет [\"Balance of payments and international investment position: June 2020\"](https://www.stats.govt.nz/large-datasets/csv-files-for-download/)\n"
      ]
    },
    {
      "cell_type": "code",
      "metadata": {
        "colab": {
          "base_uri": "https://localhost:8080/"
        },
        "id": "QsI4_HzFp_Jg",
        "outputId": "69f6b965-c63c-428e-9b42-c7628ae10afd"
      },
      "source": [
        "df = pd.read_csv(\"https://www.stats.govt.nz/assets/Uploads/Balance-of-payments/Balance-of-payments-and-international-investment-position-June-2020-quarter/Download-data/balance-of-payments-international-investment-position-jun20-csv-tables.zip\",\n",
        "                 compression='zip', delimiter = \",\")\n",
        "df = df[:10000]"
      ],
      "execution_count": null,
      "outputs": [
        {
          "output_type": "stream",
          "text": [
            "/usr/local/lib/python3.6/dist-packages/IPython/core/interactiveshell.py:2718: DtypeWarning: Columns (3) have mixed types.Specify dtype option on import or set low_memory=False.\n",
            "  interactivity=interactivity, compiler=compiler, result=result)\n"
          ],
          "name": "stderr"
        }
      ]
    },
    {
      "cell_type": "code",
      "metadata": {
        "colab": {
          "base_uri": "https://localhost:8080/",
          "height": 204
        },
        "id": "vDaz_EoVqRHI",
        "outputId": "3a2a33c6-68f0-44a8-940f-ee674ea60a10"
      },
      "source": [
        "df.head()"
      ],
      "execution_count": null,
      "outputs": [
        {
          "output_type": "execute_result",
          "data": {
            "text/html": [
              "<div>\n",
              "<style scoped>\n",
              "    .dataframe tbody tr th:only-of-type {\n",
              "        vertical-align: middle;\n",
              "    }\n",
              "\n",
              "    .dataframe tbody tr th {\n",
              "        vertical-align: top;\n",
              "    }\n",
              "\n",
              "    .dataframe thead th {\n",
              "        text-align: right;\n",
              "    }\n",
              "</style>\n",
              "<table border=\"1\" class=\"dataframe\">\n",
              "  <thead>\n",
              "    <tr style=\"text-align: right;\">\n",
              "      <th></th>\n",
              "      <th>Series_reference</th>\n",
              "      <th>Period</th>\n",
              "      <th>Data_value</th>\n",
              "      <th>Suppressed</th>\n",
              "      <th>STATUS</th>\n",
              "      <th>UNITS</th>\n",
              "      <th>MAGNTUDE</th>\n",
              "      <th>Subject</th>\n",
              "      <th>Group</th>\n",
              "      <th>Series_title_1</th>\n",
              "    </tr>\n",
              "  </thead>\n",
              "  <tbody>\n",
              "    <tr>\n",
              "      <th>0</th>\n",
              "      <td>BOPQ.S06AC000000000A</td>\n",
              "      <td>1971.06</td>\n",
              "      <td>426.0</td>\n",
              "      <td>NaN</td>\n",
              "      <td>F</td>\n",
              "      <td>Dollars</td>\n",
              "      <td>6</td>\n",
              "      <td>Balance of Payments - BOP</td>\n",
              "      <td>BPM6 Quarterly, Balance of payments major comp...</td>\n",
              "      <td>Actual</td>\n",
              "    </tr>\n",
              "    <tr>\n",
              "      <th>1</th>\n",
              "      <td>BOPQ.S06AC000000000A</td>\n",
              "      <td>1971.09</td>\n",
              "      <td>435.0</td>\n",
              "      <td>NaN</td>\n",
              "      <td>F</td>\n",
              "      <td>Dollars</td>\n",
              "      <td>6</td>\n",
              "      <td>Balance of Payments - BOP</td>\n",
              "      <td>BPM6 Quarterly, Balance of payments major comp...</td>\n",
              "      <td>Actual</td>\n",
              "    </tr>\n",
              "    <tr>\n",
              "      <th>2</th>\n",
              "      <td>BOPQ.S06AC000000000A</td>\n",
              "      <td>1971.12</td>\n",
              "      <td>360.0</td>\n",
              "      <td>NaN</td>\n",
              "      <td>F</td>\n",
              "      <td>Dollars</td>\n",
              "      <td>6</td>\n",
              "      <td>Balance of Payments - BOP</td>\n",
              "      <td>BPM6 Quarterly, Balance of payments major comp...</td>\n",
              "      <td>Actual</td>\n",
              "    </tr>\n",
              "    <tr>\n",
              "      <th>3</th>\n",
              "      <td>BOPQ.S06AC000000000A</td>\n",
              "      <td>1972.03</td>\n",
              "      <td>417.0</td>\n",
              "      <td>NaN</td>\n",
              "      <td>F</td>\n",
              "      <td>Dollars</td>\n",
              "      <td>6</td>\n",
              "      <td>Balance of Payments - BOP</td>\n",
              "      <td>BPM6 Quarterly, Balance of payments major comp...</td>\n",
              "      <td>Actual</td>\n",
              "    </tr>\n",
              "    <tr>\n",
              "      <th>4</th>\n",
              "      <td>BOPQ.S06AC000000000A</td>\n",
              "      <td>1972.06</td>\n",
              "      <td>528.0</td>\n",
              "      <td>NaN</td>\n",
              "      <td>F</td>\n",
              "      <td>Dollars</td>\n",
              "      <td>6</td>\n",
              "      <td>Balance of Payments - BOP</td>\n",
              "      <td>BPM6 Quarterly, Balance of payments major comp...</td>\n",
              "      <td>Actual</td>\n",
              "    </tr>\n",
              "  </tbody>\n",
              "</table>\n",
              "</div>"
            ],
            "text/plain": [
              "       Series_reference  ...  Series_title_1\n",
              "0  BOPQ.S06AC000000000A  ...          Actual\n",
              "1  BOPQ.S06AC000000000A  ...          Actual\n",
              "2  BOPQ.S06AC000000000A  ...          Actual\n",
              "3  BOPQ.S06AC000000000A  ...          Actual\n",
              "4  BOPQ.S06AC000000000A  ...          Actual\n",
              "\n",
              "[5 rows x 10 columns]"
            ]
          },
          "metadata": {
            "tags": []
          },
          "execution_count": 251
        }
      ]
    },
    {
      "cell_type": "code",
      "metadata": {
        "colab": {
          "base_uri": "https://localhost:8080/"
        },
        "id": "7_enSvCdugPw",
        "outputId": "4056127d-86ac-4eb9-cfbc-e747440446fe"
      },
      "source": [
        "df.shape"
      ],
      "execution_count": null,
      "outputs": [
        {
          "output_type": "execute_result",
          "data": {
            "text/plain": [
              "(10000, 10)"
            ]
          },
          "metadata": {
            "tags": []
          },
          "execution_count": 252
        }
      ]
    },
    {
      "cell_type": "code",
      "metadata": {
        "colab": {
          "base_uri": "https://localhost:8080/"
        },
        "id": "jT3kUPHxqRVw",
        "outputId": "9123a41f-4734-4d8a-98c0-b7e839eda843"
      },
      "source": [
        "df.info()"
      ],
      "execution_count": null,
      "outputs": [
        {
          "output_type": "stream",
          "text": [
            "<class 'pandas.core.frame.DataFrame'>\n",
            "RangeIndex: 10000 entries, 0 to 9999\n",
            "Data columns (total 10 columns):\n",
            " #   Column            Non-Null Count  Dtype  \n",
            "---  ------            --------------  -----  \n",
            " 0   Series_reference  10000 non-null  object \n",
            " 1   Period            10000 non-null  float64\n",
            " 2   Data_value        7969 non-null   float64\n",
            " 3   Suppressed        0 non-null      object \n",
            " 4   STATUS            10000 non-null  object \n",
            " 5   UNITS             10000 non-null  object \n",
            " 6   MAGNTUDE          10000 non-null  int64  \n",
            " 7   Subject           10000 non-null  object \n",
            " 8   Group             10000 non-null  object \n",
            " 9   Series_title_1    10000 non-null  object \n",
            "dtypes: float64(2), int64(1), object(7)\n",
            "memory usage: 781.4+ KB\n"
          ],
          "name": "stdout"
        }
      ]
    },
    {
      "cell_type": "markdown",
      "metadata": {
        "id": "U7R-dN0XuwMj"
      },
      "source": [
        "Нас интересует столбец \"Value\". Посмотрим на тип его данных"
      ]
    },
    {
      "cell_type": "code",
      "metadata": {
        "colab": {
          "base_uri": "https://localhost:8080/"
        },
        "id": "xsDbikHlumIE",
        "outputId": "e537757e-5a87-44ad-b667-8ffdeebde8ca"
      },
      "source": [
        "df['Data_value'].dtype"
      ],
      "execution_count": null,
      "outputs": [
        {
          "output_type": "execute_result",
          "data": {
            "text/plain": [
              "dtype('float64')"
            ]
          },
          "metadata": {
            "tags": []
          },
          "execution_count": 254
        }
      ]
    },
    {
      "cell_type": "code",
      "metadata": {
        "id": "AewiiO9av6kj"
      },
      "source": [
        "df = df.drop(columns = ['Suppressed'])"
      ],
      "execution_count": null,
      "outputs": []
    },
    {
      "cell_type": "code",
      "metadata": {
        "colab": {
          "base_uri": "https://localhost:8080/"
        },
        "id": "VowpAMh5v6pd",
        "outputId": "3b2bd4e6-5cad-49e8-9091-ada84ca38320"
      },
      "source": [
        "df.info()"
      ],
      "execution_count": null,
      "outputs": [
        {
          "output_type": "stream",
          "text": [
            "<class 'pandas.core.frame.DataFrame'>\n",
            "RangeIndex: 10000 entries, 0 to 9999\n",
            "Data columns (total 9 columns):\n",
            " #   Column            Non-Null Count  Dtype  \n",
            "---  ------            --------------  -----  \n",
            " 0   Series_reference  10000 non-null  object \n",
            " 1   Period            10000 non-null  float64\n",
            " 2   Data_value        7969 non-null   float64\n",
            " 3   STATUS            10000 non-null  object \n",
            " 4   UNITS             10000 non-null  object \n",
            " 5   MAGNTUDE          10000 non-null  int64  \n",
            " 6   Subject           10000 non-null  object \n",
            " 7   Group             10000 non-null  object \n",
            " 8   Series_title_1    10000 non-null  object \n",
            "dtypes: float64(2), int64(1), object(6)\n",
            "memory usage: 703.2+ KB\n"
          ],
          "name": "stdout"
        }
      ]
    },
    {
      "cell_type": "code",
      "metadata": {
        "id": "tKE28GgtzCNR"
      },
      "source": [
        "df = df.dropna()"
      ],
      "execution_count": null,
      "outputs": []
    },
    {
      "cell_type": "code",
      "metadata": {
        "colab": {
          "base_uri": "https://localhost:8080/"
        },
        "id": "LxVkOUvZzTpH",
        "outputId": "b34c8190-7bd7-440a-8c9c-3a6507bec767"
      },
      "source": [
        "df.shape"
      ],
      "execution_count": null,
      "outputs": [
        {
          "output_type": "execute_result",
          "data": {
            "text/plain": [
              "(7969, 9)"
            ]
          },
          "metadata": {
            "tags": []
          },
          "execution_count": 258
        }
      ]
    },
    {
      "cell_type": "code",
      "metadata": {
        "colab": {
          "base_uri": "https://localhost:8080/",
          "height": 142
        },
        "id": "z2jnmzdBzCtU",
        "outputId": "0010aae7-4a00-4aa2-f43f-808ffccee9db"
      },
      "source": [
        "df.tail(3)"
      ],
      "execution_count": null,
      "outputs": [
        {
          "output_type": "execute_result",
          "data": {
            "text/html": [
              "<div>\n",
              "<style scoped>\n",
              "    .dataframe tbody tr th:only-of-type {\n",
              "        vertical-align: middle;\n",
              "    }\n",
              "\n",
              "    .dataframe tbody tr th {\n",
              "        vertical-align: top;\n",
              "    }\n",
              "\n",
              "    .dataframe thead th {\n",
              "        text-align: right;\n",
              "    }\n",
              "</style>\n",
              "<table border=\"1\" class=\"dataframe\">\n",
              "  <thead>\n",
              "    <tr style=\"text-align: right;\">\n",
              "      <th></th>\n",
              "      <th>Series_reference</th>\n",
              "      <th>Period</th>\n",
              "      <th>Data_value</th>\n",
              "      <th>STATUS</th>\n",
              "      <th>UNITS</th>\n",
              "      <th>MAGNTUDE</th>\n",
              "      <th>Subject</th>\n",
              "      <th>Group</th>\n",
              "      <th>Series_title_1</th>\n",
              "    </tr>\n",
              "  </thead>\n",
              "  <tbody>\n",
              "    <tr>\n",
              "      <th>9944</th>\n",
              "      <td>BOPQ.S06AC000A210221</td>\n",
              "      <td>2019.12</td>\n",
              "      <td>434.0</td>\n",
              "      <td>F</td>\n",
              "      <td>Dollars</td>\n",
              "      <td>6</td>\n",
              "      <td>Balance of Payments - BOP</td>\n",
              "      <td>BPM6 Quarterly, Current account primary income</td>\n",
              "      <td>Actual</td>\n",
              "    </tr>\n",
              "    <tr>\n",
              "      <th>9945</th>\n",
              "      <td>BOPQ.S06AC000A210221</td>\n",
              "      <td>2020.03</td>\n",
              "      <td>463.0</td>\n",
              "      <td>R</td>\n",
              "      <td>Dollars</td>\n",
              "      <td>6</td>\n",
              "      <td>Balance of Payments - BOP</td>\n",
              "      <td>BPM6 Quarterly, Current account primary income</td>\n",
              "      <td>Actual</td>\n",
              "    </tr>\n",
              "    <tr>\n",
              "      <th>9946</th>\n",
              "      <td>BOPQ.S06AC000A210221</td>\n",
              "      <td>2020.06</td>\n",
              "      <td>766.0</td>\n",
              "      <td>F</td>\n",
              "      <td>Dollars</td>\n",
              "      <td>6</td>\n",
              "      <td>Balance of Payments - BOP</td>\n",
              "      <td>BPM6 Quarterly, Current account primary income</td>\n",
              "      <td>Actual</td>\n",
              "    </tr>\n",
              "  </tbody>\n",
              "</table>\n",
              "</div>"
            ],
            "text/plain": [
              "          Series_reference  ...  Series_title_1\n",
              "9944  BOPQ.S06AC000A210221  ...          Actual\n",
              "9945  BOPQ.S06AC000A210221  ...          Actual\n",
              "9946  BOPQ.S06AC000A210221  ...          Actual\n",
              "\n",
              "[3 rows x 9 columns]"
            ]
          },
          "metadata": {
            "tags": []
          },
          "execution_count": 259
        }
      ]
    },
    {
      "cell_type": "markdown",
      "metadata": {
        "id": "K0vXs7eTzzpN"
      },
      "source": [
        "Обновим индексы в нашей таблице"
      ]
    },
    {
      "cell_type": "code",
      "metadata": {
        "id": "3zAg8GvUzVVa"
      },
      "source": [
        "df = df.reset_index()"
      ],
      "execution_count": null,
      "outputs": []
    },
    {
      "cell_type": "code",
      "metadata": {
        "colab": {
          "base_uri": "https://localhost:8080/",
          "height": 142
        },
        "id": "1ACM-3rezCdr",
        "outputId": "37e3809c-e572-45ba-cda1-084e6ebdfa70"
      },
      "source": [
        "df.tail(3)"
      ],
      "execution_count": null,
      "outputs": [
        {
          "output_type": "execute_result",
          "data": {
            "text/html": [
              "<div>\n",
              "<style scoped>\n",
              "    .dataframe tbody tr th:only-of-type {\n",
              "        vertical-align: middle;\n",
              "    }\n",
              "\n",
              "    .dataframe tbody tr th {\n",
              "        vertical-align: top;\n",
              "    }\n",
              "\n",
              "    .dataframe thead th {\n",
              "        text-align: right;\n",
              "    }\n",
              "</style>\n",
              "<table border=\"1\" class=\"dataframe\">\n",
              "  <thead>\n",
              "    <tr style=\"text-align: right;\">\n",
              "      <th></th>\n",
              "      <th>index</th>\n",
              "      <th>Series_reference</th>\n",
              "      <th>Period</th>\n",
              "      <th>Data_value</th>\n",
              "      <th>STATUS</th>\n",
              "      <th>UNITS</th>\n",
              "      <th>MAGNTUDE</th>\n",
              "      <th>Subject</th>\n",
              "      <th>Group</th>\n",
              "      <th>Series_title_1</th>\n",
              "    </tr>\n",
              "  </thead>\n",
              "  <tbody>\n",
              "    <tr>\n",
              "      <th>7966</th>\n",
              "      <td>9944</td>\n",
              "      <td>BOPQ.S06AC000A210221</td>\n",
              "      <td>2019.12</td>\n",
              "      <td>434.0</td>\n",
              "      <td>F</td>\n",
              "      <td>Dollars</td>\n",
              "      <td>6</td>\n",
              "      <td>Balance of Payments - BOP</td>\n",
              "      <td>BPM6 Quarterly, Current account primary income</td>\n",
              "      <td>Actual</td>\n",
              "    </tr>\n",
              "    <tr>\n",
              "      <th>7967</th>\n",
              "      <td>9945</td>\n",
              "      <td>BOPQ.S06AC000A210221</td>\n",
              "      <td>2020.03</td>\n",
              "      <td>463.0</td>\n",
              "      <td>R</td>\n",
              "      <td>Dollars</td>\n",
              "      <td>6</td>\n",
              "      <td>Balance of Payments - BOP</td>\n",
              "      <td>BPM6 Quarterly, Current account primary income</td>\n",
              "      <td>Actual</td>\n",
              "    </tr>\n",
              "    <tr>\n",
              "      <th>7968</th>\n",
              "      <td>9946</td>\n",
              "      <td>BOPQ.S06AC000A210221</td>\n",
              "      <td>2020.06</td>\n",
              "      <td>766.0</td>\n",
              "      <td>F</td>\n",
              "      <td>Dollars</td>\n",
              "      <td>6</td>\n",
              "      <td>Balance of Payments - BOP</td>\n",
              "      <td>BPM6 Quarterly, Current account primary income</td>\n",
              "      <td>Actual</td>\n",
              "    </tr>\n",
              "  </tbody>\n",
              "</table>\n",
              "</div>"
            ],
            "text/plain": [
              "      index  ... Series_title_1\n",
              "7966   9944  ...         Actual\n",
              "7967   9945  ...         Actual\n",
              "7968   9946  ...         Actual\n",
              "\n",
              "[3 rows x 10 columns]"
            ]
          },
          "metadata": {
            "tags": []
          },
          "execution_count": 261
        }
      ]
    },
    {
      "cell_type": "code",
      "metadata": {
        "id": "ACMmLz7_2AIi"
      },
      "source": [
        "df.head(7)"
      ],
      "execution_count": null,
      "outputs": []
    },
    {
      "cell_type": "markdown",
      "metadata": {
        "id": "xIpS-YkQ1KZi"
      },
      "source": [
        "Давайте с Вами построим график зависимости `Data_value` от `Period`"
      ]
    },
    {
      "cell_type": "code",
      "metadata": {
        "id": "tB532otpzBtj"
      },
      "source": [
        "# импортируем необходимую библиотеку\n",
        "import matplotlib.pyplot as plt\n",
        "%matplotlib inline"
      ],
      "execution_count": null,
      "outputs": []
    },
    {
      "cell_type": "markdown",
      "metadata": {
        "id": "tRPvGIB91rH9"
      },
      "source": [
        "Проверим все ли величины в долларах"
      ]
    },
    {
      "cell_type": "code",
      "metadata": {
        "colab": {
          "base_uri": "https://localhost:8080/"
        },
        "id": "C6obkqND1dae",
        "outputId": "15a95b75-b857-44dd-b342-f06cc73be69e"
      },
      "source": [
        "import numpy as np\n",
        "np.unique(df['UNITS'])"
      ],
      "execution_count": null,
      "outputs": [
        {
          "output_type": "execute_result",
          "data": {
            "text/plain": [
              "array(['Dollars'], dtype=object)"
            ]
          },
          "metadata": {
            "tags": []
          },
          "execution_count": 263
        }
      ]
    },
    {
      "cell_type": "code",
      "metadata": {
        "colab": {
          "base_uri": "https://localhost:8080/",
          "height": 265
        },
        "id": "3ztujHNj1dqv",
        "outputId": "85fe0daf-6e0a-4fe9-e992-d50384f82e96"
      },
      "source": [
        "plt.plot(df['Period'], df['Data_value'])\n",
        "plt.show()"
      ],
      "execution_count": null,
      "outputs": [
        {
          "output_type": "display_data",
          "data": {
            "image/png": "[encoded data removed]",
            "text/plain": [
              "<Figure size 432x288 with 1 Axes>"
            ]
          },
          "metadata": {
            "tags": [],
            "needs_background": "light"
          }
        }
      ]
    },
    {
      "cell_type": "markdown",
      "metadata": {
        "id": "Uj9by4Cn2Ljj"
      },
      "source": [
        "Что-то не то. Есть предположения что надо исправить?"
      ]
    },
    {
      "cell_type": "code",
      "metadata": {
        "id": "vnGREDfR0Ipr"
      },
      "source": [
        "df = df.sort_values(['Period'])"
      ],
      "execution_count": null,
      "outputs": []
    },
    {
      "cell_type": "code",
      "metadata": {
        "colab": {
          "base_uri": "https://localhost:8080/",
          "height": 419
        },
        "id": "K-V1-brZ4ZGp",
        "outputId": "e07933c3-d3b6-4c7b-8459-1450b38c1f5c"
      },
      "source": [
        "df"
      ],
      "execution_count": null,
      "outputs": [
        {
          "output_type": "execute_result",
          "data": {
            "text/html": [
              "<div>\n",
              "<style scoped>\n",
              "    .dataframe tbody tr th:only-of-type {\n",
              "        vertical-align: middle;\n",
              "    }\n",
              "\n",
              "    .dataframe tbody tr th {\n",
              "        vertical-align: top;\n",
              "    }\n",
              "\n",
              "    .dataframe thead th {\n",
              "        text-align: right;\n",
              "    }\n",
              "</style>\n",
              "<table border=\"1\" class=\"dataframe\">\n",
              "  <thead>\n",
              "    <tr style=\"text-align: right;\">\n",
              "      <th></th>\n",
              "      <th>index</th>\n",
              "      <th>Series_reference</th>\n",
              "      <th>Period</th>\n",
              "      <th>Data_value</th>\n",
              "      <th>STATUS</th>\n",
              "      <th>UNITS</th>\n",
              "      <th>MAGNTUDE</th>\n",
              "      <th>Subject</th>\n",
              "      <th>Group</th>\n",
              "      <th>Series_title_1</th>\n",
              "    </tr>\n",
              "  </thead>\n",
              "  <tbody>\n",
              "    <tr>\n",
              "      <th>0</th>\n",
              "      <td>0</td>\n",
              "      <td>BOPQ.S06AC000000000A</td>\n",
              "      <td>1971.06</td>\n",
              "      <td>426.0</td>\n",
              "      <td>F</td>\n",
              "      <td>Dollars</td>\n",
              "      <td>6</td>\n",
              "      <td>Balance of Payments - BOP</td>\n",
              "      <td>BPM6 Quarterly, Balance of payments major comp...</td>\n",
              "      <td>Actual</td>\n",
              "    </tr>\n",
              "    <tr>\n",
              "      <th>5514</th>\n",
              "      <td>6576</td>\n",
              "      <td>BOPQ.S06AC0000A11013</td>\n",
              "      <td>1971.06</td>\n",
              "      <td>24.0</td>\n",
              "      <td>F</td>\n",
              "      <td>Dollars</td>\n",
              "      <td>6</td>\n",
              "      <td>Balance of Payments - BOP</td>\n",
              "      <td>BPM6 Quarterly, Current account goods</td>\n",
              "      <td>Actual</td>\n",
              "    </tr>\n",
              "    <tr>\n",
              "      <th>5927</th>\n",
              "      <td>7248</td>\n",
              "      <td>BOPQ.S06AC0000A12072</td>\n",
              "      <td>1971.06</td>\n",
              "      <td>2.0</td>\n",
              "      <td>F</td>\n",
              "      <td>Dollars</td>\n",
              "      <td>6</td>\n",
              "      <td>Balance of Payments - BOP</td>\n",
              "      <td>BPM6 Quarterly, Current account services</td>\n",
              "      <td>Actual</td>\n",
              "    </tr>\n",
              "    <tr>\n",
              "      <th>6124</th>\n",
              "      <td>7445</td>\n",
              "      <td>BOPQ.S06AC0000A21021</td>\n",
              "      <td>1971.06</td>\n",
              "      <td>3.0</td>\n",
              "      <td>F</td>\n",
              "      <td>Dollars</td>\n",
              "      <td>6</td>\n",
              "      <td>Balance of Payments - BOP</td>\n",
              "      <td>BPM6 Quarterly, Current account primary income</td>\n",
              "      <td>Actual</td>\n",
              "    </tr>\n",
              "    <tr>\n",
              "      <th>1561</th>\n",
              "      <td>1887</td>\n",
              "      <td>BOPQ.S06AC00000A1101</td>\n",
              "      <td>1971.06</td>\n",
              "      <td>350.0</td>\n",
              "      <td>F</td>\n",
              "      <td>Dollars</td>\n",
              "      <td>6</td>\n",
              "      <td>Balance of Payments - BOP</td>\n",
              "      <td>BPM6 Quarterly, Current account goods</td>\n",
              "      <td>Actual</td>\n",
              "    </tr>\n",
              "    <tr>\n",
              "      <th>...</th>\n",
              "      <td>...</td>\n",
              "      <td>...</td>\n",
              "      <td>...</td>\n",
              "      <td>...</td>\n",
              "      <td>...</td>\n",
              "      <td>...</td>\n",
              "      <td>...</td>\n",
              "      <td>...</td>\n",
              "      <td>...</td>\n",
              "      <td>...</td>\n",
              "    </tr>\n",
              "    <tr>\n",
              "      <th>2893</th>\n",
              "      <td>3681</td>\n",
              "      <td>BOPQ.S06AC00000C211G</td>\n",
              "      <td>2020.06</td>\n",
              "      <td>0.0</td>\n",
              "      <td>F</td>\n",
              "      <td>Dollars</td>\n",
              "      <td>6</td>\n",
              "      <td>Balance of Payments - BOP</td>\n",
              "      <td>BPM6 Quarterly, Balance of payments financial ...</td>\n",
              "      <td>Actual</td>\n",
              "    </tr>\n",
              "    <tr>\n",
              "      <th>471</th>\n",
              "      <td>671</td>\n",
              "      <td>BOPQ.S06AC000000000G</td>\n",
              "      <td>2020.06</td>\n",
              "      <td>-6581.0</td>\n",
              "      <td>F</td>\n",
              "      <td>Dollars</td>\n",
              "      <td>6</td>\n",
              "      <td>Balance of Payments - BOP</td>\n",
              "      <td>BPM6 Quarterly, Balance of payments major comp...</td>\n",
              "      <td>Actual</td>\n",
              "    </tr>\n",
              "    <tr>\n",
              "      <th>6815</th>\n",
              "      <td>8232</td>\n",
              "      <td>BOPQ.S06AC0000A21024</td>\n",
              "      <td>2020.06</td>\n",
              "      <td>25.0</td>\n",
              "      <td>F</td>\n",
              "      <td>Dollars</td>\n",
              "      <td>6</td>\n",
              "      <td>Balance of Payments - BOP</td>\n",
              "      <td>BPM6 Quarterly, Current account primary income</td>\n",
              "      <td>Actual</td>\n",
              "    </tr>\n",
              "    <tr>\n",
              "      <th>2299</th>\n",
              "      <td>3033</td>\n",
              "      <td>BOPQ.S06AC00000A2202</td>\n",
              "      <td>2020.06</td>\n",
              "      <td>365.0</td>\n",
              "      <td>F</td>\n",
              "      <td>Dollars</td>\n",
              "      <td>6</td>\n",
              "      <td>Balance of Payments - BOP</td>\n",
              "      <td>BPM6 Quarterly, Current account secondary income</td>\n",
              "      <td>Actual</td>\n",
              "    </tr>\n",
              "    <tr>\n",
              "      <th>7968</th>\n",
              "      <td>9946</td>\n",
              "      <td>BOPQ.S06AC000A210221</td>\n",
              "      <td>2020.06</td>\n",
              "      <td>766.0</td>\n",
              "      <td>F</td>\n",
              "      <td>Dollars</td>\n",
              "      <td>6</td>\n",
              "      <td>Balance of Payments - BOP</td>\n",
              "      <td>BPM6 Quarterly, Current account primary income</td>\n",
              "      <td>Actual</td>\n",
              "    </tr>\n",
              "  </tbody>\n",
              "</table>\n",
              "<p>7969 rows × 10 columns</p>\n",
              "</div>"
            ],
            "text/plain": [
              "      index  ... Series_title_1\n",
              "0         0  ...         Actual\n",
              "5514   6576  ...         Actual\n",
              "5927   7248  ...         Actual\n",
              "6124   7445  ...         Actual\n",
              "1561   1887  ...         Actual\n",
              "...     ...  ...            ...\n",
              "2893   3681  ...         Actual\n",
              "471     671  ...         Actual\n",
              "6815   8232  ...         Actual\n",
              "2299   3033  ...         Actual\n",
              "7968   9946  ...         Actual\n",
              "\n",
              "[7969 rows x 10 columns]"
            ]
          },
          "metadata": {
            "tags": []
          },
          "execution_count": 266
        }
      ]
    },
    {
      "cell_type": "code",
      "metadata": {
        "colab": {
          "base_uri": "https://localhost:8080/"
        },
        "id": "1_LX763q458X",
        "outputId": "dba2667e-f480-49f9-cbea-1a00022d09b6"
      },
      "source": [
        "np.unique(df['Series_reference']).shape"
      ],
      "execution_count": null,
      "outputs": [
        {
          "output_type": "execute_result",
          "data": {
            "text/plain": [
              "(87,)"
            ]
          },
          "metadata": {
            "tags": []
          },
          "execution_count": 269
        }
      ]
    },
    {
      "cell_type": "code",
      "metadata": {
        "colab": {
          "base_uri": "https://localhost:8080/",
          "height": 265
        },
        "id": "Y8s2TuTr2amp",
        "outputId": "1064a22b-f0c9-4638-a16a-07e0e62b5ee2"
      },
      "source": [
        "plt.plot(df['Period'], df['Data_value'])\n",
        "plt.show()"
      ],
      "execution_count": null,
      "outputs": [
        {
          "output_type": "display_data",
          "data": {
            "image/png": "[encoded data removed]",
            "text/plain": [
              "<Figure size 432x288 with 1 Axes>"
            ]
          },
          "metadata": {
            "tags": [],
            "needs_background": "light"
          }
        }
      ]
    },
    {
      "cell_type": "code",
      "metadata": {
        "colab": {
          "base_uri": "https://localhost:8080/",
          "height": 265
        },
        "id": "b5SP5upL3NXb",
        "outputId": "9b008cdc-d98a-42ae-ab2c-3649121c092e"
      },
      "source": [
        "plt.scatter(df['Period'], df['Data_value'])\n",
        "plt.show()"
      ],
      "execution_count": null,
      "outputs": [
        {
          "output_type": "display_data",
          "data": {
            "image/png": "[encoded data removed]",
            "text/plain": [
              "<Figure size 432x288 with 1 Axes>"
            ]
          },
          "metadata": {
            "tags": [],
            "needs_background": "light"
          }
        }
      ]
    },
    {
      "cell_type": "markdown",
      "metadata": {
        "id": "lS0FORls3FLZ"
      },
      "source": [
        "Уже получше но все равно явно не то!"
      ]
    },
    {
      "cell_type": "code",
      "metadata": {
        "colab": {
          "base_uri": "https://localhost:8080/"
        },
        "id": "2r42WvfV2xXA",
        "outputId": "449128ff-8cba-4146-a7c6-2d6e9d4e40bd"
      },
      "source": [
        "series = np.unique(df['Series_reference'])\n",
        "print(len(series))\n",
        "print(series[:5])"
      ],
      "execution_count": null,
      "outputs": [
        {
          "output_type": "stream",
          "text": [
            "87\n",
            "['BOPQ.S06AC000000000A' 'BOPQ.S06AC000000000B' 'BOPQ.S06AC000000000E'\n",
            " 'BOPQ.S06AC000000000G' 'BOPQ.S06AC0000000C11']\n"
          ],
          "name": "stdout"
        }
      ]
    },
    {
      "cell_type": "code",
      "metadata": {
        "colab": {
          "base_uri": "https://localhost:8080/",
          "height": 419
        },
        "id": "VGZRlYfA3BTC",
        "outputId": "0791d0d4-f38d-494c-a771-3e9841d0ce94"
      },
      "source": [
        "df[df['Series_reference'] == series[0]]"
      ],
      "execution_count": null,
      "outputs": [
        {
          "output_type": "execute_result",
          "data": {
            "text/html": [
              "<div>\n",
              "<style scoped>\n",
              "    .dataframe tbody tr th:only-of-type {\n",
              "        vertical-align: middle;\n",
              "    }\n",
              "\n",
              "    .dataframe tbody tr th {\n",
              "        vertical-align: top;\n",
              "    }\n",
              "\n",
              "    .dataframe thead th {\n",
              "        text-align: right;\n",
              "    }\n",
              "</style>\n",
              "<table border=\"1\" class=\"dataframe\">\n",
              "  <thead>\n",
              "    <tr style=\"text-align: right;\">\n",
              "      <th></th>\n",
              "      <th>index</th>\n",
              "      <th>Series_reference</th>\n",
              "      <th>Period</th>\n",
              "      <th>Data_value</th>\n",
              "      <th>STATUS</th>\n",
              "      <th>UNITS</th>\n",
              "      <th>MAGNTUDE</th>\n",
              "      <th>Subject</th>\n",
              "      <th>Group</th>\n",
              "      <th>Series_title_1</th>\n",
              "    </tr>\n",
              "  </thead>\n",
              "  <tbody>\n",
              "    <tr>\n",
              "      <th>0</th>\n",
              "      <td>0</td>\n",
              "      <td>BOPQ.S06AC000000000A</td>\n",
              "      <td>1971.06</td>\n",
              "      <td>426.0</td>\n",
              "      <td>F</td>\n",
              "      <td>Dollars</td>\n",
              "      <td>6</td>\n",
              "      <td>Balance of Payments - BOP</td>\n",
              "      <td>BPM6 Quarterly, Balance of payments major comp...</td>\n",
              "      <td>Actual</td>\n",
              "    </tr>\n",
              "    <tr>\n",
              "      <th>1</th>\n",
              "      <td>1</td>\n",
              "      <td>BOPQ.S06AC000000000A</td>\n",
              "      <td>1971.09</td>\n",
              "      <td>435.0</td>\n",
              "      <td>F</td>\n",
              "      <td>Dollars</td>\n",
              "      <td>6</td>\n",
              "      <td>Balance of Payments - BOP</td>\n",
              "      <td>BPM6 Quarterly, Balance of payments major comp...</td>\n",
              "      <td>Actual</td>\n",
              "    </tr>\n",
              "    <tr>\n",
              "      <th>2</th>\n",
              "      <td>2</td>\n",
              "      <td>BOPQ.S06AC000000000A</td>\n",
              "      <td>1971.12</td>\n",
              "      <td>360.0</td>\n",
              "      <td>F</td>\n",
              "      <td>Dollars</td>\n",
              "      <td>6</td>\n",
              "      <td>Balance of Payments - BOP</td>\n",
              "      <td>BPM6 Quarterly, Balance of payments major comp...</td>\n",
              "      <td>Actual</td>\n",
              "    </tr>\n",
              "    <tr>\n",
              "      <th>3</th>\n",
              "      <td>3</td>\n",
              "      <td>BOPQ.S06AC000000000A</td>\n",
              "      <td>1972.03</td>\n",
              "      <td>417.0</td>\n",
              "      <td>F</td>\n",
              "      <td>Dollars</td>\n",
              "      <td>6</td>\n",
              "      <td>Balance of Payments - BOP</td>\n",
              "      <td>BPM6 Quarterly, Balance of payments major comp...</td>\n",
              "      <td>Actual</td>\n",
              "    </tr>\n",
              "    <tr>\n",
              "      <th>4</th>\n",
              "      <td>4</td>\n",
              "      <td>BOPQ.S06AC000000000A</td>\n",
              "      <td>1972.06</td>\n",
              "      <td>528.0</td>\n",
              "      <td>F</td>\n",
              "      <td>Dollars</td>\n",
              "      <td>6</td>\n",
              "      <td>Balance of Payments - BOP</td>\n",
              "      <td>BPM6 Quarterly, Balance of payments major comp...</td>\n",
              "      <td>Actual</td>\n",
              "    </tr>\n",
              "    <tr>\n",
              "      <th>...</th>\n",
              "      <td>...</td>\n",
              "      <td>...</td>\n",
              "      <td>...</td>\n",
              "      <td>...</td>\n",
              "      <td>...</td>\n",
              "      <td>...</td>\n",
              "      <td>...</td>\n",
              "      <td>...</td>\n",
              "      <td>...</td>\n",
              "      <td>...</td>\n",
              "    </tr>\n",
              "    <tr>\n",
              "      <th>192</th>\n",
              "      <td>192</td>\n",
              "      <td>BOPQ.S06AC000000000A</td>\n",
              "      <td>2019.06</td>\n",
              "      <td>25380.0</td>\n",
              "      <td>R</td>\n",
              "      <td>Dollars</td>\n",
              "      <td>6</td>\n",
              "      <td>Balance of Payments - BOP</td>\n",
              "      <td>BPM6 Quarterly, Balance of payments major comp...</td>\n",
              "      <td>Actual</td>\n",
              "    </tr>\n",
              "    <tr>\n",
              "      <th>193</th>\n",
              "      <td>193</td>\n",
              "      <td>BOPQ.S06AC000000000A</td>\n",
              "      <td>2019.09</td>\n",
              "      <td>21734.0</td>\n",
              "      <td>R</td>\n",
              "      <td>Dollars</td>\n",
              "      <td>6</td>\n",
              "      <td>Balance of Payments - BOP</td>\n",
              "      <td>BPM6 Quarterly, Balance of payments major comp...</td>\n",
              "      <td>Actual</td>\n",
              "    </tr>\n",
              "    <tr>\n",
              "      <th>194</th>\n",
              "      <td>194</td>\n",
              "      <td>BOPQ.S06AC000000000A</td>\n",
              "      <td>2019.12</td>\n",
              "      <td>25384.0</td>\n",
              "      <td>R</td>\n",
              "      <td>Dollars</td>\n",
              "      <td>6</td>\n",
              "      <td>Balance of Payments - BOP</td>\n",
              "      <td>BPM6 Quarterly, Balance of payments major comp...</td>\n",
              "      <td>Actual</td>\n",
              "    </tr>\n",
              "    <tr>\n",
              "      <th>195</th>\n",
              "      <td>195</td>\n",
              "      <td>BOPQ.S06AC000000000A</td>\n",
              "      <td>2020.03</td>\n",
              "      <td>26303.0</td>\n",
              "      <td>R</td>\n",
              "      <td>Dollars</td>\n",
              "      <td>6</td>\n",
              "      <td>Balance of Payments - BOP</td>\n",
              "      <td>BPM6 Quarterly, Balance of payments major comp...</td>\n",
              "      <td>Actual</td>\n",
              "    </tr>\n",
              "    <tr>\n",
              "      <th>196</th>\n",
              "      <td>196</td>\n",
              "      <td>BOPQ.S06AC000000000A</td>\n",
              "      <td>2020.06</td>\n",
              "      <td>22106.0</td>\n",
              "      <td>F</td>\n",
              "      <td>Dollars</td>\n",
              "      <td>6</td>\n",
              "      <td>Balance of Payments - BOP</td>\n",
              "      <td>BPM6 Quarterly, Balance of payments major comp...</td>\n",
              "      <td>Actual</td>\n",
              "    </tr>\n",
              "  </tbody>\n",
              "</table>\n",
              "<p>197 rows × 10 columns</p>\n",
              "</div>"
            ],
            "text/plain": [
              "     index  ... Series_title_1\n",
              "0        0  ...         Actual\n",
              "1        1  ...         Actual\n",
              "2        2  ...         Actual\n",
              "3        3  ...         Actual\n",
              "4        4  ...         Actual\n",
              "..     ...  ...            ...\n",
              "192    192  ...         Actual\n",
              "193    193  ...         Actual\n",
              "194    194  ...         Actual\n",
              "195    195  ...         Actual\n",
              "196    196  ...         Actual\n",
              "\n",
              "[197 rows x 10 columns]"
            ]
          },
          "metadata": {
            "tags": []
          },
          "execution_count": 271
        }
      ]
    },
    {
      "cell_type": "code",
      "metadata": {
        "id": "lWlrOu-W3SAF"
      },
      "source": [
        "id_ = 0"
      ],
      "execution_count": null,
      "outputs": []
    },
    {
      "cell_type": "code",
      "metadata": {
        "colab": {
          "base_uri": "https://localhost:8080/",
          "height": 265
        },
        "id": "aAi7xU-r2hwh",
        "outputId": "e349c1ea-8419-4c82-d1e6-67f2b148eb68"
      },
      "source": [
        "plt.scatter(df[df['Series_reference'] == series[id_]]['Period'], df[df['Series_reference'] == series[id_]]['Data_value'])\n",
        "plt.show()"
      ],
      "execution_count": null,
      "outputs": [
        {
          "output_type": "display_data",
          "data": {
            "image/png": "[encoded data removed]",
            "text/plain": [
              "<Figure size 432x288 with 1 Axes>"
            ]
          },
          "metadata": {
            "tags": [],
            "needs_background": "light"
          }
        }
      ]
    },
    {
      "cell_type": "markdown",
      "metadata": {
        "id": "vGzUIxWa3tF3"
      },
      "source": [
        "В таком виде нельзя оставлять график. Давайте приведем его к хорошему виду"
      ]
    },
    {
      "cell_type": "code",
      "metadata": {
        "colab": {
          "base_uri": "https://localhost:8080/",
          "height": 350
        },
        "id": "ph5MY4XH2iBW",
        "outputId": "a477f76d-0be0-4195-d1b0-d2969529c047"
      },
      "source": [
        "plt.figure(figsize = (10,5))\n",
        "plt.scatter(df[df['Series_reference'] == series[id_]]['Period'],\n",
        "            df[df['Series_reference'] == series[id_]]['Data_value'],\n",
        "            label = \"Series id: \" + str(id_))\n",
        "plt.title('Value vs Year graph')\n",
        "plt.xlabel('Year', fontsize = 11)\n",
        "plt.ylabel('Value', fontsize = 11)\n",
        "plt.legend()\n",
        "plt.show()"
      ],
      "execution_count": null,
      "outputs": [
        {
          "output_type": "display_data",
          "data": {
            "image/png": "[encoded data removed]",
            "text/plain": [
              "<Figure size 720x360 with 1 Axes>"
            ]
          },
          "metadata": {
            "tags": [],
            "needs_background": "light"
          }
        }
      ]
    },
    {
      "cell_type": "markdown",
      "metadata": {
        "id": "ap8Xuqeb4ZPl"
      },
      "source": [
        "А теперь используем **Seaborn**"
      ]
    },
    {
      "cell_type": "code",
      "metadata": {
        "id": "gXu12Jv02gKZ"
      },
      "source": [
        "import seaborn as sns"
      ],
      "execution_count": null,
      "outputs": []
    },
    {
      "cell_type": "code",
      "metadata": {
        "colab": {
          "base_uri": "https://localhost:8080/",
          "height": 404
        },
        "id": "8kXZBZyV4cK7",
        "outputId": "ae8b2194-cc7b-4e3e-a3ea-89d04393c110"
      },
      "source": [
        "plt.figure(figsize = (10,5))\n",
        "sns.scatterplot(df[df['Series_reference'] == series[id_]]['Period'],\n",
        "            df[df['Series_reference'] == series[id_]]['Data_value'], marker=\"+\")\n",
        "plt.title('Value vs Year graph')\n",
        "plt.show()"
      ],
      "execution_count": null,
      "outputs": [
        {
          "output_type": "stream",
          "text": [
            "/usr/local/lib/python3.6/dist-packages/seaborn/_decorators.py:43: FutureWarning: Pass the following variables as keyword args: x, y. From version 0.12, the only valid positional argument will be `data`, and passing other arguments without an explicit keyword will result in an error or misinterpretation.\n",
            "  FutureWarning\n"
          ],
          "name": "stderr"
        },
        {
          "output_type": "display_data",
          "data": {
            "image/png": "[encoded data removed]",
            "text/plain": [
              "<Figure size 720x360 with 1 Axes>"
            ]
          },
          "metadata": {
            "tags": [],
            "needs_background": "light"
          }
        }
      ]
    },
    {
      "cell_type": "markdown",
      "metadata": {
        "id": "8oLNkpy7NB1i"
      },
      "source": [
        "### Читаем EXCEL файлы"
      ]
    },
    {
      "cell_type": "code",
      "metadata": {
        "colab": {
          "base_uri": "https://localhost:8080/",
          "height": 419
        },
        "id": "FOPVByOqM8gG",
        "outputId": "e66b82ef-e402-455f-fb00-08ea954da0ea"
      },
      "source": [
        "pd.read_excel('file_example_XLSX_1000.xlsx')"
      ],
      "execution_count": null,
      "outputs": [
        {
          "output_type": "execute_result",
          "data": {
            "text/html": [
              "<div>\n",
              "<style scoped>\n",
              "    .dataframe tbody tr th:only-of-type {\n",
              "        vertical-align: middle;\n",
              "    }\n",
              "\n",
              "    .dataframe tbody tr th {\n",
              "        vertical-align: top;\n",
              "    }\n",
              "\n",
              "    .dataframe thead th {\n",
              "        text-align: right;\n",
              "    }\n",
              "</style>\n",
              "<table border=\"1\" class=\"dataframe\">\n",
              "  <thead>\n",
              "    <tr style=\"text-align: right;\">\n",
              "      <th></th>\n",
              "      <th>Unnamed: 0</th>\n",
              "      <th>First Name</th>\n",
              "      <th>Last Name</th>\n",
              "      <th>Gender</th>\n",
              "      <th>Country</th>\n",
              "      <th>Age</th>\n",
              "      <th>Date</th>\n",
              "      <th>Id</th>\n",
              "    </tr>\n",
              "  </thead>\n",
              "  <tbody>\n",
              "    <tr>\n",
              "      <th>0</th>\n",
              "      <td>1</td>\n",
              "      <td>Dulce</td>\n",
              "      <td>Abril</td>\n",
              "      <td>Female</td>\n",
              "      <td>United States</td>\n",
              "      <td>32</td>\n",
              "      <td>15/10/2017</td>\n",
              "      <td>1562</td>\n",
              "    </tr>\n",
              "    <tr>\n",
              "      <th>1</th>\n",
              "      <td>2</td>\n",
              "      <td>Mara</td>\n",
              "      <td>Hashimoto</td>\n",
              "      <td>Female</td>\n",
              "      <td>Great Britain</td>\n",
              "      <td>25</td>\n",
              "      <td>16/08/2016</td>\n",
              "      <td>1582</td>\n",
              "    </tr>\n",
              "    <tr>\n",
              "      <th>2</th>\n",
              "      <td>3</td>\n",
              "      <td>Philip</td>\n",
              "      <td>Gent</td>\n",
              "      <td>Male</td>\n",
              "      <td>France</td>\n",
              "      <td>36</td>\n",
              "      <td>21/05/2015</td>\n",
              "      <td>2587</td>\n",
              "    </tr>\n",
              "    <tr>\n",
              "      <th>3</th>\n",
              "      <td>4</td>\n",
              "      <td>Kathleen</td>\n",
              "      <td>Hanner</td>\n",
              "      <td>Female</td>\n",
              "      <td>United States</td>\n",
              "      <td>25</td>\n",
              "      <td>15/10/2017</td>\n",
              "      <td>3549</td>\n",
              "    </tr>\n",
              "    <tr>\n",
              "      <th>4</th>\n",
              "      <td>5</td>\n",
              "      <td>Nereida</td>\n",
              "      <td>Magwood</td>\n",
              "      <td>Female</td>\n",
              "      <td>United States</td>\n",
              "      <td>58</td>\n",
              "      <td>16/08/2016</td>\n",
              "      <td>2468</td>\n",
              "    </tr>\n",
              "    <tr>\n",
              "      <th>...</th>\n",
              "      <td>...</td>\n",
              "      <td>...</td>\n",
              "      <td>...</td>\n",
              "      <td>...</td>\n",
              "      <td>...</td>\n",
              "      <td>...</td>\n",
              "      <td>...</td>\n",
              "      <td>...</td>\n",
              "    </tr>\n",
              "    <tr>\n",
              "      <th>995</th>\n",
              "      <td>996</td>\n",
              "      <td>Roma</td>\n",
              "      <td>Lafollette</td>\n",
              "      <td>Female</td>\n",
              "      <td>United States</td>\n",
              "      <td>34</td>\n",
              "      <td>15/10/2017</td>\n",
              "      <td>2654</td>\n",
              "    </tr>\n",
              "    <tr>\n",
              "      <th>996</th>\n",
              "      <td>997</td>\n",
              "      <td>Felisa</td>\n",
              "      <td>Cail</td>\n",
              "      <td>Female</td>\n",
              "      <td>United States</td>\n",
              "      <td>28</td>\n",
              "      <td>16/08/2016</td>\n",
              "      <td>6525</td>\n",
              "    </tr>\n",
              "    <tr>\n",
              "      <th>997</th>\n",
              "      <td>998</td>\n",
              "      <td>Demetria</td>\n",
              "      <td>Abbey</td>\n",
              "      <td>Female</td>\n",
              "      <td>United States</td>\n",
              "      <td>32</td>\n",
              "      <td>21/05/2015</td>\n",
              "      <td>3265</td>\n",
              "    </tr>\n",
              "    <tr>\n",
              "      <th>998</th>\n",
              "      <td>999</td>\n",
              "      <td>Jeromy</td>\n",
              "      <td>Danz</td>\n",
              "      <td>Male</td>\n",
              "      <td>United States</td>\n",
              "      <td>39</td>\n",
              "      <td>15/10/2017</td>\n",
              "      <td>3265</td>\n",
              "    </tr>\n",
              "    <tr>\n",
              "      <th>999</th>\n",
              "      <td>1000</td>\n",
              "      <td>Rasheeda</td>\n",
              "      <td>Alkire</td>\n",
              "      <td>Female</td>\n",
              "      <td>United States</td>\n",
              "      <td>29</td>\n",
              "      <td>16/08/2016</td>\n",
              "      <td>6125</td>\n",
              "    </tr>\n",
              "  </tbody>\n",
              "</table>\n",
              "<p>1000 rows × 8 columns</p>\n",
              "</div>"
            ],
            "text/plain": [
              "     Unnamed: 0 First Name   Last Name  ... Age        Date    Id\n",
              "0             1      Dulce       Abril  ...  32  15/10/2017  1562\n",
              "1             2       Mara   Hashimoto  ...  25  16/08/2016  1582\n",
              "2             3     Philip        Gent  ...  36  21/05/2015  2587\n",
              "3             4   Kathleen      Hanner  ...  25  15/10/2017  3549\n",
              "4             5    Nereida     Magwood  ...  58  16/08/2016  2468\n",
              "..          ...        ...         ...  ...  ..         ...   ...\n",
              "995         996       Roma  Lafollette  ...  34  15/10/2017  2654\n",
              "996         997     Felisa        Cail  ...  28  16/08/2016  6525\n",
              "997         998   Demetria       Abbey  ...  32  21/05/2015  3265\n",
              "998         999     Jeromy        Danz  ...  39  15/10/2017  3265\n",
              "999        1000   Rasheeda      Alkire  ...  29  16/08/2016  6125\n",
              "\n",
              "[1000 rows x 8 columns]"
            ]
          },
          "metadata": {
            "tags": []
          },
          "execution_count": 277
        }
      ]
    },
    {
      "cell_type": "markdown",
      "metadata": {
        "id": "vdClfwZgNQJW"
      },
      "source": [
        "## Задание 1\n",
        "- убрать ненужный столбец Unnamed\n",
        "- Отсортировать людей по возрасту\n",
        "- разделить людей по полу\n",
        "- построить гистаграмму возрастов мужчин и гистаграмму возрастов женщин"
      ]
    },
    {
      "cell_type": "code",
      "metadata": {
        "id": "MLlPEyUIM_XT"
      },
      "source": [
        ""
      ],
      "execution_count": null,
      "outputs": []
    }
  ]
}