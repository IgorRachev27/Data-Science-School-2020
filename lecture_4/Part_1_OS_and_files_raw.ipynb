{
  "nbformat": 4,
  "nbformat_minor": 0,
  "metadata": {
    "colab": {
      "name": "Part_1_OS_and_files_raw.ipynb",
      "provenance": [],
      "collapsed_sections": []
    },
    "kernelspec": {
      "name": "python3",
      "display_name": "Python 3"
    }
  },
  "cells": [
    {
      "cell_type": "markdown",
      "metadata": {
        "id": "fP31_ydc7Wry"
      },
      "source": [
        "# **Занятие 4. Часть 1. Работа с ОС и файлами**\n",
        "#### 03.12.2020\n",
        "\n",
        "**Преподаватель: Виктория Дочкина**\n",
        "\n",
        "Ссылка на колаб: https://colab.research.google.com/drive/1yjx24-GF2pREdBUtedazEwaCS-jFKxm6?usp=sharing"
      ]
    },
    {
      "cell_type": "markdown",
      "metadata": {
        "id": "vFiI_n9Fk93R"
      },
      "source": [
        "## План занятия\n",
        "\n",
        "- Работа с Операционной Системой (библиотека os)\n",
        "- Основы работы с файлами\n",
        "    - .txt файлы\n",
        "    - читаем docx, создаем docx\n",
        "    - формат данных json\n",
        "    - pandas: работаем с xlsx, csv\n"
      ]
    },
    {
      "cell_type": "markdown",
      "metadata": {
        "id": "-iHw6g7a-ef6"
      },
      "source": [
        "# Библиотека os\n",
        "\n",
        "Модуль **os** в Python — это библиотека функций для работы с операционной системой. "
      ]
    },
    {
      "cell_type": "markdown",
      "metadata": {
        "id": "br4abA0Z9aFM"
      },
      "source": [
        "<center><img src=\"https://github.com/ddvika/Data-Science-School-2020/blob/main/lecture_4/imgs/import-os-python-1024x843.jpg?raw=true\" width=\"350\" height=\"300\" class=\"center\"><center>"
      ]
    },
    {
      "cell_type": "markdown",
      "metadata": {
        "id": "OtSsu_QO-4Rv"
      },
      "source": [
        "Методы, включенные в неё позволяют определять тип операционной системы, получать доступ к переменным окружения, управлять директориями и файлами:\n",
        "- узнавать/менять файловую структуру, изменять переменные среды\n",
        "- проверка существования объекта по заданному пути;\n",
        "- определение размера в байтах;\n",
        "- удаление;\n",
        "- переименование и др.\n",
        "\n",
        "Программа, использующая переменные и функции модуля os, переносима с одной операционной системы на другую, так как os умеет учитывать особенности каждой ОС. "
      ]
    },
    {
      "cell_type": "markdown",
      "metadata": {
        "id": "ngrjHg3ZC3On"
      },
      "source": [
        "### **name, environ, getcwd()**"
      ]
    },
    {
      "cell_type": "markdown",
      "metadata": {
        "id": "1Rg8lERs_qIf"
      },
      "source": [
        "Чтобы узнать имя текущей ОС необходимо вызвать метод `name`"
      ]
    },
    {
      "cell_type": "code",
      "metadata": {
        "id": "NY5KjjwD88yr"
      },
      "source": [
        "import os # Импортируем библиотеку\n",
        "print(os.name)"
      ],
      "execution_count": null,
      "outputs": []
    },
    {
      "cell_type": "markdown",
      "metadata": {
        "id": "u0Q53qmf_5Wj"
      },
      "source": [
        "Получить информацию о  конфигурации компьютера, можно при помощи метода `environ`."
      ]
    },
    {
      "cell_type": "code",
      "metadata": {
        "id": "bZ-VVlqB8818"
      },
      "source": [
        "print(os.environ)"
      ],
      "execution_count": null,
      "outputs": []
    },
    {
      "cell_type": "markdown",
      "metadata": {
        "id": "4bSqLG9bAAUB"
      },
      "source": [
        "Попробуем узнать версию Куды\n",
        "\n",
        " (CUDA - архитектура позволяющая производить на GPU вычисления общего назначения, при этом GPU фактически выступает в роли мощного сопроцессора)"
      ]
    },
    {
      "cell_type": "code",
      "metadata": {
        "id": "5tTMC_Oq885d"
      },
      "source": [
        "os.environ['CUDA_VERSION']"
      ],
      "execution_count": null,
      "outputs": []
    },
    {
      "cell_type": "markdown",
      "metadata": {
        "id": "YbZ49Dl1CCuh"
      },
      "source": [
        "Еще полезно узнать в какой директории мы сейчас находимся, давайте узнаем это при помощи `getcwd()`"
      ]
    },
    {
      "cell_type": "code",
      "metadata": {
        "id": "OgOdz_eU89Fj"
      },
      "source": [
        "print(os.getcwd())"
      ],
      "execution_count": null,
      "outputs": []
    },
    {
      "cell_type": "markdown",
      "metadata": {
        "id": "X_7UdjSWCCI1"
      },
      "source": [
        "### **mkdir(), makedirs(), listdir(), path.exists()**"
      ]
    },
    {
      "cell_type": "markdown",
      "metadata": {
        "id": "QY7oSgDND6BX"
      },
      "source": [
        "При помощи метода `mkdir` довольно легко создать папку, просто указав для нее желаемый путь."
      ]
    },
    {
      "cell_type": "code",
      "metadata": {
        "id": "qOGGfLf1Ctc6"
      },
      "source": [
        "folder_path = \"./test_folder\"\n",
        "os.mkdir(folder_path)"
      ],
      "execution_count": null,
      "outputs": []
    },
    {
      "cell_type": "markdown",
      "metadata": {
        "id": "kvrPSSF8ET7_"
      },
      "source": [
        "`listdir()` используем для перечисления всех папок в текущей директории"
      ]
    },
    {
      "cell_type": "code",
      "metadata": {
        "id": "oCe0rRRsCtg-"
      },
      "source": [
        "os.listdir()"
      ],
      "execution_count": null,
      "outputs": []
    },
    {
      "cell_type": "markdown",
      "metadata": {
        "id": "BV5W9pNZEclC"
      },
      "source": [
        "`path.exists()` проверяет наличие объекта по его названию"
      ]
    },
    {
      "cell_type": "code",
      "metadata": {
        "id": "GSbNwxKPDLik"
      },
      "source": [
        "os.path.exists(folder_path)"
      ],
      "execution_count": null,
      "outputs": []
    },
    {
      "cell_type": "code",
      "metadata": {
        "id": "eGxEIRa0Japc"
      },
      "source": [
        "os.path.exists(\"folder\")"
      ],
      "execution_count": null,
      "outputs": []
    },
    {
      "cell_type": "markdown",
      "metadata": {
        "id": "L9GYx67SEoaM"
      },
      "source": [
        "Давайте еще раз создадим директорию `test_folder` и посмотрим что выйдет"
      ]
    },
    {
      "cell_type": "code",
      "metadata": {
        "id": "944oqdelCtlF"
      },
      "source": [
        "os.mkdir(folder_path)"
      ],
      "execution_count": null,
      "outputs": []
    },
    {
      "cell_type": "markdown",
      "metadata": {
        "id": "CDBLSJXrEwhp"
      },
      "source": [
        "**Задание**\n",
        "\n",
        "Как решить эту проблему? Что необходимо сделать чтобы создавать директорию только в том случае, когда нет директории с таким же именем?"
      ]
    },
    {
      "cell_type": "code",
      "metadata": {
        "id": "L3JxRgDnE5dg"
      },
      "source": [
        "#TODO"
      ],
      "execution_count": null,
      "outputs": []
    },
    {
      "cell_type": "markdown",
      "metadata": {
        "id": "5QbMpZ6dFyCq"
      },
      "source": [
        "**Задание**\n",
        "\n",
        "проверить наличие директории, и если такая уже существует, то создавать новую директорию с приставкой \"_1\"\n",
        "\n",
        "Например: если существует папка с названием \"Новая_папка\", то мы будем создавать  \"Новая_папка_1\" "
      ]
    },
    {
      "cell_type": "code",
      "metadata": {
        "id": "yBCv_SXFE5ih"
      },
      "source": [
        "#TODO"
      ],
      "execution_count": null,
      "outputs": []
    },
    {
      "cell_type": "markdown",
      "metadata": {
        "id": "KRJ-ApaeJu9N"
      },
      "source": [
        "`makedirs()` создаст нам не одну, а несколько вложенных папок"
      ]
    },
    {
      "cell_type": "code",
      "metadata": {
        "id": "B4L7dyhhJSbU"
      },
      "source": [
        "path = './folder_1/1/2/3'\n",
        "os.makedirs(path)"
      ],
      "execution_count": null,
      "outputs": []
    },
    {
      "cell_type": "markdown",
      "metadata": {
        "id": "arWvLHiUKrLM"
      },
      "source": [
        "### **remove(), rmdir()**"
      ]
    },
    {
      "cell_type": "markdown",
      "metadata": {
        "id": "X5FrA_r-K3h2"
      },
      "source": [
        "Функции **os.remove()** и **os.rmdir()** используются для удаления файлов и каталогов соответственно. "
      ]
    },
    {
      "cell_type": "markdown",
      "metadata": {
        "id": "T9neiOdPLLZW"
      },
      "source": [
        "Прежде чем воспользоваться функцией romve() нам нужен файл, который мы могли бы удалить. Для этого создадим с Вами txt файл ( Подробнее конструкцию `open` будем рассматривать позже в лекции!)"
      ]
    },
    {
      "cell_type": "code",
      "metadata": {
        "id": "ObLjPZczLau9"
      },
      "source": [
        "with open('spam.txt', 'a') as f:\n",
        "    f.write('**spam message**')"
      ],
      "execution_count": null,
      "outputs": []
    },
    {
      "cell_type": "markdown",
      "metadata": {
        "id": "NkWhZNtqL3Ej"
      },
      "source": [
        "Теперь удалим его"
      ]
    },
    {
      "cell_type": "code",
      "metadata": {
        "id": "ZqnZRgroJSgq"
      },
      "source": [
        "os.remove(\"spam.txt\")"
      ],
      "execution_count": null,
      "outputs": []
    },
    {
      "cell_type": "markdown",
      "metadata": {
        "id": "IPP1O3jTL-Re"
      },
      "source": [
        "А теперь удалим директорию `test_folder_1`"
      ]
    },
    {
      "cell_type": "code",
      "metadata": {
        "id": "wfwpJftgMFNi"
      },
      "source": [
        "os.listdir()"
      ],
      "execution_count": null,
      "outputs": []
    },
    {
      "cell_type": "code",
      "metadata": {
        "id": "TNhwkX3udagN"
      },
      "source": [
        "os.rmdir(\"test_folder_1\")"
      ],
      "execution_count": null,
      "outputs": []
    },
    {
      "cell_type": "markdown",
      "metadata": {
        "id": "iCC_rhsIMIwH"
      },
      "source": [
        "И заодно удалим `folder_1`"
      ]
    },
    {
      "cell_type": "code",
      "metadata": {
        "id": "xskfmBelCtpV"
      },
      "source": [
        "os.rmdir(\"folder_1\")"
      ],
      "execution_count": null,
      "outputs": []
    },
    {
      "cell_type": "markdown",
      "metadata": {
        "id": "-NZZZT4RMTyN"
      },
      "source": [
        "Упс... rmdir() не умеет удалять непустые каталоги... Что же делать? Сейчас разберемся! Для этого нужно узнать о еще одном методе"
      ]
    },
    {
      "cell_type": "markdown",
      "metadata": {
        "id": "wNGJjqqlMgUI"
      },
      "source": [
        "### **os.walk()**\n",
        "\n",
        "Метод os.walk() дает нам возможность для итерации на корневом уровне пути. Это значит, что мы можем назначить путь к этой функции и получить доступ ко всем её подкаталогам и файлам. "
      ]
    },
    {
      "cell_type": "code",
      "metadata": {
        "id": "rTy7paYQMtrA"
      },
      "source": [
        "path = \"folder_1\""
      ],
      "execution_count": null,
      "outputs": []
    },
    {
      "cell_type": "code",
      "metadata": {
        "id": "zyDmEoKgNP4o"
      },
      "source": [
        "for i in os.walk(path):\n",
        "    print(i)"
      ],
      "execution_count": null,
      "outputs": []
    },
    {
      "cell_type": "markdown",
      "metadata": {
        "id": "WoTaLEPiODUP"
      },
      "source": [
        "**Задание**\n",
        "\n",
        "Создать папку в самой глубокой папке"
      ]
    },
    {
      "cell_type": "code",
      "metadata": {
        "id": "uPwI0XVNOCBY"
      },
      "source": [
        "#TODO"
      ],
      "execution_count": null,
      "outputs": []
    },
    {
      "cell_type": "code",
      "metadata": {
        "id": "izEnqQHHOszn"
      },
      "source": [
        ""
      ],
      "execution_count": null,
      "outputs": []
    },
    {
      "cell_type": "markdown",
      "metadata": {
        "id": "DDUSWbMzPLEd"
      },
      "source": [
        "**Задание**\n",
        "\n",
        "Удалить папку `\"folder_1\"` при помощи **walk()**"
      ]
    },
    {
      "cell_type": "code",
      "metadata": {
        "id": "BzIHjm5aMNkS"
      },
      "source": [
        "for root, dirs, files in os.walk(path):\n",
        "    print(root)"
      ],
      "execution_count": null,
      "outputs": []
    },
    {
      "cell_type": "markdown",
      "metadata": {
        "id": "IVLfa3c5PfrD"
      },
      "source": [
        "Для случая удаления каталогов с вложенными файлами все же лучше всего подойдет библиотека **shutil**.\n",
        "Давайте еще раз создадим директорию с вложенными папками и удалим ее при помощи **shutil.rmtree**"
      ]
    },
    {
      "cell_type": "code",
      "metadata": {
        "id": "ddH68HtoP1A5"
      },
      "source": [
        "path = './folder_1/1/2/3'\n",
        "os.makedirs(path)"
      ],
      "execution_count": null,
      "outputs": []
    },
    {
      "cell_type": "code",
      "metadata": {
        "id": "NFpoexb1QEvT"
      },
      "source": [
        "for root, dirs, files in os.walk(\"folder_1\"):\n",
        "    print(root)"
      ],
      "execution_count": null,
      "outputs": []
    },
    {
      "cell_type": "code",
      "metadata": {
        "id": "9hSmxMP9MNxP"
      },
      "source": [
        "import shutil\n",
        "shutil.rmtree(\"folder_1\", ignore_errors=True)"
      ],
      "execution_count": null,
      "outputs": []
    },
    {
      "cell_type": "markdown",
      "metadata": {
        "id": "KK2mNl77Q242"
      },
      "source": [
        "# Основы работы с файлами"
      ]
    },
    {
      "cell_type": "markdown",
      "metadata": {
        "id": "j9-urecgRbeq"
      },
      "source": [
        "Перед тем как прочесть и записать что-либо в файл, его следует открыть. Чтобы открыть файл в Python используется встроенная функция **open()**`. При вызове, эта функция создает объект типа файл, с которым в дальнейшем можно работать.\n",
        "\n",
        "Синтаксис функции open() в Python:\n",
        "\n",
        "```my_file = open(имя_файла , режим_доступа)```\n",
        "\n",
        "При этом:\n",
        "- `имя_файла`: строка, содержащая имя файла с расширением. Например, \"my_file.txt\".\n",
        "- `режим_доступа`: строка, которой мы указываем для чего открывается файл: для чтения, записи, добавления информации, и т.д. Например, \"w\". По умолчанию файл открывается для чтения - \"r\".\n",
        "\n",
        "Возможны следующие режимы доступа:"
      ]
    },
    {
      "cell_type": "markdown",
      "metadata": {
        "id": "ZutG2wNYVcIr"
      },
      "source": [
        "$$\n",
        "\\begin{array}{|l|l|}\n",
        "\\hline \\ {\\text { Режим }} &\\begin{array}{c} {\\text { Что позволяет делать? }}\\end{array} \\\\\n",
        "\\hline \\text { \"г\" } & \\text { Чтение из файла (по умолчанию) } \\\\\n",
        "\\hline \\text { \"w\" } & \\text { Запись в файл. Если файл не существует, то он будет создан } \\\\\n",
        "\\hline \\text { \"x\" } & \\begin{array}{l}\n",
        "\\text { Запись в файл. Если файл не существует, то будет вызвано } \\\\\n",
        "\\text { исключение }\\end{array}\n",
        "\\\\\n",
        "\\hline \\text { \"a\" } & \\begin{array}{l}\n",
        "\\text { 3апись в файл. В отличие от предыдущих режимов, не стирает данные,} \\\\\n",
        "\\text{которые уже хранятся в файле, а добавляет новые в конец} \\end{array}\n",
        "\\\\\n",
        "\\hline \\text { \"t\" } & \\text { Открывает как текстовый файл (по умолчанию) } \\\\\n",
        "\\hline \\text { \"b\" } & \\text { Открывает как двоичный файл } \\\\\n",
        "\\hline \\text { \"+\" } & \\begin{array}{l}\n",
        "\\text { Позволяет работать с файлом как в режиме чтения, так и в режиме } \\\\\n",
        "\\text { записи }\n",
        "\\end{array} \\\\\n",
        "\\hline\n",
        "\\end{array}\n",
        "$$"
      ]
    },
    {
      "cell_type": "markdown",
      "metadata": {
        "id": "Uc9ESAYsS_hZ"
      },
      "source": [
        "### **open(), close()**\n",
        "\n",
        "ак уже упомяналось выше, перед тем как прочесть и/или записать что-либо в файл, его следует открыть. Чтобы открыть файл в Python используется встроенная функция open()"
      ]
    },
    {
      "cell_type": "code",
      "metadata": {
        "id": "Y1Ml8tl8ratO"
      },
      "source": [
        "my_file = open(\"some.txt\", \"w\")\n",
        "print(\"Имя файла: \", my_file.name)\n",
        "print(\"Файл закрыт: \", my_file.closed)\n",
        "print(\"В каком режиме файл открыт: \", my_file.mode)"
      ],
      "execution_count": null,
      "outputs": []
    },
    {
      "cell_type": "code",
      "metadata": {
        "id": "wveblvhqS9Dm"
      },
      "source": [
        "my_file = open(\"some.txt\")\n",
        "print(\"Имя файла: \", my_file.name)\n",
        "print(\"Файл закрыт: \", my_file.closed)\n",
        "my_file.close()\n",
        "print(\"А теперь закрыт: \", my_file.closed)"
      ],
      "execution_count": null,
      "outputs": []
    },
    {
      "cell_type": "markdown",
      "metadata": {
        "id": "Wx2ZkhuhSB9K"
      },
      "source": [
        "## Чтение и запись файлов"
      ]
    },
    {
      "cell_type": "markdown",
      "metadata": {
        "id": "_OkYr9jqSPV-"
      },
      "source": [
        "### **write(), read()**\n",
        "\n",
        "Метод **write()** записывает любую строку в открытый файл. Важно помнить, что строки в Python могут содержать двоичные данные, а не только текст.\n",
        "Метод **write()** не добавляет символ переноса строки ('\\n') в конец файла."
      ]
    },
    {
      "cell_type": "code",
      "metadata": {
        "id": "IZesEYfQk1pN"
      },
      "source": [
        "my_file = open(\"some.txt\", \"w\")\n",
        "my_file.write(\"Мне нравится Python!\\nЭто классный язык!\")\n",
        "my_file.close()"
      ],
      "execution_count": null,
      "outputs": []
    },
    {
      "cell_type": "markdown",
      "metadata": {
        "id": "8x--xGFiU_kP"
      },
      "source": [
        "**Табуляция \"\\n\" переносит строку**\n",
        "\n"
      ]
    },
    {
      "cell_type": "markdown",
      "metadata": {
        "id": "5pbsoLC7UpSU"
      },
      "source": [
        "А теперь прочтем наш файл"
      ]
    },
    {
      "cell_type": "code",
      "metadata": {
        "id": "cRhOLZ0hUrdM"
      },
      "source": [
        "my_file = open(\"some.txt\")\n",
        "my_string = my_file.read()\n",
        "print(my_string)\n",
        "my_file.close()"
      ],
      "execution_count": null,
      "outputs": []
    },
    {
      "cell_type": "markdown",
      "metadata": {
        "id": "70N30waMWdo1"
      },
      "source": [
        "Однако более pythonic way стиль работы с файлом встроенными средствами заключается в использовании конструкции `with .. as .. `, которая работает как менеджер создания контекста. Написанный выше пример можно переписать с ее помощью"
      ]
    },
    {
      "cell_type": "code",
      "metadata": {
        "id": "MNI1cSGjWlpz"
      },
      "source": [
        "with open(\"some.txt\", \"w\") as f:\n",
        "    f.write(\"Мне нравится Python!\\nЭто классный язык!\")"
      ],
      "execution_count": null,
      "outputs": []
    },
    {
      "cell_type": "markdown",
      "metadata": {
        "id": "1b7OxhcPW4Se"
      },
      "source": [
        "Главное отличие заключается в том, что python самостоятельно закрывает файл"
      ]
    },
    {
      "cell_type": "code",
      "metadata": {
        "id": "HGkS6Sf9WlyN"
      },
      "source": [
        "with open(\"some.txt\", \"r\") as f:\n",
        "    my_string = f.read()\n",
        "print(my_string)"
      ],
      "execution_count": null,
      "outputs": []
    },
    {
      "cell_type": "markdown",
      "metadata": {
        "id": "6EDOctzbTNpC"
      },
      "source": [
        "**Задание**\n",
        "\n",
        "Создать папку **folder_for_txt** и записать туда файл **DS_SCHOOL** формата .txt с текстом **\"Меня зовут ...\"**"
      ]
    },
    {
      "cell_type": "code",
      "metadata": {
        "id": "lqP8e9usUl3K"
      },
      "source": [
        "#TODO"
      ],
      "execution_count": null,
      "outputs": []
    },
    {
      "cell_type": "markdown",
      "metadata": {
        "id": "dexVimy7UJwu"
      },
      "source": [
        "**Задание**\n",
        "\n",
        "Открыть уже имеющийся файл **DS_SCHOOL.txt** и добавить туда еще одну строку **\"Я участник школы DS\"**."
      ]
    },
    {
      "cell_type": "code",
      "metadata": {
        "id": "iYbvs5zZk9c_"
      },
      "source": [
        "#TODO"
      ],
      "execution_count": null,
      "outputs": []
    },
    {
      "cell_type": "markdown",
      "metadata": {
        "id": "QM-EA20Ll8dB"
      },
      "source": [
        "**Задание**\n",
        "У нас есть файл формата .txt с номерами мобильных телефонов. Давайте сопоставим эти номера с Рандомными именами и сохраним в новый txt файл\n",
        "\n",
        "(Подсказка - полезный метод split())"
      ]
    },
    {
      "cell_type": "code",
      "metadata": {
        "id": "SShOtfL6fiXG"
      },
      "source": [
        "with open(\"materials/phone_numbers.txt\", \"r\") as f:\n",
        "    my_string = f.read()"
      ],
      "execution_count": null,
      "outputs": []
    },
    {
      "cell_type": "code",
      "metadata": {
        "id": "gEl33V_pmedh"
      },
      "source": [
        "my_string[:50]"
      ],
      "execution_count": null,
      "outputs": []
    },
    {
      "cell_type": "code",
      "metadata": {
        "id": "1D3N_5sDlolh"
      },
      "source": [
        "#TODO"
      ],
      "execution_count": null,
      "outputs": []
    },
    {
      "cell_type": "markdown",
      "metadata": {
        "id": "goNFEyOmoJyA"
      },
      "source": [
        "Сгенерируем рандомные имена:"
      ]
    },
    {
      "cell_type": "code",
      "metadata": {
        "id": "HbbTNtXdm4bp"
      },
      "source": [
        "names = #TODO"
      ],
      "execution_count": null,
      "outputs": []
    },
    {
      "cell_type": "code",
      "metadata": {
        "id": "5XeWNHGXoaDw"
      },
      "source": [
        "for name, number in zip(names, phone_numbers):\n",
        "    print() #TODO"
      ],
      "execution_count": null,
      "outputs": []
    },
    {
      "cell_type": "code",
      "metadata": {
        "id": "2ApY6VFunBDO"
      },
      "source": [
        "with open(\"materials/phone_numbers_with_names.txt\", \"w\") as f:\n",
        "    for name, number in zip(names, phone_numbers):\n",
        "        #TODO"
      ],
      "execution_count": null,
      "outputs": []
    },
    {
      "cell_type": "markdown",
      "metadata": {
        "id": "XDOwU2Dwn73w"
      },
      "source": [
        "Или при помощи **{format}**"
      ]
    },
    {
      "cell_type": "code",
      "metadata": {
        "id": "brXxUopDlotZ"
      },
      "source": [
        "with open(\"materials/phone_numbers_with_names.txt\", \"w\") as f:\n",
        "    for name, number in zip(names, phone_numbers):\n",
        "        f.write(\"{} {}\\n\".format(name, number)) "
      ],
      "execution_count": null,
      "outputs": []
    },
    {
      "cell_type": "markdown",
      "metadata": {
        "id": "ii-4EeQYgEbU"
      },
      "source": [
        "## А теперь поработаем с Word файлами"
      ]
    },
    {
      "cell_type": "markdown",
      "metadata": {
        "id": "vDyeAVDqbvrZ"
      },
      "source": [
        "### Чтение и обработка docx файла"
      ]
    },
    {
      "cell_type": "markdown",
      "metadata": {
        "id": "0GjavwVJKtU-"
      },
      "source": [
        "Для удобной работы с '.docx' файлами установим библиотеку **python-docx**"
      ]
    },
    {
      "cell_type": "code",
      "metadata": {
        "id": "2qc70jAdk9iv"
      },
      "source": [
        "!pip install python-docx"
      ],
      "execution_count": null,
      "outputs": []
    },
    {
      "cell_type": "markdown",
      "metadata": {
        "id": "kC-cm6rSK4Kh"
      },
      "source": [
        "Метод **Document()** позволяет открыть сам docx файл. Объект Document содержит список объектов Paragraph, которые представляют собой абзацы документа. при помощи вызова **Paragraph.text** получаем текст строки нашего документы в строковом формате"
      ]
    },
    {
      "cell_type": "code",
      "metadata": {
        "id": "slFIcsyafi8B"
      },
      "source": [
        "import docx\n",
        "\n",
        "doc = docx.Document(\"materials/File 1.docx\")"
      ],
      "execution_count": null,
      "outputs": []
    },
    {
      "cell_type": "code",
      "metadata": {
        "id": "Gu8i0xVGfpNd"
      },
      "source": [
        "doc"
      ],
      "execution_count": null,
      "outputs": []
    },
    {
      "cell_type": "code",
      "metadata": {
        "id": "HmIFr_87f1Fl"
      },
      "source": [
        "all_paras = doc.paragraphs\n",
        "len(all_paras)"
      ],
      "execution_count": null,
      "outputs": []
    },
    {
      "cell_type": "code",
      "metadata": {
        "id": "RIKqvSsdf4jk"
      },
      "source": [
        "all_paras"
      ],
      "execution_count": null,
      "outputs": []
    },
    {
      "cell_type": "markdown",
      "metadata": {
        "id": "LC7hgFYQLZkF"
      },
      "source": [
        ""
      ]
    },
    {
      "cell_type": "code",
      "metadata": {
        "id": "tKrkrYkALdrk"
      },
      "source": [
        "all_paras[0].runs[0].text"
      ],
      "execution_count": null,
      "outputs": []
    },
    {
      "cell_type": "code",
      "metadata": {
        "id": "Zg1GupOIgRH4"
      },
      "source": [
        "all_paras[0].text"
      ],
      "execution_count": null,
      "outputs": []
    },
    {
      "cell_type": "code",
      "metadata": {
        "id": "rTWgeD-aUs3p"
      },
      "source": [
        "for para in all_paras:\n",
        "    print(para.text)\n",
        "    print(\"-------\")"
      ],
      "execution_count": null,
      "outputs": []
    },
    {
      "cell_type": "code",
      "metadata": {
        "id": "UGTVrt_Vf5Zs"
      },
      "source": [
        "our_doc = \"\"\n",
        "our_doc_list = []\n",
        "for para in all_paras:\n",
        "    our_doc+= ' ' + para.text\n",
        "    our_doc_list.append(para.text)\n",
        "\n",
        "our_doc_list = ' '.join(our_doc_list)"
      ],
      "execution_count": null,
      "outputs": []
    },
    {
      "cell_type": "code",
      "metadata": {
        "id": "vE6F1NLwUoT_"
      },
      "source": [
        "our_doc"
      ],
      "execution_count": null,
      "outputs": []
    },
    {
      "cell_type": "code",
      "metadata": {
        "id": "fFwh2t5zT8cP"
      },
      "source": [
        "our_doc_list"
      ],
      "execution_count": null,
      "outputs": []
    },
    {
      "cell_type": "markdown",
      "metadata": {
        "id": "TdQv_TxXgbT-"
      },
      "source": [
        "**Задание**\n",
        "\n",
        "Извлечь из полученного документа значения CLIENT NAME, ACCOUNT NUMBER. и сохранить в словарь в формате {CLIENT NAME : ACCOUNT NUMBER}\n"
      ]
    },
    {
      "cell_type": "code",
      "metadata": {
        "id": "f9-QryfgM87P"
      },
      "source": [
        "# HINTS\n",
        "\n",
        "# Некоторые полезные методы:\n",
        "x = 'id: 001'\n",
        "print(x.split('id: ')) # строковый метод split()\n",
        "print(x.replace('id: ', '')) # строковый метод replace()\n",
        "\n",
        "\"\"\"\n",
        "строковый метод .replace() и регулярное выражение re.sub()\n",
        "выполняют одинаковый функционал - производят поиск шаблона в строке \n",
        "и заменяют его на указанную подстроку\"\"\"\n",
        "\n",
        "import re\n",
        "print(re.sub('id: ', '', x))\n",
        "\n",
        "print(re.findall(r'\\d{3}', x))"
      ],
      "execution_count": null,
      "outputs": []
    },
    {
      "cell_type": "markdown",
      "metadata": {
        "id": "MLWpwo22QJN_"
      },
      "source": [
        "Одно из возможных **не оптимальных** решений"
      ]
    },
    {
      "cell_type": "code",
      "metadata": {
        "id": "UYZ2ENE7gUgQ"
      },
      "source": [
        "name = \"\"\n",
        "number = \"\"\n",
        "for para in all_paras:\n",
        "    if \"CLIENT NAME\" in para.text:\n",
        "        name = para.text.replace('CLIENT NAME: ', '')\n",
        "    elif \"ACCOUNT NUMBER\" in para.text:\n",
        "        number = para.text.replace('ACCOUNT NUMBER: ', '')\n",
        "\n",
        "print(\"CLIENT NAME: \", name)    \n",
        "print('ACCOUNT NUMBER: ', number)"
      ],
      "execution_count": null,
      "outputs": []
    },
    {
      "cell_type": "code",
      "metadata": {
        "id": "EX25mc5lgawd"
      },
      "source": [
        "target_dict = {name: number}\n",
        "print(target_dict)"
      ],
      "execution_count": null,
      "outputs": []
    },
    {
      "cell_type": "markdown",
      "metadata": {
        "id": "ixLK_QZTW---"
      },
      "source": [
        "У нас много таких файлов! Давайте обернем наш код в фукцию и выполним его на всех файлах из папки materials"
      ]
    },
    {
      "cell_type": "code",
      "metadata": {
        "id": "xS1mPscNYRbp"
      },
      "source": [
        "# TODO\n",
        "\n",
        "def extract_dict(filepath):\n"
      ],
      "execution_count": null,
      "outputs": []
    },
    {
      "cell_type": "markdown",
      "metadata": {
        "id": "TEaiJms9Ykfk"
      },
      "source": [
        "Давайте сначала достанем названия всех наших docx файлов при помощи библиотеки **os** (файлы лежат в директории materials)"
      ]
    },
    {
      "cell_type": "code",
      "metadata": {
        "id": "VAMUQNzRVfwn"
      },
      "source": [
        "base_path = \"materials/\"\n",
        "paths = os.listdir(base_path)\n",
        "\n",
        "#TODO\n",
        "\n"
      ],
      "execution_count": null,
      "outputs": []
    },
    {
      "cell_type": "markdown",
      "metadata": {
        "id": "2SmfxwViaYVL"
      },
      "source": [
        "А теперь посмотрим насколько это удобнее при помощи библиотеки **glob**"
      ]
    },
    {
      "cell_type": "code",
      "metadata": {
        "id": "J9mqv4PuSWa-"
      },
      "source": [
        "import glob\n",
        "\n",
        "#TODO\n",
        "paths = sorted(glob.glob(\"materials/*.docx\"))"
      ],
      "execution_count": null,
      "outputs": []
    },
    {
      "cell_type": "markdown",
      "metadata": {
        "id": "I0NXkRiB84f_"
      },
      "source": [
        "А теперь запишем информацию из всех .docx файлов. словарь target_dict"
      ]
    },
    {
      "cell_type": "code",
      "metadata": {
        "id": "stSX44ZrauRy"
      },
      "source": [
        "target_dict = {}\n",
        "#TODO"
      ],
      "execution_count": 5,
      "outputs": []
    },
    {
      "cell_type": "code",
      "metadata": {
        "colab": {
          "base_uri": "https://localhost:8080/"
        },
        "id": "gKrkix2ianxH",
        "outputId": "e356d508-5ba1-48be-c217-346247558ce5"
      },
      "source": [
        "target_dict"
      ],
      "execution_count": 4,
      "outputs": [
        {
          "output_type": "execute_result",
          "data": {
            "text/plain": [
              "{'James Humpry ': '416',\n",
              " 'Jamie Smith ': '657321',\n",
              " 'Jordan Davies ': '364795',\n",
              " 'Michael Goldman ': '436'}"
            ]
          },
          "metadata": {
            "tags": []
          },
          "execution_count": 4
        }
      ]
    },
    {
      "cell_type": "markdown",
      "metadata": {
        "id": "YvR0EVbibLsM"
      },
      "source": [
        "Вуаля!"
      ]
    },
    {
      "cell_type": "markdown",
      "metadata": {
        "id": "2rsVeaGJbiL2"
      },
      "source": [
        "Полученный словарь необходим будет для следующих задач - а именно в разделе про **json**"
      ]
    },
    {
      "cell_type": "markdown",
      "metadata": {
        "id": "HMsPq8Bcb6_j"
      },
      "source": [
        "### А теперь создадим docx прямо из питона"
      ]
    },
    {
      "cell_type": "code",
      "metadata": {
        "id": "7pmrrdL9an6K"
      },
      "source": [
        "from docx import Document\n",
        "from docx.shared import Inches"
      ],
      "execution_count": null,
      "outputs": []
    },
    {
      "cell_type": "code",
      "metadata": {
        "id": "F-oVfh3PcP17"
      },
      "source": [
        "# Инициализируем документ\n",
        "\n",
        "document = Document()\n",
        "\n",
        "document.paragraphs # мы уже знакомы с вызовом paragraphs"
      ],
      "execution_count": null,
      "outputs": []
    },
    {
      "cell_type": "markdown",
      "metadata": {
        "id": "hE2MFhwictjo"
      },
      "source": [
        "Метод `add_paragraph()` добавляет новую строку в документ"
      ]
    },
    {
      "cell_type": "code",
      "metadata": {
        "id": "7Mf13OyccP_c"
      },
      "source": [
        "p = document.add_paragraph('Строка 1: Вау! в Питоне можно эмулировать Word? ')"
      ],
      "execution_count": null,
      "outputs": []
    },
    {
      "cell_type": "markdown",
      "metadata": {
        "id": "hLfX4jcpdLE7"
      },
      "source": [
        "Посмотрим теперь на количество строк"
      ]
    },
    {
      "cell_type": "code",
      "metadata": {
        "id": "9frd--EFdN3K"
      },
      "source": [
        "len(document.paragraphs)"
      ],
      "execution_count": null,
      "outputs": []
    },
    {
      "cell_type": "markdown",
      "metadata": {
        "id": "jKCSHxVxdRsJ"
      },
      "source": [
        "Выведем содержимое"
      ]
    },
    {
      "cell_type": "code",
      "metadata": {
        "id": "TB7U3Q1ycQJi"
      },
      "source": [
        "document.paragraphs[0].text"
      ],
      "execution_count": null,
      "outputs": []
    },
    {
      "cell_type": "markdown",
      "metadata": {
        "id": "wUYlhWexd-wz"
      },
      "source": [
        "метод `add_run(str text[, str style])` добавляет в параграф, возвращает экземпляр текста "
      ]
    },
    {
      "cell_type": "code",
      "metadata": {
        "id": "knvIhs_ocQTo"
      },
      "source": [
        "p.add_run(' и зачем мне теперь MS office? ')"
      ],
      "execution_count": null,
      "outputs": []
    },
    {
      "cell_type": "code",
      "metadata": {
        "id": "ZjpsaTgxcQdQ"
      },
      "source": [
        "document.paragraphs[0].text"
      ],
      "execution_count": null,
      "outputs": []
    },
    {
      "cell_type": "code",
      "metadata": {
        "id": "RacfMHXqcQxM"
      },
      "source": [
        "document.add_heading('Заголовок, level 1', level=1)"
      ],
      "execution_count": null,
      "outputs": []
    },
    {
      "cell_type": "code",
      "metadata": {
        "id": "EV8QjNPdcQ7d"
      },
      "source": [
        "document.paragraphs[1].text"
      ],
      "execution_count": null,
      "outputs": []
    },
    {
      "cell_type": "markdown",
      "metadata": {
        "id": "bC4uFRBseqJM"
      },
      "source": [
        "Также существует множество других методов,Например:\n",
        "- `add_picture()` добавляет картинку в документ\n",
        "- `add_table()` добавляет таблицу\n",
        "- `add_page_break()` добавляет новый лист\n",
        "- и тд и тд\n",
        "\n",
        "Их и многие другие Вы можете изучить самостоятельно в [документации docx](http://www.ilnurgi1.ru/docs/python/modules_user/docx.html)"
      ]
    },
    {
      "cell_type": "code",
      "metadata": {
        "id": "KcgCOcEQfq4q"
      },
      "source": [
        "document.add_page_break() # Добавим пустой лист"
      ],
      "execution_count": null,
      "outputs": []
    },
    {
      "cell_type": "code",
      "metadata": {
        "id": "IrMSTyGsSWe2"
      },
      "source": [
        "document.save('demo.docx') # Сохраним полученный документ и посмотри что получилось"
      ],
      "execution_count": null,
      "outputs": []
    },
    {
      "cell_type": "markdown",
      "metadata": {
        "id": "982VOkhrf_zJ"
      },
      "source": [
        "# JSON\n",
        "**JSON** - один из форматов данных, основанный на принципе пар ключ-значение и упорядоченных списках.\n",
        "Файл JSON представляет собой более простую и лёгкую альтернативу расширению с аналогичными функциями XML (Extensive Markup Language).\n",
        "\n",
        "json - это удобный формат сериализации данных. Возможность сериализации/десериализации в json есть буквально во всех языках программирования что делает этот формат довольно **универсальным.**\n",
        "\n",
        "За последние 15 лет JSON стал формальным стандартом обмена данными и используется практически везде в интернете. Сегодня он используется практически всеми веб-серверами. К такой популярности привело еще и то, что многие базы данных поддерживали JSON. Современные реляционные базы данных, такие как PostgreSQL и MySQL теперь поддерживают хранение и экспорт данных в JSON. \n",
        "\n",
        "Однако у него есть и свои минусы:\n",
        "- Нет типа даты. разработчики должны использовать строковые представления дат, что может вызвать несоответствие форматирования. \n",
        "- Нет комментариев - вы не сможете делать аннотации для полей, которые требуют этого прямо в коде\n",
        "\n",
        "**JSON vs XML**\n",
        "основной альтернативой JSON был и является XML. Однако XML становится все менее распространенным в новых системах. И очень легко понять почему. В дополнение к избыточности кода, по сути запись данных в XML занимает в несколько раз больше места."
      ]
    },
    {
      "cell_type": "code",
      "metadata": {
        "id": "R8OtAxsTekSH"
      },
      "source": [
        "import json"
      ],
      "execution_count": 9,
      "outputs": []
    },
    {
      "cell_type": "markdown",
      "metadata": {
        "id": "bOckhxdzl-_O"
      },
      "source": [
        "Синтаксис загрузки json файлов похож на загрузку .txt файлов, только теперь используем метод **json.load**"
      ]
    },
    {
      "cell_type": "code",
      "metadata": {
        "id": "nJWCrnyYl8yh"
      },
      "source": [
        "with open(\"materials/data_file.json\", \"r\") as read_file:\n",
        "    data = json.load(read_file)"
      ],
      "execution_count": 10,
      "outputs": []
    },
    {
      "cell_type": "code",
      "metadata": {
        "id": "bI-Vksdemt4_"
      },
      "source": [
        "data"
      ],
      "execution_count": null,
      "outputs": []
    },
    {
      "cell_type": "code",
      "metadata": {
        "id": "WOL3ukX0fVNY"
      },
      "source": [
        "data.keys()"
      ],
      "execution_count": null,
      "outputs": []
    },
    {
      "cell_type": "markdown",
      "metadata": {
        "id": "EvkyW-MUmvjR"
      },
      "source": [
        "Нам интересно извлечь следующие данные:\n",
        "\n",
        "- 'clientContact'\n",
        "- 'unitAmountExcludingTax'\n",
        "- 'unitAmountIncludingTax'\n",
        "\n",
        "видим что последние два параметра лежат в 'clientTransactionLines'"
      ]
    },
    {
      "cell_type": "code",
      "metadata": {
        "id": "xGXiiU8Qm7lv"
      },
      "source": [
        "data['clientContact']"
      ],
      "execution_count": null,
      "outputs": []
    },
    {
      "cell_type": "code",
      "metadata": {
        "id": "uacKYfT6fVg0"
      },
      "source": [
        "data['clientTransactionLines']"
      ],
      "execution_count": null,
      "outputs": []
    },
    {
      "cell_type": "markdown",
      "metadata": {
        "id": "0e4FGdLgnUn7"
      },
      "source": [
        "**Задание**\n",
        "\n",
        "Извлечь цену без налога и с налогом. Оценить % налога."
      ]
    },
    {
      "cell_type": "code",
      "metadata": {
        "colab": {
          "base_uri": "https://localhost:8080/"
        },
        "id": "8yJqK0K7fVkH",
        "outputId": "96779813-8719-4923-d8f7-2083510e7472"
      },
      "source": [
        "tax = #TODO\n",
        "print('tax is ', round(tax, 3), '%')"
      ],
      "execution_count": 11,
      "outputs": [
        {
          "output_type": "stream",
          "text": [
            "tax is  11.111 %\n"
          ],
          "name": "stdout"
        }
      ]
    },
    {
      "cell_type": "markdown",
      "metadata": {
        "id": "8FUJR5VFgmhW"
      },
      "source": [
        "Помните наш словарь из пункта про работу с Word файлами?"
      ]
    },
    {
      "cell_type": "code",
      "metadata": {
        "id": "rbAoGP0ml5lg"
      },
      "source": [
        "target_dict"
      ],
      "execution_count": null,
      "outputs": []
    },
    {
      "cell_type": "markdown",
      "metadata": {
        "id": "77DNCvE1gzcj"
      },
      "source": [
        "Давайте сораним его в формате json, для этого используем метод **dump()**"
      ]
    },
    {
      "cell_type": "code",
      "metadata": {
        "id": "YBnv_Ijpf75X"
      },
      "source": [
        "with open(\"ppl_accounts.json\", \"w\") as write_file:\n",
        "    json.dump(target_dict, write_file)"
      ],
      "execution_count": null,
      "outputs": []
    },
    {
      "cell_type": "markdown",
      "metadata": {
        "id": "xfQi31uhhGZj"
      },
      "source": [
        "Проверим корректность загрузки"
      ]
    },
    {
      "cell_type": "code",
      "metadata": {
        "id": "QTlOpty7f8Fp"
      },
      "source": [
        "with open(\"ppl_accounts.json\", \"r\") as read_file:\n",
        "    target_dict = json.load(read_file)"
      ],
      "execution_count": null,
      "outputs": []
    },
    {
      "cell_type": "code",
      "metadata": {
        "id": "WtSZgknsl5pZ"
      },
      "source": [
        "target_dict"
      ],
      "execution_count": null,
      "outputs": []
    },
    {
      "cell_type": "markdown",
      "metadata": {
        "id": "yv0ov1xLisKX"
      },
      "source": [
        "### Работа с API"
      ]
    },
    {
      "cell_type": "code",
      "metadata": {
        "id": "KsOfvyeHh1fc"
      },
      "source": [
        "import json\n",
        "import requests"
      ],
      "execution_count": null,
      "outputs": []
    },
    {
      "cell_type": "markdown",
      "metadata": {
        "id": "o1PJtQqEjnOH"
      },
      "source": [
        "Нам нужно выполнить запрос API в сервис JSONPlaceholder, длля выполнения запроса используем библиотеку **requests**"
      ]
    },
    {
      "cell_type": "code",
      "metadata": {
        "id": "hcQY2cXviMax"
      },
      "source": [
        "response = requests.get(\"https://jsonplaceholder.typicode.com/todos\")\n",
        "todos = json.loads(response.text) # переводит json-форматированные данные в настоящий json"
      ],
      "execution_count": null,
      "outputs": []
    },
    {
      "cell_type": "code",
      "metadata": {
        "id": "C5zLOQp-jA8k"
      },
      "source": [
        "len(todos)"
      ],
      "execution_count": null,
      "outputs": []
    },
    {
      "cell_type": "code",
      "metadata": {
        "id": "kOoJal6biMlx"
      },
      "source": [
        "todos[1].keys()"
      ],
      "execution_count": null,
      "outputs": []
    },
    {
      "cell_type": "code",
      "metadata": {
        "id": "_DM0xayFj3lX"
      },
      "source": [
        "response.json() == todos"
      ],
      "execution_count": null,
      "outputs": []
    },
    {
      "cell_type": "code",
      "metadata": {
        "id": "jBvnPMtykKKi"
      },
      "source": [
        "todos[:4]"
      ],
      "execution_count": null,
      "outputs": []
    },
    {
      "cell_type": "code",
      "metadata": {
        "id": "hF0PbHCgkvYs"
      },
      "source": [
        "todos[58:62]"
      ],
      "execution_count": null,
      "outputs": []
    },
    {
      "cell_type": "code",
      "metadata": {
        "id": "9sxkj2bkkKXL"
      },
      "source": [
        "response = requests.get(\"https://jsonplaceholder.typicode.com/todos\")\n",
        "todos = json.loads(response.text)\n",
        " \n",
        "# Соотношение userId с числом выполненных пользователем задач.\n",
        "todos_by_user = {}"
      ],
      "execution_count": null,
      "outputs": []
    },
    {
      "cell_type": "code",
      "metadata": {
        "id": "FIq36mPNkoSI"
      },
      "source": [
        "# Увеличение выполненных задач каждым пользователем.\n",
        "for todo in todos:\n",
        "    if todo[\"completed\"]:\n",
        "        todos_by_user[todo[\"userId\"]] += 1\n",
        "\n",
        "# Создание отсортированного списка пар (userId, num_complete).\n",
        "top_users = sorted(todos_by_user.items(), \n",
        "                   key=lambda x: x[1], reverse=True)\n",
        " \n",
        "#Получение максимального количества выполненных задач.\n",
        "max_complete = top_users[0][1]"
      ],
      "execution_count": null,
      "outputs": []
    },
    {
      "cell_type": "code",
      "metadata": {
        "id": "U8Q-T4tclIx3"
      },
      "source": [
        "todos_by_user"
      ],
      "execution_count": null,
      "outputs": []
    },
    {
      "cell_type": "code",
      "metadata": {
        "id": "d7xyoVcvkod6"
      },
      "source": [
        "top_users"
      ],
      "execution_count": null,
      "outputs": []
    },
    {
      "cell_type": "code",
      "metadata": {
        "id": "ykbWagvGlcq1"
      },
      "source": [
        "max_complete"
      ],
      "execution_count": null,
      "outputs": []
    },
    {
      "cell_type": "code",
      "metadata": {
        "id": "RjNXT3CVh8W3"
      },
      "source": [
        "users = []\n",
        "for user, num_complete in top_users:\n",
        "    if num_complete < max_complete:\n",
        "        break\n",
        "    users.append(str(user))\n",
        " \n",
        "max_users = \" and \".join(users)"
      ],
      "execution_count": null,
      "outputs": []
    },
    {
      "cell_type": "code",
      "metadata": {
        "id": "qT7oQYwild3k"
      },
      "source": [
        "s = \"s\" if len(users) > 1 else \"\"\n",
        "print(f\"user{s} {max_users} completed {max_complete} TODOs\")"
      ],
      "execution_count": null,
      "outputs": []
    },
    {
      "cell_type": "code",
      "metadata": {
        "id": "zOlxE3EWmASy"
      },
      "source": [
        "#TODO\n",
        "\n",
        "# Определить функцию filter() выполненных задач\n",
        "# для пользователей с максимально выполненными задачами (те для users 5 и 10 )\n",
        "\n",
        "def keep(todo, users=[5, 10]):\n",
        "    is_complete = #TODO\n",
        "    has_max_count =  #TODO\n",
        "    return is_complete and has_max_count"
      ],
      "execution_count": null,
      "outputs": []
    },
    {
      "cell_type": "code",
      "metadata": {
        "id": "Hw4sa2-M-Nr0"
      },
      "source": [
        "filtered_todos = list(filter(keep, todos))"
      ],
      "execution_count": null,
      "outputs": []
    },
    {
      "cell_type": "code",
      "metadata": {
        "colab": {
          "base_uri": "https://localhost:8080/"
        },
        "id": "YB5L0geZ-mVF",
        "outputId": "c921af74-1f64-4a8a-a813-5545e716a2d4"
      },
      "source": [
        "filtered_todos"
      ],
      "execution_count": 13,
      "outputs": [
        {
          "output_type": "execute_result",
          "data": {
            "text/plain": [
              "[{'completed': True, 'id': 81, 'title': 'suscipit qui totam', 'userId': 5},\n",
              " {'completed': True,\n",
              "  'id': 83,\n",
              "  'title': 'quidem at rerum quis ex aut sit quam',\n",
              "  'userId': 5},\n",
              " {'completed': True, 'id': 85, 'title': 'et quia ad iste a', 'userId': 5},\n",
              " {'completed': True,\n",
              "  'id': 86,\n",
              "  'title': 'incidunt ut saepe autem',\n",
              "  'userId': 5},\n",
              " {'completed': True,\n",
              "  'id': 87,\n",
              "  'title': 'laudantium quae eligendi consequatur quia et vero autem',\n",
              "  'userId': 5},\n",
              " {'completed': True, 'id': 89, 'title': 'sequi ut omnis et', 'userId': 5},\n",
              " {'completed': True,\n",
              "  'id': 90,\n",
              "  'title': 'molestiae nisi accusantium tenetur dolorem et',\n",
              "  'userId': 5},\n",
              " {'completed': True,\n",
              "  'id': 91,\n",
              "  'title': 'nulla quis consequatur saepe qui id expedita',\n",
              "  'userId': 5},\n",
              " {'completed': True, 'id': 92, 'title': 'in omnis laboriosam', 'userId': 5},\n",
              " {'completed': True,\n",
              "  'id': 93,\n",
              "  'title': 'odio iure consequatur molestiae quibusdam necessitatibus quia sint',\n",
              "  'userId': 5},\n",
              " {'completed': True,\n",
              "  'id': 95,\n",
              "  'title': 'vel nihil et molestiae iusto assumenda nemo quo ut',\n",
              "  'userId': 5},\n",
              " {'completed': True,\n",
              "  'id': 98,\n",
              "  'title': 'debitis accusantium ut quo facilis nihil quis sapiente necessitatibus',\n",
              "  'userId': 5},\n",
              " {'completed': True,\n",
              "  'id': 182,\n",
              "  'title': 'inventore saepe cumque et aut illum enim',\n",
              "  'userId': 10},\n",
              " {'completed': True,\n",
              "  'id': 183,\n",
              "  'title': 'omnis nulla eum aliquam distinctio',\n",
              "  'userId': 10},\n",
              " {'completed': True, 'id': 188, 'title': 'vel non beatae est', 'userId': 10},\n",
              " {'completed': True,\n",
              "  'id': 189,\n",
              "  'title': 'culpa eius et voluptatem et',\n",
              "  'userId': 10},\n",
              " {'completed': True,\n",
              "  'id': 190,\n",
              "  'title': 'accusamus sint iusto et voluptatem exercitationem',\n",
              "  'userId': 10},\n",
              " {'completed': True,\n",
              "  'id': 191,\n",
              "  'title': 'temporibus atque distinctio omnis eius impedit tempore molestias pariatur',\n",
              "  'userId': 10},\n",
              " {'completed': True,\n",
              "  'id': 193,\n",
              "  'title': 'rerum debitis voluptatem qui eveniet tempora distinctio a',\n",
              "  'userId': 10},\n",
              " {'completed': True,\n",
              "  'id': 195,\n",
              "  'title': 'rerum ex veniam mollitia voluptatibus pariatur',\n",
              "  'userId': 10},\n",
              " {'completed': True,\n",
              "  'id': 196,\n",
              "  'title': 'consequuntur aut ut fugit similique',\n",
              "  'userId': 10},\n",
              " {'completed': True,\n",
              "  'id': 197,\n",
              "  'title': 'dignissimos quo nobis earum saepe',\n",
              "  'userId': 10},\n",
              " {'completed': True,\n",
              "  'id': 198,\n",
              "  'title': 'quis eius est sint explicabo',\n",
              "  'userId': 10},\n",
              " {'completed': True,\n",
              "  'id': 199,\n",
              "  'title': 'numquam repellendus a magnam',\n",
              "  'userId': 10}]"
            ]
          },
          "metadata": {
            "tags": []
          },
          "execution_count": 13
        }
      ]
    },
    {
      "cell_type": "markdown",
      "metadata": {
        "id": "0y5M0Pp1qWJ6"
      },
      "source": [
        "вспомним как записать функцию в .py файл?"
      ]
    },
    {
      "cell_type": "markdown",
      "metadata": {
        "id": "LnZ1lMf_qejY"
      },
      "source": [
        "**Задание**\n",
        "\n",
        "Записать функцию **keep** в отдельный модуль **keep_func** и ипортировать ее из этого же модуля при помощи **import**"
      ]
    },
    {
      "cell_type": "code",
      "metadata": {
        "id": "SyEwSGT7rJEJ"
      },
      "source": [
        "#TODO\n",
        "from ... import ..."
      ],
      "execution_count": null,
      "outputs": []
    },
    {
      "cell_type": "code",
      "metadata": {
        "id": "yw0dCT7RmAsu"
      },
      "source": [
        "filtered_todos = list(filter(keep, todos))"
      ],
      "execution_count": null,
      "outputs": []
    },
    {
      "cell_type": "code",
      "metadata": {
        "id": "-1WXqImJln6B"
      },
      "source": [
        "filtered_todos"
      ],
      "execution_count": null,
      "outputs": []
    },
    {
      "cell_type": "code",
      "metadata": {
        "id": "BibAQKwRloGy"
      },
      "source": [
        "# Записать отфильтрованные задачи в файл\n",
        "with open(\"filtered_data_file.json\", \"w\") as data_file:\n",
        "    filtered_todos = list(filter(keep, todos))\n",
        "    json.dump(filtered_todos, data_file, indent=2)"
      ],
      "execution_count": null,
      "outputs": []
    },
    {
      "cell_type": "markdown",
      "metadata": {
        "id": "b0T3tiU5oCfg"
      },
      "source": [
        "# Pandas: работаем с xlsx, csv\n",
        "\n",
        "У Pandas множество методов для считывания данных, эта библиотека может открывать следующие типы данных:\n",
        "\n",
        "- pandas.read_pickle()\n",
        "- pandas.read_csv()\n",
        "- pandas.read_csv()\n",
        "- pandas.read_sql()\n",
        "- pandas.read_html()\n",
        "\n",
        "и еще много других!"
      ]
    },
    {
      "cell_type": "code",
      "metadata": {
        "id": "v6l4GzgvldrV"
      },
      "source": [
        "import pandas as pd"
      ],
      "execution_count": null,
      "outputs": []
    },
    {
      "cell_type": "markdown",
      "metadata": {
        "id": "PJTJmgbppv9k"
      },
      "source": [
        "Немного отвлечемся перед переходом к работе с csv и excel и попробуем загрузить созданный нами json файл в таблицу Pandas Dataframe при помощи метода **read_json()**"
      ]
    },
    {
      "cell_type": "code",
      "metadata": {
        "id": "MHsCKxWupsC7"
      },
      "source": [
        "df = pd.read_json(\"filtered_data_file.json\")"
      ],
      "execution_count": null,
      "outputs": []
    },
    {
      "cell_type": "markdown",
      "metadata": {
        "id": "9bBPC3wnqGlG"
      },
      "source": [
        "При помощи метода **head()** выведем первые 5 строк, при помощи **tail()** последние 5"
      ]
    },
    {
      "cell_type": "code",
      "metadata": {
        "id": "gm4m9WRFp-8s"
      },
      "source": [
        "df.head(5)"
      ],
      "execution_count": null,
      "outputs": []
    },
    {
      "cell_type": "code",
      "metadata": {
        "id": "sz63unC6p_FN"
      },
      "source": [
        "df.tail(5)"
      ],
      "execution_count": null,
      "outputs": []
    },
    {
      "cell_type": "markdown",
      "metadata": {
        "id": "DnYR9z6JtZtZ"
      },
      "source": [
        "Теперь откроем **csv** файл"
      ]
    },
    {
      "cell_type": "markdown",
      "metadata": {
        "id": "jhX87HkFuPty"
      },
      "source": [
        "Скачаем датасет [\"Balance of payments and international investment position: June 2020\"](https://www.stats.govt.nz/large-datasets/csv-files-for-download/)\n"
      ]
    },
    {
      "cell_type": "code",
      "metadata": {
        "id": "QsI4_HzFp_Jg"
      },
      "source": [
        "df = pd.read_csv(\"https://www.stats.govt.nz/assets/Uploads/Balance-of-payments/Balance-of-payments-and-international-investment-position-June-2020-quarter/Download-data/balance-of-payments-international-investment-position-jun20-csv-tables.zip\",\n",
        "                 compression='zip',delimiter = \",\")\n",
        "df = df[:10000]"
      ],
      "execution_count": null,
      "outputs": []
    },
    {
      "cell_type": "code",
      "metadata": {
        "id": "vDaz_EoVqRHI"
      },
      "source": [
        "df.head()"
      ],
      "execution_count": null,
      "outputs": []
    },
    {
      "cell_type": "code",
      "metadata": {
        "id": "7_enSvCdugPw"
      },
      "source": [
        "df.shape"
      ],
      "execution_count": null,
      "outputs": []
    },
    {
      "cell_type": "code",
      "metadata": {
        "id": "jT3kUPHxqRVw"
      },
      "source": [
        "df.info()"
      ],
      "execution_count": null,
      "outputs": []
    },
    {
      "cell_type": "markdown",
      "metadata": {
        "id": "U7R-dN0XuwMj"
      },
      "source": [
        "Нас интересует столбец \"Value\". Посмотрим на тип его данных"
      ]
    },
    {
      "cell_type": "code",
      "metadata": {
        "id": "xsDbikHlumIE"
      },
      "source": [
        "df['Data_value'].dtype"
      ],
      "execution_count": null,
      "outputs": []
    },
    {
      "cell_type": "code",
      "metadata": {
        "id": "AewiiO9av6kj"
      },
      "source": [
        "df = df.drop(columns = ['Suppressed'])"
      ],
      "execution_count": null,
      "outputs": []
    },
    {
      "cell_type": "code",
      "metadata": {
        "id": "VowpAMh5v6pd"
      },
      "source": [
        "df.info()"
      ],
      "execution_count": null,
      "outputs": []
    },
    {
      "cell_type": "code",
      "metadata": {
        "id": "tKE28GgtzCNR"
      },
      "source": [
        "df = df.dropna()"
      ],
      "execution_count": null,
      "outputs": []
    },
    {
      "cell_type": "code",
      "metadata": {
        "id": "LxVkOUvZzTpH"
      },
      "source": [
        "df.shape"
      ],
      "execution_count": null,
      "outputs": []
    },
    {
      "cell_type": "code",
      "metadata": {
        "id": "z2jnmzdBzCtU"
      },
      "source": [
        "df.tail(3)"
      ],
      "execution_count": null,
      "outputs": []
    },
    {
      "cell_type": "markdown",
      "metadata": {
        "id": "K0vXs7eTzzpN"
      },
      "source": [
        "Обновим индексы в нашей таблице"
      ]
    },
    {
      "cell_type": "code",
      "metadata": {
        "id": "3zAg8GvUzVVa"
      },
      "source": [
        "df = df.reset_index()"
      ],
      "execution_count": null,
      "outputs": []
    },
    {
      "cell_type": "code",
      "metadata": {
        "id": "1ACM-3rezCdr"
      },
      "source": [
        "df.tail(3)"
      ],
      "execution_count": null,
      "outputs": []
    },
    {
      "cell_type": "code",
      "metadata": {
        "id": "ACMmLz7_2AIi"
      },
      "source": [
        "df.head(7)"
      ],
      "execution_count": null,
      "outputs": []
    },
    {
      "cell_type": "markdown",
      "metadata": {
        "id": "xIpS-YkQ1KZi"
      },
      "source": [
        "Давайте с Вами построим график зависимости `Data_value` от `Period`"
      ]
    },
    {
      "cell_type": "code",
      "metadata": {
        "id": "tB532otpzBtj"
      },
      "source": [
        "# импортируем необходимую библиотеку\n",
        "import matplotlib.pyplot as plt\n",
        "%matplotlib inline"
      ],
      "execution_count": null,
      "outputs": []
    },
    {
      "cell_type": "markdown",
      "metadata": {
        "id": "tRPvGIB91rH9"
      },
      "source": [
        "Проверим все ли величины в долларах"
      ]
    },
    {
      "cell_type": "code",
      "metadata": {
        "id": "C6obkqND1dae"
      },
      "source": [
        "import numpy as np\n",
        "np.unique(df['UNITS'])"
      ],
      "execution_count": null,
      "outputs": []
    },
    {
      "cell_type": "code",
      "metadata": {
        "id": "3ztujHNj1dqv"
      },
      "source": [
        "plt.plot(df['Period'], df['Data_value'])\n",
        "plt.show()"
      ],
      "execution_count": null,
      "outputs": []
    },
    {
      "cell_type": "markdown",
      "metadata": {
        "id": "Uj9by4Cn2Ljj"
      },
      "source": [
        "Что-то не то. Есть предположения что надо исправить?"
      ]
    },
    {
      "cell_type": "code",
      "metadata": {
        "id": "vnGREDfR0Ipr"
      },
      "source": [
        "df = df.sort_values(['Period'])"
      ],
      "execution_count": null,
      "outputs": []
    },
    {
      "cell_type": "code",
      "metadata": {
        "id": "Y8s2TuTr2amp"
      },
      "source": [
        "plt.plot(df['Period'], df['Data_value'])\n",
        "plt.show()"
      ],
      "execution_count": null,
      "outputs": []
    },
    {
      "cell_type": "code",
      "metadata": {
        "id": "b5SP5upL3NXb"
      },
      "source": [
        "plt.scatter(df['Period'], df['Data_value'])\n",
        "plt.show()"
      ],
      "execution_count": null,
      "outputs": []
    },
    {
      "cell_type": "markdown",
      "metadata": {
        "id": "lS0FORls3FLZ"
      },
      "source": [
        "Уже получше но все равно явно не то!"
      ]
    },
    {
      "cell_type": "code",
      "metadata": {
        "id": "2r42WvfV2xXA"
      },
      "source": [
        "series = np.unique(df['Series_reference'])\n",
        "print(len(series))\n",
        "print(series[:5])"
      ],
      "execution_count": null,
      "outputs": []
    },
    {
      "cell_type": "code",
      "metadata": {
        "id": "VGZRlYfA3BTC"
      },
      "source": [
        "df[df['Series_reference'] == series[0]]"
      ],
      "execution_count": null,
      "outputs": []
    },
    {
      "cell_type": "code",
      "metadata": {
        "id": "lWlrOu-W3SAF"
      },
      "source": [
        "id_ = 0"
      ],
      "execution_count": null,
      "outputs": []
    },
    {
      "cell_type": "code",
      "metadata": {
        "id": "aAi7xU-r2hwh"
      },
      "source": [
        "plt.scatter(df[df['Series_reference'] == series[id_]]['Period'], df[df['Series_reference'] == series[id_]]['Data_value'])\n",
        "plt.show()"
      ],
      "execution_count": null,
      "outputs": []
    },
    {
      "cell_type": "markdown",
      "metadata": {
        "id": "vGzUIxWa3tF3"
      },
      "source": [
        "В таком виде нельзя оставлять график. Давайте приведем его к хорошему виду"
      ]
    },
    {
      "cell_type": "code",
      "metadata": {
        "id": "ph5MY4XH2iBW"
      },
      "source": [
        "plt.figure(figsize = (10,5))\n",
        "plt.scatter(df[df['Series_reference'] == series[id_]]['Period'],\n",
        "            df[df['Series_reference'] == series[id_]]['Data_value'],\n",
        "            label = \"Series id: \" + str(id_))\n",
        "plt.title('Value vs Year graph')\n",
        "plt.xlabel('Year', fontsize = 11)\n",
        "plt.ylabel('Value', fontsize = 11)\n",
        "plt.legend()\n",
        "plt.show()"
      ],
      "execution_count": null,
      "outputs": []
    },
    {
      "cell_type": "markdown",
      "metadata": {
        "id": "ap8Xuqeb4ZPl"
      },
      "source": [
        "А теперь используем **Seaborn**"
      ]
    },
    {
      "cell_type": "code",
      "metadata": {
        "id": "gXu12Jv02gKZ"
      },
      "source": [
        "import seaborn as sns"
      ],
      "execution_count": null,
      "outputs": []
    },
    {
      "cell_type": "code",
      "metadata": {
        "id": "8kXZBZyV4cK7"
      },
      "source": [
        "plt.figure(figsize = (10,5))\n",
        "sns.scatterplot(df[df['Series_reference'] == series[id_]]['Period'],\n",
        "            df[df['Series_reference'] == series[id_]]['Data_value'], marker=\"+\")\n",
        "plt.title('Value vs Year graph')\n",
        "plt.show()"
      ],
      "execution_count": null,
      "outputs": []
    },
    {
      "cell_type": "code",
      "metadata": {
        "id": "FHim4SC-4cQn"
      },
      "source": [
        ""
      ],
      "execution_count": null,
      "outputs": []
    }
  ]
}