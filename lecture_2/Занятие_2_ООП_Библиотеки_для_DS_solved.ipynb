{
  "nbformat": 4,
  "nbformat_minor": 0,
  "metadata": {
    "colab": {
      "name": "Занятие 2: ООП. Библиотеки для DS_solved.ipynb",
      "provenance": [],
      "collapsed_sections": []
    },
    "kernelspec": {
      "name": "python3",
      "display_name": "Python 3"
    }
  },
  "cells": [
    {
      "cell_type": "markdown",
      "metadata": {
        "id": "V-JZNegPdrB9"
      },
      "source": [
        "# Занятие 2. ООП. Библиотеки для DS\n",
        "*26.11.2020.*\n",
        "#### **Преподаватель:** Виктория Дочкина"
      ]
    },
    {
      "cell_type": "markdown",
      "metadata": {
        "id": "NyBOGqoZd5yD"
      },
      "source": [
        "## План занятия:\n",
        "* Больше практики по пройденному материалу\n",
        "* Постулаты в ООП\n",
        "* Разберем подробно анатомию классов в Python\n",
        "  * приватные и публичные поля и методы\n",
        "  * магические методы, статические методы\n",
        "  * абстрактные классы\n",
        "* ДЗ"
      ]
    },
    {
      "cell_type": "markdown",
      "metadata": {
        "id": "hirKQopsfTej"
      },
      "source": [
        "# Практические задачи по пройденным темам"
      ]
    },
    {
      "cell_type": "markdown",
      "metadata": {
        "id": "Yd67cIGKwxD-"
      },
      "source": [
        "### Задача 1. Преобразования разных типов данных"
      ]
    },
    {
      "cell_type": "code",
      "metadata": {
        "colab": {
          "base_uri": "https://localhost:8080/"
        },
        "id": "CjvV_GGHcNIB",
        "outputId": "59b96fda-a17c-417a-85e6-a3c65a6d3bcc"
      },
      "source": [
        "text = '3'\n",
        "whole_number = int(text) \n",
        "number = float(text)\n",
        "print(whole_number)\n",
        "print(number)"
      ],
      "execution_count": null,
      "outputs": [
        {
          "output_type": "stream",
          "text": [
            "3\n",
            "3.0\n"
          ],
          "name": "stdout"
        }
      ]
    },
    {
      "cell_type": "markdown",
      "metadata": {
        "id": "vCApbGYTjrni"
      },
      "source": [
        "Заменим число в кавычках на дробное"
      ]
    },
    {
      "cell_type": "code",
      "metadata": {
        "colab": {
          "base_uri": "https://localhost:8080/",
          "height": 232
        },
        "id": "xw8FiL1mjpFp",
        "outputId": "77e0bce2-068e-408b-cc6b-7b27009bd7b2"
      },
      "source": [
        "text = '3.1'\n",
        "whole_number = int(text) \n",
        "number = float(text)\n",
        "print(whole_number)\n",
        "print(number)"
      ],
      "execution_count": null,
      "outputs": [
        {
          "output_type": "error",
          "ename": "ValueError",
          "evalue": "ignored",
          "traceback": [
            "\u001b[0;31m---------------------------------------------------------------------------\u001b[0m",
            "\u001b[0;31mValueError\u001b[0m                                Traceback (most recent call last)",
            "\u001b[0;32m<ipython-input-2-c1cbf0e62b5b>\u001b[0m in \u001b[0;36m<module>\u001b[0;34m()\u001b[0m\n\u001b[1;32m      1\u001b[0m \u001b[0mtext\u001b[0m \u001b[0;34m=\u001b[0m \u001b[0;34m'3.1'\u001b[0m\u001b[0;34m\u001b[0m\u001b[0;34m\u001b[0m\u001b[0m\n\u001b[0;32m----> 2\u001b[0;31m \u001b[0mwhole_number\u001b[0m \u001b[0;34m=\u001b[0m \u001b[0mint\u001b[0m\u001b[0;34m(\u001b[0m\u001b[0mtext\u001b[0m\u001b[0;34m)\u001b[0m\u001b[0;34m\u001b[0m\u001b[0;34m\u001b[0m\u001b[0m\n\u001b[0m\u001b[1;32m      3\u001b[0m \u001b[0mnumber\u001b[0m \u001b[0;34m=\u001b[0m \u001b[0mfloat\u001b[0m\u001b[0;34m(\u001b[0m\u001b[0mtext\u001b[0m\u001b[0;34m)\u001b[0m\u001b[0;34m\u001b[0m\u001b[0;34m\u001b[0m\u001b[0m\n\u001b[1;32m      4\u001b[0m \u001b[0mprint\u001b[0m\u001b[0;34m(\u001b[0m\u001b[0mwhole_number\u001b[0m\u001b[0;34m)\u001b[0m\u001b[0;34m\u001b[0m\u001b[0;34m\u001b[0m\u001b[0m\n\u001b[1;32m      5\u001b[0m \u001b[0mprint\u001b[0m\u001b[0;34m(\u001b[0m\u001b[0mnumber\u001b[0m\u001b[0;34m)\u001b[0m\u001b[0;34m\u001b[0m\u001b[0;34m\u001b[0m\u001b[0m\n",
            "\u001b[0;31mValueError\u001b[0m: invalid literal for int() with base 10: '3.1'"
          ]
        }
      ]
    },
    {
      "cell_type": "markdown",
      "metadata": {
        "id": "qBeXfyqcj0VP"
      },
      "source": [
        "Как решить это? есть идеи?"
      ]
    },
    {
      "cell_type": "code",
      "metadata": {
        "colab": {
          "base_uri": "https://localhost:8080/"
        },
        "id": "jwVCympocOX1",
        "outputId": "ddf13290-545b-4d29-85b2-777254d80dce"
      },
      "source": [
        "#TODO\n",
        "text = '3.1'\n",
        "whole_number = int(float(text))\n",
        "number = float(text)\n",
        "print(whole_number)\n",
        "print(number)"
      ],
      "execution_count": null,
      "outputs": [
        {
          "output_type": "stream",
          "text": [
            "3\n",
            "3.1\n"
          ],
          "name": "stdout"
        }
      ]
    },
    {
      "cell_type": "markdown",
      "metadata": {
        "id": "D484GpZXvZK3"
      },
      "source": [
        "### Задача 2\n",
        " Проверить - есть ли буква 'e', буквосчетание 'or' или 'lr' в следующей строке?"
      ]
    },
    {
      "cell_type": "code",
      "metadata": {
        "id": "Wut5UQaZkLKU"
      },
      "source": [
        "a = \"hello world\""
      ],
      "execution_count": null,
      "outputs": []
    },
    {
      "cell_type": "code",
      "metadata": {
        "colab": {
          "base_uri": "https://localhost:8080/"
        },
        "id": "JlFZs1RckL2S",
        "outputId": "56e54d8d-5d8a-4c19-c71d-d78caed427a7"
      },
      "source": [
        "#TODO\n",
        "('e' in a or 'or' in a or 'lr' in a)"
      ],
      "execution_count": null,
      "outputs": [
        {
          "output_type": "execute_result",
          "data": {
            "text/plain": [
              "True"
            ]
          },
          "metadata": {
            "tags": []
          },
          "execution_count": 5
        }
      ]
    },
    {
      "cell_type": "markdown",
      "metadata": {
        "id": "TxJxcfRnv45G"
      },
      "source": [
        "Если такие буквы не встретились в Вашей строке, то выведите \"Совпадений нет\", в противоположном случае - \"Есть совпадения\""
      ]
    },
    {
      "cell_type": "code",
      "metadata": {
        "colab": {
          "base_uri": "https://localhost:8080/"
        },
        "id": "lzIPI1zjkLfU",
        "outputId": "9170dcc7-732e-4d98-deaa-97d008c6202d"
      },
      "source": [
        "#TODO\n",
        "condition = ('e' in a or 'or' in a or 'lr' in a)\n",
        "if condition:\n",
        "  print(\"Совпадения есть\")\n",
        "else:\n",
        "  print(\"Совпадений нет\")"
      ],
      "execution_count": null,
      "outputs": [
        {
          "output_type": "stream",
          "text": [
            "Совпадения есть\n"
          ],
          "name": "stdout"
        }
      ]
    },
    {
      "cell_type": "markdown",
      "metadata": {
        "id": "0jrFeKXezNjp"
      },
      "source": [
        "### Функция **filter()**\n",
        "Прежде чем перейдем к следующей задаче, хотелось бы упомянуть о функции **filter()**\n",
        "\n",
        "Функция **filter()** применяет функцию ко всем элементам последовательности и возвращает итератор с теми объектами, для которых функция вернула True"
      ]
    },
    {
      "cell_type": "markdown",
      "metadata": {
        "id": "LEJw29q70QVK"
      },
      "source": [
        "Из списка слов оставить только те, у которых количество букв больше двух:"
      ]
    },
    {
      "cell_type": "code",
      "metadata": {
        "id": "IVVcJzLqY6WP"
      },
      "source": [
        "list_of_words = ['one', 'two', 'list', '', 'dict']"
      ],
      "execution_count": null,
      "outputs": []
    },
    {
      "cell_type": "code",
      "metadata": {
        "colab": {
          "base_uri": "https://localhost:8080/"
        },
        "id": "i9pPW4geYe6s",
        "outputId": "3398a556-a1b7-438c-9b5a-552770aeeb50"
      },
      "source": [
        "#TODO\n",
        "def check_len(a):\n",
        "    if len(a)>2:\n",
        "        return True\n",
        "    else:\n",
        "        return False\n",
        "\n",
        "a = filter(check_len, list_of_words)\n",
        "a = list(a)\n",
        "a"
      ],
      "execution_count": null,
      "outputs": [
        {
          "output_type": "execute_result",
          "data": {
            "text/plain": [
              "['one', 'two', 'list', 'dict']"
            ]
          },
          "metadata": {
            "tags": []
          },
          "execution_count": 8
        }
      ]
    },
    {
      "cell_type": "markdown",
      "metadata": {
        "id": "GL0dz-NdYYmV"
      },
      "source": [
        "делаем тоже самое, но при помощи выражения lambda"
      ]
    },
    {
      "cell_type": "code",
      "metadata": {
        "colab": {
          "base_uri": "https://localhost:8080/"
        },
        "id": "SJsmaaPc0RMu",
        "outputId": "68b0a037-8267-46d4-e2e8-c902c19f8cb8"
      },
      "source": [
        "list(filter(lambda x: len(x) > 2, list_of_words))"
      ],
      "execution_count": null,
      "outputs": [
        {
          "output_type": "execute_result",
          "data": {
            "text/plain": [
              "['one', 'two', 'list', 'dict']"
            ]
          },
          "metadata": {
            "tags": []
          },
          "execution_count": 9
        }
      ]
    },
    {
      "cell_type": "markdown",
      "metadata": {
        "id": "ECHi4avSzzgU"
      },
      "source": [
        "Из списка чисел оставить только нечетные (при помощи функции и при помощи lambda):"
      ]
    },
    {
      "cell_type": "code",
      "metadata": {
        "id": "SrwcWNqjZhg8"
      },
      "source": [
        "seq = [101, 11, 12, 422, 343, 76]"
      ],
      "execution_count": null,
      "outputs": []
    },
    {
      "cell_type": "code",
      "metadata": {
        "colab": {
          "base_uri": "https://localhost:8080/"
        },
        "id": "ZmmTse6gZRE_",
        "outputId": "d69bc70c-3bfd-49a7-ef28-0787b3dafefe"
      },
      "source": [
        "#TODO\n",
        "def check_odd(a):\n",
        "    if a%2!=0:\n",
        "        return True\n",
        "    else:\n",
        "        return False\n",
        "\n",
        "a = filter(check_odd, seq)\n",
        "a = list(a)\n",
        "a"
      ],
      "execution_count": null,
      "outputs": [
        {
          "output_type": "execute_result",
          "data": {
            "text/plain": [
              "[101, 11, 343]"
            ]
          },
          "metadata": {
            "tags": []
          },
          "execution_count": 11
        }
      ]
    },
    {
      "cell_type": "code",
      "metadata": {
        "colab": {
          "base_uri": "https://localhost:8080/"
        },
        "id": "hEtuPEWKzrtq",
        "outputId": "63a30f65-7672-4752-ba1e-7b163bacf405"
      },
      "source": [
        "#TODO\n",
        "list(filter(lambda x: x%2, seq))"
      ],
      "execution_count": null,
      "outputs": [
        {
          "output_type": "execute_result",
          "data": {
            "text/plain": [
              "[101, 11, 343]"
            ]
          },
          "metadata": {
            "tags": []
          },
          "execution_count": 12
        }
      ]
    },
    {
      "cell_type": "markdown",
      "metadata": {
        "id": "bxvJhXPQ0A1G"
      },
      "source": [
        "Аналогично, только четные:"
      ]
    },
    {
      "cell_type": "code",
      "metadata": {
        "colab": {
          "base_uri": "https://localhost:8080/"
        },
        "id": "RLoeOaSzZ7z5",
        "outputId": "91e3fa44-8019-4f31-8f23-394086c3e5ac"
      },
      "source": [
        "#TODO\n",
        "def check_even(a):\n",
        "    if a%2==0:\n",
        "        return True\n",
        "    else:\n",
        "        return False\n",
        "\n",
        "a = filter(check_even, seq)\n",
        "a = list(a)\n",
        "a"
      ],
      "execution_count": null,
      "outputs": [
        {
          "output_type": "execute_result",
          "data": {
            "text/plain": [
              "[12, 422, 76]"
            ]
          },
          "metadata": {
            "tags": []
          },
          "execution_count": 13
        }
      ]
    },
    {
      "cell_type": "code",
      "metadata": {
        "colab": {
          "base_uri": "https://localhost:8080/"
        },
        "id": "Xgqlxf0q0ALd",
        "outputId": "b2c34d6e-0513-4c3e-a949-a263d6244dbd"
      },
      "source": [
        "#TODO\n",
        "list(filter(lambda x: not x%2, seq))"
      ],
      "execution_count": null,
      "outputs": [
        {
          "output_type": "execute_result",
          "data": {
            "text/plain": [
              "[12, 422, 76]"
            ]
          },
          "metadata": {
            "tags": []
          },
          "execution_count": 14
        }
      ]
    },
    {
      "cell_type": "markdown",
      "metadata": {
        "id": "fqd43l2xaRnE"
      },
      "source": [
        "Из списка чисел оставить только те, которые > 0 (при помощи функции и при помощи lambda):"
      ]
    },
    {
      "cell_type": "code",
      "metadata": {
        "id": "qvcU6-krX9f1"
      },
      "source": [
        "a = [1, -4, 6, 8, -10]\n"
      ],
      "execution_count": null,
      "outputs": []
    },
    {
      "cell_type": "code",
      "metadata": {
        "colab": {
          "base_uri": "https://localhost:8080/"
        },
        "id": "dt3RVX5xVwi2",
        "outputId": "3f7b280a-db51-4183-fad9-bce306ebec37"
      },
      "source": [
        "#TODO\n",
        "def func(x):\n",
        "    if x > 0:\n",
        "      return True\n",
        "    else:\n",
        "      return False\n",
        " \n",
        "b = filter(func, a)\n",
        "b = list(b)\n",
        "b"
      ],
      "execution_count": null,
      "outputs": [
        {
          "output_type": "execute_result",
          "data": {
            "text/plain": [
              "[1, 6, 8]"
            ]
          },
          "metadata": {
            "tags": []
          },
          "execution_count": 16
        }
      ]
    },
    {
      "cell_type": "code",
      "metadata": {
        "colab": {
          "base_uri": "https://localhost:8080/"
        },
        "id": "95rj6Y90aeRQ",
        "outputId": "858b60c8-a4db-4c71-fb0d-3a93a276c37d"
      },
      "source": [
        "#TODO\n",
        "list(filter(lambda x: x > 0, a))"
      ],
      "execution_count": null,
      "outputs": [
        {
          "output_type": "execute_result",
          "data": {
            "text/plain": [
              "[1, 6, 8]"
            ]
          },
          "metadata": {
            "tags": []
          },
          "execution_count": 17
        }
      ]
    },
    {
      "cell_type": "markdown",
      "metadata": {
        "id": "9YeQpenWyUdv"
      },
      "source": [
        "### Задача 3.\n",
        " Есть список a. Выведите все элементы, которые меньше 7. Сделайте это при помощи цикла for, list comprehensions, filter+lambda."
      ]
    },
    {
      "cell_type": "code",
      "metadata": {
        "id": "Q4qH-5WvkHC3"
      },
      "source": [
        "a = [1, 7, 1, 2, 3, 3, 5, 8,4, 69, 44, 32, 56]"
      ],
      "execution_count": null,
      "outputs": []
    },
    {
      "cell_type": "markdown",
      "metadata": {
        "id": "Wtimpd8Rywyt"
      },
      "source": [
        "Решим при помощи цикла for:"
      ]
    },
    {
      "cell_type": "code",
      "metadata": {
        "id": "jHi05nu1cOq_"
      },
      "source": [
        "#TODO\n",
        "def check_list(seq):\n",
        "  supp_list = []\n",
        "  for i in seq:\n",
        "    if i < 7:\n",
        "      supp_list.append(i)\n",
        "    else:\n",
        "      continue\n",
        "  return supp_list"
      ],
      "execution_count": null,
      "outputs": []
    },
    {
      "cell_type": "code",
      "metadata": {
        "colab": {
          "base_uri": "https://localhost:8080/"
        },
        "id": "OZBpBJd1bFWk",
        "outputId": "d7391523-eac1-4469-9530-4419d6fc93ff"
      },
      "source": [
        "new_a = check_list(a)\n",
        "new_a"
      ],
      "execution_count": null,
      "outputs": [
        {
          "output_type": "execute_result",
          "data": {
            "text/plain": [
              "[1, 1, 2, 3, 3, 5, 4]"
            ]
          },
          "metadata": {
            "tags": []
          },
          "execution_count": 20
        }
      ]
    },
    {
      "cell_type": "markdown",
      "metadata": {
        "id": "NjKSbmGOy2rI"
      },
      "source": [
        "Решим при помощи list comprehensions:"
      ]
    },
    {
      "cell_type": "code",
      "metadata": {
        "colab": {
          "base_uri": "https://localhost:8080/"
        },
        "id": "XoixI4rWy8UU",
        "outputId": "9dca2505-361f-40bc-c554-f5b430ad7ef0"
      },
      "source": [
        "#TODO\n",
        "new_a = [i for i in a if i < 7]\n",
        "new_a"
      ],
      "execution_count": null,
      "outputs": [
        {
          "output_type": "execute_result",
          "data": {
            "text/plain": [
              "[1, 1, 2, 3, 3, 5, 4]"
            ]
          },
          "metadata": {
            "tags": []
          },
          "execution_count": 21
        }
      ]
    },
    {
      "cell_type": "markdown",
      "metadata": {
        "id": "1HsntQRRy-ht"
      },
      "source": [
        "Решим при помощи filter+lambda"
      ]
    },
    {
      "cell_type": "code",
      "metadata": {
        "colab": {
          "base_uri": "https://localhost:8080/"
        },
        "id": "gdHVQdjey8p1",
        "outputId": "3fe62d6e-46ad-45b1-860b-bf0a21557ca3"
      },
      "source": [
        "#TODO\n",
        "list(filter(lambda x:x<7, a))"
      ],
      "execution_count": null,
      "outputs": [
        {
          "output_type": "execute_result",
          "data": {
            "text/plain": [
              "[1, 1, 2, 3, 3, 5, 4]"
            ]
          },
          "metadata": {
            "tags": []
          },
          "execution_count": 22
        }
      ]
    },
    {
      "cell_type": "markdown",
      "metadata": {
        "id": "4eYo_xSLznz0"
      },
      "source": [
        "### Задача 4\n",
        "Напишите функцию, которая перемножает все элементы заданного одномерного массива"
      ]
    },
    {
      "cell_type": "code",
      "metadata": {
        "id": "ZqUrm4cgdrox"
      },
      "source": [
        "seq = [3, 5, 6, 2]"
      ],
      "execution_count": null,
      "outputs": []
    },
    {
      "cell_type": "code",
      "metadata": {
        "id": "6gx2Hi3NdUTN"
      },
      "source": [
        "#TODO\n",
        "def multiply_list(items):  \n",
        "    tot = items[0]  \n",
        "    for x in items[1:]:  \n",
        "        tot *= x  \n",
        "    return tot "
      ],
      "execution_count": null,
      "outputs": []
    },
    {
      "cell_type": "code",
      "metadata": {
        "colab": {
          "base_uri": "https://localhost:8080/"
        },
        "id": "7ZNIIEEBdUst",
        "outputId": "32db849f-2bf9-4127-875e-303fb28eb685"
      },
      "source": [
        "multiply_list(seq)"
      ],
      "execution_count": null,
      "outputs": [
        {
          "output_type": "execute_result",
          "data": {
            "text/plain": [
              "180"
            ]
          },
          "metadata": {
            "tags": []
          },
          "execution_count": 25
        }
      ]
    },
    {
      "cell_type": "markdown",
      "metadata": {
        "id": "6Kl9QuDMfJ4m"
      },
      "source": [
        "### Задача 5"
      ]
    },
    {
      "cell_type": "markdown",
      "metadata": {
        "id": "cdfdRfoEezK2"
      },
      "source": [
        "Напишите программу которая бы выводила количество таких элементов списка, у которых совпадает 1ый и последний символы\n",
        "\n",
        "\n",
        "вход : ['abc', 'xyz', 'aba', '1221']\n",
        "\n",
        "выход : 2"
      ]
    },
    {
      "cell_type": "code",
      "metadata": {
        "id": "a6Rx4XmmfOsy"
      },
      "source": [
        "seq = ['abc', 'xyz', 'aba', '1221']"
      ],
      "execution_count": null,
      "outputs": []
    },
    {
      "cell_type": "code",
      "metadata": {
        "colab": {
          "base_uri": "https://localhost:8080/"
        },
        "id": "Udm8MMm7easc",
        "outputId": "07dc898e-4b33-4e13-a991-d1043f74dcb6"
      },
      "source": [
        "#TODO\n",
        "def match_words(words):  \n",
        "  ctr = 0  \n",
        "  \n",
        "  for word in words:  \n",
        "    if len(word) > 1 and word[0] == word[-1]:  \n",
        "      ctr += 1  \n",
        "  return ctr  \n",
        "  \n",
        "print(match_words(seq)) "
      ],
      "execution_count": null,
      "outputs": [
        {
          "output_type": "stream",
          "text": [
            "2\n"
          ],
          "name": "stdout"
        }
      ]
    },
    {
      "cell_type": "markdown",
      "metadata": {
        "id": "xLnhjWN0gU_9"
      },
      "source": [
        "### Задача 6\n",
        "Допустим есть следующая формула эластичности спроса:\n",
        "$$\n",
        "E=\\frac{Q_{2}-Q_{1}}{Q_{1}} \\div \\frac{P_{2}-P_{1}}{P_{1}}\n",
        "$$\n",
        "где Е - эластичность спроса\n",
        "\n",
        "P1 и P2 - прежняя и новая цена\n",
        "\n",
        "Q1 и Q2 - спрос при прежней и новой цене соответственно\n",
        "\n",
        "Напишите функцию, которая принимала бы на вход параметры P1, P2, Q1, Q2, а на выходе бы возвращала E.\n"
      ]
    },
    {
      "cell_type": "code",
      "metadata": {
        "id": "JsVMTAQGhM65"
      },
      "source": [
        "#TODO\n",
        "def elas_demand(P1, P2, Q1, Q2):\n",
        "  E = ((Q2 - Q1)/ Q1) / ((P2 - P1)/ P1)\n",
        "  return E"
      ],
      "execution_count": null,
      "outputs": []
    },
    {
      "cell_type": "code",
      "metadata": {
        "colab": {
          "base_uri": "https://localhost:8080/"
        },
        "id": "jevA-ElmhzeE",
        "outputId": "f63575a4-9867-4c87-87da-802f6276b644"
      },
      "source": [
        "E = elas_demand(P1=10, P2=20, Q1=7, Q2=8)\n",
        "E"
      ],
      "execution_count": null,
      "outputs": [
        {
          "output_type": "execute_result",
          "data": {
            "text/plain": [
              "0.14285714285714285"
            ]
          },
          "metadata": {
            "tags": []
          },
          "execution_count": 29
        }
      ]
    },
    {
      "cell_type": "markdown",
      "metadata": {
        "id": "7TYFdwdBj2w6"
      },
      "source": [
        "### Задача 7\n",
        "Допустим у Вас есть следующий полином:\n",
        "$$\n",
        "p(x)=a_{0}+a_{1} x+a_{2} x^{2}+\\cdots a_{n} x^{n}=\\sum_{i=0}^{n} a_{i} x^{i}\n",
        "$$\n",
        "Напишите функцию p(x, coeff), которая выводит значение полинома в заданной точке x с заданными коэффициентами"
      ]
    },
    {
      "cell_type": "code",
      "metadata": {
        "id": "B35LseOJkkn8"
      },
      "source": [
        "#TODO\n",
        "def p(x, coeff):\n",
        "    supp_list = []\n",
        "    for i, a in enumerate(coeff):\n",
        "        supp_list.append(a*x**i)\n",
        "    return sum(supp_list)"
      ],
      "execution_count": null,
      "outputs": []
    },
    {
      "cell_type": "code",
      "metadata": {
        "colab": {
          "base_uri": "https://localhost:8080/"
        },
        "id": "Qu8xqzgYkpjl",
        "outputId": "b1e20e45-4b17-4c02-d1a8-05b1b69b8e1a"
      },
      "source": [
        "p(1, (2, 4))"
      ],
      "execution_count": null,
      "outputs": [
        {
          "output_type": "execute_result",
          "data": {
            "text/plain": [
              "6"
            ]
          },
          "metadata": {
            "tags": []
          },
          "execution_count": 31
        }
      ]
    },
    {
      "cell_type": "markdown",
      "metadata": {
        "id": "lI8M7Zv7k7Ht"
      },
      "source": [
        "Эту функцию можно переписать следующим образом:"
      ]
    },
    {
      "cell_type": "code",
      "metadata": {
        "id": "N5InHpKUlD42"
      },
      "source": [
        "#TODO\n",
        "def p(x, coeff):\n",
        "    return sum([a * x**i for i, a in enumerate(coeff)])"
      ],
      "execution_count": null,
      "outputs": []
    },
    {
      "cell_type": "code",
      "metadata": {
        "colab": {
          "base_uri": "https://localhost:8080/"
        },
        "id": "_HktYOcKlI8X",
        "outputId": "647e036a-3259-4a6d-f4d1-df7678de61fb"
      },
      "source": [
        "p(1, (2, 4))"
      ],
      "execution_count": null,
      "outputs": [
        {
          "output_type": "execute_result",
          "data": {
            "text/plain": [
              "6"
            ]
          },
          "metadata": {
            "tags": []
          },
          "execution_count": 33
        }
      ]
    },
    {
      "cell_type": "markdown",
      "metadata": {
        "id": "4NY_iROicj2x"
      },
      "source": [
        "# Объектно-ориентированное программирование (ООП)\n",
        "\n",
        "ООП - парадигма программирования, основанная на концепциях объектов и классов.\n",
        "\n",
        "*   Класс — тип, описывающий устройство объектов. \n",
        "*   Объект — экземпляр класса. Класс - основа, на которой определяются объекты.\n",
        "\n",
        "В python всё является объектами (строки, списки, ...). Например, строка str() - это экземпляр класса строк или, иначе говоря, объект класса строк.\n",
        "\n",
        "Но возможности ООП в python этим не ограничены. Мы можем написать свой тип данных (класс), определить в нём свои методы.\n",
        "\n",
        "Это не является обязательным - мы можем пользоваться только встроенными объектами. Однако ООП полезно при долгосрочной разработке программы несколькими людьми, оно сильно упрощает понимание кода.\n",
        "\n",
        "\n",
        "Стандартная конструкция \n",
        "\n",
        "\n",
        "```\n",
        "class [название класса]() \n",
        "```\n",
        "\n",
        "\n",
        "---"
      ]
    },
    {
      "cell_type": "markdown",
      "metadata": {
        "id": "HzpfipRKXwg5"
      },
      "source": [
        "Сегодня мы на практических примерах разберём, как ООП реализовано в Python. Для начала построим несколько простых классов. \n",
        "\n",
        "Создадим 2 функции, которые назовем соответственно **earn** и **spend**. \n",
        "\n",
        "Функция **earn** берет начальное богатство потребителя w\n",
        "и добавляет к нему свой текущий заработок y.\n",
        "\n",
        "Функция **spend** берет начальное богатство потребителя w\n",
        "и вычитает из нее свои текущие расходы x."
      ]
    },
    {
      "cell_type": "code",
      "metadata": {
        "id": "KLhyXenwXsdr"
      },
      "source": [
        "def earn(w,y):\n",
        "    \"Человек с начальным капиталом w зарабатывает y\"\n",
        "    return w+y\n",
        "\n",
        "def spend(w,x):\n",
        "    \"Человек с начальным капиталом w тратит x\"\n",
        "    new_wealth = w -x\n",
        "    if new_wealth < 0:\n",
        "        print(\"Недостаточно средств\")\n",
        "    else:\n",
        "        return new_wealth"
      ],
      "execution_count": null,
      "outputs": []
    },
    {
      "cell_type": "markdown",
      "metadata": {
        "id": "G99u8BO3X4py"
      },
      "source": [
        "Мы можем использовать эти две функции для отслеживания состояния потребителя по мере того, как он зарабатывает и тратит.\n",
        "\n",
        "Например"
      ]
    },
    {
      "cell_type": "code",
      "metadata": {
        "colab": {
          "base_uri": "https://localhost:8080/"
        },
        "id": "3aRur4j-X2lg",
        "outputId": "56541f42-e64c-43f5-e85d-ba3e84f8a838"
      },
      "source": [
        "w0=100\n",
        "w1=earn(w0,10)\n",
        "w2=spend(w1,20)\n",
        "w3=earn(w2,10)\n",
        "w4=spend(w3,20)\n",
        "print(\"w0,w1,w2,w3,w4 = \", w0,w1,w2,w3,w4)"
      ],
      "execution_count": null,
      "outputs": [
        {
          "output_type": "stream",
          "text": [
            "w0,w1,w2,w3,w4 =  100 110 90 100 80\n"
          ],
          "name": "stdout"
        }
      ]
    },
    {
      "cell_type": "markdown",
      "metadata": {
        "id": "fZkODLMdYCHs"
      },
      "source": [
        "Класс связывает набор данных, связанных с конкретным экземпляром, вместе с набором функций, которые работают с данными.\n",
        "\n",
        "В нашем примере экземпляром будет имя конкретного человека, данные экземпляра которого состоят исключительно из его состояния/начального капитала.\n",
        "\n",
        "В нашем примере к данным текущего экземпляра можно применить две функции: **earn** и **spend**. Данные экземпляра и функции называются методами.\n",
        "К ним можно легко получить доступ способами, которые мы сейчас опишем.\n",
        "\n",
        "Мы построим Consumer класс, включив в него :\n",
        "\n",
        "- атрибут капитала, в котором хранятся данные о капитале потребителя\n",
        "\n",
        "- метод **earn**, где заработок (у) увеличивает благосостояние потребителя на у\n",
        "\n",
        "- метод **spend**, где трата (х) либо уменьшает богатство на х, либо возвращает ошибку, если средств недостаточно"
      ]
    },
    {
      "cell_type": "code",
      "metadata": {
        "id": "MJlkfjP0X3lS"
      },
      "source": [
        "class Consumer:\n",
        "\n",
        "    def __init__(self, w):\n",
        "        # конструктор класса\n",
        "        # после того, как класс инициализирован - в него можно принимать агрументы\n",
        "        # конструкция __init__ запускается автоматически\n",
        "        # Вызов __init__ устанавливает «пространство имен» для хранения данных экземпляра.\n",
        "        \n",
        "        \"Инициализируем потребителя с нач.капиталом w долларов\"\n",
        "        self.wealth = w\n",
        "\n",
        "    def earn(self, y):\n",
        "        \"Потребитель зарабатывает y долларов\"\n",
        "        self.wealth += y\n",
        "\n",
        "    def spend(self, x):\n",
        "        \"Потребитель тратит х долларов, если это возможно\"\n",
        "        new_wealth = self.wealth - x\n",
        "        if new_wealth < 0:\n",
        "            print(\"Недостаточно средств\")\n",
        "        else:\n",
        "            self.wealth = new_wealth"
      ],
      "execution_count": null,
      "outputs": []
    },
    {
      "cell_type": "markdown",
      "metadata": {
        "id": "e4L6h748ZV5h"
      },
      "source": [
        "Зачем нам self?\n",
        "Классам нужен способ, что ссылаться на самих себя т.е. способ сообщения между экземплярами. Слово self это способ описания любого объектов."
      ]
    },
    {
      "cell_type": "markdown",
      "metadata": {
        "id": "442hZ2TyYJYu"
      },
      "source": [
        "Здесь есть особый синтаксис, поэтому давайте внимательно рассмотрим его\n",
        "\n",
        "- Ключевое слово class указывает, что мы создаем класс.\n",
        "\n",
        "Класс Consumer определяет начальные данные о капитале (`w`) и три метода: `__init__`, `earn` и `spend`.\n",
        "\n",
        "капитал `w` - это данные экземпляра, потому что каждый созданный нами потребитель (каждый экземпляр класса Consumer) будет иметь свои собственные данные о капитале.\n",
        "\n",
        "\n",
        "Метод `__init__` - это конструктор класса. Всякий раз, когда мы создаем экземпляр класса, метод `__init__` будет вызываться автоматически. Вызов `__init__` устанавливает «пространство имен» для хранения данных экземпляра."
      ]
    },
    {
      "cell_type": "markdown",
      "metadata": {
        "id": "tvIF9gPxYOQ3"
      },
      "source": [
        "Вот пример, в котором мы используем класс Consumer для создания экземпляра потребителя, которого мы назовем c1.\n",
        "\n",
        "Создав потребителя c1 и наделив его начальным капиталом 10, мы применим метод затрат."
      ]
    },
    {
      "cell_type": "code",
      "metadata": {
        "colab": {
          "base_uri": "https://localhost:8080/"
        },
        "id": "eWVxvjPtX3GA",
        "outputId": "7c3e245b-b1dd-42c5-c7e9-3da85851b234"
      },
      "source": [
        "c1 = Consumer(10)  # Создадим экземпляр класса с нач.капиталом 10\n",
        "c1.spend(5)\n",
        "c1.wealth"
      ],
      "execution_count": null,
      "outputs": [
        {
          "output_type": "execute_result",
          "data": {
            "text/plain": [
              "5"
            ]
          },
          "metadata": {
            "tags": []
          },
          "execution_count": 37
        }
      ]
    },
    {
      "cell_type": "code",
      "metadata": {
        "colab": {
          "base_uri": "https://localhost:8080/"
        },
        "id": "gjkCx3T6YSEO",
        "outputId": "730bbf94-6ab8-46a7-b022-4db3b89a5a9a"
      },
      "source": [
        "c1.earn(15)\n",
        "c1.spend(100)"
      ],
      "execution_count": null,
      "outputs": [
        {
          "output_type": "stream",
          "text": [
            "Недостаточно средств\n"
          ],
          "name": "stdout"
        }
      ]
    },
    {
      "cell_type": "markdown",
      "metadata": {
        "id": "dansPlM4YbEC"
      },
      "source": [
        "Зададим несколько потребителей"
      ]
    },
    {
      "cell_type": "code",
      "metadata": {
        "colab": {
          "base_uri": "https://localhost:8080/"
        },
        "id": "TvgpLJ88YSpE",
        "outputId": "1d543526-db5f-443b-c3a3-f33818e4046a"
      },
      "source": [
        "c1 = Consumer(10) # Первый экземпляр класса\n",
        "c2 = Consumer(12) # Второй экземпляр класса\n",
        "c2.spend(4)\n",
        "c2.wealth"
      ],
      "execution_count": null,
      "outputs": [
        {
          "output_type": "execute_result",
          "data": {
            "text/plain": [
              "8"
            ]
          },
          "metadata": {
            "tags": []
          },
          "execution_count": 39
        }
      ]
    },
    {
      "cell_type": "code",
      "metadata": {
        "colab": {
          "base_uri": "https://localhost:8080/"
        },
        "id": "2ZeU4p9kXth2",
        "outputId": "d44b1a8c-f04d-4f26-d32a-cb3af86a29ec"
      },
      "source": [
        "c1.wealth"
      ],
      "execution_count": null,
      "outputs": [
        {
          "output_type": "execute_result",
          "data": {
            "text/plain": [
              "10"
            ]
          },
          "metadata": {
            "tags": []
          },
          "execution_count": 40
        }
      ]
    },
    {
      "cell_type": "code",
      "metadata": {
        "colab": {
          "base_uri": "https://localhost:8080/"
        },
        "id": "fUBle-qtcwvN",
        "outputId": "6f126712-34ef-4b50-da96-3d4a0cc066ba"
      },
      "source": [
        "c1.wealth"
      ],
      "execution_count": null,
      "outputs": [
        {
          "output_type": "execute_result",
          "data": {
            "text/plain": [
              "10"
            ]
          },
          "metadata": {
            "tags": []
          },
          "execution_count": 41
        }
      ]
    },
    {
      "cell_type": "markdown",
      "metadata": {
        "id": "_UmAic0JYjfL"
      },
      "source": [
        "Каждый экземпляр, то есть каждый потребитель, хранит свои данные в отдельном словаре, который можно вызвать при помощи метода `__dict__`."
      ]
    },
    {
      "cell_type": "code",
      "metadata": {
        "colab": {
          "base_uri": "https://localhost:8080/"
        },
        "id": "eqw0IHpnXuoT",
        "outputId": "7fd7dd7c-01bf-4f0c-cff2-3bbba9313e28"
      },
      "source": [
        "c1.__dict__"
      ],
      "execution_count": null,
      "outputs": [
        {
          "output_type": "execute_result",
          "data": {
            "text/plain": [
              "{'wealth': 10}"
            ]
          },
          "metadata": {
            "tags": []
          },
          "execution_count": 42
        }
      ]
    },
    {
      "cell_type": "code",
      "metadata": {
        "colab": {
          "base_uri": "https://localhost:8080/"
        },
        "id": "Aqr4Qsd0XuG1",
        "outputId": "566d2ddf-8387-4be6-c907-1cccb1e1cbbd"
      },
      "source": [
        "c2.__dict__"
      ],
      "execution_count": null,
      "outputs": [
        {
          "output_type": "execute_result",
          "data": {
            "text/plain": [
              "{'wealth': 8}"
            ]
          },
          "metadata": {
            "tags": []
          },
          "execution_count": 43
        }
      ]
    },
    {
      "cell_type": "markdown",
      "metadata": {
        "id": "Q1ygsg54Yrn6"
      },
      "source": [
        "Когда мы получаем доступ или устанавливаем атрибуты, мы фактически просто изменяем этот словарь."
      ]
    },
    {
      "cell_type": "markdown",
      "metadata": {
        "id": "a1Dv_dBDYtd3"
      },
      "source": [
        "Если вы еще раз посмотрите на определение класса Consumer, вы увидите слово `self` во всем коде.\n",
        "\n",
        "Правила использования self при создании класса таковы:\n",
        "\n",
        "- Любые данные экземпляра должны начинаться с self\n",
        "  - например, метод заработка использует `self.wealth`, а не просто `wealth`.\n",
        "\n",
        "- Метод, определенный в коде, который определяет класс, должен иметь self в качестве первого аргумента.\n",
        "  - например, `def.earn(self, y)`, а не просто `def.earn(y)`\n",
        "\n",
        "- Любой метод, на который есть ссылка в классе, должен называться self.method_name\n",
        "\n",
        "В предыдущем коде нет примеров последнего правила, но мы вскоре увидим некоторые из них."
      ]
    },
    {
      "cell_type": "markdown",
      "metadata": {
        "id": "Usm1XqA5ZGBU"
      },
      "source": [
        "Еще пример уже другого класса:"
      ]
    },
    {
      "cell_type": "code",
      "metadata": {
        "id": "L4hmTB5gcQvl"
      },
      "source": [
        "class Sber():\n",
        "    # конструктор класса\n",
        "    # после того, как класс инициализирован - в него можно принимать агрументы\n",
        "    # конструкция __init__ автоматически запустится, в hello запишется 'привет'\n",
        "    def __init__(self, hey):\n",
        "        self.hello = hey\n",
        "\n",
        "    # определим функцию класса - распечатаем внутренний параметр hello\n",
        "    def print_hello(self):\n",
        "        print(self.hello) "
      ],
      "execution_count": null,
      "outputs": []
    },
    {
      "cell_type": "code",
      "metadata": {
        "colab": {
          "base_uri": "https://localhost:8080/"
        },
        "id": "_mw5zrQhcRDQ",
        "outputId": "6d0fa448-a60d-4c10-8fcf-d0694bf77a58"
      },
      "source": [
        "# Определим объект класса и передадим в него аргументы\n",
        "class_obj = Sber('привет')\n",
        "class_obj.__dict__"
      ],
      "execution_count": null,
      "outputs": [
        {
          "output_type": "execute_result",
          "data": {
            "text/plain": [
              "{'hello': 'привет'}"
            ]
          },
          "metadata": {
            "tags": []
          },
          "execution_count": 45
        }
      ]
    },
    {
      "cell_type": "code",
      "metadata": {
        "colab": {
          "base_uri": "https://localhost:8080/"
        },
        "id": "dDhGhASidQxf",
        "outputId": "916170af-7d2a-4296-a570-f2d9c50ac8e3"
      },
      "source": [
        "# вызовем функцию класса\n",
        "class_obj.print_hello()"
      ],
      "execution_count": null,
      "outputs": [
        {
          "output_type": "stream",
          "text": [
            "привет\n"
          ],
          "name": "stdout"
        }
      ]
    },
    {
      "cell_type": "markdown",
      "metadata": {
        "id": "8dE2jc8iZuXZ"
      },
      "source": [
        "## Постулаты ООП"
      ]
    },
    {
      "cell_type": "markdown",
      "metadata": {
        "id": "7W7DfC-Dcs50"
      },
      "source": [
        "## Постулат 1. Инкапсуляция\n",
        "\n",
        "Инкапсуляция – скрытие реализации каких либо частей модуля или объекта от внешнего мира (от клиента). Это означает, что манипулируя модификаторами доступа, можно скрыть или открыть только определенные свойства, методы или классы для того, чтобы ненужные для класса-клиента данные не были доступны.\n",
        "\n",
        "Инкапсуляция в Python работает лишь на уровне соглашения между программистами о том, какие атрибуты являются общедоступными, а какие — внутренними.\n",
        "\n",
        "Одиночное подчеркивание в начале имени атрибута говорит о том, что переменная или метод не предназначен для использования вне методов класса, однако атрибут доступен по этому имени."
      ]
    },
    {
      "cell_type": "code",
      "metadata": {
        "colab": {
          "base_uri": "https://localhost:8080/",
          "height": 37
        },
        "id": "H5cSGu_lcQcF",
        "outputId": "a4d4a641-6883-470d-d05a-285ef3f5e5cf"
      },
      "source": [
        "class Test:\n",
        "    name = \"test case\" \n",
        "    def __init__(self, seed=42):\n",
        "        self._seed = seed\n",
        "\n",
        "    def _secret(self):\n",
        "        return Test.name + ' ' + str(self._seed)\n",
        "        \n",
        "    def __str__(self):\n",
        "        return self._secret() #+ str(6)\n",
        "\n",
        "obj = Test()\n",
        "obj._secret()"
      ],
      "execution_count": null,
      "outputs": [
        {
          "output_type": "execute_result",
          "data": {
            "application/vnd.google.colaboratory.intrinsic+json": {
              "type": "string"
            },
            "text/plain": [
              "'test case 42'"
            ]
          },
          "metadata": {
            "tags": []
          },
          "execution_count": 47
        }
      ]
    },
    {
      "cell_type": "code",
      "metadata": {
        "colab": {
          "base_uri": "https://localhost:8080/",
          "height": 37
        },
        "id": "Hy4qbKnAcQFn",
        "outputId": "f910d67e-86ad-401d-b55a-0766f24d99df"
      },
      "source": [
        "obj.__str__()"
      ],
      "execution_count": null,
      "outputs": [
        {
          "output_type": "execute_result",
          "data": {
            "application/vnd.google.colaboratory.intrinsic+json": {
              "type": "string"
            },
            "text/plain": [
              "'test case 42'"
            ]
          },
          "metadata": {
            "tags": []
          },
          "execution_count": 48
        }
      ]
    },
    {
      "cell_type": "code",
      "metadata": {
        "colab": {
          "base_uri": "https://localhost:8080/",
          "height": 37
        },
        "id": "oyvzj3cMfLAJ",
        "outputId": "f5740dca-1d7a-4219-d49b-fb20e7731526"
      },
      "source": [
        "str(obj)"
      ],
      "execution_count": null,
      "outputs": [
        {
          "output_type": "execute_result",
          "data": {
            "application/vnd.google.colaboratory.intrinsic+json": {
              "type": "string"
            },
            "text/plain": [
              "'test case 42'"
            ]
          },
          "metadata": {
            "tags": []
          },
          "execution_count": 49
        }
      ]
    },
    {
      "cell_type": "markdown",
      "metadata": {
        "id": "5S6NMyDgc0oR"
      },
      "source": [
        "Двойное подчеркивание в начале имени атрибута даёт большую защиту: атрибут становится недоступным по этому имени."
      ]
    },
    {
      "cell_type": "code",
      "metadata": {
        "colab": {
          "base_uri": "https://localhost:8080/",
          "height": 198
        },
        "id": "3WSpKsWTcxLy",
        "outputId": "82e42d43-bdd0-4365-c19a-38d675838b16"
      },
      "source": [
        "class Test:\n",
        "    def __secret(self):\n",
        "        print('top secret')\n",
        "\n",
        "obj = Test()\n",
        "obj.__secret()"
      ],
      "execution_count": null,
      "outputs": [
        {
          "output_type": "error",
          "ename": "AttributeError",
          "evalue": "ignored",
          "traceback": [
            "\u001b[0;31m---------------------------------------------------------------------------\u001b[0m",
            "\u001b[0;31mAttributeError\u001b[0m                            Traceback (most recent call last)",
            "\u001b[0;32m<ipython-input-50-1294488e2eb0>\u001b[0m in \u001b[0;36m<module>\u001b[0;34m()\u001b[0m\n\u001b[1;32m      4\u001b[0m \u001b[0;34m\u001b[0m\u001b[0m\n\u001b[1;32m      5\u001b[0m \u001b[0mobj\u001b[0m \u001b[0;34m=\u001b[0m \u001b[0mTest\u001b[0m\u001b[0;34m(\u001b[0m\u001b[0;34m)\u001b[0m\u001b[0;34m\u001b[0m\u001b[0;34m\u001b[0m\u001b[0m\n\u001b[0;32m----> 6\u001b[0;31m \u001b[0mobj\u001b[0m\u001b[0;34m.\u001b[0m\u001b[0m__secret\u001b[0m\u001b[0;34m(\u001b[0m\u001b[0;34m)\u001b[0m\u001b[0;34m\u001b[0m\u001b[0;34m\u001b[0m\u001b[0m\n\u001b[0m",
            "\u001b[0;31mAttributeError\u001b[0m: 'Test' object has no attribute '__secret'"
          ]
        }
      ]
    },
    {
      "cell_type": "markdown",
      "metadata": {
        "id": "Gesh4vvjfWHf"
      },
      "source": [
        "Однако!!!"
      ]
    },
    {
      "cell_type": "code",
      "metadata": {
        "colab": {
          "base_uri": "https://localhost:8080/"
        },
        "id": "sqFQ54v2cxem",
        "outputId": "4e634241-ed06-4203-9ec2-05bcaec99517"
      },
      "source": [
        "obj._Test__secret()"
      ],
      "execution_count": null,
      "outputs": [
        {
          "output_type": "stream",
          "text": [
            "top secret\n"
          ],
          "name": "stdout"
        }
      ]
    },
    {
      "cell_type": "markdown",
      "metadata": {
        "id": "1yqBhLXgc8jF"
      },
      "source": [
        "## Постулат 2. Наследование\n",
        "\n",
        "Наследование подразумевает то, что дочерний класс содержит все атрибуты родительского класса, при этом некоторые из них могут быть переопределены или добавлены в дочернем."
      ]
    },
    {
      "cell_type": "code",
      "metadata": {
        "id": "BZv-F_Tjcx0h"
      },
      "source": [
        "class Human():  \n",
        "    # Конструктор\n",
        "    def __init__(self, name, age, sex):\n",
        "        self.name = name \n",
        "        self.age = age \n",
        "        self.sex = sex \n",
        "        \n",
        "    # Метод (method):\n",
        "    def showInfo(self):\n",
        "        print(f'Человек: {self.name}, возраст {self.age}, пол {self.sex}')\n",
        "\n",
        "class SuperMan(Human):\n",
        "    def __init__(self, name, age, sex, height, weight):\n",
        "        # Вызывается конструктор родительского класса (Human)\n",
        "        # чтобы прикрепить значение к атрибутам 'name', 'age', 'sex' родительского класса\n",
        "        super().__init__(name, age, sex)\n",
        "\n",
        "        # Доопределяем передаваемые в конструктор SuperMan переменные\n",
        "        self.height = height\n",
        "        self.weight = weight\n",
        "\n",
        "    def showInfo(self): #TODO\n",
        "        print(f'Cупермен| имя: {self.name}, возраст {self.age}, пол {self.sex}, вес {self.weight}, рост {self.height}')"
      ],
      "execution_count": null,
      "outputs": []
    },
    {
      "cell_type": "markdown",
      "metadata": {
        "id": "HeSQg8k_f2qY"
      },
      "source": [
        "Главная задача метода super() это давать возможность использовать и исполнять в классе потомке, методы класса-родителя."
      ]
    },
    {
      "cell_type": "code",
      "metadata": {
        "colab": {
          "base_uri": "https://localhost:8080/"
        },
        "id": "WURQ4RmDcPUW",
        "outputId": "2191a5f7-7a0f-4b63-e344-26eab03f56a1"
      },
      "source": [
        "human_obj = Human('Петя', 25, 'муж.')\n",
        "human_obj.showInfo()"
      ],
      "execution_count": null,
      "outputs": [
        {
          "output_type": "stream",
          "text": [
            "Человек: Петя, возраст 25, пол муж.\n"
          ],
          "name": "stdout"
        }
      ]
    },
    {
      "cell_type": "code",
      "metadata": {
        "colab": {
          "base_uri": "https://localhost:8080/"
        },
        "id": "FhVSUQREdE6p",
        "outputId": "73fce61c-cb60-46af-d376-fd4d74bd5f67"
      },
      "source": [
        "superman_obj = SuperMan('Кларк ', 34, 'муж.', 191, 107)\n",
        "superman_obj.showInfo()"
      ],
      "execution_count": null,
      "outputs": [
        {
          "output_type": "stream",
          "text": [
            "Cупермен| имя: Кларк , возраст 34, пол муж., вес 107, рост 191\n"
          ],
          "name": "stdout"
        }
      ]
    },
    {
      "cell_type": "markdown",
      "metadata": {
        "id": "b2aOCd-edM8K"
      },
      "source": [
        "## Постулат 3. Полиморфизм\n",
        "Полиморфизм – это возможность обработки разных типов данных, т.е. принадлежащих к разным классам, с помощью \"одно и той же\" функции, или метода. На самом деле одинаковым является только имя метода, его исходный код зависит от класса. Кроме того, результаты работы одноименных методов могут существенно различаться. Поэтому в данном контексте под полиморфизмом понимается множество форм одного и того же слова – имени метода."
      ]
    },
    {
      "cell_type": "code",
      "metadata": {
        "colab": {
          "base_uri": "https://localhost:8080/"
        },
        "id": "4Xw6HrHwcPCy",
        "outputId": "3fdb8bd4-19e5-4c9c-cda0-7c22c1020053"
      },
      "source": [
        "superman_obj.showInfo()\n",
        "human_obj.showInfo()"
      ],
      "execution_count": null,
      "outputs": [
        {
          "output_type": "stream",
          "text": [
            "Cупермен| имя: Кларк , возраст 34, пол муж., вес 107, рост 191\n",
            "Человек: Петя, возраст 25, пол муж.\n"
          ],
          "name": "stdout"
        }
      ]
    },
    {
      "cell_type": "markdown",
      "metadata": {
        "id": "OYA6VHXWdHC4"
      },
      "source": [
        "# Продолжение"
      ]
    },
    {
      "cell_type": "markdown",
      "metadata": {
        "id": "lpea6LW_tlO_"
      },
      "source": [
        "### Пример с полиномом"
      ]
    },
    {
      "cell_type": "markdown",
      "metadata": {
        "id": "LFNJqP8EtrF5"
      },
      "source": [
        "Помните задачку с полиномом? Давайте перепишем это теперь в класс! И добавим доп. функционала :)"
      ]
    },
    {
      "cell_type": "markdown",
      "metadata": {
        "id": "PH-2WYJDuBq7"
      },
      "source": [
        "Дан полином:\n",
        "$$\n",
        "p(x)=a_{0}+a_{1} x+a_{2} x^{2}+\\cdots a_{n} x^{n}=\\sum_{i=0}^{n} a_{i} x^{i}\n",
        "$$\n",
        "\n",
        "Данные экземпляра для class Polynomial будут коэффициентами (a1,a2,a3..)\n",
        "\n",
        "Предоставьте методы, которые\n",
        "\n",
        "- Вычисляет p(x) для любого x\n",
        "- Дифференцирует многочлен, заменив исходные коэффициенты коэффициентами его производной p'\n",
        "\n",
        "Избегайте использования любых операторов import."
      ]
    },
    {
      "cell_type": "code",
      "metadata": {
        "id": "7-6BPZYVv9Go"
      },
      "source": [
        "coeffs = [2,4, 6, 8]"
      ],
      "execution_count": null,
      "outputs": []
    },
    {
      "cell_type": "code",
      "metadata": {
        "id": "JtmG5GDJvPk_"
      },
      "source": [
        "#Из прошлого примера\n",
        "def p(x, coeff):\n",
        "    supp_list = []\n",
        "    for i, a in enumerate(coeff):\n",
        "        supp_list.append(a*x**i)\n",
        "    return sum(supp_list)"
      ],
      "execution_count": null,
      "outputs": []
    },
    {
      "cell_type": "code",
      "metadata": {
        "colab": {
          "base_uri": "https://localhost:8080/"
        },
        "id": "Jr0NRjRFvHiH",
        "outputId": "393f3da4-a8c9-4dd7-8507-a9c65299f7ec"
      },
      "source": [
        "p(2, coeffs)"
      ],
      "execution_count": null,
      "outputs": [
        {
          "output_type": "execute_result",
          "data": {
            "text/plain": [
              "98"
            ]
          },
          "metadata": {
            "tags": []
          },
          "execution_count": 58
        }
      ]
    },
    {
      "cell_type": "markdown",
      "metadata": {
        "id": "VO-FFg4zw47a"
      },
      "source": [
        "Вспомним, как вычисляется производная $x^n$.\n",
        "$$(x^n)' = n \\cdot x^{(n-1)} $$\n",
        "\n",
        "Например:\n",
        "\n",
        "$(x^0)' = 0$\n",
        "\n",
        "$x' = (x^1)'= 1 \\cdot x^0 = 1$\n",
        "\n",
        "$(x^2)' = 2 \\cdot x ^1 = 2x$\n",
        "\n",
        "$(x^5)' = 5x^{5-1} = 5x^4$"
      ]
    },
    {
      "cell_type": "code",
      "metadata": {
        "id": "6Uf1cyp1vVeI"
      },
      "source": [
        "#Напишем функцию, вычисляющую производную\n",
        "def differentiate(coefficients):\n",
        "    \"Обновляет self.coefficients к p' вместо p.\"\n",
        "    new_coefficients = []\n",
        "    for i, a in enumerate(coefficients):\n",
        "        new_coefficients.append(i * a)\n",
        "    # Удалим 1ый элемент тк он равен 0\n",
        "    del new_coefficients[0]\n",
        "    # Обновим коэффициенты\n",
        "    return new_coefficients"
      ],
      "execution_count": null,
      "outputs": []
    },
    {
      "cell_type": "code",
      "metadata": {
        "colab": {
          "base_uri": "https://localhost:8080/"
        },
        "id": "apbtKzNBvH-e",
        "outputId": "27c5d0be-e6bb-46f8-bd3c-b9eef545d367"
      },
      "source": [
        "new_coeffs = differentiate(coeffs) # сохраним новые коэффициенты в переменную new_coeffs\n",
        "new_coeffs"
      ],
      "execution_count": null,
      "outputs": [
        {
          "output_type": "execute_result",
          "data": {
            "text/plain": [
              "[4, 12, 24]"
            ]
          },
          "metadata": {
            "tags": []
          },
          "execution_count": 60
        }
      ]
    },
    {
      "cell_type": "code",
      "metadata": {
        "colab": {
          "base_uri": "https://localhost:8080/"
        },
        "id": "Irl1kiq4wQzv",
        "outputId": "fafd6bd7-74f5-4ee4-f38d-4586277bf5ea"
      },
      "source": [
        "p(2, new_coeffs)"
      ],
      "execution_count": null,
      "outputs": [
        {
          "output_type": "execute_result",
          "data": {
            "text/plain": [
              "124"
            ]
          },
          "metadata": {
            "tags": []
          },
          "execution_count": 61
        }
      ]
    },
    {
      "cell_type": "markdown",
      "metadata": {
        "id": "VJpPrUNLxsiL"
      },
      "source": [
        "Теперь перепишем все это в класс!"
      ]
    },
    {
      "cell_type": "code",
      "metadata": {
        "id": "_ACIjyOiuiaX"
      },
      "source": [
        "#TODO\n",
        "class Polynomial:\n",
        "    \"\"\"\n",
        "    Создает экземляр класса в ввиде\n",
        "\n",
        "        p(x) = a_0 x^0 + ... + a_N x^N,\n",
        "\n",
        "    где a_i = coefficients[i].\n",
        "    \"\"\"\n",
        "    def __init__(self, coefficients):\n",
        "        self.coefficients = coefficients\n",
        "\n",
        "    def __call__(self, x):\n",
        "        \"Вычисляет p(x) в x.\"\n",
        "        y = 0\n",
        "        for i, a in enumerate(self.coefficients):\n",
        "            y += a * x**i\n",
        "        return y\n",
        "\n",
        "    def differentiate(self):\n",
        "        \"Обновляет self.coefficients к p' вместо p.\"\n",
        "        new_coefficients = []\n",
        "        for i, a in enumerate(self.coefficients):\n",
        "            new_coefficients.append(i * a)\n",
        "        # Удалим 1ый элемент тк он равен 0\n",
        "        del new_coefficients[0]\n",
        "        # Обновим коэффициенты\n",
        "        self.coefficients = new_coefficients\n",
        "        return new_coefficients"
      ],
      "execution_count": null,
      "outputs": []
    },
    {
      "cell_type": "markdown",
      "metadata": {
        "id": "zUJef7sTi1Q3"
      },
      "source": [
        "Метод `__call__` позволяет экземпляру класса вызываться как функция"
      ]
    },
    {
      "cell_type": "code",
      "metadata": {
        "colab": {
          "base_uri": "https://localhost:8080/"
        },
        "id": "0zGQue2jui1-",
        "outputId": "42402afa-6cf3-497f-99bb-eac77e3bd20d"
      },
      "source": [
        "polynom = Polynomial(coeffs) # Инициалируем класс\n",
        "print(coeffs)\n",
        "print(polynom(2)) # вызываем экземпляр класса как функцию благодаря методу __call__"
      ],
      "execution_count": null,
      "outputs": [
        {
          "output_type": "stream",
          "text": [
            "[2, 4, 6, 8]\n",
            "98\n"
          ],
          "name": "stdout"
        }
      ]
    },
    {
      "cell_type": "code",
      "metadata": {
        "colab": {
          "base_uri": "https://localhost:8080/"
        },
        "id": "qJhkm4Jfh9p1",
        "outputId": "1a1098d6-3814-4421-fd92-4d6ce65f958d"
      },
      "source": [
        "res = polynom.differentiate() # Вызываем метод differentiate\n",
        "print(res)\n",
        "print(polynom(2)) # вызываем экземпляр класса как функцию благодаря методу __call__"
      ],
      "execution_count": null,
      "outputs": [
        {
          "output_type": "stream",
          "text": [
            "[4, 12, 24]\n",
            "124\n"
          ],
          "name": "stdout"
        }
      ]
    },
    {
      "cell_type": "markdown",
      "metadata": {
        "id": "nrwwpKM_mfKc"
      },
      "source": [
        "## Напишем свою соцсеть"
      ]
    },
    {
      "cell_type": "markdown",
      "metadata": {
        "id": "PYgNzVWKmVzg"
      },
      "source": [
        "Для этого представим, что мы идём по стопам Павла Дурова и задались целью сделать свой внутренний ВКонтакте для студентов Физтеха. В процессе разработки классов для пользователей мы столкнёмся с магическими методами, наследованием и трудностями инкапсуляции, а также с таким правилом хорошего тона, как использование type hints."
      ]
    },
    {
      "cell_type": "markdown",
      "metadata": {
        "id": "V1axTLK3rGKD"
      },
      "source": [
        "### Задание классов. Метод `__dict__`"
      ]
    },
    {
      "cell_type": "code",
      "metadata": {
        "id": "X3UYwTUzhDJX",
        "colab": {
          "base_uri": "https://localhost:8080/"
        },
        "outputId": "e3826c0a-5d3b-4371-872e-f22bc34a664e"
      },
      "source": [
        "class Phystech:\n",
        "    \"\"\" Документация \"\"\"\n",
        "    uid = 0\n",
        "\n",
        "Phystech.__dict__"
      ],
      "execution_count": null,
      "outputs": [
        {
          "output_type": "execute_result",
          "data": {
            "text/plain": [
              "mappingproxy({'__dict__': <attribute '__dict__' of 'Phystech' objects>,\n",
              "              '__doc__': ' Документация ',\n",
              "              '__module__': '__main__',\n",
              "              '__weakref__': <attribute '__weakref__' of 'Phystech' objects>,\n",
              "              'uid': 0})"
            ]
          },
          "metadata": {
            "tags": []
          },
          "execution_count": 65
        }
      ]
    },
    {
      "cell_type": "markdown",
      "metadata": {
        "id": "tmWhs0FMrO_U"
      },
      "source": [
        "### Создание экземпляра класса. Метод `__init__`"
      ]
    },
    {
      "cell_type": "markdown",
      "metadata": {
        "id": "AR5hrMzHly8g"
      },
      "source": [
        "#### Отступление. Аннотации"
      ]
    },
    {
      "cell_type": "markdown",
      "metadata": {
        "id": "UuskWG-1ks2l"
      },
      "source": [
        "Далее мы будем пользовать аннотациями переменных. Что это значит?\n",
        "\n",
        "В простейшем случае аннотация содержит непосредственно ожидаемый тип переменной. Аннотации для переменных пишут через двоеточие после идентификатора. После этого может идти инициализация значения. Например,\n"
      ]
    },
    {
      "cell_type": "code",
      "metadata": {
        "id": "wUEoemKylB19"
      },
      "source": [
        "price: int = 5\n",
        "title: str"
      ],
      "execution_count": null,
      "outputs": []
    },
    {
      "cell_type": "markdown",
      "metadata": {
        "id": "53j6qikUlO3K"
      },
      "source": [
        "Параметры функции аннотируются так же как переменные, а возвращаемое значение указывается после стрелки -> и до завершающего двоеточия. Например"
      ]
    },
    {
      "cell_type": "code",
      "metadata": {
        "id": "GPw4MeCElDi_"
      },
      "source": [
        "def indent_right(s: str, width: int) -> str:\n",
        "    return \" \" * (max(0, width - len(s))) + s"
      ],
      "execution_count": null,
      "outputs": []
    },
    {
      "cell_type": "markdown",
      "metadata": {
        "id": "ipaObKFhlVZt"
      },
      "source": [
        "Для полей класса аннотации должны быть указаны явно при определении класса. Однако анализаторы могут выводить автоматически их на основе `__init__` метода, но в этом случае они не будут доступны во время выполнения программы."
      ]
    },
    {
      "cell_type": "code",
      "metadata": {
        "id": "QEU3hnGwlT3i"
      },
      "source": [
        "class Book:\n",
        "    title: str\n",
        "    author: str\n",
        "\n",
        "    def __init__(self, title: str, author: str) -> None:\n",
        "        self.title = title\n",
        "        self.author = author\n",
        "\n",
        "b: Book = Book(title='Fahrenheit 451', author='Bradbury')"
      ],
      "execution_count": null,
      "outputs": []
    },
    {
      "cell_type": "markdown",
      "metadata": {
        "id": "W4ChxGVKlwOc"
      },
      "source": [
        "**Встроенные типы**\n",
        "\n",
        "Хоть вы и можете использовать стандартные типы в качестве аннотаций, много полезного сокрыто в модуле typing\n",
        "\n",
        "Optional\n",
        "\n",
        "Если вы пометите переменную типом int и попытаетесь присвоить ей None, будет ошибка:\n",
        "\n",
        "`Incompatible types in assignment (expression has type \"None\", variable has type \"int\")`\n",
        "\n",
        "Для таких случаев предусмотрена в модуле **typing** аннотация **Optional** с указанием конкретного типа. Обратите внимание, тип опциональной переменной указывается в квадратных скобках"
      ]
    },
    {
      "cell_type": "code",
      "metadata": {
        "id": "Hr2UOVZ1mJmb"
      },
      "source": [
        "from typing import Optional, List, Dict\n",
        "\n",
        "amount: int\n",
        "amount = None  # Incompatible types in assignment (expression has type \"None\", variable has type \"int\")\n",
        "\n",
        "price: Optional[int]\n",
        "price = None"
      ],
      "execution_count": null,
      "outputs": []
    },
    {
      "cell_type": "markdown",
      "metadata": {
        "id": "dEZPHFM-mfXn"
      },
      "source": [
        "**Списки**\n",
        "\n",
        "Для того, чтобы указать, что переменная содержит список можно использовать тип list в качестве аннотации. Однако если хочется конкретизировать, какие элементы содержит список, он такая аннотация уже не подойдёт. Для этого есть **typing.List.** Аналогично тому, как мы указывали тип опциональной переменной, мы указываем тип элементов списка в квадратных скобках"
      ]
    },
    {
      "cell_type": "code",
      "metadata": {
        "id": "0eCjHdHFmKEj"
      },
      "source": [
        "titles: List[str] = [\"hello\", \"world\"]\n",
        "titles.append(100500)  # Argument 1 to \"append\" of \"list\" has incompatible type \"int\"; expected \"str\"\n",
        "titles = [\"hello\", 1]  # List item 1 has incompatible type \"int\"; expected \"str\"\n",
        "\n",
        "items: List = [\"hello\", 1]"
      ],
      "execution_count": null,
      "outputs": []
    },
    {
      "cell_type": "markdown",
      "metadata": {
        "id": "iw5oyPhLmqPE"
      },
      "source": [
        "**Словари**\n",
        "\n",
        "Для словарей используется **typing.Dict.** Отдельно аннотируется тип ключа и тип значений:"
      ]
    },
    {
      "cell_type": "code",
      "metadata": {
        "id": "QGksx00emKlh"
      },
      "source": [
        "book_authors: Dict[str, str] = {\"Fahrenheit 451\": \"Bradbury\"}\n",
        "book_authors[\"1984\"] = 0  # Incompatible types in assignment (expression has type \"int\", target has type \"str\")\n",
        "book_authors[1984] = \"Orwell\"  # Invalid index type \"int\" for \"Dict[str, str]\"; expected type \"str\""
      ],
      "execution_count": null,
      "outputs": []
    },
    {
      "cell_type": "markdown",
      "metadata": {
        "id": "FE6P48V4l3BF"
      },
      "source": [
        "### Перейдем к написанию соцсети"
      ]
    },
    {
      "cell_type": "code",
      "metadata": {
        "id": "eMQxB7NLrFzE"
      },
      "source": [
        "from datetime import datetime\n",
        "from typing import List, Dict, Optional\n",
        "\n",
        "\n",
        "class Phystech:\n",
        "    _uid = 0\n",
        "\n",
        "    def __init__(\n",
        "        self, \n",
        "        name: str,  #Аннотация\n",
        "        login: str, #Аннотация\n",
        "        password: str, #Аннотация\n",
        "        birthday: Optional[datetime] = None,  #Аннотация\n",
        "        status: Optional[str] = None, #Аннотация\n",
        "    ):\n",
        "        self.name = name\n",
        "        self.status = status\n",
        "        self.last_online = datetime.now()\n",
        "        self._birthday = birthday\n",
        "        self.__login = login\n",
        "        self.__password = password\n",
        "        self.__uid = Phystech._uid\n",
        "        Phystech._uid += 1\n",
        "\n",
        "landau = Phystech(\n",
        "    name='Лев Давидович Ландау',  \n",
        "    birthday=datetime(year=1908, month=1, day=22),\n",
        "    status='Главное – делайте все с увлечением: это страшно украшает жизнь.',\n",
        "    login='dau',\n",
        "    password='I<3Physics'\n",
        ")"
      ],
      "execution_count": null,
      "outputs": []
    },
    {
      "cell_type": "markdown",
      "metadata": {
        "id": "5y46d3Q3taCC"
      },
      "source": [
        "### Блеск и нищета инкапсуляции в Python"
      ]
    },
    {
      "cell_type": "code",
      "metadata": {
        "colab": {
          "base_uri": "https://localhost:8080/"
        },
        "id": "tc0IgNxynvIE",
        "outputId": "d9181a72-b8ce-41ed-a4a5-ba344aa83fb8"
      },
      "source": [
        "print(landau, '\\n')"
      ],
      "execution_count": null,
      "outputs": [
        {
          "output_type": "stream",
          "text": [
            "<__main__.Phystech object at 0x7f2c2e6a5e48> \n",
            "\n"
          ],
          "name": "stdout"
        }
      ]
    },
    {
      "cell_type": "code",
      "metadata": {
        "id": "5HUT3HCXthJ8",
        "colab": {
          "base_uri": "https://localhost:8080/"
        },
        "outputId": "d2cbca63-2616-40e3-e359-aa8e0445a596"
      },
      "source": [
        "landau.__dict__"
      ],
      "execution_count": null,
      "outputs": [
        {
          "output_type": "execute_result",
          "data": {
            "text/plain": [
              "{'_Phystech__login': 'dau',\n",
              " '_Phystech__password': 'I<3Physics',\n",
              " '_Phystech__uid': 0,\n",
              " '_birthday': datetime.datetime(1908, 1, 22, 0, 0),\n",
              " 'last_online': datetime.datetime(2020, 11, 26, 13, 18, 1, 308356),\n",
              " 'name': 'Лев Давидович Ландау',\n",
              " 'status': 'Главное – делайте все с увлечением: это страшно украшает жизнь.'}"
            ]
          },
          "metadata": {
            "tags": []
          },
          "execution_count": 81
        }
      ]
    },
    {
      "cell_type": "code",
      "metadata": {
        "id": "v-d76bU1tpAN",
        "colab": {
          "base_uri": "https://localhost:8080/"
        },
        "outputId": "86e52a1b-4d76-45b8-df9c-411df7c54408"
      },
      "source": [
        "landau._birthday"
      ],
      "execution_count": null,
      "outputs": [
        {
          "output_type": "execute_result",
          "data": {
            "text/plain": [
              "datetime.datetime(1908, 1, 22, 0, 0)"
            ]
          },
          "metadata": {
            "tags": []
          },
          "execution_count": 82
        }
      ]
    },
    {
      "cell_type": "code",
      "metadata": {
        "colab": {
          "base_uri": "https://localhost:8080/",
          "height": 164
        },
        "id": "3nhUotj0nfz_",
        "outputId": "0af5ff6f-9180-449b-8ff6-44f6b23d3b24"
      },
      "source": [
        "landau.__password"
      ],
      "execution_count": null,
      "outputs": [
        {
          "output_type": "error",
          "ename": "AttributeError",
          "evalue": "ignored",
          "traceback": [
            "\u001b[0;31m---------------------------------------------------------------------------\u001b[0m",
            "\u001b[0;31mAttributeError\u001b[0m                            Traceback (most recent call last)",
            "\u001b[0;32m<ipython-input-83-bb1695d21eb8>\u001b[0m in \u001b[0;36m<module>\u001b[0;34m()\u001b[0m\n\u001b[0;32m----> 1\u001b[0;31m \u001b[0mlandau\u001b[0m\u001b[0;34m.\u001b[0m\u001b[0m__password\u001b[0m\u001b[0;34m\u001b[0m\u001b[0;34m\u001b[0m\u001b[0m\n\u001b[0m",
            "\u001b[0;31mAttributeError\u001b[0m: 'Phystech' object has no attribute '__password'"
          ]
        }
      ]
    },
    {
      "cell_type": "code",
      "metadata": {
        "id": "SwerZcfFt7DI",
        "colab": {
          "base_uri": "https://localhost:8080/",
          "height": 37
        },
        "outputId": "4f43bd74-f701-4b63-938b-1d78f68c87c0"
      },
      "source": [
        "landau._Phystech__password"
      ],
      "execution_count": null,
      "outputs": [
        {
          "output_type": "execute_result",
          "data": {
            "application/vnd.google.colaboratory.intrinsic+json": {
              "type": "string"
            },
            "text/plain": [
              "'I<3Physics'"
            ]
          },
          "metadata": {
            "tags": []
          },
          "execution_count": 84
        }
      ]
    },
    {
      "cell_type": "markdown",
      "metadata": {
        "id": "IeKnmORtugtU"
      },
      "source": [
        "\n",
        "\n",
        "> Strictly speaking, private methods are accessible outside their class, just not easily accessible. Nothing in Python is truly private; internally, the names of private methods and attributes are mangled and unmangled on the fly to make them seem inaccessible by their given names. You can access the `__parse` method of the `MP3FileInfo` class by the name `_MP3FileInfo__parse`. Acknowledge that this is interesting, then promise to never, ever do it in real code. Private methods are private for a reason, but like many other things in Python, their privateness is ultimately a matter of convention, not force.\n",
        "\n",
        "(c) [*Dive Into Python*](http://www.faqs.org/docs/diveintopython/fileinfo_private.html)\n",
        "\n"
      ]
    },
    {
      "cell_type": "markdown",
      "metadata": {
        "id": "5jSOCe8CvRCK"
      },
      "source": [
        "### Строковое представление классов. Методы `__str__` и `__repr__`"
      ]
    },
    {
      "cell_type": "code",
      "metadata": {
        "id": "POSJXd4PvcNH",
        "colab": {
          "base_uri": "https://localhost:8080/"
        },
        "outputId": "1e1ce15e-6ebe-4641-89c6-a2b762d271a2"
      },
      "source": [
        "class Phystech:\n",
        "    _uid = 0\n",
        "\n",
        "    def __init__(\n",
        "        self, name: str,  \n",
        "        login: str,\n",
        "        password: str,\n",
        "        graduation_year: Optional[int] = None,\n",
        "        birthday: Optional[datetime] = None, \n",
        "        status: Optional[str] = None,\n",
        "    ):\n",
        "        self.name = name\n",
        "        self.status = status\n",
        "        self.last_online = datetime.now()\n",
        "        self.uid = Phystech._uid\n",
        "        Phystech._uid += 1\n",
        "\n",
        "        self._birthday = birthday\n",
        "        self._graduation_year = graduation_year\n",
        "        self.__login = login\n",
        "        self.__password = password\n",
        "\n",
        "    def __str__(self) -> str:\n",
        "        str_repr_lines = [\n",
        "            f'НаФизтехе. Пользователь \\\"{self.name}\\\".',\n",
        "            'День рождения: {}'.format(\n",
        "                self._birthday if self._birthday is not None else '(скрыт)'\n",
        "            ),\n",
        "            f'Статус: \\\"{self.status}\\\".',\n",
        "            f'Последний раз был онлайн {self.last_online}'\n",
        "        ]\n",
        "        return '\\n'.join(str_repr_lines)\n",
        "\n",
        "    def __repr__(self) -> str:\n",
        "        return '\\n'.join([\n",
        "            f'uid:\\t{self._uid}', # change for __uid\n",
        "            f'last_online:\\t{self.last_online}',\n",
        "        ])\n",
        "\n",
        "    \n",
        "\n",
        "landau = Phystech(\n",
        "    name='Ландау Лев Давидович',  \n",
        "    birthday=datetime(year=1908, month=1, day=22),\n",
        "    status='Главное – делайте все с увлечением: это страшно украшает жизнь.',\n",
        "    login='dau',\n",
        "    password='I<3Physics'\n",
        ")\n",
        "print(landau, '\\n')"
      ],
      "execution_count": null,
      "outputs": [
        {
          "output_type": "stream",
          "text": [
            "НаФизтехе. Пользователь \"Ландау Лев Давидович\".\n",
            "День рождения: 1908-01-22 00:00:00\n",
            "Статус: \"Главное – делайте все с увлечением: это страшно украшает жизнь.\".\n",
            "Последний раз был онлайн 2020-11-26 13:19:04.524474 \n",
            "\n"
          ],
          "name": "stdout"
        }
      ]
    },
    {
      "cell_type": "code",
      "metadata": {
        "colab": {
          "base_uri": "https://localhost:8080/"
        },
        "id": "XdHTlZHGtR0q",
        "outputId": "5850a8ed-a408-4943-ffa2-2573412de0a5"
      },
      "source": [
        "landau"
      ],
      "execution_count": null,
      "outputs": [
        {
          "output_type": "execute_result",
          "data": {
            "text/plain": [
              "uid:\t1\n",
              "last_online:\t2020-11-26 13:19:04.524474"
            ]
          },
          "metadata": {
            "tags": []
          },
          "execution_count": 95
        }
      ]
    },
    {
      "cell_type": "markdown",
      "metadata": {
        "id": "x3YzQ6M9ooQ-"
      },
      "source": [
        "`repr(obj)` возвращает однозначное текстовое представление (representation) объекта полезное для отладки, сообщений об ошибках, REPL, которое (иногда) позволяет его (теоретически) восстановить: eval(repr(obj)) == obj.\n",
        "\n",
        "`str(obj)` возвращает читаемый текст. Для многих объектов имеет смысл определить `__repr__()` (так как реализация по умолчанию в `object.__repr__` не слишком информативна). `__str__()` имеет смысл определять для объектов, для которых существует «естественное» человеко-читаемое (неспецифичное для Питона) представление (как в примере с датой), например, для логов."
      ]
    },
    {
      "cell_type": "markdown",
      "metadata": {
        "id": "aHS6RbJN-MCN"
      },
      "source": [
        "### Декоратор `@property`"
      ]
    },
    {
      "cell_type": "markdown",
      "metadata": {
        "id": "1-BTj3CW6-UL"
      },
      "source": [
        "Декораторы в духе `@property` -- специальные функции (т.н. замыкания), которые \"оборачиваются\" вокруг вашего кода, чтобы привнести в него дополнительный функционал на мета-уровне. Более строго, декоратор это структурный шаблон проектирования, предназначенный для динамического подключения дополнительного поведения к объекту. "
      ]
    },
    {
      "cell_type": "markdown",
      "metadata": {
        "id": "nhj7ZdqUpPkU"
      },
      "source": [
        "Python содержит очень удобный небольшой концепт, под названием @property, который выполняет несколько полезных задач. Мы рассмотрим, как делать следующее:\n",
        "\n",
        " - Конвертация метода класс в атрибуты только для чтения;"
      ]
    },
    {
      "cell_type": "code",
      "metadata": {
        "id": "6sZdLi5mqUcS"
      },
      "source": [
        "class Person(object):\n",
        "    \"\"\"\"\"\"\n",
        "    def __init__(self, first_name, last_name):\n",
        "        \"\"\"Конструктор\"\"\"\n",
        "        self.first_name = first_name\n",
        "        self.last_name = last_name\n",
        "    \n",
        "    @property\n",
        "    def full_name(self):\n",
        "        \"\"\"\n",
        "        Возвращаем полное имя\n",
        "        \"\"\"\n",
        "        return \"%s %s\" % (self.first_name, self.last_name)"
      ],
      "execution_count": null,
      "outputs": []
    },
    {
      "cell_type": "code",
      "metadata": {
        "colab": {
          "base_uri": "https://localhost:8080/"
        },
        "id": "Oj347t0XqU84",
        "outputId": "bedc86cb-519d-4c90-b346-3cd239ffd5de"
      },
      "source": [
        "person = Person(\"Mike\", \"Driscoll\")\n",
        " \n",
        "print(person.full_name) # Mike Driscoll\n",
        "print(person.first_name) # Mike"
      ],
      "execution_count": null,
      "outputs": [
        {
          "output_type": "stream",
          "text": [
            "Mike Driscoll\n",
            "Mike\n"
          ],
          "name": "stdout"
        }
      ]
    },
    {
      "cell_type": "code",
      "metadata": {
        "colab": {
          "base_uri": "https://localhost:8080/",
          "height": 164
        },
        "id": "31WH3SuFqkk1",
        "outputId": "3fc49d9c-7370-44bc-e3d9-88206d0f4f71"
      },
      "source": [
        "person.full_name = \"Jackalope\" # ==> Только для чтения"
      ],
      "execution_count": null,
      "outputs": [
        {
          "output_type": "error",
          "ename": "AttributeError",
          "evalue": "ignored",
          "traceback": [
            "\u001b[0;31m---------------------------------------------------------------------------\u001b[0m",
            "\u001b[0;31mAttributeError\u001b[0m                            Traceback (most recent call last)",
            "\u001b[0;32m<ipython-input-88-0740e4d01b1c>\u001b[0m in \u001b[0;36m<module>\u001b[0;34m()\u001b[0m\n\u001b[0;32m----> 1\u001b[0;31m \u001b[0mperson\u001b[0m\u001b[0;34m.\u001b[0m\u001b[0mfull_name\u001b[0m \u001b[0;34m=\u001b[0m \u001b[0;34m\"Jackalope\"\u001b[0m \u001b[0;31m# ==> Только для чтения\u001b[0m\u001b[0;34m\u001b[0m\u001b[0;34m\u001b[0m\u001b[0m\n\u001b[0m",
            "\u001b[0;31mAttributeError\u001b[0m: can't set attribute"
          ]
        }
      ]
    },
    {
      "cell_type": "markdown",
      "metadata": {
        "id": "rMpjOtetqtOq"
      },
      "source": [
        "Вернемся к написанию нашей соцсети"
      ]
    },
    {
      "cell_type": "code",
      "metadata": {
        "id": "tBr8K3hk-Rdr"
      },
      "source": [
        "class Phystech:\n",
        "    uid = 0\n",
        "\n",
        "    def __init__(\n",
        "        self, \n",
        "        name: str,  \n",
        "        login: str,\n",
        "        password: str,\n",
        "        graduation_year: Optional[int] = None,\n",
        "        birthday: Optional[datetime] = None, \n",
        "        status: Optional[str] = None,\n",
        "    ):\n",
        "        self.name = name\n",
        "        self.status = status\n",
        "        self.last_online = datetime.now()\n",
        "        self.__uid = Phystech.uid\n",
        "        Phystech.uid += 1\n",
        "\n",
        "        self._birthday = birthday\n",
        "        self._graduation_year = graduation_year\n",
        "        self.__login = login\n",
        "        self.__password = password\n",
        "\n",
        "    @property\n",
        "    def is_graduate(self) -> Optional[bool]:\n",
        "        if self._graduation_year is not None:\n",
        "            return datetime.now().year - self._graduation_year > 0\n",
        "        return None\n",
        "\n",
        "    def __str__(self) -> str:\n",
        "        str_repr_lines = [\n",
        "            f'НаФизтехе. Пользователь \\\"{self.name}\\\".',\n",
        "            'День рождения: {}'.format(\n",
        "                self._birthday if self._birthday is not None else '(скрыт)'\n",
        "            ),\n",
        "            f'Статус: \\\"{self.status}\\\".',\n",
        "            f'Последний раз был онлайн {self.last_online}'\n",
        "        ]\n",
        "        if self.is_graduate is not None:\n",
        "            if self.is_graduate:\n",
        "                str_repr_lines.append(\n",
        "                    f'Выпускник {self._graduation_year} года'\n",
        "                )\n",
        "        return '\\n'.join(str_repr_lines)\n",
        "\n",
        "    def __repr__(self) -> str:\n",
        "        return '\\n'.join([\n",
        "            f'uid:\\t{self.__uid}',\n",
        "            f'last_online:\\t{self.last_online}',\n",
        "        ])\n",
        "\n",
        "    \n",
        "\n",
        "ovchinkin = Phystech(\n",
        "    name='Овчинкин Владимир Александрович',  \n",
        "    birthday=datetime(year=1946, month=6, day=9),\n",
        "    status='Знаете, как много надо знать, чтобы понять, как мало мы знаем.',\n",
        "    login='ovchinkin',\n",
        "    graduation_year=2021,\n",
        "    password='general_physics_rules'\n",
        ")"
      ],
      "execution_count": null,
      "outputs": []
    },
    {
      "cell_type": "code",
      "metadata": {
        "colab": {
          "base_uri": "https://localhost:8080/"
        },
        "id": "ZS5tGjUetKPM",
        "outputId": "05cecd9a-473f-4b1f-a445-97983d66d698"
      },
      "source": [
        "print(ovchinkin, '\\n')\n",
        "ovchinkin"
      ],
      "execution_count": null,
      "outputs": [
        {
          "output_type": "stream",
          "text": [
            "НаФизтехе. Пользователь \"Овчинкин Владимир Александрович\".\n",
            "День рождения: 1946-06-09 00:00:00\n",
            "Статус: \"Знаете, как много надо знать, чтобы понять, как мало мы знаем.\".\n",
            "Последний раз был онлайн 2020-11-26 13:18:33.359317 \n",
            "\n"
          ],
          "name": "stdout"
        },
        {
          "output_type": "execute_result",
          "data": {
            "text/plain": [
              "uid:\t0\n",
              "last_online:\t2020-11-26 13:18:33.359317"
            ]
          },
          "metadata": {
            "tags": []
          },
          "execution_count": 96
        }
      ]
    },
    {
      "cell_type": "markdown",
      "metadata": {
        "id": "Vfy4Li9oqymD"
      },
      "source": [
        "Попробуем поменять год выпуска"
      ]
    },
    {
      "cell_type": "code",
      "metadata": {
        "colab": {
          "base_uri": "https://localhost:8080/"
        },
        "id": "bh3YObNLq2Hw",
        "outputId": "b0a9669b-e9b4-4d14-a2c0-3630296f0358"
      },
      "source": [
        "ovchinkin = Phystech(\n",
        "    name='Овчинкин Владимир Александрович',  \n",
        "    birthday=datetime(year=1946, month=6, day=9),\n",
        "    status='Знаете, как много надо знать, чтобы понять, как мало мы знаем.',\n",
        "    login='ovchinkin',\n",
        "    graduation_year=2021,\n",
        "    password='general_physics_rules'\n",
        ")\n",
        "print(ovchinkin, '\\n')\n",
        "ovchinkin"
      ],
      "execution_count": null,
      "outputs": [
        {
          "output_type": "stream",
          "text": [
            "НаФизтехе. Пользователь \"Овчинкин Владимир Александрович\".\n",
            "День рождения: 1946-06-09 00:00:00\n",
            "Статус: \"Знаете, как много надо знать, чтобы понять, как мало мы знаем.\".\n",
            "Последний раз был онлайн 2020-11-26 13:19:29.362117 \n",
            "\n"
          ],
          "name": "stdout"
        },
        {
          "output_type": "execute_result",
          "data": {
            "text/plain": [
              "uid:\t2\n",
              "last_online:\t2020-11-26 13:19:29.362117"
            ]
          },
          "metadata": {
            "tags": []
          },
          "execution_count": 97
        }
      ]
    },
    {
      "cell_type": "markdown",
      "metadata": {
        "id": "FLrt9xsn0YWP"
      },
      "source": [
        "### Наследование."
      ]
    },
    {
      "cell_type": "code",
      "metadata": {
        "id": "_LAznJ8h0bXz",
        "colab": {
          "base_uri": "https://localhost:8080/"
        },
        "outputId": "0596d87d-fd37-4506-a0b4-c9e53e21e9a0"
      },
      "source": [
        "class Student(Phystech):\n",
        "    def __init__(\n",
        "        self, \n",
        "        name: str,  \n",
        "        login: str,\n",
        "        password: str,\n",
        "        faculty: str,\n",
        "        study_year: Optional[int] = None,\n",
        "        graduation_year: Optional[int] = None, \n",
        "        birthday: Optional[datetime] = None, \n",
        "        status: Optional[str] = None,\n",
        "    ):\n",
        "        super().__init__(\n",
        "            name=name, \n",
        "            login=login, \n",
        "            password=password, \n",
        "            birthday=birthday,\n",
        "            status=status,\n",
        "            graduation_year=graduation_year\n",
        "        )\n",
        "        self.faculty = faculty\n",
        "        self.study_year = study_year\n",
        "\n",
        "    def __str__(self) -> str:\n",
        "        str_repr_lines = [\n",
        "            super().__str__(),\n",
        "            f\"Факультет: {self.faculty}\",\n",
        "        ]\n",
        "        if self.study_year is not None:\n",
        "            str_repr_lines.append(f\"Курс: {self.study_year}\")\n",
        "        return '\\n'.join(str_repr_lines)\n",
        "\n",
        "paul_simon = Student(\n",
        "    name='Пол Саймон',\n",
        "    login='paul_simon',\n",
        "    graduation_year=1986,\n",
        "    password='I<3English',\n",
        "    faculty='ФОПФ',\n",
        "    status='Sapere Aude!'\n",
        ")\n",
        "print(paul_simon, '\\n')\n",
        "\n",
        "paul_simon"
      ],
      "execution_count": null,
      "outputs": [
        {
          "output_type": "stream",
          "text": [
            "НаФизтехе. Пользователь \"Пол Саймон\".\n",
            "День рождения: (скрыт)\n",
            "Статус: \"Sapere Aude!\".\n",
            "Последний раз был онлайн 2020-11-26 13:19:31.313401\n",
            "Факультет: ФОПФ \n",
            "\n"
          ],
          "name": "stdout"
        },
        {
          "output_type": "execute_result",
          "data": {
            "text/plain": [
              "uid:\t3\n",
              "last_online:\t2020-11-26 13:19:31.313401"
            ]
          },
          "metadata": {
            "tags": []
          },
          "execution_count": 98
        }
      ]
    },
    {
      "cell_type": "code",
      "metadata": {
        "id": "bVQXRbFYAF1I",
        "colab": {
          "base_uri": "https://localhost:8080/"
        },
        "outputId": "382b1cc7-4513-487f-d1dc-4352e30984eb"
      },
      "source": [
        "isinstance(paul_simon,  Phystech) # Возвращает флаг, указывающий на то, является ли указанный объект экземпляром указанного класса "
      ],
      "execution_count": null,
      "outputs": [
        {
          "output_type": "execute_result",
          "data": {
            "text/plain": [
              "True"
            ]
          },
          "metadata": {
            "tags": []
          },
          "execution_count": 99
        }
      ]
    },
    {
      "cell_type": "code",
      "metadata": {
        "id": "BEtwxrWLAKAQ",
        "colab": {
          "base_uri": "https://localhost:8080/"
        },
        "outputId": "73998d7c-59e5-44e1-e58e-70b4276e17fe"
      },
      "source": [
        "issubclass(Student, Phystech) # Возвращает флаг, указывающий на то, является ли указанный класс подклассом указанного класса "
      ],
      "execution_count": null,
      "outputs": [
        {
          "output_type": "execute_result",
          "data": {
            "text/plain": [
              "True"
            ]
          },
          "metadata": {
            "tags": []
          },
          "execution_count": 100
        }
      ]
    },
    {
      "cell_type": "markdown",
      "metadata": {
        "id": "bWskMprq4X-_"
      },
      "source": [
        "### Остальные магические методы\n",
        "\n",
        "Их настолько много, что приводить их все здесь это плохая идея. Заинтересованный слушатель может ознакомиться с подробным перечнем в статье [\"Руководство по магическим методам в Питоне\"](https://habr.com/ru/post/186608/), с которой мы кратко ознакомились на занятии."
      ]
    },
    {
      "cell_type": "markdown",
      "metadata": {
        "id": "1oKM9LuA6ARM"
      },
      "source": [
        "### Материалы для самостоятельного изучения\n",
        "\n",
        "Открытый курс ШАД по Python: https://gitlab.manytask.org/py-tasks/lectures-2020-spring/  \n",
        "Релевантно: [лекция про декораторы](https://gitlab.manytask.org/py-tasks/lectures-2020-spring/blob/master/04.1.NamespacesAndDecorators/NamespacesAndDecorators.ipynb), [лекция про классы](https://gitlab.manytask.org/py-tasks/lectures-2020-spring/blob/master/06.1.Classes/Classes.ipynb), [лекция про typing](https://gitlab.manytask.org/py-tasks/lectures-2020-spring/blob/master/06.2.Typing/Typing.ipynb/)."
      ]
    },
    {
      "cell_type": "markdown",
      "metadata": {
        "id": "Fm8RmerwAjbd"
      },
      "source": [
        "### ДОП Задание к ДЗ (Необязательно к выполнению, но приносит доп. балл)\n",
        "Дополните класс `Phystech` так, чтобы у пользователей появился список друзей. Пользователи должны быть в состоянии добавлять других в друзья по `uid`, удалять других из друзей; смотреть на список общих друзей; проверять, приняли ли заявку в друзья; видеть актуальный список входящих и исходящих заявок; запрещать конкретным пользователям добавлять себя в друзья. \n",
        "\n",
        "При этом любое действие пользователя должно обновлять переменную `self.last_online`, а история её значений для каждого из пользователей должна накапливаться в статическом поле класса (т.е. должен быть `Dict[int, List[datetime]]` -- отображение из  `uid` в историю сеансов. \n",
        "\n",
        "Задание с двумя звёздочками -- сгенерировать 20 случайных пользователей, случайным образом просимулировать их взаимодействия, затем собрать `pandas.DataFrame` с данными о том, когда пользователи были онлайн и сколько у разных пользователей общих друзей, а потом визуализировать эти данные в `seaborn` с помощью `line plots` и `heatmap` соответственно.   \n"
      ]
    },
    {
      "cell_type": "markdown",
      "metadata": {
        "id": "_RwFuo-tC9Sm"
      },
      "source": [
        "# Библиотека matplotlib\n",
        "\n",
        "Есть несколько пакетов для построения графиков. Один из наиболее популярных - `matplotlib`. Если в `jupyter notebook` выполнить специальную `ipython` команду `%matplotlib inline`, то графики будут строиться в том же окне браузера. \n",
        "\n",
        "Есть другие варианты, в которых графики показываются в отдельных окнах. Это удобно для трёхмерных графиков - тогда их можно вертеть мышкой (в случае inline графиков это невозможно). \n",
        "\n",
        "Графики можно также сохранять в файлы, как в векторных форматах (`eps`, `pdf`, `svg`), так и в растровых (`png`, `jpg`; конечно, растровые форматы годятся только для размещения графиков на web-страницах). `matplotlib` позволяет строить двумерные графики практически всех нужных типов, с достаточно гибкой регулировкой их параметров; он также поддерживает основные типы трёхмерных графиков, но для серьёзной трёхмерной визуализации данных лучше пользоваться более мощными специализированными системами.\n",
        "\n",
        "Некоторые функции отрисовки:\n",
        "\n",
        "* `plt.scatter(x, y, params)` — нарисовать точки с координатами из $x$ по горизонтальной оси и из $y$ по вертикальной оси\n",
        "* `plt.plot(x, y, params)` — нарисовать график по точкам с координатами из $x$ по горизонтальной оси и из $y$ по вертикальной оси. Точки будут соединятся в том порядке, в котором они указаны в этих массивах.\n",
        "* `plt.fill_between(x, y1, y2, params)` — закрасить пространство между $y_1$ и $y_2$ по координатам из $x$.\n",
        "*  `plt.pcolormesh(x1, x1, y, params)` — закрасить пространство в соответствии с интенсивностью $y$.\n",
        "* `plt.contour(x1, x1, y, lines)` — нарисовать линии уровня. Затем нужно применить `plt.clabel`\n",
        "\n",
        "\n",
        "Вспомогательные функции:\n",
        "\n",
        "*    `plt.figure(figsize=(x, y))` — создать график размера $(x, y)$\n",
        "*    `plt.show()` — показать график.\n",
        "*    `plt.subplot(...)` — добавить подграфик\n",
        "*    `plt.xlim(x_min, x_max)` — установить пределы графика по горизонтальной оси\n",
        "*    `plt.ylim(y_min, y_max)` — установить пределы графика по вертикальной оси\n",
        "*    `plt.title(name)` — установить имя графика\n",
        "*    `plt.xlabel(name)` — установить название горизонтальной оси\n",
        "*    `plt.ylabel(name)` — установить название вертикальной оси\n",
        "*    `plt.legend(loc=...)` — сделать легенду в позиции loc\n",
        "*    `plt.grid()` — добавить сетку на график\n",
        "*    `plt.savefig(filename)` — сохранить график в файл\n",
        "\n",
        "\n",
        "http://matplotlib.org/gallery.html (англ.) — тысячи примеров\n",
        "\n",
        "У функций в `matplotlib` много параметров.\n",
        "Для того, чтобы посмотреть все параметры, можно воспользоваться справкой\n"
      ]
    },
    {
      "cell_type": "code",
      "metadata": {
        "id": "548yVOqNDF6T"
      },
      "source": [
        "import numpy.random as npr\n",
        "import matplotlib.pyplot as plt\n",
        "from mpl_toolkits.mplot3d import Axes3D\n",
        "from pandas import *\n",
        "from numpy.random import randn\n",
        "from pylab import *\n",
        "import scipy.stats as sps\n",
        "import warnings\n",
        "warnings.simplefilter('ignore')\n",
        "\n",
        "%matplotlib inline"
      ],
      "execution_count": null,
      "outputs": []
    },
    {
      "cell_type": "markdown",
      "metadata": {
        "id": "6dQa8zMyDHqN"
      },
      "source": [
        "Посмотрим, что можно делать с библиотекой"
      ]
    },
    {
      "cell_type": "markdown",
      "metadata": {
        "id": "y7Dnebm4DNWA"
      },
      "source": [
        "## Основы matplotlib\n"
      ]
    },
    {
      "cell_type": "markdown",
      "metadata": {
        "id": "BGYHGop2yJ3k"
      },
      "source": [
        "Давайте, при помощи уже известой нам функции range(), инициализируем список со значениями от 0 до 1000 и построим график при помощи matplotlib!"
      ]
    },
    {
      "cell_type": "code",
      "metadata": {
        "id": "kTksZWsjyIXI"
      },
      "source": [
        "#TODO\n",
        "vals = [i for i in range(1000)]"
      ],
      "execution_count": null,
      "outputs": []
    },
    {
      "cell_type": "markdown",
      "metadata": {
        "id": "ekEbPmRUyr6E"
      },
      "source": [
        "На вход plot() принимает массивы точек x и y. Точки соединяются прямыми"
      ]
    },
    {
      "cell_type": "code",
      "metadata": {
        "colab": {
          "base_uri": "https://localhost:8080/",
          "height": 265
        },
        "id": "5II3Lx-MyI2o",
        "outputId": "2dc5aafb-42c2-4941-f6ea-17b52153d004"
      },
      "source": [
        "plt.plot(vals, vals) # На вход plot() принимает массивы точек x и y\n",
        "plt.show()"
      ],
      "execution_count": null,
      "outputs": [
        {
          "output_type": "display_data",
          "data": {
            "image/png": "[encoded data removed]",
            "text/plain": [
              "<Figure size 432x288 with 1 Axes>"
            ]
          },
          "metadata": {
            "tags": [],
            "needs_background": "light"
          }
        }
      ]
    },
    {
      "cell_type": "markdown",
      "metadata": {
        "id": "MSa7ysDmyGLj"
      },
      "source": [
        "Еще пример: "
      ]
    },
    {
      "cell_type": "code",
      "metadata": {
        "id": "xchr9cOdDO3Y",
        "colab": {
          "base_uri": "https://localhost:8080/",
          "height": 265
        },
        "outputId": "1ff955ee-ed11-48bf-c490-29bf57b4eed3"
      },
      "source": [
        "plt.plot([0, 0.25, 1], [0, 1, 0.5])\n",
        "plt.plot([0, 1, 0.5, 1.2],[1, 2, 3, 4])\n",
        "plt.show()"
      ],
      "execution_count": null,
      "outputs": [
        {
          "output_type": "display_data",
          "data": {
            "image/png": "[encoded data removed]",
            "text/plain": [
              "<Figure size 432x288 with 1 Axes>"
            ]
          },
          "metadata": {
            "tags": [],
            "needs_background": "light"
          }
        }
      ]
    },
    {
      "cell_type": "code",
      "metadata": {
        "id": "fPqwAIwhDRZF",
        "colab": {
          "base_uri": "https://localhost:8080/",
          "height": 374
        },
        "outputId": "619befbb-6e3e-473d-854e-aeabe54eb171"
      },
      "source": [
        "# можно задавать размер изображения\n",
        "plt.figure(figsize=(12, 6)) # варьируя эти значения, можно изменять масштаб графика\n",
        "plt.plot([0, 1, 0.5, 1.2],[1, 2, 3, 4])\n",
        "plt.show()"
      ],
      "execution_count": null,
      "outputs": [
        {
          "output_type": "display_data",
          "data": {
            "image/png": "[encoded data removed]",
            "text/plain": [
              "<Figure size 864x432 with 1 Axes>"
            ]
          },
          "metadata": {
            "tags": [],
            "needs_background": "light"
          }
        }
      ]
    },
    {
      "cell_type": "code",
      "metadata": {
        "id": "Ry-p2b8kDS5t",
        "colab": {
          "base_uri": "https://localhost:8080/",
          "height": 483
        },
        "outputId": "d7deaec8-4e89-483b-e8a0-2d530871a7b0"
      },
      "source": [
        "# можно задавать размер изображения\n",
        "plt.figure(figsize=(8,8))\n",
        "plt.plot([0, 0.25, 1, 0], [0, 1, 0.5, 0])\n",
        "plt.show()"
      ],
      "execution_count": null,
      "outputs": [
        {
          "output_type": "display_data",
          "data": {
            "image/png": "[encoded data removed]",
            "text/plain": [
              "<Figure size 576x576 with 1 Axes>"
            ]
          },
          "metadata": {
            "tags": [],
            "needs_background": "light"
          }
        }
      ]
    },
    {
      "cell_type": "code",
      "metadata": {
        "id": "dQSz0b-RDUFZ",
        "colab": {
          "base_uri": "https://localhost:8080/",
          "height": 265
        },
        "outputId": "bd686e4c-8369-4fc9-c209-72c2ea38431c"
      },
      "source": [
        "# тут мы создаем массив numpy встроенной функцией\n",
        "# используем функцию из numpy, которая создает массив \n",
        "# из 100 точек в диапазоне от 0 до 4 Pi с константным шагом\n",
        "x = np.linspace(0, 4 * np.pi, 100)\n",
        "\n",
        "plt.figure()\n",
        "plt.plot(x, np.sin(x))\n",
        "plt.show()"
      ],
      "execution_count": null,
      "outputs": [
        {
          "output_type": "display_data",
          "data": {
            "image/png": "[encoded data removed]",
            "text/plain": [
              "<Figure size 432x288 with 1 Axes>"
            ]
          },
          "metadata": {
            "tags": [],
            "needs_background": "light"
          }
        }
      ]
    },
    {
      "cell_type": "markdown",
      "metadata": {
        "id": "zDFbZ_5uDXGq"
      },
      "source": [
        "Массив $x$ не обязан быть монотонно возрастающим. Можно строить любую параметрическую кривую $x=x(t)$, $y=y(t)$."
      ]
    },
    {
      "cell_type": "code",
      "metadata": {
        "id": "1VdLpbOhDYWu",
        "colab": {
          "base_uri": "https://localhost:8080/",
          "height": 265
        },
        "outputId": "f50cdc17-9957-4d40-fa17-a1ff9744966d"
      },
      "source": [
        "t = np.linspace(0, 2 * np.pi, 100)\n",
        "\n",
        "plt.figure()\n",
        "\n",
        "# поэлементно применяем функции к сгенерированному массиву данных\n",
        "plt.plot(np.cos(t), np.sin(t))\n",
        "plt.axes().set_aspect(1)\n",
        "plt.show()"
      ],
      "execution_count": null,
      "outputs": [
        {
          "output_type": "display_data",
          "data": {
            "image/png": "[encoded data removed]",
            "text/plain": [
              "<Figure size 432x288 with 1 Axes>"
            ]
          },
          "metadata": {
            "tags": [],
            "needs_background": "light"
          }
        }
      ]
    },
    {
      "cell_type": "markdown",
      "metadata": {
        "id": "nqgzqvSxDaeZ"
      },
      "source": [
        "Чтобы окружности выглядели как окружности, а не как эллипсы, (а квадраты как квадраты, а не как прямоугольники), нужно установить aspect ratio, равный 1."
      ]
    },
    {
      "cell_type": "markdown",
      "metadata": {
        "id": "pu82mqwJDuxa"
      },
      "source": [
        "Для простой регулировки цветов и типов линий после пары $x$ и $y$ координат вставляется форматная строка. Первая буква определяет цвет (`'r'` - красный, `'b'` - синий и т.д.), дальше задаётся тип линии (`'-'` - сплошная, `'--'` - пунктирная, `'-.'` - штрих-пунктирная и т.д.)."
      ]
    },
    {
      "cell_type": "code",
      "metadata": {
        "id": "esbTVkvPDv70",
        "colab": {
          "base_uri": "https://localhost:8080/",
          "height": 265
        },
        "outputId": "99bf3b28-9654-4334-c3b8-c0dbf805c543"
      },
      "source": [
        "x = np.linspace(0, 4 * np.pi, 100)\n",
        "\n",
        "plt.figure()\n",
        "plt.grid(color='g', linestyle=':', linewidth=0.5)\n",
        "plt.plot(x, np.sin(x), color='red', linestyle='--')#,'r--')\n",
        "plt.plot(x, np.cos(x), 'b--', alpha=0.5)\n",
        "plt.show()"
      ],
      "execution_count": null,
      "outputs": [
        {
          "output_type": "display_data",
          "data": {
            "image/png": "[encoded data removed]",
            "text/plain": [
              "<Figure size 432x288 with 1 Axes>"
            ]
          },
          "metadata": {
            "tags": [],
            "needs_background": "light"
          }
        }
      ]
    },
    {
      "cell_type": "markdown",
      "metadata": {
        "id": "XXJX9hI-DxYF"
      },
      "source": [
        "Если в качестве \"типа линии\" указано `'o'`, то это означает рисовать точки кружочками и не соединять их линиями; аналогично, `'s'` означает квадратики. Конечно, такие графики имеют смысл только тогда, когда точек не очень много."
      ]
    },
    {
      "cell_type": "code",
      "metadata": {
        "id": "w95cFUysDyZ_",
        "colab": {
          "base_uri": "https://localhost:8080/",
          "height": 265
        },
        "outputId": "78158114-369a-4d82-cef9-70a23f43d22c"
      },
      "source": [
        "x = np.linspace(0, 1, 11)\n",
        "\n",
        "plt.figure()\n",
        "plt.plot(x, x ** 2, 'ro')\n",
        "plt.plot(x, 1 - x, 'gs')\n",
        "plt.show()"
      ],
      "execution_count": null,
      "outputs": [
        {
          "output_type": "display_data",
          "data": {
            "image/png": "[encoded data removed]",
            "text/plain": [
              "<Figure size 432x288 with 1 Axes>"
            ]
          },
          "metadata": {
            "tags": [],
            "needs_background": "light"
          }
        }
      ]
    },
    {
      "cell_type": "markdown",
      "metadata": {
        "id": "GbQZfSmozyfR"
      },
      "source": [
        "### Задание"
      ]
    },
    {
      "cell_type": "markdown",
      "metadata": {
        "id": "fjCHnl5kz3Kb"
      },
      "source": [
        "Рассмотрим пример, связанный с хаотической динамикой в нелинейных системах.\n",
        "\n",
        "Простое правило, которое может генерировать беспорядочные временные траектории, - это логистическая карта.\n",
        "\n",
        "$$\n",
        "x_{t+1}=r x_{t}\\left(1-x_{t}\\right), \\quad x_{0} \\in[0,1], \\quad r \\in[0,4]\n",
        "$$\n",
        "\n",
        "Напишем класс для генерации временных рядов из этой модели."
      ]
    },
    {
      "cell_type": "code",
      "metadata": {
        "id": "mUL1Ig0Bz8y6"
      },
      "source": [
        "class Chaos:\n",
        "  \"\"\"\n",
        "  Моделирует динамическую систему :`x_{t+1} = r x_t (1 - x_t)`\n",
        "  \"\"\"\n",
        "  def __init__(self, x0, r):\n",
        "      \"\"\"\n",
        "      Инициализируем x0 и r\n",
        "      \"\"\"\n",
        "      self.x, self.r = x0, r\n",
        "\n",
        "  def update(self):\n",
        "      \"Обновим состояние\"\n",
        "      self.x =  self.r * self.x *(1 - self.x)\n",
        "\n",
        "  def generate_sequence(self, n):\n",
        "      \"Сгенерируем и вернем последовательность длинной n.\"\n",
        "      path = []\n",
        "      for i in range(n):\n",
        "          path.append(self.x)\n",
        "          self.update()\n",
        "      return path"
      ],
      "execution_count": null,
      "outputs": []
    },
    {
      "cell_type": "code",
      "metadata": {
        "colab": {
          "base_uri": "https://localhost:8080/"
        },
        "id": "RJOOD2N_z-N9",
        "outputId": "313407ec-80cf-4a04-9696-f22a1296f3b4"
      },
      "source": [
        "ch = Chaos(0.1, 4.0)     # x0 = 0.1 and r = 0.4\n",
        "ch.generate_sequence(5)  # First 5 iterates"
      ],
      "execution_count": null,
      "outputs": [
        {
          "output_type": "execute_result",
          "data": {
            "text/plain": [
              "[0.1, 0.36000000000000004, 0.9216, 0.28901376000000006, 0.8219392261226498]"
            ]
          },
          "metadata": {
            "tags": []
          },
          "execution_count": 112
        }
      ]
    },
    {
      "cell_type": "code",
      "metadata": {
        "colab": {
          "base_uri": "https://localhost:8080/",
          "height": 265
        },
        "id": "MgqMsHTOz9yS",
        "outputId": "718e5681-f68b-452f-ec6e-190a6c46c24d"
      },
      "source": [
        "ch = Chaos(0.1, 4.0)\n",
        "ts_length = 250\n",
        "x = ch.generate_sequence(ts_length)\n",
        "\n",
        "plt.plot(range(ts_length), x, 'bo-', alpha=0.5, lw=2, label='$x_t$')\n",
        "plt.show()"
      ],
      "execution_count": null,
      "outputs": [
        {
          "output_type": "display_data",
          "data": {
            "image/png": "[encoded data removed]",
            "text/plain": [
              "<Figure size 432x288 with 1 Axes>"
            ]
          },
          "metadata": {
            "tags": [],
            "needs_background": "light"
          }
        }
      ]
    },
    {
      "cell_type": "markdown",
      "metadata": {
        "id": "XCFOEW0o02Ts"
      },
      "source": [
        "Сделаем график бОльшего размера"
      ]
    },
    {
      "cell_type": "code",
      "metadata": {
        "colab": {
          "base_uri": "https://localhost:8080/",
          "height": 320
        },
        "id": "hjymwLXLz9Xt",
        "outputId": "ed5d7114-fd42-46dc-b545-c199e000c6d4"
      },
      "source": [
        "plt.figure(figsize=(10,5))\n",
        "plt.plot(range(ts_length), x, 'bo-', alpha=0.5, lw=2, label='$x_t$')\n",
        "plt.show()"
      ],
      "execution_count": null,
      "outputs": [
        {
          "output_type": "display_data",
          "data": {
            "image/png": "[encoded data removed]",
            "text/plain": [
              "<Figure size 720x360 with 1 Axes>"
            ]
          },
          "metadata": {
            "tags": [],
            "needs_background": "light"
          }
        }
      ]
    },
    {
      "cell_type": "markdown",
      "metadata": {
        "id": "QDzdvuzbXf-6"
      },
      "source": [
        "Давайте рассмотрим примеры других типов графиков:"
      ]
    },
    {
      "cell_type": "markdown",
      "metadata": {
        "id": "tHQ4YJElYVlj"
      },
      "source": [
        "### Диаграмма разброса (scatter plot)"
      ]
    },
    {
      "cell_type": "code",
      "metadata": {
        "id": "vha6M48m1fB1"
      },
      "source": [
        "x = np.linspace(0, 10, 30)\n",
        "y = np.sin(x)"
      ],
      "execution_count": null,
      "outputs": []
    },
    {
      "cell_type": "markdown",
      "metadata": {
        "id": "jTgDqhNI1mcS"
      },
      "source": [
        "Построим при помощи уже известного нам plot()"
      ]
    },
    {
      "cell_type": "code",
      "metadata": {
        "colab": {
          "base_uri": "https://localhost:8080/",
          "height": 265
        },
        "id": "g8r49x3-1g-s",
        "outputId": "17b57f87-c734-4d3f-fc83-748db08b0023"
      },
      "source": [
        "plt.plot(x, y, 'o', color='black')\n",
        "plt.show()"
      ],
      "execution_count": null,
      "outputs": [
        {
          "output_type": "display_data",
          "data": {
            "image/png": "[encoded data removed]",
            "text/plain": [
              "<Figure size 432x288 with 1 Axes>"
            ]
          },
          "metadata": {
            "tags": [],
            "needs_background": "light"
          }
        }
      ]
    },
    {
      "cell_type": "markdown",
      "metadata": {
        "id": "9Bmn6xd81tJ2"
      },
      "source": [
        "А теперь используем scatter()"
      ]
    },
    {
      "cell_type": "code",
      "metadata": {
        "colab": {
          "base_uri": "https://localhost:8080/",
          "height": 282
        },
        "id": "0Ivp9cb21w8u",
        "outputId": "5beacb6a-0a91-467f-e5b9-0057d5af802d"
      },
      "source": [
        "plt.scatter(x, y, marker='o', color='black')"
      ],
      "execution_count": null,
      "outputs": [
        {
          "output_type": "execute_result",
          "data": {
            "text/plain": [
              "<matplotlib.collections.PathCollection at 0x7f2c22f6c3c8>"
            ]
          },
          "metadata": {
            "tags": []
          },
          "execution_count": 117
        },
        {
          "output_type": "display_data",
          "data": {
            "image/png": "[encoded data removed]",
            "text/plain": [
              "<Figure size 432x288 with 1 Axes>"
            ]
          },
          "metadata": {
            "tags": [],
            "needs_background": "light"
          }
        }
      ]
    },
    {
      "cell_type": "code",
      "metadata": {
        "id": "_RsEccd-Xe88",
        "colab": {
          "base_uri": "https://localhost:8080/",
          "height": 265
        },
        "outputId": "905b0da1-cf9d-4efd-adfc-34b97cc31e9d"
      },
      "source": [
        "import numpy as np\n",
        "import matplotlib.pyplot as plt\n",
        "\n",
        "# создадим 50 точек из нормального распределния\n",
        "N = 50\n",
        "# координаты х, у\n",
        "random_state = np.random.RandomState(seed=123456)\n",
        "x = random_state.rand(N)\n",
        "y = random_state.rand(N)\n",
        "# и их радиус\n",
        "area = (30 * random_state.rand(N))**2  # 0 to 15 point radii\n",
        "# отобразим\n",
        "plt.scatter(x, y, s=area, alpha=0.5)\n",
        "plt.show()"
      ],
      "execution_count": null,
      "outputs": [
        {
          "output_type": "display_data",
          "data": {
            "image/png": "[encoded data removed]",
            "text/plain": [
              "<Figure size 432x288 with 1 Axes>"
            ]
          },
          "metadata": {
            "tags": [],
            "needs_background": "light"
          }
        }
      ]
    },
    {
      "cell_type": "code",
      "metadata": {
        "colab": {
          "base_uri": "https://localhost:8080/",
          "height": 265
        },
        "id": "fYOOuWYb16TN",
        "outputId": "709bf9de-f612-419f-8e06-f87b3113f5f3"
      },
      "source": [
        "import numpy as np\n",
        "import matplotlib.pyplot as plt\n",
        "\n",
        "# создадим 50 точек из нормального распределния\n",
        "N = 50\n",
        "# координаты х, у\n",
        "random_state = np.random.RandomState(seed=123456)\n",
        "x = random_state.rand(N)\n",
        "y = random_state.rand(N)\n",
        "colors = random_state.rand(N)\n",
        "# и их радиус\n",
        "area = (30 * random_state.rand(N))**2  # 0 to 15 point radii\n",
        "# отобразим\n",
        "plt.scatter(x, y, s=area, c = colors, alpha=0.5, cmap='viridis')\n",
        "plt.show()"
      ],
      "execution_count": null,
      "outputs": [
        {
          "output_type": "display_data",
          "data": {
            "image/png": "[encoded data removed]",
            "text/plain": [
              "<Figure size 432x288 with 1 Axes>"
            ]
          },
          "metadata": {
            "tags": [],
            "needs_background": "light"
          }
        }
      ]
    },
    {
      "cell_type": "markdown",
      "metadata": {
        "id": "HhGisq8NYdGz"
      },
      "source": [
        "### Столбчатые диаграммы (bar chart)"
      ]
    },
    {
      "cell_type": "code",
      "metadata": {
        "id": "8Yxc4ZpuYgVx",
        "colab": {
          "base_uri": "https://localhost:8080/",
          "height": 281
        },
        "outputId": "73cbc9b6-cb26-41dd-ec68-1727bb4bbcfc"
      },
      "source": [
        "# задаем подписи отображаемых объектов\n",
        "objects = ('Python', 'JavaScript', 'Java')\n",
        "# задаем значения позиций подписей (по х)\n",
        "y_pos = np.arange(len(objects))\n",
        "# задаем значения (по y)\n",
        "popularity = [10., 9.5, 9]\n",
        "# создаем столбчатую диаграмму с вышеобозначенными значениями\n",
        "plt.bar(y_pos, popularity)\n",
        "# задаем подписи по оси х\n",
        "plt.xticks(y_pos, objects)\n",
        "# задаем название по y\n",
        "plt.ylabel('Частота использования на github')\n",
        "# задаем название всего графика\n",
        "plt.title('Популярность языков')\n",
        "\n",
        "plt.show()"
      ],
      "execution_count": null,
      "outputs": [
        {
          "output_type": "display_data",
          "data": {
            "image/png": "[encoded data removed]",
            "text/plain": [
              "<Figure size 432x288 with 1 Axes>"
            ]
          },
          "metadata": {
            "tags": [],
            "needs_background": "light"
          }
        }
      ]
    },
    {
      "cell_type": "markdown",
      "metadata": {
        "id": "dxkxL108Ymp1"
      },
      "source": [
        "### Гистограммы (histogram)"
      ]
    },
    {
      "cell_type": "code",
      "metadata": {
        "id": "r9jNkdQnYmvf",
        "colab": {
          "base_uri": "https://localhost:8080/"
        },
        "outputId": "e3dc1c45-fbb3-4df6-a643-55255fec7c66"
      },
      "source": [
        "# среднее распределения\n",
        "mu = 42 \n",
        "# среднекадратичное отклонение\n",
        "sigma = 3.14 \n",
        "# значения, сгенерированные из нормального распределения\n",
        "x = mu + sigma * np.random.randn(10000)\n",
        "# отобразим несколько элементов\n",
        "print(x)"
      ],
      "execution_count": null,
      "outputs": [
        {
          "output_type": "stream",
          "text": [
            "[42.34145567 40.18402818 46.55158117 ... 44.86758483 42.46426478\n",
            " 42.83045554]\n"
          ],
          "name": "stdout"
        }
      ]
    },
    {
      "cell_type": "code",
      "metadata": {
        "id": "ax7BwcSCcs-W",
        "colab": {
          "base_uri": "https://localhost:8080/",
          "height": 554
        },
        "outputId": "2e24d62e-2926-4ed7-d981-bd604e4e676e"
      },
      "source": [
        "num_bins = 50\n",
        "# Гистограмма переменной показывает распределение частоты этой переменной\n",
        "# (высота столбца - сколько элеметов попало в диапазон этого столбца)\n",
        "# В этом случае мы указали num_bins - количество столбцов заранее\n",
        "plt.hist(x, num_bins)"
      ],
      "execution_count": null,
      "outputs": [
        {
          "output_type": "execute_result",
          "data": {
            "text/plain": [
              "(array([  3.,   0.,   1.,   1.,   3.,   9.,   8.,   7.,  21.,  28.,  49.,\n",
              "         61.,  69., 102., 135., 204., 220., 284., 313., 354., 450., 482.,\n",
              "        504., 538., 629., 584., 586., 551., 543., 548., 511., 418., 332.,\n",
              "        339., 245., 224., 158., 153.,  95.,  66.,  50.,  40.,  33.,  12.,\n",
              "         10.,  13.,   7.,   4.,   1.,   2.]),\n",
              " array([29.86940657, 30.33948321, 30.80955986, 31.27963651, 31.74971315,\n",
              "        32.2197898 , 32.68986644, 33.15994309, 33.63001973, 34.10009638,\n",
              "        34.57017303, 35.04024967, 35.51032632, 35.98040296, 36.45047961,\n",
              "        36.92055625, 37.3906329 , 37.86070955, 38.33078619, 38.80086284,\n",
              "        39.27093948, 39.74101613, 40.21109277, 40.68116942, 41.15124607,\n",
              "        41.62132271, 42.09139936, 42.561476  , 43.03155265, 43.50162929,\n",
              "        43.97170594, 44.44178259, 44.91185923, 45.38193588, 45.85201252,\n",
              "        46.32208917, 46.79216581, 47.26224246, 47.7323191 , 48.20239575,\n",
              "        48.6724724 , 49.14254904, 49.61262569, 50.08270233, 50.55277898,\n",
              "        51.02285562, 51.49293227, 51.96300892, 52.43308556, 52.90316221,\n",
              "        53.37323885]),\n",
              " <a list of 50 Patch objects>)"
            ]
          },
          "metadata": {
            "tags": []
          },
          "execution_count": 122
        },
        {
          "output_type": "display_data",
          "data": {
            "image/png": "[encoded data removed]",
            "text/plain": [
              "<Figure size 432x288 with 1 Axes>"
            ]
          },
          "metadata": {
            "tags": [],
            "needs_background": "light"
          }
        }
      ]
    },
    {
      "cell_type": "code",
      "metadata": {
        "id": "qHIwxXZtdgXa",
        "colab": {
          "base_uri": "https://localhost:8080/",
          "height": 367
        },
        "outputId": "3c6688f0-909c-4fe7-e5db-49fab2a11549"
      },
      "source": [
        "# а можем оставить это на усмотрение алгоритма\n",
        "plt.hist(x)"
      ],
      "execution_count": null,
      "outputs": [
        {
          "output_type": "execute_result",
          "data": {
            "text/plain": [
              "(array([   8.,   73.,  416., 1375., 2603., 2812., 1845.,  696.,  145.,\n",
              "          27.]),\n",
              " array([29.86940657, 32.2197898 , 34.57017303, 36.92055625, 39.27093948,\n",
              "        41.62132271, 43.97170594, 46.32208917, 48.6724724 , 51.02285562,\n",
              "        53.37323885]),\n",
              " <a list of 10 Patch objects>)"
            ]
          },
          "metadata": {
            "tags": []
          },
          "execution_count": 123
        },
        {
          "output_type": "display_data",
          "data": {
            "image/png": "[encoded data removed]",
            "text/plain": [
              "<Figure size 432x288 with 1 Axes>"
            ]
          },
          "metadata": {
            "tags": [],
            "needs_background": "light"
          }
        }
      ]
    },
    {
      "cell_type": "markdown",
      "metadata": {
        "id": "tQbH0u3qYghQ"
      },
      "source": [
        "### Круговые диаграммы (pie chart)"
      ]
    },
    {
      "cell_type": "code",
      "metadata": {
        "id": "MWqf2KTqYgsZ",
        "colab": {
          "base_uri": "https://localhost:8080/",
          "height": 591
        },
        "outputId": "70d6d09b-cbb7-41a5-85b0-87b4af88f757"
      },
      "source": [
        "\n",
        "# определяем названия браузеров\n",
        "labels = 'Chrome', 'Safari', 'Samsung internet', 'UC Browser', 'Остальные'\n",
        "# определяем значения для соответсвующих подписей\n",
        "sizes = [64, 19, 6, 5, 6]\n",
        "# определяем насколько мы ходим выделить каждый\n",
        "explode = (0.1, 0, 0, 0, 0)\n",
        "# создаем объект подграфика и ось с данными и подписями\n",
        "fig1, ax1 = plt.subplots(figsize=(10, 10))\n",
        "# функции имеют много различных настроек, к примеру тени\n",
        "ax1.pie(sizes, explode=explode, labels=labels, shadow=True)\n",
        "# задаем название всего графика\n",
        "plt.title('Популярность браузеров в 2019')\n",
        "# отображаем\n",
        "plt.show()"
      ],
      "execution_count": null,
      "outputs": [
        {
          "output_type": "display_data",
          "data": {
            "image/png": "[encoded data removed]",
            "text/plain": [
              "<Figure size 720x720 with 1 Axes>"
            ]
          },
          "metadata": {
            "tags": []
          }
        }
      ]
    },
    {
      "cell_type": "markdown",
      "metadata": {
        "id": "AUEGKjgpD6hc"
      },
      "source": [
        "# Обработка числовых массивов даных"
      ]
    },
    {
      "cell_type": "markdown",
      "metadata": {
        "id": "9KE-N3ZCFZ_f"
      },
      "source": [
        "## Основы numpy"
      ]
    },
    {
      "cell_type": "code",
      "metadata": {
        "id": "SRFLXDcVBOBm"
      },
      "source": [
        "# импортируем саму библиотеку\n",
        "import numpy as np"
      ],
      "execution_count": null,
      "outputs": []
    },
    {
      "cell_type": "markdown",
      "metadata": {
        "id": "mIJ5jaIJGmgh"
      },
      "source": [
        "### Массивы\n",
        "\n",
        "Главный объект numpy - array. Массивы схожи со списками в python, но элементы массива должны иметь одинаковый тип данных (float и int). С массивами можно проводить числовые операции с большим объемом информации в разы быстрее и, главное, намного эффективнее чем со списками."
      ]
    },
    {
      "cell_type": "code",
      "metadata": {
        "id": "j5iz_57WFv0Q",
        "colab": {
          "base_uri": "https://localhost:8080/"
        },
        "outputId": "6014609b-41f1-4f6a-c39b-c481b7073fda"
      },
      "source": [
        "a = np.array([1, 2, 3])\n",
        "print(a, '|', type(a))"
      ],
      "execution_count": null,
      "outputs": [
        {
          "output_type": "stream",
          "text": [
            "[1 2 3] | <class 'numpy.ndarray'>\n"
          ],
          "name": "stdout"
        }
      ]
    },
    {
      "cell_type": "markdown",
      "metadata": {
        "id": "JGC-tBgsHjWw"
      },
      "source": [
        "Со всеми элементам можно получить доступ и манипулировать ими также, как вы бы это делали с обычными списками:"
      ]
    },
    {
      "cell_type": "markdown",
      "metadata": {
        "id": "G6i_WCAPQ04r"
      },
      "source": [
        "### Слайсинг "
      ]
    },
    {
      "cell_type": "code",
      "metadata": {
        "id": "lgqkCzJcGgrT",
        "colab": {
          "base_uri": "https://localhost:8080/"
        },
        "outputId": "ddaa61cb-1ac5-44bf-e70e-e9de20adcc71"
      },
      "source": [
        "a[:2]"
      ],
      "execution_count": null,
      "outputs": [
        {
          "output_type": "execute_result",
          "data": {
            "text/plain": [
              "array([1, 2])"
            ]
          },
          "metadata": {
            "tags": []
          },
          "execution_count": 127
        }
      ]
    },
    {
      "cell_type": "code",
      "metadata": {
        "id": "FwDb4esyIehG",
        "colab": {
          "base_uri": "https://localhost:8080/"
        },
        "outputId": "3e982810-9c59-404a-983b-f265eae4374b"
      },
      "source": [
        "a[::2]"
      ],
      "execution_count": null,
      "outputs": [
        {
          "output_type": "execute_result",
          "data": {
            "text/plain": [
              "array([1, 3])"
            ]
          },
          "metadata": {
            "tags": []
          },
          "execution_count": 128
        }
      ]
    },
    {
      "cell_type": "markdown",
      "metadata": {
        "id": "rGp_huBUJMA-"
      },
      "source": [
        "Массивы могут быть и многомерными:"
      ]
    },
    {
      "cell_type": "code",
      "metadata": {
        "id": "-y9ccrqgI5SB",
        "colab": {
          "base_uri": "https://localhost:8080/"
        },
        "outputId": "671253b9-d543-4955-d8bb-96531cab6c75"
      },
      "source": [
        "a = np.array([[1, 2, 3], [4, 5, 6]], dtype=float)\n",
        "print(a, '|', type(a))"
      ],
      "execution_count": null,
      "outputs": [
        {
          "output_type": "stream",
          "text": [
            "[[1. 2. 3.]\n",
            " [4. 5. 6.]] | <class 'numpy.ndarray'>\n"
          ],
          "name": "stdout"
        }
      ]
    },
    {
      "cell_type": "code",
      "metadata": {
        "id": "2_xs0G87JGXZ",
        "colab": {
          "base_uri": "https://localhost:8080/"
        },
        "outputId": "c664dc25-0a59-427d-90ab-2156b326c35f"
      },
      "source": [
        "a[1,2]"
      ],
      "execution_count": null,
      "outputs": [
        {
          "output_type": "execute_result",
          "data": {
            "text/plain": [
              "6.0"
            ]
          },
          "metadata": {
            "tags": []
          },
          "execution_count": 130
        }
      ]
    },
    {
      "cell_type": "markdown",
      "metadata": {
        "id": "6u5ulqzCJnOA"
      },
      "source": [
        "Array slicing работает с многомерными массивами аналогично, как и с одномерными, применяя каждый срез, как фильтр для установленного измерения. Используйте \":\" в измерении для указывания использования всех элементов этого измерения:"
      ]
    },
    {
      "cell_type": "code",
      "metadata": {
        "id": "emqvgdlPJfvy",
        "colab": {
          "base_uri": "https://localhost:8080/"
        },
        "outputId": "1c000742-3e0d-4256-9b54-e468e6e58fee"
      },
      "source": [
        "a = np.array([[1, 2, 3], [4, 5, 6]], float)\n",
        "# выбрали элементы с шагом 2 второй строки массива\n",
        "a[1,::2]"
      ],
      "execution_count": null,
      "outputs": [
        {
          "output_type": "execute_result",
          "data": {
            "text/plain": [
              "array([4., 6.])"
            ]
          },
          "metadata": {
            "tags": []
          },
          "execution_count": 131
        }
      ]
    },
    {
      "cell_type": "code",
      "metadata": {
        "id": "29LIXZdBxyVy",
        "colab": {
          "base_uri": "https://localhost:8080/"
        },
        "outputId": "7f080551-1d88-4817-be97-1a12237d6574"
      },
      "source": [
        "%%time\n",
        "x = [[i + j for j in range(1000)] for i in range(1000)]\n",
        "squares = [[(i + j)**2 for j in range(1000)] for i in range(1000)];\n"
      ],
      "execution_count": null,
      "outputs": [
        {
          "output_type": "stream",
          "text": [
            "CPU times: user 371 ms, sys: 48.9 ms, total: 420 ms\n",
            "Wall time: 421 ms\n"
          ],
          "name": "stdout"
        }
      ]
    },
    {
      "cell_type": "code",
      "metadata": {
        "id": "opXGG8oKyI-l",
        "colab": {
          "base_uri": "https://localhost:8080/"
        },
        "outputId": "1a68a1dc-55c2-4fa0-dbef-1d1f652a2c50"
      },
      "source": [
        "%%time\n",
        "np_squares = np.arange(1000000).reshape((1000, 1000))**2"
      ],
      "execution_count": null,
      "outputs": [
        {
          "output_type": "stream",
          "text": [
            "CPU times: user 5.86 ms, sys: 8.05 ms, total: 13.9 ms\n",
            "Wall time: 22.9 ms\n"
          ],
          "name": "stdout"
        }
      ]
    },
    {
      "cell_type": "markdown",
      "metadata": {
        "id": "IVZnUM_mRICm"
      },
      "source": [
        "### Методы"
      ]
    },
    {
      "cell_type": "markdown",
      "metadata": {
        "id": "pTH2acWQKL-z"
      },
      "source": [
        "Метод shape возвращает количество строк и столбцов в матрице:"
      ]
    },
    {
      "cell_type": "code",
      "metadata": {
        "id": "ucg9Cu_oJr1C",
        "colab": {
          "base_uri": "https://localhost:8080/"
        },
        "outputId": "4a43c4f4-68bd-4334-981a-82eadc60b5c3"
      },
      "source": [
        "a.shape"
      ],
      "execution_count": null,
      "outputs": [
        {
          "output_type": "execute_result",
          "data": {
            "text/plain": [
              "(2, 3)"
            ]
          },
          "metadata": {
            "tags": []
          },
          "execution_count": 134
        }
      ]
    },
    {
      "cell_type": "markdown",
      "metadata": {
        "id": "OYLtCerbKV6-"
      },
      "source": [
        "float64, это числовой тип данных в numpy, который используется для хранения вещественных чисел двойной точности по аналогии с float в Python.\n",
        "\n",
        "Метод dtype возвращает тип переменных, хранящихся в массиве:"
      ]
    },
    {
      "cell_type": "code",
      "metadata": {
        "id": "QwIOEoR0KMWB",
        "colab": {
          "base_uri": "https://localhost:8080/"
        },
        "outputId": "8c8a6ea6-075f-435b-b011-60ca0a93916c"
      },
      "source": [
        "a.dtype"
      ],
      "execution_count": null,
      "outputs": [
        {
          "output_type": "execute_result",
          "data": {
            "text/plain": [
              "dtype('float64')"
            ]
          },
          "metadata": {
            "tags": []
          },
          "execution_count": 135
        }
      ]
    },
    {
      "cell_type": "markdown",
      "metadata": {
        "id": "PpAFKnfhLVGe"
      },
      "source": [
        "Метод len возвращает длину первого измерения (оси):"
      ]
    },
    {
      "cell_type": "code",
      "metadata": {
        "id": "U2c3WjumKXYx",
        "colab": {
          "base_uri": "https://localhost:8080/"
        },
        "outputId": "55a4d163-2287-4006-ba55-f8f24ed4ccc0"
      },
      "source": [
        "len(a)"
      ],
      "execution_count": null,
      "outputs": [
        {
          "output_type": "execute_result",
          "data": {
            "text/plain": [
              "2"
            ]
          },
          "metadata": {
            "tags": []
          },
          "execution_count": 136
        }
      ]
    },
    {
      "cell_type": "markdown",
      "metadata": {
        "id": "ncIU5L75LY6k"
      },
      "source": [
        "По аналогии с list можно проверять вхождение элемента"
      ]
    },
    {
      "cell_type": "code",
      "metadata": {
        "id": "jAyom_YvLWvh",
        "colab": {
          "base_uri": "https://localhost:8080/"
        },
        "outputId": "45e33d8d-df16-41bc-9bf0-73661d8e9b97"
      },
      "source": [
        "6 in a"
      ],
      "execution_count": null,
      "outputs": [
        {
          "output_type": "execute_result",
          "data": {
            "text/plain": [
              "True"
            ]
          },
          "metadata": {
            "tags": []
          },
          "execution_count": 137
        }
      ]
    },
    {
      "cell_type": "code",
      "metadata": {
        "id": "kGnpvnBQ0QzG",
        "colab": {
          "base_uri": "https://localhost:8080/"
        },
        "outputId": "7ff727b2-3e5d-476b-e591-c50085e357e9"
      },
      "source": [
        "a"
      ],
      "execution_count": null,
      "outputs": [
        {
          "output_type": "execute_result",
          "data": {
            "text/plain": [
              "array([[1., 2., 3.],\n",
              "       [4., 5., 6.]])"
            ]
          },
          "metadata": {
            "tags": []
          },
          "execution_count": 138
        }
      ]
    },
    {
      "cell_type": "markdown",
      "metadata": {
        "id": "Gh87hmz_RRhM"
      },
      "source": [
        "### Reshape"
      ]
    },
    {
      "cell_type": "markdown",
      "metadata": {
        "id": "PfQEPC6KL0eJ"
      },
      "source": [
        "Массивы можно переформировать при помощи метода, который задает новый многомерный массив. Следуя следующему примеру, мы переформатируем одномерный массив из 12 элементов в двумерный массив, состоящий из 4 строк и 3 столбцов:\n",
        "\n",
        "(метод reshape создает новый массив, а не модифицирует оригинальный)"
      ]
    },
    {
      "cell_type": "code",
      "metadata": {
        "id": "_hkGh1flLsX5",
        "colab": {
          "base_uri": "https://localhost:8080/"
        },
        "outputId": "ed078368-6324-41a3-b761-ccd9edcd8c07"
      },
      "source": [
        "a = np.array(range(12), float)\n",
        "a"
      ],
      "execution_count": null,
      "outputs": [
        {
          "output_type": "execute_result",
          "data": {
            "text/plain": [
              "array([ 0.,  1.,  2.,  3.,  4.,  5.,  6.,  7.,  8.,  9., 10., 11.])"
            ]
          },
          "metadata": {
            "tags": []
          },
          "execution_count": 139
        }
      ]
    },
    {
      "cell_type": "code",
      "metadata": {
        "id": "zzHK7fHFL1Zp",
        "colab": {
          "base_uri": "https://localhost:8080/"
        },
        "outputId": "fa4eaf4d-084a-4f32-e060-59c53bc73ae0"
      },
      "source": [
        "a = a.reshape((4, 3))\n",
        "a"
      ],
      "execution_count": null,
      "outputs": [
        {
          "output_type": "execute_result",
          "data": {
            "text/plain": [
              "array([[ 0.,  1.,  2.],\n",
              "       [ 3.,  4.,  5.],\n",
              "       [ 6.,  7.,  8.],\n",
              "       [ 9., 10., 11.]])"
            ]
          },
          "metadata": {
            "tags": []
          },
          "execution_count": 140
        }
      ]
    },
    {
      "cell_type": "markdown",
      "metadata": {
        "id": "NVUxkqH_RYiv"
      },
      "source": [
        "### Работа по ссылке"
      ]
    },
    {
      "cell_type": "markdown",
      "metadata": {
        "id": "BYnvAYIwMxX7"
      },
      "source": [
        "Работа по ссылке как и в python:"
      ]
    },
    {
      "cell_type": "code",
      "metadata": {
        "id": "2fRtkuANL8xp",
        "colab": {
          "base_uri": "https://localhost:8080/"
        },
        "outputId": "1e092e6c-6f4c-46dc-80f2-fb214271d791"
      },
      "source": [
        "a = np.array([1, 2, 3])\n",
        "b = a\n",
        "c = a.copy()\n",
        "\n",
        "# меняем 0й элемент\n",
        "a[0] = 0\n",
        "\n",
        "print(f'Измененный массив а {a}')\n",
        "print(f'Измененный массив b {b}  <-- изменился по ссылке т.к. поменяти 0й элемент а')\n",
        "print(f'Измененный массив c {c}  <-- создали копию в памяти')"
      ],
      "execution_count": null,
      "outputs": [
        {
          "output_type": "stream",
          "text": [
            "Измененный массив а [0 2 3]\n",
            "Измененный массив b [0 2 3]  <-- изменился по ссылке т.к. поменяти 0й элемент а\n",
            "Измененный массив c [1 2 3]  <-- создали копию в памяти\n"
          ],
          "name": "stdout"
        }
      ]
    },
    {
      "cell_type": "markdown",
      "metadata": {
        "id": "4SlsERlpNzZ_"
      },
      "source": [
        "Можно преобразовать обратно в список:"
      ]
    },
    {
      "cell_type": "code",
      "metadata": {
        "id": "qyONlgzfM6-B",
        "colab": {
          "base_uri": "https://localhost:8080/"
        },
        "outputId": "f04268a4-a846-4abc-99d3-10e593d53d80"
      },
      "source": [
        "a.tolist()"
      ],
      "execution_count": null,
      "outputs": [
        {
          "output_type": "execute_result",
          "data": {
            "text/plain": [
              "[0, 2, 3]"
            ]
          },
          "metadata": {
            "tags": []
          },
          "execution_count": 142
        }
      ]
    },
    {
      "cell_type": "markdown",
      "metadata": {
        "id": "L86CDWkyPJ1K"
      },
      "source": [
        "Можно сделать и обратное: конвертируем в одномерный"
      ]
    },
    {
      "cell_type": "code",
      "metadata": {
        "id": "ySrv0JEhOpCC",
        "colab": {
          "base_uri": "https://localhost:8080/"
        },
        "outputId": "682d334d-07d7-4d66-b8f5-f82e83f2c190"
      },
      "source": [
        "np.random.randn(3, 4).flatten()"
      ],
      "execution_count": null,
      "outputs": [
        {
          "output_type": "execute_result",
          "data": {
            "text/plain": [
              "array([-0.07089782, -2.22099761, -0.25554165,  1.12986232,  0.20912438,\n",
              "       -0.03805664,  0.75826073, -0.41217754, -0.34674932, -0.39320083,\n",
              "        0.55063611, -0.23665663])"
            ]
          },
          "metadata": {
            "tags": []
          },
          "execution_count": 143
        }
      ]
    },
    {
      "cell_type": "markdown",
      "metadata": {
        "id": "bFRVFveSSFVK"
      },
      "source": [
        "### Объединение"
      ]
    },
    {
      "cell_type": "markdown",
      "metadata": {
        "id": "QzBNkHEAPK2R"
      },
      "source": [
        "Массивы можно объединять"
      ]
    },
    {
      "cell_type": "code",
      "metadata": {
        "id": "jZgJUAoLPK9h",
        "colab": {
          "base_uri": "https://localhost:8080/"
        },
        "outputId": "eda5ca51-682e-403c-e5b9-30823389ef8b"
      },
      "source": [
        "a = np.array([[1, 2], [3, 4]], float)\n",
        "b = np.array([[5, 6], [7,8]], float)\n",
        "np.concatenate((a,b))"
      ],
      "execution_count": null,
      "outputs": [
        {
          "output_type": "execute_result",
          "data": {
            "text/plain": [
              "array([[1., 2.],\n",
              "       [3., 4.],\n",
              "       [5., 6.],\n",
              "       [7., 8.]])"
            ]
          },
          "metadata": {
            "tags": []
          },
          "execution_count": 144
        }
      ]
    },
    {
      "cell_type": "markdown",
      "metadata": {
        "id": "9f1FZ4tLQYIk"
      },
      "source": [
        "Если массив не одномерный, можно задать ось, по которой будет происходить соединение. По умолчанию (не задавая значения оси), соединение будет происходить по первому измерению:"
      ]
    },
    {
      "cell_type": "code",
      "metadata": {
        "id": "KO3y970wQNUj",
        "colab": {
          "base_uri": "https://localhost:8080/"
        },
        "outputId": "c8e7af25-da6e-475d-b794-30a14108cc73"
      },
      "source": [
        "np.concatenate((a,b), axis=0)"
      ],
      "execution_count": null,
      "outputs": [
        {
          "output_type": "execute_result",
          "data": {
            "text/plain": [
              "array([[1., 2.],\n",
              "       [3., 4.],\n",
              "       [5., 6.],\n",
              "       [7., 8.]])"
            ]
          },
          "metadata": {
            "tags": []
          },
          "execution_count": 145
        }
      ]
    },
    {
      "cell_type": "code",
      "metadata": {
        "id": "dBhKmrRVQQgq",
        "colab": {
          "base_uri": "https://localhost:8080/"
        },
        "outputId": "328d8164-bbb8-4ba8-8ccb-38baa7602f4d"
      },
      "source": [
        "np.concatenate((a,b), axis=1)"
      ],
      "execution_count": null,
      "outputs": [
        {
          "output_type": "execute_result",
          "data": {
            "text/plain": [
              "array([[1., 2., 5., 6.],\n",
              "       [3., 4., 7., 8.]])"
            ]
          },
          "metadata": {
            "tags": []
          },
          "execution_count": 146
        }
      ]
    },
    {
      "cell_type": "markdown",
      "metadata": {
        "id": "blWIwCc23WVY"
      },
      "source": [
        "Можно инициализировать массивы произвольной размерности"
      ]
    },
    {
      "cell_type": "code",
      "metadata": {
        "colab": {
          "base_uri": "https://localhost:8080/"
        },
        "id": "dv1acogL3clv",
        "outputId": "6be7e134-bb3c-4142-f030-b6004dc03739"
      },
      "source": [
        "arr = np.zeros( shape = (2,3))\n",
        "arr"
      ],
      "execution_count": null,
      "outputs": [
        {
          "output_type": "execute_result",
          "data": {
            "text/plain": [
              "array([[0., 0., 0.],\n",
              "       [0., 0., 0.]])"
            ]
          },
          "metadata": {
            "tags": []
          },
          "execution_count": 147
        }
      ]
    },
    {
      "cell_type": "markdown",
      "metadata": {
        "id": "OC7_0BV33j9o"
      },
      "source": [
        "И присваивать элементам значения по индексам:"
      ]
    },
    {
      "cell_type": "code",
      "metadata": {
        "colab": {
          "base_uri": "https://localhost:8080/"
        },
        "id": "vvcrqzCZ3iNv",
        "outputId": "3b6d747d-7e89-459f-acb0-c73ccd7d5a34"
      },
      "source": [
        "arr[0, 1] = 10\n",
        "arr[1,0] = 11\n",
        "arr"
      ],
      "execution_count": null,
      "outputs": [
        {
          "output_type": "execute_result",
          "data": {
            "text/plain": [
              "array([[ 0., 10.,  0.],\n",
              "       [11.,  0.,  0.]])"
            ]
          },
          "metadata": {
            "tags": []
          },
          "execution_count": 148
        }
      ]
    },
    {
      "cell_type": "markdown",
      "metadata": {
        "id": "oAOyA_Lh3xz5"
      },
      "source": [
        "Выполнять условия:"
      ]
    },
    {
      "cell_type": "code",
      "metadata": {
        "colab": {
          "base_uri": "https://localhost:8080/"
        },
        "id": "HnF93Jzx3dGy",
        "outputId": "5c7cb25b-bae3-47b6-9580-79bc5098b4b1"
      },
      "source": [
        "arr[arr==0] = 7\n",
        "arr"
      ],
      "execution_count": null,
      "outputs": [
        {
          "output_type": "execute_result",
          "data": {
            "text/plain": [
              "array([[ 7., 10.,  7.],\n",
              "       [11.,  7.,  7.]])"
            ]
          },
          "metadata": {
            "tags": []
          },
          "execution_count": 149
        }
      ]
    },
    {
      "cell_type": "markdown",
      "metadata": {
        "id": "ii7coqbR2u6S"
      },
      "source": [
        "### Практика на Numpy"
      ]
    },
    {
      "cell_type": "markdown",
      "metadata": {
        "id": "-rV2WSZg2yHX"
      },
      "source": [
        "#### Задача 1\n",
        "при помощи метода range() создайте массив типа numpy array с использованием list comprehensions"
      ]
    },
    {
      "cell_type": "code",
      "metadata": {
        "colab": {
          "base_uri": "https://localhost:8080/"
        },
        "id": "P64oKMdn3FcL",
        "outputId": "32ca5332-6d71-4e46-f9ca-618f8afdfbac"
      },
      "source": [
        "#TODO\n",
        "seq = np.array([i for i in range(10)])\n",
        "seq.shape"
      ],
      "execution_count": null,
      "outputs": [
        {
          "output_type": "execute_result",
          "data": {
            "text/plain": [
              "(10,)"
            ]
          },
          "metadata": {
            "tags": []
          },
          "execution_count": 150
        }
      ]
    },
    {
      "cell_type": "markdown",
      "metadata": {
        "id": "DlEM5MX54C07"
      },
      "source": [
        "#### Задача 2\n",
        "Написать функцию, которая считает произведение двух массивов arr1 и arr2"
      ]
    },
    {
      "cell_type": "code",
      "metadata": {
        "id": "IvSnoRya4SJq"
      },
      "source": [
        "arr1 = np.array([1,2,3])\n",
        "arr2 = np.array([10,20,30])"
      ],
      "execution_count": null,
      "outputs": []
    },
    {
      "cell_type": "code",
      "metadata": {
        "id": "ERQdw0be2oYY"
      },
      "source": [
        "def mult(arr1, arr2):\n",
        "  return arr1*arr2"
      ],
      "execution_count": null,
      "outputs": []
    },
    {
      "cell_type": "code",
      "metadata": {
        "colab": {
          "base_uri": "https://localhost:8080/"
        },
        "id": "Qrm5kEBJ2n5H",
        "outputId": "d93eeef0-199c-453c-ff73-bec5b735a645"
      },
      "source": [
        "mult(arr1, arr2)"
      ],
      "execution_count": null,
      "outputs": [
        {
          "output_type": "execute_result",
          "data": {
            "text/plain": [
              "array([10, 40, 90])"
            ]
          },
          "metadata": {
            "tags": []
          },
          "execution_count": 153
        }
      ]
    },
    {
      "cell_type": "markdown",
      "metadata": {
        "id": "1Xoxwo7R41i-"
      },
      "source": [
        "#### Задача 3\n",
        "Заполните данный снизу массив единицами с 20го по 40й элемент"
      ]
    },
    {
      "cell_type": "code",
      "metadata": {
        "id": "7Cph1suV5IRd"
      },
      "source": [
        "arr = np.zeros((50,))"
      ],
      "execution_count": null,
      "outputs": []
    },
    {
      "cell_type": "code",
      "metadata": {
        "colab": {
          "base_uri": "https://localhost:8080/"
        },
        "id": "EaxKq7S-5Iyy",
        "outputId": "d64ee852-3c4f-4e40-d2a4-e048c0054436"
      },
      "source": [
        "#TODO\n",
        "arr[20:41]=1\n",
        "arr[20:]"
      ],
      "execution_count": null,
      "outputs": [
        {
          "output_type": "execute_result",
          "data": {
            "text/plain": [
              "array([1., 1., 1., 1., 1., 1., 1., 1., 1., 1., 1., 1., 1., 1., 1., 1., 1.,\n",
              "       1., 1., 1., 1., 0., 0., 0., 0., 0., 0., 0., 0., 0.])"
            ]
          },
          "metadata": {
            "tags": []
          },
          "execution_count": 155
        }
      ]
    },
    {
      "cell_type": "markdown",
      "metadata": {
        "id": "5wYQ_ZGuQhA0"
      },
      "source": [
        "## Основы pandas"
      ]
    },
    {
      "cell_type": "code",
      "metadata": {
        "id": "zG-L1vINPLLZ"
      },
      "source": [
        "# импортируем библиотеку\n",
        "import pandas as pd"
      ],
      "execution_count": null,
      "outputs": []
    },
    {
      "cell_type": "markdown",
      "metadata": {
        "id": "hBMuhumsSOb5"
      },
      "source": [
        "### Series\n",
        "\n",
        "Одномерный набор данных. Отсутствующий данные записываются как `np.nan`, они не участвуют в вычислении средних, среднеквадратичных отклонений и т.д."
      ]
    },
    {
      "cell_type": "code",
      "metadata": {
        "id": "FSwgT534PLjf",
        "colab": {
          "base_uri": "https://localhost:8080/"
        },
        "outputId": "a42da3f7-6cdc-4087-ae6e-c90bea3d14e5"
      },
      "source": [
        "l = np.array([1, 3, 5, np.nan, 6, 8])\n",
        "s = pd.Series(l)\n",
        "s"
      ],
      "execution_count": null,
      "outputs": [
        {
          "output_type": "execute_result",
          "data": {
            "text/plain": [
              "0    1.0\n",
              "1    3.0\n",
              "2    5.0\n",
              "3    NaN\n",
              "4    6.0\n",
              "5    8.0\n",
              "dtype: float64"
            ]
          },
          "metadata": {
            "tags": []
          },
          "execution_count": 157
        }
      ]
    },
    {
      "cell_type": "code",
      "metadata": {
        "id": "QY_bJqZ-4OfO",
        "colab": {
          "base_uri": "https://localhost:8080/"
        },
        "outputId": "1922541f-926f-437a-c151-eda21ca03281"
      },
      "source": [
        "np.nanmean(l)"
      ],
      "execution_count": null,
      "outputs": [
        {
          "output_type": "execute_result",
          "data": {
            "text/plain": [
              "4.6"
            ]
          },
          "metadata": {
            "tags": []
          },
          "execution_count": 158
        }
      ]
    },
    {
      "cell_type": "code",
      "metadata": {
        "id": "bjdyKcq22Utu",
        "colab": {
          "base_uri": "https://localhost:8080/"
        },
        "outputId": "3d26a774-9157-4ab5-82c8-d45d68bbf554"
      },
      "source": [
        "np.nan == np.nan"
      ],
      "execution_count": null,
      "outputs": [
        {
          "output_type": "execute_result",
          "data": {
            "text/plain": [
              "False"
            ]
          },
          "metadata": {
            "tags": []
          },
          "execution_count": 159
        }
      ]
    },
    {
      "cell_type": "code",
      "metadata": {
        "id": "7KQdOvkC23w9",
        "colab": {
          "base_uri": "https://localhost:8080/"
        },
        "outputId": "623f82eb-1d5d-4c74-8ff6-3d19592b61e6"
      },
      "source": [
        "l[np.isnan(l)] = 0\n",
        "l"
      ],
      "execution_count": null,
      "outputs": [
        {
          "output_type": "execute_result",
          "data": {
            "text/plain": [
              "array([1., 3., 5., 0., 6., 8.])"
            ]
          },
          "metadata": {
            "tags": []
          },
          "execution_count": 160
        }
      ]
    },
    {
      "cell_type": "markdown",
      "metadata": {
        "id": "-A2ABYUBUN-d"
      },
      "source": [
        "### Полезная информация о датафрейме"
      ]
    },
    {
      "cell_type": "markdown",
      "metadata": {
        "id": "5a_LV_NQSXjz"
      },
      "source": [
        "\n",
        "Основная информация о наборе данных: среднее, среднеквадратичное отклонение, минимум, максимум, медиана (которая отличается от среднего для несимметричных распределений)."
      ]
    },
    {
      "cell_type": "code",
      "metadata": {
        "id": "sF6LLsYHSV8R",
        "colab": {
          "base_uri": "https://localhost:8080/"
        },
        "outputId": "620a6e7f-e3e3-4af6-8892-e78500cde482"
      },
      "source": [
        "s.describe()\n"
      ],
      "execution_count": null,
      "outputs": [
        {
          "output_type": "execute_result",
          "data": {
            "text/plain": [
              "count    6.000000\n",
              "mean     3.833333\n",
              "std      3.060501\n",
              "min      0.000000\n",
              "25%      1.500000\n",
              "50%      4.000000\n",
              "75%      5.750000\n",
              "max      8.000000\n",
              "dtype: float64"
            ]
          },
          "metadata": {
            "tags": []
          },
          "execution_count": 161
        }
      ]
    },
    {
      "cell_type": "markdown",
      "metadata": {
        "id": "bnmCxSqzUcuv"
      },
      "source": [
        "### Индексация"
      ]
    },
    {
      "cell_type": "markdown",
      "metadata": {
        "id": "Ry81MQRCScXe"
      },
      "source": [
        "Индексация по аналогии:"
      ]
    },
    {
      "cell_type": "code",
      "metadata": {
        "id": "lmCoGeIrSZJp",
        "colab": {
          "base_uri": "https://localhost:8080/"
        },
        "outputId": "c18ccf1c-f15e-4329-a650-5be308edfcbc"
      },
      "source": [
        "s[2]"
      ],
      "execution_count": null,
      "outputs": [
        {
          "output_type": "execute_result",
          "data": {
            "text/plain": [
              "5.0"
            ]
          },
          "metadata": {
            "tags": []
          },
          "execution_count": 162
        }
      ]
    },
    {
      "cell_type": "code",
      "metadata": {
        "id": "xrK5Mzc1Sfi5",
        "colab": {
          "base_uri": "https://localhost:8080/"
        },
        "outputId": "40ca94f5-a16d-4cfd-edc7-e833a87d5827"
      },
      "source": [
        "s[2] = 7\n",
        "s"
      ],
      "execution_count": null,
      "outputs": [
        {
          "output_type": "execute_result",
          "data": {
            "text/plain": [
              "0    1.0\n",
              "1    3.0\n",
              "2    7.0\n",
              "3    0.0\n",
              "4    6.0\n",
              "5    8.0\n",
              "dtype: float64"
            ]
          },
          "metadata": {
            "tags": []
          },
          "execution_count": 163
        }
      ]
    },
    {
      "cell_type": "code",
      "metadata": {
        "id": "d2OHkzJMSghp",
        "colab": {
          "base_uri": "https://localhost:8080/"
        },
        "outputId": "7c548605-e866-45d9-f470-593213e30741"
      },
      "source": [
        "s[2:5]"
      ],
      "execution_count": null,
      "outputs": [
        {
          "output_type": "execute_result",
          "data": {
            "text/plain": [
              "2    7.0\n",
              "3    0.0\n",
              "4    6.0\n",
              "dtype: float64"
            ]
          },
          "metadata": {
            "tags": []
          },
          "execution_count": 164
        }
      ]
    },
    {
      "cell_type": "code",
      "metadata": {
        "id": "VuYa6Cl9Sh_x",
        "colab": {
          "base_uri": "https://localhost:8080/"
        },
        "outputId": "c56d74e2-92d9-4541-82b9-7df2f9338125"
      },
      "source": [
        "s1 = s[1:]\n",
        "s1"
      ],
      "execution_count": null,
      "outputs": [
        {
          "output_type": "execute_result",
          "data": {
            "text/plain": [
              "1    3.0\n",
              "2    7.0\n",
              "3    0.0\n",
              "4    6.0\n",
              "5    8.0\n",
              "dtype: float64"
            ]
          },
          "metadata": {
            "tags": []
          },
          "execution_count": 165
        }
      ]
    },
    {
      "cell_type": "code",
      "metadata": {
        "id": "TT2drhGlSjEh",
        "colab": {
          "base_uri": "https://localhost:8080/"
        },
        "outputId": "1fd05516-695d-429e-a769-de8d24f3b29b"
      },
      "source": [
        "s2 = s[:-1]\n",
        "s2"
      ],
      "execution_count": null,
      "outputs": [
        {
          "output_type": "execute_result",
          "data": {
            "text/plain": [
              "0    1.0\n",
              "1    3.0\n",
              "2    7.0\n",
              "3    0.0\n",
              "4    6.0\n",
              "dtype: float64"
            ]
          },
          "metadata": {
            "tags": []
          },
          "execution_count": 166
        }
      ]
    },
    {
      "cell_type": "markdown",
      "metadata": {
        "id": "Ia8RkJIXUh8w"
      },
      "source": [
        "### Сложение"
      ]
    },
    {
      "cell_type": "markdown",
      "metadata": {
        "id": "oAbI1vLKStKV"
      },
      "source": [
        "\n",
        "В сумме `s1+s2` складываются данные с одинаковыми индексами. Поскольку в `s1` нет данного и индексом 0, а в `s2` - с индексом 5, в `s1+s2` в соответствующих позициях будет `NaN`."
      ]
    },
    {
      "cell_type": "code",
      "metadata": {
        "id": "4MOI5t_fSqWp",
        "colab": {
          "base_uri": "https://localhost:8080/"
        },
        "outputId": "2e8935e7-69a1-40c9-a57c-65d219188081"
      },
      "source": [
        "s1 + s2"
      ],
      "execution_count": null,
      "outputs": [
        {
          "output_type": "execute_result",
          "data": {
            "text/plain": [
              "0     NaN\n",
              "1     6.0\n",
              "2    14.0\n",
              "3     0.0\n",
              "4    12.0\n",
              "5     NaN\n",
              "dtype: float64"
            ]
          },
          "metadata": {
            "tags": []
          },
          "execution_count": 167
        }
      ]
    },
    {
      "cell_type": "markdown",
      "metadata": {
        "id": "QYKv-xQvS8NF"
      },
      "source": [
        "\n",
        "К наборам данных можно применять функции из `numpy`"
      ]
    },
    {
      "cell_type": "code",
      "metadata": {
        "id": "ouYtD_S5SuLp",
        "colab": {
          "base_uri": "https://localhost:8080/"
        },
        "outputId": "c6b1cd89-12c5-4d3b-be84-7c035c4c75b3"
      },
      "source": [
        "np.exp(s)"
      ],
      "execution_count": null,
      "outputs": [
        {
          "output_type": "execute_result",
          "data": {
            "text/plain": [
              "0       2.718282\n",
              "1      20.085537\n",
              "2    1096.633158\n",
              "3       1.000000\n",
              "4     403.428793\n",
              "5    2980.957987\n",
              "dtype: float64"
            ]
          },
          "metadata": {
            "tags": []
          },
          "execution_count": 168
        }
      ]
    },
    {
      "cell_type": "markdown",
      "metadata": {
        "id": "reCXhA1WUyS_"
      },
      "source": [
        "### Индексация"
      ]
    },
    {
      "cell_type": "markdown",
      "metadata": {
        "id": "ht--SRe5TFzB"
      },
      "source": [
        "При создании набора данных s мы не указали, что будет играть роль индекса. По умолчанию это последовательность целых чисел 0, 1, 2, ..."
      ]
    },
    {
      "cell_type": "code",
      "metadata": {
        "id": "dQ22HfMbTDp-",
        "colab": {
          "base_uri": "https://localhost:8080/"
        },
        "outputId": "aaadc547-64d9-4843-acba-7aaea293231f"
      },
      "source": [
        "s.index"
      ],
      "execution_count": null,
      "outputs": [
        {
          "output_type": "execute_result",
          "data": {
            "text/plain": [
              "RangeIndex(start=0, stop=6, step=1)"
            ]
          },
          "metadata": {
            "tags": []
          },
          "execution_count": 169
        }
      ]
    },
    {
      "cell_type": "markdown",
      "metadata": {
        "id": "Rld_IRMWTJzs"
      },
      "source": [
        "\n",
        "Но можно создавать наборы данных с индексом, заданным списком."
      ]
    },
    {
      "cell_type": "code",
      "metadata": {
        "id": "2AzyJzPjTIUw",
        "colab": {
          "base_uri": "https://localhost:8080/"
        },
        "outputId": "2462e2d1-eaa8-4526-eaff-0771f6d7537b"
      },
      "source": [
        "i=list('abcdef')\n",
        "i"
      ],
      "execution_count": null,
      "outputs": [
        {
          "output_type": "execute_result",
          "data": {
            "text/plain": [
              "['a', 'b', 'c', 'd', 'e', 'f']"
            ]
          },
          "metadata": {
            "tags": []
          },
          "execution_count": 170
        }
      ]
    },
    {
      "cell_type": "code",
      "metadata": {
        "id": "-iw1kCDNTNeI",
        "colab": {
          "base_uri": "https://localhost:8080/"
        },
        "outputId": "cff0d10a-cd3a-4b5d-d873-324b158cc46b"
      },
      "source": [
        "s=pd.Series(l,index=i)\n",
        "s"
      ],
      "execution_count": null,
      "outputs": [
        {
          "output_type": "execute_result",
          "data": {
            "text/plain": [
              "a    1.0\n",
              "b    3.0\n",
              "c    7.0\n",
              "d    0.0\n",
              "e    6.0\n",
              "f    8.0\n",
              "dtype: float64"
            ]
          },
          "metadata": {
            "tags": []
          },
          "execution_count": 171
        }
      ]
    },
    {
      "cell_type": "markdown",
      "metadata": {
        "id": "ImGe0uFJTf0g"
      },
      "source": [
        "Если индекс - строка, то вместо s['c'] можно писать s.c."
      ]
    },
    {
      "cell_type": "code",
      "metadata": {
        "id": "u4zSYEnHTdbx",
        "colab": {
          "base_uri": "https://localhost:8080/"
        },
        "outputId": "8db28e6d-bb18-47f8-cfc9-aa801fe5572b"
      },
      "source": [
        "s.c"
      ],
      "execution_count": null,
      "outputs": [
        {
          "output_type": "execute_result",
          "data": {
            "text/plain": [
              "7.0"
            ]
          },
          "metadata": {
            "tags": []
          },
          "execution_count": 172
        }
      ]
    },
    {
      "cell_type": "markdown",
      "metadata": {
        "id": "QHvoEZRSTog_"
      },
      "source": [
        "Набор данных можно создать из словаря."
      ]
    },
    {
      "cell_type": "code",
      "metadata": {
        "id": "M5q8of-wTgyp",
        "colab": {
          "base_uri": "https://localhost:8080/"
        },
        "outputId": "77232763-a7f9-4400-913e-e979073ba4d5"
      },
      "source": [
        "s=pd.Series({'a':1,'b':2,'c':0})\n",
        "s"
      ],
      "execution_count": null,
      "outputs": [
        {
          "output_type": "execute_result",
          "data": {
            "text/plain": [
              "a    1\n",
              "b    2\n",
              "c    0\n",
              "dtype: int64"
            ]
          },
          "metadata": {
            "tags": []
          },
          "execution_count": 173
        }
      ]
    },
    {
      "cell_type": "markdown",
      "metadata": {
        "id": "wq-JcHCkTroC"
      },
      "source": [
        "Можно отсортировать набор данных."
      ]
    },
    {
      "cell_type": "code",
      "metadata": {
        "id": "dcoSNDtCTppx",
        "colab": {
          "base_uri": "https://localhost:8080/"
        },
        "outputId": "366f7e8c-036c-4521-c5f9-da929f04f68d"
      },
      "source": [
        "s.sort_values()"
      ],
      "execution_count": null,
      "outputs": [
        {
          "output_type": "execute_result",
          "data": {
            "text/plain": [
              "c    0\n",
              "a    1\n",
              "b    2\n",
              "dtype: int64"
            ]
          },
          "metadata": {
            "tags": []
          },
          "execution_count": 174
        }
      ]
    },
    {
      "cell_type": "markdown",
      "metadata": {
        "id": "EhicMBlWTxkm"
      },
      "source": [
        "Роль индекса может играть, скажем, последовательность дат (или времён измерения и т.д.)."
      ]
    },
    {
      "cell_type": "code",
      "metadata": {
        "id": "woA8drK4TtAZ",
        "colab": {
          "base_uri": "https://localhost:8080/"
        },
        "outputId": "2aa3e4aa-f54c-4e85-8499-aaf6d566bde6"
      },
      "source": [
        "d=pd.date_range('20160101', periods=10)\n",
        "d"
      ],
      "execution_count": null,
      "outputs": [
        {
          "output_type": "execute_result",
          "data": {
            "text/plain": [
              "DatetimeIndex(['2016-01-01', '2016-01-02', '2016-01-03', '2016-01-04',\n",
              "               '2016-01-05', '2016-01-06', '2016-01-07', '2016-01-08',\n",
              "               '2016-01-09', '2016-01-10'],\n",
              "              dtype='datetime64[ns]', freq='D')"
            ]
          },
          "metadata": {
            "tags": []
          },
          "execution_count": 175
        }
      ]
    },
    {
      "cell_type": "code",
      "metadata": {
        "id": "2WhDA-ZPT2Dw",
        "colab": {
          "base_uri": "https://localhost:8080/"
        },
        "outputId": "bf49b6e0-0026-47f2-d1e9-db1165404a6b"
      },
      "source": [
        "s=pd.Series(np.random.normal(size=10), index=d)\n",
        "s"
      ],
      "execution_count": null,
      "outputs": [
        {
          "output_type": "execute_result",
          "data": {
            "text/plain": [
              "2016-01-01   -0.601227\n",
              "2016-01-02   -0.328502\n",
              "2016-01-03   -1.077257\n",
              "2016-01-04    0.690877\n",
              "2016-01-05   -0.456857\n",
              "2016-01-06    0.769147\n",
              "2016-01-07   -0.250321\n",
              "2016-01-08    0.226486\n",
              "2016-01-09    2.301269\n",
              "2016-01-10    1.652271\n",
              "Freq: D, dtype: float64"
            ]
          },
          "metadata": {
            "tags": []
          },
          "execution_count": 176
        }
      ]
    },
    {
      "cell_type": "markdown",
      "metadata": {
        "id": "TsI1ZICeUDhu"
      },
      "source": [
        "Операции сравнения возвращают наборы булевых данных."
      ]
    },
    {
      "cell_type": "code",
      "metadata": {
        "id": "bMWOp2qzT_lZ",
        "colab": {
          "base_uri": "https://localhost:8080/"
        },
        "outputId": "b62e17a8-c92a-4044-af78-fb9477f35e4d"
      },
      "source": [
        "s>0"
      ],
      "execution_count": null,
      "outputs": [
        {
          "output_type": "execute_result",
          "data": {
            "text/plain": [
              "2016-01-01    False\n",
              "2016-01-02    False\n",
              "2016-01-03    False\n",
              "2016-01-04     True\n",
              "2016-01-05    False\n",
              "2016-01-06     True\n",
              "2016-01-07    False\n",
              "2016-01-08     True\n",
              "2016-01-09     True\n",
              "2016-01-10     True\n",
              "Freq: D, dtype: bool"
            ]
          },
          "metadata": {
            "tags": []
          },
          "execution_count": 177
        }
      ]
    },
    {
      "cell_type": "markdown",
      "metadata": {
        "id": "mjQK67fjUGGm"
      },
      "source": [
        "Если такой булев набор использовать для индексации, получится поднабор только из тех данных, для которых условие есть True."
      ]
    },
    {
      "cell_type": "code",
      "metadata": {
        "id": "u_frxvjDUEW5",
        "colab": {
          "base_uri": "https://localhost:8080/"
        },
        "outputId": "a97d93c6-c142-4880-d477-b03b1a8642a7"
      },
      "source": [
        "s[s>0]"
      ],
      "execution_count": null,
      "outputs": [
        {
          "output_type": "execute_result",
          "data": {
            "text/plain": [
              "2016-01-04    0.690877\n",
              "2016-01-06    0.769147\n",
              "2016-01-08    0.226486\n",
              "2016-01-09    2.301269\n",
              "2016-01-10    1.652271\n",
              "dtype: float64"
            ]
          },
          "metadata": {
            "tags": []
          },
          "execution_count": 178
        }
      ]
    },
    {
      "cell_type": "markdown",
      "metadata": {
        "id": "8ab0imaqUMC9"
      },
      "source": [
        "## DataFrame\n",
        "\n",
        "Двумерная таблица данных. Имеет индекс и набор столбцов (возможно, имеющих разные типы). Таблицу можно построить, например, из словаря, значениями в котором являются одномерные наборы данных."
      ]
    },
    {
      "cell_type": "code",
      "metadata": {
        "id": "Ft_C23eZUHAJ",
        "colab": {
          "base_uri": "https://localhost:8080/",
          "height": 173
        },
        "outputId": "f31aadad-f214-4476-dd52-58d359573709"
      },
      "source": [
        "d={'one': pd.Series([1,2,3], index=['a','b','c']),\n",
        "   'two': pd.Series([1,2,3,4], index=['a','b','c','d'])}\n",
        "df=pd.DataFrame(d)\n",
        "df"
      ],
      "execution_count": null,
      "outputs": [
        {
          "output_type": "execute_result",
          "data": {
            "text/html": [
              "<div>\n",
              "<style scoped>\n",
              "    .dataframe tbody tr th:only-of-type {\n",
              "        vertical-align: middle;\n",
              "    }\n",
              "\n",
              "    .dataframe tbody tr th {\n",
              "        vertical-align: top;\n",
              "    }\n",
              "\n",
              "    .dataframe thead th {\n",
              "        text-align: right;\n",
              "    }\n",
              "</style>\n",
              "<table border=\"1\" class=\"dataframe\">\n",
              "  <thead>\n",
              "    <tr style=\"text-align: right;\">\n",
              "      <th></th>\n",
              "      <th>one</th>\n",
              "      <th>two</th>\n",
              "    </tr>\n",
              "  </thead>\n",
              "  <tbody>\n",
              "    <tr>\n",
              "      <th>a</th>\n",
              "      <td>1.0</td>\n",
              "      <td>1</td>\n",
              "    </tr>\n",
              "    <tr>\n",
              "      <th>b</th>\n",
              "      <td>2.0</td>\n",
              "      <td>2</td>\n",
              "    </tr>\n",
              "    <tr>\n",
              "      <th>c</th>\n",
              "      <td>3.0</td>\n",
              "      <td>3</td>\n",
              "    </tr>\n",
              "    <tr>\n",
              "      <th>d</th>\n",
              "      <td>NaN</td>\n",
              "      <td>4</td>\n",
              "    </tr>\n",
              "  </tbody>\n",
              "</table>\n",
              "</div>"
            ],
            "text/plain": [
              "   one  two\n",
              "a  1.0    1\n",
              "b  2.0    2\n",
              "c  3.0    3\n",
              "d  NaN    4"
            ]
          },
          "metadata": {
            "tags": []
          },
          "execution_count": 179
        }
      ]
    },
    {
      "cell_type": "markdown",
      "metadata": {
        "id": "YHWH6pfRZX5n"
      },
      "source": [
        "### Индексация, слайсинг и доступ к переменным"
      ]
    },
    {
      "cell_type": "code",
      "metadata": {
        "id": "XCYGEe1_YAgR",
        "colab": {
          "base_uri": "https://localhost:8080/"
        },
        "outputId": "335fc789-9c60-4f7b-8eef-83b10500a04e"
      },
      "source": [
        "df.index"
      ],
      "execution_count": null,
      "outputs": [
        {
          "output_type": "execute_result",
          "data": {
            "text/plain": [
              "Index(['a', 'b', 'c', 'd'], dtype='object')"
            ]
          },
          "metadata": {
            "tags": []
          },
          "execution_count": 180
        }
      ]
    },
    {
      "cell_type": "code",
      "metadata": {
        "id": "qbcbTZPfYBzR",
        "colab": {
          "base_uri": "https://localhost:8080/"
        },
        "outputId": "a5736c59-8878-4b61-f708-08be289a1c79"
      },
      "source": [
        "df.columns"
      ],
      "execution_count": null,
      "outputs": [
        {
          "output_type": "execute_result",
          "data": {
            "text/plain": [
              "Index(['one', 'two'], dtype='object')"
            ]
          },
          "metadata": {
            "tags": []
          },
          "execution_count": 181
        }
      ]
    },
    {
      "cell_type": "markdown",
      "metadata": {
        "id": "n7pWo3oyYISt"
      },
      "source": [
        "Если в качестве индекса указать имя столбца, получится одномерный набор данных."
      ]
    },
    {
      "cell_type": "code",
      "metadata": {
        "id": "iBgXKw7bYGAJ",
        "colab": {
          "base_uri": "https://localhost:8080/"
        },
        "outputId": "ca4f7fa1-53b6-4265-94a2-02652cf440af"
      },
      "source": [
        "df['one']"
      ],
      "execution_count": null,
      "outputs": [
        {
          "output_type": "execute_result",
          "data": {
            "text/plain": [
              "a    1.0\n",
              "b    2.0\n",
              "c    3.0\n",
              "d    NaN\n",
              "Name: one, dtype: float64"
            ]
          },
          "metadata": {
            "tags": []
          },
          "execution_count": 182
        }
      ]
    },
    {
      "cell_type": "code",
      "metadata": {
        "id": "rY0aL_SrYJDx",
        "colab": {
          "base_uri": "https://localhost:8080/"
        },
        "outputId": "5575d6b8-eab0-4173-d179-b2c3ba362af7"
      },
      "source": [
        "df.one"
      ],
      "execution_count": null,
      "outputs": [
        {
          "output_type": "execute_result",
          "data": {
            "text/plain": [
              "a    1.0\n",
              "b    2.0\n",
              "c    3.0\n",
              "d    NaN\n",
              "Name: one, dtype: float64"
            ]
          },
          "metadata": {
            "tags": []
          },
          "execution_count": 183
        }
      ]
    },
    {
      "cell_type": "code",
      "metadata": {
        "id": "-RJ6EcWRYLMR",
        "colab": {
          "base_uri": "https://localhost:8080/"
        },
        "outputId": "200f8b59-b82e-4ead-a017-9a41e430722c"
      },
      "source": [
        "df['one']['c']"
      ],
      "execution_count": null,
      "outputs": [
        {
          "output_type": "execute_result",
          "data": {
            "text/plain": [
              "3.0"
            ]
          },
          "metadata": {
            "tags": []
          },
          "execution_count": 184
        }
      ]
    },
    {
      "cell_type": "markdown",
      "metadata": {
        "id": "EKtBa4F7YKEH"
      },
      "source": [
        "\n",
        "Однако если указать диапазон индексов, то это означает диапазон строк. Причём последняя строка включается в таблицу."
      ]
    },
    {
      "cell_type": "code",
      "metadata": {
        "id": "GJFchFYWYPu5",
        "colab": {
          "base_uri": "https://localhost:8080/",
          "height": 142
        },
        "outputId": "91880734-fcda-4f8b-ce72-017c642f5a67"
      },
      "source": [
        "df['b':'d']"
      ],
      "execution_count": null,
      "outputs": [
        {
          "output_type": "execute_result",
          "data": {
            "text/html": [
              "<div>\n",
              "<style scoped>\n",
              "    .dataframe tbody tr th:only-of-type {\n",
              "        vertical-align: middle;\n",
              "    }\n",
              "\n",
              "    .dataframe tbody tr th {\n",
              "        vertical-align: top;\n",
              "    }\n",
              "\n",
              "    .dataframe thead th {\n",
              "        text-align: right;\n",
              "    }\n",
              "</style>\n",
              "<table border=\"1\" class=\"dataframe\">\n",
              "  <thead>\n",
              "    <tr style=\"text-align: right;\">\n",
              "      <th></th>\n",
              "      <th>one</th>\n",
              "      <th>two</th>\n",
              "    </tr>\n",
              "  </thead>\n",
              "  <tbody>\n",
              "    <tr>\n",
              "      <th>b</th>\n",
              "      <td>2.0</td>\n",
              "      <td>2</td>\n",
              "    </tr>\n",
              "    <tr>\n",
              "      <th>c</th>\n",
              "      <td>3.0</td>\n",
              "      <td>3</td>\n",
              "    </tr>\n",
              "    <tr>\n",
              "      <th>d</th>\n",
              "      <td>NaN</td>\n",
              "      <td>4</td>\n",
              "    </tr>\n",
              "  </tbody>\n",
              "</table>\n",
              "</div>"
            ],
            "text/plain": [
              "   one  two\n",
              "b  2.0    2\n",
              "c  3.0    3\n",
              "d  NaN    4"
            ]
          },
          "metadata": {
            "tags": []
          },
          "execution_count": 185
        }
      ]
    },
    {
      "cell_type": "markdown",
      "metadata": {
        "id": "w7mq1wxwYTZh"
      },
      "source": [
        "\n",
        "Диапазон целых чисел даёт диапазон строк с такими номерами, не включая последнюю строку (как обычно при индексировании списков). Всё это кажется довольно нелогичным."
      ]
    },
    {
      "cell_type": "code",
      "metadata": {
        "id": "5MfjL6FaYQ9x",
        "colab": {
          "base_uri": "https://localhost:8080/",
          "height": 111
        },
        "outputId": "944f8935-efea-448c-ef77-4cdddb64ca31"
      },
      "source": [
        "df[1:3]"
      ],
      "execution_count": null,
      "outputs": [
        {
          "output_type": "execute_result",
          "data": {
            "text/html": [
              "<div>\n",
              "<style scoped>\n",
              "    .dataframe tbody tr th:only-of-type {\n",
              "        vertical-align: middle;\n",
              "    }\n",
              "\n",
              "    .dataframe tbody tr th {\n",
              "        vertical-align: top;\n",
              "    }\n",
              "\n",
              "    .dataframe thead th {\n",
              "        text-align: right;\n",
              "    }\n",
              "</style>\n",
              "<table border=\"1\" class=\"dataframe\">\n",
              "  <thead>\n",
              "    <tr style=\"text-align: right;\">\n",
              "      <th></th>\n",
              "      <th>one</th>\n",
              "      <th>two</th>\n",
              "    </tr>\n",
              "  </thead>\n",
              "  <tbody>\n",
              "    <tr>\n",
              "      <th>b</th>\n",
              "      <td>2.0</td>\n",
              "      <td>2</td>\n",
              "    </tr>\n",
              "    <tr>\n",
              "      <th>c</th>\n",
              "      <td>3.0</td>\n",
              "      <td>3</td>\n",
              "    </tr>\n",
              "  </tbody>\n",
              "</table>\n",
              "</div>"
            ],
            "text/plain": [
              "   one  two\n",
              "b  2.0    2\n",
              "c  3.0    3"
            ]
          },
          "metadata": {
            "tags": []
          },
          "execution_count": 186
        }
      ]
    },
    {
      "cell_type": "markdown",
      "metadata": {
        "id": "_mgcvTWRYcZB"
      },
      "source": [
        "\n",
        "Логичнее работает атрибут `loc`: первая позиция - всегда индекс строки, а вторая - столбца."
      ]
    },
    {
      "cell_type": "code",
      "metadata": {
        "id": "HD9v7djkYamI",
        "colab": {
          "base_uri": "https://localhost:8080/"
        },
        "outputId": "b2fe2c5a-0650-49c2-f5a3-0b41a0f0f125"
      },
      "source": [
        "df.loc['b']"
      ],
      "execution_count": null,
      "outputs": [
        {
          "output_type": "execute_result",
          "data": {
            "text/plain": [
              "one    2.0\n",
              "two    2.0\n",
              "Name: b, dtype: float64"
            ]
          },
          "metadata": {
            "tags": []
          },
          "execution_count": 187
        }
      ]
    },
    {
      "cell_type": "code",
      "metadata": {
        "id": "nAIWifpNYdkK",
        "colab": {
          "base_uri": "https://localhost:8080/"
        },
        "outputId": "44a5a0ee-6ebc-457d-81ea-a782fe2789d5"
      },
      "source": [
        "df.loc['b','one']"
      ],
      "execution_count": null,
      "outputs": [
        {
          "output_type": "execute_result",
          "data": {
            "text/plain": [
              "2.0"
            ]
          },
          "metadata": {
            "tags": []
          },
          "execution_count": 188
        }
      ]
    },
    {
      "cell_type": "code",
      "metadata": {
        "id": "dK9j0kAVYekg",
        "colab": {
          "base_uri": "https://localhost:8080/"
        },
        "outputId": "3084f402-6709-483c-d2d0-c3b8514591fd"
      },
      "source": [
        "df.loc['a':'b','one']"
      ],
      "execution_count": null,
      "outputs": [
        {
          "output_type": "execute_result",
          "data": {
            "text/plain": [
              "a    1.0\n",
              "b    2.0\n",
              "Name: one, dtype: float64"
            ]
          },
          "metadata": {
            "tags": []
          },
          "execution_count": 189
        }
      ]
    },
    {
      "cell_type": "code",
      "metadata": {
        "id": "FG0aTDlZYfpI",
        "colab": {
          "base_uri": "https://localhost:8080/",
          "height": 111
        },
        "outputId": "b0767700-0c8f-422d-83b4-07712f08a26a"
      },
      "source": [
        "df.loc['a':'b', :]"
      ],
      "execution_count": null,
      "outputs": [
        {
          "output_type": "execute_result",
          "data": {
            "text/html": [
              "<div>\n",
              "<style scoped>\n",
              "    .dataframe tbody tr th:only-of-type {\n",
              "        vertical-align: middle;\n",
              "    }\n",
              "\n",
              "    .dataframe tbody tr th {\n",
              "        vertical-align: top;\n",
              "    }\n",
              "\n",
              "    .dataframe thead th {\n",
              "        text-align: right;\n",
              "    }\n",
              "</style>\n",
              "<table border=\"1\" class=\"dataframe\">\n",
              "  <thead>\n",
              "    <tr style=\"text-align: right;\">\n",
              "      <th></th>\n",
              "      <th>one</th>\n",
              "      <th>two</th>\n",
              "    </tr>\n",
              "  </thead>\n",
              "  <tbody>\n",
              "    <tr>\n",
              "      <th>a</th>\n",
              "      <td>1.0</td>\n",
              "      <td>1</td>\n",
              "    </tr>\n",
              "    <tr>\n",
              "      <th>b</th>\n",
              "      <td>2.0</td>\n",
              "      <td>2</td>\n",
              "    </tr>\n",
              "  </tbody>\n",
              "</table>\n",
              "</div>"
            ],
            "text/plain": [
              "   one  two\n",
              "a  1.0    1\n",
              "b  2.0    2"
            ]
          },
          "metadata": {
            "tags": []
          },
          "execution_count": 190
        }
      ]
    },
    {
      "cell_type": "code",
      "metadata": {
        "id": "L7bpZyqbYgxg",
        "colab": {
          "base_uri": "https://localhost:8080/"
        },
        "outputId": "d5fee895-5974-4aba-b5f4-bbf33b9414c1"
      },
      "source": [
        "df.loc[:,'one']"
      ],
      "execution_count": null,
      "outputs": [
        {
          "output_type": "execute_result",
          "data": {
            "text/plain": [
              "a    1.0\n",
              "b    2.0\n",
              "c    3.0\n",
              "d    NaN\n",
              "Name: one, dtype: float64"
            ]
          },
          "metadata": {
            "tags": []
          },
          "execution_count": 191
        }
      ]
    },
    {
      "cell_type": "markdown",
      "metadata": {
        "id": "TF4QWB6DYjzK"
      },
      "source": [
        "К таблице можно добавлять новые столбцы."
      ]
    },
    {
      "cell_type": "code",
      "metadata": {
        "id": "TqGCpXiAYh2w",
        "colab": {
          "base_uri": "https://localhost:8080/",
          "height": 173
        },
        "outputId": "fbd22b46-6d1e-4f39-d6e5-64f55d0ed88b"
      },
      "source": [
        "df['three'] = df['one'] * df['two']\n",
        "df['flag'] = df['two'] > 2\n",
        "df"
      ],
      "execution_count": null,
      "outputs": [
        {
          "output_type": "execute_result",
          "data": {
            "text/html": [
              "<div>\n",
              "<style scoped>\n",
              "    .dataframe tbody tr th:only-of-type {\n",
              "        vertical-align: middle;\n",
              "    }\n",
              "\n",
              "    .dataframe tbody tr th {\n",
              "        vertical-align: top;\n",
              "    }\n",
              "\n",
              "    .dataframe thead th {\n",
              "        text-align: right;\n",
              "    }\n",
              "</style>\n",
              "<table border=\"1\" class=\"dataframe\">\n",
              "  <thead>\n",
              "    <tr style=\"text-align: right;\">\n",
              "      <th></th>\n",
              "      <th>one</th>\n",
              "      <th>two</th>\n",
              "      <th>three</th>\n",
              "      <th>flag</th>\n",
              "    </tr>\n",
              "  </thead>\n",
              "  <tbody>\n",
              "    <tr>\n",
              "      <th>a</th>\n",
              "      <td>1.0</td>\n",
              "      <td>1</td>\n",
              "      <td>1.0</td>\n",
              "      <td>False</td>\n",
              "    </tr>\n",
              "    <tr>\n",
              "      <th>b</th>\n",
              "      <td>2.0</td>\n",
              "      <td>2</td>\n",
              "      <td>4.0</td>\n",
              "      <td>False</td>\n",
              "    </tr>\n",
              "    <tr>\n",
              "      <th>c</th>\n",
              "      <td>3.0</td>\n",
              "      <td>3</td>\n",
              "      <td>9.0</td>\n",
              "      <td>True</td>\n",
              "    </tr>\n",
              "    <tr>\n",
              "      <th>d</th>\n",
              "      <td>NaN</td>\n",
              "      <td>4</td>\n",
              "      <td>NaN</td>\n",
              "      <td>True</td>\n",
              "    </tr>\n",
              "  </tbody>\n",
              "</table>\n",
              "</div>"
            ],
            "text/plain": [
              "   one  two  three   flag\n",
              "a  1.0    1    1.0  False\n",
              "b  2.0    2    4.0  False\n",
              "c  3.0    3    9.0   True\n",
              "d  NaN    4    NaN   True"
            ]
          },
          "metadata": {
            "tags": []
          },
          "execution_count": 192
        }
      ]
    },
    {
      "cell_type": "markdown",
      "metadata": {
        "id": "S-j1YX0HYmGS"
      },
      "source": [
        "Также можно удалять имеющиеся."
      ]
    },
    {
      "cell_type": "code",
      "metadata": {
        "id": "0WiYzzoUYk7Y",
        "colab": {
          "base_uri": "https://localhost:8080/",
          "height": 173
        },
        "outputId": "b7a2ddbc-08f7-455e-b687-1c964dcbd6ec"
      },
      "source": [
        "#del df['two']\n",
        "df['foo'] = 0.\n",
        "# df.drop(['foo'], axis=1)\n",
        "del df['foo']\n",
        "df"
      ],
      "execution_count": null,
      "outputs": [
        {
          "output_type": "execute_result",
          "data": {
            "text/html": [
              "<div>\n",
              "<style scoped>\n",
              "    .dataframe tbody tr th:only-of-type {\n",
              "        vertical-align: middle;\n",
              "    }\n",
              "\n",
              "    .dataframe tbody tr th {\n",
              "        vertical-align: top;\n",
              "    }\n",
              "\n",
              "    .dataframe thead th {\n",
              "        text-align: right;\n",
              "    }\n",
              "</style>\n",
              "<table border=\"1\" class=\"dataframe\">\n",
              "  <thead>\n",
              "    <tr style=\"text-align: right;\">\n",
              "      <th></th>\n",
              "      <th>one</th>\n",
              "      <th>two</th>\n",
              "      <th>three</th>\n",
              "      <th>flag</th>\n",
              "    </tr>\n",
              "  </thead>\n",
              "  <tbody>\n",
              "    <tr>\n",
              "      <th>a</th>\n",
              "      <td>1.0</td>\n",
              "      <td>1</td>\n",
              "      <td>1.0</td>\n",
              "      <td>False</td>\n",
              "    </tr>\n",
              "    <tr>\n",
              "      <th>b</th>\n",
              "      <td>2.0</td>\n",
              "      <td>2</td>\n",
              "      <td>4.0</td>\n",
              "      <td>False</td>\n",
              "    </tr>\n",
              "    <tr>\n",
              "      <th>c</th>\n",
              "      <td>3.0</td>\n",
              "      <td>3</td>\n",
              "      <td>9.0</td>\n",
              "      <td>True</td>\n",
              "    </tr>\n",
              "    <tr>\n",
              "      <th>d</th>\n",
              "      <td>NaN</td>\n",
              "      <td>4</td>\n",
              "      <td>NaN</td>\n",
              "      <td>True</td>\n",
              "    </tr>\n",
              "  </tbody>\n",
              "</table>\n",
              "</div>"
            ],
            "text/plain": [
              "   one  two  three   flag\n",
              "a  1.0    1    1.0  False\n",
              "b  2.0    2    4.0  False\n",
              "c  3.0    3    9.0   True\n",
              "d  NaN    4    NaN   True"
            ]
          },
          "metadata": {
            "tags": []
          },
          "execution_count": 193
        }
      ]
    },
    {
      "cell_type": "markdown",
      "metadata": {
        "id": "XFgxOqQPZlBW"
      },
      "source": [
        "### Функции для сортировки"
      ]
    },
    {
      "cell_type": "code",
      "metadata": {
        "id": "qFnN69CmYm7o",
        "colab": {
          "base_uri": "https://localhost:8080/"
        },
        "outputId": "0207beed-d4cb-47bf-a3ac-53259bf8ce0f"
      },
      "source": [
        "mask = df.apply(lambda x: x['one'] < 1.5 or x['two'] > 2.5, axis=1)\n",
        "mask"
      ],
      "execution_count": null,
      "outputs": [
        {
          "output_type": "execute_result",
          "data": {
            "text/plain": [
              "a     True\n",
              "b    False\n",
              "c     True\n",
              "d     True\n",
              "dtype: bool"
            ]
          },
          "metadata": {
            "tags": []
          },
          "execution_count": 194
        }
      ]
    },
    {
      "cell_type": "code",
      "metadata": {
        "id": "1MLNwaH07spE",
        "colab": {
          "base_uri": "https://localhost:8080/"
        },
        "outputId": "85ec1c7a-426d-4726-bba2-5d48449e7160"
      },
      "source": [
        "mask = df.apply(lambda x: x['a'] + x['b'], axis=0)\n",
        "mask"
      ],
      "execution_count": null,
      "outputs": [
        {
          "output_type": "execute_result",
          "data": {
            "text/plain": [
              "one          3\n",
              "two          3\n",
              "three        5\n",
              "flag     False\n",
              "dtype: object"
            ]
          },
          "metadata": {
            "tags": []
          },
          "execution_count": 195
        }
      ]
    },
    {
      "cell_type": "code",
      "metadata": {
        "id": "Cawtu_Km8G0w",
        "colab": {
          "base_uri": "https://localhost:8080/",
          "height": 173
        },
        "outputId": "0a9fc5a3-7365-4274-a926-1e6ad5f85125"
      },
      "source": [
        "df.T"
      ],
      "execution_count": null,
      "outputs": [
        {
          "output_type": "execute_result",
          "data": {
            "text/html": [
              "<div>\n",
              "<style scoped>\n",
              "    .dataframe tbody tr th:only-of-type {\n",
              "        vertical-align: middle;\n",
              "    }\n",
              "\n",
              "    .dataframe tbody tr th {\n",
              "        vertical-align: top;\n",
              "    }\n",
              "\n",
              "    .dataframe thead th {\n",
              "        text-align: right;\n",
              "    }\n",
              "</style>\n",
              "<table border=\"1\" class=\"dataframe\">\n",
              "  <thead>\n",
              "    <tr style=\"text-align: right;\">\n",
              "      <th></th>\n",
              "      <th>a</th>\n",
              "      <th>b</th>\n",
              "      <th>c</th>\n",
              "      <th>d</th>\n",
              "    </tr>\n",
              "  </thead>\n",
              "  <tbody>\n",
              "    <tr>\n",
              "      <th>one</th>\n",
              "      <td>1</td>\n",
              "      <td>2</td>\n",
              "      <td>3</td>\n",
              "      <td>NaN</td>\n",
              "    </tr>\n",
              "    <tr>\n",
              "      <th>two</th>\n",
              "      <td>1</td>\n",
              "      <td>2</td>\n",
              "      <td>3</td>\n",
              "      <td>4</td>\n",
              "    </tr>\n",
              "    <tr>\n",
              "      <th>three</th>\n",
              "      <td>1</td>\n",
              "      <td>4</td>\n",
              "      <td>9</td>\n",
              "      <td>NaN</td>\n",
              "    </tr>\n",
              "    <tr>\n",
              "      <th>flag</th>\n",
              "      <td>False</td>\n",
              "      <td>False</td>\n",
              "      <td>True</td>\n",
              "      <td>True</td>\n",
              "    </tr>\n",
              "  </tbody>\n",
              "</table>\n",
              "</div>"
            ],
            "text/plain": [
              "           a      b     c     d\n",
              "one        1      2     3   NaN\n",
              "two        1      2     3     4\n",
              "three      1      4     9   NaN\n",
              "flag   False  False  True  True"
            ]
          },
          "metadata": {
            "tags": []
          },
          "execution_count": 196
        }
      ]
    },
    {
      "cell_type": "markdown",
      "metadata": {
        "id": "LsL7EZAMZv6_"
      },
      "source": [
        "### Объединение и добавление новых столбцов"
      ]
    },
    {
      "cell_type": "markdown",
      "metadata": {
        "id": "BRNtivXFYzu0"
      },
      "source": [
        "\n",
        "Добавим копию столбца `one`, в которую входят только строки до второй."
      ]
    },
    {
      "cell_type": "code",
      "metadata": {
        "id": "zrkvEJtsYuno",
        "colab": {
          "base_uri": "https://localhost:8080/",
          "height": 173
        },
        "outputId": "ab8d69fc-83a4-4b35-fcce-fea5225f413c"
      },
      "source": [
        "df['one_tr'] = df['one'][:2]\n",
        "df"
      ],
      "execution_count": null,
      "outputs": [
        {
          "output_type": "execute_result",
          "data": {
            "text/html": [
              "<div>\n",
              "<style scoped>\n",
              "    .dataframe tbody tr th:only-of-type {\n",
              "        vertical-align: middle;\n",
              "    }\n",
              "\n",
              "    .dataframe tbody tr th {\n",
              "        vertical-align: top;\n",
              "    }\n",
              "\n",
              "    .dataframe thead th {\n",
              "        text-align: right;\n",
              "    }\n",
              "</style>\n",
              "<table border=\"1\" class=\"dataframe\">\n",
              "  <thead>\n",
              "    <tr style=\"text-align: right;\">\n",
              "      <th></th>\n",
              "      <th>one</th>\n",
              "      <th>two</th>\n",
              "      <th>three</th>\n",
              "      <th>flag</th>\n",
              "      <th>one_tr</th>\n",
              "    </tr>\n",
              "  </thead>\n",
              "  <tbody>\n",
              "    <tr>\n",
              "      <th>a</th>\n",
              "      <td>1.0</td>\n",
              "      <td>1</td>\n",
              "      <td>1.0</td>\n",
              "      <td>False</td>\n",
              "      <td>1.0</td>\n",
              "    </tr>\n",
              "    <tr>\n",
              "      <th>b</th>\n",
              "      <td>2.0</td>\n",
              "      <td>2</td>\n",
              "      <td>4.0</td>\n",
              "      <td>False</td>\n",
              "      <td>2.0</td>\n",
              "    </tr>\n",
              "    <tr>\n",
              "      <th>c</th>\n",
              "      <td>3.0</td>\n",
              "      <td>3</td>\n",
              "      <td>9.0</td>\n",
              "      <td>True</td>\n",
              "      <td>NaN</td>\n",
              "    </tr>\n",
              "    <tr>\n",
              "      <th>d</th>\n",
              "      <td>NaN</td>\n",
              "      <td>4</td>\n",
              "      <td>NaN</td>\n",
              "      <td>True</td>\n",
              "      <td>NaN</td>\n",
              "    </tr>\n",
              "  </tbody>\n",
              "</table>\n",
              "</div>"
            ],
            "text/plain": [
              "   one  two  three   flag  one_tr\n",
              "a  1.0    1    1.0  False     1.0\n",
              "b  2.0    2    4.0  False     2.0\n",
              "c  3.0    3    9.0   True     NaN\n",
              "d  NaN    4    NaN   True     NaN"
            ]
          },
          "metadata": {
            "tags": []
          },
          "execution_count": 199
        }
      ]
    },
    {
      "cell_type": "code",
      "metadata": {
        "id": "-59tvBD7Y2To",
        "colab": {
          "base_uri": "https://localhost:8080/",
          "height": 173
        },
        "outputId": "1776fa47-d837-40c7-c709-8e2add3ced62"
      },
      "source": [
        "df1=df.loc[:, ['one','one_tr']]\n",
        "df1"
      ],
      "execution_count": null,
      "outputs": [
        {
          "output_type": "execute_result",
          "data": {
            "text/html": [
              "<div>\n",
              "<style scoped>\n",
              "    .dataframe tbody tr th:only-of-type {\n",
              "        vertical-align: middle;\n",
              "    }\n",
              "\n",
              "    .dataframe tbody tr th {\n",
              "        vertical-align: top;\n",
              "    }\n",
              "\n",
              "    .dataframe thead th {\n",
              "        text-align: right;\n",
              "    }\n",
              "</style>\n",
              "<table border=\"1\" class=\"dataframe\">\n",
              "  <thead>\n",
              "    <tr style=\"text-align: right;\">\n",
              "      <th></th>\n",
              "      <th>one</th>\n",
              "      <th>one_tr</th>\n",
              "    </tr>\n",
              "  </thead>\n",
              "  <tbody>\n",
              "    <tr>\n",
              "      <th>a</th>\n",
              "      <td>1.0</td>\n",
              "      <td>1.0</td>\n",
              "    </tr>\n",
              "    <tr>\n",
              "      <th>b</th>\n",
              "      <td>2.0</td>\n",
              "      <td>2.0</td>\n",
              "    </tr>\n",
              "    <tr>\n",
              "      <th>c</th>\n",
              "      <td>3.0</td>\n",
              "      <td>NaN</td>\n",
              "    </tr>\n",
              "    <tr>\n",
              "      <th>d</th>\n",
              "      <td>NaN</td>\n",
              "      <td>NaN</td>\n",
              "    </tr>\n",
              "  </tbody>\n",
              "</table>\n",
              "</div>"
            ],
            "text/plain": [
              "   one  one_tr\n",
              "a  1.0     1.0\n",
              "b  2.0     2.0\n",
              "c  3.0     NaN\n",
              "d  NaN     NaN"
            ]
          },
          "metadata": {
            "tags": []
          },
          "execution_count": 200
        }
      ]
    },
    {
      "cell_type": "markdown",
      "metadata": {
        "id": "b9ozvKC7ZJZa"
      },
      "source": [
        "Можно объединять таблицы по вертикали и по горизонтали."
      ]
    },
    {
      "cell_type": "code",
      "metadata": {
        "id": "snimQl3LY3tA",
        "colab": {
          "base_uri": "https://localhost:8080/",
          "height": 111
        },
        "outputId": "c1a714c9-a688-4a71-a7a7-932f120abbd6"
      },
      "source": [
        "df2=pd.DataFrame({\n",
        "    'one':{'a':0,'b':1},\n",
        "    'one_tr':{'b':2}\n",
        "})\n",
        "df2"
      ],
      "execution_count": null,
      "outputs": [
        {
          "output_type": "execute_result",
          "data": {
            "text/html": [
              "<div>\n",
              "<style scoped>\n",
              "    .dataframe tbody tr th:only-of-type {\n",
              "        vertical-align: middle;\n",
              "    }\n",
              "\n",
              "    .dataframe tbody tr th {\n",
              "        vertical-align: top;\n",
              "    }\n",
              "\n",
              "    .dataframe thead th {\n",
              "        text-align: right;\n",
              "    }\n",
              "</style>\n",
              "<table border=\"1\" class=\"dataframe\">\n",
              "  <thead>\n",
              "    <tr style=\"text-align: right;\">\n",
              "      <th></th>\n",
              "      <th>one</th>\n",
              "      <th>one_tr</th>\n",
              "    </tr>\n",
              "  </thead>\n",
              "  <tbody>\n",
              "    <tr>\n",
              "      <th>a</th>\n",
              "      <td>0</td>\n",
              "      <td>NaN</td>\n",
              "    </tr>\n",
              "    <tr>\n",
              "      <th>b</th>\n",
              "      <td>1</td>\n",
              "      <td>2.0</td>\n",
              "    </tr>\n",
              "  </tbody>\n",
              "</table>\n",
              "</div>"
            ],
            "text/plain": [
              "   one  one_tr\n",
              "a    0     NaN\n",
              "b    1     2.0"
            ]
          },
          "metadata": {
            "tags": []
          },
          "execution_count": 201
        }
      ]
    },
    {
      "cell_type": "code",
      "metadata": {
        "id": "SWwLouGuY9xo",
        "colab": {
          "base_uri": "https://localhost:8080/",
          "height": 235
        },
        "outputId": "b9eefb3b-1019-4327-f86d-077b9d9acdbb"
      },
      "source": [
        "df3 = pd.concat([df,df2], axis=0)\n",
        "df3"
      ],
      "execution_count": null,
      "outputs": [
        {
          "output_type": "execute_result",
          "data": {
            "text/html": [
              "<div>\n",
              "<style scoped>\n",
              "    .dataframe tbody tr th:only-of-type {\n",
              "        vertical-align: middle;\n",
              "    }\n",
              "\n",
              "    .dataframe tbody tr th {\n",
              "        vertical-align: top;\n",
              "    }\n",
              "\n",
              "    .dataframe thead th {\n",
              "        text-align: right;\n",
              "    }\n",
              "</style>\n",
              "<table border=\"1\" class=\"dataframe\">\n",
              "  <thead>\n",
              "    <tr style=\"text-align: right;\">\n",
              "      <th></th>\n",
              "      <th>one</th>\n",
              "      <th>two</th>\n",
              "      <th>three</th>\n",
              "      <th>flag</th>\n",
              "      <th>one_tr</th>\n",
              "    </tr>\n",
              "  </thead>\n",
              "  <tbody>\n",
              "    <tr>\n",
              "      <th>a</th>\n",
              "      <td>1.0</td>\n",
              "      <td>1.0</td>\n",
              "      <td>1.0</td>\n",
              "      <td>False</td>\n",
              "      <td>1.0</td>\n",
              "    </tr>\n",
              "    <tr>\n",
              "      <th>b</th>\n",
              "      <td>2.0</td>\n",
              "      <td>2.0</td>\n",
              "      <td>4.0</td>\n",
              "      <td>False</td>\n",
              "      <td>2.0</td>\n",
              "    </tr>\n",
              "    <tr>\n",
              "      <th>c</th>\n",
              "      <td>3.0</td>\n",
              "      <td>3.0</td>\n",
              "      <td>9.0</td>\n",
              "      <td>True</td>\n",
              "      <td>NaN</td>\n",
              "    </tr>\n",
              "    <tr>\n",
              "      <th>d</th>\n",
              "      <td>NaN</td>\n",
              "      <td>4.0</td>\n",
              "      <td>NaN</td>\n",
              "      <td>True</td>\n",
              "      <td>NaN</td>\n",
              "    </tr>\n",
              "    <tr>\n",
              "      <th>a</th>\n",
              "      <td>0.0</td>\n",
              "      <td>NaN</td>\n",
              "      <td>NaN</td>\n",
              "      <td>NaN</td>\n",
              "      <td>NaN</td>\n",
              "    </tr>\n",
              "    <tr>\n",
              "      <th>b</th>\n",
              "      <td>1.0</td>\n",
              "      <td>NaN</td>\n",
              "      <td>NaN</td>\n",
              "      <td>NaN</td>\n",
              "      <td>2.0</td>\n",
              "    </tr>\n",
              "  </tbody>\n",
              "</table>\n",
              "</div>"
            ],
            "text/plain": [
              "   one  two  three   flag  one_tr\n",
              "a  1.0  1.0    1.0  False     1.0\n",
              "b  2.0  2.0    4.0  False     2.0\n",
              "c  3.0  3.0    9.0   True     NaN\n",
              "d  NaN  4.0    NaN   True     NaN\n",
              "a  0.0  NaN    NaN    NaN     NaN\n",
              "b  1.0  NaN    NaN    NaN     2.0"
            ]
          },
          "metadata": {
            "tags": []
          },
          "execution_count": 202
        }
      ]
    },
    {
      "cell_type": "markdown",
      "metadata": {
        "id": "euQ-XG97ESr4"
      },
      "source": [
        "# Полезные ссылки и доп материалы\n",
        "\n",
        "Освоить основы каждой библиотеки за 10-15 минут:\n",
        "#### numpy\n",
        "https://docs.scipy.org/doc/numpy/user/quickstart.html\n",
        "#### pandas\n",
        "https://pandas.pydata.org/pandas-docs/stable/getting_started/10min.html\n",
        "\n",
        "#### matplotlib\n",
        "\n",
        "https://matplotlib.org/3.1.1/tutorials/index.html"
      ]
    },
    {
      "cell_type": "markdown",
      "metadata": {
        "id": "DgjE2TBfFGyS"
      },
      "source": [
        "# ДЗ"
      ]
    },
    {
      "cell_type": "code",
      "metadata": {
        "id": "D-Lc19J4WL-3"
      },
      "source": [
        "# загрузим библиотеки\n",
        "import numpy as np\n",
        "import pandas as pd"
      ],
      "execution_count": null,
      "outputs": []
    },
    {
      "cell_type": "markdown",
      "metadata": {
        "id": "ZYcKnimkFRrD"
      },
      "source": [
        "## Задание 1\n",
        "\n",
        "Создайте массив массив из 100 элементов (от 1 до 100), переформатируйте в формат (10 * 10), сделайте слайсинг с шагом 2 по каждой оси."
      ]
    },
    {
      "cell_type": "code",
      "metadata": {
        "id": "wAPfX3erFUqa",
        "colab": {
          "base_uri": "https://localhost:8080/",
          "height": 104
        },
        "outputId": "dc42bf72-220d-4f84-ffb5-d105d44f1eb5"
      },
      "source": [
        ""
      ],
      "execution_count": null,
      "outputs": [
        {
          "output_type": "execute_result",
          "data": {
            "text/plain": [
              "array([[ 1,  3,  5,  7,  9],\n",
              "       [21, 23, 25, 27, 29],\n",
              "       [41, 43, 45, 47, 49],\n",
              "       [61, 63, 65, 67, 69],\n",
              "       [81, 83, 85, 87, 89]])"
            ]
          },
          "metadata": {
            "tags": []
          },
          "execution_count": 76
        }
      ]
    },
    {
      "cell_type": "markdown",
      "metadata": {
        "id": "SrI3heKeV7nP"
      },
      "source": [
        "## Задание 2\n",
        "\n",
        "Написать функцию, которая по заданной длине последовательности находит среднее арифметическое ее членов.\n",
        "\n",
        "Реализуйте задачу с и без помощи numpy, сравните время выполнения"
      ]
    },
    {
      "cell_type": "code",
      "metadata": {
        "id": "2-5-E2pCV_Ot",
        "colab": {
          "base_uri": "https://localhost:8080/",
          "height": 69
        },
        "outputId": "9c37ee36-f0ff-4900-b7ce-1c0afec7ed96"
      },
      "source": [
        "# решение с использованием numpy\n",
        "# для оценки времени исоплнения блока\n",
        "%%time\n",
        "# зададим длину нашей последовательности\n",
        "dlina_posl = 100_000_000\n",
        "\n",
        "# ваш код тут"
      ],
      "execution_count": null,
      "outputs": [
        {
          "output_type": "stream",
          "text": [
            "Среднее арифметическое последовательности 49999999.5\n",
            "CPU times: user 191 ms, sys: 333 ms, total: 524 ms\n",
            "Wall time: 534 ms\n"
          ],
          "name": "stdout"
        }
      ]
    },
    {
      "cell_type": "code",
      "metadata": {
        "id": "9e3X5PEpWBjA",
        "colab": {
          "base_uri": "https://localhost:8080/",
          "height": 69
        },
        "outputId": "5635c941-4985-4620-880d-f134e065d639"
      },
      "source": [
        "# решение без использования numpy\n",
        "# для оценки времени исоплнения блока\n",
        "%%time\n",
        "\n",
        "# ваш код тут"
      ],
      "execution_count": null,
      "outputs": [
        {
          "output_type": "stream",
          "text": [
            "Среднее арифметическое последовательности 49999999.5\n",
            "CPU times: user 10.7 s, sys: 5.2 s, total: 15.9 s\n",
            "Wall time: 16 s\n"
          ],
          "name": "stdout"
        }
      ]
    },
    {
      "cell_type": "markdown",
      "metadata": {
        "id": "rN5yJLU4WF_6"
      },
      "source": [
        ""
      ]
    },
    {
      "cell_type": "markdown",
      "metadata": {
        "id": "aF_IhXzJFWzJ"
      },
      "source": [
        "## Задание 3 *(необязательно)\n",
        "\n",
        "Задан Series объект s, найти индекс первого элемента отсортированного s, где значения больше 5"
      ]
    },
    {
      "cell_type": "code",
      "metadata": {
        "id": "PzrBc2RRFYom",
        "colab": {
          "base_uri": "https://localhost:8080/",
          "height": 35
        },
        "outputId": "46bcc281-6c5d-466f-c099-d0df13b45c4e"
      },
      "source": [
        "# задано изначально\n",
        "r = np.random.RandomState(1)\n",
        "s = pd.Series(r.uniform(0, 10, 100))\n",
        "\n"
      ],
      "execution_count": null,
      "outputs": [
        {
          "output_type": "execute_result",
          "data": {
            "text/plain": [
              "67"
            ]
          },
          "metadata": {
            "tags": []
          },
          "execution_count": 79
        }
      ]
    },
    {
      "cell_type": "markdown",
      "metadata": {
        "id": "lK7mPJPRWcs2"
      },
      "source": [
        "## Задание 4\n",
        "\n",
        "Предположим, что мы наблюдаем за некоторым признаком нашего датасета, но в данных есть пропуски. Ваша задача: реализовать алгоритм заполнения пропущенных значений последним известным с помощью средств python и pandas. (подсказка: вам может помочь функция np.isnan(), которая возвращает True, если число - nan. Для реализации с пандас стоит посмотреть на метод .fillna).\n",
        "\n",
        "Изначальный код с инициализацией такого датасета предоставлен."
      ]
    },
    {
      "cell_type": "code",
      "metadata": {
        "id": "Eu5g1x-hWcA1",
        "colab": {
          "base_uri": "https://localhost:8080/",
          "height": 282
        },
        "outputId": "622e219a-544b-475d-ebe2-0328ae147ad0"
      },
      "source": [
        "# импортируем библиотеку для создания шума\n",
        "import random\n",
        "# библиотека для визуализации\n",
        "import matplotlib.pyplot as plt\n",
        "\n",
        "# создадим наши данные и добавим к каждой точке синусоиды случайный шум\n",
        "a = np.linspace(0, 25, 100)\n",
        "a = np.sin(a) + [random.gauss(0, 0.2) for i in range(len(a))]\n",
        "\n",
        "# создадим 10 случайных пропусков\n",
        "for i in range(10):\n",
        "    a[random.randint(0, len(a) - 1)] = None\n",
        "# создадим датафрейм\n",
        "df = pd.DataFrame({'target':a})\n",
        "\n",
        "# ваш код тут\n",
        "\n",
        "# отобразим\n",
        "plt.plot(df.target.values)"
      ],
      "execution_count": null,
      "outputs": [
        {
          "output_type": "execute_result",
          "data": {
            "text/plain": [
              "[<matplotlib.lines.Line2D at 0x7f317af7a160>]"
            ]
          },
          "metadata": {
            "tags": []
          },
          "execution_count": 5
        },
        {
          "output_type": "display_data",
          "data": {
            "image/png": "[encoded data removed]",
            "text/plain": [
              "<Figure size 432x288 with 1 Axes>"
            ]
          },
          "metadata": {
            "tags": []
          }
        }
      ]
    },
    {
      "cell_type": "markdown",
      "metadata": {
        "id": "5gYj1TeyW9Aq"
      },
      "source": [
        "## Задание 5 *(необязательно)\n",
        "\n",
        "Имеется небольшой игрушечный датафрейм, в котором необходимо провести несколько типов фильтраций (ответы ищите в решениях) и отобразить результат:\n",
        "\n",
        "* всех, кто старше 40\n",
        "* всех, кто имеет доход выше среднего по датасету\n",
        "* всех, кто имеет доход выше среднего по датасету, но надежность ниже среднего по датасету\n",
        "\n",
        "создать новые столбцы:\n",
        "\n",
        "* важность клиента = доход * надежность\n",
        "* возможная долгосрочность клиента = важность клиента * (средний возраст по датасету - возраст клиента)\n",
        "\n",
        "`подсказка: двойные условия записываются так: (условие 1) & (условие 2)`\n",
        "\n",
        "\n",
        "** примечание: столбцы не имеют отношения к реальным формулам или моделям, они необходимы только для наглядности"
      ]
    },
    {
      "cell_type": "code",
      "metadata": {
        "id": "vHvedF6tXAWF",
        "colab": {
          "base_uri": "https://localhost:8080/",
          "height": 171
        },
        "outputId": "f65d673f-77af-44bf-e4cd-72a8b96f24c9"
      },
      "source": [
        "# создадим тестовый датасет\n",
        "df = pd.DataFrame({\n",
        "    'имя': ['Петя', 'Вася', 'Аня', 'Света'],\n",
        "    'возраст': [45, 26, 41 , 21],\n",
        "    'доход': [100000, 80000, 150000, 60000],\n",
        "    'надежность клиента (0..1)': [0.65, 0.74, 0.87, 0.68],\n",
        "    'пол': ['муж', 'муж', 'жен', 'жен']},\n",
        "    index=[0, 1, 2, 3])\n",
        "\n",
        "# ваш код тут\n"
      ],
      "execution_count": null,
      "outputs": [
        {
          "output_type": "execute_result",
          "data": {
            "text/html": [
              "<div>\n",
              "<style scoped>\n",
              "    .dataframe tbody tr th:only-of-type {\n",
              "        vertical-align: middle;\n",
              "    }\n",
              "\n",
              "    .dataframe tbody tr th {\n",
              "        vertical-align: top;\n",
              "    }\n",
              "\n",
              "    .dataframe thead th {\n",
              "        text-align: right;\n",
              "    }\n",
              "</style>\n",
              "<table border=\"1\" class=\"dataframe\">\n",
              "  <thead>\n",
              "    <tr style=\"text-align: right;\">\n",
              "      <th></th>\n",
              "      <th>имя</th>\n",
              "      <th>возраст</th>\n",
              "      <th>доход</th>\n",
              "      <th>надежность клиента (0..1)</th>\n",
              "      <th>пол</th>\n",
              "    </tr>\n",
              "  </thead>\n",
              "  <tbody>\n",
              "    <tr>\n",
              "      <th>0</th>\n",
              "      <td>Петя</td>\n",
              "      <td>45</td>\n",
              "      <td>100000</td>\n",
              "      <td>0.65</td>\n",
              "      <td>муж</td>\n",
              "    </tr>\n",
              "    <tr>\n",
              "      <th>1</th>\n",
              "      <td>Вася</td>\n",
              "      <td>26</td>\n",
              "      <td>80000</td>\n",
              "      <td>0.74</td>\n",
              "      <td>муж</td>\n",
              "    </tr>\n",
              "    <tr>\n",
              "      <th>2</th>\n",
              "      <td>Аня</td>\n",
              "      <td>41</td>\n",
              "      <td>150000</td>\n",
              "      <td>0.87</td>\n",
              "      <td>жен</td>\n",
              "    </tr>\n",
              "    <tr>\n",
              "      <th>3</th>\n",
              "      <td>Света</td>\n",
              "      <td>21</td>\n",
              "      <td>60000</td>\n",
              "      <td>0.68</td>\n",
              "      <td>жен</td>\n",
              "    </tr>\n",
              "  </tbody>\n",
              "</table>\n",
              "</div>"
            ],
            "text/plain": [
              "     имя  возраст   доход  надежность клиента (0..1)  пол\n",
              "0   Петя       45  100000                       0.65  муж\n",
              "1   Вася       26   80000                       0.74  муж\n",
              "2    Аня       41  150000                       0.87  жен\n",
              "3  Света       21   60000                       0.68  жен"
            ]
          },
          "metadata": {
            "tags": []
          },
          "execution_count": 6
        }
      ]
    }
  ]
}